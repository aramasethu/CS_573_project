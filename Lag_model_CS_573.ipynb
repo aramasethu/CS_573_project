{
  "nbformat": 4,
  "nbformat_minor": 0,
  "metadata": {
    "colab": {
      "name": "Lag_model_CS_573.ipynb",
      "provenance": [],
      "collapsed_sections": [
        "8U350WdhsMJ9",
        "m84JFL9FX9pP"
      ],
      "include_colab_link": true
    },
    "kernelspec": {
      "name": "python3",
      "display_name": "Python 3"
    },
    "language_info": {
      "name": "python"
    }
  },
  "cells": [
    {
      "cell_type": "markdown",
      "metadata": {
        "id": "view-in-github",
        "colab_type": "text"
      },
      "source": [
        "<a href=\"https://colab.research.google.com/github/aramasethu/CS_573_project/blob/main/Lag_model_CS_573.ipynb\" target=\"_parent\"><img src=\"https://colab.research.google.com/assets/colab-badge.svg\" alt=\"Open In Colab\"/></a>"
      ]
    },
    {
      "cell_type": "markdown",
      "source": [
        "## Mounting google drive"
      ],
      "metadata": {
        "id": "Vii_9x1-r8_3"
      }
    },
    {
      "cell_type": "code",
      "source": [
        "import pandas as pd\n",
        "import numpy as np\n",
        "from matplotlib import pyplot as plt"
      ],
      "metadata": {
        "id": "oYKymfFysBYM"
      },
      "execution_count": null,
      "outputs": []
    },
    {
      "cell_type": "code",
      "source": [
        "from google.colab import drive\n",
        "drive.mount('/content/drive')"
      ],
      "metadata": {
        "colab": {
          "base_uri": "https://localhost:8080/"
        },
        "id": "z45HXL30sGFi",
        "outputId": "1d370708-ab2b-488a-dde6-1aa6eb292233"
      },
      "execution_count": null,
      "outputs": [
        {
          "output_type": "stream",
          "name": "stdout",
          "text": [
            "Mounted at /content/drive\n"
          ]
        }
      ]
    },
    {
      "cell_type": "markdown",
      "source": [
        "## Mobility data"
      ],
      "metadata": {
        "id": "NsyztHaEsZ3i"
      }
    },
    {
      "cell_type": "code",
      "source": [
        "mobility = pd.read_csv (r'/content/drive/MyDrive/CS_573_Group_project/Data/Global_Mobility_Report.csv')"
      ],
      "metadata": {
        "colab": {
          "base_uri": "https://localhost:8080/"
        },
        "id": "iA4uDmmAsIrx",
        "outputId": "b8298f22-29a8-4bdb-99f8-0f95f02aa851"
      },
      "execution_count": null,
      "outputs": [
        {
          "output_type": "stream",
          "name": "stderr",
          "text": [
            "/usr/local/lib/python3.7/dist-packages/IPython/core/interactiveshell.py:2882: DtypeWarning: Columns (3,4,5) have mixed types.Specify dtype option on import or set low_memory=False.\n",
            "  exec(code_obj, self.user_global_ns, self.user_ns)\n"
          ]
        }
      ]
    },
    {
      "cell_type": "code",
      "source": [
        "mobility_country1 = mobility[mobility['sub_region_1'].isna()]\n",
        "mobility_country = mobility_country1[mobility_country1['metro_area'].isna()]"
      ],
      "metadata": {
        "id": "RUdKB5X4sLGC"
      },
      "execution_count": null,
      "outputs": []
    },
    {
      "cell_type": "code",
      "source": [
        "mobility_country = mobility_country.drop(columns=['country_region_code','sub_region_1', 'sub_region_2','metro_area', 'iso_3166_2_code','census_fips_code','place_id'])"
      ],
      "metadata": {
        "id": "FTVbyNetsNF6"
      },
      "execution_count": null,
      "outputs": []
    },
    {
      "cell_type": "code",
      "source": [
        "mobility_country['date'] = mobility_country['date'].astype('datetime64[ns]')"
      ],
      "metadata": {
        "id": "-zLNe_hXsPWX"
      },
      "execution_count": null,
      "outputs": []
    },
    {
      "cell_type": "code",
      "source": [
        "mobility_country = mobility_country.rename(columns={ 'country_region': 'country'})"
      ],
      "metadata": {
        "id": "-AkM2piisVNT"
      },
      "execution_count": null,
      "outputs": []
    },
    {
      "cell_type": "markdown",
      "source": [
        "## Vaccination data loading"
      ],
      "metadata": {
        "id": "L41IPJ_0sd3S"
      }
    },
    {
      "cell_type": "code",
      "source": [
        "vec_cases = pd.read_csv(r'/content/drive/MyDrive/CS_573_Group_project/Data/owid-covid-data.csv')"
      ],
      "metadata": {
        "id": "Q6AXhfT1sf94"
      },
      "execution_count": null,
      "outputs": []
    },
    {
      "cell_type": "code",
      "source": [
        "vec_cases_scraped = vec_cases[['location', 'date', 'total_cases', 'total_deaths', 'population',\n",
        "                              'new_vaccinations_smoothed', 'new_people_vaccinated_smoothed']]"
      ],
      "metadata": {
        "id": "Uw6yG2WSsjS6"
      },
      "execution_count": null,
      "outputs": []
    },
    {
      "cell_type": "code",
      "source": [
        "vec_cases_new = vec_cases_scraped.copy()"
      ],
      "metadata": {
        "id": "KiVesiOas0Zn"
      },
      "execution_count": null,
      "outputs": []
    },
    {
      "cell_type": "code",
      "source": [
        "vec_cases_new['total_cases'] = vec_cases_new['total_cases'].replace(np.nan, 0)\n",
        "vec_cases_new['total_deaths'] = vec_cases_new['total_deaths'].replace(np.nan, 0)\n",
        "vec_cases_new['new_vaccinations_smoothed'] = vec_cases_new['new_vaccinations_smoothed'].replace(np.nan, 0)\n",
        "vec_cases_new['new_people_vaccinated_smoothed'] = vec_cases_new['new_people_vaccinated_smoothed'].replace(np.nan, 0)"
      ],
      "metadata": {
        "id": "cpahdFjbsm9u"
      },
      "execution_count": null,
      "outputs": []
    },
    {
      "cell_type": "code",
      "source": [
        "\n",
        "vec_cases_new['date'] = pd.to_datetime(vec_cases_new['date']).dt.strftime('%Y/%m/%d')"
      ],
      "metadata": {
        "id": "6q2e6TD9tkyr"
      },
      "execution_count": null,
      "outputs": []
    },
    {
      "cell_type": "code",
      "source": [
        "vec_cases_new = vec_cases_new.rename(columns={'location': 'country'})"
      ],
      "metadata": {
        "id": "NsHXTYeowc1F"
      },
      "execution_count": null,
      "outputs": []
    },
    {
      "cell_type": "code",
      "source": [
        "vec_cases_new['date'] = vec_cases_new['date'].astype('datetime64[ns]')"
      ],
      "metadata": {
        "id": "iz3WoBUcwhF5"
      },
      "execution_count": null,
      "outputs": []
    },
    {
      "cell_type": "markdown",
      "source": [
        "## Lockdown data"
      ],
      "metadata": {
        "id": "OPFy3QLpwkRY"
      }
    },
    {
      "cell_type": "code",
      "source": [
        "lockdown = pd.read_excel (r'/content/drive/MyDrive/CS_573_Group_project/Data/OxCGRT_timeseries_all.xlsx')"
      ],
      "metadata": {
        "id": "X9cfkVjgwmH7"
      },
      "execution_count": null,
      "outputs": []
    },
    {
      "cell_type": "code",
      "source": [
        "lockdown_new = lockdown.drop(columns={\"country_name\",\"country_code\"})\n",
        "lockdown_new.columns = pd.to_datetime(lockdown_new.columns)"
      ],
      "metadata": {
        "id": "ZkGf02eow4S-"
      },
      "execution_count": null,
      "outputs": []
    },
    {
      "cell_type": "code",
      "source": [
        "lockdown_input = pd.DataFrame(columns=[\"country_name\",\"lockdown_index\",\"date\"])\n",
        "for i in range(lockdown_new.shape[1]):\n",
        "  country = lockdown[{\"country_name\"}]\n",
        "  index = lockdown_new.iloc[:,i]\n",
        "  index_con = pd.concat([country,index], axis=1, ignore_index=True)\n",
        "  index_con[\"date\"] = index.name\n",
        "  index_con = index_con.rename(columns={0: 'country_name',  1: 'lockdown_index'})\n",
        "  lockdown_input = pd.concat([lockdown_input,index_con],ignore_index=True)"
      ],
      "metadata": {
        "id": "ZA2YQSFPw6Dg"
      },
      "execution_count": null,
      "outputs": []
    },
    {
      "cell_type": "code",
      "source": [
        "lockdown_input = lockdown_input.sort_values('country_name',ascending=True)"
      ],
      "metadata": {
        "id": "SKzdhKOGw71r"
      },
      "execution_count": null,
      "outputs": []
    },
    {
      "cell_type": "code",
      "source": [
        "lockdown_input = lockdown_input.rename(columns={\"country_name\":\"country\"})"
      ],
      "metadata": {
        "id": "JkccBzVew9Rw"
      },
      "execution_count": null,
      "outputs": []
    },
    {
      "cell_type": "markdown",
      "source": [
        "## Merge all datasets"
      ],
      "metadata": {
        "id": "fUId34P0xNAY"
      }
    },
    {
      "cell_type": "code",
      "source": [
        "df_merged1 = vec_cases_new.merge(mobility_country, on=['country', 'date'])"
      ],
      "metadata": {
        "id": "Deh1go8DxO1Z"
      },
      "execution_count": null,
      "outputs": []
    },
    {
      "cell_type": "code",
      "source": [
        "df_merged1.shape"
      ],
      "metadata": {
        "colab": {
          "base_uri": "https://localhost:8080/"
        },
        "id": "HI1GUwaSxhbd",
        "outputId": "76caea1a-9d77-414f-80fa-67ce0db9c747"
      },
      "execution_count": null,
      "outputs": [
        {
          "output_type": "execute_result",
          "data": {
            "text/plain": [
              "(97134, 13)"
            ]
          },
          "metadata": {},
          "execution_count": 21
        }
      ]
    },
    {
      "cell_type": "code",
      "source": [
        "df_merged = df_merged1.merge(lockdown_input, on=['country', 'date'])"
      ],
      "metadata": {
        "id": "gmGaY3qIxYD8"
      },
      "execution_count": null,
      "outputs": []
    },
    {
      "cell_type": "code",
      "source": [
        "df_merged['weekday'] = df_merged['date'].dt.dayofweek"
      ],
      "metadata": {
        "id": "dDYOigp5xkq4"
      },
      "execution_count": null,
      "outputs": []
    },
    {
      "cell_type": "code",
      "source": [
        "# cases\n",
        "df_merged = df_merged.sort_values(by=['country', 'date'])\n",
        "df_merged['new_cases_raw']=df_merged.groupby(['country'])['total_cases'].diff().fillna(0)\n",
        "df_merged['cases_ppm'] = (df_merged['new_cases_raw'] / df_merged['population'])*1000000\n",
        "\n",
        "# deaths\n",
        "df_merged['new_deaths_raw']=df_merged.groupby(['country'])['total_deaths'].diff().fillna(0)\n",
        "df_merged['deaths_ppm'] = (df_merged['new_deaths_raw'] / df_merged['population'])*1000000\n",
        "\n",
        "# vaccination cumulative\n",
        "df_merged['total_vaccinations'] = df_merged.groupby(['country'])['new_people_vaccinated_smoothed'].cumsum()\n"
      ],
      "metadata": {
        "id": "RoQTQKTRhuVg"
      },
      "execution_count": null,
      "outputs": []
    },
    {
      "cell_type": "code",
      "source": [
        "df_merged = df_merged.dropna()"
      ],
      "metadata": {
        "id": "e44vsQxwZXsa"
      },
      "execution_count": null,
      "outputs": []
    },
    {
      "cell_type": "code",
      "source": [
        "df_merged_US = df_merged.query(\"country == 'United States'\")"
      ],
      "metadata": {
        "id": "pSYcbuc9sLNm"
      },
      "execution_count": null,
      "outputs": []
    },
    {
      "cell_type": "code",
      "source": [
        "df_merged_US.head()"
      ],
      "metadata": {
        "id": "mAEjiFvcxB8O",
        "outputId": "4d159e49-7832-4a13-b927-8855a6876146",
        "colab": {
          "base_uri": "https://localhost:8080/",
          "height": 357
        }
      },
      "execution_count": null,
      "outputs": [
        {
          "output_type": "execute_result",
          "data": {
            "text/plain": [
              "             country       date  total_cases  total_deaths   population  \\\n",
              "87540  United States 2020-02-15         14.0           0.0  332915074.0   \n",
              "87541  United States 2020-02-16         14.0           0.0  332915074.0   \n",
              "87542  United States 2020-02-17         14.0           0.0  332915074.0   \n",
              "87543  United States 2020-02-18         14.0           0.0  332915074.0   \n",
              "87544  United States 2020-02-19         14.0           0.0  332915074.0   \n",
              "\n",
              "       new_vaccinations_smoothed  new_people_vaccinated_smoothed  \\\n",
              "87540                        0.0                             0.0   \n",
              "87541                        0.0                             0.0   \n",
              "87542                        0.0                             0.0   \n",
              "87543                        0.0                             0.0   \n",
              "87544                        0.0                             0.0   \n",
              "\n",
              "       retail_and_recreation_percent_change_from_baseline  \\\n",
              "87540                                                6.0    \n",
              "87541                                                7.0    \n",
              "87542                                                6.0    \n",
              "87543                                                0.0    \n",
              "87544                                                2.0    \n",
              "\n",
              "       grocery_and_pharmacy_percent_change_from_baseline  \\\n",
              "87540                                                2.0   \n",
              "87541                                                1.0   \n",
              "87542                                                0.0   \n",
              "87543                                               -1.0   \n",
              "87544                                                0.0   \n",
              "\n",
              "       parks_percent_change_from_baseline  \\\n",
              "87540                                15.0   \n",
              "87541                                16.0   \n",
              "87542                                28.0   \n",
              "87543                                 6.0   \n",
              "87544                                 8.0   \n",
              "\n",
              "       transit_stations_percent_change_from_baseline  \\\n",
              "87540                                            3.0   \n",
              "87541                                            2.0   \n",
              "87542                                           -9.0   \n",
              "87543                                            1.0   \n",
              "87544                                            1.0   \n",
              "\n",
              "       workplaces_percent_change_from_baseline  \\\n",
              "87540                                      2.0   \n",
              "87541                                      0.0   \n",
              "87542                                    -24.0   \n",
              "87543                                      0.0   \n",
              "87544                                      1.0   \n",
              "\n",
              "       residential_percent_change_from_baseline  lockdown_index  weekday  \\\n",
              "87540                                      -1.0            5.56        5   \n",
              "87541                                      -1.0            5.56        6   \n",
              "87542                                       5.0            5.56        0   \n",
              "87543                                       1.0            5.56        1   \n",
              "87544                                       0.0            5.56        2   \n",
              "\n",
              "       new_cases_raw  cases_ppm  new_deaths_raw  deaths_ppm  \\\n",
              "87540            0.0        0.0             0.0         0.0   \n",
              "87541            0.0        0.0             0.0         0.0   \n",
              "87542            0.0        0.0             0.0         0.0   \n",
              "87543            0.0        0.0             0.0         0.0   \n",
              "87544            0.0        0.0             0.0         0.0   \n",
              "\n",
              "       total_vaccinations  \n",
              "87540                 0.0  \n",
              "87541                 0.0  \n",
              "87542                 0.0  \n",
              "87543                 0.0  \n",
              "87544                 0.0  "
            ],
            "text/html": [
              "\n",
              "  <div id=\"df-435497a9-c909-4fbc-b45f-0393f06526db\">\n",
              "    <div class=\"colab-df-container\">\n",
              "      <div>\n",
              "<style scoped>\n",
              "    .dataframe tbody tr th:only-of-type {\n",
              "        vertical-align: middle;\n",
              "    }\n",
              "\n",
              "    .dataframe tbody tr th {\n",
              "        vertical-align: top;\n",
              "    }\n",
              "\n",
              "    .dataframe thead th {\n",
              "        text-align: right;\n",
              "    }\n",
              "</style>\n",
              "<table border=\"1\" class=\"dataframe\">\n",
              "  <thead>\n",
              "    <tr style=\"text-align: right;\">\n",
              "      <th></th>\n",
              "      <th>country</th>\n",
              "      <th>date</th>\n",
              "      <th>total_cases</th>\n",
              "      <th>total_deaths</th>\n",
              "      <th>population</th>\n",
              "      <th>new_vaccinations_smoothed</th>\n",
              "      <th>new_people_vaccinated_smoothed</th>\n",
              "      <th>retail_and_recreation_percent_change_from_baseline</th>\n",
              "      <th>grocery_and_pharmacy_percent_change_from_baseline</th>\n",
              "      <th>parks_percent_change_from_baseline</th>\n",
              "      <th>transit_stations_percent_change_from_baseline</th>\n",
              "      <th>workplaces_percent_change_from_baseline</th>\n",
              "      <th>residential_percent_change_from_baseline</th>\n",
              "      <th>lockdown_index</th>\n",
              "      <th>weekday</th>\n",
              "      <th>new_cases_raw</th>\n",
              "      <th>cases_ppm</th>\n",
              "      <th>new_deaths_raw</th>\n",
              "      <th>deaths_ppm</th>\n",
              "      <th>total_vaccinations</th>\n",
              "    </tr>\n",
              "  </thead>\n",
              "  <tbody>\n",
              "    <tr>\n",
              "      <th>87540</th>\n",
              "      <td>United States</td>\n",
              "      <td>2020-02-15</td>\n",
              "      <td>14.0</td>\n",
              "      <td>0.0</td>\n",
              "      <td>332915074.0</td>\n",
              "      <td>0.0</td>\n",
              "      <td>0.0</td>\n",
              "      <td>6.0</td>\n",
              "      <td>2.0</td>\n",
              "      <td>15.0</td>\n",
              "      <td>3.0</td>\n",
              "      <td>2.0</td>\n",
              "      <td>-1.0</td>\n",
              "      <td>5.56</td>\n",
              "      <td>5</td>\n",
              "      <td>0.0</td>\n",
              "      <td>0.0</td>\n",
              "      <td>0.0</td>\n",
              "      <td>0.0</td>\n",
              "      <td>0.0</td>\n",
              "    </tr>\n",
              "    <tr>\n",
              "      <th>87541</th>\n",
              "      <td>United States</td>\n",
              "      <td>2020-02-16</td>\n",
              "      <td>14.0</td>\n",
              "      <td>0.0</td>\n",
              "      <td>332915074.0</td>\n",
              "      <td>0.0</td>\n",
              "      <td>0.0</td>\n",
              "      <td>7.0</td>\n",
              "      <td>1.0</td>\n",
              "      <td>16.0</td>\n",
              "      <td>2.0</td>\n",
              "      <td>0.0</td>\n",
              "      <td>-1.0</td>\n",
              "      <td>5.56</td>\n",
              "      <td>6</td>\n",
              "      <td>0.0</td>\n",
              "      <td>0.0</td>\n",
              "      <td>0.0</td>\n",
              "      <td>0.0</td>\n",
              "      <td>0.0</td>\n",
              "    </tr>\n",
              "    <tr>\n",
              "      <th>87542</th>\n",
              "      <td>United States</td>\n",
              "      <td>2020-02-17</td>\n",
              "      <td>14.0</td>\n",
              "      <td>0.0</td>\n",
              "      <td>332915074.0</td>\n",
              "      <td>0.0</td>\n",
              "      <td>0.0</td>\n",
              "      <td>6.0</td>\n",
              "      <td>0.0</td>\n",
              "      <td>28.0</td>\n",
              "      <td>-9.0</td>\n",
              "      <td>-24.0</td>\n",
              "      <td>5.0</td>\n",
              "      <td>5.56</td>\n",
              "      <td>0</td>\n",
              "      <td>0.0</td>\n",
              "      <td>0.0</td>\n",
              "      <td>0.0</td>\n",
              "      <td>0.0</td>\n",
              "      <td>0.0</td>\n",
              "    </tr>\n",
              "    <tr>\n",
              "      <th>87543</th>\n",
              "      <td>United States</td>\n",
              "      <td>2020-02-18</td>\n",
              "      <td>14.0</td>\n",
              "      <td>0.0</td>\n",
              "      <td>332915074.0</td>\n",
              "      <td>0.0</td>\n",
              "      <td>0.0</td>\n",
              "      <td>0.0</td>\n",
              "      <td>-1.0</td>\n",
              "      <td>6.0</td>\n",
              "      <td>1.0</td>\n",
              "      <td>0.0</td>\n",
              "      <td>1.0</td>\n",
              "      <td>5.56</td>\n",
              "      <td>1</td>\n",
              "      <td>0.0</td>\n",
              "      <td>0.0</td>\n",
              "      <td>0.0</td>\n",
              "      <td>0.0</td>\n",
              "      <td>0.0</td>\n",
              "    </tr>\n",
              "    <tr>\n",
              "      <th>87544</th>\n",
              "      <td>United States</td>\n",
              "      <td>2020-02-19</td>\n",
              "      <td>14.0</td>\n",
              "      <td>0.0</td>\n",
              "      <td>332915074.0</td>\n",
              "      <td>0.0</td>\n",
              "      <td>0.0</td>\n",
              "      <td>2.0</td>\n",
              "      <td>0.0</td>\n",
              "      <td>8.0</td>\n",
              "      <td>1.0</td>\n",
              "      <td>1.0</td>\n",
              "      <td>0.0</td>\n",
              "      <td>5.56</td>\n",
              "      <td>2</td>\n",
              "      <td>0.0</td>\n",
              "      <td>0.0</td>\n",
              "      <td>0.0</td>\n",
              "      <td>0.0</td>\n",
              "      <td>0.0</td>\n",
              "    </tr>\n",
              "  </tbody>\n",
              "</table>\n",
              "</div>\n",
              "      <button class=\"colab-df-convert\" onclick=\"convertToInteractive('df-435497a9-c909-4fbc-b45f-0393f06526db')\"\n",
              "              title=\"Convert this dataframe to an interactive table.\"\n",
              "              style=\"display:none;\">\n",
              "        \n",
              "  <svg xmlns=\"http://www.w3.org/2000/svg\" height=\"24px\"viewBox=\"0 0 24 24\"\n",
              "       width=\"24px\">\n",
              "    <path d=\"M0 0h24v24H0V0z\" fill=\"none\"/>\n",
              "    <path d=\"M18.56 5.44l.94 2.06.94-2.06 2.06-.94-2.06-.94-.94-2.06-.94 2.06-2.06.94zm-11 1L8.5 8.5l.94-2.06 2.06-.94-2.06-.94L8.5 2.5l-.94 2.06-2.06.94zm10 10l.94 2.06.94-2.06 2.06-.94-2.06-.94-.94-2.06-.94 2.06-2.06.94z\"/><path d=\"M17.41 7.96l-1.37-1.37c-.4-.4-.92-.59-1.43-.59-.52 0-1.04.2-1.43.59L10.3 9.45l-7.72 7.72c-.78.78-.78 2.05 0 2.83L4 21.41c.39.39.9.59 1.41.59.51 0 1.02-.2 1.41-.59l7.78-7.78 2.81-2.81c.8-.78.8-2.07 0-2.86zM5.41 20L4 18.59l7.72-7.72 1.47 1.35L5.41 20z\"/>\n",
              "  </svg>\n",
              "      </button>\n",
              "      \n",
              "  <style>\n",
              "    .colab-df-container {\n",
              "      display:flex;\n",
              "      flex-wrap:wrap;\n",
              "      gap: 12px;\n",
              "    }\n",
              "\n",
              "    .colab-df-convert {\n",
              "      background-color: #E8F0FE;\n",
              "      border: none;\n",
              "      border-radius: 50%;\n",
              "      cursor: pointer;\n",
              "      display: none;\n",
              "      fill: #1967D2;\n",
              "      height: 32px;\n",
              "      padding: 0 0 0 0;\n",
              "      width: 32px;\n",
              "    }\n",
              "\n",
              "    .colab-df-convert:hover {\n",
              "      background-color: #E2EBFA;\n",
              "      box-shadow: 0px 1px 2px rgba(60, 64, 67, 0.3), 0px 1px 3px 1px rgba(60, 64, 67, 0.15);\n",
              "      fill: #174EA6;\n",
              "    }\n",
              "\n",
              "    [theme=dark] .colab-df-convert {\n",
              "      background-color: #3B4455;\n",
              "      fill: #D2E3FC;\n",
              "    }\n",
              "\n",
              "    [theme=dark] .colab-df-convert:hover {\n",
              "      background-color: #434B5C;\n",
              "      box-shadow: 0px 1px 3px 1px rgba(0, 0, 0, 0.15);\n",
              "      filter: drop-shadow(0px 1px 2px rgba(0, 0, 0, 0.3));\n",
              "      fill: #FFFFFF;\n",
              "    }\n",
              "  </style>\n",
              "\n",
              "      <script>\n",
              "        const buttonEl =\n",
              "          document.querySelector('#df-435497a9-c909-4fbc-b45f-0393f06526db button.colab-df-convert');\n",
              "        buttonEl.style.display =\n",
              "          google.colab.kernel.accessAllowed ? 'block' : 'none';\n",
              "\n",
              "        async function convertToInteractive(key) {\n",
              "          const element = document.querySelector('#df-435497a9-c909-4fbc-b45f-0393f06526db');\n",
              "          const dataTable =\n",
              "            await google.colab.kernel.invokeFunction('convertToInteractive',\n",
              "                                                     [key], {});\n",
              "          if (!dataTable) return;\n",
              "\n",
              "          const docLinkHtml = 'Like what you see? Visit the ' +\n",
              "            '<a target=\"_blank\" href=https://colab.research.google.com/notebooks/data_table.ipynb>data table notebook</a>'\n",
              "            + ' to learn more about interactive tables.';\n",
              "          element.innerHTML = '';\n",
              "          dataTable['output_type'] = 'display_data';\n",
              "          await google.colab.output.renderOutput(dataTable, element);\n",
              "          const docLink = document.createElement('div');\n",
              "          docLink.innerHTML = docLinkHtml;\n",
              "          element.appendChild(docLink);\n",
              "        }\n",
              "      </script>\n",
              "    </div>\n",
              "  </div>\n",
              "  "
            ]
          },
          "metadata": {},
          "execution_count": 38
        }
      ]
    },
    {
      "cell_type": "markdown",
      "source": [
        "### Lag model"
      ],
      "metadata": {
        "id": "8U350WdhsMJ9"
      }
    },
    {
      "cell_type": "code",
      "source": [
        "from statsmodels.tsa.stattools import grangercausalitytests\n",
        "import statsmodels as sm"
      ],
      "metadata": {
        "id": "ashtoY9esOlT"
      },
      "execution_count": 113,
      "outputs": []
    },
    {
      "cell_type": "code",
      "source": [
        "sm.__version__"
      ],
      "metadata": {
        "id": "zB_jQxbwxyoV",
        "outputId": "8b523733-f0b0-46e1-cd68-d59cb431ca16",
        "colab": {
          "base_uri": "https://localhost:8080/",
          "height": 35
        }
      },
      "execution_count": 115,
      "outputs": [
        {
          "output_type": "execute_result",
          "data": {
            "text/plain": [
              "'0.10.2'"
            ],
            "application/vnd.google.colaboratory.intrinsic+json": {
              "type": "string"
            }
          },
          "metadata": {},
          "execution_count": 115
        }
      ]
    },
    {
      "cell_type": "code",
      "source": [
        "df_merged_US.dtypes"
      ],
      "metadata": {
        "id": "2iedmzwfxqss",
        "outputId": "9d7abead-1aa8-44dd-c61f-39113ea8f8e9",
        "colab": {
          "base_uri": "https://localhost:8080/"
        }
      },
      "execution_count": null,
      "outputs": [
        {
          "output_type": "execute_result",
          "data": {
            "text/plain": [
              "country                                                       object\n",
              "date                                                  datetime64[ns]\n",
              "total_cases                                                  float64\n",
              "total_deaths                                                 float64\n",
              "population                                                   float64\n",
              "new_vaccinations_smoothed                                    float64\n",
              "new_people_vaccinated_smoothed                               float64\n",
              "retail_and_recreation_percent_change_from_baseline           float64\n",
              "grocery_and_pharmacy_percent_change_from_baseline            float64\n",
              "parks_percent_change_from_baseline                           float64\n",
              "transit_stations_percent_change_from_baseline                float64\n",
              "workplaces_percent_change_from_baseline                      float64\n",
              "residential_percent_change_from_baseline                     float64\n",
              "lockdown_index                                               float64\n",
              "weekday                                                        int64\n",
              "new_cases_raw                                                float64\n",
              "cases_ppm                                                    float64\n",
              "new_deaths_raw                                               float64\n",
              "deaths_ppm                                                   float64\n",
              "total_vaccinations                                           float64\n",
              "dtype: object"
            ]
          },
          "metadata": {},
          "execution_count": 54
        }
      ]
    },
    {
      "cell_type": "code",
      "source": [
        "gc_res = sm.tsa.stattools.grangercausalitytests(df_merged_US[['total_cases', 'workplaces_percent_change_from_baseline']],maxlag=10)"
      ],
      "metadata": {
        "id": "cCZ34CY9thoL",
        "outputId": "aa8d8bed-9396-4902-f7d4-8bb2b176c0b0",
        "colab": {
          "base_uri": "https://localhost:8080/"
        }
      },
      "execution_count": null,
      "outputs": [
        {
          "output_type": "stream",
          "name": "stdout",
          "text": [
            "\n",
            "Granger Causality\n",
            "number of lags (no zero) 1\n",
            "ssr based F test:         F=16.0999 , p=0.0001  , df_denom=761, df_num=1\n",
            "ssr based chi2 test:   chi2=16.1634 , p=0.0001  , df=1\n",
            "likelihood ratio test: chi2=15.9948 , p=0.0001  , df=1\n",
            "parameter F test:         F=16.0999 , p=0.0001  , df_denom=761, df_num=1\n",
            "\n",
            "Granger Causality\n",
            "number of lags (no zero) 2\n",
            "ssr based F test:         F=0.1207  , p=0.8864  , df_denom=758, df_num=2\n",
            "ssr based chi2 test:   chi2=0.2429  , p=0.8856  , df=2\n",
            "likelihood ratio test: chi2=0.2429  , p=0.8856  , df=2\n",
            "parameter F test:         F=0.1207  , p=0.8864  , df_denom=758, df_num=2\n",
            "\n",
            "Granger Causality\n",
            "number of lags (no zero) 3\n",
            "ssr based F test:         F=4.2027  , p=0.0058  , df_denom=755, df_num=3\n",
            "ssr based chi2 test:   chi2=12.7250 , p=0.0053  , df=3\n",
            "likelihood ratio test: chi2=12.6199 , p=0.0055  , df=3\n",
            "parameter F test:         F=4.2027  , p=0.0058  , df_denom=755, df_num=3\n",
            "\n",
            "Granger Causality\n",
            "number of lags (no zero) 4\n",
            "ssr based F test:         F=1.3513  , p=0.2493  , df_denom=752, df_num=4\n",
            "ssr based chi2 test:   chi2=5.4697  , p=0.2424  , df=4\n",
            "likelihood ratio test: chi2=5.4502  , p=0.2441  , df=4\n",
            "parameter F test:         F=1.3513  , p=0.2493  , df_denom=752, df_num=4\n",
            "\n",
            "Granger Causality\n",
            "number of lags (no zero) 5\n",
            "ssr based F test:         F=1.0804  , p=0.3698  , df_denom=749, df_num=5\n",
            "ssr based chi2 test:   chi2=5.4813  , p=0.3600  , df=5\n",
            "likelihood ratio test: chi2=5.4616  , p=0.3622  , df=5\n",
            "parameter F test:         F=1.0804  , p=0.3698  , df_denom=749, df_num=5\n",
            "\n",
            "Granger Causality\n",
            "number of lags (no zero) 6\n",
            "ssr based F test:         F=4.2790  , p=0.0003  , df_denom=746, df_num=6\n",
            "ssr based chi2 test:   chi2=26.1212 , p=0.0002  , df=6\n",
            "likelihood ratio test: chi2=25.6818 , p=0.0003  , df=6\n",
            "parameter F test:         F=4.2790  , p=0.0003  , df_denom=746, df_num=6\n",
            "\n",
            "Granger Causality\n",
            "number of lags (no zero) 7\n",
            "ssr based F test:         F=6.4351  , p=0.0000  , df_denom=743, df_num=7\n",
            "ssr based chi2 test:   chi2=45.9551 , p=0.0000  , df=7\n",
            "likelihood ratio test: chi2=44.6159 , p=0.0000  , df=7\n",
            "parameter F test:         F=6.4351  , p=0.0000  , df_denom=743, df_num=7\n",
            "\n",
            "Granger Causality\n",
            "number of lags (no zero) 8\n",
            "ssr based F test:         F=6.7725  , p=0.0000  , df_denom=740, df_num=8\n",
            "ssr based chi2 test:   chi2=55.4244 , p=0.0000  , df=8\n",
            "likelihood ratio test: chi2=53.4894 , p=0.0000  , df=8\n",
            "parameter F test:         F=6.7725  , p=0.0000  , df_denom=740, df_num=8\n",
            "\n",
            "Granger Causality\n",
            "number of lags (no zero) 9\n",
            "ssr based F test:         F=6.7161  , p=0.0000  , df_denom=737, df_num=9\n",
            "ssr based chi2 test:   chi2=62.0035 , p=0.0000  , df=9\n",
            "likelihood ratio test: chi2=59.5919 , p=0.0000  , df=9\n",
            "parameter F test:         F=6.7161  , p=0.0000  , df_denom=737, df_num=9\n",
            "\n",
            "Granger Causality\n",
            "number of lags (no zero) 10\n",
            "ssr based F test:         F=5.6900  , p=0.0000  , df_denom=734, df_num=10\n",
            "ssr based chi2 test:   chi2=58.5283 , p=0.0000  , df=10\n",
            "likelihood ratio test: chi2=56.3705 , p=0.0000  , df=10\n",
            "parameter F test:         F=5.6900  , p=0.0000  , df_denom=734, df_num=10\n"
          ]
        }
      ]
    },
    {
      "cell_type": "code",
      "source": [
        "df_sub = df_merged_US[['deaths_ppm', 'cases_ppm', 'total_vaccinations', 'workplaces_percent_change_from_baseline', \\\n",
        "                       'residential_percent_change_from_baseline', 'lockdown_index', 'date']]"
      ],
      "metadata": {
        "id": "-qYM7fCSNUJ4"
      },
      "execution_count": null,
      "outputs": []
    },
    {
      "cell_type": "code",
      "source": [
        "from sklearn.preprocessing import StandardScaler\n",
        "trans = StandardScaler()\n",
        "data = trans.fit_transform(df_sub)\n",
        "dataset = pd.DataFrame(data)"
      ],
      "metadata": {
        "id": "NkvZHaVkOE0R"
      },
      "execution_count": null,
      "outputs": []
    },
    {
      "cell_type": "code",
      "source": [
        "dataset.head()"
      ],
      "metadata": {
        "colab": {
          "base_uri": "https://localhost:8080/",
          "height": 206
        },
        "id": "Ceuboo_7OnVV",
        "outputId": "17cc1320-f7b2-4273-dc5c-7b71db4f7e48"
      },
      "execution_count": null,
      "outputs": [
        {
          "output_type": "execute_result",
          "data": {
            "text/plain": [
              "          0         1         2         3         4         5\n",
              "0 -1.276811 -0.708702 -0.977277  2.173862 -1.747345 -4.255712\n",
              "1 -1.276811 -0.708702 -0.977277  2.023607 -1.747345 -4.255712\n",
              "2 -1.276811 -0.708702 -0.977277  0.220545 -0.536665 -4.255712\n",
              "3 -1.276811 -0.708702 -0.977277  2.023607 -1.343785 -4.255712\n",
              "4 -1.276811 -0.708702 -0.977277  2.098734 -1.545565 -4.255712"
            ],
            "text/html": [
              "\n",
              "  <div id=\"df-130fde17-142d-4ef2-a74b-ef262b4c8103\">\n",
              "    <div class=\"colab-df-container\">\n",
              "      <div>\n",
              "<style scoped>\n",
              "    .dataframe tbody tr th:only-of-type {\n",
              "        vertical-align: middle;\n",
              "    }\n",
              "\n",
              "    .dataframe tbody tr th {\n",
              "        vertical-align: top;\n",
              "    }\n",
              "\n",
              "    .dataframe thead th {\n",
              "        text-align: right;\n",
              "    }\n",
              "</style>\n",
              "<table border=\"1\" class=\"dataframe\">\n",
              "  <thead>\n",
              "    <tr style=\"text-align: right;\">\n",
              "      <th></th>\n",
              "      <th>0</th>\n",
              "      <th>1</th>\n",
              "      <th>2</th>\n",
              "      <th>3</th>\n",
              "      <th>4</th>\n",
              "      <th>5</th>\n",
              "    </tr>\n",
              "  </thead>\n",
              "  <tbody>\n",
              "    <tr>\n",
              "      <th>0</th>\n",
              "      <td>-1.276811</td>\n",
              "      <td>-0.708702</td>\n",
              "      <td>-0.977277</td>\n",
              "      <td>2.173862</td>\n",
              "      <td>-1.747345</td>\n",
              "      <td>-4.255712</td>\n",
              "    </tr>\n",
              "    <tr>\n",
              "      <th>1</th>\n",
              "      <td>-1.276811</td>\n",
              "      <td>-0.708702</td>\n",
              "      <td>-0.977277</td>\n",
              "      <td>2.023607</td>\n",
              "      <td>-1.747345</td>\n",
              "      <td>-4.255712</td>\n",
              "    </tr>\n",
              "    <tr>\n",
              "      <th>2</th>\n",
              "      <td>-1.276811</td>\n",
              "      <td>-0.708702</td>\n",
              "      <td>-0.977277</td>\n",
              "      <td>0.220545</td>\n",
              "      <td>-0.536665</td>\n",
              "      <td>-4.255712</td>\n",
              "    </tr>\n",
              "    <tr>\n",
              "      <th>3</th>\n",
              "      <td>-1.276811</td>\n",
              "      <td>-0.708702</td>\n",
              "      <td>-0.977277</td>\n",
              "      <td>2.023607</td>\n",
              "      <td>-1.343785</td>\n",
              "      <td>-4.255712</td>\n",
              "    </tr>\n",
              "    <tr>\n",
              "      <th>4</th>\n",
              "      <td>-1.276811</td>\n",
              "      <td>-0.708702</td>\n",
              "      <td>-0.977277</td>\n",
              "      <td>2.098734</td>\n",
              "      <td>-1.545565</td>\n",
              "      <td>-4.255712</td>\n",
              "    </tr>\n",
              "  </tbody>\n",
              "</table>\n",
              "</div>\n",
              "      <button class=\"colab-df-convert\" onclick=\"convertToInteractive('df-130fde17-142d-4ef2-a74b-ef262b4c8103')\"\n",
              "              title=\"Convert this dataframe to an interactive table.\"\n",
              "              style=\"display:none;\">\n",
              "        \n",
              "  <svg xmlns=\"http://www.w3.org/2000/svg\" height=\"24px\"viewBox=\"0 0 24 24\"\n",
              "       width=\"24px\">\n",
              "    <path d=\"M0 0h24v24H0V0z\" fill=\"none\"/>\n",
              "    <path d=\"M18.56 5.44l.94 2.06.94-2.06 2.06-.94-2.06-.94-.94-2.06-.94 2.06-2.06.94zm-11 1L8.5 8.5l.94-2.06 2.06-.94-2.06-.94L8.5 2.5l-.94 2.06-2.06.94zm10 10l.94 2.06.94-2.06 2.06-.94-2.06-.94-.94-2.06-.94 2.06-2.06.94z\"/><path d=\"M17.41 7.96l-1.37-1.37c-.4-.4-.92-.59-1.43-.59-.52 0-1.04.2-1.43.59L10.3 9.45l-7.72 7.72c-.78.78-.78 2.05 0 2.83L4 21.41c.39.39.9.59 1.41.59.51 0 1.02-.2 1.41-.59l7.78-7.78 2.81-2.81c.8-.78.8-2.07 0-2.86zM5.41 20L4 18.59l7.72-7.72 1.47 1.35L5.41 20z\"/>\n",
              "  </svg>\n",
              "      </button>\n",
              "      \n",
              "  <style>\n",
              "    .colab-df-container {\n",
              "      display:flex;\n",
              "      flex-wrap:wrap;\n",
              "      gap: 12px;\n",
              "    }\n",
              "\n",
              "    .colab-df-convert {\n",
              "      background-color: #E8F0FE;\n",
              "      border: none;\n",
              "      border-radius: 50%;\n",
              "      cursor: pointer;\n",
              "      display: none;\n",
              "      fill: #1967D2;\n",
              "      height: 32px;\n",
              "      padding: 0 0 0 0;\n",
              "      width: 32px;\n",
              "    }\n",
              "\n",
              "    .colab-df-convert:hover {\n",
              "      background-color: #E2EBFA;\n",
              "      box-shadow: 0px 1px 2px rgba(60, 64, 67, 0.3), 0px 1px 3px 1px rgba(60, 64, 67, 0.15);\n",
              "      fill: #174EA6;\n",
              "    }\n",
              "\n",
              "    [theme=dark] .colab-df-convert {\n",
              "      background-color: #3B4455;\n",
              "      fill: #D2E3FC;\n",
              "    }\n",
              "\n",
              "    [theme=dark] .colab-df-convert:hover {\n",
              "      background-color: #434B5C;\n",
              "      box-shadow: 0px 1px 3px 1px rgba(0, 0, 0, 0.15);\n",
              "      filter: drop-shadow(0px 1px 2px rgba(0, 0, 0, 0.3));\n",
              "      fill: #FFFFFF;\n",
              "    }\n",
              "  </style>\n",
              "\n",
              "      <script>\n",
              "        const buttonEl =\n",
              "          document.querySelector('#df-130fde17-142d-4ef2-a74b-ef262b4c8103 button.colab-df-convert');\n",
              "        buttonEl.style.display =\n",
              "          google.colab.kernel.accessAllowed ? 'block' : 'none';\n",
              "\n",
              "        async function convertToInteractive(key) {\n",
              "          const element = document.querySelector('#df-130fde17-142d-4ef2-a74b-ef262b4c8103');\n",
              "          const dataTable =\n",
              "            await google.colab.kernel.invokeFunction('convertToInteractive',\n",
              "                                                     [key], {});\n",
              "          if (!dataTable) return;\n",
              "\n",
              "          const docLinkHtml = 'Like what you see? Visit the ' +\n",
              "            '<a target=\"_blank\" href=https://colab.research.google.com/notebooks/data_table.ipynb>data table notebook</a>'\n",
              "            + ' to learn more about interactive tables.';\n",
              "          element.innerHTML = '';\n",
              "          dataTable['output_type'] = 'display_data';\n",
              "          await google.colab.output.renderOutput(dataTable, element);\n",
              "          const docLink = document.createElement('div');\n",
              "          docLink.innerHTML = docLinkHtml;\n",
              "          element.appendChild(docLink);\n",
              "        }\n",
              "      </script>\n",
              "    </div>\n",
              "  </div>\n",
              "  "
            ]
          },
          "metadata": {},
          "execution_count": 41
        }
      ]
    },
    {
      "cell_type": "code",
      "source": [
        "series = dataset[[5, 3]]\n",
        "series.plot()\n"
      ],
      "metadata": {
        "id": "SAOun5BY2st3",
        "outputId": "5af3c2d1-d4c3-435a-a4cc-df54e42d75c7",
        "colab": {
          "base_uri": "https://localhost:8080/",
          "height": 283
        }
      },
      "execution_count": null,
      "outputs": [
        {
          "output_type": "execute_result",
          "data": {
            "text/plain": [
              "<matplotlib.axes._subplots.AxesSubplot at 0x7ffb57f16990>"
            ]
          },
          "metadata": {},
          "execution_count": 47
        },
        {
          "output_type": "display_data",
          "data": {
            "text/plain": [
              "<Figure size 432x288 with 1 Axes>"
            ],
            "image/png": "[encoded data removed]"
          },
          "metadata": {
            "needs_background": "light"
          }
        }
      ]
    },
    {
      "cell_type": "code",
      "source": [
        "series = dataset[[5, 4]]\n",
        "series.plot()\n"
      ],
      "metadata": {
        "colab": {
          "base_uri": "https://localhost:8080/",
          "height": 283
        },
        "id": "c8vtA7alQK50",
        "outputId": "83dfb5f9-8ffd-4077-9ab1-bcb8a3251f31"
      },
      "execution_count": null,
      "outputs": [
        {
          "output_type": "execute_result",
          "data": {
            "text/plain": [
              "<matplotlib.axes._subplots.AxesSubplot at 0x7ffb57e0fe50>"
            ]
          },
          "metadata": {},
          "execution_count": 48
        },
        {
          "output_type": "display_data",
          "data": {
            "text/plain": [
              "<Figure size 432x288 with 1 Axes>"
            ],
            "image/png": "[encoded data removed]"
          },
          "metadata": {
            "needs_background": "light"
          }
        }
      ]
    },
    {
      "cell_type": "code",
      "source": [
        "series = dataset[[3, 4]]\n",
        "series.plot()"
      ],
      "metadata": {
        "colab": {
          "base_uri": "https://localhost:8080/",
          "height": 283
        },
        "id": "S35ZZlw1QV0k",
        "outputId": "dc402b5e-f7ee-4f9b-d0c7-bb3c1cb4f94a"
      },
      "execution_count": null,
      "outputs": [
        {
          "output_type": "execute_result",
          "data": {
            "text/plain": [
              "<matplotlib.axes._subplots.AxesSubplot at 0x7ffb57d32e50>"
            ]
          },
          "metadata": {},
          "execution_count": 49
        },
        {
          "output_type": "display_data",
          "data": {
            "text/plain": [
              "<Figure size 432x288 with 1 Axes>"
            ],
            "image/png": "[encoded data removed]"
          },
          "metadata": {
            "needs_background": "light"
          }
        }
      ]
    },
    {
      "cell_type": "code",
      "source": [
        "df_sub['mov_avg'] = df_sub['cases_ppm'].rolling(7).sum()\n",
        "df_sub['mov_avg_work_mob'] = df_sub['workplaces_percent_change_from_baseline'].rolling(7).sum()\n",
        "df_sub['mov_avg_res_mob'] = df_sub['residential_percent_change_from_baseline'].rolling(7).sum()"
      ],
      "metadata": {
        "colab": {
          "base_uri": "https://localhost:8080/"
        },
        "id": "-5Pk0DobQ27Z",
        "outputId": "05f99645-6a56-45fb-93e8-ee0828029b95"
      },
      "execution_count": null,
      "outputs": [
        {
          "output_type": "stream",
          "name": "stderr",
          "text": [
            "/usr/local/lib/python3.7/dist-packages/ipykernel_launcher.py:1: SettingWithCopyWarning: \n",
            "A value is trying to be set on a copy of a slice from a DataFrame.\n",
            "Try using .loc[row_indexer,col_indexer] = value instead\n",
            "\n",
            "See the caveats in the documentation: https://pandas.pydata.org/pandas-docs/stable/user_guide/indexing.html#returning-a-view-versus-a-copy\n",
            "  \"\"\"Entry point for launching an IPython kernel.\n",
            "/usr/local/lib/python3.7/dist-packages/ipykernel_launcher.py:2: SettingWithCopyWarning: \n",
            "A value is trying to be set on a copy of a slice from a DataFrame.\n",
            "Try using .loc[row_indexer,col_indexer] = value instead\n",
            "\n",
            "See the caveats in the documentation: https://pandas.pydata.org/pandas-docs/stable/user_guide/indexing.html#returning-a-view-versus-a-copy\n",
            "  \n",
            "/usr/local/lib/python3.7/dist-packages/ipykernel_launcher.py:3: SettingWithCopyWarning: \n",
            "A value is trying to be set on a copy of a slice from a DataFrame.\n",
            "Try using .loc[row_indexer,col_indexer] = value instead\n",
            "\n",
            "See the caveats in the documentation: https://pandas.pydata.org/pandas-docs/stable/user_guide/indexing.html#returning-a-view-versus-a-copy\n",
            "  This is separate from the ipykernel package so we can avoid doing imports until\n"
          ]
        }
      ]
    },
    {
      "cell_type": "code",
      "source": [
        "series = df_sub[['mov_avg', 'lockdown_index']]\n",
        "series.plot()"
      ],
      "metadata": {
        "colab": {
          "base_uri": "https://localhost:8080/",
          "height": 283
        },
        "id": "Cyy8LwkURL08",
        "outputId": "117d97ed-2fd3-471e-d389-ba2f293e977d"
      },
      "execution_count": null,
      "outputs": [
        {
          "output_type": "execute_result",
          "data": {
            "text/plain": [
              "<matplotlib.axes._subplots.AxesSubplot at 0x7ffb58097650>"
            ]
          },
          "metadata": {},
          "execution_count": 55
        },
        {
          "output_type": "display_data",
          "data": {
            "text/plain": [
              "<Figure size 432x288 with 1 Axes>"
            ],
            "image/png": "[encoded data removed]"
          },
          "metadata": {
            "needs_background": "light"
          }
        }
      ]
    },
    {
      "cell_type": "code",
      "source": [
        "series = df_sub[['mov_avg_work_mob', 'lockdown_index', 'date']]\n",
        "# create figure and axis objects with subplots()\n",
        "fig,ax = plt.subplots()\n",
        "# make a plot\n",
        "ax.plot(df_sub.date, df_sub.mov_avg_work_mob, color=\"red\")\n",
        "# set x-axis label\n",
        "ax.set_xlabel(\"date\",fontsize=14)\n",
        "# set y-axis label\n",
        "ax.set_ylabel(\"mov_avg_work_mob\",color=\"red\",fontsize=14)"
      ],
      "metadata": {
        "colab": {
          "base_uri": "https://localhost:8080/",
          "height": 301
        },
        "id": "97jVKWm4Rv6r",
        "outputId": "114487af-e713-480e-ab4d-2b57c44a06e1"
      },
      "execution_count": null,
      "outputs": [
        {
          "output_type": "execute_result",
          "data": {
            "text/plain": [
              "Text(0, 0.5, 'mov_avg_work_mob')"
            ]
          },
          "metadata": {},
          "execution_count": 74
        },
        {
          "output_type": "display_data",
          "data": {
            "text/plain": [
              "<Figure size 432x288 with 1 Axes>"
            ],
            "image/png": "[encoded data removed]"
          },
          "metadata": {
            "needs_background": "light"
          }
        }
      ]
    },
    {
      "cell_type": "code",
      "source": [
        "ax2=ax.twinx()\n",
        "# make a plot with different y-axis using second axis object\n",
        "ax2.plot(df_sub.date, df_sub.lockdown_index,color=\"blue\")\n",
        "ax2.set_ylabel(\"lockdown_index\",color=\"blue\",fontsize=14)\n",
        "plt.show()\n",
        "fig.savefig('two_different_y_axis_for_single_python_plot_with_twinx.jpg',\n",
        "            format='jpeg',\n",
        "            dpi=100,\n",
        "            bbox_inches='tight')"
      ],
      "metadata": {
        "id": "3z53O-L8TRqj"
      },
      "execution_count": null,
      "outputs": []
    },
    {
      "cell_type": "code",
      "source": [
        "ax2=ax.twinx()\n",
        "# make a plot with different y-axis using second axis object\n",
        "ax2.plot(df_sub.date, df_sub.lockdown_index,color=\"blue\")\n",
        "ax2.set_ylabel(\"lockdown_index\",color=\"blue\",fontsize=14)\n",
        "plt.show()\n",
        "fig.savefig('two_different_y_axis_for_single_python_plot_with_twinx.jpg',\n",
        "            format='jpeg',\n",
        "            dpi=100,\n",
        "            bbox_inches='tight')\n",
        "ax2=ax.twinx()\n",
        "# make a plot with different y-axis using second axis object\n",
        "ax2.plot(df_sub.date, df_sub.mov_avg,color=\"blue\")\n",
        "ax2.set_ylabel(\"lockdown_index\",color=\"blue\",fontsize=14)\n",
        "plt.show()\n",
        "fig.savefig('cases_vs_workplace_mob.jpg',\n",
        "            format='jpeg',\n",
        "            dpi=100,\n",
        "            bbox_inches='tight')"
      ],
      "metadata": {
        "id": "GYRO60iFUjxd"
      },
      "execution_count": null,
      "outputs": []
    },
    {
      "cell_type": "code",
      "source": [
        "series = df_sub[['lockdown_index']]\n",
        "series.plot()"
      ],
      "metadata": {
        "colab": {
          "base_uri": "https://localhost:8080/",
          "height": 283
        },
        "id": "tvuGHZH4ScVH",
        "outputId": "207459d9-7188-4d4d-9ae6-a178547e44a4"
      },
      "execution_count": null,
      "outputs": [
        {
          "output_type": "execute_result",
          "data": {
            "text/plain": [
              "<matplotlib.axes._subplots.AxesSubplot at 0x7ffb57ac9110>"
            ]
          },
          "metadata": {},
          "execution_count": 58
        },
        {
          "output_type": "display_data",
          "data": {
            "text/plain": [
              "<Figure size 432x288 with 1 Axes>"
            ],
            "image/png": "[encoded data removed]"
          },
          "metadata": {
            "needs_background": "light"
          }
        }
      ]
    },
    {
      "cell_type": "code",
      "source": [
        "series = df_sub[['cases_ppm']]\n",
        "series.plot()"
      ],
      "metadata": {
        "colab": {
          "base_uri": "https://localhost:8080/",
          "height": 283
        },
        "id": "-lmglC7gRVsh",
        "outputId": "720ca533-3865-40d7-e80c-00dfb75cc672"
      },
      "execution_count": null,
      "outputs": [
        {
          "output_type": "execute_result",
          "data": {
            "text/plain": [
              "<matplotlib.axes._subplots.AxesSubplot at 0x7ffb57d03e10>"
            ]
          },
          "metadata": {},
          "execution_count": 53
        },
        {
          "output_type": "display_data",
          "data": {
            "text/plain": [
              "<Figure size 432x288 with 1 Axes>"
            ],
            "image/png": "[encoded data removed]"
          },
          "metadata": {
            "needs_background": "light"
          }
        }
      ]
    },
    {
      "cell_type": "code",
      "source": [
        "df_sub"
      ],
      "metadata": {
        "colab": {
          "base_uri": "https://localhost:8080/",
          "height": 487
        },
        "id": "fkZNsZn-RDuD",
        "outputId": "107f23c1-8f7c-4bf2-8beb-7581aaaca667"
      },
      "execution_count": null,
      "outputs": [
        {
          "output_type": "execute_result",
          "data": {
            "text/plain": [
              "       deaths_ppm   cases_ppm  total_vaccinations  \\\n",
              "87540    0.000000    0.000000                 0.0   \n",
              "87541    0.000000    0.000000                 0.0   \n",
              "87542    0.000000    0.000000                 0.0   \n",
              "87543    0.000000    0.000000                 0.0   \n",
              "87544    0.000000    0.000000                 0.0   \n",
              "...           ...         ...                 ...   \n",
              "88296    1.279606   31.428436         254619167.0   \n",
              "88297    0.504633   32.518804         254667021.0   \n",
              "88298   -7.854856  104.362952         254713948.0   \n",
              "88299    3.847828   76.746300         254760201.0   \n",
              "88300    5.836323  135.214664         254805930.0   \n",
              "\n",
              "       workplaces_percent_change_from_baseline  \\\n",
              "87540                                      2.0   \n",
              "87541                                      0.0   \n",
              "87542                                    -24.0   \n",
              "87543                                      0.0   \n",
              "87544                                      1.0   \n",
              "...                                        ...   \n",
              "88296                                    -10.0   \n",
              "88297                                     -9.0   \n",
              "88298                                    -24.0   \n",
              "88299                                    -23.0   \n",
              "88300                                    -22.0   \n",
              "\n",
              "       residential_percent_change_from_baseline  lockdown_index     mov_avg  \n",
              "87540                                      -1.0            5.56         NaN  \n",
              "87541                                      -1.0            5.56         NaN  \n",
              "87542                                       5.0            5.56         NaN  \n",
              "87543                                       1.0            5.56         NaN  \n",
              "87544                                       0.0            5.56         NaN  \n",
              "...                                         ...             ...         ...  \n",
              "88296                                       4.0           53.24  745.682666  \n",
              "88297                                       2.0           53.24  745.030848  \n",
              "88298                                       6.0           53.24  658.897770  \n",
              "88299                                       5.0           53.24  646.245895  \n",
              "88300                                       5.0           58.80  669.209710  \n",
              "\n",
              "[761 rows x 7 columns]"
            ],
            "text/html": [
              "\n",
              "  <div id=\"df-db8fd8ff-fa08-46c4-8fd3-360d03cb3ea0\">\n",
              "    <div class=\"colab-df-container\">\n",
              "      <div>\n",
              "<style scoped>\n",
              "    .dataframe tbody tr th:only-of-type {\n",
              "        vertical-align: middle;\n",
              "    }\n",
              "\n",
              "    .dataframe tbody tr th {\n",
              "        vertical-align: top;\n",
              "    }\n",
              "\n",
              "    .dataframe thead th {\n",
              "        text-align: right;\n",
              "    }\n",
              "</style>\n",
              "<table border=\"1\" class=\"dataframe\">\n",
              "  <thead>\n",
              "    <tr style=\"text-align: right;\">\n",
              "      <th></th>\n",
              "      <th>deaths_ppm</th>\n",
              "      <th>cases_ppm</th>\n",
              "      <th>total_vaccinations</th>\n",
              "      <th>workplaces_percent_change_from_baseline</th>\n",
              "      <th>residential_percent_change_from_baseline</th>\n",
              "      <th>lockdown_index</th>\n",
              "      <th>mov_avg</th>\n",
              "    </tr>\n",
              "  </thead>\n",
              "  <tbody>\n",
              "    <tr>\n",
              "      <th>87540</th>\n",
              "      <td>0.000000</td>\n",
              "      <td>0.000000</td>\n",
              "      <td>0.0</td>\n",
              "      <td>2.0</td>\n",
              "      <td>-1.0</td>\n",
              "      <td>5.56</td>\n",
              "      <td>NaN</td>\n",
              "    </tr>\n",
              "    <tr>\n",
              "      <th>87541</th>\n",
              "      <td>0.000000</td>\n",
              "      <td>0.000000</td>\n",
              "      <td>0.0</td>\n",
              "      <td>0.0</td>\n",
              "      <td>-1.0</td>\n",
              "      <td>5.56</td>\n",
              "      <td>NaN</td>\n",
              "    </tr>\n",
              "    <tr>\n",
              "      <th>87542</th>\n",
              "      <td>0.000000</td>\n",
              "      <td>0.000000</td>\n",
              "      <td>0.0</td>\n",
              "      <td>-24.0</td>\n",
              "      <td>5.0</td>\n",
              "      <td>5.56</td>\n",
              "      <td>NaN</td>\n",
              "    </tr>\n",
              "    <tr>\n",
              "      <th>87543</th>\n",
              "      <td>0.000000</td>\n",
              "      <td>0.000000</td>\n",
              "      <td>0.0</td>\n",
              "      <td>0.0</td>\n",
              "      <td>1.0</td>\n",
              "      <td>5.56</td>\n",
              "      <td>NaN</td>\n",
              "    </tr>\n",
              "    <tr>\n",
              "      <th>87544</th>\n",
              "      <td>0.000000</td>\n",
              "      <td>0.000000</td>\n",
              "      <td>0.0</td>\n",
              "      <td>1.0</td>\n",
              "      <td>0.0</td>\n",
              "      <td>5.56</td>\n",
              "      <td>NaN</td>\n",
              "    </tr>\n",
              "    <tr>\n",
              "      <th>...</th>\n",
              "      <td>...</td>\n",
              "      <td>...</td>\n",
              "      <td>...</td>\n",
              "      <td>...</td>\n",
              "      <td>...</td>\n",
              "      <td>...</td>\n",
              "      <td>...</td>\n",
              "    </tr>\n",
              "    <tr>\n",
              "      <th>88296</th>\n",
              "      <td>1.279606</td>\n",
              "      <td>31.428436</td>\n",
              "      <td>254619167.0</td>\n",
              "      <td>-10.0</td>\n",
              "      <td>4.0</td>\n",
              "      <td>53.24</td>\n",
              "      <td>745.682666</td>\n",
              "    </tr>\n",
              "    <tr>\n",
              "      <th>88297</th>\n",
              "      <td>0.504633</td>\n",
              "      <td>32.518804</td>\n",
              "      <td>254667021.0</td>\n",
              "      <td>-9.0</td>\n",
              "      <td>2.0</td>\n",
              "      <td>53.24</td>\n",
              "      <td>745.030848</td>\n",
              "    </tr>\n",
              "    <tr>\n",
              "      <th>88298</th>\n",
              "      <td>-7.854856</td>\n",
              "      <td>104.362952</td>\n",
              "      <td>254713948.0</td>\n",
              "      <td>-24.0</td>\n",
              "      <td>6.0</td>\n",
              "      <td>53.24</td>\n",
              "      <td>658.897770</td>\n",
              "    </tr>\n",
              "    <tr>\n",
              "      <th>88299</th>\n",
              "      <td>3.847828</td>\n",
              "      <td>76.746300</td>\n",
              "      <td>254760201.0</td>\n",
              "      <td>-23.0</td>\n",
              "      <td>5.0</td>\n",
              "      <td>53.24</td>\n",
              "      <td>646.245895</td>\n",
              "    </tr>\n",
              "    <tr>\n",
              "      <th>88300</th>\n",
              "      <td>5.836323</td>\n",
              "      <td>135.214664</td>\n",
              "      <td>254805930.0</td>\n",
              "      <td>-22.0</td>\n",
              "      <td>5.0</td>\n",
              "      <td>58.80</td>\n",
              "      <td>669.209710</td>\n",
              "    </tr>\n",
              "  </tbody>\n",
              "</table>\n",
              "<p>761 rows × 7 columns</p>\n",
              "</div>\n",
              "      <button class=\"colab-df-convert\" onclick=\"convertToInteractive('df-db8fd8ff-fa08-46c4-8fd3-360d03cb3ea0')\"\n",
              "              title=\"Convert this dataframe to an interactive table.\"\n",
              "              style=\"display:none;\">\n",
              "        \n",
              "  <svg xmlns=\"http://www.w3.org/2000/svg\" height=\"24px\"viewBox=\"0 0 24 24\"\n",
              "       width=\"24px\">\n",
              "    <path d=\"M0 0h24v24H0V0z\" fill=\"none\"/>\n",
              "    <path d=\"M18.56 5.44l.94 2.06.94-2.06 2.06-.94-2.06-.94-.94-2.06-.94 2.06-2.06.94zm-11 1L8.5 8.5l.94-2.06 2.06-.94-2.06-.94L8.5 2.5l-.94 2.06-2.06.94zm10 10l.94 2.06.94-2.06 2.06-.94-2.06-.94-.94-2.06-.94 2.06-2.06.94z\"/><path d=\"M17.41 7.96l-1.37-1.37c-.4-.4-.92-.59-1.43-.59-.52 0-1.04.2-1.43.59L10.3 9.45l-7.72 7.72c-.78.78-.78 2.05 0 2.83L4 21.41c.39.39.9.59 1.41.59.51 0 1.02-.2 1.41-.59l7.78-7.78 2.81-2.81c.8-.78.8-2.07 0-2.86zM5.41 20L4 18.59l7.72-7.72 1.47 1.35L5.41 20z\"/>\n",
              "  </svg>\n",
              "      </button>\n",
              "      \n",
              "  <style>\n",
              "    .colab-df-container {\n",
              "      display:flex;\n",
              "      flex-wrap:wrap;\n",
              "      gap: 12px;\n",
              "    }\n",
              "\n",
              "    .colab-df-convert {\n",
              "      background-color: #E8F0FE;\n",
              "      border: none;\n",
              "      border-radius: 50%;\n",
              "      cursor: pointer;\n",
              "      display: none;\n",
              "      fill: #1967D2;\n",
              "      height: 32px;\n",
              "      padding: 0 0 0 0;\n",
              "      width: 32px;\n",
              "    }\n",
              "\n",
              "    .colab-df-convert:hover {\n",
              "      background-color: #E2EBFA;\n",
              "      box-shadow: 0px 1px 2px rgba(60, 64, 67, 0.3), 0px 1px 3px 1px rgba(60, 64, 67, 0.15);\n",
              "      fill: #174EA6;\n",
              "    }\n",
              "\n",
              "    [theme=dark] .colab-df-convert {\n",
              "      background-color: #3B4455;\n",
              "      fill: #D2E3FC;\n",
              "    }\n",
              "\n",
              "    [theme=dark] .colab-df-convert:hover {\n",
              "      background-color: #434B5C;\n",
              "      box-shadow: 0px 1px 3px 1px rgba(0, 0, 0, 0.15);\n",
              "      filter: drop-shadow(0px 1px 2px rgba(0, 0, 0, 0.3));\n",
              "      fill: #FFFFFF;\n",
              "    }\n",
              "  </style>\n",
              "\n",
              "      <script>\n",
              "        const buttonEl =\n",
              "          document.querySelector('#df-db8fd8ff-fa08-46c4-8fd3-360d03cb3ea0 button.colab-df-convert');\n",
              "        buttonEl.style.display =\n",
              "          google.colab.kernel.accessAllowed ? 'block' : 'none';\n",
              "\n",
              "        async function convertToInteractive(key) {\n",
              "          const element = document.querySelector('#df-db8fd8ff-fa08-46c4-8fd3-360d03cb3ea0');\n",
              "          const dataTable =\n",
              "            await google.colab.kernel.invokeFunction('convertToInteractive',\n",
              "                                                     [key], {});\n",
              "          if (!dataTable) return;\n",
              "\n",
              "          const docLinkHtml = 'Like what you see? Visit the ' +\n",
              "            '<a target=\"_blank\" href=https://colab.research.google.com/notebooks/data_table.ipynb>data table notebook</a>'\n",
              "            + ' to learn more about interactive tables.';\n",
              "          element.innerHTML = '';\n",
              "          dataTable['output_type'] = 'display_data';\n",
              "          await google.colab.output.renderOutput(dataTable, element);\n",
              "          const docLink = document.createElement('div');\n",
              "          docLink.innerHTML = docLinkHtml;\n",
              "          element.appendChild(docLink);\n",
              "        }\n",
              "      </script>\n",
              "    </div>\n",
              "  </div>\n",
              "  "
            ]
          },
          "metadata": {},
          "execution_count": 51
        }
      ]
    },
    {
      "cell_type": "code",
      "source": [
        "series = dataset[[]]\n",
        "series.plot()\n",
        "\n"
      ],
      "metadata": {
        "id": "gGjKBasJPGPB"
      },
      "execution_count": null,
      "outputs": []
    },
    {
      "cell_type": "code",
      "source": [
        "series = df_merged_US['lockdown_index']\n",
        "series.plot()\n"
      ],
      "metadata": {
        "colab": {
          "base_uri": "https://localhost:8080/",
          "height": 283
        },
        "id": "Smrmp8SwNSIY",
        "outputId": "203bd45f-410d-425e-b486-65905c32aa8c"
      },
      "execution_count": null,
      "outputs": [
        {
          "output_type": "execute_result",
          "data": {
            "text/plain": [
              "<matplotlib.axes._subplots.AxesSubplot at 0x7ffb68e4bad0>"
            ]
          },
          "metadata": {},
          "execution_count": 31
        },
        {
          "output_type": "display_data",
          "data": {
            "text/plain": [
              "<Figure size 432x288 with 1 Axes>"
            ],
            "image/png": "[encoded data removed]"
          },
          "metadata": {
            "needs_background": "light"
          }
        }
      ]
    },
    {
      "cell_type": "code",
      "source": [
        "series = df_merged_US['workplaces_percent_change_from_baseline']\n",
        "series.plot()"
      ],
      "metadata": {
        "colab": {
          "base_uri": "https://localhost:8080/",
          "height": 283
        },
        "id": "sLADFfYWNgna",
        "outputId": "9ea473a4-9ce8-4ea2-8289-75af6c89e13f"
      },
      "execution_count": null,
      "outputs": [
        {
          "output_type": "execute_result",
          "data": {
            "text/plain": [
              "<matplotlib.axes._subplots.AxesSubplot at 0x7ffb691a32d0>"
            ]
          },
          "metadata": {},
          "execution_count": 32
        },
        {
          "output_type": "display_data",
          "data": {
            "text/plain": [
              "<Figure size 432x288 with 1 Axes>"
            ],
            "image/png": "[encoded data removed]"
          },
          "metadata": {
            "needs_background": "light"
          }
        }
      ]
    },
    {
      "cell_type": "code",
      "source": [
        "series = df_merged_US['residential_percent_change_from_baseline']\n",
        "series.plot()"
      ],
      "metadata": {
        "colab": {
          "base_uri": "https://localhost:8080/",
          "height": 283
        },
        "id": "NA5DUZHCNoVT",
        "outputId": "ad2d22e1-7d60-4d8c-ffc4-55cfd5865bfd"
      },
      "execution_count": null,
      "outputs": [
        {
          "output_type": "execute_result",
          "data": {
            "text/plain": [
              "<matplotlib.axes._subplots.AxesSubplot at 0x7ffb7d3a8e90>"
            ]
          },
          "metadata": {},
          "execution_count": 34
        },
        {
          "output_type": "display_data",
          "data": {
            "text/plain": [
              "<Figure size 432x288 with 1 Axes>"
            ],
            "image/png": "[encoded data removed]"
          },
          "metadata": {
            "needs_background": "light"
          }
        }
      ]
    },
    {
      "cell_type": "code",
      "source": [
        "gc_res = sm.tsa.stattools.grangercausalitytests(df_merged_US[['residential_percent_change_from_baseline', 'workplaces_percent_change_from_baseline']],maxlag=10)"
      ],
      "metadata": {
        "colab": {
          "base_uri": "https://localhost:8080/"
        },
        "id": "xG2EzRaa0LCV",
        "outputId": "5d76497a-4602-419c-dea0-6122b1cc374e"
      },
      "execution_count": 123,
      "outputs": [
        {
          "output_type": "stream",
          "name": "stdout",
          "text": [
            "\n",
            "Granger Causality\n",
            "number of lags (no zero) 1\n",
            "ssr based F test:         F=8.7872  , p=0.0031  , df_denom=757, df_num=1\n",
            "ssr based chi2 test:   chi2=8.8220  , p=0.0030  , df=1\n",
            "likelihood ratio test: chi2=8.7712  , p=0.0031  , df=1\n",
            "parameter F test:         F=8.7872  , p=0.0031  , df_denom=757, df_num=1\n",
            "\n",
            "Granger Causality\n",
            "number of lags (no zero) 2\n",
            "ssr based F test:         F=34.5154 , p=0.0000  , df_denom=754, df_num=2\n",
            "ssr based chi2 test:   chi2=69.4886 , p=0.0000  , df=2\n",
            "likelihood ratio test: chi2=66.4894 , p=0.0000  , df=2\n",
            "parameter F test:         F=34.5154 , p=0.0000  , df_denom=754, df_num=2\n",
            "\n",
            "Granger Causality\n",
            "number of lags (no zero) 3\n",
            "ssr based F test:         F=8.7235  , p=0.0000  , df_denom=751, df_num=3\n",
            "ssr based chi2 test:   chi2=26.4144 , p=0.0000  , df=3\n",
            "likelihood ratio test: chi2=25.9646 , p=0.0000  , df=3\n",
            "parameter F test:         F=8.7235  , p=0.0000  , df_denom=751, df_num=3\n",
            "\n",
            "Granger Causality\n",
            "number of lags (no zero) 4\n",
            "ssr based F test:         F=15.7458 , p=0.0000  , df_denom=748, df_num=4\n",
            "ssr based chi2 test:   chi2=63.7409 , p=0.0000  , df=4\n",
            "likelihood ratio test: chi2=61.1991 , p=0.0000  , df=4\n",
            "parameter F test:         F=15.7458 , p=0.0000  , df_denom=748, df_num=4\n",
            "\n",
            "Granger Causality\n",
            "number of lags (no zero) 5\n",
            "ssr based F test:         F=15.2473 , p=0.0000  , df_denom=745, df_num=5\n",
            "ssr based chi2 test:   chi2=77.3620 , p=0.0000  , df=5\n",
            "likelihood ratio test: chi2=73.6547 , p=0.0000  , df=5\n",
            "parameter F test:         F=15.2473 , p=0.0000  , df_denom=745, df_num=5\n",
            "\n",
            "Granger Causality\n",
            "number of lags (no zero) 6\n",
            "ssr based F test:         F=12.4746 , p=0.0000  , df_denom=742, df_num=6\n",
            "ssr based chi2 test:   chi2=76.1591 , p=0.0000  , df=6\n",
            "likelihood ratio test: chi2=72.5582 , p=0.0000  , df=6\n",
            "parameter F test:         F=12.4746 , p=0.0000  , df_denom=742, df_num=6\n",
            "\n",
            "Granger Causality\n",
            "number of lags (no zero) 7\n",
            "ssr based F test:         F=4.5154  , p=0.0001  , df_denom=739, df_num=7\n",
            "ssr based chi2 test:   chi2=32.2494 , p=0.0000  , df=7\n",
            "likelihood ratio test: chi2=31.5788 , p=0.0000  , df=7\n",
            "parameter F test:         F=4.5154  , p=0.0001  , df_denom=739, df_num=7\n",
            "\n",
            "Granger Causality\n",
            "number of lags (no zero) 8\n",
            "ssr based F test:         F=4.7933  , p=0.0000  , df_denom=736, df_num=8\n",
            "ssr based chi2 test:   chi2=39.2322 , p=0.0000  , df=8\n",
            "likelihood ratio test: chi2=38.2444 , p=0.0000  , df=8\n",
            "parameter F test:         F=4.7933  , p=0.0000  , df_denom=736, df_num=8\n",
            "\n",
            "Granger Causality\n",
            "number of lags (no zero) 9\n",
            "ssr based F test:         F=5.1453  , p=0.0000  , df_denom=733, df_num=9\n",
            "ssr based chi2 test:   chi2=47.5076 , p=0.0000  , df=9\n",
            "likelihood ratio test: chi2=46.0673 , p=0.0000  , df=9\n",
            "parameter F test:         F=5.1453  , p=0.0000  , df_denom=733, df_num=9\n",
            "\n",
            "Granger Causality\n",
            "number of lags (no zero) 10\n",
            "ssr based F test:         F=6.2625  , p=0.0000  , df_denom=730, df_num=10\n",
            "ssr based chi2 test:   chi2=64.4267 , p=0.0000  , df=10\n",
            "likelihood ratio test: chi2=61.8117 , p=0.0000  , df=10\n",
            "parameter F test:         F=6.2625  , p=0.0000  , df_denom=730, df_num=10\n"
          ]
        }
      ]
    },
    {
      "cell_type": "code",
      "source": [
        "gc_res = sm.tsa.stattools.grangercausalitytests(df_merged_US[['residential_percent_change_from_baseline', 'total_vaccinations']],maxlag=10)"
      ],
      "metadata": {
        "id": "mDRLKdYq0Nj7",
        "outputId": "a6b0bc7e-cc75-45fb-9992-e5433448e390",
        "colab": {
          "base_uri": "https://localhost:8080/"
        }
      },
      "execution_count": 120,
      "outputs": [
        {
          "output_type": "stream",
          "name": "stdout",
          "text": [
            "\n",
            "Granger Causality\n",
            "number of lags (no zero) 1\n",
            "ssr based F test:         F=25.7722 , p=0.0000  , df_denom=757, df_num=1\n",
            "ssr based chi2 test:   chi2=25.8743 , p=0.0000  , df=1\n",
            "likelihood ratio test: chi2=25.4436 , p=0.0000  , df=1\n",
            "parameter F test:         F=25.7722 , p=0.0000  , df_denom=757, df_num=1\n",
            "\n",
            "Granger Causality\n",
            "number of lags (no zero) 2\n",
            "ssr based F test:         F=15.0299 , p=0.0000  , df_denom=754, df_num=2\n",
            "ssr based chi2 test:   chi2=30.2592 , p=0.0000  , df=2\n",
            "likelihood ratio test: chi2=29.6716 , p=0.0000  , df=2\n",
            "parameter F test:         F=15.0299 , p=0.0000  , df_denom=754, df_num=2\n",
            "\n",
            "Granger Causality\n",
            "number of lags (no zero) 3\n",
            "ssr based F test:         F=5.4891  , p=0.0010  , df_denom=751, df_num=3\n",
            "ssr based chi2 test:   chi2=16.6209 , p=0.0008  , df=3\n",
            "likelihood ratio test: chi2=16.4413 , p=0.0009  , df=3\n",
            "parameter F test:         F=5.4891  , p=0.0010  , df_denom=751, df_num=3\n",
            "\n",
            "Granger Causality\n",
            "number of lags (no zero) 4\n",
            "ssr based F test:         F=4.6416  , p=0.0010  , df_denom=748, df_num=4\n",
            "ssr based chi2 test:   chi2=18.7897 , p=0.0009  , df=4\n",
            "likelihood ratio test: chi2=18.5603 , p=0.0010  , df=4\n",
            "parameter F test:         F=4.6416  , p=0.0010  , df_denom=748, df_num=4\n",
            "\n",
            "Granger Causality\n",
            "number of lags (no zero) 5\n",
            "ssr based F test:         F=3.5053  , p=0.0039  , df_denom=745, df_num=5\n",
            "ssr based chi2 test:   chi2=17.7851 , p=0.0032  , df=5\n",
            "likelihood ratio test: chi2=17.5791 , p=0.0035  , df=5\n",
            "parameter F test:         F=3.5053  , p=0.0039  , df_denom=745, df_num=5\n",
            "\n",
            "Granger Causality\n",
            "number of lags (no zero) 6\n",
            "ssr based F test:         F=1.4026  , p=0.2109  , df_denom=742, df_num=6\n",
            "ssr based chi2 test:   chi2=8.5628  , p=0.1997  , df=6\n",
            "likelihood ratio test: chi2=8.5146  , p=0.2028  , df=6\n",
            "parameter F test:         F=1.4026  , p=0.2109  , df_denom=742, df_num=6\n",
            "\n",
            "Granger Causality\n",
            "number of lags (no zero) 7\n",
            "ssr based F test:         F=1.8248  , p=0.0796  , df_denom=739, df_num=7\n",
            "ssr based chi2 test:   chi2=13.0329 , p=0.0713  , df=7\n",
            "likelihood ratio test: chi2=12.9216 , p=0.0740  , df=7\n",
            "parameter F test:         F=1.8248  , p=0.0796  , df_denom=739, df_num=7\n",
            "\n",
            "Granger Causality\n",
            "number of lags (no zero) 8\n",
            "ssr based F test:         F=1.6215  , p=0.1149  , df_denom=736, df_num=8\n",
            "ssr based chi2 test:   chi2=13.2719 , p=0.1028  , df=8\n",
            "likelihood ratio test: chi2=13.1563 , p=0.1066  , df=8\n",
            "parameter F test:         F=1.6215  , p=0.1149  , df_denom=736, df_num=8\n",
            "\n",
            "Granger Causality\n",
            "number of lags (no zero) 9\n",
            "ssr based F test:         F=3.0995  , p=0.0012  , df_denom=733, df_num=9\n",
            "ssr based chi2 test:   chi2=28.6183 , p=0.0008  , df=9\n",
            "likelihood ratio test: chi2=28.0871 , p=0.0009  , df=9\n",
            "parameter F test:         F=3.0995  , p=0.0012  , df_denom=733, df_num=9\n",
            "\n",
            "Granger Causality\n",
            "number of lags (no zero) 10\n",
            "ssr based F test:         F=3.8881  , p=0.0000  , df_denom=730, df_num=10\n",
            "ssr based chi2 test:   chi2=39.9992 , p=0.0000  , df=10\n",
            "likelihood ratio test: chi2=38.9703 , p=0.0000  , df=10\n",
            "parameter F test:         F=3.8881  , p=0.0000  , df_denom=730, df_num=10\n"
          ]
        }
      ]
    },
    {
      "cell_type": "code",
      "source": [
        "gc_res = sm.tsa.stattools.grangercausalitytests(df_merged_US[['residential_percent_change_from_baseline', 'lockdown_index']],maxlag=10)"
      ],
      "metadata": {
        "id": "itN5V38a008d",
        "outputId": "dd6821a0-7a9b-4a36-dcd6-dbc16578f11a",
        "colab": {
          "base_uri": "https://localhost:8080/"
        }
      },
      "execution_count": 121,
      "outputs": [
        {
          "output_type": "stream",
          "name": "stdout",
          "text": [
            "\n",
            "Granger Causality\n",
            "number of lags (no zero) 1\n",
            "ssr based F test:         F=63.6646 , p=0.0000  , df_denom=757, df_num=1\n",
            "ssr based chi2 test:   chi2=63.9169 , p=0.0000  , df=1\n",
            "likelihood ratio test: chi2=61.3709 , p=0.0000  , df=1\n",
            "parameter F test:         F=63.6646 , p=0.0000  , df_denom=757, df_num=1\n",
            "\n",
            "Granger Causality\n",
            "number of lags (no zero) 2\n",
            "ssr based F test:         F=39.1457 , p=0.0000  , df_denom=754, df_num=2\n",
            "ssr based chi2 test:   chi2=78.8106 , p=0.0000  , df=2\n",
            "likelihood ratio test: chi2=74.9818 , p=0.0000  , df=2\n",
            "parameter F test:         F=39.1457 , p=0.0000  , df_denom=754, df_num=2\n",
            "\n",
            "Granger Causality\n",
            "number of lags (no zero) 3\n",
            "ssr based F test:         F=14.9868 , p=0.0000  , df_denom=751, df_num=3\n",
            "ssr based chi2 test:   chi2=45.3794 , p=0.0000  , df=3\n",
            "likelihood ratio test: chi2=44.0729 , p=0.0000  , df=3\n",
            "parameter F test:         F=14.9868 , p=0.0000  , df_denom=751, df_num=3\n",
            "\n",
            "Granger Causality\n",
            "number of lags (no zero) 4\n",
            "ssr based F test:         F=11.5713 , p=0.0000  , df_denom=748, df_num=4\n",
            "ssr based chi2 test:   chi2=46.8419 , p=0.0000  , df=4\n",
            "likelihood ratio test: chi2=45.4498 , p=0.0000  , df=4\n",
            "parameter F test:         F=11.5713 , p=0.0000  , df_denom=748, df_num=4\n",
            "\n",
            "Granger Causality\n",
            "number of lags (no zero) 5\n",
            "ssr based F test:         F=8.1360  , p=0.0000  , df_denom=745, df_num=5\n",
            "ssr based chi2 test:   chi2=41.2805 , p=0.0000  , df=5\n",
            "likelihood ratio test: chi2=40.1929 , p=0.0000  , df=5\n",
            "parameter F test:         F=8.1360  , p=0.0000  , df_denom=745, df_num=5\n",
            "\n",
            "Granger Causality\n",
            "number of lags (no zero) 6\n",
            "ssr based F test:         F=5.6918  , p=0.0000  , df_denom=742, df_num=6\n",
            "ssr based chi2 test:   chi2=34.7493 , p=0.0000  , df=6\n",
            "likelihood ratio test: chi2=33.9733 , p=0.0000  , df=6\n",
            "parameter F test:         F=5.6918  , p=0.0000  , df_denom=742, df_num=6\n",
            "\n",
            "Granger Causality\n",
            "number of lags (no zero) 7\n",
            "ssr based F test:         F=14.8784 , p=0.0000  , df_denom=739, df_num=7\n",
            "ssr based chi2 test:   chi2=106.2628, p=0.0000  , df=7\n",
            "likelihood ratio test: chi2=99.4116 , p=0.0000  , df=7\n",
            "parameter F test:         F=14.8784 , p=0.0000  , df_denom=739, df_num=7\n",
            "\n",
            "Granger Causality\n",
            "number of lags (no zero) 8\n",
            "ssr based F test:         F=8.4848  , p=0.0000  , df_denom=736, df_num=8\n",
            "ssr based chi2 test:   chi2=69.4462 , p=0.0000  , df=8\n",
            "likelihood ratio test: chi2=66.4280 , p=0.0000  , df=8\n",
            "parameter F test:         F=8.4848  , p=0.0000  , df_denom=736, df_num=8\n",
            "\n",
            "Granger Causality\n",
            "number of lags (no zero) 9\n",
            "ssr based F test:         F=6.0727  , p=0.0000  , df_denom=733, df_num=9\n",
            "ssr based chi2 test:   chi2=56.0710 , p=0.0000  , df=9\n",
            "likelihood ratio test: chi2=54.0791 , p=0.0000  , df=9\n",
            "parameter F test:         F=6.0727  , p=0.0000  , df_denom=733, df_num=9\n",
            "\n",
            "Granger Causality\n",
            "number of lags (no zero) 10\n",
            "ssr based F test:         F=4.9504  , p=0.0000  , df_denom=730, df_num=10\n",
            "ssr based chi2 test:   chi2=50.9283 , p=0.0000  , df=10\n",
            "likelihood ratio test: chi2=49.2758 , p=0.0000  , df=10\n",
            "parameter F test:         F=4.9504  , p=0.0000  , df_denom=730, df_num=10\n"
          ]
        }
      ]
    },
    {
      "cell_type": "code",
      "source": [
        "gc_res = sm.tsa.stattools.grangercausalitytests(df_merged_US[['residential_percent_change_from_baseline', 'deaths_ppm']],maxlag=10)"
      ],
      "metadata": {
        "colab": {
          "base_uri": "https://localhost:8080/"
        },
        "id": "l98YlGVEmcLz",
        "outputId": "d49e7c65-f6bd-455f-e4f5-4d1bba361c33"
      },
      "execution_count": 122,
      "outputs": [
        {
          "output_type": "stream",
          "name": "stdout",
          "text": [
            "\n",
            "Granger Causality\n",
            "number of lags (no zero) 1\n",
            "ssr based F test:         F=0.0689  , p=0.7930  , df_denom=757, df_num=1\n",
            "ssr based chi2 test:   chi2=0.0692  , p=0.7925  , df=1\n",
            "likelihood ratio test: chi2=0.0692  , p=0.7925  , df=1\n",
            "parameter F test:         F=0.0689  , p=0.7930  , df_denom=757, df_num=1\n",
            "\n",
            "Granger Causality\n",
            "number of lags (no zero) 2\n",
            "ssr based F test:         F=0.3161  , p=0.7291  , df_denom=754, df_num=2\n",
            "ssr based chi2 test:   chi2=0.6364  , p=0.7275  , df=2\n",
            "likelihood ratio test: chi2=0.6361  , p=0.7276  , df=2\n",
            "parameter F test:         F=0.3161  , p=0.7291  , df_denom=754, df_num=2\n",
            "\n",
            "Granger Causality\n",
            "number of lags (no zero) 3\n",
            "ssr based F test:         F=3.5544  , p=0.0141  , df_denom=751, df_num=3\n",
            "ssr based chi2 test:   chi2=10.7626 , p=0.0131  , df=3\n",
            "likelihood ratio test: chi2=10.6869 , p=0.0135  , df=3\n",
            "parameter F test:         F=3.5544  , p=0.0141  , df_denom=751, df_num=3\n",
            "\n",
            "Granger Causality\n",
            "number of lags (no zero) 4\n",
            "ssr based F test:         F=3.0480  , p=0.0166  , df_denom=748, df_num=4\n",
            "ssr based chi2 test:   chi2=12.3389 , p=0.0150  , df=4\n",
            "likelihood ratio test: chi2=12.2394 , p=0.0157  , df=4\n",
            "parameter F test:         F=3.0480  , p=0.0166  , df_denom=748, df_num=4\n",
            "\n",
            "Granger Causality\n",
            "number of lags (no zero) 5\n",
            "ssr based F test:         F=16.6593 , p=0.0000  , df_denom=745, df_num=5\n",
            "ssr based chi2 test:   chi2=84.5262 , p=0.0000  , df=5\n",
            "likelihood ratio test: chi2=80.1260 , p=0.0000  , df=5\n",
            "parameter F test:         F=16.6593 , p=0.0000  , df_denom=745, df_num=5\n",
            "\n",
            "Granger Causality\n",
            "number of lags (no zero) 6\n",
            "ssr based F test:         F=10.0254 , p=0.0000  , df_denom=742, df_num=6\n",
            "ssr based chi2 test:   chi2=61.2062 , p=0.0000  , df=6\n",
            "likelihood ratio test: chi2=58.8517 , p=0.0000  , df=6\n",
            "parameter F test:         F=10.0254 , p=0.0000  , df_denom=742, df_num=6\n",
            "\n",
            "Granger Causality\n",
            "number of lags (no zero) 7\n",
            "ssr based F test:         F=7.2265  , p=0.0000  , df_denom=739, df_num=7\n",
            "ssr based chi2 test:   chi2=51.6125 , p=0.0000  , df=7\n",
            "likelihood ratio test: chi2=49.9227 , p=0.0000  , df=7\n",
            "parameter F test:         F=7.2265  , p=0.0000  , df_denom=739, df_num=7\n",
            "\n",
            "Granger Causality\n",
            "number of lags (no zero) 8\n",
            "ssr based F test:         F=4.7165  , p=0.0000  , df_denom=736, df_num=8\n",
            "ssr based chi2 test:   chi2=38.6035 , p=0.0000  , df=8\n",
            "likelihood ratio test: chi2=37.6466 , p=0.0000  , df=8\n",
            "parameter F test:         F=4.7165  , p=0.0000  , df_denom=736, df_num=8\n",
            "\n",
            "Granger Causality\n",
            "number of lags (no zero) 9\n",
            "ssr based F test:         F=4.3842  , p=0.0000  , df_denom=733, df_num=9\n",
            "ssr based chi2 test:   chi2=40.4810 , p=0.0000  , df=9\n",
            "likelihood ratio test: chi2=39.4290 , p=0.0000  , df=9\n",
            "parameter F test:         F=4.3842  , p=0.0000  , df_denom=733, df_num=9\n",
            "\n",
            "Granger Causality\n",
            "number of lags (no zero) 10\n",
            "ssr based F test:         F=4.0527  , p=0.0000  , df_denom=730, df_num=10\n",
            "ssr based chi2 test:   chi2=41.6925 , p=0.0000  , df=10\n",
            "likelihood ratio test: chi2=40.5764 , p=0.0000  , df=10\n",
            "parameter F test:         F=4.0527  , p=0.0000  , df_denom=730, df_num=10\n"
          ]
        }
      ]
    },
    {
      "cell_type": "code",
      "source": [
        ""
      ],
      "metadata": {
        "id": "0MB4F5Cymkf0"
      },
      "execution_count": null,
      "outputs": []
    },
    {
      "cell_type": "code",
      "source": [
        "df_merged_US.dtypes"
      ],
      "metadata": {
        "colab": {
          "base_uri": "https://localhost:8080/"
        },
        "id": "OBbc4lwFmir5",
        "outputId": "d2634fac-3424-437c-b428-eef45d5977a5"
      },
      "execution_count": 117,
      "outputs": [
        {
          "output_type": "execute_result",
          "data": {
            "text/plain": [
              "country                                                       object\n",
              "date                                                  datetime64[ns]\n",
              "total_cases                                                  float64\n",
              "total_deaths                                                 float64\n",
              "population                                                   float64\n",
              "new_vaccinations_smoothed                                    float64\n",
              "new_people_vaccinated_smoothed                               float64\n",
              "retail_and_recreation_percent_change_from_baseline           float64\n",
              "grocery_and_pharmacy_percent_change_from_baseline            float64\n",
              "parks_percent_change_from_baseline                           float64\n",
              "transit_stations_percent_change_from_baseline                float64\n",
              "workplaces_percent_change_from_baseline                      float64\n",
              "residential_percent_change_from_baseline                     float64\n",
              "lockdown_index                                               float64\n",
              "weekday                                                        int64\n",
              "new_cases_raw                                                float64\n",
              "cases_ppm                                                    float64\n",
              "new_deaths_raw                                               float64\n",
              "deaths_ppm                                                   float64\n",
              "total_vaccinations                                           float64\n",
              "dtype: object"
            ]
          },
          "metadata": {},
          "execution_count": 117
        }
      ]
    },
    {
      "cell_type": "markdown",
      "source": [
        "### test-train-validation split\n"
      ],
      "metadata": {
        "id": "m84JFL9FX9pP"
      }
    },
    {
      "cell_type": "code",
      "source": [
        "from sklearn.model_selection import train_test_split\n",
        "def train_test_split_udf (df, frac):\n",
        "    X_train, X_test = train_test_split(df, test_size=(frac), random_state=22)\n",
        "    return X_train, X_test"
      ],
      "metadata": {
        "id": "8FSx8kxnYF-a"
      },
      "execution_count": null,
      "outputs": []
    },
    {
      "cell_type": "code",
      "source": [
        "df_train_1, df_test_1 = train_test_split_udf (df_merged, 0.2)\n",
        "df_train_2, df_val_1 = train_test_split_udf (df_train_1, 0.125)"
      ],
      "metadata": {
        "id": "Q67JdJsqYJ4f"
      },
      "execution_count": null,
      "outputs": []
    },
    {
      "cell_type": "code",
      "source": [
        ""
      ],
      "metadata": {
        "id": "tp-voihSmazL"
      },
      "execution_count": null,
      "outputs": []
    },
    {
      "cell_type": "markdown",
      "source": [
        "## Stationarity"
      ],
      "metadata": {
        "id": "7ZuAEEqCZlA7"
      }
    },
    {
      "cell_type": "code",
      "source": [
        "df_sub.tail(5)"
      ],
      "metadata": {
        "colab": {
          "base_uri": "https://localhost:8080/",
          "height": 357
        },
        "id": "4r96blyuZjkV",
        "outputId": "86654bf5-4ccc-4f5e-b065-4998dd68dce8"
      },
      "execution_count": null,
      "outputs": [
        {
          "output_type": "execute_result",
          "data": {
            "text/plain": [
              "       deaths_ppm   cases_ppm  total_vaccinations  \\\n",
              "88296    1.279606   31.428436         254619167.0   \n",
              "88297    0.504633   32.518804         254667021.0   \n",
              "88298   -7.854856  104.362952         254713948.0   \n",
              "88299    3.847828   76.746300         254760201.0   \n",
              "88300    5.836323  135.214664         254805930.0   \n",
              "\n",
              "       workplaces_percent_change_from_baseline  \\\n",
              "88296                                    -10.0   \n",
              "88297                                     -9.0   \n",
              "88298                                    -24.0   \n",
              "88299                                    -23.0   \n",
              "88300                                    -22.0   \n",
              "\n",
              "       residential_percent_change_from_baseline  lockdown_index       date  \\\n",
              "88296                                       4.0           53.24 2022-03-12   \n",
              "88297                                       2.0           53.24 2022-03-13   \n",
              "88298                                       6.0           53.24 2022-03-14   \n",
              "88299                                       5.0           53.24 2022-03-15   \n",
              "88300                                       5.0           58.80 2022-03-16   \n",
              "\n",
              "          mov_avg  mov_avg_work_mob  mov_avg_res_mob  \n",
              "88296  745.682666            -121.0             34.0  \n",
              "88297  745.030848            -121.0             34.0  \n",
              "88298  658.897770            -124.0             34.0  \n",
              "88299  646.245895            -127.0             34.0  \n",
              "88300  669.209710            -129.0             33.0  "
            ],
            "text/html": [
              "\n",
              "  <div id=\"df-ddf10fd3-6d00-4dbc-9af1-b7848019f845\">\n",
              "    <div class=\"colab-df-container\">\n",
              "      <div>\n",
              "<style scoped>\n",
              "    .dataframe tbody tr th:only-of-type {\n",
              "        vertical-align: middle;\n",
              "    }\n",
              "\n",
              "    .dataframe tbody tr th {\n",
              "        vertical-align: top;\n",
              "    }\n",
              "\n",
              "    .dataframe thead th {\n",
              "        text-align: right;\n",
              "    }\n",
              "</style>\n",
              "<table border=\"1\" class=\"dataframe\">\n",
              "  <thead>\n",
              "    <tr style=\"text-align: right;\">\n",
              "      <th></th>\n",
              "      <th>deaths_ppm</th>\n",
              "      <th>cases_ppm</th>\n",
              "      <th>total_vaccinations</th>\n",
              "      <th>workplaces_percent_change_from_baseline</th>\n",
              "      <th>residential_percent_change_from_baseline</th>\n",
              "      <th>lockdown_index</th>\n",
              "      <th>date</th>\n",
              "      <th>mov_avg</th>\n",
              "      <th>mov_avg_work_mob</th>\n",
              "      <th>mov_avg_res_mob</th>\n",
              "    </tr>\n",
              "  </thead>\n",
              "  <tbody>\n",
              "    <tr>\n",
              "      <th>88296</th>\n",
              "      <td>1.279606</td>\n",
              "      <td>31.428436</td>\n",
              "      <td>254619167.0</td>\n",
              "      <td>-10.0</td>\n",
              "      <td>4.0</td>\n",
              "      <td>53.24</td>\n",
              "      <td>2022-03-12</td>\n",
              "      <td>745.682666</td>\n",
              "      <td>-121.0</td>\n",
              "      <td>34.0</td>\n",
              "    </tr>\n",
              "    <tr>\n",
              "      <th>88297</th>\n",
              "      <td>0.504633</td>\n",
              "      <td>32.518804</td>\n",
              "      <td>254667021.0</td>\n",
              "      <td>-9.0</td>\n",
              "      <td>2.0</td>\n",
              "      <td>53.24</td>\n",
              "      <td>2022-03-13</td>\n",
              "      <td>745.030848</td>\n",
              "      <td>-121.0</td>\n",
              "      <td>34.0</td>\n",
              "    </tr>\n",
              "    <tr>\n",
              "      <th>88298</th>\n",
              "      <td>-7.854856</td>\n",
              "      <td>104.362952</td>\n",
              "      <td>254713948.0</td>\n",
              "      <td>-24.0</td>\n",
              "      <td>6.0</td>\n",
              "      <td>53.24</td>\n",
              "      <td>2022-03-14</td>\n",
              "      <td>658.897770</td>\n",
              "      <td>-124.0</td>\n",
              "      <td>34.0</td>\n",
              "    </tr>\n",
              "    <tr>\n",
              "      <th>88299</th>\n",
              "      <td>3.847828</td>\n",
              "      <td>76.746300</td>\n",
              "      <td>254760201.0</td>\n",
              "      <td>-23.0</td>\n",
              "      <td>5.0</td>\n",
              "      <td>53.24</td>\n",
              "      <td>2022-03-15</td>\n",
              "      <td>646.245895</td>\n",
              "      <td>-127.0</td>\n",
              "      <td>34.0</td>\n",
              "    </tr>\n",
              "    <tr>\n",
              "      <th>88300</th>\n",
              "      <td>5.836323</td>\n",
              "      <td>135.214664</td>\n",
              "      <td>254805930.0</td>\n",
              "      <td>-22.0</td>\n",
              "      <td>5.0</td>\n",
              "      <td>58.80</td>\n",
              "      <td>2022-03-16</td>\n",
              "      <td>669.209710</td>\n",
              "      <td>-129.0</td>\n",
              "      <td>33.0</td>\n",
              "    </tr>\n",
              "  </tbody>\n",
              "</table>\n",
              "</div>\n",
              "      <button class=\"colab-df-convert\" onclick=\"convertToInteractive('df-ddf10fd3-6d00-4dbc-9af1-b7848019f845')\"\n",
              "              title=\"Convert this dataframe to an interactive table.\"\n",
              "              style=\"display:none;\">\n",
              "        \n",
              "  <svg xmlns=\"http://www.w3.org/2000/svg\" height=\"24px\"viewBox=\"0 0 24 24\"\n",
              "       width=\"24px\">\n",
              "    <path d=\"M0 0h24v24H0V0z\" fill=\"none\"/>\n",
              "    <path d=\"M18.56 5.44l.94 2.06.94-2.06 2.06-.94-2.06-.94-.94-2.06-.94 2.06-2.06.94zm-11 1L8.5 8.5l.94-2.06 2.06-.94-2.06-.94L8.5 2.5l-.94 2.06-2.06.94zm10 10l.94 2.06.94-2.06 2.06-.94-2.06-.94-.94-2.06-.94 2.06-2.06.94z\"/><path d=\"M17.41 7.96l-1.37-1.37c-.4-.4-.92-.59-1.43-.59-.52 0-1.04.2-1.43.59L10.3 9.45l-7.72 7.72c-.78.78-.78 2.05 0 2.83L4 21.41c.39.39.9.59 1.41.59.51 0 1.02-.2 1.41-.59l7.78-7.78 2.81-2.81c.8-.78.8-2.07 0-2.86zM5.41 20L4 18.59l7.72-7.72 1.47 1.35L5.41 20z\"/>\n",
              "  </svg>\n",
              "      </button>\n",
              "      \n",
              "  <style>\n",
              "    .colab-df-container {\n",
              "      display:flex;\n",
              "      flex-wrap:wrap;\n",
              "      gap: 12px;\n",
              "    }\n",
              "\n",
              "    .colab-df-convert {\n",
              "      background-color: #E8F0FE;\n",
              "      border: none;\n",
              "      border-radius: 50%;\n",
              "      cursor: pointer;\n",
              "      display: none;\n",
              "      fill: #1967D2;\n",
              "      height: 32px;\n",
              "      padding: 0 0 0 0;\n",
              "      width: 32px;\n",
              "    }\n",
              "\n",
              "    .colab-df-convert:hover {\n",
              "      background-color: #E2EBFA;\n",
              "      box-shadow: 0px 1px 2px rgba(60, 64, 67, 0.3), 0px 1px 3px 1px rgba(60, 64, 67, 0.15);\n",
              "      fill: #174EA6;\n",
              "    }\n",
              "\n",
              "    [theme=dark] .colab-df-convert {\n",
              "      background-color: #3B4455;\n",
              "      fill: #D2E3FC;\n",
              "    }\n",
              "\n",
              "    [theme=dark] .colab-df-convert:hover {\n",
              "      background-color: #434B5C;\n",
              "      box-shadow: 0px 1px 3px 1px rgba(0, 0, 0, 0.15);\n",
              "      filter: drop-shadow(0px 1px 2px rgba(0, 0, 0, 0.3));\n",
              "      fill: #FFFFFF;\n",
              "    }\n",
              "  </style>\n",
              "\n",
              "      <script>\n",
              "        const buttonEl =\n",
              "          document.querySelector('#df-ddf10fd3-6d00-4dbc-9af1-b7848019f845 button.colab-df-convert');\n",
              "        buttonEl.style.display =\n",
              "          google.colab.kernel.accessAllowed ? 'block' : 'none';\n",
              "\n",
              "        async function convertToInteractive(key) {\n",
              "          const element = document.querySelector('#df-ddf10fd3-6d00-4dbc-9af1-b7848019f845');\n",
              "          const dataTable =\n",
              "            await google.colab.kernel.invokeFunction('convertToInteractive',\n",
              "                                                     [key], {});\n",
              "          if (!dataTable) return;\n",
              "\n",
              "          const docLinkHtml = 'Like what you see? Visit the ' +\n",
              "            '<a target=\"_blank\" href=https://colab.research.google.com/notebooks/data_table.ipynb>data table notebook</a>'\n",
              "            + ' to learn more about interactive tables.';\n",
              "          element.innerHTML = '';\n",
              "          dataTable['output_type'] = 'display_data';\n",
              "          await google.colab.output.renderOutput(dataTable, element);\n",
              "          const docLink = document.createElement('div');\n",
              "          docLink.innerHTML = docLinkHtml;\n",
              "          element.appendChild(docLink);\n",
              "        }\n",
              "      </script>\n",
              "    </div>\n",
              "  </div>\n",
              "  "
            ]
          },
          "metadata": {},
          "execution_count": 88
        }
      ]
    },
    {
      "cell_type": "code",
      "source": [
        "train = df_sub[df_sub['date'] < pd.to_datetime(\"2021-12\", format='%Y-%m')]\n",
        "train['train'] = train['mov_avg_work_mob']\n",
        "del train['date']\n",
        "del train['mov_avg_work_mob']\n",
        "test = df_sub[df_sub['date'] >= pd.to_datetime(\"2021-12\", format='%Y-%m')]\n",
        "del test['date']\n",
        "test['test'] = test['mov_avg_work_mob']\n",
        "del test['mov_avg_work_mob']"
      ],
      "metadata": {
        "colab": {
          "base_uri": "https://localhost:8080/"
        },
        "id": "hOECjWXSZ5_b",
        "outputId": "731038ed-c850-45bc-d5bf-144de4cd9ae4"
      },
      "execution_count": null,
      "outputs": [
        {
          "output_type": "stream",
          "name": "stderr",
          "text": [
            "/usr/local/lib/python3.7/dist-packages/ipykernel_launcher.py:2: SettingWithCopyWarning: \n",
            "A value is trying to be set on a copy of a slice from a DataFrame.\n",
            "Try using .loc[row_indexer,col_indexer] = value instead\n",
            "\n",
            "See the caveats in the documentation: https://pandas.pydata.org/pandas-docs/stable/user_guide/indexing.html#returning-a-view-versus-a-copy\n",
            "  \n",
            "/usr/local/lib/python3.7/dist-packages/ipykernel_launcher.py:7: SettingWithCopyWarning: \n",
            "A value is trying to be set on a copy of a slice from a DataFrame.\n",
            "Try using .loc[row_indexer,col_indexer] = value instead\n",
            "\n",
            "See the caveats in the documentation: https://pandas.pydata.org/pandas-docs/stable/user_guide/indexing.html#returning-a-view-versus-a-copy\n",
            "  import sys\n"
          ]
        }
      ]
    },
    {
      "cell_type": "code",
      "source": [
        "test.shape"
      ],
      "metadata": {
        "colab": {
          "base_uri": "https://localhost:8080/"
        },
        "id": "8tD6uIYyaP57",
        "outputId": "c5103bc4-7696-4d09-cd21-ce3ffaad3c01"
      },
      "execution_count": null,
      "outputs": [
        {
          "output_type": "execute_result",
          "data": {
            "text/plain": [
              "(106, 9)"
            ]
          },
          "metadata": {},
          "execution_count": 94
        }
      ]
    },
    {
      "cell_type": "code",
      "source": [
        "train.shape"
      ],
      "metadata": {
        "colab": {
          "base_uri": "https://localhost:8080/"
        },
        "id": "MMrHk0Q1dBO1",
        "outputId": "2f04f35b-b46d-4feb-b44b-3c7d2eba3e3b"
      },
      "execution_count": null,
      "outputs": [
        {
          "output_type": "execute_result",
          "data": {
            "text/plain": [
              "(655, 9)"
            ]
          },
          "metadata": {},
          "execution_count": 95
        }
      ]
    },
    {
      "cell_type": "code",
      "source": [
        "df_sub.shape"
      ],
      "metadata": {
        "colab": {
          "base_uri": "https://localhost:8080/"
        },
        "id": "mfHAYPYydDn3",
        "outputId": "0e255185-3f73-4bc6-f144-f6c0a917dfd9"
      },
      "execution_count": null,
      "outputs": [
        {
          "output_type": "execute_result",
          "data": {
            "text/plain": [
              "(761, 10)"
            ]
          },
          "metadata": {},
          "execution_count": 96
        }
      ]
    },
    {
      "cell_type": "code",
      "source": [
        "import seaborn as sns\n",
        "plt.plot(train['train'], color = \"black\")\n",
        "plt.plot(test['test'], color = \"red\")\n",
        "plt.title(\"Train/Test split for Passenger Data\")\n",
        "plt.ylabel(\"Passenger Number\")\n",
        "plt.xlabel('Year-Month')\n",
        "sns.set()\n",
        "plt.show()"
      ],
      "metadata": {
        "colab": {
          "base_uri": "https://localhost:8080/",
          "height": 301
        },
        "id": "wDmWeMOeaqxA",
        "outputId": "d29afa06-531a-4459-b3c4-d13ca53bc5e6"
      },
      "execution_count": null,
      "outputs": [
        {
          "output_type": "display_data",
          "data": {
            "text/plain": [
              "<Figure size 432x288 with 1 Axes>"
            ],
            "image/png": "[encoded data removed]"
          },
          "metadata": {}
        }
      ]
    },
    {
      "cell_type": "code",
      "source": [
        "series = df_sub[['mov_avg_work_mob', 'lockdown_index', 'date']]\n",
        "# create figure and axis objects with subplots()\n",
        "fig,ax = plt.subplots()\n",
        "# make a plot\n",
        "ax.plot(df_sub.date, df_sub.mov_avg_work_mob, color=\"red\")\n",
        "# set x-axis label\n",
        "ax.set_xlabel(\"date\",fontsize=14)\n",
        "# set y-axis label\n",
        "ax.set_ylabel(\"mov_avg_work_mob\",color=\"red\",fontsize=14)"
      ],
      "metadata": {
        "colab": {
          "base_uri": "https://localhost:8080/",
          "height": 304
        },
        "id": "RIzEWVGTcqyK",
        "outputId": "2ac1c7d1-56c1-4217-8c6f-1d9c5a79bd90"
      },
      "execution_count": null,
      "outputs": [
        {
          "output_type": "execute_result",
          "data": {
            "text/plain": [
              "Text(0, 0.5, 'mov_avg_work_mob')"
            ]
          },
          "metadata": {},
          "execution_count": 92
        },
        {
          "output_type": "display_data",
          "data": {
            "text/plain": [
              "<Figure size 432x288 with 1 Axes>"
            ],
            "image/png": "[encoded data removed]"
          },
          "metadata": {}
        }
      ]
    },
    {
      "cell_type": "code",
      "source": [
        "import seaborn as sns\n",
        "plt.plot(train['mov_'], color = \"black\")\n",
        "plt.plot(test['test'], color = \"red\")\n",
        "plt.title(\"Train/Test split for Passenger Data\")\n",
        "plt.ylabel(\"Passenger Number\")\n",
        "plt.xlabel('Year-Month')\n",
        "sns.set()\n",
        "plt.show()"
      ],
      "metadata": {
        "id": "SaBwHcJBclop"
      },
      "execution_count": null,
      "outputs": []
    },
    {
      "cell_type": "code",
      "source": [
        "pip install pmdarima"
      ],
      "metadata": {
        "colab": {
          "base_uri": "https://localhost:8080/",
          "height": 607
        },
        "id": "Oa1QCkQHdYXY",
        "outputId": "3a001ce2-70f5-4a76-8a7a-5423e9b34fb4"
      },
      "execution_count": null,
      "outputs": [
        {
          "output_type": "stream",
          "name": "stdout",
          "text": [
            "Collecting pmdarima\n",
            "  Downloading pmdarima-1.8.5-cp37-cp37m-manylinux_2_17_x86_64.manylinux2014_x86_64.manylinux_2_24_x86_64.whl (1.4 MB)\n",
            "\u001b[K     |████████████████████████████████| 1.4 MB 8.1 MB/s \n",
            "\u001b[?25hRequirement already satisfied: pandas>=0.19 in /usr/local/lib/python3.7/dist-packages (from pmdarima) (1.3.5)\n",
            "Requirement already satisfied: joblib>=0.11 in /usr/local/lib/python3.7/dist-packages (from pmdarima) (1.1.0)\n",
            "Requirement already satisfied: urllib3 in /usr/local/lib/python3.7/dist-packages (from pmdarima) (1.24.3)\n",
            "Requirement already satisfied: setuptools!=50.0.0,>=38.6.0 in /usr/local/lib/python3.7/dist-packages (from pmdarima) (57.4.0)\n",
            "Requirement already satisfied: scipy>=1.3.2 in /usr/local/lib/python3.7/dist-packages (from pmdarima) (1.4.1)\n",
            "Requirement already satisfied: numpy>=1.19.3 in /usr/local/lib/python3.7/dist-packages (from pmdarima) (1.21.5)\n",
            "Collecting statsmodels!=0.12.0,>=0.11\n",
            "  Downloading statsmodels-0.13.2-cp37-cp37m-manylinux_2_17_x86_64.manylinux2014_x86_64.whl (9.8 MB)\n",
            "\u001b[K     |████████████████████████████████| 9.8 MB 37.3 MB/s \n",
            "\u001b[?25hRequirement already satisfied: Cython!=0.29.18,>=0.29 in /usr/local/lib/python3.7/dist-packages (from pmdarima) (0.29.28)\n",
            "Requirement already satisfied: scikit-learn>=0.22 in /usr/local/lib/python3.7/dist-packages (from pmdarima) (1.0.2)\n",
            "Requirement already satisfied: python-dateutil>=2.7.3 in /usr/local/lib/python3.7/dist-packages (from pandas>=0.19->pmdarima) (2.8.2)\n",
            "Requirement already satisfied: pytz>=2017.3 in /usr/local/lib/python3.7/dist-packages (from pandas>=0.19->pmdarima) (2018.9)\n",
            "Requirement already satisfied: six>=1.5 in /usr/local/lib/python3.7/dist-packages (from python-dateutil>=2.7.3->pandas>=0.19->pmdarima) (1.15.0)\n",
            "Requirement already satisfied: threadpoolctl>=2.0.0 in /usr/local/lib/python3.7/dist-packages (from scikit-learn>=0.22->pmdarima) (3.1.0)\n",
            "Requirement already satisfied: packaging>=21.3 in /usr/local/lib/python3.7/dist-packages (from statsmodels!=0.12.0,>=0.11->pmdarima) (21.3)\n",
            "Requirement already satisfied: patsy>=0.5.2 in /usr/local/lib/python3.7/dist-packages (from statsmodels!=0.12.0,>=0.11->pmdarima) (0.5.2)\n",
            "Requirement already satisfied: pyparsing!=3.0.5,>=2.0.2 in /usr/local/lib/python3.7/dist-packages (from packaging>=21.3->statsmodels!=0.12.0,>=0.11->pmdarima) (3.0.8)\n",
            "Installing collected packages: statsmodels, pmdarima\n",
            "  Attempting uninstall: statsmodels\n",
            "    Found existing installation: statsmodels 0.10.2\n",
            "    Uninstalling statsmodels-0.10.2:\n",
            "      Successfully uninstalled statsmodels-0.10.2\n",
            "Successfully installed pmdarima-1.8.5 statsmodels-0.13.2\n"
          ]
        },
        {
          "output_type": "display_data",
          "data": {
            "application/vnd.colab-display-data+json": {
              "pip_warning": {
                "packages": [
                  "statsmodels"
                ]
              }
            }
          },
          "metadata": {}
        }
      ]
    },
    {
      "cell_type": "code",
      "source": [
        "train = train.dropna()"
      ],
      "metadata": {
        "id": "CyvsXfrfd1kB"
      },
      "execution_count": 101,
      "outputs": []
    },
    {
      "cell_type": "code",
      "source": [
        "from pmdarima.arima import auto_arima\n",
        "model = auto_arima(train['train'], trace=True, error_action='ignore', suppress_warnings=True)\n",
        "model.fit(train['train'])\n",
        "forecast = model.predict(n_periods=len(test['test']))\n",
        "forecast = pd.DataFrame(forecast,index = test.index,columns=['Prediction'])"
      ],
      "metadata": {
        "colab": {
          "base_uri": "https://localhost:8080/"
        },
        "id": "5Va3Y0UhdOnB",
        "outputId": "691baa0e-cafb-4b70-90ac-7aaf429ce93a"
      },
      "execution_count": 102,
      "outputs": [
        {
          "output_type": "stream",
          "name": "stdout",
          "text": [
            "Performing stepwise search to minimize aic\n",
            " ARIMA(2,1,2)(0,0,0)[0] intercept   : AIC=4407.907, Time=0.59 sec\n",
            " ARIMA(0,1,0)(0,0,0)[0] intercept   : AIC=4627.838, Time=0.03 sec\n",
            " ARIMA(1,1,0)(0,0,0)[0] intercept   : AIC=4414.792, Time=0.10 sec\n",
            " ARIMA(0,1,1)(0,0,0)[0] intercept   : AIC=4475.521, Time=0.21 sec\n",
            " ARIMA(0,1,0)(0,0,0)[0]             : AIC=4627.026, Time=0.02 sec\n",
            " ARIMA(1,1,2)(0,0,0)[0] intercept   : AIC=4412.762, Time=0.30 sec\n",
            " ARIMA(2,1,1)(0,0,0)[0] intercept   : AIC=4412.783, Time=0.38 sec\n",
            " ARIMA(3,1,2)(0,0,0)[0] intercept   : AIC=4369.848, Time=1.16 sec\n",
            " ARIMA(3,1,1)(0,0,0)[0] intercept   : AIC=4414.204, Time=0.50 sec\n",
            " ARIMA(4,1,2)(0,0,0)[0] intercept   : AIC=4397.024, Time=2.03 sec\n",
            " ARIMA(3,1,3)(0,0,0)[0] intercept   : AIC=4397.023, Time=1.63 sec\n",
            " ARIMA(2,1,3)(0,0,0)[0] intercept   : AIC=4379.117, Time=1.43 sec\n",
            " ARIMA(4,1,1)(0,0,0)[0] intercept   : AIC=4409.521, Time=0.88 sec\n",
            " ARIMA(4,1,3)(0,0,0)[0] intercept   : AIC=inf, Time=1.94 sec\n",
            " ARIMA(3,1,2)(0,0,0)[0]             : AIC=4368.023, Time=0.58 sec\n",
            " ARIMA(2,1,2)(0,0,0)[0]             : AIC=4406.281, Time=0.22 sec\n",
            " ARIMA(3,1,1)(0,0,0)[0]             : AIC=4412.449, Time=0.19 sec\n",
            " ARIMA(4,1,2)(0,0,0)[0]             : AIC=4395.313, Time=0.84 sec\n",
            " ARIMA(3,1,3)(0,0,0)[0]             : AIC=4395.312, Time=0.67 sec\n",
            " ARIMA(2,1,1)(0,0,0)[0]             : AIC=4411.037, Time=0.14 sec\n",
            " ARIMA(2,1,3)(0,0,0)[0]             : AIC=4377.398, Time=0.86 sec\n",
            " ARIMA(4,1,1)(0,0,0)[0]             : AIC=4407.891, Time=0.44 sec\n",
            " ARIMA(4,1,3)(0,0,0)[0]             : AIC=inf, Time=1.44 sec\n",
            "\n",
            "Best model:  ARIMA(3,1,2)(0,0,0)[0]          \n",
            "Total fit time: 16.638 seconds\n"
          ]
        }
      ]
    },
    {
      "cell_type": "code",
      "source": [
        "from math import sqrt\n",
        "from sklearn.metrics import mean_squared_error\n",
        "rms = sqrt(mean_squared_error(test['test'],forecast))\n",
        "print(\"RMSE: \", rms)"
      ],
      "metadata": {
        "colab": {
          "base_uri": "https://localhost:8080/"
        },
        "id": "B-oKDxI1drrs",
        "outputId": "6c7dd7eb-179c-4473-d2c2-40a7222c3998"
      },
      "execution_count": 103,
      "outputs": [
        {
          "output_type": "stream",
          "name": "stdout",
          "text": [
            "RMSE:  77.38313099198253\n"
          ]
        }
      ]
    },
    {
      "cell_type": "code",
      "source": [
        "forecast.head()"
      ],
      "metadata": {
        "colab": {
          "base_uri": "https://localhost:8080/",
          "height": 206
        },
        "id": "awGuhvaWeZKd",
        "outputId": "3e2add6e-3028-45b8-a7f7-3a860bec98b1"
      },
      "execution_count": 104,
      "outputs": [
        {
          "output_type": "execute_result",
          "data": {
            "text/plain": [
              "       Prediction\n",
              "88195 -243.563356\n",
              "88196 -222.887709\n",
              "88197 -206.656458\n",
              "88198 -201.506395\n",
              "88199 -206.674176"
            ],
            "text/html": [
              "\n",
              "  <div id=\"df-3bf7e31c-9c32-4125-b4ca-605da8f83585\">\n",
              "    <div class=\"colab-df-container\">\n",
              "      <div>\n",
              "<style scoped>\n",
              "    .dataframe tbody tr th:only-of-type {\n",
              "        vertical-align: middle;\n",
              "    }\n",
              "\n",
              "    .dataframe tbody tr th {\n",
              "        vertical-align: top;\n",
              "    }\n",
              "\n",
              "    .dataframe thead th {\n",
              "        text-align: right;\n",
              "    }\n",
              "</style>\n",
              "<table border=\"1\" class=\"dataframe\">\n",
              "  <thead>\n",
              "    <tr style=\"text-align: right;\">\n",
              "      <th></th>\n",
              "      <th>Prediction</th>\n",
              "    </tr>\n",
              "  </thead>\n",
              "  <tbody>\n",
              "    <tr>\n",
              "      <th>88195</th>\n",
              "      <td>-243.563356</td>\n",
              "    </tr>\n",
              "    <tr>\n",
              "      <th>88196</th>\n",
              "      <td>-222.887709</td>\n",
              "    </tr>\n",
              "    <tr>\n",
              "      <th>88197</th>\n",
              "      <td>-206.656458</td>\n",
              "    </tr>\n",
              "    <tr>\n",
              "      <th>88198</th>\n",
              "      <td>-201.506395</td>\n",
              "    </tr>\n",
              "    <tr>\n",
              "      <th>88199</th>\n",
              "      <td>-206.674176</td>\n",
              "    </tr>\n",
              "  </tbody>\n",
              "</table>\n",
              "</div>\n",
              "      <button class=\"colab-df-convert\" onclick=\"convertToInteractive('df-3bf7e31c-9c32-4125-b4ca-605da8f83585')\"\n",
              "              title=\"Convert this dataframe to an interactive table.\"\n",
              "              style=\"display:none;\">\n",
              "        \n",
              "  <svg xmlns=\"http://www.w3.org/2000/svg\" height=\"24px\"viewBox=\"0 0 24 24\"\n",
              "       width=\"24px\">\n",
              "    <path d=\"M0 0h24v24H0V0z\" fill=\"none\"/>\n",
              "    <path d=\"M18.56 5.44l.94 2.06.94-2.06 2.06-.94-2.06-.94-.94-2.06-.94 2.06-2.06.94zm-11 1L8.5 8.5l.94-2.06 2.06-.94-2.06-.94L8.5 2.5l-.94 2.06-2.06.94zm10 10l.94 2.06.94-2.06 2.06-.94-2.06-.94-.94-2.06-.94 2.06-2.06.94z\"/><path d=\"M17.41 7.96l-1.37-1.37c-.4-.4-.92-.59-1.43-.59-.52 0-1.04.2-1.43.59L10.3 9.45l-7.72 7.72c-.78.78-.78 2.05 0 2.83L4 21.41c.39.39.9.59 1.41.59.51 0 1.02-.2 1.41-.59l7.78-7.78 2.81-2.81c.8-.78.8-2.07 0-2.86zM5.41 20L4 18.59l7.72-7.72 1.47 1.35L5.41 20z\"/>\n",
              "  </svg>\n",
              "      </button>\n",
              "      \n",
              "  <style>\n",
              "    .colab-df-container {\n",
              "      display:flex;\n",
              "      flex-wrap:wrap;\n",
              "      gap: 12px;\n",
              "    }\n",
              "\n",
              "    .colab-df-convert {\n",
              "      background-color: #E8F0FE;\n",
              "      border: none;\n",
              "      border-radius: 50%;\n",
              "      cursor: pointer;\n",
              "      display: none;\n",
              "      fill: #1967D2;\n",
              "      height: 32px;\n",
              "      padding: 0 0 0 0;\n",
              "      width: 32px;\n",
              "    }\n",
              "\n",
              "    .colab-df-convert:hover {\n",
              "      background-color: #E2EBFA;\n",
              "      box-shadow: 0px 1px 2px rgba(60, 64, 67, 0.3), 0px 1px 3px 1px rgba(60, 64, 67, 0.15);\n",
              "      fill: #174EA6;\n",
              "    }\n",
              "\n",
              "    [theme=dark] .colab-df-convert {\n",
              "      background-color: #3B4455;\n",
              "      fill: #D2E3FC;\n",
              "    }\n",
              "\n",
              "    [theme=dark] .colab-df-convert:hover {\n",
              "      background-color: #434B5C;\n",
              "      box-shadow: 0px 1px 3px 1px rgba(0, 0, 0, 0.15);\n",
              "      filter: drop-shadow(0px 1px 2px rgba(0, 0, 0, 0.3));\n",
              "      fill: #FFFFFF;\n",
              "    }\n",
              "  </style>\n",
              "\n",
              "      <script>\n",
              "        const buttonEl =\n",
              "          document.querySelector('#df-3bf7e31c-9c32-4125-b4ca-605da8f83585 button.colab-df-convert');\n",
              "        buttonEl.style.display =\n",
              "          google.colab.kernel.accessAllowed ? 'block' : 'none';\n",
              "\n",
              "        async function convertToInteractive(key) {\n",
              "          const element = document.querySelector('#df-3bf7e31c-9c32-4125-b4ca-605da8f83585');\n",
              "          const dataTable =\n",
              "            await google.colab.kernel.invokeFunction('convertToInteractive',\n",
              "                                                     [key], {});\n",
              "          if (!dataTable) return;\n",
              "\n",
              "          const docLinkHtml = 'Like what you see? Visit the ' +\n",
              "            '<a target=\"_blank\" href=https://colab.research.google.com/notebooks/data_table.ipynb>data table notebook</a>'\n",
              "            + ' to learn more about interactive tables.';\n",
              "          element.innerHTML = '';\n",
              "          dataTable['output_type'] = 'display_data';\n",
              "          await google.colab.output.renderOutput(dataTable, element);\n",
              "          const docLink = document.createElement('div');\n",
              "          docLink.innerHTML = docLinkHtml;\n",
              "          element.appendChild(docLink);\n",
              "        }\n",
              "      </script>\n",
              "    </div>\n",
              "  </div>\n",
              "  "
            ]
          },
          "metadata": {},
          "execution_count": 104
        }
      ]
    },
    {
      "cell_type": "code",
      "source": [
        "test[['test']].head()"
      ],
      "metadata": {
        "colab": {
          "base_uri": "https://localhost:8080/",
          "height": 206
        },
        "id": "SfanFtv4ecSY",
        "outputId": "4e7f3418-d377-42bb-9d93-8da5728e0318"
      },
      "execution_count": 105,
      "outputs": [
        {
          "output_type": "execute_result",
          "data": {
            "text/plain": [
              "        test\n",
              "88195 -244.0\n",
              "88196 -182.0\n",
              "88197 -141.0\n",
              "88198 -128.0\n",
              "88199 -125.0"
            ],
            "text/html": [
              "\n",
              "  <div id=\"df-5fb859eb-027d-4f4e-97d5-6451e29eb374\">\n",
              "    <div class=\"colab-df-container\">\n",
              "      <div>\n",
              "<style scoped>\n",
              "    .dataframe tbody tr th:only-of-type {\n",
              "        vertical-align: middle;\n",
              "    }\n",
              "\n",
              "    .dataframe tbody tr th {\n",
              "        vertical-align: top;\n",
              "    }\n",
              "\n",
              "    .dataframe thead th {\n",
              "        text-align: right;\n",
              "    }\n",
              "</style>\n",
              "<table border=\"1\" class=\"dataframe\">\n",
              "  <thead>\n",
              "    <tr style=\"text-align: right;\">\n",
              "      <th></th>\n",
              "      <th>test</th>\n",
              "    </tr>\n",
              "  </thead>\n",
              "  <tbody>\n",
              "    <tr>\n",
              "      <th>88195</th>\n",
              "      <td>-244.0</td>\n",
              "    </tr>\n",
              "    <tr>\n",
              "      <th>88196</th>\n",
              "      <td>-182.0</td>\n",
              "    </tr>\n",
              "    <tr>\n",
              "      <th>88197</th>\n",
              "      <td>-141.0</td>\n",
              "    </tr>\n",
              "    <tr>\n",
              "      <th>88198</th>\n",
              "      <td>-128.0</td>\n",
              "    </tr>\n",
              "    <tr>\n",
              "      <th>88199</th>\n",
              "      <td>-125.0</td>\n",
              "    </tr>\n",
              "  </tbody>\n",
              "</table>\n",
              "</div>\n",
              "      <button class=\"colab-df-convert\" onclick=\"convertToInteractive('df-5fb859eb-027d-4f4e-97d5-6451e29eb374')\"\n",
              "              title=\"Convert this dataframe to an interactive table.\"\n",
              "              style=\"display:none;\">\n",
              "        \n",
              "  <svg xmlns=\"http://www.w3.org/2000/svg\" height=\"24px\"viewBox=\"0 0 24 24\"\n",
              "       width=\"24px\">\n",
              "    <path d=\"M0 0h24v24H0V0z\" fill=\"none\"/>\n",
              "    <path d=\"M18.56 5.44l.94 2.06.94-2.06 2.06-.94-2.06-.94-.94-2.06-.94 2.06-2.06.94zm-11 1L8.5 8.5l.94-2.06 2.06-.94-2.06-.94L8.5 2.5l-.94 2.06-2.06.94zm10 10l.94 2.06.94-2.06 2.06-.94-2.06-.94-.94-2.06-.94 2.06-2.06.94z\"/><path d=\"M17.41 7.96l-1.37-1.37c-.4-.4-.92-.59-1.43-.59-.52 0-1.04.2-1.43.59L10.3 9.45l-7.72 7.72c-.78.78-.78 2.05 0 2.83L4 21.41c.39.39.9.59 1.41.59.51 0 1.02-.2 1.41-.59l7.78-7.78 2.81-2.81c.8-.78.8-2.07 0-2.86zM5.41 20L4 18.59l7.72-7.72 1.47 1.35L5.41 20z\"/>\n",
              "  </svg>\n",
              "      </button>\n",
              "      \n",
              "  <style>\n",
              "    .colab-df-container {\n",
              "      display:flex;\n",
              "      flex-wrap:wrap;\n",
              "      gap: 12px;\n",
              "    }\n",
              "\n",
              "    .colab-df-convert {\n",
              "      background-color: #E8F0FE;\n",
              "      border: none;\n",
              "      border-radius: 50%;\n",
              "      cursor: pointer;\n",
              "      display: none;\n",
              "      fill: #1967D2;\n",
              "      height: 32px;\n",
              "      padding: 0 0 0 0;\n",
              "      width: 32px;\n",
              "    }\n",
              "\n",
              "    .colab-df-convert:hover {\n",
              "      background-color: #E2EBFA;\n",
              "      box-shadow: 0px 1px 2px rgba(60, 64, 67, 0.3), 0px 1px 3px 1px rgba(60, 64, 67, 0.15);\n",
              "      fill: #174EA6;\n",
              "    }\n",
              "\n",
              "    [theme=dark] .colab-df-convert {\n",
              "      background-color: #3B4455;\n",
              "      fill: #D2E3FC;\n",
              "    }\n",
              "\n",
              "    [theme=dark] .colab-df-convert:hover {\n",
              "      background-color: #434B5C;\n",
              "      box-shadow: 0px 1px 3px 1px rgba(0, 0, 0, 0.15);\n",
              "      filter: drop-shadow(0px 1px 2px rgba(0, 0, 0, 0.3));\n",
              "      fill: #FFFFFF;\n",
              "    }\n",
              "  </style>\n",
              "\n",
              "      <script>\n",
              "        const buttonEl =\n",
              "          document.querySelector('#df-5fb859eb-027d-4f4e-97d5-6451e29eb374 button.colab-df-convert');\n",
              "        buttonEl.style.display =\n",
              "          google.colab.kernel.accessAllowed ? 'block' : 'none';\n",
              "\n",
              "        async function convertToInteractive(key) {\n",
              "          const element = document.querySelector('#df-5fb859eb-027d-4f4e-97d5-6451e29eb374');\n",
              "          const dataTable =\n",
              "            await google.colab.kernel.invokeFunction('convertToInteractive',\n",
              "                                                     [key], {});\n",
              "          if (!dataTable) return;\n",
              "\n",
              "          const docLinkHtml = 'Like what you see? Visit the ' +\n",
              "            '<a target=\"_blank\" href=https://colab.research.google.com/notebooks/data_table.ipynb>data table notebook</a>'\n",
              "            + ' to learn more about interactive tables.';\n",
              "          element.innerHTML = '';\n",
              "          dataTable['output_type'] = 'display_data';\n",
              "          await google.colab.output.renderOutput(dataTable, element);\n",
              "          const docLink = document.createElement('div');\n",
              "          docLink.innerHTML = docLinkHtml;\n",
              "          element.appendChild(docLink);\n",
              "        }\n",
              "      </script>\n",
              "    </div>\n",
              "  </div>\n",
              "  "
            ]
          },
          "metadata": {},
          "execution_count": 105
        }
      ]
    },
    {
      "cell_type": "code",
      "source": [
        "import seaborn as sns\n",
        "plt.plot(train['train'], color = \"black\")\n",
        "plt.plot(forecast, color = \"red\")\n",
        "plt.title(\"Train/Test split for Passenger Data\")\n",
        "plt.ylabel(\"Passenger Number\")\n",
        "plt.xlabel('Year-Month')\n",
        "sns.set()\n",
        "plt.show()"
      ],
      "metadata": {
        "colab": {
          "base_uri": "https://localhost:8080/",
          "height": 301
        },
        "id": "_NeroytReiOy",
        "outputId": "b5c44249-230e-49da-810c-3e82cf2bc1f9"
      },
      "execution_count": 106,
      "outputs": [
        {
          "output_type": "display_data",
          "data": {
            "text/plain": [
              "<Figure size 432x288 with 1 Axes>"
            ],
            "image/png": "[encoded data removed]"
          },
          "metadata": {}
        }
      ]
    },
    {
      "cell_type": "code",
      "source": [
        "forecast.plot()"
      ],
      "metadata": {
        "colab": {
          "base_uri": "https://localhost:8080/",
          "height": 287
        },
        "id": "N2VsscJTe8au",
        "outputId": "e68fee5f-e387-497d-a892-f10bc1d9470e"
      },
      "execution_count": 107,
      "outputs": [
        {
          "output_type": "execute_result",
          "data": {
            "text/plain": [
              "<matplotlib.axes._subplots.AxesSubplot at 0x7ffb45d6af10>"
            ]
          },
          "metadata": {},
          "execution_count": 107
        },
        {
          "output_type": "display_data",
          "data": {
            "text/plain": [
              "<Figure size 432x288 with 1 Axes>"
            ],
            "image/png": "[encoded data removed]"
          },
          "metadata": {}
        }
      ]
    },
    {
      "cell_type": "code",
      "source": [
        "test['test'].plot()"
      ],
      "metadata": {
        "colab": {
          "base_uri": "https://localhost:8080/",
          "height": 286
        },
        "id": "SEKhQjsefAij",
        "outputId": "baca2d22-12b5-4d42-fd90-8a8264aa1b0e"
      },
      "execution_count": 108,
      "outputs": [
        {
          "output_type": "execute_result",
          "data": {
            "text/plain": [
              "<matplotlib.axes._subplots.AxesSubplot at 0x7ffb48762090>"
            ]
          },
          "metadata": {},
          "execution_count": 108
        },
        {
          "output_type": "display_data",
          "data": {
            "text/plain": [
              "<Figure size 432x288 with 1 Axes>"
            ],
            "image/png": "[encoded data removed]"
          },
          "metadata": {}
        }
      ]
    },
    {
      "cell_type": "code",
      "source": [
        "test = test.join(forecast)"
      ],
      "metadata": {
        "id": "36S1qU06fZct"
      },
      "execution_count": 109,
      "outputs": []
    },
    {
      "cell_type": "code",
      "source": [
        "test.head()"
      ],
      "metadata": {
        "colab": {
          "base_uri": "https://localhost:8080/",
          "height": 270
        },
        "id": "2XadtBT4feSX",
        "outputId": "cdf2be17-bc64-48a9-c7f8-a85437a5869c"
      },
      "execution_count": 110,
      "outputs": [
        {
          "output_type": "execute_result",
          "data": {
            "text/plain": [
              "       deaths_ppm   cases_ppm  total_vaccinations  \\\n",
              "88195    6.178753  412.090082         232844059.0   \n",
              "88196   11.744737  417.262572         233178650.0   \n",
              "88197    4.730936  476.662105         233538248.0   \n",
              "88198    2.012525  200.138129         233909396.0   \n",
              "88199    1.162459  165.907177         234283882.0   \n",
              "\n",
              "       workplaces_percent_change_from_baseline  \\\n",
              "88195                                    -22.0   \n",
              "88196                                    -22.0   \n",
              "88197                                    -21.0   \n",
              "88198                                     -6.0   \n",
              "88199                                     -9.0   \n",
              "\n",
              "       residential_percent_change_from_baseline  lockdown_index      mov_avg  \\\n",
              "88195                                       5.0           47.69  1811.323809   \n",
              "88196                                       6.0           47.69  2108.874169   \n",
              "88197                                       5.0           47.69  2425.681692   \n",
              "88198                                       2.0           47.69  2545.622191   \n",
              "88199                                       3.0           47.69  2581.760536   \n",
              "\n",
              "       mov_avg_res_mob   test  Prediction  \n",
              "88195             58.0 -244.0 -243.563356  \n",
              "88196             45.0 -182.0 -222.887709  \n",
              "88197             35.0 -141.0 -206.656458  \n",
              "88198             33.0 -128.0 -201.506395  \n",
              "88199             33.0 -125.0 -206.674176  "
            ],
            "text/html": [
              "\n",
              "  <div id=\"df-0a84092a-4b15-43c1-9006-2ce87d64bed1\">\n",
              "    <div class=\"colab-df-container\">\n",
              "      <div>\n",
              "<style scoped>\n",
              "    .dataframe tbody tr th:only-of-type {\n",
              "        vertical-align: middle;\n",
              "    }\n",
              "\n",
              "    .dataframe tbody tr th {\n",
              "        vertical-align: top;\n",
              "    }\n",
              "\n",
              "    .dataframe thead th {\n",
              "        text-align: right;\n",
              "    }\n",
              "</style>\n",
              "<table border=\"1\" class=\"dataframe\">\n",
              "  <thead>\n",
              "    <tr style=\"text-align: right;\">\n",
              "      <th></th>\n",
              "      <th>deaths_ppm</th>\n",
              "      <th>cases_ppm</th>\n",
              "      <th>total_vaccinations</th>\n",
              "      <th>workplaces_percent_change_from_baseline</th>\n",
              "      <th>residential_percent_change_from_baseline</th>\n",
              "      <th>lockdown_index</th>\n",
              "      <th>mov_avg</th>\n",
              "      <th>mov_avg_res_mob</th>\n",
              "      <th>test</th>\n",
              "      <th>Prediction</th>\n",
              "    </tr>\n",
              "  </thead>\n",
              "  <tbody>\n",
              "    <tr>\n",
              "      <th>88195</th>\n",
              "      <td>6.178753</td>\n",
              "      <td>412.090082</td>\n",
              "      <td>232844059.0</td>\n",
              "      <td>-22.0</td>\n",
              "      <td>5.0</td>\n",
              "      <td>47.69</td>\n",
              "      <td>1811.323809</td>\n",
              "      <td>58.0</td>\n",
              "      <td>-244.0</td>\n",
              "      <td>-243.563356</td>\n",
              "    </tr>\n",
              "    <tr>\n",
              "      <th>88196</th>\n",
              "      <td>11.744737</td>\n",
              "      <td>417.262572</td>\n",
              "      <td>233178650.0</td>\n",
              "      <td>-22.0</td>\n",
              "      <td>6.0</td>\n",
              "      <td>47.69</td>\n",
              "      <td>2108.874169</td>\n",
              "      <td>45.0</td>\n",
              "      <td>-182.0</td>\n",
              "      <td>-222.887709</td>\n",
              "    </tr>\n",
              "    <tr>\n",
              "      <th>88197</th>\n",
              "      <td>4.730936</td>\n",
              "      <td>476.662105</td>\n",
              "      <td>233538248.0</td>\n",
              "      <td>-21.0</td>\n",
              "      <td>5.0</td>\n",
              "      <td>47.69</td>\n",
              "      <td>2425.681692</td>\n",
              "      <td>35.0</td>\n",
              "      <td>-141.0</td>\n",
              "      <td>-206.656458</td>\n",
              "    </tr>\n",
              "    <tr>\n",
              "      <th>88198</th>\n",
              "      <td>2.012525</td>\n",
              "      <td>200.138129</td>\n",
              "      <td>233909396.0</td>\n",
              "      <td>-6.0</td>\n",
              "      <td>2.0</td>\n",
              "      <td>47.69</td>\n",
              "      <td>2545.622191</td>\n",
              "      <td>33.0</td>\n",
              "      <td>-128.0</td>\n",
              "      <td>-201.506395</td>\n",
              "    </tr>\n",
              "    <tr>\n",
              "      <th>88199</th>\n",
              "      <td>1.162459</td>\n",
              "      <td>165.907177</td>\n",
              "      <td>234283882.0</td>\n",
              "      <td>-9.0</td>\n",
              "      <td>3.0</td>\n",
              "      <td>47.69</td>\n",
              "      <td>2581.760536</td>\n",
              "      <td>33.0</td>\n",
              "      <td>-125.0</td>\n",
              "      <td>-206.674176</td>\n",
              "    </tr>\n",
              "  </tbody>\n",
              "</table>\n",
              "</div>\n",
              "      <button class=\"colab-df-convert\" onclick=\"convertToInteractive('df-0a84092a-4b15-43c1-9006-2ce87d64bed1')\"\n",
              "              title=\"Convert this dataframe to an interactive table.\"\n",
              "              style=\"display:none;\">\n",
              "        \n",
              "  <svg xmlns=\"http://www.w3.org/2000/svg\" height=\"24px\"viewBox=\"0 0 24 24\"\n",
              "       width=\"24px\">\n",
              "    <path d=\"M0 0h24v24H0V0z\" fill=\"none\"/>\n",
              "    <path d=\"M18.56 5.44l.94 2.06.94-2.06 2.06-.94-2.06-.94-.94-2.06-.94 2.06-2.06.94zm-11 1L8.5 8.5l.94-2.06 2.06-.94-2.06-.94L8.5 2.5l-.94 2.06-2.06.94zm10 10l.94 2.06.94-2.06 2.06-.94-2.06-.94-.94-2.06-.94 2.06-2.06.94z\"/><path d=\"M17.41 7.96l-1.37-1.37c-.4-.4-.92-.59-1.43-.59-.52 0-1.04.2-1.43.59L10.3 9.45l-7.72 7.72c-.78.78-.78 2.05 0 2.83L4 21.41c.39.39.9.59 1.41.59.51 0 1.02-.2 1.41-.59l7.78-7.78 2.81-2.81c.8-.78.8-2.07 0-2.86zM5.41 20L4 18.59l7.72-7.72 1.47 1.35L5.41 20z\"/>\n",
              "  </svg>\n",
              "      </button>\n",
              "      \n",
              "  <style>\n",
              "    .colab-df-container {\n",
              "      display:flex;\n",
              "      flex-wrap:wrap;\n",
              "      gap: 12px;\n",
              "    }\n",
              "\n",
              "    .colab-df-convert {\n",
              "      background-color: #E8F0FE;\n",
              "      border: none;\n",
              "      border-radius: 50%;\n",
              "      cursor: pointer;\n",
              "      display: none;\n",
              "      fill: #1967D2;\n",
              "      height: 32px;\n",
              "      padding: 0 0 0 0;\n",
              "      width: 32px;\n",
              "    }\n",
              "\n",
              "    .colab-df-convert:hover {\n",
              "      background-color: #E2EBFA;\n",
              "      box-shadow: 0px 1px 2px rgba(60, 64, 67, 0.3), 0px 1px 3px 1px rgba(60, 64, 67, 0.15);\n",
              "      fill: #174EA6;\n",
              "    }\n",
              "\n",
              "    [theme=dark] .colab-df-convert {\n",
              "      background-color: #3B4455;\n",
              "      fill: #D2E3FC;\n",
              "    }\n",
              "\n",
              "    [theme=dark] .colab-df-convert:hover {\n",
              "      background-color: #434B5C;\n",
              "      box-shadow: 0px 1px 3px 1px rgba(0, 0, 0, 0.15);\n",
              "      filter: drop-shadow(0px 1px 2px rgba(0, 0, 0, 0.3));\n",
              "      fill: #FFFFFF;\n",
              "    }\n",
              "  </style>\n",
              "\n",
              "      <script>\n",
              "        const buttonEl =\n",
              "          document.querySelector('#df-0a84092a-4b15-43c1-9006-2ce87d64bed1 button.colab-df-convert');\n",
              "        buttonEl.style.display =\n",
              "          google.colab.kernel.accessAllowed ? 'block' : 'none';\n",
              "\n",
              "        async function convertToInteractive(key) {\n",
              "          const element = document.querySelector('#df-0a84092a-4b15-43c1-9006-2ce87d64bed1');\n",
              "          const dataTable =\n",
              "            await google.colab.kernel.invokeFunction('convertToInteractive',\n",
              "                                                     [key], {});\n",
              "          if (!dataTable) return;\n",
              "\n",
              "          const docLinkHtml = 'Like what you see? Visit the ' +\n",
              "            '<a target=\"_blank\" href=https://colab.research.google.com/notebooks/data_table.ipynb>data table notebook</a>'\n",
              "            + ' to learn more about interactive tables.';\n",
              "          element.innerHTML = '';\n",
              "          dataTable['output_type'] = 'display_data';\n",
              "          await google.colab.output.renderOutput(dataTable, element);\n",
              "          const docLink = document.createElement('div');\n",
              "          docLink.innerHTML = docLinkHtml;\n",
              "          element.appendChild(docLink);\n",
              "        }\n",
              "      </script>\n",
              "    </div>\n",
              "  </div>\n",
              "  "
            ]
          },
          "metadata": {},
          "execution_count": 110
        }
      ]
    },
    {
      "cell_type": "code",
      "source": [
        "s = test[['test', 'Prediction']]\n",
        "s.plot()"
      ],
      "metadata": {
        "colab": {
          "base_uri": "https://localhost:8080/",
          "height": 286
        },
        "id": "BRd0E95efh02",
        "outputId": "1ffeca0d-ac2b-4523-d300-ab4a804a54fd"
      },
      "execution_count": 111,
      "outputs": [
        {
          "output_type": "execute_result",
          "data": {
            "text/plain": [
              "<matplotlib.axes._subplots.AxesSubplot at 0x7ffb45e0a110>"
            ]
          },
          "metadata": {},
          "execution_count": 111
        },
        {
          "output_type": "display_data",
          "data": {
            "text/plain": [
              "<Figure size 432x288 with 1 Axes>"
            ],
            "image/png": "[encoded data removed]"
          },
          "metadata": {}
        }
      ]
    },
    {
      "cell_type": "code",
      "source": [
        "ax2=ax.twinx()\n",
        "# make a plot with different y-axis using second axis object\n",
        "ax2.plot(df_sub.date, df_sub.lockdown_index,color=\"blue\")\n",
        "ax2.set_ylabel(\"lockdown_index\",color=\"blue\",fontsize=14)\n",
        "plt.show()\n",
        "fig.savefig('two_different_y_axis_for_single_python_plot_with_twinx.jpg',\n",
        "            format='jpeg',\n",
        "            dpi=100,\n",
        "            bbox_inches='tight')\n",
        "ax2=ax.twinx()\n",
        "# make a plot with different y-axis using second axis object\n",
        "ax2.plot(df_sub.date, df_sub.mov_avg,color=\"blue\")\n",
        "ax2.set_ylabel(\"lockdown_index\",color=\"blue\",fontsize=14)\n",
        "plt.show()\n",
        "fig.savefig('cases_vs_workplace_mob.jpg',\n",
        "            format='jpeg',\n",
        "            dpi=100,\n",
        "            bbox_inches='tight')"
      ],
      "metadata": {
        "id": "hqOGk7GUfWV-"
      },
      "execution_count": null,
      "outputs": []
    }
  ]
}