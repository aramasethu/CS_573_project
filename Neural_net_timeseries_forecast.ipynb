{
  "nbformat": 4,
  "nbformat_minor": 0,
  "metadata": {
    "colab": {
      "name": "Lag_model_CS_573.ipynb",
      "provenance": [],
      "collapsed_sections": [
        "8U350WdhsMJ9",
        "m84JFL9FX9pP"
      ],
      "include_colab_link": true
    },
    "kernelspec": {
      "name": "python3",
      "display_name": "Python 3"
    },
    "language_info": {
      "name": "python"
    },
    "widgets": {
      "application/vnd.jupyter.widget-state+json": {
        "e031eca50427484281d30478a9d1d75a": {
          "model_module": "@jupyter-widgets/controls",
          "model_name": "HBoxModel",
          "model_module_version": "1.5.0",
          "state": {
            "_dom_classes": [],
            "_model_module": "@jupyter-widgets/controls",
            "_model_module_version": "1.5.0",
            "_model_name": "HBoxModel",
            "_view_count": null,
            "_view_module": "@jupyter-widgets/controls",
            "_view_module_version": "1.5.0",
            "_view_name": "HBoxView",
            "box_style": "",
            "children": [
              "IPY_MODEL_772c818ce25e45c887b1bebba9a54adb",
              "IPY_MODEL_d4c45be722bd435bb845b8651a0ed5cc",
              "IPY_MODEL_fa8493c32f504daba4c3541a7291d93e"
            ],
            "layout": "IPY_MODEL_75075461a4fb42afb996397841125fd2"
          }
        },
        "772c818ce25e45c887b1bebba9a54adb": {
          "model_module": "@jupyter-widgets/controls",
          "model_name": "HTMLModel",
          "model_module_version": "1.5.0",
          "state": {
            "_dom_classes": [],
            "_model_module": "@jupyter-widgets/controls",
            "_model_module_version": "1.5.0",
            "_model_name": "HTMLModel",
            "_view_count": null,
            "_view_module": "@jupyter-widgets/controls",
            "_view_module_version": "1.5.0",
            "_view_name": "HTMLView",
            "description": "",
            "description_tooltip": null,
            "layout": "IPY_MODEL_d7e6a06b5cb54a0791ae0f48b0af7c4c",
            "placeholder": "​",
            "style": "IPY_MODEL_651a3158b114423387d1e70dd5f64d8e",
            "value": "Epoch 199: 100%"
          }
        },
        "d4c45be722bd435bb845b8651a0ed5cc": {
          "model_module": "@jupyter-widgets/controls",
          "model_name": "FloatProgressModel",
          "model_module_version": "1.5.0",
          "state": {
            "_dom_classes": [],
            "_model_module": "@jupyter-widgets/controls",
            "_model_module_version": "1.5.0",
            "_model_name": "FloatProgressModel",
            "_view_count": null,
            "_view_module": "@jupyter-widgets/controls",
            "_view_module_version": "1.5.0",
            "_view_name": "ProgressView",
            "bar_style": "success",
            "description": "",
            "description_tooltip": null,
            "layout": "IPY_MODEL_ee532b1b375742ca8bd8a92bedf5ae30",
            "max": 1,
            "min": 0,
            "orientation": "horizontal",
            "style": "IPY_MODEL_c3410ba37653480b92df0d01aade14ff",
            "value": 1
          }
        },
        "fa8493c32f504daba4c3541a7291d93e": {
          "model_module": "@jupyter-widgets/controls",
          "model_name": "HTMLModel",
          "model_module_version": "1.5.0",
          "state": {
            "_dom_classes": [],
            "_model_module": "@jupyter-widgets/controls",
            "_model_module_version": "1.5.0",
            "_model_name": "HTMLModel",
            "_view_count": null,
            "_view_module": "@jupyter-widgets/controls",
            "_view_module_version": "1.5.0",
            "_view_name": "HTMLView",
            "description": "",
            "description_tooltip": null,
            "layout": "IPY_MODEL_39d441f6a74b47828d24b9409e4d6d4d",
            "placeholder": "​",
            "style": "IPY_MODEL_898fa1ba2bfb40eeb18aaa65d0dd51d9",
            "value": " 23/23 [03:40&lt;00:00,  9.60s/it, loss=0.0487, train_loss=0.0274]"
          }
        },
        "75075461a4fb42afb996397841125fd2": {
          "model_module": "@jupyter-widgets/base",
          "model_name": "LayoutModel",
          "model_module_version": "1.2.0",
          "state": {
            "_model_module": "@jupyter-widgets/base",
            "_model_module_version": "1.2.0",
            "_model_name": "LayoutModel",
            "_view_count": null,
            "_view_module": "@jupyter-widgets/base",
            "_view_module_version": "1.2.0",
            "_view_name": "LayoutView",
            "align_content": null,
            "align_items": null,
            "align_self": null,
            "border": null,
            "bottom": null,
            "display": "inline-flex",
            "flex": null,
            "flex_flow": "row wrap",
            "grid_area": null,
            "grid_auto_columns": null,
            "grid_auto_flow": null,
            "grid_auto_rows": null,
            "grid_column": null,
            "grid_gap": null,
            "grid_row": null,
            "grid_template_areas": null,
            "grid_template_columns": null,
            "grid_template_rows": null,
            "height": null,
            "justify_content": null,
            "justify_items": null,
            "left": null,
            "margin": null,
            "max_height": null,
            "max_width": null,
            "min_height": null,
            "min_width": null,
            "object_fit": null,
            "object_position": null,
            "order": null,
            "overflow": null,
            "overflow_x": null,
            "overflow_y": null,
            "padding": null,
            "right": null,
            "top": null,
            "visibility": null,
            "width": "100%"
          }
        },
        "d7e6a06b5cb54a0791ae0f48b0af7c4c": {
          "model_module": "@jupyter-widgets/base",
          "model_name": "LayoutModel",
          "model_module_version": "1.2.0",
          "state": {
            "_model_module": "@jupyter-widgets/base",
            "_model_module_version": "1.2.0",
            "_model_name": "LayoutModel",
            "_view_count": null,
            "_view_module": "@jupyter-widgets/base",
            "_view_module_version": "1.2.0",
            "_view_name": "LayoutView",
            "align_content": null,
            "align_items": null,
            "align_self": null,
            "border": null,
            "bottom": null,
            "display": null,
            "flex": null,
            "flex_flow": null,
            "grid_area": null,
            "grid_auto_columns": null,
            "grid_auto_flow": null,
            "grid_auto_rows": null,
            "grid_column": null,
            "grid_gap": null,
            "grid_row": null,
            "grid_template_areas": null,
            "grid_template_columns": null,
            "grid_template_rows": null,
            "height": null,
            "justify_content": null,
            "justify_items": null,
            "left": null,
            "margin": null,
            "max_height": null,
            "max_width": null,
            "min_height": null,
            "min_width": null,
            "object_fit": null,
            "object_position": null,
            "order": null,
            "overflow": null,
            "overflow_x": null,
            "overflow_y": null,
            "padding": null,
            "right": null,
            "top": null,
            "visibility": null,
            "width": null
          }
        },
        "651a3158b114423387d1e70dd5f64d8e": {
          "model_module": "@jupyter-widgets/controls",
          "model_name": "DescriptionStyleModel",
          "model_module_version": "1.5.0",
          "state": {
            "_model_module": "@jupyter-widgets/controls",
            "_model_module_version": "1.5.0",
            "_model_name": "DescriptionStyleModel",
            "_view_count": null,
            "_view_module": "@jupyter-widgets/base",
            "_view_module_version": "1.2.0",
            "_view_name": "StyleView",
            "description_width": ""
          }
        },
        "ee532b1b375742ca8bd8a92bedf5ae30": {
          "model_module": "@jupyter-widgets/base",
          "model_name": "LayoutModel",
          "model_module_version": "1.2.0",
          "state": {
            "_model_module": "@jupyter-widgets/base",
            "_model_module_version": "1.2.0",
            "_model_name": "LayoutModel",
            "_view_count": null,
            "_view_module": "@jupyter-widgets/base",
            "_view_module_version": "1.2.0",
            "_view_name": "LayoutView",
            "align_content": null,
            "align_items": null,
            "align_self": null,
            "border": null,
            "bottom": null,
            "display": null,
            "flex": "2",
            "flex_flow": null,
            "grid_area": null,
            "grid_auto_columns": null,
            "grid_auto_flow": null,
            "grid_auto_rows": null,
            "grid_column": null,
            "grid_gap": null,
            "grid_row": null,
            "grid_template_areas": null,
            "grid_template_columns": null,
            "grid_template_rows": null,
            "height": null,
            "justify_content": null,
            "justify_items": null,
            "left": null,
            "margin": null,
            "max_height": null,
            "max_width": null,
            "min_height": null,
            "min_width": null,
            "object_fit": null,
            "object_position": null,
            "order": null,
            "overflow": null,
            "overflow_x": null,
            "overflow_y": null,
            "padding": null,
            "right": null,
            "top": null,
            "visibility": null,
            "width": null
          }
        },
        "c3410ba37653480b92df0d01aade14ff": {
          "model_module": "@jupyter-widgets/controls",
          "model_name": "ProgressStyleModel",
          "model_module_version": "1.5.0",
          "state": {
            "_model_module": "@jupyter-widgets/controls",
            "_model_module_version": "1.5.0",
            "_model_name": "ProgressStyleModel",
            "_view_count": null,
            "_view_module": "@jupyter-widgets/base",
            "_view_module_version": "1.2.0",
            "_view_name": "StyleView",
            "bar_color": null,
            "description_width": ""
          }
        },
        "39d441f6a74b47828d24b9409e4d6d4d": {
          "model_module": "@jupyter-widgets/base",
          "model_name": "LayoutModel",
          "model_module_version": "1.2.0",
          "state": {
            "_model_module": "@jupyter-widgets/base",
            "_model_module_version": "1.2.0",
            "_model_name": "LayoutModel",
            "_view_count": null,
            "_view_module": "@jupyter-widgets/base",
            "_view_module_version": "1.2.0",
            "_view_name": "LayoutView",
            "align_content": null,
            "align_items": null,
            "align_self": null,
            "border": null,
            "bottom": null,
            "display": null,
            "flex": null,
            "flex_flow": null,
            "grid_area": null,
            "grid_auto_columns": null,
            "grid_auto_flow": null,
            "grid_auto_rows": null,
            "grid_column": null,
            "grid_gap": null,
            "grid_row": null,
            "grid_template_areas": null,
            "grid_template_columns": null,
            "grid_template_rows": null,
            "height": null,
            "justify_content": null,
            "justify_items": null,
            "left": null,
            "margin": null,
            "max_height": null,
            "max_width": null,
            "min_height": null,
            "min_width": null,
            "object_fit": null,
            "object_position": null,
            "order": null,
            "overflow": null,
            "overflow_x": null,
            "overflow_y": null,
            "padding": null,
            "right": null,
            "top": null,
            "visibility": null,
            "width": null
          }
        },
        "898fa1ba2bfb40eeb18aaa65d0dd51d9": {
          "model_module": "@jupyter-widgets/controls",
          "model_name": "DescriptionStyleModel",
          "model_module_version": "1.5.0",
          "state": {
            "_model_module": "@jupyter-widgets/controls",
            "_model_module_version": "1.5.0",
            "_model_name": "DescriptionStyleModel",
            "_view_count": null,
            "_view_module": "@jupyter-widgets/base",
            "_view_module_version": "1.2.0",
            "_view_name": "StyleView",
            "description_width": ""
          }
        },
        "f452e28670b048a98fd8763538763cb4": {
          "model_module": "@jupyter-widgets/controls",
          "model_name": "HBoxModel",
          "model_module_version": "1.5.0",
          "state": {
            "_dom_classes": [],
            "_model_module": "@jupyter-widgets/controls",
            "_model_module_version": "1.5.0",
            "_model_name": "HBoxModel",
            "_view_count": null,
            "_view_module": "@jupyter-widgets/controls",
            "_view_module_version": "1.5.0",
            "_view_name": "HBoxView",
            "box_style": "",
            "children": [
              "IPY_MODEL_03fc2c99bdc54a07bd1df7f07ba8d595",
              "IPY_MODEL_7d1bcab8232f412c8f466f115e691b93",
              "IPY_MODEL_7ca1feba58f94e3e8ffc06fa89e89c49"
            ],
            "layout": "IPY_MODEL_3bb2db85afdc406597e6d50be3733f19"
          }
        },
        "03fc2c99bdc54a07bd1df7f07ba8d595": {
          "model_module": "@jupyter-widgets/controls",
          "model_name": "HTMLModel",
          "model_module_version": "1.5.0",
          "state": {
            "_dom_classes": [],
            "_model_module": "@jupyter-widgets/controls",
            "_model_module_version": "1.5.0",
            "_model_name": "HTMLModel",
            "_view_count": null,
            "_view_module": "@jupyter-widgets/controls",
            "_view_module_version": "1.5.0",
            "_view_name": "HTMLView",
            "description": "",
            "description_tooltip": null,
            "layout": "IPY_MODEL_8cc5d05169424669b6e27e52fa9db7b5",
            "placeholder": "​",
            "style": "IPY_MODEL_872db39b01b34391aa78523910a80996",
            "value": "Predicting DataLoader 0: 100%"
          }
        },
        "7d1bcab8232f412c8f466f115e691b93": {
          "model_module": "@jupyter-widgets/controls",
          "model_name": "FloatProgressModel",
          "model_module_version": "1.5.0",
          "state": {
            "_dom_classes": [],
            "_model_module": "@jupyter-widgets/controls",
            "_model_module_version": "1.5.0",
            "_model_name": "FloatProgressModel",
            "_view_count": null,
            "_view_module": "@jupyter-widgets/controls",
            "_view_module_version": "1.5.0",
            "_view_name": "ProgressView",
            "bar_style": "success",
            "description": "",
            "description_tooltip": null,
            "layout": "IPY_MODEL_8117c49fb0fb4025bb0333355033c52e",
            "max": 1,
            "min": 0,
            "orientation": "horizontal",
            "style": "IPY_MODEL_9de4f39f0eb246bfac52db937229b29a",
            "value": 1
          }
        },
        "7ca1feba58f94e3e8ffc06fa89e89c49": {
          "model_module": "@jupyter-widgets/controls",
          "model_name": "HTMLModel",
          "model_module_version": "1.5.0",
          "state": {
            "_dom_classes": [],
            "_model_module": "@jupyter-widgets/controls",
            "_model_module_version": "1.5.0",
            "_model_name": "HTMLModel",
            "_view_count": null,
            "_view_module": "@jupyter-widgets/controls",
            "_view_module_version": "1.5.0",
            "_view_name": "HTMLView",
            "description": "",
            "description_tooltip": null,
            "layout": "IPY_MODEL_1b4e37f5a3fd4d28b0a076d480324cbd",
            "placeholder": "​",
            "style": "IPY_MODEL_bcdb3121dfdb4fc2ae4a69da7dd32858",
            "value": " 1/1 [00:05&lt;00:00, -3.68it/s]"
          }
        },
        "3bb2db85afdc406597e6d50be3733f19": {
          "model_module": "@jupyter-widgets/base",
          "model_name": "LayoutModel",
          "model_module_version": "1.2.0",
          "state": {
            "_model_module": "@jupyter-widgets/base",
            "_model_module_version": "1.2.0",
            "_model_name": "LayoutModel",
            "_view_count": null,
            "_view_module": "@jupyter-widgets/base",
            "_view_module_version": "1.2.0",
            "_view_name": "LayoutView",
            "align_content": null,
            "align_items": null,
            "align_self": null,
            "border": null,
            "bottom": null,
            "display": "inline-flex",
            "flex": null,
            "flex_flow": "row wrap",
            "grid_area": null,
            "grid_auto_columns": null,
            "grid_auto_flow": null,
            "grid_auto_rows": null,
            "grid_column": null,
            "grid_gap": null,
            "grid_row": null,
            "grid_template_areas": null,
            "grid_template_columns": null,
            "grid_template_rows": null,
            "height": null,
            "justify_content": null,
            "justify_items": null,
            "left": null,
            "margin": null,
            "max_height": null,
            "max_width": null,
            "min_height": null,
            "min_width": null,
            "object_fit": null,
            "object_position": null,
            "order": null,
            "overflow": null,
            "overflow_x": null,
            "overflow_y": null,
            "padding": null,
            "right": null,
            "top": null,
            "visibility": null,
            "width": "100%"
          }
        },
        "8cc5d05169424669b6e27e52fa9db7b5": {
          "model_module": "@jupyter-widgets/base",
          "model_name": "LayoutModel",
          "model_module_version": "1.2.0",
          "state": {
            "_model_module": "@jupyter-widgets/base",
            "_model_module_version": "1.2.0",
            "_model_name": "LayoutModel",
            "_view_count": null,
            "_view_module": "@jupyter-widgets/base",
            "_view_module_version": "1.2.0",
            "_view_name": "LayoutView",
            "align_content": null,
            "align_items": null,
            "align_self": null,
            "border": null,
            "bottom": null,
            "display": null,
            "flex": null,
            "flex_flow": null,
            "grid_area": null,
            "grid_auto_columns": null,
            "grid_auto_flow": null,
            "grid_auto_rows": null,
            "grid_column": null,
            "grid_gap": null,
            "grid_row": null,
            "grid_template_areas": null,
            "grid_template_columns": null,
            "grid_template_rows": null,
            "height": null,
            "justify_content": null,
            "justify_items": null,
            "left": null,
            "margin": null,
            "max_height": null,
            "max_width": null,
            "min_height": null,
            "min_width": null,
            "object_fit": null,
            "object_position": null,
            "order": null,
            "overflow": null,
            "overflow_x": null,
            "overflow_y": null,
            "padding": null,
            "right": null,
            "top": null,
            "visibility": null,
            "width": null
          }
        },
        "872db39b01b34391aa78523910a80996": {
          "model_module": "@jupyter-widgets/controls",
          "model_name": "DescriptionStyleModel",
          "model_module_version": "1.5.0",
          "state": {
            "_model_module": "@jupyter-widgets/controls",
            "_model_module_version": "1.5.0",
            "_model_name": "DescriptionStyleModel",
            "_view_count": null,
            "_view_module": "@jupyter-widgets/base",
            "_view_module_version": "1.2.0",
            "_view_name": "StyleView",
            "description_width": ""
          }
        },
        "8117c49fb0fb4025bb0333355033c52e": {
          "model_module": "@jupyter-widgets/base",
          "model_name": "LayoutModel",
          "model_module_version": "1.2.0",
          "state": {
            "_model_module": "@jupyter-widgets/base",
            "_model_module_version": "1.2.0",
            "_model_name": "LayoutModel",
            "_view_count": null,
            "_view_module": "@jupyter-widgets/base",
            "_view_module_version": "1.2.0",
            "_view_name": "LayoutView",
            "align_content": null,
            "align_items": null,
            "align_self": null,
            "border": null,
            "bottom": null,
            "display": null,
            "flex": "2",
            "flex_flow": null,
            "grid_area": null,
            "grid_auto_columns": null,
            "grid_auto_flow": null,
            "grid_auto_rows": null,
            "grid_column": null,
            "grid_gap": null,
            "grid_row": null,
            "grid_template_areas": null,
            "grid_template_columns": null,
            "grid_template_rows": null,
            "height": null,
            "justify_content": null,
            "justify_items": null,
            "left": null,
            "margin": null,
            "max_height": null,
            "max_width": null,
            "min_height": null,
            "min_width": null,
            "object_fit": null,
            "object_position": null,
            "order": null,
            "overflow": null,
            "overflow_x": null,
            "overflow_y": null,
            "padding": null,
            "right": null,
            "top": null,
            "visibility": null,
            "width": null
          }
        },
        "9de4f39f0eb246bfac52db937229b29a": {
          "model_module": "@jupyter-widgets/controls",
          "model_name": "ProgressStyleModel",
          "model_module_version": "1.5.0",
          "state": {
            "_model_module": "@jupyter-widgets/controls",
            "_model_module_version": "1.5.0",
            "_model_name": "ProgressStyleModel",
            "_view_count": null,
            "_view_module": "@jupyter-widgets/base",
            "_view_module_version": "1.2.0",
            "_view_name": "StyleView",
            "bar_color": null,
            "description_width": ""
          }
        },
        "1b4e37f5a3fd4d28b0a076d480324cbd": {
          "model_module": "@jupyter-widgets/base",
          "model_name": "LayoutModel",
          "model_module_version": "1.2.0",
          "state": {
            "_model_module": "@jupyter-widgets/base",
            "_model_module_version": "1.2.0",
            "_model_name": "LayoutModel",
            "_view_count": null,
            "_view_module": "@jupyter-widgets/base",
            "_view_module_version": "1.2.0",
            "_view_name": "LayoutView",
            "align_content": null,
            "align_items": null,
            "align_self": null,
            "border": null,
            "bottom": null,
            "display": null,
            "flex": null,
            "flex_flow": null,
            "grid_area": null,
            "grid_auto_columns": null,
            "grid_auto_flow": null,
            "grid_auto_rows": null,
            "grid_column": null,
            "grid_gap": null,
            "grid_row": null,
            "grid_template_areas": null,
            "grid_template_columns": null,
            "grid_template_rows": null,
            "height": null,
            "justify_content": null,
            "justify_items": null,
            "left": null,
            "margin": null,
            "max_height": null,
            "max_width": null,
            "min_height": null,
            "min_width": null,
            "object_fit": null,
            "object_position": null,
            "order": null,
            "overflow": null,
            "overflow_x": null,
            "overflow_y": null,
            "padding": null,
            "right": null,
            "top": null,
            "visibility": null,
            "width": null
          }
        },
        "bcdb3121dfdb4fc2ae4a69da7dd32858": {
          "model_module": "@jupyter-widgets/controls",
          "model_name": "DescriptionStyleModel",
          "model_module_version": "1.5.0",
          "state": {
            "_model_module": "@jupyter-widgets/controls",
            "_model_module_version": "1.5.0",
            "_model_name": "DescriptionStyleModel",
            "_view_count": null,
            "_view_module": "@jupyter-widgets/base",
            "_view_module_version": "1.2.0",
            "_view_name": "StyleView",
            "description_width": ""
          }
        }
      }
    }
  },
  "cells": [
    {
      "cell_type": "markdown",
      "metadata": {
        "id": "view-in-github",
        "colab_type": "text"
      },
      "source": [
        "<a href=\"https://colab.research.google.com/github/aramasethu/CS_573_project/blob/main/Neural_net_timeseries_forecast.ipynb\" target=\"_parent\"><img src=\"https://colab.research.google.com/assets/colab-badge.svg\" alt=\"Open In Colab\"/></a>"
      ]
    },
    {
      "cell_type": "markdown",
      "source": [
        "## Mounting google drive"
      ],
      "metadata": {
        "id": "Vii_9x1-r8_3"
      }
    },
    {
      "cell_type": "code",
      "source": [
        "import pandas as pd\n",
        "import numpy as np\n",
        "from matplotlib import pyplot as plt\n",
        "import numpy as np\n",
        "import pandas as pd\n",
        "import matplotlib.pyplot as plt\n",
        "import seaborn as sns\n",
        "import os\n",
        "import sys\n",
        "import missingno as mno\n",
        "\n",
        "import warnings\n",
        "warnings.filterwarnings(\"ignore\")\n",
        "import logging\n",
        "logging.disable(logging.CRITICAL)\n",
        "\n",
        "\n",
        "from darts import TimeSeries, concatenate\n",
        "from darts.dataprocessing.transformers import Scaler\n",
        "from darts.models import TransformerModel\n",
        "from darts.metrics import mape, rmse\n",
        "from darts.utils.timeseries_generation import datetime_attribute_timeseries\n",
        "from darts.utils.likelihood_models import QuantileRegression\n",
        "\n",
        "\n",
        "pd.set_option(\"display.precision\",2)\n",
        "np.set_printoptions(precision=2, suppress=True)\n",
        "pd.options.display.float_format = '{:,.2f}'.format"
      ],
      "metadata": {
        "id": "oYKymfFysBYM"
      },
      "execution_count": 2,
      "outputs": []
    },
    {
      "cell_type": "code",
      "source": [
        "!pip install pyyaml==5.4.1"
      ],
      "metadata": {
        "id": "V8lkboztQlX6",
        "outputId": "8949d790-fb95-460d-ad80-1bd60298944b",
        "colab": {
          "base_uri": "https://localhost:8080/",
          "height": 266
        }
      },
      "execution_count": 6,
      "outputs": [
        {
          "output_type": "stream",
          "name": "stdout",
          "text": [
            "Collecting pyyaml==5.4.1\n",
            "  Downloading PyYAML-5.4.1-cp37-cp37m-manylinux1_x86_64.whl (636 kB)\n",
            "\u001b[?25l\r\u001b[K     |▌                               | 10 kB 17.8 MB/s eta 0:00:01\r\u001b[K     |█                               | 20 kB 10.1 MB/s eta 0:00:01\r\u001b[K     |█▌                              | 30 kB 8.7 MB/s eta 0:00:01\r\u001b[K     |██                              | 40 kB 9.2 MB/s eta 0:00:01\r\u001b[K     |██▋                             | 51 kB 6.4 MB/s eta 0:00:01\r\u001b[K     |███                             | 61 kB 7.5 MB/s eta 0:00:01\r\u001b[K     |███▋                            | 71 kB 7.3 MB/s eta 0:00:01\r\u001b[K     |████▏                           | 81 kB 7.5 MB/s eta 0:00:01\r\u001b[K     |████▋                           | 92 kB 8.3 MB/s eta 0:00:01\r\u001b[K     |█████▏                          | 102 kB 7.0 MB/s eta 0:00:01\r\u001b[K     |█████▋                          | 112 kB 7.0 MB/s eta 0:00:01\r\u001b[K     |██████▏                         | 122 kB 7.0 MB/s eta 0:00:01\r\u001b[K     |██████▊                         | 133 kB 7.0 MB/s eta 0:00:01\r\u001b[K     |███████▏                        | 143 kB 7.0 MB/s eta 0:00:01\r\u001b[K     |███████▊                        | 153 kB 7.0 MB/s eta 0:00:01\r\u001b[K     |████████▎                       | 163 kB 7.0 MB/s eta 0:00:01\r\u001b[K     |████████▊                       | 174 kB 7.0 MB/s eta 0:00:01\r\u001b[K     |█████████▎                      | 184 kB 7.0 MB/s eta 0:00:01\r\u001b[K     |█████████▉                      | 194 kB 7.0 MB/s eta 0:00:01\r\u001b[K     |██████████▎                     | 204 kB 7.0 MB/s eta 0:00:01\r\u001b[K     |██████████▉                     | 215 kB 7.0 MB/s eta 0:00:01\r\u001b[K     |███████████▎                    | 225 kB 7.0 MB/s eta 0:00:01\r\u001b[K     |███████████▉                    | 235 kB 7.0 MB/s eta 0:00:01\r\u001b[K     |████████████▍                   | 245 kB 7.0 MB/s eta 0:00:01\r\u001b[K     |████████████▉                   | 256 kB 7.0 MB/s eta 0:00:01\r\u001b[K     |█████████████▍                  | 266 kB 7.0 MB/s eta 0:00:01\r\u001b[K     |██████████████                  | 276 kB 7.0 MB/s eta 0:00:01\r\u001b[K     |██████████████▍                 | 286 kB 7.0 MB/s eta 0:00:01\r\u001b[K     |███████████████                 | 296 kB 7.0 MB/s eta 0:00:01\r\u001b[K     |███████████████▍                | 307 kB 7.0 MB/s eta 0:00:01\r\u001b[K     |████████████████                | 317 kB 7.0 MB/s eta 0:00:01\r\u001b[K     |████████████████▌               | 327 kB 7.0 MB/s eta 0:00:01\r\u001b[K     |█████████████████               | 337 kB 7.0 MB/s eta 0:00:01\r\u001b[K     |█████████████████▌              | 348 kB 7.0 MB/s eta 0:00:01\r\u001b[K     |██████████████████              | 358 kB 7.0 MB/s eta 0:00:01\r\u001b[K     |██████████████████▌             | 368 kB 7.0 MB/s eta 0:00:01\r\u001b[K     |███████████████████             | 378 kB 7.0 MB/s eta 0:00:01\r\u001b[K     |███████████████████▋            | 389 kB 7.0 MB/s eta 0:00:01\r\u001b[K     |████████████████████            | 399 kB 7.0 MB/s eta 0:00:01\r\u001b[K     |████████████████████▋           | 409 kB 7.0 MB/s eta 0:00:01\r\u001b[K     |█████████████████████           | 419 kB 7.0 MB/s eta 0:00:01\r\u001b[K     |█████████████████████▋          | 430 kB 7.0 MB/s eta 0:00:01\r\u001b[K     |██████████████████████▏         | 440 kB 7.0 MB/s eta 0:00:01\r\u001b[K     |██████████████████████▋         | 450 kB 7.0 MB/s eta 0:00:01\r\u001b[K     |███████████████████████▏        | 460 kB 7.0 MB/s eta 0:00:01\r\u001b[K     |███████████████████████▊        | 471 kB 7.0 MB/s eta 0:00:01\r\u001b[K     |████████████████████████▏       | 481 kB 7.0 MB/s eta 0:00:01\r\u001b[K     |████████████████████████▊       | 491 kB 7.0 MB/s eta 0:00:01\r\u001b[K     |█████████████████████████▏      | 501 kB 7.0 MB/s eta 0:00:01\r\u001b[K     |█████████████████████████▊      | 512 kB 7.0 MB/s eta 0:00:01\r\u001b[K     |██████████████████████████▎     | 522 kB 7.0 MB/s eta 0:00:01\r\u001b[K     |██████████████████████████▊     | 532 kB 7.0 MB/s eta 0:00:01\r\u001b[K     |███████████████████████████▎    | 542 kB 7.0 MB/s eta 0:00:01\r\u001b[K     |███████████████████████████▉    | 552 kB 7.0 MB/s eta 0:00:01\r\u001b[K     |████████████████████████████▎   | 563 kB 7.0 MB/s eta 0:00:01\r\u001b[K     |████████████████████████████▉   | 573 kB 7.0 MB/s eta 0:00:01\r\u001b[K     |█████████████████████████████▍  | 583 kB 7.0 MB/s eta 0:00:01\r\u001b[K     |█████████████████████████████▉  | 593 kB 7.0 MB/s eta 0:00:01\r\u001b[K     |██████████████████████████████▍ | 604 kB 7.0 MB/s eta 0:00:01\r\u001b[K     |██████████████████████████████▉ | 614 kB 7.0 MB/s eta 0:00:01\r\u001b[K     |███████████████████████████████▍| 624 kB 7.0 MB/s eta 0:00:01\r\u001b[K     |████████████████████████████████| 634 kB 7.0 MB/s eta 0:00:01\r\u001b[K     |████████████████████████████████| 636 kB 7.0 MB/s \n",
            "\u001b[?25hInstalling collected packages: pyyaml\n",
            "  Attempting uninstall: pyyaml\n",
            "    Found existing installation: PyYAML 6.0\n",
            "    Uninstalling PyYAML-6.0:\n",
            "      Successfully uninstalled PyYAML-6.0\n",
            "Successfully installed pyyaml-5.4.1\n"
          ]
        },
        {
          "output_type": "display_data",
          "data": {
            "application/vnd.colab-display-data+json": {
              "pip_warning": {
                "packages": [
                  "yaml"
                ]
              }
            }
          },
          "metadata": {}
        }
      ]
    },
    {
      "cell_type": "code",
      "source": [
        "from google.colab import drive\n",
        "drive.mount('/content/drive')"
      ],
      "metadata": {
        "colab": {
          "base_uri": "https://localhost:8080/"
        },
        "id": "z45HXL30sGFi",
        "outputId": "2bf31625-c1c4-4bd3-8f58-c7f3b04569aa"
      },
      "execution_count": 5,
      "outputs": [
        {
          "output_type": "stream",
          "name": "stdout",
          "text": [
            "Drive already mounted at /content/drive; to attempt to forcibly remount, call drive.mount(\"/content/drive\", force_remount=True).\n"
          ]
        }
      ]
    },
    {
      "cell_type": "markdown",
      "source": [
        "## Mobility data"
      ],
      "metadata": {
        "id": "NsyztHaEsZ3i"
      }
    },
    {
      "cell_type": "code",
      "source": [
        "mobility = pd.read_csv (r'/content/drive/MyDrive/CS_573_Group_project/Data/Global_Mobility_Report.csv')"
      ],
      "metadata": {
        "id": "iA4uDmmAsIrx"
      },
      "execution_count": 6,
      "outputs": []
    },
    {
      "cell_type": "code",
      "source": [
        "mobility_country1 = mobility[mobility['sub_region_1'].isna()]\n",
        "mobility_country = mobility_country1[mobility_country1['metro_area'].isna()]"
      ],
      "metadata": {
        "id": "RUdKB5X4sLGC"
      },
      "execution_count": 7,
      "outputs": []
    },
    {
      "cell_type": "code",
      "source": [
        "mobility_country = mobility_country.drop(columns=['country_region_code','sub_region_1', 'sub_region_2','metro_area', 'iso_3166_2_code','census_fips_code','place_id'])"
      ],
      "metadata": {
        "id": "FTVbyNetsNF6"
      },
      "execution_count": 8,
      "outputs": []
    },
    {
      "cell_type": "code",
      "source": [
        "mobility_country['date'] = mobility_country['date'].astype('datetime64[ns]')"
      ],
      "metadata": {
        "id": "-zLNe_hXsPWX"
      },
      "execution_count": 9,
      "outputs": []
    },
    {
      "cell_type": "code",
      "source": [
        "mobility_country = mobility_country.rename(columns={ 'country_region': 'country'})"
      ],
      "metadata": {
        "id": "-AkM2piisVNT"
      },
      "execution_count": 10,
      "outputs": []
    },
    {
      "cell_type": "markdown",
      "source": [
        "## Vaccination data loading"
      ],
      "metadata": {
        "id": "L41IPJ_0sd3S"
      }
    },
    {
      "cell_type": "code",
      "source": [
        "vec_cases = pd.read_csv(r'/content/drive/MyDrive/CS_573_Group_project/Data/owid-covid-data.csv')"
      ],
      "metadata": {
        "id": "Q6AXhfT1sf94"
      },
      "execution_count": 11,
      "outputs": []
    },
    {
      "cell_type": "code",
      "source": [
        "vec_cases_scraped = vec_cases[['location', 'date', 'total_cases', 'total_deaths', 'population',\n",
        "                              'new_vaccinations_smoothed', 'new_people_vaccinated_smoothed']]"
      ],
      "metadata": {
        "id": "Uw6yG2WSsjS6"
      },
      "execution_count": 12,
      "outputs": []
    },
    {
      "cell_type": "code",
      "source": [
        "vec_cases_new = vec_cases_scraped.copy()"
      ],
      "metadata": {
        "id": "KiVesiOas0Zn"
      },
      "execution_count": 13,
      "outputs": []
    },
    {
      "cell_type": "code",
      "source": [
        "vec_cases_new['total_cases'] = vec_cases_new['total_cases'].replace(np.nan, 0)\n",
        "vec_cases_new['total_deaths'] = vec_cases_new['total_deaths'].replace(np.nan, 0)\n",
        "vec_cases_new['new_vaccinations_smoothed'] = vec_cases_new['new_vaccinations_smoothed'].replace(np.nan, 0)\n",
        "vec_cases_new['new_people_vaccinated_smoothed'] = vec_cases_new['new_people_vaccinated_smoothed'].replace(np.nan, 0)"
      ],
      "metadata": {
        "id": "cpahdFjbsm9u"
      },
      "execution_count": 14,
      "outputs": []
    },
    {
      "cell_type": "code",
      "source": [
        "\n",
        "vec_cases_new['date'] = pd.to_datetime(vec_cases_new['date']).dt.strftime('%Y/%m/%d')"
      ],
      "metadata": {
        "id": "6q2e6TD9tkyr"
      },
      "execution_count": 15,
      "outputs": []
    },
    {
      "cell_type": "code",
      "source": [
        "vec_cases_new = vec_cases_new.rename(columns={'location': 'country'})"
      ],
      "metadata": {
        "id": "NsHXTYeowc1F"
      },
      "execution_count": 16,
      "outputs": []
    },
    {
      "cell_type": "code",
      "source": [
        "vec_cases_new['date'] = vec_cases_new['date'].astype('datetime64[ns]')"
      ],
      "metadata": {
        "id": "iz3WoBUcwhF5"
      },
      "execution_count": 17,
      "outputs": []
    },
    {
      "cell_type": "markdown",
      "source": [
        "## Lockdown data"
      ],
      "metadata": {
        "id": "OPFy3QLpwkRY"
      }
    },
    {
      "cell_type": "code",
      "source": [
        "lockdown = pd.read_excel (r'/content/drive/MyDrive/CS_573_Group_project/Data/OxCGRT_timeseries_all.xlsx')"
      ],
      "metadata": {
        "id": "X9cfkVjgwmH7"
      },
      "execution_count": 18,
      "outputs": []
    },
    {
      "cell_type": "code",
      "source": [
        "lockdown_new = lockdown.drop(columns={\"country_name\",\"country_code\"})\n",
        "lockdown_new.columns = pd.to_datetime(lockdown_new.columns)"
      ],
      "metadata": {
        "id": "ZkGf02eow4S-"
      },
      "execution_count": 19,
      "outputs": []
    },
    {
      "cell_type": "code",
      "source": [
        "lockdown_input = pd.DataFrame(columns=[\"country_name\",\"lockdown_index\",\"date\"])\n",
        "for i in range(lockdown_new.shape[1]):\n",
        "  country = lockdown[{\"country_name\"}]\n",
        "  index = lockdown_new.iloc[:,i]\n",
        "  index_con = pd.concat([country,index], axis=1, ignore_index=True)\n",
        "  index_con[\"date\"] = index.name\n",
        "  index_con = index_con.rename(columns={0: 'country_name',  1: 'lockdown_index'})\n",
        "  lockdown_input = pd.concat([lockdown_input,index_con],ignore_index=True)"
      ],
      "metadata": {
        "id": "ZA2YQSFPw6Dg"
      },
      "execution_count": 20,
      "outputs": []
    },
    {
      "cell_type": "code",
      "source": [
        "lockdown_input = lockdown_input.sort_values('country_name',ascending=True)"
      ],
      "metadata": {
        "id": "SKzdhKOGw71r"
      },
      "execution_count": 21,
      "outputs": []
    },
    {
      "cell_type": "code",
      "source": [
        "lockdown_input = lockdown_input.rename(columns={\"country_name\":\"country\"})"
      ],
      "metadata": {
        "id": "JkccBzVew9Rw"
      },
      "execution_count": 22,
      "outputs": []
    },
    {
      "cell_type": "markdown",
      "source": [
        "## Merge all datasets"
      ],
      "metadata": {
        "id": "fUId34P0xNAY"
      }
    },
    {
      "cell_type": "code",
      "source": [
        "df_merged1 = vec_cases_new.merge(mobility_country, on=['country', 'date'])"
      ],
      "metadata": {
        "id": "Deh1go8DxO1Z"
      },
      "execution_count": 23,
      "outputs": []
    },
    {
      "cell_type": "code",
      "source": [
        "df_merged1.shape"
      ],
      "metadata": {
        "colab": {
          "base_uri": "https://localhost:8080/"
        },
        "id": "HI1GUwaSxhbd",
        "outputId": "6b8062c6-3b39-49d9-a4c0-dabe8ff5769b"
      },
      "execution_count": 24,
      "outputs": [
        {
          "output_type": "execute_result",
          "data": {
            "text/plain": [
              "(97134, 13)"
            ]
          },
          "metadata": {},
          "execution_count": 24
        }
      ]
    },
    {
      "cell_type": "code",
      "source": [
        "df_merged = df_merged1.merge(lockdown_input, on=['country', 'date'])"
      ],
      "metadata": {
        "id": "gmGaY3qIxYD8"
      },
      "execution_count": 25,
      "outputs": []
    },
    {
      "cell_type": "code",
      "source": [
        "df_merged['weekday'] = df_merged['date'].dt.dayofweek"
      ],
      "metadata": {
        "id": "dDYOigp5xkq4"
      },
      "execution_count": 26,
      "outputs": []
    },
    {
      "cell_type": "code",
      "source": [
        "# cases\n",
        "df_merged = df_merged.sort_values(by=['country', 'date'])\n",
        "df_merged['new_cases_raw']=df_merged.groupby(['country'])['total_cases'].diff().fillna(0)\n",
        "df_merged['cases_ppm'] = (df_merged['new_cases_raw'] / df_merged['population'])*1000000\n",
        "\n",
        "# deaths\n",
        "df_merged['new_deaths_raw']=df_merged.groupby(['country'])['total_deaths'].diff().fillna(0)\n",
        "df_merged['deaths_ppm'] = (df_merged['new_deaths_raw'] / df_merged['population'])*1000000\n",
        "\n",
        "# vaccination cumulative\n",
        "df_merged['total_vaccinations'] = df_merged.groupby(['country'])['new_people_vaccinated_smoothed'].cumsum()\n"
      ],
      "metadata": {
        "id": "RoQTQKTRhuVg"
      },
      "execution_count": 27,
      "outputs": []
    },
    {
      "cell_type": "code",
      "source": [
        "df_merged = df_merged.dropna()"
      ],
      "metadata": {
        "id": "e44vsQxwZXsa"
      },
      "execution_count": 28,
      "outputs": []
    },
    {
      "cell_type": "code",
      "source": [
        "df_merged_US = df_merged.query(\"country == 'United States'\")"
      ],
      "metadata": {
        "id": "pSYcbuc9sLNm"
      },
      "execution_count": 29,
      "outputs": []
    },
    {
      "cell_type": "code",
      "source": [
        "df_merged_US.head()"
      ],
      "metadata": {
        "id": "mAEjiFvcxB8O",
        "outputId": "bb29827e-7f2a-418b-d6a7-7befa9544dcb",
        "colab": {
          "base_uri": "https://localhost:8080/",
          "height": 357
        }
      },
      "execution_count": 30,
      "outputs": [
        {
          "output_type": "execute_result",
          "data": {
            "text/plain": [
              "             country       date  total_cases  total_deaths     population  \\\n",
              "87540  United States 2020-02-15        14.00          0.00 332,915,074.00   \n",
              "87541  United States 2020-02-16        14.00          0.00 332,915,074.00   \n",
              "87542  United States 2020-02-17        14.00          0.00 332,915,074.00   \n",
              "87543  United States 2020-02-18        14.00          0.00 332,915,074.00   \n",
              "87544  United States 2020-02-19        14.00          0.00 332,915,074.00   \n",
              "\n",
              "       new_vaccinations_smoothed  new_people_vaccinated_smoothed  \\\n",
              "87540                       0.00                            0.00   \n",
              "87541                       0.00                            0.00   \n",
              "87542                       0.00                            0.00   \n",
              "87543                       0.00                            0.00   \n",
              "87544                       0.00                            0.00   \n",
              "\n",
              "       retail_and_recreation_percent_change_from_baseline  \\\n",
              "87540                                               6.00    \n",
              "87541                                               7.00    \n",
              "87542                                               6.00    \n",
              "87543                                               0.00    \n",
              "87544                                               2.00    \n",
              "\n",
              "       grocery_and_pharmacy_percent_change_from_baseline  \\\n",
              "87540                                               2.00   \n",
              "87541                                               1.00   \n",
              "87542                                               0.00   \n",
              "87543                                              -1.00   \n",
              "87544                                               0.00   \n",
              "\n",
              "       parks_percent_change_from_baseline  \\\n",
              "87540                               15.00   \n",
              "87541                               16.00   \n",
              "87542                               28.00   \n",
              "87543                                6.00   \n",
              "87544                                8.00   \n",
              "\n",
              "       transit_stations_percent_change_from_baseline  \\\n",
              "87540                                           3.00   \n",
              "87541                                           2.00   \n",
              "87542                                          -9.00   \n",
              "87543                                           1.00   \n",
              "87544                                           1.00   \n",
              "\n",
              "       workplaces_percent_change_from_baseline  \\\n",
              "87540                                     2.00   \n",
              "87541                                     0.00   \n",
              "87542                                   -24.00   \n",
              "87543                                     0.00   \n",
              "87544                                     1.00   \n",
              "\n",
              "       residential_percent_change_from_baseline  lockdown_index  weekday  \\\n",
              "87540                                     -1.00            5.56        5   \n",
              "87541                                     -1.00            5.56        6   \n",
              "87542                                      5.00            5.56        0   \n",
              "87543                                      1.00            5.56        1   \n",
              "87544                                      0.00            5.56        2   \n",
              "\n",
              "       new_cases_raw  cases_ppm  new_deaths_raw  deaths_ppm  \\\n",
              "87540           0.00       0.00            0.00        0.00   \n",
              "87541           0.00       0.00            0.00        0.00   \n",
              "87542           0.00       0.00            0.00        0.00   \n",
              "87543           0.00       0.00            0.00        0.00   \n",
              "87544           0.00       0.00            0.00        0.00   \n",
              "\n",
              "       total_vaccinations  \n",
              "87540                0.00  \n",
              "87541                0.00  \n",
              "87542                0.00  \n",
              "87543                0.00  \n",
              "87544                0.00  "
            ],
            "text/html": [
              "\n",
              "  <div id=\"df-7a1f1a97-be28-4dd1-9250-0d40d754f09c\">\n",
              "    <div class=\"colab-df-container\">\n",
              "      <div>\n",
              "<style scoped>\n",
              "    .dataframe tbody tr th:only-of-type {\n",
              "        vertical-align: middle;\n",
              "    }\n",
              "\n",
              "    .dataframe tbody tr th {\n",
              "        vertical-align: top;\n",
              "    }\n",
              "\n",
              "    .dataframe thead th {\n",
              "        text-align: right;\n",
              "    }\n",
              "</style>\n",
              "<table border=\"1\" class=\"dataframe\">\n",
              "  <thead>\n",
              "    <tr style=\"text-align: right;\">\n",
              "      <th></th>\n",
              "      <th>country</th>\n",
              "      <th>date</th>\n",
              "      <th>total_cases</th>\n",
              "      <th>total_deaths</th>\n",
              "      <th>population</th>\n",
              "      <th>new_vaccinations_smoothed</th>\n",
              "      <th>new_people_vaccinated_smoothed</th>\n",
              "      <th>retail_and_recreation_percent_change_from_baseline</th>\n",
              "      <th>grocery_and_pharmacy_percent_change_from_baseline</th>\n",
              "      <th>parks_percent_change_from_baseline</th>\n",
              "      <th>transit_stations_percent_change_from_baseline</th>\n",
              "      <th>workplaces_percent_change_from_baseline</th>\n",
              "      <th>residential_percent_change_from_baseline</th>\n",
              "      <th>lockdown_index</th>\n",
              "      <th>weekday</th>\n",
              "      <th>new_cases_raw</th>\n",
              "      <th>cases_ppm</th>\n",
              "      <th>new_deaths_raw</th>\n",
              "      <th>deaths_ppm</th>\n",
              "      <th>total_vaccinations</th>\n",
              "    </tr>\n",
              "  </thead>\n",
              "  <tbody>\n",
              "    <tr>\n",
              "      <th>87540</th>\n",
              "      <td>United States</td>\n",
              "      <td>2020-02-15</td>\n",
              "      <td>14.00</td>\n",
              "      <td>0.00</td>\n",
              "      <td>332,915,074.00</td>\n",
              "      <td>0.00</td>\n",
              "      <td>0.00</td>\n",
              "      <td>6.00</td>\n",
              "      <td>2.00</td>\n",
              "      <td>15.00</td>\n",
              "      <td>3.00</td>\n",
              "      <td>2.00</td>\n",
              "      <td>-1.00</td>\n",
              "      <td>5.56</td>\n",
              "      <td>5</td>\n",
              "      <td>0.00</td>\n",
              "      <td>0.00</td>\n",
              "      <td>0.00</td>\n",
              "      <td>0.00</td>\n",
              "      <td>0.00</td>\n",
              "    </tr>\n",
              "    <tr>\n",
              "      <th>87541</th>\n",
              "      <td>United States</td>\n",
              "      <td>2020-02-16</td>\n",
              "      <td>14.00</td>\n",
              "      <td>0.00</td>\n",
              "      <td>332,915,074.00</td>\n",
              "      <td>0.00</td>\n",
              "      <td>0.00</td>\n",
              "      <td>7.00</td>\n",
              "      <td>1.00</td>\n",
              "      <td>16.00</td>\n",
              "      <td>2.00</td>\n",
              "      <td>0.00</td>\n",
              "      <td>-1.00</td>\n",
              "      <td>5.56</td>\n",
              "      <td>6</td>\n",
              "      <td>0.00</td>\n",
              "      <td>0.00</td>\n",
              "      <td>0.00</td>\n",
              "      <td>0.00</td>\n",
              "      <td>0.00</td>\n",
              "    </tr>\n",
              "    <tr>\n",
              "      <th>87542</th>\n",
              "      <td>United States</td>\n",
              "      <td>2020-02-17</td>\n",
              "      <td>14.00</td>\n",
              "      <td>0.00</td>\n",
              "      <td>332,915,074.00</td>\n",
              "      <td>0.00</td>\n",
              "      <td>0.00</td>\n",
              "      <td>6.00</td>\n",
              "      <td>0.00</td>\n",
              "      <td>28.00</td>\n",
              "      <td>-9.00</td>\n",
              "      <td>-24.00</td>\n",
              "      <td>5.00</td>\n",
              "      <td>5.56</td>\n",
              "      <td>0</td>\n",
              "      <td>0.00</td>\n",
              "      <td>0.00</td>\n",
              "      <td>0.00</td>\n",
              "      <td>0.00</td>\n",
              "      <td>0.00</td>\n",
              "    </tr>\n",
              "    <tr>\n",
              "      <th>87543</th>\n",
              "      <td>United States</td>\n",
              "      <td>2020-02-18</td>\n",
              "      <td>14.00</td>\n",
              "      <td>0.00</td>\n",
              "      <td>332,915,074.00</td>\n",
              "      <td>0.00</td>\n",
              "      <td>0.00</td>\n",
              "      <td>0.00</td>\n",
              "      <td>-1.00</td>\n",
              "      <td>6.00</td>\n",
              "      <td>1.00</td>\n",
              "      <td>0.00</td>\n",
              "      <td>1.00</td>\n",
              "      <td>5.56</td>\n",
              "      <td>1</td>\n",
              "      <td>0.00</td>\n",
              "      <td>0.00</td>\n",
              "      <td>0.00</td>\n",
              "      <td>0.00</td>\n",
              "      <td>0.00</td>\n",
              "    </tr>\n",
              "    <tr>\n",
              "      <th>87544</th>\n",
              "      <td>United States</td>\n",
              "      <td>2020-02-19</td>\n",
              "      <td>14.00</td>\n",
              "      <td>0.00</td>\n",
              "      <td>332,915,074.00</td>\n",
              "      <td>0.00</td>\n",
              "      <td>0.00</td>\n",
              "      <td>2.00</td>\n",
              "      <td>0.00</td>\n",
              "      <td>8.00</td>\n",
              "      <td>1.00</td>\n",
              "      <td>1.00</td>\n",
              "      <td>0.00</td>\n",
              "      <td>5.56</td>\n",
              "      <td>2</td>\n",
              "      <td>0.00</td>\n",
              "      <td>0.00</td>\n",
              "      <td>0.00</td>\n",
              "      <td>0.00</td>\n",
              "      <td>0.00</td>\n",
              "    </tr>\n",
              "  </tbody>\n",
              "</table>\n",
              "</div>\n",
              "      <button class=\"colab-df-convert\" onclick=\"convertToInteractive('df-7a1f1a97-be28-4dd1-9250-0d40d754f09c')\"\n",
              "              title=\"Convert this dataframe to an interactive table.\"\n",
              "              style=\"display:none;\">\n",
              "        \n",
              "  <svg xmlns=\"http://www.w3.org/2000/svg\" height=\"24px\"viewBox=\"0 0 24 24\"\n",
              "       width=\"24px\">\n",
              "    <path d=\"M0 0h24v24H0V0z\" fill=\"none\"/>\n",
              "    <path d=\"M18.56 5.44l.94 2.06.94-2.06 2.06-.94-2.06-.94-.94-2.06-.94 2.06-2.06.94zm-11 1L8.5 8.5l.94-2.06 2.06-.94-2.06-.94L8.5 2.5l-.94 2.06-2.06.94zm10 10l.94 2.06.94-2.06 2.06-.94-2.06-.94-.94-2.06-.94 2.06-2.06.94z\"/><path d=\"M17.41 7.96l-1.37-1.37c-.4-.4-.92-.59-1.43-.59-.52 0-1.04.2-1.43.59L10.3 9.45l-7.72 7.72c-.78.78-.78 2.05 0 2.83L4 21.41c.39.39.9.59 1.41.59.51 0 1.02-.2 1.41-.59l7.78-7.78 2.81-2.81c.8-.78.8-2.07 0-2.86zM5.41 20L4 18.59l7.72-7.72 1.47 1.35L5.41 20z\"/>\n",
              "  </svg>\n",
              "      </button>\n",
              "      \n",
              "  <style>\n",
              "    .colab-df-container {\n",
              "      display:flex;\n",
              "      flex-wrap:wrap;\n",
              "      gap: 12px;\n",
              "    }\n",
              "\n",
              "    .colab-df-convert {\n",
              "      background-color: #E8F0FE;\n",
              "      border: none;\n",
              "      border-radius: 50%;\n",
              "      cursor: pointer;\n",
              "      display: none;\n",
              "      fill: #1967D2;\n",
              "      height: 32px;\n",
              "      padding: 0 0 0 0;\n",
              "      width: 32px;\n",
              "    }\n",
              "\n",
              "    .colab-df-convert:hover {\n",
              "      background-color: #E2EBFA;\n",
              "      box-shadow: 0px 1px 2px rgba(60, 64, 67, 0.3), 0px 1px 3px 1px rgba(60, 64, 67, 0.15);\n",
              "      fill: #174EA6;\n",
              "    }\n",
              "\n",
              "    [theme=dark] .colab-df-convert {\n",
              "      background-color: #3B4455;\n",
              "      fill: #D2E3FC;\n",
              "    }\n",
              "\n",
              "    [theme=dark] .colab-df-convert:hover {\n",
              "      background-color: #434B5C;\n",
              "      box-shadow: 0px 1px 3px 1px rgba(0, 0, 0, 0.15);\n",
              "      filter: drop-shadow(0px 1px 2px rgba(0, 0, 0, 0.3));\n",
              "      fill: #FFFFFF;\n",
              "    }\n",
              "  </style>\n",
              "\n",
              "      <script>\n",
              "        const buttonEl =\n",
              "          document.querySelector('#df-7a1f1a97-be28-4dd1-9250-0d40d754f09c button.colab-df-convert');\n",
              "        buttonEl.style.display =\n",
              "          google.colab.kernel.accessAllowed ? 'block' : 'none';\n",
              "\n",
              "        async function convertToInteractive(key) {\n",
              "          const element = document.querySelector('#df-7a1f1a97-be28-4dd1-9250-0d40d754f09c');\n",
              "          const dataTable =\n",
              "            await google.colab.kernel.invokeFunction('convertToInteractive',\n",
              "                                                     [key], {});\n",
              "          if (!dataTable) return;\n",
              "\n",
              "          const docLinkHtml = 'Like what you see? Visit the ' +\n",
              "            '<a target=\"_blank\" href=https://colab.research.google.com/notebooks/data_table.ipynb>data table notebook</a>'\n",
              "            + ' to learn more about interactive tables.';\n",
              "          element.innerHTML = '';\n",
              "          dataTable['output_type'] = 'display_data';\n",
              "          await google.colab.output.renderOutput(dataTable, element);\n",
              "          const docLink = document.createElement('div');\n",
              "          docLink.innerHTML = docLinkHtml;\n",
              "          element.appendChild(docLink);\n",
              "        }\n",
              "      </script>\n",
              "    </div>\n",
              "  </div>\n",
              "  "
            ]
          },
          "metadata": {},
          "execution_count": 30
        }
      ]
    },
    {
      "cell_type": "markdown",
      "source": [
        "### Lag model"
      ],
      "metadata": {
        "id": "8U350WdhsMJ9"
      }
    },
    {
      "cell_type": "code",
      "source": [
        "from statsmodels.tsa.stattools import grangercausalitytests\n",
        "import statsmodels as sm"
      ],
      "metadata": {
        "id": "ashtoY9esOlT",
        "outputId": "18e85c1b-376a-45cd-fce4-ae50946d0295",
        "colab": {
          "base_uri": "https://localhost:8080/"
        }
      },
      "execution_count": 29,
      "outputs": [
        {
          "output_type": "stream",
          "name": "stderr",
          "text": [
            "/usr/local/lib/python3.7/dist-packages/statsmodels/tools/_testing.py:19: FutureWarning: pandas.util.testing is deprecated. Use the functions in the public API at pandas.testing instead.\n",
            "  import pandas.util.testing as tm\n"
          ]
        }
      ]
    },
    {
      "cell_type": "code",
      "source": [
        "sm.__version__"
      ],
      "metadata": {
        "id": "zB_jQxbwxyoV",
        "outputId": "524a5108-e192-471f-fcc2-c3e5e2444bb5",
        "colab": {
          "base_uri": "https://localhost:8080/",
          "height": 35
        }
      },
      "execution_count": 30,
      "outputs": [
        {
          "output_type": "execute_result",
          "data": {
            "text/plain": [
              "'0.10.2'"
            ],
            "application/vnd.google.colaboratory.intrinsic+json": {
              "type": "string"
            }
          },
          "metadata": {},
          "execution_count": 30
        }
      ]
    },
    {
      "cell_type": "code",
      "source": [
        "df_merged_US.dtypes"
      ],
      "metadata": {
        "id": "2iedmzwfxqss",
        "outputId": "3801c1bf-5703-4f56-e9dd-118514f0e3b5",
        "colab": {
          "base_uri": "https://localhost:8080/"
        }
      },
      "execution_count": 31,
      "outputs": [
        {
          "output_type": "execute_result",
          "data": {
            "text/plain": [
              "country                                                       object\n",
              "date                                                  datetime64[ns]\n",
              "total_cases                                                  float64\n",
              "total_deaths                                                 float64\n",
              "population                                                   float64\n",
              "new_vaccinations_smoothed                                    float64\n",
              "new_people_vaccinated_smoothed                               float64\n",
              "retail_and_recreation_percent_change_from_baseline           float64\n",
              "grocery_and_pharmacy_percent_change_from_baseline            float64\n",
              "parks_percent_change_from_baseline                           float64\n",
              "transit_stations_percent_change_from_baseline                float64\n",
              "workplaces_percent_change_from_baseline                      float64\n",
              "residential_percent_change_from_baseline                     float64\n",
              "lockdown_index                                               float64\n",
              "weekday                                                        int64\n",
              "new_cases_raw                                                float64\n",
              "cases_ppm                                                    float64\n",
              "new_deaths_raw                                               float64\n",
              "deaths_ppm                                                   float64\n",
              "total_vaccinations                                           float64\n",
              "dtype: object"
            ]
          },
          "metadata": {},
          "execution_count": 31
        }
      ]
    },
    {
      "cell_type": "code",
      "source": [
        "gc_res = sm.tsa.stattools.grangercausalitytests(df_merged_US[['total_cases', 'workplaces_percent_change_from_baseline']],maxlag=10)"
      ],
      "metadata": {
        "id": "cCZ34CY9thoL",
        "outputId": "febd880f-8b2d-46c2-8370-12e37654e90d",
        "colab": {
          "base_uri": "https://localhost:8080/"
        }
      },
      "execution_count": 32,
      "outputs": [
        {
          "output_type": "stream",
          "name": "stdout",
          "text": [
            "\n",
            "Granger Causality\n",
            "number of lags (no zero) 1\n",
            "ssr based F test:         F=16.0506 , p=0.0001  , df_denom=757, df_num=1\n",
            "ssr based chi2 test:   chi2=16.1142 , p=0.0001  , df=1\n",
            "likelihood ratio test: chi2=15.9458 , p=0.0001  , df=1\n",
            "parameter F test:         F=16.0506 , p=0.0001  , df_denom=757, df_num=1\n",
            "\n",
            "Granger Causality\n",
            "number of lags (no zero) 2\n",
            "ssr based F test:         F=0.1037  , p=0.9016  , df_denom=754, df_num=2\n",
            "ssr based chi2 test:   chi2=0.2087  , p=0.9009  , df=2\n",
            "likelihood ratio test: chi2=0.2086  , p=0.9009  , df=2\n",
            "parameter F test:         F=0.1037  , p=0.9016  , df_denom=754, df_num=2\n",
            "\n",
            "Granger Causality\n",
            "number of lags (no zero) 3\n",
            "ssr based F test:         F=4.1741  , p=0.0061  , df_denom=751, df_num=3\n",
            "ssr based chi2 test:   chi2=12.6390 , p=0.0055  , df=3\n",
            "likelihood ratio test: chi2=12.5348 , p=0.0058  , df=3\n",
            "parameter F test:         F=4.1741  , p=0.0061  , df_denom=751, df_num=3\n",
            "\n",
            "Granger Causality\n",
            "number of lags (no zero) 4\n",
            "ssr based F test:         F=1.3341  , p=0.2556  , df_denom=748, df_num=4\n",
            "ssr based chi2 test:   chi2=5.4007  , p=0.2486  , df=4\n",
            "likelihood ratio test: chi2=5.3815  , p=0.2503  , df=4\n",
            "parameter F test:         F=1.3341  , p=0.2556  , df_denom=748, df_num=4\n",
            "\n",
            "Granger Causality\n",
            "number of lags (no zero) 5\n",
            "ssr based F test:         F=1.0652  , p=0.3784  , df_denom=745, df_num=5\n",
            "ssr based chi2 test:   chi2=5.4045  , p=0.3685  , df=5\n",
            "likelihood ratio test: chi2=5.3853  , p=0.3707  , df=5\n",
            "parameter F test:         F=1.0652  , p=0.3784  , df_denom=745, df_num=5\n",
            "\n",
            "Granger Causality\n",
            "number of lags (no zero) 6\n",
            "ssr based F test:         F=4.2263  , p=0.0003  , df_denom=742, df_num=6\n",
            "ssr based chi2 test:   chi2=25.8018 , p=0.0002  , df=6\n",
            "likelihood ratio test: chi2=25.3707 , p=0.0003  , df=6\n",
            "parameter F test:         F=4.2263  , p=0.0003  , df_denom=742, df_num=6\n",
            "\n",
            "Granger Causality\n",
            "number of lags (no zero) 7\n",
            "ssr based F test:         F=6.3841  , p=0.0000  , df_denom=739, df_num=7\n",
            "ssr based chi2 test:   chi2=45.5954 , p=0.0000  , df=7\n",
            "likelihood ratio test: chi2=44.2700 , p=0.0000  , df=7\n",
            "parameter F test:         F=6.3841  , p=0.0000  , df_denom=739, df_num=7\n",
            "\n",
            "Granger Causality\n",
            "number of lags (no zero) 8\n",
            "ssr based F test:         F=6.7438  , p=0.0000  , df_denom=736, df_num=8\n",
            "ssr based chi2 test:   chi2=55.1962 , p=0.0000  , df=8\n",
            "likelihood ratio test: chi2=53.2670 , p=0.0000  , df=8\n",
            "parameter F test:         F=6.7438  , p=0.0000  , df_denom=736, df_num=8\n",
            "\n",
            "Granger Causality\n",
            "number of lags (no zero) 9\n",
            "ssr based F test:         F=6.6890  , p=0.0000  , df_denom=733, df_num=9\n",
            "ssr based chi2 test:   chi2=61.7616 , p=0.0000  , df=9\n",
            "likelihood ratio test: chi2=59.3562 , p=0.0000  , df=9\n",
            "parameter F test:         F=6.6890  , p=0.0000  , df_denom=733, df_num=9\n",
            "\n",
            "Granger Causality\n",
            "number of lags (no zero) 10\n",
            "ssr based F test:         F=5.6697  , p=0.0000  , df_denom=730, df_num=10\n",
            "ssr based chi2 test:   chi2=58.3284 , p=0.0000  , df=10\n",
            "likelihood ratio test: chi2=56.1741 , p=0.0000  , df=10\n",
            "parameter F test:         F=5.6697  , p=0.0000  , df_denom=730, df_num=10\n"
          ]
        }
      ]
    },
    {
      "cell_type": "code",
      "source": [
        "df_sub = df_merged_US[['deaths_ppm', 'cases_ppm', 'total_vaccinations', 'workplaces_percent_change_from_baseline', \\\n",
        "                       'residential_percent_change_from_baseline', 'lockdown_index', 'date']]"
      ],
      "metadata": {
        "id": "-qYM7fCSNUJ4"
      },
      "execution_count": 33,
      "outputs": []
    },
    {
      "cell_type": "code",
      "source": [
        "from sklearn.preprocessing import StandardScaler\n",
        "trans = StandardScaler()\n",
        "data = trans.fit_transform(df_sub)\n",
        "dataset = pd.DataFrame(data)"
      ],
      "metadata": {
        "id": "NkvZHaVkOE0R",
        "outputId": "14bc299e-f151-4f05-de66-4c16f1ba8d0f",
        "colab": {
          "base_uri": "https://localhost:8080/",
          "height": 478
        }
      },
      "execution_count": 38,
      "outputs": [
        {
          "output_type": "error",
          "ename": "TypeError",
          "evalue": "ignored",
          "traceback": [
            "\u001b[0;31m---------------------------------------------------------------------------\u001b[0m",
            "\u001b[0;31mTypeError\u001b[0m                                 Traceback (most recent call last)",
            "\u001b[0;32m<ipython-input-38-fb49f25eb7f0>\u001b[0m in \u001b[0;36m<module>\u001b[0;34m()\u001b[0m\n\u001b[1;32m      1\u001b[0m \u001b[0;32mfrom\u001b[0m \u001b[0msklearn\u001b[0m\u001b[0;34m.\u001b[0m\u001b[0mpreprocessing\u001b[0m \u001b[0;32mimport\u001b[0m \u001b[0mStandardScaler\u001b[0m\u001b[0;34m\u001b[0m\u001b[0;34m\u001b[0m\u001b[0m\n\u001b[1;32m      2\u001b[0m \u001b[0mtrans\u001b[0m \u001b[0;34m=\u001b[0m \u001b[0mStandardScaler\u001b[0m\u001b[0;34m(\u001b[0m\u001b[0;34m)\u001b[0m\u001b[0;34m\u001b[0m\u001b[0;34m\u001b[0m\u001b[0m\n\u001b[0;32m----> 3\u001b[0;31m \u001b[0mdata\u001b[0m \u001b[0;34m=\u001b[0m \u001b[0mtrans\u001b[0m\u001b[0;34m.\u001b[0m\u001b[0mfit_transform\u001b[0m\u001b[0;34m(\u001b[0m\u001b[0mdf_sub\u001b[0m\u001b[0;34m)\u001b[0m\u001b[0;34m\u001b[0m\u001b[0;34m\u001b[0m\u001b[0m\n\u001b[0m\u001b[1;32m      4\u001b[0m \u001b[0mdataset\u001b[0m \u001b[0;34m=\u001b[0m \u001b[0mpd\u001b[0m\u001b[0;34m.\u001b[0m\u001b[0mDataFrame\u001b[0m\u001b[0;34m(\u001b[0m\u001b[0mdata\u001b[0m\u001b[0;34m)\u001b[0m\u001b[0;34m\u001b[0m\u001b[0;34m\u001b[0m\u001b[0m\n",
            "\u001b[0;32m/usr/local/lib/python3.7/dist-packages/sklearn/base.py\u001b[0m in \u001b[0;36mfit_transform\u001b[0;34m(self, X, y, **fit_params)\u001b[0m\n\u001b[1;32m    850\u001b[0m         \u001b[0;32mif\u001b[0m \u001b[0my\u001b[0m \u001b[0;32mis\u001b[0m \u001b[0;32mNone\u001b[0m\u001b[0;34m:\u001b[0m\u001b[0;34m\u001b[0m\u001b[0;34m\u001b[0m\u001b[0m\n\u001b[1;32m    851\u001b[0m             \u001b[0;31m# fit method of arity 1 (unsupervised transformation)\u001b[0m\u001b[0;34m\u001b[0m\u001b[0;34m\u001b[0m\u001b[0;34m\u001b[0m\u001b[0m\n\u001b[0;32m--> 852\u001b[0;31m             \u001b[0;32mreturn\u001b[0m \u001b[0mself\u001b[0m\u001b[0;34m.\u001b[0m\u001b[0mfit\u001b[0m\u001b[0;34m(\u001b[0m\u001b[0mX\u001b[0m\u001b[0;34m,\u001b[0m \u001b[0;34m**\u001b[0m\u001b[0mfit_params\u001b[0m\u001b[0;34m)\u001b[0m\u001b[0;34m.\u001b[0m\u001b[0mtransform\u001b[0m\u001b[0;34m(\u001b[0m\u001b[0mX\u001b[0m\u001b[0;34m)\u001b[0m\u001b[0;34m\u001b[0m\u001b[0;34m\u001b[0m\u001b[0m\n\u001b[0m\u001b[1;32m    853\u001b[0m         \u001b[0;32melse\u001b[0m\u001b[0;34m:\u001b[0m\u001b[0;34m\u001b[0m\u001b[0;34m\u001b[0m\u001b[0m\n\u001b[1;32m    854\u001b[0m             \u001b[0;31m# fit method of arity 2 (supervised transformation)\u001b[0m\u001b[0;34m\u001b[0m\u001b[0;34m\u001b[0m\u001b[0;34m\u001b[0m\u001b[0m\n",
            "\u001b[0;32m/usr/local/lib/python3.7/dist-packages/sklearn/preprocessing/_data.py\u001b[0m in \u001b[0;36mfit\u001b[0;34m(self, X, y, sample_weight)\u001b[0m\n\u001b[1;32m    804\u001b[0m         \u001b[0;31m# Reset internal state before fitting\u001b[0m\u001b[0;34m\u001b[0m\u001b[0;34m\u001b[0m\u001b[0;34m\u001b[0m\u001b[0m\n\u001b[1;32m    805\u001b[0m         \u001b[0mself\u001b[0m\u001b[0;34m.\u001b[0m\u001b[0m_reset\u001b[0m\u001b[0;34m(\u001b[0m\u001b[0;34m)\u001b[0m\u001b[0;34m\u001b[0m\u001b[0;34m\u001b[0m\u001b[0m\n\u001b[0;32m--> 806\u001b[0;31m         \u001b[0;32mreturn\u001b[0m \u001b[0mself\u001b[0m\u001b[0;34m.\u001b[0m\u001b[0mpartial_fit\u001b[0m\u001b[0;34m(\u001b[0m\u001b[0mX\u001b[0m\u001b[0;34m,\u001b[0m \u001b[0my\u001b[0m\u001b[0;34m,\u001b[0m \u001b[0msample_weight\u001b[0m\u001b[0;34m)\u001b[0m\u001b[0;34m\u001b[0m\u001b[0;34m\u001b[0m\u001b[0m\n\u001b[0m\u001b[1;32m    807\u001b[0m \u001b[0;34m\u001b[0m\u001b[0m\n\u001b[1;32m    808\u001b[0m     \u001b[0;32mdef\u001b[0m \u001b[0mpartial_fit\u001b[0m\u001b[0;34m(\u001b[0m\u001b[0mself\u001b[0m\u001b[0;34m,\u001b[0m \u001b[0mX\u001b[0m\u001b[0;34m,\u001b[0m \u001b[0my\u001b[0m\u001b[0;34m=\u001b[0m\u001b[0;32mNone\u001b[0m\u001b[0;34m,\u001b[0m \u001b[0msample_weight\u001b[0m\u001b[0;34m=\u001b[0m\u001b[0;32mNone\u001b[0m\u001b[0;34m)\u001b[0m\u001b[0;34m:\u001b[0m\u001b[0;34m\u001b[0m\u001b[0;34m\u001b[0m\u001b[0m\n",
            "\u001b[0;32m/usr/local/lib/python3.7/dist-packages/sklearn/preprocessing/_data.py\u001b[0m in \u001b[0;36mpartial_fit\u001b[0;34m(self, X, y, sample_weight)\u001b[0m\n\u001b[1;32m    845\u001b[0m             \u001b[0mdtype\u001b[0m\u001b[0;34m=\u001b[0m\u001b[0mFLOAT_DTYPES\u001b[0m\u001b[0;34m,\u001b[0m\u001b[0;34m\u001b[0m\u001b[0;34m\u001b[0m\u001b[0m\n\u001b[1;32m    846\u001b[0m             \u001b[0mforce_all_finite\u001b[0m\u001b[0;34m=\u001b[0m\u001b[0;34m\"allow-nan\"\u001b[0m\u001b[0;34m,\u001b[0m\u001b[0;34m\u001b[0m\u001b[0;34m\u001b[0m\u001b[0m\n\u001b[0;32m--> 847\u001b[0;31m             \u001b[0mreset\u001b[0m\u001b[0;34m=\u001b[0m\u001b[0mfirst_call\u001b[0m\u001b[0;34m,\u001b[0m\u001b[0;34m\u001b[0m\u001b[0;34m\u001b[0m\u001b[0m\n\u001b[0m\u001b[1;32m    848\u001b[0m         )\n\u001b[1;32m    849\u001b[0m         \u001b[0mn_features\u001b[0m \u001b[0;34m=\u001b[0m \u001b[0mX\u001b[0m\u001b[0;34m.\u001b[0m\u001b[0mshape\u001b[0m\u001b[0;34m[\u001b[0m\u001b[0;36m1\u001b[0m\u001b[0;34m]\u001b[0m\u001b[0;34m\u001b[0m\u001b[0;34m\u001b[0m\u001b[0m\n",
            "\u001b[0;32m/usr/local/lib/python3.7/dist-packages/sklearn/base.py\u001b[0m in \u001b[0;36m_validate_data\u001b[0;34m(self, X, y, reset, validate_separately, **check_params)\u001b[0m\n\u001b[1;32m    564\u001b[0m             \u001b[0;32mraise\u001b[0m \u001b[0mValueError\u001b[0m\u001b[0;34m(\u001b[0m\u001b[0;34m\"Validation should be done on X, y or both.\"\u001b[0m\u001b[0;34m)\u001b[0m\u001b[0;34m\u001b[0m\u001b[0;34m\u001b[0m\u001b[0m\n\u001b[1;32m    565\u001b[0m         \u001b[0;32melif\u001b[0m \u001b[0;32mnot\u001b[0m \u001b[0mno_val_X\u001b[0m \u001b[0;32mand\u001b[0m \u001b[0mno_val_y\u001b[0m\u001b[0;34m:\u001b[0m\u001b[0;34m\u001b[0m\u001b[0;34m\u001b[0m\u001b[0m\n\u001b[0;32m--> 566\u001b[0;31m             \u001b[0mX\u001b[0m \u001b[0;34m=\u001b[0m \u001b[0mcheck_array\u001b[0m\u001b[0;34m(\u001b[0m\u001b[0mX\u001b[0m\u001b[0;34m,\u001b[0m \u001b[0;34m**\u001b[0m\u001b[0mcheck_params\u001b[0m\u001b[0;34m)\u001b[0m\u001b[0;34m\u001b[0m\u001b[0;34m\u001b[0m\u001b[0m\n\u001b[0m\u001b[1;32m    567\u001b[0m             \u001b[0mout\u001b[0m \u001b[0;34m=\u001b[0m \u001b[0mX\u001b[0m\u001b[0;34m\u001b[0m\u001b[0;34m\u001b[0m\u001b[0m\n\u001b[1;32m    568\u001b[0m         \u001b[0;32melif\u001b[0m \u001b[0mno_val_X\u001b[0m \u001b[0;32mand\u001b[0m \u001b[0;32mnot\u001b[0m \u001b[0mno_val_y\u001b[0m\u001b[0;34m:\u001b[0m\u001b[0;34m\u001b[0m\u001b[0;34m\u001b[0m\u001b[0m\n",
            "\u001b[0;32m/usr/local/lib/python3.7/dist-packages/sklearn/utils/validation.py\u001b[0m in \u001b[0;36mcheck_array\u001b[0;34m(array, accept_sparse, accept_large_sparse, dtype, order, copy, force_all_finite, ensure_2d, allow_nd, ensure_min_samples, ensure_min_features, estimator)\u001b[0m\n\u001b[1;32m    663\u001b[0m \u001b[0;34m\u001b[0m\u001b[0m\n\u001b[1;32m    664\u001b[0m         \u001b[0;32mif\u001b[0m \u001b[0mall\u001b[0m\u001b[0;34m(\u001b[0m\u001b[0misinstance\u001b[0m\u001b[0;34m(\u001b[0m\u001b[0mdtype\u001b[0m\u001b[0;34m,\u001b[0m \u001b[0mnp\u001b[0m\u001b[0;34m.\u001b[0m\u001b[0mdtype\u001b[0m\u001b[0;34m)\u001b[0m \u001b[0;32mfor\u001b[0m \u001b[0mdtype\u001b[0m \u001b[0;32min\u001b[0m \u001b[0mdtypes_orig\u001b[0m\u001b[0;34m)\u001b[0m\u001b[0;34m:\u001b[0m\u001b[0;34m\u001b[0m\u001b[0;34m\u001b[0m\u001b[0m\n\u001b[0;32m--> 665\u001b[0;31m             \u001b[0mdtype_orig\u001b[0m \u001b[0;34m=\u001b[0m \u001b[0mnp\u001b[0m\u001b[0;34m.\u001b[0m\u001b[0mresult_type\u001b[0m\u001b[0;34m(\u001b[0m\u001b[0;34m*\u001b[0m\u001b[0mdtypes_orig\u001b[0m\u001b[0;34m)\u001b[0m\u001b[0;34m\u001b[0m\u001b[0;34m\u001b[0m\u001b[0m\n\u001b[0m\u001b[1;32m    666\u001b[0m \u001b[0;34m\u001b[0m\u001b[0m\n\u001b[1;32m    667\u001b[0m     \u001b[0;32mif\u001b[0m \u001b[0mdtype_numeric\u001b[0m\u001b[0;34m:\u001b[0m\u001b[0;34m\u001b[0m\u001b[0;34m\u001b[0m\u001b[0m\n",
            "\u001b[0;32m<__array_function__ internals>\u001b[0m in \u001b[0;36mresult_type\u001b[0;34m(*args, **kwargs)\u001b[0m\n",
            "\u001b[0;31mTypeError\u001b[0m: The DType <class 'numpy.dtype[datetime64]'> could not be promoted by <class 'numpy.dtype[float64]'>. This means that no common DType exists for the given inputs. For example they cannot be stored in a single array unless the dtype is `object`. The full list of DTypes is: (<class 'numpy.dtype[float64]'>, <class 'numpy.dtype[float64]'>, <class 'numpy.dtype[float64]'>, <class 'numpy.dtype[float64]'>, <class 'numpy.dtype[float64]'>, <class 'numpy.dtype[float64]'>, <class 'numpy.dtype[datetime64]'>)"
          ]
        }
      ]
    },
    {
      "cell_type": "code",
      "source": [
        "dataset.head()"
      ],
      "metadata": {
        "id": "Ceuboo_7OnVV"
      },
      "execution_count": null,
      "outputs": []
    },
    {
      "cell_type": "code",
      "source": [
        "series = dataset[[5, 3]]\n",
        "series.plot()\n"
      ],
      "metadata": {
        "id": "SAOun5BY2st3",
        "outputId": "a98a6152-0e1d-4d4c-b7bc-f2f426907ec6",
        "colab": {
          "base_uri": "https://localhost:8080/",
          "height": 186
        }
      },
      "execution_count": 39,
      "outputs": [
        {
          "output_type": "error",
          "ename": "NameError",
          "evalue": "ignored",
          "traceback": [
            "\u001b[0;31m---------------------------------------------------------------------------\u001b[0m",
            "\u001b[0;31mNameError\u001b[0m                                 Traceback (most recent call last)",
            "\u001b[0;32m<ipython-input-39-8dd60ad2935e>\u001b[0m in \u001b[0;36m<module>\u001b[0;34m()\u001b[0m\n\u001b[0;32m----> 1\u001b[0;31m \u001b[0mseries\u001b[0m \u001b[0;34m=\u001b[0m \u001b[0mdataset\u001b[0m\u001b[0;34m[\u001b[0m\u001b[0;34m[\u001b[0m\u001b[0;36m5\u001b[0m\u001b[0;34m,\u001b[0m \u001b[0;36m3\u001b[0m\u001b[0;34m]\u001b[0m\u001b[0;34m]\u001b[0m\u001b[0;34m\u001b[0m\u001b[0;34m\u001b[0m\u001b[0m\n\u001b[0m\u001b[1;32m      2\u001b[0m \u001b[0mseries\u001b[0m\u001b[0;34m.\u001b[0m\u001b[0mplot\u001b[0m\u001b[0;34m(\u001b[0m\u001b[0;34m)\u001b[0m\u001b[0;34m\u001b[0m\u001b[0;34m\u001b[0m\u001b[0m\n",
            "\u001b[0;31mNameError\u001b[0m: name 'dataset' is not defined"
          ]
        }
      ]
    },
    {
      "cell_type": "code",
      "source": [
        "series = dataset[[5, 4]]\n",
        "series.plot()\n"
      ],
      "metadata": {
        "id": "c8vtA7alQK50"
      },
      "execution_count": null,
      "outputs": []
    },
    {
      "cell_type": "code",
      "source": [
        "series = dataset[[3, 4]]\n",
        "series.plot()"
      ],
      "metadata": {
        "id": "S35ZZlw1QV0k"
      },
      "execution_count": null,
      "outputs": []
    },
    {
      "cell_type": "code",
      "source": [
        "df_sub['mov_avg'] = df_sub['cases_ppm'].rolling(7).sum()\n",
        "df_sub['mov_avg_work_mob'] = df_sub['workplaces_percent_change_from_baseline'].rolling(7).sum()\n",
        "df_sub['mov_avg_res_mob'] = df_sub['residential_percent_change_from_baseline'].rolling(7).sum()"
      ],
      "metadata": {
        "colab": {
          "base_uri": "https://localhost:8080/"
        },
        "id": "-5Pk0DobQ27Z",
        "outputId": "523c3720-b06a-4290-8c78-65b68238c587"
      },
      "execution_count": 40,
      "outputs": [
        {
          "output_type": "stream",
          "name": "stderr",
          "text": [
            "/usr/local/lib/python3.7/dist-packages/ipykernel_launcher.py:1: SettingWithCopyWarning: \n",
            "A value is trying to be set on a copy of a slice from a DataFrame.\n",
            "Try using .loc[row_indexer,col_indexer] = value instead\n",
            "\n",
            "See the caveats in the documentation: https://pandas.pydata.org/pandas-docs/stable/user_guide/indexing.html#returning-a-view-versus-a-copy\n",
            "  \"\"\"Entry point for launching an IPython kernel.\n",
            "/usr/local/lib/python3.7/dist-packages/ipykernel_launcher.py:2: SettingWithCopyWarning: \n",
            "A value is trying to be set on a copy of a slice from a DataFrame.\n",
            "Try using .loc[row_indexer,col_indexer] = value instead\n",
            "\n",
            "See the caveats in the documentation: https://pandas.pydata.org/pandas-docs/stable/user_guide/indexing.html#returning-a-view-versus-a-copy\n",
            "  \n",
            "/usr/local/lib/python3.7/dist-packages/ipykernel_launcher.py:3: SettingWithCopyWarning: \n",
            "A value is trying to be set on a copy of a slice from a DataFrame.\n",
            "Try using .loc[row_indexer,col_indexer] = value instead\n",
            "\n",
            "See the caveats in the documentation: https://pandas.pydata.org/pandas-docs/stable/user_guide/indexing.html#returning-a-view-versus-a-copy\n",
            "  This is separate from the ipykernel package so we can avoid doing imports until\n"
          ]
        }
      ]
    },
    {
      "cell_type": "code",
      "source": [
        "series = df_sub[['mov_avg', 'lockdown_index']]\n",
        "series.plot()"
      ],
      "metadata": {
        "colab": {
          "base_uri": "https://localhost:8080/",
          "height": 283
        },
        "id": "Cyy8LwkURL08",
        "outputId": "e8fe6af6-5629-46e4-f022-18219c0cd69c"
      },
      "execution_count": 41,
      "outputs": [
        {
          "output_type": "execute_result",
          "data": {
            "text/plain": [
              "<matplotlib.axes._subplots.AxesSubplot at 0x7fa1028d1b10>"
            ]
          },
          "metadata": {},
          "execution_count": 41
        },
        {
          "output_type": "display_data",
          "data": {
            "text/plain": [
              "<Figure size 432x288 with 1 Axes>"
            ],
            "image/png": "[encoded data removed]"
          },
          "metadata": {
            "needs_background": "light"
          }
        }
      ]
    },
    {
      "cell_type": "code",
      "source": [
        "series = df_sub[['mov_avg_work_mob', 'lockdown_index', 'date']]\n",
        "# create figure and axis objects with subplots()\n",
        "fig,ax = plt.subplots()\n",
        "# make a plot\n",
        "ax.plot(df_sub.date, df_sub.mov_avg_work_mob, color=\"red\")\n",
        "# set x-axis label\n",
        "ax.set_xlabel(\"date\",fontsize=14)\n",
        "# set y-axis label\n",
        "ax.set_ylabel(\"mov_avg_work_mob\",color=\"red\",fontsize=14)"
      ],
      "metadata": {
        "colab": {
          "base_uri": "https://localhost:8080/",
          "height": 301
        },
        "id": "97jVKWm4Rv6r",
        "outputId": "06737e72-b39b-423e-eee3-787f67327bfa"
      },
      "execution_count": 42,
      "outputs": [
        {
          "output_type": "execute_result",
          "data": {
            "text/plain": [
              "Text(0, 0.5, 'mov_avg_work_mob')"
            ]
          },
          "metadata": {},
          "execution_count": 42
        },
        {
          "output_type": "display_data",
          "data": {
            "text/plain": [
              "<Figure size 432x288 with 1 Axes>"
            ],
            "image/png": "[encoded data removed]"
          },
          "metadata": {
            "needs_background": "light"
          }
        }
      ]
    },
    {
      "cell_type": "code",
      "source": [
        "ax2=ax.twinx()\n",
        "# make a plot with different y-axis using second axis object\n",
        "ax2.plot(df_sub.date, df_sub.lockdown_index,color=\"blue\")\n",
        "ax2.set_ylabel(\"lockdown_index\",color=\"blue\",fontsize=14)\n",
        "plt.show()\n",
        "fig.savefig('two_different_y_axis_for_single_python_plot_with_twinx.jpg',\n",
        "            format='jpeg',\n",
        "            dpi=100,\n",
        "            bbox_inches='tight')"
      ],
      "metadata": {
        "id": "3z53O-L8TRqj"
      },
      "execution_count": 43,
      "outputs": []
    },
    {
      "cell_type": "code",
      "source": [
        "ax2=ax.twinx()\n",
        "# make a plot with different y-axis using second axis object\n",
        "ax2.plot(df_sub.date, df_sub.lockdown_index,color=\"blue\")\n",
        "ax2.set_ylabel(\"lockdown_index\",color=\"blue\",fontsize=14)\n",
        "plt.show()\n",
        "fig.savefig('two_different_y_axis_for_single_python_plot_with_twinx.jpg',\n",
        "            format='jpeg',\n",
        "            dpi=100,\n",
        "            bbox_inches='tight')\n",
        "ax2=ax.twinx()\n",
        "# make a plot with different y-axis using second axis object\n",
        "ax2.plot(df_sub.date, df_sub.mov_avg,color=\"blue\")\n",
        "ax2.set_ylabel(\"lockdown_index\",color=\"blue\",fontsize=14)\n",
        "plt.show()\n",
        "fig.savefig('cases_vs_workplace_mob.jpg',\n",
        "            format='jpeg',\n",
        "            dpi=100,\n",
        "            bbox_inches='tight')"
      ],
      "metadata": {
        "id": "GYRO60iFUjxd"
      },
      "execution_count": 44,
      "outputs": []
    },
    {
      "cell_type": "code",
      "source": [
        "series = df_sub[['lockdown_index']]\n",
        "series.plot()"
      ],
      "metadata": {
        "colab": {
          "base_uri": "https://localhost:8080/",
          "height": 283
        },
        "id": "tvuGHZH4ScVH",
        "outputId": "bb3419f4-21f1-4de0-de6f-3d83597b1927"
      },
      "execution_count": 45,
      "outputs": [
        {
          "output_type": "execute_result",
          "data": {
            "text/plain": [
              "<matplotlib.axes._subplots.AxesSubplot at 0x7fa102147150>"
            ]
          },
          "metadata": {},
          "execution_count": 45
        },
        {
          "output_type": "display_data",
          "data": {
            "text/plain": [
              "<Figure size 432x288 with 1 Axes>"
            ],
            "image/png": "[encoded data removed]"
          },
          "metadata": {
            "needs_background": "light"
          }
        }
      ]
    },
    {
      "cell_type": "code",
      "source": [
        "series = df_sub[['cases_ppm']]\n",
        "series.plot()"
      ],
      "metadata": {
        "colab": {
          "base_uri": "https://localhost:8080/",
          "height": 283
        },
        "id": "-lmglC7gRVsh",
        "outputId": "cd0c5ad4-139d-48e0-9519-3ec46a90ec00"
      },
      "execution_count": 46,
      "outputs": [
        {
          "output_type": "execute_result",
          "data": {
            "text/plain": [
              "<matplotlib.axes._subplots.AxesSubplot at 0x7fa10209ba10>"
            ]
          },
          "metadata": {},
          "execution_count": 46
        },
        {
          "output_type": "display_data",
          "data": {
            "text/plain": [
              "<Figure size 432x288 with 1 Axes>"
            ],
            "image/png": "[encoded data removed]"
          },
          "metadata": {
            "needs_background": "light"
          }
        }
      ]
    },
    {
      "cell_type": "code",
      "source": [
        "df_sub"
      ],
      "metadata": {
        "colab": {
          "base_uri": "https://localhost:8080/",
          "height": 661
        },
        "id": "fkZNsZn-RDuD",
        "outputId": "3d99b2b4-e6ee-45a3-d159-f9cc45d33170"
      },
      "execution_count": 47,
      "outputs": [
        {
          "output_type": "execute_result",
          "data": {
            "text/plain": [
              "       deaths_ppm   cases_ppm  total_vaccinations  \\\n",
              "87540    0.000000    0.000000                 0.0   \n",
              "87541    0.000000    0.000000                 0.0   \n",
              "87542    0.000000    0.000000                 0.0   \n",
              "87543    0.000000    0.000000                 0.0   \n",
              "87544    0.000000    0.000000                 0.0   \n",
              "...           ...         ...                 ...   \n",
              "88296    1.279606   31.428436         254619167.0   \n",
              "88297    0.504633   32.518804         254667021.0   \n",
              "88298   -7.854856  104.362952         254713948.0   \n",
              "88299    3.847828   76.746300         254760201.0   \n",
              "88300    5.836323  135.214664         254805930.0   \n",
              "\n",
              "       workplaces_percent_change_from_baseline  \\\n",
              "87540                                      2.0   \n",
              "87541                                      0.0   \n",
              "87542                                    -24.0   \n",
              "87543                                      0.0   \n",
              "87544                                      1.0   \n",
              "...                                        ...   \n",
              "88296                                    -10.0   \n",
              "88297                                     -9.0   \n",
              "88298                                    -24.0   \n",
              "88299                                    -23.0   \n",
              "88300                                    -22.0   \n",
              "\n",
              "       residential_percent_change_from_baseline  lockdown_index       date  \\\n",
              "87540                                      -1.0            5.56 2020-02-15   \n",
              "87541                                      -1.0            5.56 2020-02-16   \n",
              "87542                                       5.0            5.56 2020-02-17   \n",
              "87543                                       1.0            5.56 2020-02-18   \n",
              "87544                                       0.0            5.56 2020-02-19   \n",
              "...                                         ...             ...        ...   \n",
              "88296                                       4.0           53.24 2022-03-12   \n",
              "88297                                       2.0           53.24 2022-03-13   \n",
              "88298                                       6.0           53.24 2022-03-14   \n",
              "88299                                       5.0           53.24 2022-03-15   \n",
              "88300                                       5.0           58.80 2022-03-16   \n",
              "\n",
              "          mov_avg  mov_avg_work_mob  mov_avg_res_mob  \n",
              "87540         NaN               NaN              NaN  \n",
              "87541         NaN               NaN              NaN  \n",
              "87542         NaN               NaN              NaN  \n",
              "87543         NaN               NaN              NaN  \n",
              "87544         NaN               NaN              NaN  \n",
              "...           ...               ...              ...  \n",
              "88296  745.682666            -121.0             34.0  \n",
              "88297  745.030848            -121.0             34.0  \n",
              "88298  658.897770            -124.0             34.0  \n",
              "88299  646.245895            -127.0             34.0  \n",
              "88300  669.209710            -129.0             33.0  \n",
              "\n",
              "[761 rows x 10 columns]"
            ],
            "text/html": [
              "\n",
              "  <div id=\"df-99d8e270-7534-47d5-ac8f-65a1b4754241\">\n",
              "    <div class=\"colab-df-container\">\n",
              "      <div>\n",
              "<style scoped>\n",
              "    .dataframe tbody tr th:only-of-type {\n",
              "        vertical-align: middle;\n",
              "    }\n",
              "\n",
              "    .dataframe tbody tr th {\n",
              "        vertical-align: top;\n",
              "    }\n",
              "\n",
              "    .dataframe thead th {\n",
              "        text-align: right;\n",
              "    }\n",
              "</style>\n",
              "<table border=\"1\" class=\"dataframe\">\n",
              "  <thead>\n",
              "    <tr style=\"text-align: right;\">\n",
              "      <th></th>\n",
              "      <th>deaths_ppm</th>\n",
              "      <th>cases_ppm</th>\n",
              "      <th>total_vaccinations</th>\n",
              "      <th>workplaces_percent_change_from_baseline</th>\n",
              "      <th>residential_percent_change_from_baseline</th>\n",
              "      <th>lockdown_index</th>\n",
              "      <th>date</th>\n",
              "      <th>mov_avg</th>\n",
              "      <th>mov_avg_work_mob</th>\n",
              "      <th>mov_avg_res_mob</th>\n",
              "    </tr>\n",
              "  </thead>\n",
              "  <tbody>\n",
              "    <tr>\n",
              "      <th>87540</th>\n",
              "      <td>0.000000</td>\n",
              "      <td>0.000000</td>\n",
              "      <td>0.0</td>\n",
              "      <td>2.0</td>\n",
              "      <td>-1.0</td>\n",
              "      <td>5.56</td>\n",
              "      <td>2020-02-15</td>\n",
              "      <td>NaN</td>\n",
              "      <td>NaN</td>\n",
              "      <td>NaN</td>\n",
              "    </tr>\n",
              "    <tr>\n",
              "      <th>87541</th>\n",
              "      <td>0.000000</td>\n",
              "      <td>0.000000</td>\n",
              "      <td>0.0</td>\n",
              "      <td>0.0</td>\n",
              "      <td>-1.0</td>\n",
              "      <td>5.56</td>\n",
              "      <td>2020-02-16</td>\n",
              "      <td>NaN</td>\n",
              "      <td>NaN</td>\n",
              "      <td>NaN</td>\n",
              "    </tr>\n",
              "    <tr>\n",
              "      <th>87542</th>\n",
              "      <td>0.000000</td>\n",
              "      <td>0.000000</td>\n",
              "      <td>0.0</td>\n",
              "      <td>-24.0</td>\n",
              "      <td>5.0</td>\n",
              "      <td>5.56</td>\n",
              "      <td>2020-02-17</td>\n",
              "      <td>NaN</td>\n",
              "      <td>NaN</td>\n",
              "      <td>NaN</td>\n",
              "    </tr>\n",
              "    <tr>\n",
              "      <th>87543</th>\n",
              "      <td>0.000000</td>\n",
              "      <td>0.000000</td>\n",
              "      <td>0.0</td>\n",
              "      <td>0.0</td>\n",
              "      <td>1.0</td>\n",
              "      <td>5.56</td>\n",
              "      <td>2020-02-18</td>\n",
              "      <td>NaN</td>\n",
              "      <td>NaN</td>\n",
              "      <td>NaN</td>\n",
              "    </tr>\n",
              "    <tr>\n",
              "      <th>87544</th>\n",
              "      <td>0.000000</td>\n",
              "      <td>0.000000</td>\n",
              "      <td>0.0</td>\n",
              "      <td>1.0</td>\n",
              "      <td>0.0</td>\n",
              "      <td>5.56</td>\n",
              "      <td>2020-02-19</td>\n",
              "      <td>NaN</td>\n",
              "      <td>NaN</td>\n",
              "      <td>NaN</td>\n",
              "    </tr>\n",
              "    <tr>\n",
              "      <th>...</th>\n",
              "      <td>...</td>\n",
              "      <td>...</td>\n",
              "      <td>...</td>\n",
              "      <td>...</td>\n",
              "      <td>...</td>\n",
              "      <td>...</td>\n",
              "      <td>...</td>\n",
              "      <td>...</td>\n",
              "      <td>...</td>\n",
              "      <td>...</td>\n",
              "    </tr>\n",
              "    <tr>\n",
              "      <th>88296</th>\n",
              "      <td>1.279606</td>\n",
              "      <td>31.428436</td>\n",
              "      <td>254619167.0</td>\n",
              "      <td>-10.0</td>\n",
              "      <td>4.0</td>\n",
              "      <td>53.24</td>\n",
              "      <td>2022-03-12</td>\n",
              "      <td>745.682666</td>\n",
              "      <td>-121.0</td>\n",
              "      <td>34.0</td>\n",
              "    </tr>\n",
              "    <tr>\n",
              "      <th>88297</th>\n",
              "      <td>0.504633</td>\n",
              "      <td>32.518804</td>\n",
              "      <td>254667021.0</td>\n",
              "      <td>-9.0</td>\n",
              "      <td>2.0</td>\n",
              "      <td>53.24</td>\n",
              "      <td>2022-03-13</td>\n",
              "      <td>745.030848</td>\n",
              "      <td>-121.0</td>\n",
              "      <td>34.0</td>\n",
              "    </tr>\n",
              "    <tr>\n",
              "      <th>88298</th>\n",
              "      <td>-7.854856</td>\n",
              "      <td>104.362952</td>\n",
              "      <td>254713948.0</td>\n",
              "      <td>-24.0</td>\n",
              "      <td>6.0</td>\n",
              "      <td>53.24</td>\n",
              "      <td>2022-03-14</td>\n",
              "      <td>658.897770</td>\n",
              "      <td>-124.0</td>\n",
              "      <td>34.0</td>\n",
              "    </tr>\n",
              "    <tr>\n",
              "      <th>88299</th>\n",
              "      <td>3.847828</td>\n",
              "      <td>76.746300</td>\n",
              "      <td>254760201.0</td>\n",
              "      <td>-23.0</td>\n",
              "      <td>5.0</td>\n",
              "      <td>53.24</td>\n",
              "      <td>2022-03-15</td>\n",
              "      <td>646.245895</td>\n",
              "      <td>-127.0</td>\n",
              "      <td>34.0</td>\n",
              "    </tr>\n",
              "    <tr>\n",
              "      <th>88300</th>\n",
              "      <td>5.836323</td>\n",
              "      <td>135.214664</td>\n",
              "      <td>254805930.0</td>\n",
              "      <td>-22.0</td>\n",
              "      <td>5.0</td>\n",
              "      <td>58.80</td>\n",
              "      <td>2022-03-16</td>\n",
              "      <td>669.209710</td>\n",
              "      <td>-129.0</td>\n",
              "      <td>33.0</td>\n",
              "    </tr>\n",
              "  </tbody>\n",
              "</table>\n",
              "<p>761 rows × 10 columns</p>\n",
              "</div>\n",
              "      <button class=\"colab-df-convert\" onclick=\"convertToInteractive('df-99d8e270-7534-47d5-ac8f-65a1b4754241')\"\n",
              "              title=\"Convert this dataframe to an interactive table.\"\n",
              "              style=\"display:none;\">\n",
              "        \n",
              "  <svg xmlns=\"http://www.w3.org/2000/svg\" height=\"24px\"viewBox=\"0 0 24 24\"\n",
              "       width=\"24px\">\n",
              "    <path d=\"M0 0h24v24H0V0z\" fill=\"none\"/>\n",
              "    <path d=\"M18.56 5.44l.94 2.06.94-2.06 2.06-.94-2.06-.94-.94-2.06-.94 2.06-2.06.94zm-11 1L8.5 8.5l.94-2.06 2.06-.94-2.06-.94L8.5 2.5l-.94 2.06-2.06.94zm10 10l.94 2.06.94-2.06 2.06-.94-2.06-.94-.94-2.06-.94 2.06-2.06.94z\"/><path d=\"M17.41 7.96l-1.37-1.37c-.4-.4-.92-.59-1.43-.59-.52 0-1.04.2-1.43.59L10.3 9.45l-7.72 7.72c-.78.78-.78 2.05 0 2.83L4 21.41c.39.39.9.59 1.41.59.51 0 1.02-.2 1.41-.59l7.78-7.78 2.81-2.81c.8-.78.8-2.07 0-2.86zM5.41 20L4 18.59l7.72-7.72 1.47 1.35L5.41 20z\"/>\n",
              "  </svg>\n",
              "      </button>\n",
              "      \n",
              "  <style>\n",
              "    .colab-df-container {\n",
              "      display:flex;\n",
              "      flex-wrap:wrap;\n",
              "      gap: 12px;\n",
              "    }\n",
              "\n",
              "    .colab-df-convert {\n",
              "      background-color: #E8F0FE;\n",
              "      border: none;\n",
              "      border-radius: 50%;\n",
              "      cursor: pointer;\n",
              "      display: none;\n",
              "      fill: #1967D2;\n",
              "      height: 32px;\n",
              "      padding: 0 0 0 0;\n",
              "      width: 32px;\n",
              "    }\n",
              "\n",
              "    .colab-df-convert:hover {\n",
              "      background-color: #E2EBFA;\n",
              "      box-shadow: 0px 1px 2px rgba(60, 64, 67, 0.3), 0px 1px 3px 1px rgba(60, 64, 67, 0.15);\n",
              "      fill: #174EA6;\n",
              "    }\n",
              "\n",
              "    [theme=dark] .colab-df-convert {\n",
              "      background-color: #3B4455;\n",
              "      fill: #D2E3FC;\n",
              "    }\n",
              "\n",
              "    [theme=dark] .colab-df-convert:hover {\n",
              "      background-color: #434B5C;\n",
              "      box-shadow: 0px 1px 3px 1px rgba(0, 0, 0, 0.15);\n",
              "      filter: drop-shadow(0px 1px 2px rgba(0, 0, 0, 0.3));\n",
              "      fill: #FFFFFF;\n",
              "    }\n",
              "  </style>\n",
              "\n",
              "      <script>\n",
              "        const buttonEl =\n",
              "          document.querySelector('#df-99d8e270-7534-47d5-ac8f-65a1b4754241 button.colab-df-convert');\n",
              "        buttonEl.style.display =\n",
              "          google.colab.kernel.accessAllowed ? 'block' : 'none';\n",
              "\n",
              "        async function convertToInteractive(key) {\n",
              "          const element = document.querySelector('#df-99d8e270-7534-47d5-ac8f-65a1b4754241');\n",
              "          const dataTable =\n",
              "            await google.colab.kernel.invokeFunction('convertToInteractive',\n",
              "                                                     [key], {});\n",
              "          if (!dataTable) return;\n",
              "\n",
              "          const docLinkHtml = 'Like what you see? Visit the ' +\n",
              "            '<a target=\"_blank\" href=https://colab.research.google.com/notebooks/data_table.ipynb>data table notebook</a>'\n",
              "            + ' to learn more about interactive tables.';\n",
              "          element.innerHTML = '';\n",
              "          dataTable['output_type'] = 'display_data';\n",
              "          await google.colab.output.renderOutput(dataTable, element);\n",
              "          const docLink = document.createElement('div');\n",
              "          docLink.innerHTML = docLinkHtml;\n",
              "          element.appendChild(docLink);\n",
              "        }\n",
              "      </script>\n",
              "    </div>\n",
              "  </div>\n",
              "  "
            ]
          },
          "metadata": {},
          "execution_count": 47
        }
      ]
    },
    {
      "cell_type": "code",
      "source": [
        "series = df_merged_US['lockdown_index']\n",
        "series.plot()\n"
      ],
      "metadata": {
        "colab": {
          "base_uri": "https://localhost:8080/",
          "height": 283
        },
        "id": "Smrmp8SwNSIY",
        "outputId": "d554a783-95d2-4b13-a9aa-d0e331617644"
      },
      "execution_count": 49,
      "outputs": [
        {
          "output_type": "execute_result",
          "data": {
            "text/plain": [
              "<matplotlib.axes._subplots.AxesSubplot at 0x7fa10201ee10>"
            ]
          },
          "metadata": {},
          "execution_count": 49
        },
        {
          "output_type": "display_data",
          "data": {
            "text/plain": [
              "<Figure size 432x288 with 1 Axes>"
            ],
            "image/png": "[encoded data removed]"
          },
          "metadata": {
            "needs_background": "light"
          }
        }
      ]
    },
    {
      "cell_type": "code",
      "source": [
        "series = df_merged_US['workplaces_percent_change_from_baseline']\n",
        "series.plot()"
      ],
      "metadata": {
        "colab": {
          "base_uri": "https://localhost:8080/",
          "height": 283
        },
        "id": "sLADFfYWNgna",
        "outputId": "c672bdd8-c1cb-49d4-cc61-4bb45811f985"
      },
      "execution_count": 50,
      "outputs": [
        {
          "output_type": "execute_result",
          "data": {
            "text/plain": [
              "<matplotlib.axes._subplots.AxesSubplot at 0x7fa102117b50>"
            ]
          },
          "metadata": {},
          "execution_count": 50
        },
        {
          "output_type": "display_data",
          "data": {
            "text/plain": [
              "<Figure size 432x288 with 1 Axes>"
            ],
            "image/png": "[encoded data removed]"
          },
          "metadata": {
            "needs_background": "light"
          }
        }
      ]
    },
    {
      "cell_type": "code",
      "source": [
        "series = df_merged_US['residential_percent_change_from_baseline']\n",
        "series.plot()"
      ],
      "metadata": {
        "colab": {
          "base_uri": "https://localhost:8080/",
          "height": 283
        },
        "id": "NA5DUZHCNoVT",
        "outputId": "fd2e2ed1-a206-4222-88b9-b85426afa8bd"
      },
      "execution_count": 51,
      "outputs": [
        {
          "output_type": "execute_result",
          "data": {
            "text/plain": [
              "<matplotlib.axes._subplots.AxesSubplot at 0x7fa101fc5150>"
            ]
          },
          "metadata": {},
          "execution_count": 51
        },
        {
          "output_type": "display_data",
          "data": {
            "text/plain": [
              "<Figure size 432x288 with 1 Axes>"
            ],
            "image/png": "[encoded data removed]"
          },
          "metadata": {
            "needs_background": "light"
          }
        }
      ]
    },
    {
      "cell_type": "code",
      "source": [
        "gc_res = sm.tsa.stattools.grangercausalitytests(df_merged_US[['residential_percent_change_from_baseline', 'workplaces_percent_change_from_baseline']],maxlag=10)"
      ],
      "metadata": {
        "colab": {
          "base_uri": "https://localhost:8080/"
        },
        "id": "xG2EzRaa0LCV",
        "outputId": "2d2b02dd-311a-41cb-cfac-16a963aa5157"
      },
      "execution_count": 52,
      "outputs": [
        {
          "output_type": "stream",
          "name": "stdout",
          "text": [
            "\n",
            "Granger Causality\n",
            "number of lags (no zero) 1\n",
            "ssr based F test:         F=8.7872  , p=0.0031  , df_denom=757, df_num=1\n",
            "ssr based chi2 test:   chi2=8.8220  , p=0.0030  , df=1\n",
            "likelihood ratio test: chi2=8.7712  , p=0.0031  , df=1\n",
            "parameter F test:         F=8.7872  , p=0.0031  , df_denom=757, df_num=1\n",
            "\n",
            "Granger Causality\n",
            "number of lags (no zero) 2\n",
            "ssr based F test:         F=34.5154 , p=0.0000  , df_denom=754, df_num=2\n",
            "ssr based chi2 test:   chi2=69.4886 , p=0.0000  , df=2\n",
            "likelihood ratio test: chi2=66.4894 , p=0.0000  , df=2\n",
            "parameter F test:         F=34.5154 , p=0.0000  , df_denom=754, df_num=2\n",
            "\n",
            "Granger Causality\n",
            "number of lags (no zero) 3\n",
            "ssr based F test:         F=8.7235  , p=0.0000  , df_denom=751, df_num=3\n",
            "ssr based chi2 test:   chi2=26.4144 , p=0.0000  , df=3\n",
            "likelihood ratio test: chi2=25.9646 , p=0.0000  , df=3\n",
            "parameter F test:         F=8.7235  , p=0.0000  , df_denom=751, df_num=3\n",
            "\n",
            "Granger Causality\n",
            "number of lags (no zero) 4\n",
            "ssr based F test:         F=15.7458 , p=0.0000  , df_denom=748, df_num=4\n",
            "ssr based chi2 test:   chi2=63.7409 , p=0.0000  , df=4\n",
            "likelihood ratio test: chi2=61.1991 , p=0.0000  , df=4\n",
            "parameter F test:         F=15.7458 , p=0.0000  , df_denom=748, df_num=4\n",
            "\n",
            "Granger Causality\n",
            "number of lags (no zero) 5\n",
            "ssr based F test:         F=15.2473 , p=0.0000  , df_denom=745, df_num=5\n",
            "ssr based chi2 test:   chi2=77.3620 , p=0.0000  , df=5\n",
            "likelihood ratio test: chi2=73.6547 , p=0.0000  , df=5\n",
            "parameter F test:         F=15.2473 , p=0.0000  , df_denom=745, df_num=5\n",
            "\n",
            "Granger Causality\n",
            "number of lags (no zero) 6\n",
            "ssr based F test:         F=12.4746 , p=0.0000  , df_denom=742, df_num=6\n",
            "ssr based chi2 test:   chi2=76.1591 , p=0.0000  , df=6\n",
            "likelihood ratio test: chi2=72.5582 , p=0.0000  , df=6\n",
            "parameter F test:         F=12.4746 , p=0.0000  , df_denom=742, df_num=6\n",
            "\n",
            "Granger Causality\n",
            "number of lags (no zero) 7\n",
            "ssr based F test:         F=4.5154  , p=0.0001  , df_denom=739, df_num=7\n",
            "ssr based chi2 test:   chi2=32.2494 , p=0.0000  , df=7\n",
            "likelihood ratio test: chi2=31.5788 , p=0.0000  , df=7\n",
            "parameter F test:         F=4.5154  , p=0.0001  , df_denom=739, df_num=7\n",
            "\n",
            "Granger Causality\n",
            "number of lags (no zero) 8\n",
            "ssr based F test:         F=4.7933  , p=0.0000  , df_denom=736, df_num=8\n",
            "ssr based chi2 test:   chi2=39.2322 , p=0.0000  , df=8\n",
            "likelihood ratio test: chi2=38.2444 , p=0.0000  , df=8\n",
            "parameter F test:         F=4.7933  , p=0.0000  , df_denom=736, df_num=8\n",
            "\n",
            "Granger Causality\n",
            "number of lags (no zero) 9\n",
            "ssr based F test:         F=5.1453  , p=0.0000  , df_denom=733, df_num=9\n",
            "ssr based chi2 test:   chi2=47.5076 , p=0.0000  , df=9\n",
            "likelihood ratio test: chi2=46.0673 , p=0.0000  , df=9\n",
            "parameter F test:         F=5.1453  , p=0.0000  , df_denom=733, df_num=9\n",
            "\n",
            "Granger Causality\n",
            "number of lags (no zero) 10\n",
            "ssr based F test:         F=6.2625  , p=0.0000  , df_denom=730, df_num=10\n",
            "ssr based chi2 test:   chi2=64.4267 , p=0.0000  , df=10\n",
            "likelihood ratio test: chi2=61.8117 , p=0.0000  , df=10\n",
            "parameter F test:         F=6.2625  , p=0.0000  , df_denom=730, df_num=10\n"
          ]
        }
      ]
    },
    {
      "cell_type": "code",
      "source": [
        "gc_res = sm.tsa.stattools.grangercausalitytests(df_merged_US[['residential_percent_change_from_baseline', 'total_vaccinations']],maxlag=10)"
      ],
      "metadata": {
        "id": "mDRLKdYq0Nj7",
        "outputId": "ee7457f5-e5cb-4f02-f933-5cbbbaa730d8",
        "colab": {
          "base_uri": "https://localhost:8080/"
        }
      },
      "execution_count": 53,
      "outputs": [
        {
          "output_type": "stream",
          "name": "stdout",
          "text": [
            "\n",
            "Granger Causality\n",
            "number of lags (no zero) 1\n",
            "ssr based F test:         F=25.7722 , p=0.0000  , df_denom=757, df_num=1\n",
            "ssr based chi2 test:   chi2=25.8743 , p=0.0000  , df=1\n",
            "likelihood ratio test: chi2=25.4436 , p=0.0000  , df=1\n",
            "parameter F test:         F=25.7722 , p=0.0000  , df_denom=757, df_num=1\n",
            "\n",
            "Granger Causality\n",
            "number of lags (no zero) 2\n",
            "ssr based F test:         F=15.0299 , p=0.0000  , df_denom=754, df_num=2\n",
            "ssr based chi2 test:   chi2=30.2592 , p=0.0000  , df=2\n",
            "likelihood ratio test: chi2=29.6716 , p=0.0000  , df=2\n",
            "parameter F test:         F=15.0299 , p=0.0000  , df_denom=754, df_num=2\n",
            "\n",
            "Granger Causality\n",
            "number of lags (no zero) 3\n",
            "ssr based F test:         F=5.4891  , p=0.0010  , df_denom=751, df_num=3\n",
            "ssr based chi2 test:   chi2=16.6209 , p=0.0008  , df=3\n",
            "likelihood ratio test: chi2=16.4413 , p=0.0009  , df=3\n",
            "parameter F test:         F=5.4891  , p=0.0010  , df_denom=751, df_num=3\n",
            "\n",
            "Granger Causality\n",
            "number of lags (no zero) 4\n",
            "ssr based F test:         F=4.6416  , p=0.0010  , df_denom=748, df_num=4\n",
            "ssr based chi2 test:   chi2=18.7897 , p=0.0009  , df=4\n",
            "likelihood ratio test: chi2=18.5603 , p=0.0010  , df=4\n",
            "parameter F test:         F=4.6416  , p=0.0010  , df_denom=748, df_num=4\n",
            "\n",
            "Granger Causality\n",
            "number of lags (no zero) 5\n",
            "ssr based F test:         F=3.5053  , p=0.0039  , df_denom=745, df_num=5\n",
            "ssr based chi2 test:   chi2=17.7851 , p=0.0032  , df=5\n",
            "likelihood ratio test: chi2=17.5791 , p=0.0035  , df=5\n",
            "parameter F test:         F=3.5053  , p=0.0039  , df_denom=745, df_num=5\n",
            "\n",
            "Granger Causality\n",
            "number of lags (no zero) 6\n",
            "ssr based F test:         F=1.4026  , p=0.2109  , df_denom=742, df_num=6\n",
            "ssr based chi2 test:   chi2=8.5628  , p=0.1997  , df=6\n",
            "likelihood ratio test: chi2=8.5146  , p=0.2028  , df=6\n",
            "parameter F test:         F=1.4026  , p=0.2109  , df_denom=742, df_num=6\n",
            "\n",
            "Granger Causality\n",
            "number of lags (no zero) 7\n",
            "ssr based F test:         F=1.8248  , p=0.0796  , df_denom=739, df_num=7\n",
            "ssr based chi2 test:   chi2=13.0329 , p=0.0713  , df=7\n",
            "likelihood ratio test: chi2=12.9216 , p=0.0740  , df=7\n",
            "parameter F test:         F=1.8248  , p=0.0796  , df_denom=739, df_num=7\n",
            "\n",
            "Granger Causality\n",
            "number of lags (no zero) 8\n",
            "ssr based F test:         F=1.6215  , p=0.1149  , df_denom=736, df_num=8\n",
            "ssr based chi2 test:   chi2=13.2719 , p=0.1028  , df=8\n",
            "likelihood ratio test: chi2=13.1563 , p=0.1066  , df=8\n",
            "parameter F test:         F=1.6215  , p=0.1149  , df_denom=736, df_num=8\n",
            "\n",
            "Granger Causality\n",
            "number of lags (no zero) 9\n",
            "ssr based F test:         F=3.0995  , p=0.0012  , df_denom=733, df_num=9\n",
            "ssr based chi2 test:   chi2=28.6183 , p=0.0008  , df=9\n",
            "likelihood ratio test: chi2=28.0871 , p=0.0009  , df=9\n",
            "parameter F test:         F=3.0995  , p=0.0012  , df_denom=733, df_num=9\n",
            "\n",
            "Granger Causality\n",
            "number of lags (no zero) 10\n",
            "ssr based F test:         F=3.8881  , p=0.0000  , df_denom=730, df_num=10\n",
            "ssr based chi2 test:   chi2=39.9992 , p=0.0000  , df=10\n",
            "likelihood ratio test: chi2=38.9703 , p=0.0000  , df=10\n",
            "parameter F test:         F=3.8881  , p=0.0000  , df_denom=730, df_num=10\n"
          ]
        }
      ]
    },
    {
      "cell_type": "code",
      "source": [
        "gc_res = sm.tsa.stattools.grangercausalitytests(df_merged_US[['residential_percent_change_from_baseline', 'lockdown_index']],maxlag=10)"
      ],
      "metadata": {
        "id": "itN5V38a008d",
        "outputId": "7f1c15c1-ea92-40d3-e515-00be335550f6",
        "colab": {
          "base_uri": "https://localhost:8080/"
        }
      },
      "execution_count": 54,
      "outputs": [
        {
          "output_type": "stream",
          "name": "stdout",
          "text": [
            "\n",
            "Granger Causality\n",
            "number of lags (no zero) 1\n",
            "ssr based F test:         F=63.6646 , p=0.0000  , df_denom=757, df_num=1\n",
            "ssr based chi2 test:   chi2=63.9169 , p=0.0000  , df=1\n",
            "likelihood ratio test: chi2=61.3709 , p=0.0000  , df=1\n",
            "parameter F test:         F=63.6646 , p=0.0000  , df_denom=757, df_num=1\n",
            "\n",
            "Granger Causality\n",
            "number of lags (no zero) 2\n",
            "ssr based F test:         F=39.1457 , p=0.0000  , df_denom=754, df_num=2\n",
            "ssr based chi2 test:   chi2=78.8106 , p=0.0000  , df=2\n",
            "likelihood ratio test: chi2=74.9818 , p=0.0000  , df=2\n",
            "parameter F test:         F=39.1457 , p=0.0000  , df_denom=754, df_num=2\n",
            "\n",
            "Granger Causality\n",
            "number of lags (no zero) 3\n",
            "ssr based F test:         F=14.9868 , p=0.0000  , df_denom=751, df_num=3\n",
            "ssr based chi2 test:   chi2=45.3794 , p=0.0000  , df=3\n",
            "likelihood ratio test: chi2=44.0729 , p=0.0000  , df=3\n",
            "parameter F test:         F=14.9868 , p=0.0000  , df_denom=751, df_num=3\n",
            "\n",
            "Granger Causality\n",
            "number of lags (no zero) 4\n",
            "ssr based F test:         F=11.5713 , p=0.0000  , df_denom=748, df_num=4\n",
            "ssr based chi2 test:   chi2=46.8419 , p=0.0000  , df=4\n",
            "likelihood ratio test: chi2=45.4498 , p=0.0000  , df=4\n",
            "parameter F test:         F=11.5713 , p=0.0000  , df_denom=748, df_num=4\n",
            "\n",
            "Granger Causality\n",
            "number of lags (no zero) 5\n",
            "ssr based F test:         F=8.1360  , p=0.0000  , df_denom=745, df_num=5\n",
            "ssr based chi2 test:   chi2=41.2805 , p=0.0000  , df=5\n",
            "likelihood ratio test: chi2=40.1929 , p=0.0000  , df=5\n",
            "parameter F test:         F=8.1360  , p=0.0000  , df_denom=745, df_num=5\n",
            "\n",
            "Granger Causality\n",
            "number of lags (no zero) 6\n",
            "ssr based F test:         F=5.6918  , p=0.0000  , df_denom=742, df_num=6\n",
            "ssr based chi2 test:   chi2=34.7493 , p=0.0000  , df=6\n",
            "likelihood ratio test: chi2=33.9733 , p=0.0000  , df=6\n",
            "parameter F test:         F=5.6918  , p=0.0000  , df_denom=742, df_num=6\n",
            "\n",
            "Granger Causality\n",
            "number of lags (no zero) 7\n",
            "ssr based F test:         F=14.8784 , p=0.0000  , df_denom=739, df_num=7\n",
            "ssr based chi2 test:   chi2=106.2628, p=0.0000  , df=7\n",
            "likelihood ratio test: chi2=99.4116 , p=0.0000  , df=7\n",
            "parameter F test:         F=14.8784 , p=0.0000  , df_denom=739, df_num=7\n",
            "\n",
            "Granger Causality\n",
            "number of lags (no zero) 8\n",
            "ssr based F test:         F=8.4848  , p=0.0000  , df_denom=736, df_num=8\n",
            "ssr based chi2 test:   chi2=69.4462 , p=0.0000  , df=8\n",
            "likelihood ratio test: chi2=66.4280 , p=0.0000  , df=8\n",
            "parameter F test:         F=8.4848  , p=0.0000  , df_denom=736, df_num=8\n",
            "\n",
            "Granger Causality\n",
            "number of lags (no zero) 9\n",
            "ssr based F test:         F=6.0727  , p=0.0000  , df_denom=733, df_num=9\n",
            "ssr based chi2 test:   chi2=56.0710 , p=0.0000  , df=9\n",
            "likelihood ratio test: chi2=54.0791 , p=0.0000  , df=9\n",
            "parameter F test:         F=6.0727  , p=0.0000  , df_denom=733, df_num=9\n",
            "\n",
            "Granger Causality\n",
            "number of lags (no zero) 10\n",
            "ssr based F test:         F=4.9504  , p=0.0000  , df_denom=730, df_num=10\n",
            "ssr based chi2 test:   chi2=50.9283 , p=0.0000  , df=10\n",
            "likelihood ratio test: chi2=49.2758 , p=0.0000  , df=10\n",
            "parameter F test:         F=4.9504  , p=0.0000  , df_denom=730, df_num=10\n"
          ]
        }
      ]
    },
    {
      "cell_type": "code",
      "source": [
        "gc_res = sm.tsa.stattools.grangercausalitytests(df_merged_US[['residential_percent_change_from_baseline', 'deaths_ppm']],maxlag=10)"
      ],
      "metadata": {
        "colab": {
          "base_uri": "https://localhost:8080/"
        },
        "id": "l98YlGVEmcLz",
        "outputId": "1c98ef32-fe8c-4b03-e0ef-c3abc3f3fd15"
      },
      "execution_count": 55,
      "outputs": [
        {
          "output_type": "stream",
          "name": "stdout",
          "text": [
            "\n",
            "Granger Causality\n",
            "number of lags (no zero) 1\n",
            "ssr based F test:         F=0.0689  , p=0.7930  , df_denom=757, df_num=1\n",
            "ssr based chi2 test:   chi2=0.0692  , p=0.7925  , df=1\n",
            "likelihood ratio test: chi2=0.0692  , p=0.7925  , df=1\n",
            "parameter F test:         F=0.0689  , p=0.7930  , df_denom=757, df_num=1\n",
            "\n",
            "Granger Causality\n",
            "number of lags (no zero) 2\n",
            "ssr based F test:         F=0.3161  , p=0.7291  , df_denom=754, df_num=2\n",
            "ssr based chi2 test:   chi2=0.6364  , p=0.7275  , df=2\n",
            "likelihood ratio test: chi2=0.6361  , p=0.7276  , df=2\n",
            "parameter F test:         F=0.3161  , p=0.7291  , df_denom=754, df_num=2\n",
            "\n",
            "Granger Causality\n",
            "number of lags (no zero) 3\n",
            "ssr based F test:         F=3.5544  , p=0.0141  , df_denom=751, df_num=3\n",
            "ssr based chi2 test:   chi2=10.7626 , p=0.0131  , df=3\n",
            "likelihood ratio test: chi2=10.6869 , p=0.0135  , df=3\n",
            "parameter F test:         F=3.5544  , p=0.0141  , df_denom=751, df_num=3\n",
            "\n",
            "Granger Causality\n",
            "number of lags (no zero) 4\n",
            "ssr based F test:         F=3.0480  , p=0.0166  , df_denom=748, df_num=4\n",
            "ssr based chi2 test:   chi2=12.3389 , p=0.0150  , df=4\n",
            "likelihood ratio test: chi2=12.2394 , p=0.0157  , df=4\n",
            "parameter F test:         F=3.0480  , p=0.0166  , df_denom=748, df_num=4\n",
            "\n",
            "Granger Causality\n",
            "number of lags (no zero) 5\n",
            "ssr based F test:         F=16.6593 , p=0.0000  , df_denom=745, df_num=5\n",
            "ssr based chi2 test:   chi2=84.5262 , p=0.0000  , df=5\n",
            "likelihood ratio test: chi2=80.1260 , p=0.0000  , df=5\n",
            "parameter F test:         F=16.6593 , p=0.0000  , df_denom=745, df_num=5\n",
            "\n",
            "Granger Causality\n",
            "number of lags (no zero) 6\n",
            "ssr based F test:         F=10.0254 , p=0.0000  , df_denom=742, df_num=6\n",
            "ssr based chi2 test:   chi2=61.2062 , p=0.0000  , df=6\n",
            "likelihood ratio test: chi2=58.8517 , p=0.0000  , df=6\n",
            "parameter F test:         F=10.0254 , p=0.0000  , df_denom=742, df_num=6\n",
            "\n",
            "Granger Causality\n",
            "number of lags (no zero) 7\n",
            "ssr based F test:         F=7.2265  , p=0.0000  , df_denom=739, df_num=7\n",
            "ssr based chi2 test:   chi2=51.6125 , p=0.0000  , df=7\n",
            "likelihood ratio test: chi2=49.9227 , p=0.0000  , df=7\n",
            "parameter F test:         F=7.2265  , p=0.0000  , df_denom=739, df_num=7\n",
            "\n",
            "Granger Causality\n",
            "number of lags (no zero) 8\n",
            "ssr based F test:         F=4.7165  , p=0.0000  , df_denom=736, df_num=8\n",
            "ssr based chi2 test:   chi2=38.6035 , p=0.0000  , df=8\n",
            "likelihood ratio test: chi2=37.6466 , p=0.0000  , df=8\n",
            "parameter F test:         F=4.7165  , p=0.0000  , df_denom=736, df_num=8\n",
            "\n",
            "Granger Causality\n",
            "number of lags (no zero) 9\n",
            "ssr based F test:         F=4.3842  , p=0.0000  , df_denom=733, df_num=9\n",
            "ssr based chi2 test:   chi2=40.4810 , p=0.0000  , df=9\n",
            "likelihood ratio test: chi2=39.4290 , p=0.0000  , df=9\n",
            "parameter F test:         F=4.3842  , p=0.0000  , df_denom=733, df_num=9\n",
            "\n",
            "Granger Causality\n",
            "number of lags (no zero) 10\n",
            "ssr based F test:         F=4.0527  , p=0.0000  , df_denom=730, df_num=10\n",
            "ssr based chi2 test:   chi2=41.6925 , p=0.0000  , df=10\n",
            "likelihood ratio test: chi2=40.5764 , p=0.0000  , df=10\n",
            "parameter F test:         F=4.0527  , p=0.0000  , df_denom=730, df_num=10\n"
          ]
        }
      ]
    },
    {
      "cell_type": "code",
      "source": [
        ""
      ],
      "metadata": {
        "id": "0MB4F5Cymkf0"
      },
      "execution_count": null,
      "outputs": []
    },
    {
      "cell_type": "code",
      "source": [
        "df_merged_US.dtypes"
      ],
      "metadata": {
        "id": "OBbc4lwFmir5"
      },
      "execution_count": null,
      "outputs": []
    },
    {
      "cell_type": "markdown",
      "source": [
        "### test-train-validation split\n"
      ],
      "metadata": {
        "id": "m84JFL9FX9pP"
      }
    },
    {
      "cell_type": "code",
      "source": [
        "from sklearn.model_selection import train_test_split\n",
        "def train_test_split_udf (df, frac):\n",
        "    X_train, X_test = train_test_split(df, test_size=(frac), random_state=22)\n",
        "    return X_train, X_test"
      ],
      "metadata": {
        "id": "8FSx8kxnYF-a"
      },
      "execution_count": 56,
      "outputs": []
    },
    {
      "cell_type": "code",
      "source": [
        "df_train_1, df_test_1 = train_test_split_udf (df_merged, 0.2)\n",
        "df_train_2, df_val_1 = train_test_split_udf (df_train_1, 0.125)"
      ],
      "metadata": {
        "id": "Q67JdJsqYJ4f"
      },
      "execution_count": 57,
      "outputs": []
    },
    {
      "cell_type": "code",
      "source": [
        ""
      ],
      "metadata": {
        "id": "tp-voihSmazL"
      },
      "execution_count": null,
      "outputs": []
    },
    {
      "cell_type": "markdown",
      "source": [
        "## Stationarity"
      ],
      "metadata": {
        "id": "7ZuAEEqCZlA7"
      }
    },
    {
      "cell_type": "code",
      "source": [
        "df_sub.tail(5)"
      ],
      "metadata": {
        "colab": {
          "base_uri": "https://localhost:8080/",
          "height": 357
        },
        "id": "4r96blyuZjkV",
        "outputId": "73977f57-7f67-4cde-e018-512447497400"
      },
      "execution_count": 58,
      "outputs": [
        {
          "output_type": "execute_result",
          "data": {
            "text/plain": [
              "       deaths_ppm   cases_ppm  total_vaccinations  \\\n",
              "88296    1.279606   31.428436         254619167.0   \n",
              "88297    0.504633   32.518804         254667021.0   \n",
              "88298   -7.854856  104.362952         254713948.0   \n",
              "88299    3.847828   76.746300         254760201.0   \n",
              "88300    5.836323  135.214664         254805930.0   \n",
              "\n",
              "       workplaces_percent_change_from_baseline  \\\n",
              "88296                                    -10.0   \n",
              "88297                                     -9.0   \n",
              "88298                                    -24.0   \n",
              "88299                                    -23.0   \n",
              "88300                                    -22.0   \n",
              "\n",
              "       residential_percent_change_from_baseline  lockdown_index       date  \\\n",
              "88296                                       4.0           53.24 2022-03-12   \n",
              "88297                                       2.0           53.24 2022-03-13   \n",
              "88298                                       6.0           53.24 2022-03-14   \n",
              "88299                                       5.0           53.24 2022-03-15   \n",
              "88300                                       5.0           58.80 2022-03-16   \n",
              "\n",
              "          mov_avg  mov_avg_work_mob  mov_avg_res_mob  \n",
              "88296  745.682666            -121.0             34.0  \n",
              "88297  745.030848            -121.0             34.0  \n",
              "88298  658.897770            -124.0             34.0  \n",
              "88299  646.245895            -127.0             34.0  \n",
              "88300  669.209710            -129.0             33.0  "
            ],
            "text/html": [
              "\n",
              "  <div id=\"df-1775dd6f-ca15-4716-b4f4-6a82587fc27b\">\n",
              "    <div class=\"colab-df-container\">\n",
              "      <div>\n",
              "<style scoped>\n",
              "    .dataframe tbody tr th:only-of-type {\n",
              "        vertical-align: middle;\n",
              "    }\n",
              "\n",
              "    .dataframe tbody tr th {\n",
              "        vertical-align: top;\n",
              "    }\n",
              "\n",
              "    .dataframe thead th {\n",
              "        text-align: right;\n",
              "    }\n",
              "</style>\n",
              "<table border=\"1\" class=\"dataframe\">\n",
              "  <thead>\n",
              "    <tr style=\"text-align: right;\">\n",
              "      <th></th>\n",
              "      <th>deaths_ppm</th>\n",
              "      <th>cases_ppm</th>\n",
              "      <th>total_vaccinations</th>\n",
              "      <th>workplaces_percent_change_from_baseline</th>\n",
              "      <th>residential_percent_change_from_baseline</th>\n",
              "      <th>lockdown_index</th>\n",
              "      <th>date</th>\n",
              "      <th>mov_avg</th>\n",
              "      <th>mov_avg_work_mob</th>\n",
              "      <th>mov_avg_res_mob</th>\n",
              "    </tr>\n",
              "  </thead>\n",
              "  <tbody>\n",
              "    <tr>\n",
              "      <th>88296</th>\n",
              "      <td>1.279606</td>\n",
              "      <td>31.428436</td>\n",
              "      <td>254619167.0</td>\n",
              "      <td>-10.0</td>\n",
              "      <td>4.0</td>\n",
              "      <td>53.24</td>\n",
              "      <td>2022-03-12</td>\n",
              "      <td>745.682666</td>\n",
              "      <td>-121.0</td>\n",
              "      <td>34.0</td>\n",
              "    </tr>\n",
              "    <tr>\n",
              "      <th>88297</th>\n",
              "      <td>0.504633</td>\n",
              "      <td>32.518804</td>\n",
              "      <td>254667021.0</td>\n",
              "      <td>-9.0</td>\n",
              "      <td>2.0</td>\n",
              "      <td>53.24</td>\n",
              "      <td>2022-03-13</td>\n",
              "      <td>745.030848</td>\n",
              "      <td>-121.0</td>\n",
              "      <td>34.0</td>\n",
              "    </tr>\n",
              "    <tr>\n",
              "      <th>88298</th>\n",
              "      <td>-7.854856</td>\n",
              "      <td>104.362952</td>\n",
              "      <td>254713948.0</td>\n",
              "      <td>-24.0</td>\n",
              "      <td>6.0</td>\n",
              "      <td>53.24</td>\n",
              "      <td>2022-03-14</td>\n",
              "      <td>658.897770</td>\n",
              "      <td>-124.0</td>\n",
              "      <td>34.0</td>\n",
              "    </tr>\n",
              "    <tr>\n",
              "      <th>88299</th>\n",
              "      <td>3.847828</td>\n",
              "      <td>76.746300</td>\n",
              "      <td>254760201.0</td>\n",
              "      <td>-23.0</td>\n",
              "      <td>5.0</td>\n",
              "      <td>53.24</td>\n",
              "      <td>2022-03-15</td>\n",
              "      <td>646.245895</td>\n",
              "      <td>-127.0</td>\n",
              "      <td>34.0</td>\n",
              "    </tr>\n",
              "    <tr>\n",
              "      <th>88300</th>\n",
              "      <td>5.836323</td>\n",
              "      <td>135.214664</td>\n",
              "      <td>254805930.0</td>\n",
              "      <td>-22.0</td>\n",
              "      <td>5.0</td>\n",
              "      <td>58.80</td>\n",
              "      <td>2022-03-16</td>\n",
              "      <td>669.209710</td>\n",
              "      <td>-129.0</td>\n",
              "      <td>33.0</td>\n",
              "    </tr>\n",
              "  </tbody>\n",
              "</table>\n",
              "</div>\n",
              "      <button class=\"colab-df-convert\" onclick=\"convertToInteractive('df-1775dd6f-ca15-4716-b4f4-6a82587fc27b')\"\n",
              "              title=\"Convert this dataframe to an interactive table.\"\n",
              "              style=\"display:none;\">\n",
              "        \n",
              "  <svg xmlns=\"http://www.w3.org/2000/svg\" height=\"24px\"viewBox=\"0 0 24 24\"\n",
              "       width=\"24px\">\n",
              "    <path d=\"M0 0h24v24H0V0z\" fill=\"none\"/>\n",
              "    <path d=\"M18.56 5.44l.94 2.06.94-2.06 2.06-.94-2.06-.94-.94-2.06-.94 2.06-2.06.94zm-11 1L8.5 8.5l.94-2.06 2.06-.94-2.06-.94L8.5 2.5l-.94 2.06-2.06.94zm10 10l.94 2.06.94-2.06 2.06-.94-2.06-.94-.94-2.06-.94 2.06-2.06.94z\"/><path d=\"M17.41 7.96l-1.37-1.37c-.4-.4-.92-.59-1.43-.59-.52 0-1.04.2-1.43.59L10.3 9.45l-7.72 7.72c-.78.78-.78 2.05 0 2.83L4 21.41c.39.39.9.59 1.41.59.51 0 1.02-.2 1.41-.59l7.78-7.78 2.81-2.81c.8-.78.8-2.07 0-2.86zM5.41 20L4 18.59l7.72-7.72 1.47 1.35L5.41 20z\"/>\n",
              "  </svg>\n",
              "      </button>\n",
              "      \n",
              "  <style>\n",
              "    .colab-df-container {\n",
              "      display:flex;\n",
              "      flex-wrap:wrap;\n",
              "      gap: 12px;\n",
              "    }\n",
              "\n",
              "    .colab-df-convert {\n",
              "      background-color: #E8F0FE;\n",
              "      border: none;\n",
              "      border-radius: 50%;\n",
              "      cursor: pointer;\n",
              "      display: none;\n",
              "      fill: #1967D2;\n",
              "      height: 32px;\n",
              "      padding: 0 0 0 0;\n",
              "      width: 32px;\n",
              "    }\n",
              "\n",
              "    .colab-df-convert:hover {\n",
              "      background-color: #E2EBFA;\n",
              "      box-shadow: 0px 1px 2px rgba(60, 64, 67, 0.3), 0px 1px 3px 1px rgba(60, 64, 67, 0.15);\n",
              "      fill: #174EA6;\n",
              "    }\n",
              "\n",
              "    [theme=dark] .colab-df-convert {\n",
              "      background-color: #3B4455;\n",
              "      fill: #D2E3FC;\n",
              "    }\n",
              "\n",
              "    [theme=dark] .colab-df-convert:hover {\n",
              "      background-color: #434B5C;\n",
              "      box-shadow: 0px 1px 3px 1px rgba(0, 0, 0, 0.15);\n",
              "      filter: drop-shadow(0px 1px 2px rgba(0, 0, 0, 0.3));\n",
              "      fill: #FFFFFF;\n",
              "    }\n",
              "  </style>\n",
              "\n",
              "      <script>\n",
              "        const buttonEl =\n",
              "          document.querySelector('#df-1775dd6f-ca15-4716-b4f4-6a82587fc27b button.colab-df-convert');\n",
              "        buttonEl.style.display =\n",
              "          google.colab.kernel.accessAllowed ? 'block' : 'none';\n",
              "\n",
              "        async function convertToInteractive(key) {\n",
              "          const element = document.querySelector('#df-1775dd6f-ca15-4716-b4f4-6a82587fc27b');\n",
              "          const dataTable =\n",
              "            await google.colab.kernel.invokeFunction('convertToInteractive',\n",
              "                                                     [key], {});\n",
              "          if (!dataTable) return;\n",
              "\n",
              "          const docLinkHtml = 'Like what you see? Visit the ' +\n",
              "            '<a target=\"_blank\" href=https://colab.research.google.com/notebooks/data_table.ipynb>data table notebook</a>'\n",
              "            + ' to learn more about interactive tables.';\n",
              "          element.innerHTML = '';\n",
              "          dataTable['output_type'] = 'display_data';\n",
              "          await google.colab.output.renderOutput(dataTable, element);\n",
              "          const docLink = document.createElement('div');\n",
              "          docLink.innerHTML = docLinkHtml;\n",
              "          element.appendChild(docLink);\n",
              "        }\n",
              "      </script>\n",
              "    </div>\n",
              "  </div>\n",
              "  "
            ]
          },
          "metadata": {},
          "execution_count": 58
        }
      ]
    },
    {
      "cell_type": "code",
      "source": [
        "train = df_sub[df_sub['date'] < pd.to_datetime(\"2021-12\", format='%Y-%m')]\n",
        "train['train'] = train['mov_avg_work_mob']\n",
        "del train['date']\n",
        "del train['mov_avg_work_mob']\n",
        "test = df_sub[df_sub['date'] >= pd.to_datetime(\"2021-12\", format='%Y-%m')]\n",
        "del test['date']\n",
        "test['test'] = test['mov_avg_work_mob']\n",
        "del test['mov_avg_work_mob']"
      ],
      "metadata": {
        "colab": {
          "base_uri": "https://localhost:8080/"
        },
        "id": "hOECjWXSZ5_b",
        "outputId": "eebd44e4-8447-45bd-d69a-4225778a645a"
      },
      "execution_count": 59,
      "outputs": [
        {
          "output_type": "stream",
          "name": "stderr",
          "text": [
            "/usr/local/lib/python3.7/dist-packages/ipykernel_launcher.py:2: SettingWithCopyWarning: \n",
            "A value is trying to be set on a copy of a slice from a DataFrame.\n",
            "Try using .loc[row_indexer,col_indexer] = value instead\n",
            "\n",
            "See the caveats in the documentation: https://pandas.pydata.org/pandas-docs/stable/user_guide/indexing.html#returning-a-view-versus-a-copy\n",
            "  \n",
            "/usr/local/lib/python3.7/dist-packages/ipykernel_launcher.py:7: SettingWithCopyWarning: \n",
            "A value is trying to be set on a copy of a slice from a DataFrame.\n",
            "Try using .loc[row_indexer,col_indexer] = value instead\n",
            "\n",
            "See the caveats in the documentation: https://pandas.pydata.org/pandas-docs/stable/user_guide/indexing.html#returning-a-view-versus-a-copy\n",
            "  import sys\n"
          ]
        }
      ]
    },
    {
      "cell_type": "code",
      "source": [
        "test.shape"
      ],
      "metadata": {
        "colab": {
          "base_uri": "https://localhost:8080/"
        },
        "id": "8tD6uIYyaP57",
        "outputId": "975528ea-4caf-4934-8364-871cf2ab00fd"
      },
      "execution_count": 60,
      "outputs": [
        {
          "output_type": "execute_result",
          "data": {
            "text/plain": [
              "(106, 9)"
            ]
          },
          "metadata": {},
          "execution_count": 60
        }
      ]
    },
    {
      "cell_type": "code",
      "source": [
        "train.shape"
      ],
      "metadata": {
        "colab": {
          "base_uri": "https://localhost:8080/"
        },
        "id": "MMrHk0Q1dBO1",
        "outputId": "44d5c358-b8bc-477e-ef2a-f66062ce0d76"
      },
      "execution_count": 61,
      "outputs": [
        {
          "output_type": "execute_result",
          "data": {
            "text/plain": [
              "(655, 9)"
            ]
          },
          "metadata": {},
          "execution_count": 61
        }
      ]
    },
    {
      "cell_type": "code",
      "source": [
        "df_sub.shape"
      ],
      "metadata": {
        "colab": {
          "base_uri": "https://localhost:8080/"
        },
        "id": "mfHAYPYydDn3",
        "outputId": "551abb78-0cb1-4a67-c5f9-81186bb63b47"
      },
      "execution_count": 62,
      "outputs": [
        {
          "output_type": "execute_result",
          "data": {
            "text/plain": [
              "(761, 10)"
            ]
          },
          "metadata": {},
          "execution_count": 62
        }
      ]
    },
    {
      "cell_type": "code",
      "source": [
        "import seaborn as sns\n",
        "plt.plot(train['train'], color = \"black\")\n",
        "plt.plot(test['test'], color = \"red\")\n",
        "plt.title(\"Train/Test split for Passenger Data\")\n",
        "plt.ylabel(\"Passenger Number\")\n",
        "plt.xlabel('Year-Month')\n",
        "sns.set()\n",
        "plt.show()"
      ],
      "metadata": {
        "colab": {
          "base_uri": "https://localhost:8080/",
          "height": 295
        },
        "id": "wDmWeMOeaqxA",
        "outputId": "6f366898-3fe9-45e7-e816-a77d6f94ca40"
      },
      "execution_count": 63,
      "outputs": [
        {
          "output_type": "display_data",
          "data": {
            "text/plain": [
              "<Figure size 432x288 with 1 Axes>"
            ],
            "image/png": "[encoded data removed]"
          },
          "metadata": {
            "needs_background": "light"
          }
        }
      ]
    },
    {
      "cell_type": "code",
      "source": [
        "series = df_sub[['mov_avg_work_mob', 'lockdown_index', 'date']]\n",
        "# create figure and axis objects with subplots()\n",
        "fig,ax = plt.subplots()\n",
        "# make a plot\n",
        "ax.plot(df_sub.date, df_sub.mov_avg_work_mob, color=\"red\")\n",
        "# set x-axis label\n",
        "ax.set_xlabel(\"date\",fontsize=14)\n",
        "# set y-axis label\n",
        "ax.set_ylabel(\"mov_avg_work_mob\",color=\"red\",fontsize=14)"
      ],
      "metadata": {
        "colab": {
          "base_uri": "https://localhost:8080/",
          "height": 304
        },
        "id": "RIzEWVGTcqyK",
        "outputId": "1e93c549-9f06-458c-9923-0746f603ea65"
      },
      "execution_count": 64,
      "outputs": [
        {
          "output_type": "execute_result",
          "data": {
            "text/plain": [
              "Text(0, 0.5, 'mov_avg_work_mob')"
            ]
          },
          "metadata": {},
          "execution_count": 64
        },
        {
          "output_type": "display_data",
          "data": {
            "text/plain": [
              "<Figure size 432x288 with 1 Axes>"
            ],
            "image/png": "[encoded data removed]"
          },
          "metadata": {}
        }
      ]
    },
    {
      "cell_type": "code",
      "source": [
        "import seaborn as sns\n",
        "plt.plot(train['mov_'], color = \"black\")\n",
        "# plt.plot(test['test'], color = \"red\")\n",
        "# plt.title(\"Train/Test split for Passenger Data\")\n",
        "# plt.ylabel(\"Passenger Number\")\n",
        "# plt.xlabel('Year-Month')\n",
        "# sns.set()\n",
        "# plt.show()"
      ],
      "metadata": {
        "id": "SaBwHcJBclop",
        "outputId": "be9d88f8-d4f2-45b9-83f2-77bd0d302979",
        "colab": {
          "base_uri": "https://localhost:8080/",
          "height": 514
        }
      },
      "execution_count": 66,
      "outputs": [
        {
          "output_type": "error",
          "ename": "KeyError",
          "evalue": "ignored",
          "traceback": [
            "\u001b[0;31m---------------------------------------------------------------------------\u001b[0m",
            "\u001b[0;31mKeyError\u001b[0m                                  Traceback (most recent call last)",
            "\u001b[0;32m/usr/local/lib/python3.7/dist-packages/pandas/core/indexes/base.py\u001b[0m in \u001b[0;36mget_loc\u001b[0;34m(self, key, method, tolerance)\u001b[0m\n\u001b[1;32m   3360\u001b[0m             \u001b[0;32mtry\u001b[0m\u001b[0;34m:\u001b[0m\u001b[0;34m\u001b[0m\u001b[0;34m\u001b[0m\u001b[0m\n\u001b[0;32m-> 3361\u001b[0;31m                 \u001b[0;32mreturn\u001b[0m \u001b[0mself\u001b[0m\u001b[0;34m.\u001b[0m\u001b[0m_engine\u001b[0m\u001b[0;34m.\u001b[0m\u001b[0mget_loc\u001b[0m\u001b[0;34m(\u001b[0m\u001b[0mcasted_key\u001b[0m\u001b[0;34m)\u001b[0m\u001b[0;34m\u001b[0m\u001b[0;34m\u001b[0m\u001b[0m\n\u001b[0m\u001b[1;32m   3362\u001b[0m             \u001b[0;32mexcept\u001b[0m \u001b[0mKeyError\u001b[0m \u001b[0;32mas\u001b[0m \u001b[0merr\u001b[0m\u001b[0;34m:\u001b[0m\u001b[0;34m\u001b[0m\u001b[0;34m\u001b[0m\u001b[0m\n",
            "\u001b[0;32m/usr/local/lib/python3.7/dist-packages/pandas/_libs/index.pyx\u001b[0m in \u001b[0;36mpandas._libs.index.IndexEngine.get_loc\u001b[0;34m()\u001b[0m\n",
            "\u001b[0;32m/usr/local/lib/python3.7/dist-packages/pandas/_libs/index.pyx\u001b[0m in \u001b[0;36mpandas._libs.index.IndexEngine.get_loc\u001b[0;34m()\u001b[0m\n",
            "\u001b[0;32mpandas/_libs/hashtable_class_helper.pxi\u001b[0m in \u001b[0;36mpandas._libs.hashtable.PyObjectHashTable.get_item\u001b[0;34m()\u001b[0m\n",
            "\u001b[0;32mpandas/_libs/hashtable_class_helper.pxi\u001b[0m in \u001b[0;36mpandas._libs.hashtable.PyObjectHashTable.get_item\u001b[0;34m()\u001b[0m\n",
            "\u001b[0;31mKeyError\u001b[0m: 'mov_'",
            "\nThe above exception was the direct cause of the following exception:\n",
            "\u001b[0;31mKeyError\u001b[0m                                  Traceback (most recent call last)",
            "\u001b[0;32m<ipython-input-66-237728464117>\u001b[0m in \u001b[0;36m<module>\u001b[0;34m()\u001b[0m\n\u001b[1;32m      1\u001b[0m \u001b[0;32mimport\u001b[0m \u001b[0mseaborn\u001b[0m \u001b[0;32mas\u001b[0m \u001b[0msns\u001b[0m\u001b[0;34m\u001b[0m\u001b[0;34m\u001b[0m\u001b[0m\n\u001b[0;32m----> 2\u001b[0;31m \u001b[0mplt\u001b[0m\u001b[0;34m.\u001b[0m\u001b[0mplot\u001b[0m\u001b[0;34m(\u001b[0m\u001b[0mtrain\u001b[0m\u001b[0;34m[\u001b[0m\u001b[0;34m'mov_'\u001b[0m\u001b[0;34m]\u001b[0m\u001b[0;34m,\u001b[0m \u001b[0mcolor\u001b[0m \u001b[0;34m=\u001b[0m \u001b[0;34m\"black\"\u001b[0m\u001b[0;34m)\u001b[0m\u001b[0;34m\u001b[0m\u001b[0;34m\u001b[0m\u001b[0m\n\u001b[0m\u001b[1;32m      3\u001b[0m \u001b[0;31m# plt.plot(test['test'], color = \"red\")\u001b[0m\u001b[0;34m\u001b[0m\u001b[0;34m\u001b[0m\u001b[0;34m\u001b[0m\u001b[0m\n\u001b[1;32m      4\u001b[0m \u001b[0;31m# plt.title(\"Train/Test split for Passenger Data\")\u001b[0m\u001b[0;34m\u001b[0m\u001b[0;34m\u001b[0m\u001b[0;34m\u001b[0m\u001b[0m\n\u001b[1;32m      5\u001b[0m \u001b[0;31m# plt.ylabel(\"Passenger Number\")\u001b[0m\u001b[0;34m\u001b[0m\u001b[0;34m\u001b[0m\u001b[0;34m\u001b[0m\u001b[0m\n",
            "\u001b[0;32m/usr/local/lib/python3.7/dist-packages/pandas/core/frame.py\u001b[0m in \u001b[0;36m__getitem__\u001b[0;34m(self, key)\u001b[0m\n\u001b[1;32m   3456\u001b[0m             \u001b[0;32mif\u001b[0m \u001b[0mself\u001b[0m\u001b[0;34m.\u001b[0m\u001b[0mcolumns\u001b[0m\u001b[0;34m.\u001b[0m\u001b[0mnlevels\u001b[0m \u001b[0;34m>\u001b[0m \u001b[0;36m1\u001b[0m\u001b[0;34m:\u001b[0m\u001b[0;34m\u001b[0m\u001b[0;34m\u001b[0m\u001b[0m\n\u001b[1;32m   3457\u001b[0m                 \u001b[0;32mreturn\u001b[0m \u001b[0mself\u001b[0m\u001b[0;34m.\u001b[0m\u001b[0m_getitem_multilevel\u001b[0m\u001b[0;34m(\u001b[0m\u001b[0mkey\u001b[0m\u001b[0;34m)\u001b[0m\u001b[0;34m\u001b[0m\u001b[0;34m\u001b[0m\u001b[0m\n\u001b[0;32m-> 3458\u001b[0;31m             \u001b[0mindexer\u001b[0m \u001b[0;34m=\u001b[0m \u001b[0mself\u001b[0m\u001b[0;34m.\u001b[0m\u001b[0mcolumns\u001b[0m\u001b[0;34m.\u001b[0m\u001b[0mget_loc\u001b[0m\u001b[0;34m(\u001b[0m\u001b[0mkey\u001b[0m\u001b[0;34m)\u001b[0m\u001b[0;34m\u001b[0m\u001b[0;34m\u001b[0m\u001b[0m\n\u001b[0m\u001b[1;32m   3459\u001b[0m             \u001b[0;32mif\u001b[0m \u001b[0mis_integer\u001b[0m\u001b[0;34m(\u001b[0m\u001b[0mindexer\u001b[0m\u001b[0;34m)\u001b[0m\u001b[0;34m:\u001b[0m\u001b[0;34m\u001b[0m\u001b[0;34m\u001b[0m\u001b[0m\n\u001b[1;32m   3460\u001b[0m                 \u001b[0mindexer\u001b[0m \u001b[0;34m=\u001b[0m \u001b[0;34m[\u001b[0m\u001b[0mindexer\u001b[0m\u001b[0;34m]\u001b[0m\u001b[0;34m\u001b[0m\u001b[0;34m\u001b[0m\u001b[0m\n",
            "\u001b[0;32m/usr/local/lib/python3.7/dist-packages/pandas/core/indexes/base.py\u001b[0m in \u001b[0;36mget_loc\u001b[0;34m(self, key, method, tolerance)\u001b[0m\n\u001b[1;32m   3361\u001b[0m                 \u001b[0;32mreturn\u001b[0m \u001b[0mself\u001b[0m\u001b[0;34m.\u001b[0m\u001b[0m_engine\u001b[0m\u001b[0;34m.\u001b[0m\u001b[0mget_loc\u001b[0m\u001b[0;34m(\u001b[0m\u001b[0mcasted_key\u001b[0m\u001b[0;34m)\u001b[0m\u001b[0;34m\u001b[0m\u001b[0;34m\u001b[0m\u001b[0m\n\u001b[1;32m   3362\u001b[0m             \u001b[0;32mexcept\u001b[0m \u001b[0mKeyError\u001b[0m \u001b[0;32mas\u001b[0m \u001b[0merr\u001b[0m\u001b[0;34m:\u001b[0m\u001b[0;34m\u001b[0m\u001b[0;34m\u001b[0m\u001b[0m\n\u001b[0;32m-> 3363\u001b[0;31m                 \u001b[0;32mraise\u001b[0m \u001b[0mKeyError\u001b[0m\u001b[0;34m(\u001b[0m\u001b[0mkey\u001b[0m\u001b[0;34m)\u001b[0m \u001b[0;32mfrom\u001b[0m \u001b[0merr\u001b[0m\u001b[0;34m\u001b[0m\u001b[0;34m\u001b[0m\u001b[0m\n\u001b[0m\u001b[1;32m   3364\u001b[0m \u001b[0;34m\u001b[0m\u001b[0m\n\u001b[1;32m   3365\u001b[0m         \u001b[0;32mif\u001b[0m \u001b[0mis_scalar\u001b[0m\u001b[0;34m(\u001b[0m\u001b[0mkey\u001b[0m\u001b[0;34m)\u001b[0m \u001b[0;32mand\u001b[0m \u001b[0misna\u001b[0m\u001b[0;34m(\u001b[0m\u001b[0mkey\u001b[0m\u001b[0;34m)\u001b[0m \u001b[0;32mand\u001b[0m \u001b[0;32mnot\u001b[0m \u001b[0mself\u001b[0m\u001b[0;34m.\u001b[0m\u001b[0mhasnans\u001b[0m\u001b[0;34m:\u001b[0m\u001b[0;34m\u001b[0m\u001b[0;34m\u001b[0m\u001b[0m\n",
            "\u001b[0;31mKeyError\u001b[0m: 'mov_'"
          ]
        }
      ]
    },
    {
      "cell_type": "code",
      "source": [
        "train = train.dropna()"
      ],
      "metadata": {
        "id": "CyvsXfrfd1kB"
      },
      "execution_count": 67,
      "outputs": []
    },
    {
      "cell_type": "code",
      "source": [
        "from pmdarima.arima import auto_arima\n",
        "model = auto_arima(train['train'], trace=True, error_action='ignore', suppress_warnings=True)\n",
        "model.fit(train['train'])\n",
        "forecast = model.predict(n_periods=len(test['test']))\n",
        "forecast = pd.DataFrame(forecast,index = test.index,columns=['Prediction'])"
      ],
      "metadata": {
        "colab": {
          "base_uri": "https://localhost:8080/",
          "height": 383
        },
        "id": "5Va3Y0UhdOnB",
        "outputId": "76666a66-fd04-4ecd-fe87-3b04b27300ad"
      },
      "execution_count": 68,
      "outputs": [
        {
          "output_type": "error",
          "ename": "ModuleNotFoundError",
          "evalue": "ignored",
          "traceback": [
            "\u001b[0;31m---------------------------------------------------------------------------\u001b[0m",
            "\u001b[0;31mModuleNotFoundError\u001b[0m                       Traceback (most recent call last)",
            "\u001b[0;32m<ipython-input-68-f2dbc69f4068>\u001b[0m in \u001b[0;36m<module>\u001b[0;34m()\u001b[0m\n\u001b[0;32m----> 1\u001b[0;31m \u001b[0;32mfrom\u001b[0m \u001b[0mpmdarima\u001b[0m\u001b[0;34m.\u001b[0m\u001b[0marima\u001b[0m \u001b[0;32mimport\u001b[0m \u001b[0mauto_arima\u001b[0m\u001b[0;34m\u001b[0m\u001b[0;34m\u001b[0m\u001b[0m\n\u001b[0m\u001b[1;32m      2\u001b[0m \u001b[0mmodel\u001b[0m \u001b[0;34m=\u001b[0m \u001b[0mauto_arima\u001b[0m\u001b[0;34m(\u001b[0m\u001b[0mtrain\u001b[0m\u001b[0;34m[\u001b[0m\u001b[0;34m'train'\u001b[0m\u001b[0;34m]\u001b[0m\u001b[0;34m,\u001b[0m \u001b[0mtrace\u001b[0m\u001b[0;34m=\u001b[0m\u001b[0;32mTrue\u001b[0m\u001b[0;34m,\u001b[0m \u001b[0merror_action\u001b[0m\u001b[0;34m=\u001b[0m\u001b[0;34m'ignore'\u001b[0m\u001b[0;34m,\u001b[0m \u001b[0msuppress_warnings\u001b[0m\u001b[0;34m=\u001b[0m\u001b[0;32mTrue\u001b[0m\u001b[0;34m)\u001b[0m\u001b[0;34m\u001b[0m\u001b[0;34m\u001b[0m\u001b[0m\n\u001b[1;32m      3\u001b[0m \u001b[0mmodel\u001b[0m\u001b[0;34m.\u001b[0m\u001b[0mfit\u001b[0m\u001b[0;34m(\u001b[0m\u001b[0mtrain\u001b[0m\u001b[0;34m[\u001b[0m\u001b[0;34m'train'\u001b[0m\u001b[0;34m]\u001b[0m\u001b[0;34m)\u001b[0m\u001b[0;34m\u001b[0m\u001b[0;34m\u001b[0m\u001b[0m\n\u001b[1;32m      4\u001b[0m \u001b[0mforecast\u001b[0m \u001b[0;34m=\u001b[0m \u001b[0mmodel\u001b[0m\u001b[0;34m.\u001b[0m\u001b[0mpredict\u001b[0m\u001b[0;34m(\u001b[0m\u001b[0mn_periods\u001b[0m\u001b[0;34m=\u001b[0m\u001b[0mlen\u001b[0m\u001b[0;34m(\u001b[0m\u001b[0mtest\u001b[0m\u001b[0;34m[\u001b[0m\u001b[0;34m'test'\u001b[0m\u001b[0;34m]\u001b[0m\u001b[0;34m)\u001b[0m\u001b[0;34m)\u001b[0m\u001b[0;34m\u001b[0m\u001b[0;34m\u001b[0m\u001b[0m\n\u001b[1;32m      5\u001b[0m \u001b[0mforecast\u001b[0m \u001b[0;34m=\u001b[0m \u001b[0mpd\u001b[0m\u001b[0;34m.\u001b[0m\u001b[0mDataFrame\u001b[0m\u001b[0;34m(\u001b[0m\u001b[0mforecast\u001b[0m\u001b[0;34m,\u001b[0m\u001b[0mindex\u001b[0m \u001b[0;34m=\u001b[0m \u001b[0mtest\u001b[0m\u001b[0;34m.\u001b[0m\u001b[0mindex\u001b[0m\u001b[0;34m,\u001b[0m\u001b[0mcolumns\u001b[0m\u001b[0;34m=\u001b[0m\u001b[0;34m[\u001b[0m\u001b[0;34m'Prediction'\u001b[0m\u001b[0;34m]\u001b[0m\u001b[0;34m)\u001b[0m\u001b[0;34m\u001b[0m\u001b[0;34m\u001b[0m\u001b[0m\n",
            "\u001b[0;31mModuleNotFoundError\u001b[0m: No module named 'pmdarima'",
            "",
            "\u001b[0;31m---------------------------------------------------------------------------\u001b[0;32m\nNOTE: If your import is failing due to a missing package, you can\nmanually install dependencies using either !pip or !apt.\n\nTo view examples of installing some common dependencies, click the\n\"Open Examples\" button below.\n\u001b[0;31m---------------------------------------------------------------------------\u001b[0m\n"
          ],
          "errorDetails": {
            "actions": [
              {
                "action": "open_url",
                "actionText": "Open Examples",
                "url": "/notebooks/snippets/importing_libraries.ipynb"
              }
            ]
          }
        }
      ]
    },
    {
      "cell_type": "code",
      "source": [
        "from math import sqrt\n",
        "from sklearn.metrics import mean_squared_error\n",
        "rms = sqrt(mean_squared_error(test['test'],forecast))\n",
        "print(\"RMSE: \", rms)"
      ],
      "metadata": {
        "id": "B-oKDxI1drrs"
      },
      "execution_count": null,
      "outputs": []
    },
    {
      "cell_type": "code",
      "source": [
        "forecast.head()"
      ],
      "metadata": {
        "id": "awGuhvaWeZKd"
      },
      "execution_count": null,
      "outputs": []
    },
    {
      "cell_type": "code",
      "source": [
        "test[['test']].head()"
      ],
      "metadata": {
        "id": "SfanFtv4ecSY"
      },
      "execution_count": null,
      "outputs": []
    },
    {
      "cell_type": "code",
      "source": [
        "import seaborn as sns\n",
        "plt.plot(train['train'], color = \"black\")\n",
        "plt.plot(forecast, color = \"red\")\n",
        "plt.title(\"Train/Test split for Passenger Data\")\n",
        "plt.ylabel(\"Passenger Number\")\n",
        "plt.xlabel('Year-Month')\n",
        "sns.set()\n",
        "plt.show()"
      ],
      "metadata": {
        "id": "_NeroytReiOy"
      },
      "execution_count": null,
      "outputs": []
    },
    {
      "cell_type": "code",
      "source": [
        "forecast.plot()"
      ],
      "metadata": {
        "id": "N2VsscJTe8au"
      },
      "execution_count": null,
      "outputs": []
    },
    {
      "cell_type": "code",
      "source": [
        "test['test'].plot()"
      ],
      "metadata": {
        "id": "SEKhQjsefAij"
      },
      "execution_count": null,
      "outputs": []
    },
    {
      "cell_type": "code",
      "source": [
        "test = test.join(forecast)"
      ],
      "metadata": {
        "id": "36S1qU06fZct"
      },
      "execution_count": null,
      "outputs": []
    },
    {
      "cell_type": "code",
      "source": [
        "test.head()"
      ],
      "metadata": {
        "id": "2XadtBT4feSX"
      },
      "execution_count": null,
      "outputs": []
    },
    {
      "cell_type": "code",
      "source": [
        "s = test[['test', 'Prediction']]\n",
        "s.plot()"
      ],
      "metadata": {
        "id": "BRd0E95efh02"
      },
      "execution_count": null,
      "outputs": []
    },
    {
      "cell_type": "code",
      "source": [
        "ax2=ax.twinx()\n",
        "# make a plot with different y-axis using second axis object\n",
        "ax2.plot(df_sub.date, df_sub.lockdown_index,color=\"blue\")\n",
        "ax2.set_ylabel(\"lockdown_index\",color=\"blue\",fontsize=14)\n",
        "plt.show()\n",
        "fig.savefig('two_different_y_axis_for_single_python_plot_with_twinx.jpg',\n",
        "            format='jpeg',\n",
        "            dpi=100,\n",
        "            bbox_inches='tight')\n",
        "ax2=ax.twinx()\n",
        "# make a plot with different y-axis using second axis object\n",
        "ax2.plot(df_sub.date, df_sub.mov_avg,color=\"blue\")\n",
        "ax2.set_ylabel(\"lockdown_index\",color=\"blue\",fontsize=14)\n",
        "plt.show()\n",
        "fig.savefig('cases_vs_workplace_mob.jpg',\n",
        "            format='jpeg',\n",
        "            dpi=100,\n",
        "            bbox_inches='tight')"
      ],
      "metadata": {
        "id": "hqOGk7GUfWV-"
      },
      "execution_count": null,
      "outputs": []
    },
    {
      "cell_type": "markdown",
      "source": [
        "Heatmaps with month and weekday"
      ],
      "metadata": {
        "id": "tQbY3HhuNP2T"
      }
    },
    {
      "cell_type": "code",
      "source": [
        "df3[\"wday\"] = df3.index.dayofweek\n",
        "dict_days = {0:\"1_Mon\", 1:\"2_Tue\", 2:\"3_Wed\", 3:\"4_Thu\", 4:\"5_Fri\", 5:\"6_Sat\", 6:\"7_Sun\"}\n",
        "df3[\"weekday\"] = df3[\"wday\"].apply(lambda x: dict_days[x])"
      ],
      "metadata": {
        "id": "lvFJ6XD7NOY8"
      },
      "execution_count": null,
      "outputs": []
    },
    {
      "cell_type": "code",
      "source": [
        "df_merged_US.dtypes"
      ],
      "metadata": {
        "id": "GQZfJx4hNZ7T",
        "outputId": "ba102003-e8b6-41d8-8d7d-6db3a0cc69bb",
        "colab": {
          "base_uri": "https://localhost:8080/"
        }
      },
      "execution_count": 69,
      "outputs": [
        {
          "output_type": "execute_result",
          "data": {
            "text/plain": [
              "country                                                       object\n",
              "date                                                  datetime64[ns]\n",
              "total_cases                                                  float64\n",
              "total_deaths                                                 float64\n",
              "population                                                   float64\n",
              "new_vaccinations_smoothed                                    float64\n",
              "new_people_vaccinated_smoothed                               float64\n",
              "retail_and_recreation_percent_change_from_baseline           float64\n",
              "grocery_and_pharmacy_percent_change_from_baseline            float64\n",
              "parks_percent_change_from_baseline                           float64\n",
              "transit_stations_percent_change_from_baseline                float64\n",
              "workplaces_percent_change_from_baseline                      float64\n",
              "residential_percent_change_from_baseline                     float64\n",
              "lockdown_index                                               float64\n",
              "weekday                                                        int64\n",
              "new_cases_raw                                                float64\n",
              "cases_ppm                                                    float64\n",
              "new_deaths_raw                                               float64\n",
              "deaths_ppm                                                   float64\n",
              "total_vaccinations                                           float64\n",
              "dtype: object"
            ]
          },
          "metadata": {},
          "execution_count": 69
        }
      ]
    },
    {
      "cell_type": "code",
      "source": [
        "df_merged_US_features = df_merged_US[['date', 'workplaces_percent_change_from_baseline',\\\n",
        "                                      'lockdown_index','cases_ppm','deaths_ppm','total_vaccinations']]"
      ],
      "metadata": {
        "id": "12O4pIX6PeN_"
      },
      "execution_count": 36,
      "outputs": []
    },
    {
      "cell_type": "code",
      "source": [
        "df4 = df_merged_US_features.copy()\n",
        "df4.set_index(\"date\", inplace=True)"
      ],
      "metadata": {
        "id": "RqpYTgxFXAGd"
      },
      "execution_count": 37,
      "outputs": []
    },
    {
      "cell_type": "code",
      "source": [
        "ts_P = TimeSeries.from_series(df4[\"workplaces_percent_change_from_baseline\"]) "
      ],
      "metadata": {
        "id": "rc1NmBjqQHKZ"
      },
      "execution_count": 38,
      "outputs": []
    },
    {
      "cell_type": "code",
      "source": [
        "# create time series object for the feature columns\n",
        "df_covF = df4.loc[:, df4.columns != \"workplaces_percent_change_from_baseline\"]\n",
        "ts_covF = TimeSeries.from_dataframe(df_covF)\n",
        "\n",
        "# check attributes of the time series\n",
        "print(\"components (columns) of feature time series:\", ts_covF.components)\n",
        "print(\"duration:\",ts_covF.duration)\n",
        "print(\"frequency:\",ts_covF.freq)\n",
        "print(\"frequency:\",ts_covF.freq_str)\n",
        "print(\"has date time index? (or else, it must have an integer index):\",ts_covF.has_datetime_index)\n",
        "print(\"deterministic:\",ts_covF.is_deterministic)\n",
        "print(\"univariate:\",ts_covF.is_univariate)"
      ],
      "metadata": {
        "id": "aibAigvqXEFO",
        "outputId": "5a5d1ed7-2500-417b-883e-83b53612a85d",
        "colab": {
          "base_uri": "https://localhost:8080/"
        }
      },
      "execution_count": 39,
      "outputs": [
        {
          "output_type": "stream",
          "name": "stdout",
          "text": [
            "components (columns) of feature time series: Index(['lockdown_index', 'cases_ppm', 'deaths_ppm', 'total_vaccinations'], dtype='object', name='component')\n",
            "duration: 760 days 00:00:00\n",
            "frequency: <Day>\n",
            "frequency: D\n",
            "has date time index? (or else, it must have an integer index): True\n",
            "deterministic: True\n",
            "univariate: False\n"
          ]
        }
      ]
    },
    {
      "cell_type": "code",
      "source": [
        "ar_covF = ts_covF.all_values()\n",
        "print(type(ar_covF))\n",
        "ar_covF.shape"
      ],
      "metadata": {
        "id": "MbPC_1gCX7kp",
        "outputId": "a9d825f0-dab9-4b15-a631-f24646af5d26",
        "colab": {
          "base_uri": "https://localhost:8080/"
        }
      },
      "execution_count": 40,
      "outputs": [
        {
          "output_type": "stream",
          "name": "stdout",
          "text": [
            "<class 'numpy.ndarray'>\n"
          ]
        },
        {
          "output_type": "execute_result",
          "data": {
            "text/plain": [
              "(761, 4, 1)"
            ]
          },
          "metadata": {},
          "execution_count": 40
        }
      ]
    },
    {
      "cell_type": "code",
      "source": [
        "df_covF = ts_covF.pd_dataframe()\n",
        "type(df_covF)"
      ],
      "metadata": {
        "id": "jP93JN2vX_2a",
        "outputId": "9136b012-6e93-4fe8-f27a-401c972c8267",
        "colab": {
          "base_uri": "https://localhost:8080/"
        }
      },
      "execution_count": 41,
      "outputs": [
        {
          "output_type": "execute_result",
          "data": {
            "text/plain": [
              "pandas.core.frame.DataFrame"
            ]
          },
          "metadata": {},
          "execution_count": 41
        }
      ]
    },
    {
      "cell_type": "code",
      "source": [
        "SPLIT = 716"
      ],
      "metadata": {
        "id": "Ur5xxufPY8it"
      },
      "execution_count": 59,
      "outputs": []
    },
    {
      "cell_type": "code",
      "source": [
        "# train/test split and scaling of target variable\n",
        "ts_train, ts_test = ts_P.split_after(SPLIT)\n",
        "print(\"training start:\", ts_train.start_time())\n",
        "print(\"training end:\", ts_train.end_time())\n",
        "print(\"training duration:\",ts_train.duration)\n",
        "print(\"test start:\", ts_test.start_time())\n",
        "print(\"test end:\", ts_test.end_time())\n",
        "print(\"test duration:\", ts_test.duration)\n",
        "\n",
        "\n",
        "scalerP = Scaler()\n",
        "scalerP.fit_transform(ts_train)\n",
        "ts_ttrain = scalerP.transform(ts_train)\n",
        "ts_ttest = scalerP.transform(ts_test)    \n",
        "ts_t = scalerP.transform(ts_P)\n",
        "\n",
        "# make sure data are of type float\n",
        "ts_t = ts_t.astype(np.float32)\n",
        "ts_ttrain = ts_ttrain.astype(np.float32)\n",
        "ts_ttest = ts_ttest.astype(np.float32)\n",
        "\n",
        "print(\"first and last row of scaled price time series:\")\n",
        "pd.options.display.float_format = '{:,.2f}'.format\n",
        "ts_t.pd_dataframe().iloc[[0,-1]]\n",
        "\n",
        "\n",
        "# train/test split and scaling of feature covariates\n",
        "covF_train, covF_test = ts_covF.split_after(SPLIT)\n",
        "\n",
        "scalerF = Scaler()\n",
        "scalerF.fit_transform(covF_train)\n",
        "covF_ttrain = scalerF.transform(covF_train) \n",
        "covF_ttest = scalerF.transform(covF_test)   \n",
        "covF_t = scalerF.transform(ts_covF)  \n",
        "\n",
        "# make sure data are of type float\n",
        "covF_ttrain = ts_ttrain.astype(np.float32)\n",
        "covF_ttest = ts_ttest.astype(np.float32)\n",
        "\n",
        "pd.options.display.float_format = '{:.2f}'.format\n",
        "print(\"first and last row of scaled feature covariates:\")\n",
        "covF_t.pd_dataframe().iloc[[0,-1]]\n"
      ],
      "metadata": {
        "id": "iNIkHxk7Yt-g",
        "outputId": "2e32788d-a5ca-4d02-ebd5-01fe8323408f",
        "colab": {
          "base_uri": "https://localhost:8080/",
          "height": 286
        }
      },
      "execution_count": 60,
      "outputs": [
        {
          "output_type": "stream",
          "name": "stdout",
          "text": [
            "training start: 2020-02-15 00:00:00\n",
            "training end: 2022-01-31 00:00:00\n",
            "training duration: 716 days 00:00:00\n",
            "test start: 2022-02-01 00:00:00\n",
            "test end: 2022-03-16 00:00:00\n",
            "test duration: 43 days 00:00:00\n",
            "first and last row of scaled price time series:\n",
            "first and last row of scaled feature covariates:\n"
          ]
        },
        {
          "output_type": "execute_result",
          "data": {
            "text/plain": [
              "component   lockdown_index  cases_ppm  deaths_ppm  total_vaccinations\n",
              "date                                                                 \n",
              "2020-02-15            0.00       0.00        0.00                0.00\n",
              "2022-03-16            0.76       0.03        0.44                1.02"
            ],
            "text/html": [
              "\n",
              "  <div id=\"df-2fc1f723-3c3a-4b07-b3d8-8cc8d27d9cf0\">\n",
              "    <div class=\"colab-df-container\">\n",
              "      <div>\n",
              "<style scoped>\n",
              "    .dataframe tbody tr th:only-of-type {\n",
              "        vertical-align: middle;\n",
              "    }\n",
              "\n",
              "    .dataframe tbody tr th {\n",
              "        vertical-align: top;\n",
              "    }\n",
              "\n",
              "    .dataframe thead th {\n",
              "        text-align: right;\n",
              "    }\n",
              "</style>\n",
              "<table border=\"1\" class=\"dataframe\">\n",
              "  <thead>\n",
              "    <tr style=\"text-align: right;\">\n",
              "      <th>component</th>\n",
              "      <th>lockdown_index</th>\n",
              "      <th>cases_ppm</th>\n",
              "      <th>deaths_ppm</th>\n",
              "      <th>total_vaccinations</th>\n",
              "    </tr>\n",
              "    <tr>\n",
              "      <th>date</th>\n",
              "      <th></th>\n",
              "      <th></th>\n",
              "      <th></th>\n",
              "      <th></th>\n",
              "    </tr>\n",
              "  </thead>\n",
              "  <tbody>\n",
              "    <tr>\n",
              "      <th>2020-02-15</th>\n",
              "      <td>0.00</td>\n",
              "      <td>0.00</td>\n",
              "      <td>0.00</td>\n",
              "      <td>0.00</td>\n",
              "    </tr>\n",
              "    <tr>\n",
              "      <th>2022-03-16</th>\n",
              "      <td>0.76</td>\n",
              "      <td>0.03</td>\n",
              "      <td>0.44</td>\n",
              "      <td>1.02</td>\n",
              "    </tr>\n",
              "  </tbody>\n",
              "</table>\n",
              "</div>\n",
              "      <button class=\"colab-df-convert\" onclick=\"convertToInteractive('df-2fc1f723-3c3a-4b07-b3d8-8cc8d27d9cf0')\"\n",
              "              title=\"Convert this dataframe to an interactive table.\"\n",
              "              style=\"display:none;\">\n",
              "        \n",
              "  <svg xmlns=\"http://www.w3.org/2000/svg\" height=\"24px\"viewBox=\"0 0 24 24\"\n",
              "       width=\"24px\">\n",
              "    <path d=\"M0 0h24v24H0V0z\" fill=\"none\"/>\n",
              "    <path d=\"M18.56 5.44l.94 2.06.94-2.06 2.06-.94-2.06-.94-.94-2.06-.94 2.06-2.06.94zm-11 1L8.5 8.5l.94-2.06 2.06-.94-2.06-.94L8.5 2.5l-.94 2.06-2.06.94zm10 10l.94 2.06.94-2.06 2.06-.94-2.06-.94-.94-2.06-.94 2.06-2.06.94z\"/><path d=\"M17.41 7.96l-1.37-1.37c-.4-.4-.92-.59-1.43-.59-.52 0-1.04.2-1.43.59L10.3 9.45l-7.72 7.72c-.78.78-.78 2.05 0 2.83L4 21.41c.39.39.9.59 1.41.59.51 0 1.02-.2 1.41-.59l7.78-7.78 2.81-2.81c.8-.78.8-2.07 0-2.86zM5.41 20L4 18.59l7.72-7.72 1.47 1.35L5.41 20z\"/>\n",
              "  </svg>\n",
              "      </button>\n",
              "      \n",
              "  <style>\n",
              "    .colab-df-container {\n",
              "      display:flex;\n",
              "      flex-wrap:wrap;\n",
              "      gap: 12px;\n",
              "    }\n",
              "\n",
              "    .colab-df-convert {\n",
              "      background-color: #E8F0FE;\n",
              "      border: none;\n",
              "      border-radius: 50%;\n",
              "      cursor: pointer;\n",
              "      display: none;\n",
              "      fill: #1967D2;\n",
              "      height: 32px;\n",
              "      padding: 0 0 0 0;\n",
              "      width: 32px;\n",
              "    }\n",
              "\n",
              "    .colab-df-convert:hover {\n",
              "      background-color: #E2EBFA;\n",
              "      box-shadow: 0px 1px 2px rgba(60, 64, 67, 0.3), 0px 1px 3px 1px rgba(60, 64, 67, 0.15);\n",
              "      fill: #174EA6;\n",
              "    }\n",
              "\n",
              "    [theme=dark] .colab-df-convert {\n",
              "      background-color: #3B4455;\n",
              "      fill: #D2E3FC;\n",
              "    }\n",
              "\n",
              "    [theme=dark] .colab-df-convert:hover {\n",
              "      background-color: #434B5C;\n",
              "      box-shadow: 0px 1px 3px 1px rgba(0, 0, 0, 0.15);\n",
              "      filter: drop-shadow(0px 1px 2px rgba(0, 0, 0, 0.3));\n",
              "      fill: #FFFFFF;\n",
              "    }\n",
              "  </style>\n",
              "\n",
              "      <script>\n",
              "        const buttonEl =\n",
              "          document.querySelector('#df-2fc1f723-3c3a-4b07-b3d8-8cc8d27d9cf0 button.colab-df-convert');\n",
              "        buttonEl.style.display =\n",
              "          google.colab.kernel.accessAllowed ? 'block' : 'none';\n",
              "\n",
              "        async function convertToInteractive(key) {\n",
              "          const element = document.querySelector('#df-2fc1f723-3c3a-4b07-b3d8-8cc8d27d9cf0');\n",
              "          const dataTable =\n",
              "            await google.colab.kernel.invokeFunction('convertToInteractive',\n",
              "                                                     [key], {});\n",
              "          if (!dataTable) return;\n",
              "\n",
              "          const docLinkHtml = 'Like what you see? Visit the ' +\n",
              "            '<a target=\"_blank\" href=https://colab.research.google.com/notebooks/data_table.ipynb>data table notebook</a>'\n",
              "            + ' to learn more about interactive tables.';\n",
              "          element.innerHTML = '';\n",
              "          dataTable['output_type'] = 'display_data';\n",
              "          await google.colab.output.renderOutput(dataTable, element);\n",
              "          const docLink = document.createElement('div');\n",
              "          docLink.innerHTML = docLinkHtml;\n",
              "          element.appendChild(docLink);\n",
              "        }\n",
              "      </script>\n",
              "    </div>\n",
              "  </div>\n",
              "  "
            ]
          },
          "metadata": {},
          "execution_count": 60
        }
      ]
    },
    {
      "cell_type": "code",
      "source": [
        "ts_P.time_index"
      ],
      "metadata": {
        "id": "res1au0fak30",
        "outputId": "41205b83-b873-438f-b4f5-ff9d65945c32",
        "colab": {
          "base_uri": "https://localhost:8080/"
        }
      },
      "execution_count": 61,
      "outputs": [
        {
          "output_type": "execute_result",
          "data": {
            "text/plain": [
              "DatetimeIndex(['2020-02-15', '2020-02-16', '2020-02-17', '2020-02-18',\n",
              "               '2020-02-19', '2020-02-20', '2020-02-21', '2020-02-22',\n",
              "               '2020-02-23', '2020-02-24',\n",
              "               ...\n",
              "               '2022-03-07', '2022-03-08', '2022-03-09', '2022-03-10',\n",
              "               '2022-03-11', '2022-03-12', '2022-03-13', '2022-03-14',\n",
              "               '2022-03-15', '2022-03-16'],\n",
              "              dtype='datetime64[ns]', name='date', length=761, freq='D')"
            ]
          },
          "metadata": {},
          "execution_count": 61
        }
      ]
    },
    {
      "cell_type": "code",
      "source": [
        "# feature engineering - create time covariates: hour, weekday, month, year, country-specific holidays\n",
        "covT = datetime_attribute_timeseries(  ts_P.time_index, \n",
        "                                        attribute=\"day\", \n",
        "                                        until=pd.Timestamp(\"2022-04-01\"), one_hot=False)\n",
        "covT = covT.stack(datetime_attribute_timeseries(covT.time_index, attribute=\"day_of_week\", one_hot=False))\n",
        "covT = covT.stack(datetime_attribute_timeseries(covT.time_index, attribute=\"month\", one_hot=False))\n",
        "covT = covT.stack(datetime_attribute_timeseries(covT.time_index, attribute=\"year\", one_hot=False))\n",
        "\n",
        "covT = covT.add_holidays(country_code=\"US\")\n",
        "covT = covT.astype(np.float32)\n",
        "\n",
        "\n",
        "# train/test split\n",
        "covT_train, covT_test = covT.split_after(SPLIT)\n",
        "\n",
        "\n",
        "# rescale the covariates: fitting on the training set\n",
        "scalerT = Scaler()\n",
        "scalerT.fit(covT_train)\n",
        "covT_ttrain = scalerT.transform(covT_train)\n",
        "covT_ttest = scalerT.transform(covT_test)\n",
        "covT_t = scalerT.transform(covT)\n",
        "\n",
        "covT_t = covT_t.astype(np.float32)\n",
        "\n",
        "\n",
        "pd.options.display.float_format = '{:.0f}'.format\n",
        "print(\"first and last row of unscaled time covariates:\")\n",
        "covT.pd_dataframe().iloc[[0,-1]]"
      ],
      "metadata": {
        "id": "dm5HDNdIZE9Q",
        "outputId": "95181157-c67b-4313-b7eb-411febeaf616",
        "colab": {
          "base_uri": "https://localhost:8080/",
          "height": 161
        }
      },
      "execution_count": 63,
      "outputs": [
        {
          "output_type": "stream",
          "name": "stdout",
          "text": [
            "first and last row of unscaled time covariates:\n"
          ]
        },
        {
          "output_type": "execute_result",
          "data": {
            "text/plain": [
              "component   day  day_of_week  month  year  holidays\n",
              "time                                               \n",
              "2020-02-15   15            5      2  2020         0\n",
              "2022-04-01    1            4      4  2022         0"
            ],
            "text/html": [
              "\n",
              "  <div id=\"df-c5fb44bc-eff4-4275-9be8-147d9947131c\">\n",
              "    <div class=\"colab-df-container\">\n",
              "      <div>\n",
              "<style scoped>\n",
              "    .dataframe tbody tr th:only-of-type {\n",
              "        vertical-align: middle;\n",
              "    }\n",
              "\n",
              "    .dataframe tbody tr th {\n",
              "        vertical-align: top;\n",
              "    }\n",
              "\n",
              "    .dataframe thead th {\n",
              "        text-align: right;\n",
              "    }\n",
              "</style>\n",
              "<table border=\"1\" class=\"dataframe\">\n",
              "  <thead>\n",
              "    <tr style=\"text-align: right;\">\n",
              "      <th>component</th>\n",
              "      <th>day</th>\n",
              "      <th>day_of_week</th>\n",
              "      <th>month</th>\n",
              "      <th>year</th>\n",
              "      <th>holidays</th>\n",
              "    </tr>\n",
              "    <tr>\n",
              "      <th>time</th>\n",
              "      <th></th>\n",
              "      <th></th>\n",
              "      <th></th>\n",
              "      <th></th>\n",
              "      <th></th>\n",
              "    </tr>\n",
              "  </thead>\n",
              "  <tbody>\n",
              "    <tr>\n",
              "      <th>2020-02-15</th>\n",
              "      <td>15</td>\n",
              "      <td>5</td>\n",
              "      <td>2</td>\n",
              "      <td>2020</td>\n",
              "      <td>0</td>\n",
              "    </tr>\n",
              "    <tr>\n",
              "      <th>2022-04-01</th>\n",
              "      <td>1</td>\n",
              "      <td>4</td>\n",
              "      <td>4</td>\n",
              "      <td>2022</td>\n",
              "      <td>0</td>\n",
              "    </tr>\n",
              "  </tbody>\n",
              "</table>\n",
              "</div>\n",
              "      <button class=\"colab-df-convert\" onclick=\"convertToInteractive('df-c5fb44bc-eff4-4275-9be8-147d9947131c')\"\n",
              "              title=\"Convert this dataframe to an interactive table.\"\n",
              "              style=\"display:none;\">\n",
              "        \n",
              "  <svg xmlns=\"http://www.w3.org/2000/svg\" height=\"24px\"viewBox=\"0 0 24 24\"\n",
              "       width=\"24px\">\n",
              "    <path d=\"M0 0h24v24H0V0z\" fill=\"none\"/>\n",
              "    <path d=\"M18.56 5.44l.94 2.06.94-2.06 2.06-.94-2.06-.94-.94-2.06-.94 2.06-2.06.94zm-11 1L8.5 8.5l.94-2.06 2.06-.94-2.06-.94L8.5 2.5l-.94 2.06-2.06.94zm10 10l.94 2.06.94-2.06 2.06-.94-2.06-.94-.94-2.06-.94 2.06-2.06.94z\"/><path d=\"M17.41 7.96l-1.37-1.37c-.4-.4-.92-.59-1.43-.59-.52 0-1.04.2-1.43.59L10.3 9.45l-7.72 7.72c-.78.78-.78 2.05 0 2.83L4 21.41c.39.39.9.59 1.41.59.51 0 1.02-.2 1.41-.59l7.78-7.78 2.81-2.81c.8-.78.8-2.07 0-2.86zM5.41 20L4 18.59l7.72-7.72 1.47 1.35L5.41 20z\"/>\n",
              "  </svg>\n",
              "      </button>\n",
              "      \n",
              "  <style>\n",
              "    .colab-df-container {\n",
              "      display:flex;\n",
              "      flex-wrap:wrap;\n",
              "      gap: 12px;\n",
              "    }\n",
              "\n",
              "    .colab-df-convert {\n",
              "      background-color: #E8F0FE;\n",
              "      border: none;\n",
              "      border-radius: 50%;\n",
              "      cursor: pointer;\n",
              "      display: none;\n",
              "      fill: #1967D2;\n",
              "      height: 32px;\n",
              "      padding: 0 0 0 0;\n",
              "      width: 32px;\n",
              "    }\n",
              "\n",
              "    .colab-df-convert:hover {\n",
              "      background-color: #E2EBFA;\n",
              "      box-shadow: 0px 1px 2px rgba(60, 64, 67, 0.3), 0px 1px 3px 1px rgba(60, 64, 67, 0.15);\n",
              "      fill: #174EA6;\n",
              "    }\n",
              "\n",
              "    [theme=dark] .colab-df-convert {\n",
              "      background-color: #3B4455;\n",
              "      fill: #D2E3FC;\n",
              "    }\n",
              "\n",
              "    [theme=dark] .colab-df-convert:hover {\n",
              "      background-color: #434B5C;\n",
              "      box-shadow: 0px 1px 3px 1px rgba(0, 0, 0, 0.15);\n",
              "      filter: drop-shadow(0px 1px 2px rgba(0, 0, 0, 0.3));\n",
              "      fill: #FFFFFF;\n",
              "    }\n",
              "  </style>\n",
              "\n",
              "      <script>\n",
              "        const buttonEl =\n",
              "          document.querySelector('#df-c5fb44bc-eff4-4275-9be8-147d9947131c button.colab-df-convert');\n",
              "        buttonEl.style.display =\n",
              "          google.colab.kernel.accessAllowed ? 'block' : 'none';\n",
              "\n",
              "        async function convertToInteractive(key) {\n",
              "          const element = document.querySelector('#df-c5fb44bc-eff4-4275-9be8-147d9947131c');\n",
              "          const dataTable =\n",
              "            await google.colab.kernel.invokeFunction('convertToInteractive',\n",
              "                                                     [key], {});\n",
              "          if (!dataTable) return;\n",
              "\n",
              "          const docLinkHtml = 'Like what you see? Visit the ' +\n",
              "            '<a target=\"_blank\" href=https://colab.research.google.com/notebooks/data_table.ipynb>data table notebook</a>'\n",
              "            + ' to learn more about interactive tables.';\n",
              "          element.innerHTML = '';\n",
              "          dataTable['output_type'] = 'display_data';\n",
              "          await google.colab.output.renderOutput(dataTable, element);\n",
              "          const docLink = document.createElement('div');\n",
              "          docLink.innerHTML = docLinkHtml;\n",
              "          element.appendChild(docLink);\n",
              "        }\n",
              "      </script>\n",
              "    </div>\n",
              "  </div>\n",
              "  "
            ]
          },
          "metadata": {},
          "execution_count": 63
        }
      ]
    },
    {
      "cell_type": "code",
      "source": [
        "LOAD = False         # True = load previously saved model from disk?  False = (re)train the model\n",
        "SAVE = \"\\_TForm_model10e.pth.tar\"   # file name to save the model under\n",
        "\n",
        "EPOCHS = 200\n",
        "INLEN = 10          # input size\n",
        "FEAT = 32           # d_model = number of expected features in the inputs, up to 512    \n",
        "HEADS = 4           # default 8\n",
        "ENCODE = 4          # encoder layers\n",
        "DECODE = 4          # decoder layers\n",
        "DIM_FF = 128        # dimensions of the feedforward network, default 2048\n",
        "BATCH = 32          # batch size\n",
        "ACTF = \"relu\"       # activation function, relu (default) or gelu\n",
        "SCHLEARN = None     # a PyTorch learning rate scheduler; None = constant rate\n",
        "LEARN = 1e-3        # learning rate\n",
        "VALWAIT = 1         # epochs to wait before evaluating the loss on the test/validation set\n",
        "DROPOUT = 0.1       # dropout rate\n",
        "N_FC = 1            # output size\n",
        "\n",
        "RAND = 42           # random seed\n",
        "N_SAMPLES = 100     # number of times a prediction is sampled from a probabilistic model\n",
        "N_JOBS = 3          # parallel processors to use;  -1 = all processors\n",
        "\n",
        "# default quantiles for QuantileRegression\n",
        "QUANTILES = [0.01, 0.1, 0.2, 0.5, 0.8, 0.9, 0.99]\n",
        "\n",
        "\n",
        "FIGSIZE = (9, 6)\n",
        "\n",
        "\n",
        "qL1, qL2 = 0.01, 0.10        # percentiles of predictions: lower bounds\n",
        "qU1, qU2 = 1-qL1, 1-qL2,     # upper bounds derived from lower bounds\n",
        "label_q1 = f'{int(qU1 * 100)} / {int(qL1 * 100)} percentile band'\n",
        "label_q2 = f'{int(qU2 * 100)} / {int(qL2 * 100)} percentile band'\n",
        "\n",
        "mpath = os.path.abspath(os.getcwd()) + SAVE     # path and file name to save the model"
      ],
      "metadata": {
        "id": "_5ND8Jq5dKmB"
      },
      "execution_count": 69,
      "outputs": []
    },
    {
      "cell_type": "code",
      "source": [
        "model = TransformerModel(\n",
        "                    input_chunk_length = INLEN,\n",
        "                    output_chunk_length = N_FC,\n",
        "                    batch_size = BATCH,\n",
        "                    n_epochs = EPOCHS,\n",
        "                    model_name = \"Transformer_price\",\n",
        "                    nr_epochs_val_period = VALWAIT,\n",
        "                    d_model = FEAT,\n",
        "                    nhead = HEADS,\n",
        "                    num_encoder_layers = ENCODE,\n",
        "                    num_decoder_layers = DECODE,\n",
        "                    dim_feedforward = DIM_FF,\n",
        "                    dropout = DROPOUT,\n",
        "                    activation = ACTF,\n",
        "                    random_state=RAND,\n",
        "                    likelihood=QuantileRegression(quantiles=QUANTILES), \n",
        "                    optimizer_kwargs={'lr': LEARN},\n",
        "                    add_encoders={\"cyclic\": {\"future\": [\"day\", \"dayofweek\", \"month\"]}},\n",
        "                    save_checkpoints=True,\n",
        "                    force_reset=True\n",
        "                    )"
      ],
      "metadata": {
        "id": "n3dSYhWKa-ew"
      },
      "execution_count": 70,
      "outputs": []
    },
    {
      "cell_type": "code",
      "source": [
        "if LOAD:\n",
        "    print(\"have loaded a previously saved model from disk:\" + mpath)\n",
        "    model = TransformerModel.load_model(mpath)                            # load previously model from disk \n",
        "else:\n",
        "    model.fit(  ts_ttrain, \n",
        "                past_covariates=covT_t, \n",
        "                verbose=True)\n",
        "    print(\"have saved the model after training:\", mpath)\n",
        "    model.save_model(mpath)"
      ],
      "metadata": {
        "id": "wdxhHsgGcb8r",
        "outputId": "5f5ce864-3bee-443a-850e-dfef096fdf9f",
        "colab": {
          "base_uri": "https://localhost:8080/",
          "height": 67,
          "referenced_widgets": [
            "e031eca50427484281d30478a9d1d75a",
            "772c818ce25e45c887b1bebba9a54adb",
            "d4c45be722bd435bb845b8651a0ed5cc",
            "fa8493c32f504daba4c3541a7291d93e",
            "75075461a4fb42afb996397841125fd2",
            "d7e6a06b5cb54a0791ae0f48b0af7c4c",
            "651a3158b114423387d1e70dd5f64d8e",
            "ee532b1b375742ca8bd8a92bedf5ae30",
            "c3410ba37653480b92df0d01aade14ff",
            "39d441f6a74b47828d24b9409e4d6d4d",
            "898fa1ba2bfb40eeb18aaa65d0dd51d9"
          ]
        }
      },
      "execution_count": 72,
      "outputs": [
        {
          "output_type": "display_data",
          "data": {
            "text/plain": [
              "Training: 0it [00:00, ?it/s]"
            ],
            "application/vnd.jupyter.widget-view+json": {
              "version_major": 2,
              "version_minor": 0,
              "model_id": "e031eca50427484281d30478a9d1d75a"
            }
          },
          "metadata": {}
        },
        {
          "output_type": "stream",
          "name": "stdout",
          "text": [
            "have saved the model after training: /content\\_TForm_model10e.pth.tar\n"
          ]
        }
      ]
    },
    {
      "cell_type": "code",
      "source": [
        "# testing: generate predictions\n",
        "ts_tpred = model.predict(   n=len(ts_ttest), \n",
        "                            num_samples=N_SAMPLES,   \n",
        "                            n_jobs=N_JOBS, \n",
        "                            verbose=True)"
      ],
      "metadata": {
        "id": "u246Y8N-jtWf",
        "outputId": "1613ba2f-f1a1-4e7b-9137-f8f5fbc1881b",
        "colab": {
          "base_uri": "https://localhost:8080/",
          "height": 49,
          "referenced_widgets": [
            "f452e28670b048a98fd8763538763cb4",
            "03fc2c99bdc54a07bd1df7f07ba8d595",
            "7d1bcab8232f412c8f466f115e691b93",
            "7ca1feba58f94e3e8ffc06fa89e89c49",
            "3bb2db85afdc406597e6d50be3733f19",
            "8cc5d05169424669b6e27e52fa9db7b5",
            "872db39b01b34391aa78523910a80996",
            "8117c49fb0fb4025bb0333355033c52e",
            "9de4f39f0eb246bfac52db937229b29a",
            "1b4e37f5a3fd4d28b0a076d480324cbd",
            "bcdb3121dfdb4fc2ae4a69da7dd32858"
          ]
        }
      },
      "execution_count": 73,
      "outputs": [
        {
          "output_type": "display_data",
          "data": {
            "text/plain": [
              "Predicting: 23it [00:00, ?it/s]"
            ],
            "application/vnd.jupyter.widget-view+json": {
              "version_major": 2,
              "version_minor": 0,
              "model_id": "f452e28670b048a98fd8763538763cb4"
            }
          },
          "metadata": {}
        }
      ]
    },
    {
      "cell_type": "code",
      "source": [
        "\n",
        "# retrieve forecast series for chosen quantiles, \n",
        "# inverse-transform each series,\n",
        "# insert them as columns in a new dataframe dfY\n",
        "q50_RMSE = np.inf\n",
        "q50_MAPE = np.inf\n",
        "ts_q50 = None\n",
        "pd.options.display.float_format = '{:,.2f}'.format\n",
        "dfY = pd.DataFrame()\n",
        "dfY[\"Actual\"] = TimeSeries.pd_series(ts_test)\n",
        "\n",
        "\n",
        "# helper function: get forecast values for selected quantile q and insert them in dataframe dfY\n",
        "def predQ(ts_t, q):\n",
        "    ts_tq = ts_t.quantile_timeseries(q)\n",
        "    ts_q = scalerP.inverse_transform(ts_tq)\n",
        "    s = TimeSeries.pd_series(ts_q)\n",
        "    header = \"Q\" + format(int(q*100), \"02d\")\n",
        "    dfY[header] = s\n",
        "    if q==0.5:\n",
        "        ts_q50 = ts_q\n",
        "        q50_RMSE = rmse(ts_q50, ts_test)\n",
        "        q50_MAPE = mape(ts_q50, ts_test) \n",
        "        print(\"RMSE:\", f'{q50_RMSE:.2f}')\n",
        "        print(\"MAPE:\", f'{q50_MAPE:.2f}')\n",
        "  \n",
        "    \n",
        "# call helper function predQ, once for every quantile\n",
        "_ = [predQ(ts_tpred, q) for q in QUANTILES]\n",
        "\n",
        "# move Q50 column to the left of the Actual column\n",
        "col = dfY.pop(\"Q50\")\n",
        "dfY.insert(1, col.name, col)\n",
        "dfY.iloc[np.r_[0:2, -2:0]]"
      ],
      "metadata": {
        "id": "yDvuMJzCd7XS",
        "outputId": "31a131ec-3d23-401a-838d-bc020c7e2b54",
        "colab": {
          "base_uri": "https://localhost:8080/",
          "height": 242
        }
      },
      "execution_count": 74,
      "outputs": [
        {
          "output_type": "stream",
          "name": "stdout",
          "text": [
            "RMSE: 3.84\n",
            "MAPE: 15.25\n"
          ]
        },
        {
          "output_type": "execute_result",
          "data": {
            "text/plain": [
              "            Actual    Q50    Q01    Q10    Q20    Q80    Q90    Q99\n",
              "date                                                               \n",
              "2022-02-01  -23.00 -22.26 -34.39 -24.05 -23.37 -21.47 -19.72 -17.11\n",
              "2022-02-02  -26.00 -21.50 -33.80 -23.77 -22.99 -20.68 -19.52 -16.51\n",
              "2022-03-15  -23.00 -23.79 -31.52 -25.86 -24.96 -22.49 -21.84 -17.98\n",
              "2022-03-16  -22.00 -22.21 -32.96 -24.49 -23.88 -20.82 -19.26 -16.78"
            ],
            "text/html": [
              "\n",
              "  <div id=\"df-0b079a28-5076-4fb5-83a2-76522daeda1b\">\n",
              "    <div class=\"colab-df-container\">\n",
              "      <div>\n",
              "<style scoped>\n",
              "    .dataframe tbody tr th:only-of-type {\n",
              "        vertical-align: middle;\n",
              "    }\n",
              "\n",
              "    .dataframe tbody tr th {\n",
              "        vertical-align: top;\n",
              "    }\n",
              "\n",
              "    .dataframe thead th {\n",
              "        text-align: right;\n",
              "    }\n",
              "</style>\n",
              "<table border=\"1\" class=\"dataframe\">\n",
              "  <thead>\n",
              "    <tr style=\"text-align: right;\">\n",
              "      <th></th>\n",
              "      <th>Actual</th>\n",
              "      <th>Q50</th>\n",
              "      <th>Q01</th>\n",
              "      <th>Q10</th>\n",
              "      <th>Q20</th>\n",
              "      <th>Q80</th>\n",
              "      <th>Q90</th>\n",
              "      <th>Q99</th>\n",
              "    </tr>\n",
              "    <tr>\n",
              "      <th>date</th>\n",
              "      <th></th>\n",
              "      <th></th>\n",
              "      <th></th>\n",
              "      <th></th>\n",
              "      <th></th>\n",
              "      <th></th>\n",
              "      <th></th>\n",
              "      <th></th>\n",
              "    </tr>\n",
              "  </thead>\n",
              "  <tbody>\n",
              "    <tr>\n",
              "      <th>2022-02-01</th>\n",
              "      <td>-23.00</td>\n",
              "      <td>-22.26</td>\n",
              "      <td>-34.39</td>\n",
              "      <td>-24.05</td>\n",
              "      <td>-23.37</td>\n",
              "      <td>-21.47</td>\n",
              "      <td>-19.72</td>\n",
              "      <td>-17.11</td>\n",
              "    </tr>\n",
              "    <tr>\n",
              "      <th>2022-02-02</th>\n",
              "      <td>-26.00</td>\n",
              "      <td>-21.50</td>\n",
              "      <td>-33.80</td>\n",
              "      <td>-23.77</td>\n",
              "      <td>-22.99</td>\n",
              "      <td>-20.68</td>\n",
              "      <td>-19.52</td>\n",
              "      <td>-16.51</td>\n",
              "    </tr>\n",
              "    <tr>\n",
              "      <th>2022-03-15</th>\n",
              "      <td>-23.00</td>\n",
              "      <td>-23.79</td>\n",
              "      <td>-31.52</td>\n",
              "      <td>-25.86</td>\n",
              "      <td>-24.96</td>\n",
              "      <td>-22.49</td>\n",
              "      <td>-21.84</td>\n",
              "      <td>-17.98</td>\n",
              "    </tr>\n",
              "    <tr>\n",
              "      <th>2022-03-16</th>\n",
              "      <td>-22.00</td>\n",
              "      <td>-22.21</td>\n",
              "      <td>-32.96</td>\n",
              "      <td>-24.49</td>\n",
              "      <td>-23.88</td>\n",
              "      <td>-20.82</td>\n",
              "      <td>-19.26</td>\n",
              "      <td>-16.78</td>\n",
              "    </tr>\n",
              "  </tbody>\n",
              "</table>\n",
              "</div>\n",
              "      <button class=\"colab-df-convert\" onclick=\"convertToInteractive('df-0b079a28-5076-4fb5-83a2-76522daeda1b')\"\n",
              "              title=\"Convert this dataframe to an interactive table.\"\n",
              "              style=\"display:none;\">\n",
              "        \n",
              "  <svg xmlns=\"http://www.w3.org/2000/svg\" height=\"24px\"viewBox=\"0 0 24 24\"\n",
              "       width=\"24px\">\n",
              "    <path d=\"M0 0h24v24H0V0z\" fill=\"none\"/>\n",
              "    <path d=\"M18.56 5.44l.94 2.06.94-2.06 2.06-.94-2.06-.94-.94-2.06-.94 2.06-2.06.94zm-11 1L8.5 8.5l.94-2.06 2.06-.94-2.06-.94L8.5 2.5l-.94 2.06-2.06.94zm10 10l.94 2.06.94-2.06 2.06-.94-2.06-.94-.94-2.06-.94 2.06-2.06.94z\"/><path d=\"M17.41 7.96l-1.37-1.37c-.4-.4-.92-.59-1.43-.59-.52 0-1.04.2-1.43.59L10.3 9.45l-7.72 7.72c-.78.78-.78 2.05 0 2.83L4 21.41c.39.39.9.59 1.41.59.51 0 1.02-.2 1.41-.59l7.78-7.78 2.81-2.81c.8-.78.8-2.07 0-2.86zM5.41 20L4 18.59l7.72-7.72 1.47 1.35L5.41 20z\"/>\n",
              "  </svg>\n",
              "      </button>\n",
              "      \n",
              "  <style>\n",
              "    .colab-df-container {\n",
              "      display:flex;\n",
              "      flex-wrap:wrap;\n",
              "      gap: 12px;\n",
              "    }\n",
              "\n",
              "    .colab-df-convert {\n",
              "      background-color: #E8F0FE;\n",
              "      border: none;\n",
              "      border-radius: 50%;\n",
              "      cursor: pointer;\n",
              "      display: none;\n",
              "      fill: #1967D2;\n",
              "      height: 32px;\n",
              "      padding: 0 0 0 0;\n",
              "      width: 32px;\n",
              "    }\n",
              "\n",
              "    .colab-df-convert:hover {\n",
              "      background-color: #E2EBFA;\n",
              "      box-shadow: 0px 1px 2px rgba(60, 64, 67, 0.3), 0px 1px 3px 1px rgba(60, 64, 67, 0.15);\n",
              "      fill: #174EA6;\n",
              "    }\n",
              "\n",
              "    [theme=dark] .colab-df-convert {\n",
              "      background-color: #3B4455;\n",
              "      fill: #D2E3FC;\n",
              "    }\n",
              "\n",
              "    [theme=dark] .colab-df-convert:hover {\n",
              "      background-color: #434B5C;\n",
              "      box-shadow: 0px 1px 3px 1px rgba(0, 0, 0, 0.15);\n",
              "      filter: drop-shadow(0px 1px 2px rgba(0, 0, 0, 0.3));\n",
              "      fill: #FFFFFF;\n",
              "    }\n",
              "  </style>\n",
              "\n",
              "      <script>\n",
              "        const buttonEl =\n",
              "          document.querySelector('#df-0b079a28-5076-4fb5-83a2-76522daeda1b button.colab-df-convert');\n",
              "        buttonEl.style.display =\n",
              "          google.colab.kernel.accessAllowed ? 'block' : 'none';\n",
              "\n",
              "        async function convertToInteractive(key) {\n",
              "          const element = document.querySelector('#df-0b079a28-5076-4fb5-83a2-76522daeda1b');\n",
              "          const dataTable =\n",
              "            await google.colab.kernel.invokeFunction('convertToInteractive',\n",
              "                                                     [key], {});\n",
              "          if (!dataTable) return;\n",
              "\n",
              "          const docLinkHtml = 'Like what you see? Visit the ' +\n",
              "            '<a target=\"_blank\" href=https://colab.research.google.com/notebooks/data_table.ipynb>data table notebook</a>'\n",
              "            + ' to learn more about interactive tables.';\n",
              "          element.innerHTML = '';\n",
              "          dataTable['output_type'] = 'display_data';\n",
              "          await google.colab.output.renderOutput(dataTable, element);\n",
              "          const docLink = document.createElement('div');\n",
              "          docLink.innerHTML = docLinkHtml;\n",
              "          element.appendChild(docLink);\n",
              "        }\n",
              "      </script>\n",
              "    </div>\n",
              "  </div>\n",
              "  "
            ]
          },
          "metadata": {},
          "execution_count": 74
        }
      ]
    },
    {
      "cell_type": "code",
      "source": [
        "# retrieve forecast series for chosen quantiles, \n",
        "# inverse-transform each series,\n",
        "# insert them as columns in a new dataframe dfY\n",
        "q50_RMSE = np.inf\n",
        "q50_MAPE = np.inf\n",
        "ts_q50 = None\n",
        "pd.options.display.float_format = '{:,.2f}'.format\n",
        "dfY = pd.DataFrame()\n",
        "dfY[\"Actual\"] = TimeSeries.pd_series(ts_test)\n",
        "\n",
        "\n",
        "# helper function: get forecast values for selected quantile q and insert them in dataframe dfY\n",
        "def predQ(ts_t, q):\n",
        "    ts_tq = ts_t.quantile_timeseries(q)\n",
        "    ts_q = scalerP.inverse_transform(ts_tq)\n",
        "    s = TimeSeries.pd_series(ts_q)\n",
        "    header = \"Q\" + format(int(q*100), \"02d\")\n",
        "    dfY[header] = s\n",
        "    if q==0.5:\n",
        "        ts_q50 = ts_q\n",
        "        q50_RMSE = rmse(ts_q50, ts_test)\n",
        "        q50_MAPE = mape(ts_q50, ts_test) \n",
        "        print(\"RMSE:\", f'{q50_RMSE:.2f}')\n",
        "        print(\"MAPE:\", f'{q50_MAPE:.2f}')\n",
        "  \n",
        "    \n",
        "# call helper function predQ, once for every quantile\n",
        "_ = [predQ(ts_tpred, q) for q in QUANTILES]\n",
        "\n",
        "# move Q50 column to the left of the Actual column\n",
        "col = dfY.pop(\"Q50\")\n",
        "dfY.insert(1, col.name, col)\n",
        "dfY.iloc[np.r_[0:2, -2:0]]"
      ],
      "metadata": {
        "id": "1qLa9EP-lBY3",
        "outputId": "01de5fe6-1ef8-4217-8208-89b910befc2f",
        "colab": {
          "base_uri": "https://localhost:8080/",
          "height": 242
        }
      },
      "execution_count": 82,
      "outputs": [
        {
          "output_type": "stream",
          "name": "stdout",
          "text": [
            "RMSE: 3.84\n",
            "MAPE: 15.25\n"
          ]
        },
        {
          "output_type": "execute_result",
          "data": {
            "text/plain": [
              "            Actual    Q50    Q01    Q10    Q20    Q80    Q90    Q99\n",
              "date                                                               \n",
              "2022-02-01  -23.00 -22.26 -34.39 -24.05 -23.37 -21.47 -19.72 -17.11\n",
              "2022-02-02  -26.00 -21.50 -33.80 -23.77 -22.99 -20.68 -19.52 -16.51\n",
              "2022-03-15  -23.00 -23.79 -31.52 -25.86 -24.96 -22.49 -21.84 -17.98\n",
              "2022-03-16  -22.00 -22.21 -32.96 -24.49 -23.88 -20.82 -19.26 -16.78"
            ],
            "text/html": [
              "\n",
              "  <div id=\"df-dc53da99-525c-4f1a-b580-d088d9a2d9b1\">\n",
              "    <div class=\"colab-df-container\">\n",
              "      <div>\n",
              "<style scoped>\n",
              "    .dataframe tbody tr th:only-of-type {\n",
              "        vertical-align: middle;\n",
              "    }\n",
              "\n",
              "    .dataframe tbody tr th {\n",
              "        vertical-align: top;\n",
              "    }\n",
              "\n",
              "    .dataframe thead th {\n",
              "        text-align: right;\n",
              "    }\n",
              "</style>\n",
              "<table border=\"1\" class=\"dataframe\">\n",
              "  <thead>\n",
              "    <tr style=\"text-align: right;\">\n",
              "      <th></th>\n",
              "      <th>Actual</th>\n",
              "      <th>Q50</th>\n",
              "      <th>Q01</th>\n",
              "      <th>Q10</th>\n",
              "      <th>Q20</th>\n",
              "      <th>Q80</th>\n",
              "      <th>Q90</th>\n",
              "      <th>Q99</th>\n",
              "    </tr>\n",
              "    <tr>\n",
              "      <th>date</th>\n",
              "      <th></th>\n",
              "      <th></th>\n",
              "      <th></th>\n",
              "      <th></th>\n",
              "      <th></th>\n",
              "      <th></th>\n",
              "      <th></th>\n",
              "      <th></th>\n",
              "    </tr>\n",
              "  </thead>\n",
              "  <tbody>\n",
              "    <tr>\n",
              "      <th>2022-02-01</th>\n",
              "      <td>-23.00</td>\n",
              "      <td>-22.26</td>\n",
              "      <td>-34.39</td>\n",
              "      <td>-24.05</td>\n",
              "      <td>-23.37</td>\n",
              "      <td>-21.47</td>\n",
              "      <td>-19.72</td>\n",
              "      <td>-17.11</td>\n",
              "    </tr>\n",
              "    <tr>\n",
              "      <th>2022-02-02</th>\n",
              "      <td>-26.00</td>\n",
              "      <td>-21.50</td>\n",
              "      <td>-33.80</td>\n",
              "      <td>-23.77</td>\n",
              "      <td>-22.99</td>\n",
              "      <td>-20.68</td>\n",
              "      <td>-19.52</td>\n",
              "      <td>-16.51</td>\n",
              "    </tr>\n",
              "    <tr>\n",
              "      <th>2022-03-15</th>\n",
              "      <td>-23.00</td>\n",
              "      <td>-23.79</td>\n",
              "      <td>-31.52</td>\n",
              "      <td>-25.86</td>\n",
              "      <td>-24.96</td>\n",
              "      <td>-22.49</td>\n",
              "      <td>-21.84</td>\n",
              "      <td>-17.98</td>\n",
              "    </tr>\n",
              "    <tr>\n",
              "      <th>2022-03-16</th>\n",
              "      <td>-22.00</td>\n",
              "      <td>-22.21</td>\n",
              "      <td>-32.96</td>\n",
              "      <td>-24.49</td>\n",
              "      <td>-23.88</td>\n",
              "      <td>-20.82</td>\n",
              "      <td>-19.26</td>\n",
              "      <td>-16.78</td>\n",
              "    </tr>\n",
              "  </tbody>\n",
              "</table>\n",
              "</div>\n",
              "      <button class=\"colab-df-convert\" onclick=\"convertToInteractive('df-dc53da99-525c-4f1a-b580-d088d9a2d9b1')\"\n",
              "              title=\"Convert this dataframe to an interactive table.\"\n",
              "              style=\"display:none;\">\n",
              "        \n",
              "  <svg xmlns=\"http://www.w3.org/2000/svg\" height=\"24px\"viewBox=\"0 0 24 24\"\n",
              "       width=\"24px\">\n",
              "    <path d=\"M0 0h24v24H0V0z\" fill=\"none\"/>\n",
              "    <path d=\"M18.56 5.44l.94 2.06.94-2.06 2.06-.94-2.06-.94-.94-2.06-.94 2.06-2.06.94zm-11 1L8.5 8.5l.94-2.06 2.06-.94-2.06-.94L8.5 2.5l-.94 2.06-2.06.94zm10 10l.94 2.06.94-2.06 2.06-.94-2.06-.94-.94-2.06-.94 2.06-2.06.94z\"/><path d=\"M17.41 7.96l-1.37-1.37c-.4-.4-.92-.59-1.43-.59-.52 0-1.04.2-1.43.59L10.3 9.45l-7.72 7.72c-.78.78-.78 2.05 0 2.83L4 21.41c.39.39.9.59 1.41.59.51 0 1.02-.2 1.41-.59l7.78-7.78 2.81-2.81c.8-.78.8-2.07 0-2.86zM5.41 20L4 18.59l7.72-7.72 1.47 1.35L5.41 20z\"/>\n",
              "  </svg>\n",
              "      </button>\n",
              "      \n",
              "  <style>\n",
              "    .colab-df-container {\n",
              "      display:flex;\n",
              "      flex-wrap:wrap;\n",
              "      gap: 12px;\n",
              "    }\n",
              "\n",
              "    .colab-df-convert {\n",
              "      background-color: #E8F0FE;\n",
              "      border: none;\n",
              "      border-radius: 50%;\n",
              "      cursor: pointer;\n",
              "      display: none;\n",
              "      fill: #1967D2;\n",
              "      height: 32px;\n",
              "      padding: 0 0 0 0;\n",
              "      width: 32px;\n",
              "    }\n",
              "\n",
              "    .colab-df-convert:hover {\n",
              "      background-color: #E2EBFA;\n",
              "      box-shadow: 0px 1px 2px rgba(60, 64, 67, 0.3), 0px 1px 3px 1px rgba(60, 64, 67, 0.15);\n",
              "      fill: #174EA6;\n",
              "    }\n",
              "\n",
              "    [theme=dark] .colab-df-convert {\n",
              "      background-color: #3B4455;\n",
              "      fill: #D2E3FC;\n",
              "    }\n",
              "\n",
              "    [theme=dark] .colab-df-convert:hover {\n",
              "      background-color: #434B5C;\n",
              "      box-shadow: 0px 1px 3px 1px rgba(0, 0, 0, 0.15);\n",
              "      filter: drop-shadow(0px 1px 2px rgba(0, 0, 0, 0.3));\n",
              "      fill: #FFFFFF;\n",
              "    }\n",
              "  </style>\n",
              "\n",
              "      <script>\n",
              "        const buttonEl =\n",
              "          document.querySelector('#df-dc53da99-525c-4f1a-b580-d088d9a2d9b1 button.colab-df-convert');\n",
              "        buttonEl.style.display =\n",
              "          google.colab.kernel.accessAllowed ? 'block' : 'none';\n",
              "\n",
              "        async function convertToInteractive(key) {\n",
              "          const element = document.querySelector('#df-dc53da99-525c-4f1a-b580-d088d9a2d9b1');\n",
              "          const dataTable =\n",
              "            await google.colab.kernel.invokeFunction('convertToInteractive',\n",
              "                                                     [key], {});\n",
              "          if (!dataTable) return;\n",
              "\n",
              "          const docLinkHtml = 'Like what you see? Visit the ' +\n",
              "            '<a target=\"_blank\" href=https://colab.research.google.com/notebooks/data_table.ipynb>data table notebook</a>'\n",
              "            + ' to learn more about interactive tables.';\n",
              "          element.innerHTML = '';\n",
              "          dataTable['output_type'] = 'display_data';\n",
              "          await google.colab.output.renderOutput(dataTable, element);\n",
              "          const docLink = document.createElement('div');\n",
              "          docLink.innerHTML = docLinkHtml;\n",
              "          element.appendChild(docLink);\n",
              "        }\n",
              "      </script>\n",
              "    </div>\n",
              "  </div>\n",
              "  "
            ]
          },
          "metadata": {},
          "execution_count": 82
        }
      ]
    },
    {
      "cell_type": "code",
      "source": [
        "# plot the forecast\n",
        "plt.figure(100, figsize=(20, 7))\n",
        "sns.set(font_scale=1.3)\n",
        "p = sns.lineplot(x = \"date\", y = \"Q20\", data = dfY, palette=\"coolwarm\")\n",
        "sns.lineplot(x = \"date\", y = \"Actual\", data = dfY, palette=\"coolwarm\")\n",
        "plt.legend(labels=[\"forecast Q99\", \"actual\"])\n",
        "p.set_ylabel(\"predict\")\n",
        "p.set_xlabel(\"actual\")\n",
        "p.set_title(\"test set\");"
      ],
      "metadata": {
        "id": "TLa6s4V5jxLy",
        "outputId": "6e5babba-b6a9-4eb7-f857-020a06acd31b",
        "colab": {
          "base_uri": "https://localhost:8080/",
          "height": 460
        }
      },
      "execution_count": 80,
      "outputs": [
        {
          "output_type": "display_data",
          "data": {
            "text/plain": [
              "<Figure size 1440x504 with 1 Axes>"
            ],
            "image/png": "[encoded data removed]"
          },
          "metadata": {}
        }
      ]
    },
    {
      "cell_type": "code",
      "source": [
        ""
      ],
      "metadata": {
        "id": "kau4F27nj90L"
      },
      "execution_count": null,
      "outputs": []
    }
  ]
}