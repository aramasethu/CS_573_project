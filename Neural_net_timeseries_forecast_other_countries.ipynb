{
  "nbformat": 4,
  "nbformat_minor": 0,
  "metadata": {
    "colab": {
      "name": "Lag_model_CS_573.ipynb",
      "provenance": [],
      "collapsed_sections": [
        "8U350WdhsMJ9",
        "m84JFL9FX9pP"
      ],
      "toc_visible": true,
      "include_colab_link": true
    },
    "kernelspec": {
      "name": "python3",
      "display_name": "Python 3"
    },
    "language_info": {
      "name": "python"
    },
    "widgets": {
      "application/vnd.jupyter.widget-state+json": {
        "1bdf1ce4d5e94b4c9b303c4d1e7ebdf3": {
          "model_module": "@jupyter-widgets/controls",
          "model_name": "HBoxModel",
          "model_module_version": "1.5.0",
          "state": {
            "_dom_classes": [],
            "_model_module": "@jupyter-widgets/controls",
            "_model_module_version": "1.5.0",
            "_model_name": "HBoxModel",
            "_view_count": null,
            "_view_module": "@jupyter-widgets/controls",
            "_view_module_version": "1.5.0",
            "_view_name": "HBoxView",
            "box_style": "",
            "children": [
              "IPY_MODEL_55b77f5e88d24c638c30f59af11a7f2a",
              "IPY_MODEL_e3666dd9948b41c2ae98210e66e1b844",
              "IPY_MODEL_6f48a1bfffbe4197be07e0ae58c1dcc3"
            ],
            "layout": "IPY_MODEL_d199945107f34cd38aeb77b4a5c74838"
          }
        },
        "55b77f5e88d24c638c30f59af11a7f2a": {
          "model_module": "@jupyter-widgets/controls",
          "model_name": "HTMLModel",
          "model_module_version": "1.5.0",
          "state": {
            "_dom_classes": [],
            "_model_module": "@jupyter-widgets/controls",
            "_model_module_version": "1.5.0",
            "_model_name": "HTMLModel",
            "_view_count": null,
            "_view_module": "@jupyter-widgets/controls",
            "_view_module_version": "1.5.0",
            "_view_name": "HTMLView",
            "description": "",
            "description_tooltip": null,
            "layout": "IPY_MODEL_0a7d3fc8c41d4c52b61cfc0a48668841",
            "placeholder": "​",
            "style": "IPY_MODEL_8e9dbdfdf21340ab987d9a8615e6a465",
            "value": "Epoch 199: 100%"
          }
        },
        "e3666dd9948b41c2ae98210e66e1b844": {
          "model_module": "@jupyter-widgets/controls",
          "model_name": "FloatProgressModel",
          "model_module_version": "1.5.0",
          "state": {
            "_dom_classes": [],
            "_model_module": "@jupyter-widgets/controls",
            "_model_module_version": "1.5.0",
            "_model_name": "FloatProgressModel",
            "_view_count": null,
            "_view_module": "@jupyter-widgets/controls",
            "_view_module_version": "1.5.0",
            "_view_name": "ProgressView",
            "bar_style": "success",
            "description": "",
            "description_tooltip": null,
            "layout": "IPY_MODEL_7ce83efde6b249c3ac064f64083a952b",
            "max": 1,
            "min": 0,
            "orientation": "horizontal",
            "style": "IPY_MODEL_3a1c1b302fee4377a0894e6c8c62eaf1",
            "value": 1
          }
        },
        "6f48a1bfffbe4197be07e0ae58c1dcc3": {
          "model_module": "@jupyter-widgets/controls",
          "model_name": "HTMLModel",
          "model_module_version": "1.5.0",
          "state": {
            "_dom_classes": [],
            "_model_module": "@jupyter-widgets/controls",
            "_model_module_version": "1.5.0",
            "_model_name": "HTMLModel",
            "_view_count": null,
            "_view_module": "@jupyter-widgets/controls",
            "_view_module_version": "1.5.0",
            "_view_name": "HTMLView",
            "description": "",
            "description_tooltip": null,
            "layout": "IPY_MODEL_d824edd25aab4893b0f56bb68cb141ac",
            "placeholder": "​",
            "style": "IPY_MODEL_5e6a27dac23d426d8860e2bf1f38de5a",
            "value": " 22/22 [03:25&lt;00:00,  9.33s/it, loss=0.0562, train_loss=0.0326]"
          }
        },
        "d199945107f34cd38aeb77b4a5c74838": {
          "model_module": "@jupyter-widgets/base",
          "model_name": "LayoutModel",
          "model_module_version": "1.2.0",
          "state": {
            "_model_module": "@jupyter-widgets/base",
            "_model_module_version": "1.2.0",
            "_model_name": "LayoutModel",
            "_view_count": null,
            "_view_module": "@jupyter-widgets/base",
            "_view_module_version": "1.2.0",
            "_view_name": "LayoutView",
            "align_content": null,
            "align_items": null,
            "align_self": null,
            "border": null,
            "bottom": null,
            "display": "inline-flex",
            "flex": null,
            "flex_flow": "row wrap",
            "grid_area": null,
            "grid_auto_columns": null,
            "grid_auto_flow": null,
            "grid_auto_rows": null,
            "grid_column": null,
            "grid_gap": null,
            "grid_row": null,
            "grid_template_areas": null,
            "grid_template_columns": null,
            "grid_template_rows": null,
            "height": null,
            "justify_content": null,
            "justify_items": null,
            "left": null,
            "margin": null,
            "max_height": null,
            "max_width": null,
            "min_height": null,
            "min_width": null,
            "object_fit": null,
            "object_position": null,
            "order": null,
            "overflow": null,
            "overflow_x": null,
            "overflow_y": null,
            "padding": null,
            "right": null,
            "top": null,
            "visibility": null,
            "width": "100%"
          }
        },
        "0a7d3fc8c41d4c52b61cfc0a48668841": {
          "model_module": "@jupyter-widgets/base",
          "model_name": "LayoutModel",
          "model_module_version": "1.2.0",
          "state": {
            "_model_module": "@jupyter-widgets/base",
            "_model_module_version": "1.2.0",
            "_model_name": "LayoutModel",
            "_view_count": null,
            "_view_module": "@jupyter-widgets/base",
            "_view_module_version": "1.2.0",
            "_view_name": "LayoutView",
            "align_content": null,
            "align_items": null,
            "align_self": null,
            "border": null,
            "bottom": null,
            "display": null,
            "flex": null,
            "flex_flow": null,
            "grid_area": null,
            "grid_auto_columns": null,
            "grid_auto_flow": null,
            "grid_auto_rows": null,
            "grid_column": null,
            "grid_gap": null,
            "grid_row": null,
            "grid_template_areas": null,
            "grid_template_columns": null,
            "grid_template_rows": null,
            "height": null,
            "justify_content": null,
            "justify_items": null,
            "left": null,
            "margin": null,
            "max_height": null,
            "max_width": null,
            "min_height": null,
            "min_width": null,
            "object_fit": null,
            "object_position": null,
            "order": null,
            "overflow": null,
            "overflow_x": null,
            "overflow_y": null,
            "padding": null,
            "right": null,
            "top": null,
            "visibility": null,
            "width": null
          }
        },
        "8e9dbdfdf21340ab987d9a8615e6a465": {
          "model_module": "@jupyter-widgets/controls",
          "model_name": "DescriptionStyleModel",
          "model_module_version": "1.5.0",
          "state": {
            "_model_module": "@jupyter-widgets/controls",
            "_model_module_version": "1.5.0",
            "_model_name": "DescriptionStyleModel",
            "_view_count": null,
            "_view_module": "@jupyter-widgets/base",
            "_view_module_version": "1.2.0",
            "_view_name": "StyleView",
            "description_width": ""
          }
        },
        "7ce83efde6b249c3ac064f64083a952b": {
          "model_module": "@jupyter-widgets/base",
          "model_name": "LayoutModel",
          "model_module_version": "1.2.0",
          "state": {
            "_model_module": "@jupyter-widgets/base",
            "_model_module_version": "1.2.0",
            "_model_name": "LayoutModel",
            "_view_count": null,
            "_view_module": "@jupyter-widgets/base",
            "_view_module_version": "1.2.0",
            "_view_name": "LayoutView",
            "align_content": null,
            "align_items": null,
            "align_self": null,
            "border": null,
            "bottom": null,
            "display": null,
            "flex": "2",
            "flex_flow": null,
            "grid_area": null,
            "grid_auto_columns": null,
            "grid_auto_flow": null,
            "grid_auto_rows": null,
            "grid_column": null,
            "grid_gap": null,
            "grid_row": null,
            "grid_template_areas": null,
            "grid_template_columns": null,
            "grid_template_rows": null,
            "height": null,
            "justify_content": null,
            "justify_items": null,
            "left": null,
            "margin": null,
            "max_height": null,
            "max_width": null,
            "min_height": null,
            "min_width": null,
            "object_fit": null,
            "object_position": null,
            "order": null,
            "overflow": null,
            "overflow_x": null,
            "overflow_y": null,
            "padding": null,
            "right": null,
            "top": null,
            "visibility": null,
            "width": null
          }
        },
        "3a1c1b302fee4377a0894e6c8c62eaf1": {
          "model_module": "@jupyter-widgets/controls",
          "model_name": "ProgressStyleModel",
          "model_module_version": "1.5.0",
          "state": {
            "_model_module": "@jupyter-widgets/controls",
            "_model_module_version": "1.5.0",
            "_model_name": "ProgressStyleModel",
            "_view_count": null,
            "_view_module": "@jupyter-widgets/base",
            "_view_module_version": "1.2.0",
            "_view_name": "StyleView",
            "bar_color": null,
            "description_width": ""
          }
        },
        "d824edd25aab4893b0f56bb68cb141ac": {
          "model_module": "@jupyter-widgets/base",
          "model_name": "LayoutModel",
          "model_module_version": "1.2.0",
          "state": {
            "_model_module": "@jupyter-widgets/base",
            "_model_module_version": "1.2.0",
            "_model_name": "LayoutModel",
            "_view_count": null,
            "_view_module": "@jupyter-widgets/base",
            "_view_module_version": "1.2.0",
            "_view_name": "LayoutView",
            "align_content": null,
            "align_items": null,
            "align_self": null,
            "border": null,
            "bottom": null,
            "display": null,
            "flex": null,
            "flex_flow": null,
            "grid_area": null,
            "grid_auto_columns": null,
            "grid_auto_flow": null,
            "grid_auto_rows": null,
            "grid_column": null,
            "grid_gap": null,
            "grid_row": null,
            "grid_template_areas": null,
            "grid_template_columns": null,
            "grid_template_rows": null,
            "height": null,
            "justify_content": null,
            "justify_items": null,
            "left": null,
            "margin": null,
            "max_height": null,
            "max_width": null,
            "min_height": null,
            "min_width": null,
            "object_fit": null,
            "object_position": null,
            "order": null,
            "overflow": null,
            "overflow_x": null,
            "overflow_y": null,
            "padding": null,
            "right": null,
            "top": null,
            "visibility": null,
            "width": null
          }
        },
        "5e6a27dac23d426d8860e2bf1f38de5a": {
          "model_module": "@jupyter-widgets/controls",
          "model_name": "DescriptionStyleModel",
          "model_module_version": "1.5.0",
          "state": {
            "_model_module": "@jupyter-widgets/controls",
            "_model_module_version": "1.5.0",
            "_model_name": "DescriptionStyleModel",
            "_view_count": null,
            "_view_module": "@jupyter-widgets/base",
            "_view_module_version": "1.2.0",
            "_view_name": "StyleView",
            "description_width": ""
          }
        },
        "84ef51b3d366412383a42752821d8ca5": {
          "model_module": "@jupyter-widgets/controls",
          "model_name": "HBoxModel",
          "model_module_version": "1.5.0",
          "state": {
            "_dom_classes": [],
            "_model_module": "@jupyter-widgets/controls",
            "_model_module_version": "1.5.0",
            "_model_name": "HBoxModel",
            "_view_count": null,
            "_view_module": "@jupyter-widgets/controls",
            "_view_module_version": "1.5.0",
            "_view_name": "HBoxView",
            "box_style": "",
            "children": [
              "IPY_MODEL_652bee50f0b04241affeabb54551cd9e",
              "IPY_MODEL_a1cf4ce657f04955992dbd5c2337b059",
              "IPY_MODEL_c45542b3f0a241809c2ddc2e72cc4e87"
            ],
            "layout": "IPY_MODEL_739c77c533a74947bfe336e3ccb496b2"
          }
        },
        "652bee50f0b04241affeabb54551cd9e": {
          "model_module": "@jupyter-widgets/controls",
          "model_name": "HTMLModel",
          "model_module_version": "1.5.0",
          "state": {
            "_dom_classes": [],
            "_model_module": "@jupyter-widgets/controls",
            "_model_module_version": "1.5.0",
            "_model_name": "HTMLModel",
            "_view_count": null,
            "_view_module": "@jupyter-widgets/controls",
            "_view_module_version": "1.5.0",
            "_view_name": "HTMLView",
            "description": "",
            "description_tooltip": null,
            "layout": "IPY_MODEL_96dde96f05934dfdaf7697f0356c7e78",
            "placeholder": "​",
            "style": "IPY_MODEL_6a7ff5b3aab24dbdba006393ca782470",
            "value": "Predicting DataLoader 0: 100%"
          }
        },
        "a1cf4ce657f04955992dbd5c2337b059": {
          "model_module": "@jupyter-widgets/controls",
          "model_name": "FloatProgressModel",
          "model_module_version": "1.5.0",
          "state": {
            "_dom_classes": [],
            "_model_module": "@jupyter-widgets/controls",
            "_model_module_version": "1.5.0",
            "_model_name": "FloatProgressModel",
            "_view_count": null,
            "_view_module": "@jupyter-widgets/controls",
            "_view_module_version": "1.5.0",
            "_view_name": "ProgressView",
            "bar_style": "success",
            "description": "",
            "description_tooltip": null,
            "layout": "IPY_MODEL_747149fd2d624c31998da1247aebc8b8",
            "max": 1,
            "min": 0,
            "orientation": "horizontal",
            "style": "IPY_MODEL_34ca4c3143044d3b89688457bb58ebee",
            "value": 1
          }
        },
        "c45542b3f0a241809c2ddc2e72cc4e87": {
          "model_module": "@jupyter-widgets/controls",
          "model_name": "HTMLModel",
          "model_module_version": "1.5.0",
          "state": {
            "_dom_classes": [],
            "_model_module": "@jupyter-widgets/controls",
            "_model_module_version": "1.5.0",
            "_model_name": "HTMLModel",
            "_view_count": null,
            "_view_module": "@jupyter-widgets/controls",
            "_view_module_version": "1.5.0",
            "_view_name": "HTMLView",
            "description": "",
            "description_tooltip": null,
            "layout": "IPY_MODEL_60eb18db6ca34b90b6c853d49f503e29",
            "placeholder": "​",
            "style": "IPY_MODEL_134c4a4f21ad4853999f2e09de4a26c0",
            "value": " 1/1 [00:08&lt;00:00, -2.37it/s]"
          }
        },
        "739c77c533a74947bfe336e3ccb496b2": {
          "model_module": "@jupyter-widgets/base",
          "model_name": "LayoutModel",
          "model_module_version": "1.2.0",
          "state": {
            "_model_module": "@jupyter-widgets/base",
            "_model_module_version": "1.2.0",
            "_model_name": "LayoutModel",
            "_view_count": null,
            "_view_module": "@jupyter-widgets/base",
            "_view_module_version": "1.2.0",
            "_view_name": "LayoutView",
            "align_content": null,
            "align_items": null,
            "align_self": null,
            "border": null,
            "bottom": null,
            "display": "inline-flex",
            "flex": null,
            "flex_flow": "row wrap",
            "grid_area": null,
            "grid_auto_columns": null,
            "grid_auto_flow": null,
            "grid_auto_rows": null,
            "grid_column": null,
            "grid_gap": null,
            "grid_row": null,
            "grid_template_areas": null,
            "grid_template_columns": null,
            "grid_template_rows": null,
            "height": null,
            "justify_content": null,
            "justify_items": null,
            "left": null,
            "margin": null,
            "max_height": null,
            "max_width": null,
            "min_height": null,
            "min_width": null,
            "object_fit": null,
            "object_position": null,
            "order": null,
            "overflow": null,
            "overflow_x": null,
            "overflow_y": null,
            "padding": null,
            "right": null,
            "top": null,
            "visibility": null,
            "width": "100%"
          }
        },
        "96dde96f05934dfdaf7697f0356c7e78": {
          "model_module": "@jupyter-widgets/base",
          "model_name": "LayoutModel",
          "model_module_version": "1.2.0",
          "state": {
            "_model_module": "@jupyter-widgets/base",
            "_model_module_version": "1.2.0",
            "_model_name": "LayoutModel",
            "_view_count": null,
            "_view_module": "@jupyter-widgets/base",
            "_view_module_version": "1.2.0",
            "_view_name": "LayoutView",
            "align_content": null,
            "align_items": null,
            "align_self": null,
            "border": null,
            "bottom": null,
            "display": null,
            "flex": null,
            "flex_flow": null,
            "grid_area": null,
            "grid_auto_columns": null,
            "grid_auto_flow": null,
            "grid_auto_rows": null,
            "grid_column": null,
            "grid_gap": null,
            "grid_row": null,
            "grid_template_areas": null,
            "grid_template_columns": null,
            "grid_template_rows": null,
            "height": null,
            "justify_content": null,
            "justify_items": null,
            "left": null,
            "margin": null,
            "max_height": null,
            "max_width": null,
            "min_height": null,
            "min_width": null,
            "object_fit": null,
            "object_position": null,
            "order": null,
            "overflow": null,
            "overflow_x": null,
            "overflow_y": null,
            "padding": null,
            "right": null,
            "top": null,
            "visibility": null,
            "width": null
          }
        },
        "6a7ff5b3aab24dbdba006393ca782470": {
          "model_module": "@jupyter-widgets/controls",
          "model_name": "DescriptionStyleModel",
          "model_module_version": "1.5.0",
          "state": {
            "_model_module": "@jupyter-widgets/controls",
            "_model_module_version": "1.5.0",
            "_model_name": "DescriptionStyleModel",
            "_view_count": null,
            "_view_module": "@jupyter-widgets/base",
            "_view_module_version": "1.2.0",
            "_view_name": "StyleView",
            "description_width": ""
          }
        },
        "747149fd2d624c31998da1247aebc8b8": {
          "model_module": "@jupyter-widgets/base",
          "model_name": "LayoutModel",
          "model_module_version": "1.2.0",
          "state": {
            "_model_module": "@jupyter-widgets/base",
            "_model_module_version": "1.2.0",
            "_model_name": "LayoutModel",
            "_view_count": null,
            "_view_module": "@jupyter-widgets/base",
            "_view_module_version": "1.2.0",
            "_view_name": "LayoutView",
            "align_content": null,
            "align_items": null,
            "align_self": null,
            "border": null,
            "bottom": null,
            "display": null,
            "flex": "2",
            "flex_flow": null,
            "grid_area": null,
            "grid_auto_columns": null,
            "grid_auto_flow": null,
            "grid_auto_rows": null,
            "grid_column": null,
            "grid_gap": null,
            "grid_row": null,
            "grid_template_areas": null,
            "grid_template_columns": null,
            "grid_template_rows": null,
            "height": null,
            "justify_content": null,
            "justify_items": null,
            "left": null,
            "margin": null,
            "max_height": null,
            "max_width": null,
            "min_height": null,
            "min_width": null,
            "object_fit": null,
            "object_position": null,
            "order": null,
            "overflow": null,
            "overflow_x": null,
            "overflow_y": null,
            "padding": null,
            "right": null,
            "top": null,
            "visibility": null,
            "width": null
          }
        },
        "34ca4c3143044d3b89688457bb58ebee": {
          "model_module": "@jupyter-widgets/controls",
          "model_name": "ProgressStyleModel",
          "model_module_version": "1.5.0",
          "state": {
            "_model_module": "@jupyter-widgets/controls",
            "_model_module_version": "1.5.0",
            "_model_name": "ProgressStyleModel",
            "_view_count": null,
            "_view_module": "@jupyter-widgets/base",
            "_view_module_version": "1.2.0",
            "_view_name": "StyleView",
            "bar_color": null,
            "description_width": ""
          }
        },
        "60eb18db6ca34b90b6c853d49f503e29": {
          "model_module": "@jupyter-widgets/base",
          "model_name": "LayoutModel",
          "model_module_version": "1.2.0",
          "state": {
            "_model_module": "@jupyter-widgets/base",
            "_model_module_version": "1.2.0",
            "_model_name": "LayoutModel",
            "_view_count": null,
            "_view_module": "@jupyter-widgets/base",
            "_view_module_version": "1.2.0",
            "_view_name": "LayoutView",
            "align_content": null,
            "align_items": null,
            "align_self": null,
            "border": null,
            "bottom": null,
            "display": null,
            "flex": null,
            "flex_flow": null,
            "grid_area": null,
            "grid_auto_columns": null,
            "grid_auto_flow": null,
            "grid_auto_rows": null,
            "grid_column": null,
            "grid_gap": null,
            "grid_row": null,
            "grid_template_areas": null,
            "grid_template_columns": null,
            "grid_template_rows": null,
            "height": null,
            "justify_content": null,
            "justify_items": null,
            "left": null,
            "margin": null,
            "max_height": null,
            "max_width": null,
            "min_height": null,
            "min_width": null,
            "object_fit": null,
            "object_position": null,
            "order": null,
            "overflow": null,
            "overflow_x": null,
            "overflow_y": null,
            "padding": null,
            "right": null,
            "top": null,
            "visibility": null,
            "width": null
          }
        },
        "134c4a4f21ad4853999f2e09de4a26c0": {
          "model_module": "@jupyter-widgets/controls",
          "model_name": "DescriptionStyleModel",
          "model_module_version": "1.5.0",
          "state": {
            "_model_module": "@jupyter-widgets/controls",
            "_model_module_version": "1.5.0",
            "_model_name": "DescriptionStyleModel",
            "_view_count": null,
            "_view_module": "@jupyter-widgets/base",
            "_view_module_version": "1.2.0",
            "_view_name": "StyleView",
            "description_width": ""
          }
        },
        "b0b6ed7f4f30499f9847513184f50a86": {
          "model_module": "@jupyter-widgets/controls",
          "model_name": "HBoxModel",
          "model_module_version": "1.5.0",
          "state": {
            "_dom_classes": [],
            "_model_module": "@jupyter-widgets/controls",
            "_model_module_version": "1.5.0",
            "_model_name": "HBoxModel",
            "_view_count": null,
            "_view_module": "@jupyter-widgets/controls",
            "_view_module_version": "1.5.0",
            "_view_name": "HBoxView",
            "box_style": "",
            "children": [
              "IPY_MODEL_45bdb0134eef4ad09523608d229ff76b",
              "IPY_MODEL_9259bf18c1d04e95a15fae4e105f4cd2",
              "IPY_MODEL_3cb610ae493e44189625435a680f91c2"
            ],
            "layout": "IPY_MODEL_03d80dff57374811b17d2689799ad8e0"
          }
        },
        "45bdb0134eef4ad09523608d229ff76b": {
          "model_module": "@jupyter-widgets/controls",
          "model_name": "HTMLModel",
          "model_module_version": "1.5.0",
          "state": {
            "_dom_classes": [],
            "_model_module": "@jupyter-widgets/controls",
            "_model_module_version": "1.5.0",
            "_model_name": "HTMLModel",
            "_view_count": null,
            "_view_module": "@jupyter-widgets/controls",
            "_view_module_version": "1.5.0",
            "_view_name": "HTMLView",
            "description": "",
            "description_tooltip": null,
            "layout": "IPY_MODEL_32c1daaab328421da4b1f495ca397de9",
            "placeholder": "​",
            "style": "IPY_MODEL_bb640918dc3143858bd3eaddf616a231",
            "value": "Epoch 199: 100%"
          }
        },
        "9259bf18c1d04e95a15fae4e105f4cd2": {
          "model_module": "@jupyter-widgets/controls",
          "model_name": "FloatProgressModel",
          "model_module_version": "1.5.0",
          "state": {
            "_dom_classes": [],
            "_model_module": "@jupyter-widgets/controls",
            "_model_module_version": "1.5.0",
            "_model_name": "FloatProgressModel",
            "_view_count": null,
            "_view_module": "@jupyter-widgets/controls",
            "_view_module_version": "1.5.0",
            "_view_name": "ProgressView",
            "bar_style": "success",
            "description": "",
            "description_tooltip": null,
            "layout": "IPY_MODEL_23d97fbc3ba848e28bc3393978be3226",
            "max": 1,
            "min": 0,
            "orientation": "horizontal",
            "style": "IPY_MODEL_5fb1de1a6bf344a8a509cbeb74782c45",
            "value": 1
          }
        },
        "3cb610ae493e44189625435a680f91c2": {
          "model_module": "@jupyter-widgets/controls",
          "model_name": "HTMLModel",
          "model_module_version": "1.5.0",
          "state": {
            "_dom_classes": [],
            "_model_module": "@jupyter-widgets/controls",
            "_model_module_version": "1.5.0",
            "_model_name": "HTMLModel",
            "_view_count": null,
            "_view_module": "@jupyter-widgets/controls",
            "_view_module_version": "1.5.0",
            "_view_name": "HTMLView",
            "description": "",
            "description_tooltip": null,
            "layout": "IPY_MODEL_cd4e3da641234d72b86963a060eb81fc",
            "placeholder": "​",
            "style": "IPY_MODEL_3851ff8820fc4b4eb14c182875951183",
            "value": " 23/23 [03:41&lt;00:00,  9.65s/it, loss=0.0681, train_loss=0.0275]"
          }
        },
        "03d80dff57374811b17d2689799ad8e0": {
          "model_module": "@jupyter-widgets/base",
          "model_name": "LayoutModel",
          "model_module_version": "1.2.0",
          "state": {
            "_model_module": "@jupyter-widgets/base",
            "_model_module_version": "1.2.0",
            "_model_name": "LayoutModel",
            "_view_count": null,
            "_view_module": "@jupyter-widgets/base",
            "_view_module_version": "1.2.0",
            "_view_name": "LayoutView",
            "align_content": null,
            "align_items": null,
            "align_self": null,
            "border": null,
            "bottom": null,
            "display": "inline-flex",
            "flex": null,
            "flex_flow": "row wrap",
            "grid_area": null,
            "grid_auto_columns": null,
            "grid_auto_flow": null,
            "grid_auto_rows": null,
            "grid_column": null,
            "grid_gap": null,
            "grid_row": null,
            "grid_template_areas": null,
            "grid_template_columns": null,
            "grid_template_rows": null,
            "height": null,
            "justify_content": null,
            "justify_items": null,
            "left": null,
            "margin": null,
            "max_height": null,
            "max_width": null,
            "min_height": null,
            "min_width": null,
            "object_fit": null,
            "object_position": null,
            "order": null,
            "overflow": null,
            "overflow_x": null,
            "overflow_y": null,
            "padding": null,
            "right": null,
            "top": null,
            "visibility": null,
            "width": "100%"
          }
        },
        "32c1daaab328421da4b1f495ca397de9": {
          "model_module": "@jupyter-widgets/base",
          "model_name": "LayoutModel",
          "model_module_version": "1.2.0",
          "state": {
            "_model_module": "@jupyter-widgets/base",
            "_model_module_version": "1.2.0",
            "_model_name": "LayoutModel",
            "_view_count": null,
            "_view_module": "@jupyter-widgets/base",
            "_view_module_version": "1.2.0",
            "_view_name": "LayoutView",
            "align_content": null,
            "align_items": null,
            "align_self": null,
            "border": null,
            "bottom": null,
            "display": null,
            "flex": null,
            "flex_flow": null,
            "grid_area": null,
            "grid_auto_columns": null,
            "grid_auto_flow": null,
            "grid_auto_rows": null,
            "grid_column": null,
            "grid_gap": null,
            "grid_row": null,
            "grid_template_areas": null,
            "grid_template_columns": null,
            "grid_template_rows": null,
            "height": null,
            "justify_content": null,
            "justify_items": null,
            "left": null,
            "margin": null,
            "max_height": null,
            "max_width": null,
            "min_height": null,
            "min_width": null,
            "object_fit": null,
            "object_position": null,
            "order": null,
            "overflow": null,
            "overflow_x": null,
            "overflow_y": null,
            "padding": null,
            "right": null,
            "top": null,
            "visibility": null,
            "width": null
          }
        },
        "bb640918dc3143858bd3eaddf616a231": {
          "model_module": "@jupyter-widgets/controls",
          "model_name": "DescriptionStyleModel",
          "model_module_version": "1.5.0",
          "state": {
            "_model_module": "@jupyter-widgets/controls",
            "_model_module_version": "1.5.0",
            "_model_name": "DescriptionStyleModel",
            "_view_count": null,
            "_view_module": "@jupyter-widgets/base",
            "_view_module_version": "1.2.0",
            "_view_name": "StyleView",
            "description_width": ""
          }
        },
        "23d97fbc3ba848e28bc3393978be3226": {
          "model_module": "@jupyter-widgets/base",
          "model_name": "LayoutModel",
          "model_module_version": "1.2.0",
          "state": {
            "_model_module": "@jupyter-widgets/base",
            "_model_module_version": "1.2.0",
            "_model_name": "LayoutModel",
            "_view_count": null,
            "_view_module": "@jupyter-widgets/base",
            "_view_module_version": "1.2.0",
            "_view_name": "LayoutView",
            "align_content": null,
            "align_items": null,
            "align_self": null,
            "border": null,
            "bottom": null,
            "display": null,
            "flex": "2",
            "flex_flow": null,
            "grid_area": null,
            "grid_auto_columns": null,
            "grid_auto_flow": null,
            "grid_auto_rows": null,
            "grid_column": null,
            "grid_gap": null,
            "grid_row": null,
            "grid_template_areas": null,
            "grid_template_columns": null,
            "grid_template_rows": null,
            "height": null,
            "justify_content": null,
            "justify_items": null,
            "left": null,
            "margin": null,
            "max_height": null,
            "max_width": null,
            "min_height": null,
            "min_width": null,
            "object_fit": null,
            "object_position": null,
            "order": null,
            "overflow": null,
            "overflow_x": null,
            "overflow_y": null,
            "padding": null,
            "right": null,
            "top": null,
            "visibility": null,
            "width": null
          }
        },
        "5fb1de1a6bf344a8a509cbeb74782c45": {
          "model_module": "@jupyter-widgets/controls",
          "model_name": "ProgressStyleModel",
          "model_module_version": "1.5.0",
          "state": {
            "_model_module": "@jupyter-widgets/controls",
            "_model_module_version": "1.5.0",
            "_model_name": "ProgressStyleModel",
            "_view_count": null,
            "_view_module": "@jupyter-widgets/base",
            "_view_module_version": "1.2.0",
            "_view_name": "StyleView",
            "bar_color": null,
            "description_width": ""
          }
        },
        "cd4e3da641234d72b86963a060eb81fc": {
          "model_module": "@jupyter-widgets/base",
          "model_name": "LayoutModel",
          "model_module_version": "1.2.0",
          "state": {
            "_model_module": "@jupyter-widgets/base",
            "_model_module_version": "1.2.0",
            "_model_name": "LayoutModel",
            "_view_count": null,
            "_view_module": "@jupyter-widgets/base",
            "_view_module_version": "1.2.0",
            "_view_name": "LayoutView",
            "align_content": null,
            "align_items": null,
            "align_self": null,
            "border": null,
            "bottom": null,
            "display": null,
            "flex": null,
            "flex_flow": null,
            "grid_area": null,
            "grid_auto_columns": null,
            "grid_auto_flow": null,
            "grid_auto_rows": null,
            "grid_column": null,
            "grid_gap": null,
            "grid_row": null,
            "grid_template_areas": null,
            "grid_template_columns": null,
            "grid_template_rows": null,
            "height": null,
            "justify_content": null,
            "justify_items": null,
            "left": null,
            "margin": null,
            "max_height": null,
            "max_width": null,
            "min_height": null,
            "min_width": null,
            "object_fit": null,
            "object_position": null,
            "order": null,
            "overflow": null,
            "overflow_x": null,
            "overflow_y": null,
            "padding": null,
            "right": null,
            "top": null,
            "visibility": null,
            "width": null
          }
        },
        "3851ff8820fc4b4eb14c182875951183": {
          "model_module": "@jupyter-widgets/controls",
          "model_name": "DescriptionStyleModel",
          "model_module_version": "1.5.0",
          "state": {
            "_model_module": "@jupyter-widgets/controls",
            "_model_module_version": "1.5.0",
            "_model_name": "DescriptionStyleModel",
            "_view_count": null,
            "_view_module": "@jupyter-widgets/base",
            "_view_module_version": "1.2.0",
            "_view_name": "StyleView",
            "description_width": ""
          }
        },
        "bb35a7a5fcd74696b72224f8beb55450": {
          "model_module": "@jupyter-widgets/controls",
          "model_name": "HBoxModel",
          "model_module_version": "1.5.0",
          "state": {
            "_dom_classes": [],
            "_model_module": "@jupyter-widgets/controls",
            "_model_module_version": "1.5.0",
            "_model_name": "HBoxModel",
            "_view_count": null,
            "_view_module": "@jupyter-widgets/controls",
            "_view_module_version": "1.5.0",
            "_view_name": "HBoxView",
            "box_style": "",
            "children": [
              "IPY_MODEL_35ae65b2af4348d9ace384109803d8ab",
              "IPY_MODEL_70a70b501ba448e5ba5d6156fb81a231",
              "IPY_MODEL_b58430e4da82480a898682a20abea037"
            ],
            "layout": "IPY_MODEL_b0daaf081f27401dbd5f81b77df608d7"
          }
        },
        "35ae65b2af4348d9ace384109803d8ab": {
          "model_module": "@jupyter-widgets/controls",
          "model_name": "HTMLModel",
          "model_module_version": "1.5.0",
          "state": {
            "_dom_classes": [],
            "_model_module": "@jupyter-widgets/controls",
            "_model_module_version": "1.5.0",
            "_model_name": "HTMLModel",
            "_view_count": null,
            "_view_module": "@jupyter-widgets/controls",
            "_view_module_version": "1.5.0",
            "_view_name": "HTMLView",
            "description": "",
            "description_tooltip": null,
            "layout": "IPY_MODEL_7a4a47495af04d3ead01dff22c3c974e",
            "placeholder": "​",
            "style": "IPY_MODEL_89252bc87cd44274b5c1d531191bbfdb",
            "value": "Predicting DataLoader 0: 100%"
          }
        },
        "70a70b501ba448e5ba5d6156fb81a231": {
          "model_module": "@jupyter-widgets/controls",
          "model_name": "FloatProgressModel",
          "model_module_version": "1.5.0",
          "state": {
            "_dom_classes": [],
            "_model_module": "@jupyter-widgets/controls",
            "_model_module_version": "1.5.0",
            "_model_name": "FloatProgressModel",
            "_view_count": null,
            "_view_module": "@jupyter-widgets/controls",
            "_view_module_version": "1.5.0",
            "_view_name": "ProgressView",
            "bar_style": "success",
            "description": "",
            "description_tooltip": null,
            "layout": "IPY_MODEL_b303e64ddfd14689a1d34c343fde4aa5",
            "max": 1,
            "min": 0,
            "orientation": "horizontal",
            "style": "IPY_MODEL_ee7987b1baa145dab20076f0eb7f2d0b",
            "value": 1
          }
        },
        "b58430e4da82480a898682a20abea037": {
          "model_module": "@jupyter-widgets/controls",
          "model_name": "HTMLModel",
          "model_module_version": "1.5.0",
          "state": {
            "_dom_classes": [],
            "_model_module": "@jupyter-widgets/controls",
            "_model_module_version": "1.5.0",
            "_model_name": "HTMLModel",
            "_view_count": null,
            "_view_module": "@jupyter-widgets/controls",
            "_view_module_version": "1.5.0",
            "_view_name": "HTMLView",
            "description": "",
            "description_tooltip": null,
            "layout": "IPY_MODEL_1b32831f68d6463bb94385be8e6cd805",
            "placeholder": "​",
            "style": "IPY_MODEL_3d929c0e4b00408da875e94df44fc4f4",
            "value": " 1/1 [00:03&lt;00:00, -5.65it/s]"
          }
        },
        "b0daaf081f27401dbd5f81b77df608d7": {
          "model_module": "@jupyter-widgets/base",
          "model_name": "LayoutModel",
          "model_module_version": "1.2.0",
          "state": {
            "_model_module": "@jupyter-widgets/base",
            "_model_module_version": "1.2.0",
            "_model_name": "LayoutModel",
            "_view_count": null,
            "_view_module": "@jupyter-widgets/base",
            "_view_module_version": "1.2.0",
            "_view_name": "LayoutView",
            "align_content": null,
            "align_items": null,
            "align_self": null,
            "border": null,
            "bottom": null,
            "display": "inline-flex",
            "flex": null,
            "flex_flow": "row wrap",
            "grid_area": null,
            "grid_auto_columns": null,
            "grid_auto_flow": null,
            "grid_auto_rows": null,
            "grid_column": null,
            "grid_gap": null,
            "grid_row": null,
            "grid_template_areas": null,
            "grid_template_columns": null,
            "grid_template_rows": null,
            "height": null,
            "justify_content": null,
            "justify_items": null,
            "left": null,
            "margin": null,
            "max_height": null,
            "max_width": null,
            "min_height": null,
            "min_width": null,
            "object_fit": null,
            "object_position": null,
            "order": null,
            "overflow": null,
            "overflow_x": null,
            "overflow_y": null,
            "padding": null,
            "right": null,
            "top": null,
            "visibility": null,
            "width": "100%"
          }
        },
        "7a4a47495af04d3ead01dff22c3c974e": {
          "model_module": "@jupyter-widgets/base",
          "model_name": "LayoutModel",
          "model_module_version": "1.2.0",
          "state": {
            "_model_module": "@jupyter-widgets/base",
            "_model_module_version": "1.2.0",
            "_model_name": "LayoutModel",
            "_view_count": null,
            "_view_module": "@jupyter-widgets/base",
            "_view_module_version": "1.2.0",
            "_view_name": "LayoutView",
            "align_content": null,
            "align_items": null,
            "align_self": null,
            "border": null,
            "bottom": null,
            "display": null,
            "flex": null,
            "flex_flow": null,
            "grid_area": null,
            "grid_auto_columns": null,
            "grid_auto_flow": null,
            "grid_auto_rows": null,
            "grid_column": null,
            "grid_gap": null,
            "grid_row": null,
            "grid_template_areas": null,
            "grid_template_columns": null,
            "grid_template_rows": null,
            "height": null,
            "justify_content": null,
            "justify_items": null,
            "left": null,
            "margin": null,
            "max_height": null,
            "max_width": null,
            "min_height": null,
            "min_width": null,
            "object_fit": null,
            "object_position": null,
            "order": null,
            "overflow": null,
            "overflow_x": null,
            "overflow_y": null,
            "padding": null,
            "right": null,
            "top": null,
            "visibility": null,
            "width": null
          }
        },
        "89252bc87cd44274b5c1d531191bbfdb": {
          "model_module": "@jupyter-widgets/controls",
          "model_name": "DescriptionStyleModel",
          "model_module_version": "1.5.0",
          "state": {
            "_model_module": "@jupyter-widgets/controls",
            "_model_module_version": "1.5.0",
            "_model_name": "DescriptionStyleModel",
            "_view_count": null,
            "_view_module": "@jupyter-widgets/base",
            "_view_module_version": "1.2.0",
            "_view_name": "StyleView",
            "description_width": ""
          }
        },
        "b303e64ddfd14689a1d34c343fde4aa5": {
          "model_module": "@jupyter-widgets/base",
          "model_name": "LayoutModel",
          "model_module_version": "1.2.0",
          "state": {
            "_model_module": "@jupyter-widgets/base",
            "_model_module_version": "1.2.0",
            "_model_name": "LayoutModel",
            "_view_count": null,
            "_view_module": "@jupyter-widgets/base",
            "_view_module_version": "1.2.0",
            "_view_name": "LayoutView",
            "align_content": null,
            "align_items": null,
            "align_self": null,
            "border": null,
            "bottom": null,
            "display": null,
            "flex": "2",
            "flex_flow": null,
            "grid_area": null,
            "grid_auto_columns": null,
            "grid_auto_flow": null,
            "grid_auto_rows": null,
            "grid_column": null,
            "grid_gap": null,
            "grid_row": null,
            "grid_template_areas": null,
            "grid_template_columns": null,
            "grid_template_rows": null,
            "height": null,
            "justify_content": null,
            "justify_items": null,
            "left": null,
            "margin": null,
            "max_height": null,
            "max_width": null,
            "min_height": null,
            "min_width": null,
            "object_fit": null,
            "object_position": null,
            "order": null,
            "overflow": null,
            "overflow_x": null,
            "overflow_y": null,
            "padding": null,
            "right": null,
            "top": null,
            "visibility": null,
            "width": null
          }
        },
        "ee7987b1baa145dab20076f0eb7f2d0b": {
          "model_module": "@jupyter-widgets/controls",
          "model_name": "ProgressStyleModel",
          "model_module_version": "1.5.0",
          "state": {
            "_model_module": "@jupyter-widgets/controls",
            "_model_module_version": "1.5.0",
            "_model_name": "ProgressStyleModel",
            "_view_count": null,
            "_view_module": "@jupyter-widgets/base",
            "_view_module_version": "1.2.0",
            "_view_name": "StyleView",
            "bar_color": null,
            "description_width": ""
          }
        },
        "1b32831f68d6463bb94385be8e6cd805": {
          "model_module": "@jupyter-widgets/base",
          "model_name": "LayoutModel",
          "model_module_version": "1.2.0",
          "state": {
            "_model_module": "@jupyter-widgets/base",
            "_model_module_version": "1.2.0",
            "_model_name": "LayoutModel",
            "_view_count": null,
            "_view_module": "@jupyter-widgets/base",
            "_view_module_version": "1.2.0",
            "_view_name": "LayoutView",
            "align_content": null,
            "align_items": null,
            "align_self": null,
            "border": null,
            "bottom": null,
            "display": null,
            "flex": null,
            "flex_flow": null,
            "grid_area": null,
            "grid_auto_columns": null,
            "grid_auto_flow": null,
            "grid_auto_rows": null,
            "grid_column": null,
            "grid_gap": null,
            "grid_row": null,
            "grid_template_areas": null,
            "grid_template_columns": null,
            "grid_template_rows": null,
            "height": null,
            "justify_content": null,
            "justify_items": null,
            "left": null,
            "margin": null,
            "max_height": null,
            "max_width": null,
            "min_height": null,
            "min_width": null,
            "object_fit": null,
            "object_position": null,
            "order": null,
            "overflow": null,
            "overflow_x": null,
            "overflow_y": null,
            "padding": null,
            "right": null,
            "top": null,
            "visibility": null,
            "width": null
          }
        },
        "3d929c0e4b00408da875e94df44fc4f4": {
          "model_module": "@jupyter-widgets/controls",
          "model_name": "DescriptionStyleModel",
          "model_module_version": "1.5.0",
          "state": {
            "_model_module": "@jupyter-widgets/controls",
            "_model_module_version": "1.5.0",
            "_model_name": "DescriptionStyleModel",
            "_view_count": null,
            "_view_module": "@jupyter-widgets/base",
            "_view_module_version": "1.2.0",
            "_view_name": "StyleView",
            "description_width": ""
          }
        }
      }
    }
  },
  "cells": [
    {
      "cell_type": "markdown",
      "metadata": {
        "id": "view-in-github",
        "colab_type": "text"
      },
      "source": [
        "<a href=\"https://colab.research.google.com/github/aramasethu/CS_573_project/blob/main/Neural_net_timeseries_forecast_other_countries.ipynb\" target=\"_parent\"><img src=\"https://colab.research.google.com/assets/colab-badge.svg\" alt=\"Open In Colab\"/></a>"
      ]
    },
    {
      "cell_type": "markdown",
      "source": [
        "## Mounting google drive"
      ],
      "metadata": {
        "id": "Vii_9x1-r8_3"
      }
    },
    {
      "cell_type": "code",
      "source": [
        "!pip install darts\n",
        "!pip install pyyaml==5.4.1\n",
        "import pandas as pd\n",
        "import numpy as np\n",
        "from matplotlib import pyplot as plt\n",
        "import numpy as np\n",
        "import pandas as pd\n",
        "import matplotlib.pyplot as plt\n",
        "import seaborn as sns\n",
        "import os\n",
        "import sys\n",
        "import missingno as mno\n",
        "\n",
        "import warnings\n",
        "warnings.filterwarnings(\"ignore\")\n",
        "import logging\n",
        "logging.disable(logging.CRITICAL)\n",
        "\n",
        "\n",
        "from darts import TimeSeries, concatenate\n",
        "from darts.dataprocessing.transformers import Scaler\n",
        "from darts.models import TransformerModel\n",
        "from darts.metrics import mape, rmse\n",
        "from darts.utils.timeseries_generation import datetime_attribute_timeseries\n",
        "from darts.utils.likelihood_models import QuantileRegression\n",
        "\n",
        "\n",
        "pd.set_option(\"display.precision\",2)\n",
        "np.set_printoptions(precision=2, suppress=True)\n",
        "pd.options.display.float_format = '{:,.2f}'.format"
      ],
      "metadata": {
        "id": "oYKymfFysBYM"
      },
      "execution_count": 2,
      "outputs": []
    },
    {
      "cell_type": "code",
      "source": [
        "from google.colab import drive\n",
        "drive.mount('/content/drive')"
      ],
      "metadata": {
        "colab": {
          "base_uri": "https://localhost:8080/"
        },
        "id": "z45HXL30sGFi",
        "outputId": "9166ca95-385a-4bda-a8a9-dd6ba9eed2aa"
      },
      "execution_count": 3,
      "outputs": [
        {
          "output_type": "stream",
          "name": "stdout",
          "text": [
            "Mounted at /content/drive\n"
          ]
        }
      ]
    },
    {
      "cell_type": "markdown",
      "source": [
        "## Mobility data"
      ],
      "metadata": {
        "id": "NsyztHaEsZ3i"
      }
    },
    {
      "cell_type": "code",
      "source": [
        "mobility = pd.read_csv (r'/content/drive/MyDrive/CS_573_Group_project/Data/Global_Mobility_Report.csv')"
      ],
      "metadata": {
        "id": "iA4uDmmAsIrx"
      },
      "execution_count": 4,
      "outputs": []
    },
    {
      "cell_type": "code",
      "source": [
        "mobility_country1 = mobility[mobility['sub_region_1'].isna()]\n",
        "mobility_country = mobility_country1[mobility_country1['metro_area'].isna()]"
      ],
      "metadata": {
        "id": "RUdKB5X4sLGC"
      },
      "execution_count": 5,
      "outputs": []
    },
    {
      "cell_type": "code",
      "source": [
        "mobility_country = mobility_country.drop(columns=['country_region_code','sub_region_1', 'sub_region_2','metro_area', 'iso_3166_2_code','census_fips_code','place_id'])"
      ],
      "metadata": {
        "id": "FTVbyNetsNF6"
      },
      "execution_count": 6,
      "outputs": []
    },
    {
      "cell_type": "code",
      "source": [
        "mobility_country['date'] = mobility_country['date'].astype('datetime64[ns]')"
      ],
      "metadata": {
        "id": "-zLNe_hXsPWX"
      },
      "execution_count": 7,
      "outputs": []
    },
    {
      "cell_type": "code",
      "source": [
        "mobility_country = mobility_country.rename(columns={ 'country_region': 'country'})"
      ],
      "metadata": {
        "id": "-AkM2piisVNT"
      },
      "execution_count": 8,
      "outputs": []
    },
    {
      "cell_type": "markdown",
      "source": [
        "## Vaccination data loading"
      ],
      "metadata": {
        "id": "L41IPJ_0sd3S"
      }
    },
    {
      "cell_type": "code",
      "source": [
        "vec_cases = pd.read_csv(r'/content/drive/MyDrive/CS_573_Group_project/Data/owid-covid-data.csv')"
      ],
      "metadata": {
        "id": "Q6AXhfT1sf94"
      },
      "execution_count": 9,
      "outputs": []
    },
    {
      "cell_type": "code",
      "source": [
        "vec_cases_scraped = vec_cases[['location', 'date', 'total_cases', 'total_deaths', 'population',\n",
        "                              'new_vaccinations_smoothed', 'new_people_vaccinated_smoothed']]"
      ],
      "metadata": {
        "id": "Uw6yG2WSsjS6"
      },
      "execution_count": 10,
      "outputs": []
    },
    {
      "cell_type": "code",
      "source": [
        "vec_cases_new = vec_cases_scraped.copy()"
      ],
      "metadata": {
        "id": "KiVesiOas0Zn"
      },
      "execution_count": 11,
      "outputs": []
    },
    {
      "cell_type": "code",
      "source": [
        "vec_cases_new['total_cases'] = vec_cases_new['total_cases'].replace(np.nan, 0)\n",
        "vec_cases_new['total_deaths'] = vec_cases_new['total_deaths'].replace(np.nan, 0)\n",
        "vec_cases_new['new_vaccinations_smoothed'] = vec_cases_new['new_vaccinations_smoothed'].replace(np.nan, 0)\n",
        "vec_cases_new['new_people_vaccinated_smoothed'] = vec_cases_new['new_people_vaccinated_smoothed'].replace(np.nan, 0)"
      ],
      "metadata": {
        "id": "cpahdFjbsm9u"
      },
      "execution_count": 12,
      "outputs": []
    },
    {
      "cell_type": "code",
      "source": [
        "\n",
        "vec_cases_new['date'] = pd.to_datetime(vec_cases_new['date']).dt.strftime('%Y/%m/%d')"
      ],
      "metadata": {
        "id": "6q2e6TD9tkyr"
      },
      "execution_count": 13,
      "outputs": []
    },
    {
      "cell_type": "code",
      "source": [
        "vec_cases_new = vec_cases_new.rename(columns={'location': 'country'})"
      ],
      "metadata": {
        "id": "NsHXTYeowc1F"
      },
      "execution_count": 14,
      "outputs": []
    },
    {
      "cell_type": "code",
      "source": [
        "vec_cases_new['date'] = vec_cases_new['date'].astype('datetime64[ns]')"
      ],
      "metadata": {
        "id": "iz3WoBUcwhF5"
      },
      "execution_count": 15,
      "outputs": []
    },
    {
      "cell_type": "markdown",
      "source": [
        "## Lockdown data"
      ],
      "metadata": {
        "id": "OPFy3QLpwkRY"
      }
    },
    {
      "cell_type": "code",
      "source": [
        "lockdown = pd.read_excel (r'/content/drive/MyDrive/CS_573_Group_project/Data/OxCGRT_timeseries_all.xlsx')"
      ],
      "metadata": {
        "id": "X9cfkVjgwmH7"
      },
      "execution_count": 16,
      "outputs": []
    },
    {
      "cell_type": "code",
      "source": [
        "lockdown_new = lockdown.drop(columns={\"country_name\",\"country_code\"})\n",
        "lockdown_new.columns = pd.to_datetime(lockdown_new.columns)"
      ],
      "metadata": {
        "id": "ZkGf02eow4S-"
      },
      "execution_count": 17,
      "outputs": []
    },
    {
      "cell_type": "code",
      "source": [
        "lockdown_input = pd.DataFrame(columns=[\"country_name\",\"lockdown_index\",\"date\"])\n",
        "for i in range(lockdown_new.shape[1]):\n",
        "  country = lockdown[{\"country_name\"}]\n",
        "  index = lockdown_new.iloc[:,i]\n",
        "  index_con = pd.concat([country,index], axis=1, ignore_index=True)\n",
        "  index_con[\"date\"] = index.name\n",
        "  index_con = index_con.rename(columns={0: 'country_name',  1: 'lockdown_index'})\n",
        "  lockdown_input = pd.concat([lockdown_input,index_con],ignore_index=True)"
      ],
      "metadata": {
        "id": "ZA2YQSFPw6Dg"
      },
      "execution_count": 18,
      "outputs": []
    },
    {
      "cell_type": "code",
      "source": [
        "lockdown_input = lockdown_input.sort_values('country_name',ascending=True)"
      ],
      "metadata": {
        "id": "SKzdhKOGw71r"
      },
      "execution_count": 19,
      "outputs": []
    },
    {
      "cell_type": "code",
      "source": [
        "lockdown_input = lockdown_input.rename(columns={\"country_name\":\"country\"})"
      ],
      "metadata": {
        "id": "JkccBzVew9Rw"
      },
      "execution_count": 20,
      "outputs": []
    },
    {
      "cell_type": "markdown",
      "source": [
        "## Merge all datasets"
      ],
      "metadata": {
        "id": "fUId34P0xNAY"
      }
    },
    {
      "cell_type": "code",
      "source": [
        "df_merged1 = vec_cases_new.merge(mobility_country, on=['country', 'date'])"
      ],
      "metadata": {
        "id": "Deh1go8DxO1Z"
      },
      "execution_count": 75,
      "outputs": []
    },
    {
      "cell_type": "code",
      "source": [
        "df_merged1.shape"
      ],
      "metadata": {
        "colab": {
          "base_uri": "https://localhost:8080/"
        },
        "id": "HI1GUwaSxhbd",
        "outputId": "1b1f289e-046d-4cc2-fde9-f70c79a61fcf"
      },
      "execution_count": 76,
      "outputs": [
        {
          "output_type": "execute_result",
          "data": {
            "text/plain": [
              "(97134, 13)"
            ]
          },
          "metadata": {},
          "execution_count": 76
        }
      ]
    },
    {
      "cell_type": "code",
      "source": [
        "df_merged = df_merged1.merge(lockdown_input, on=['country', 'date'])"
      ],
      "metadata": {
        "id": "gmGaY3qIxYD8"
      },
      "execution_count": 77,
      "outputs": []
    },
    {
      "cell_type": "code",
      "source": [
        "df_merged['weekday'] = df_merged['date'].dt.dayofweek"
      ],
      "metadata": {
        "id": "dDYOigp5xkq4"
      },
      "execution_count": 78,
      "outputs": []
    },
    {
      "cell_type": "code",
      "source": [
        ""
      ],
      "metadata": {
        "id": "O4SkiQsKoWF5"
      },
      "execution_count": 78,
      "outputs": []
    },
    {
      "cell_type": "code",
      "source": [
        "# cases\n",
        "df_merged = df_merged.sort_values(by=['country', 'date'])\n",
        "df_merged['new_cases_raw']=df_merged.groupby(['country'])['total_cases'].diff().fillna(0)\n",
        "df_merged['cases_ppm'] = (df_merged['new_cases_raw'] / df_merged['population'])*1000000\n",
        "\n",
        "# deaths\n",
        "df_merged['new_deaths_raw']=df_merged.groupby(['country'])['total_deaths'].diff().fillna(0)\n",
        "df_merged['deaths_ppm'] = (df_merged['new_deaths_raw'] / df_merged['population'])*1000000\n",
        "\n",
        "# vaccination cumulative\n",
        "df_merged['total_vaccinations'] = df_merged.groupby(['country'])['new_people_vaccinated_smoothed'].cumsum()\n",
        "df_merged['percentage_vaccinated'] = df_merged['total_vaccinations']/df_merged['population']\n"
      ],
      "metadata": {
        "id": "RoQTQKTRhuVg"
      },
      "execution_count": 79,
      "outputs": []
    },
    {
      "cell_type": "code",
      "source": [
        "def f(row):\n",
        "    if row['date'] >= pd.to_datetime(\"2020-12-18\", format='%Y-%m-%d') and row['date']<pd.to_datetime(\"2021-01-11\", format='%Y-%m-%d'):\n",
        "        val = 1.0\n",
        "    elif row['date'] >= pd.to_datetime(\"2021-01-11\", format='%Y-%m-%d') and row['date']<pd.to_datetime(\"2021-05-11\", format='%Y-%m-%d'):\n",
        "        val = 2.0\n",
        "    elif row['date'] >= pd.to_datetime(\"2021-05-11\", format='%Y-%m-%d') and row['date']<pd.to_datetime(\"2021-11-26\", format='%Y-%m-%d'):\n",
        "      val = 3.0\n",
        "    elif row['date'] >= pd.to_datetime(\"2021-11-26\", format='%Y-%m-%d'):\n",
        "      val = 4.0\n",
        "    else:\n",
        "        val = 0\n",
        "    return val\n",
        "df_merged['variant'] = df_merged.apply(f, axis=1)\n"
      ],
      "metadata": {
        "id": "QrC5yF9JoW3W"
      },
      "execution_count": 84,
      "outputs": []
    },
    {
      "cell_type": "code",
      "source": [
        "df_merged.dtypes"
      ],
      "metadata": {
        "id": "HJvfo38RpknO",
        "outputId": "c21df13c-68d1-4c3c-eecc-1380a7959c7a",
        "colab": {
          "base_uri": "https://localhost:8080/"
        }
      },
      "execution_count": 85,
      "outputs": [
        {
          "output_type": "execute_result",
          "data": {
            "text/plain": [
              "country                                                       object\n",
              "date                                                  datetime64[ns]\n",
              "total_cases                                                  float64\n",
              "total_deaths                                                 float64\n",
              "population                                                   float64\n",
              "new_vaccinations_smoothed                                    float64\n",
              "new_people_vaccinated_smoothed                               float64\n",
              "retail_and_recreation_percent_change_from_baseline           float64\n",
              "grocery_and_pharmacy_percent_change_from_baseline            float64\n",
              "parks_percent_change_from_baseline                           float64\n",
              "transit_stations_percent_change_from_baseline                float64\n",
              "workplaces_percent_change_from_baseline                      float64\n",
              "residential_percent_change_from_baseline                     float64\n",
              "lockdown_index                                               float64\n",
              "weekday                                                        int64\n",
              "new_cases_raw                                                float64\n",
              "cases_ppm                                                    float64\n",
              "new_deaths_raw                                               float64\n",
              "deaths_ppm                                                   float64\n",
              "total_vaccinations                                           float64\n",
              "percentage_vaccinated                                        float64\n",
              "variant                                                      float64\n",
              "dtype: object"
            ]
          },
          "metadata": {},
          "execution_count": 85
        }
      ]
    },
    {
      "cell_type": "code",
      "source": [
        "df_merged = df_merged.dropna()"
      ],
      "metadata": {
        "id": "e44vsQxwZXsa"
      },
      "execution_count": 206,
      "outputs": []
    },
    {
      "cell_type": "code",
      "source": [
        "df_merged_US = df_merged.query(\"country == 'United States'\")"
      ],
      "metadata": {
        "id": "pSYcbuc9sLNm"
      },
      "execution_count": 27,
      "outputs": []
    },
    {
      "cell_type": "code",
      "source": [
        "df_merged_UK.dtypes"
      ],
      "metadata": {
        "id": "mAEjiFvcxB8O",
        "outputId": "b1bdd442-0028-4ed7-bf17-de35d7aefb6b",
        "colab": {
          "base_uri": "https://localhost:8080/"
        }
      },
      "execution_count": 326,
      "outputs": [
        {
          "output_type": "execute_result",
          "data": {
            "text/plain": [
              "country                                                       object\n",
              "date                                                  datetime64[ns]\n",
              "total_cases                                                  float64\n",
              "total_deaths                                                 float64\n",
              "population                                                   float64\n",
              "new_vaccinations_smoothed                                    float64\n",
              "new_people_vaccinated_smoothed                               float64\n",
              "retail_and_recreation_percent_change_from_baseline           float64\n",
              "grocery_and_pharmacy_percent_change_from_baseline            float64\n",
              "parks_percent_change_from_baseline                           float64\n",
              "transit_stations_percent_change_from_baseline                float64\n",
              "workplaces_percent_change_from_baseline                      float64\n",
              "residential_percent_change_from_baseline                     float64\n",
              "lockdown_index                                               float64\n",
              "weekday                                                        int64\n",
              "new_cases_raw                                                float64\n",
              "cases_ppm                                                    float64\n",
              "new_deaths_raw                                               float64\n",
              "deaths_ppm                                                   float64\n",
              "total_vaccinations                                           float64\n",
              "percentage_vaccinated                                        float64\n",
              "variant                                                      float64\n",
              "dtype: object"
            ]
          },
          "metadata": {},
          "execution_count": 326
        }
      ]
    },
    {
      "cell_type": "markdown",
      "source": [
        "### Lag model"
      ],
      "metadata": {
        "id": "8U350WdhsMJ9"
      }
    },
    {
      "cell_type": "code",
      "source": [
        "from statsmodels.tsa.stattools import grangercausalitytests\n",
        "import statsmodels as sm"
      ],
      "metadata": {
        "id": "ashtoY9esOlT",
        "outputId": "18e85c1b-376a-45cd-fce4-ae50946d0295",
        "colab": {
          "base_uri": "https://localhost:8080/"
        }
      },
      "execution_count": null,
      "outputs": [
        {
          "output_type": "stream",
          "name": "stderr",
          "text": [
            "/usr/local/lib/python3.7/dist-packages/statsmodels/tools/_testing.py:19: FutureWarning: pandas.util.testing is deprecated. Use the functions in the public API at pandas.testing instead.\n",
            "  import pandas.util.testing as tm\n"
          ]
        }
      ]
    },
    {
      "cell_type": "code",
      "source": [
        "sm.__version__"
      ],
      "metadata": {
        "id": "zB_jQxbwxyoV",
        "outputId": "524a5108-e192-471f-fcc2-c3e5e2444bb5",
        "colab": {
          "base_uri": "https://localhost:8080/",
          "height": 35
        }
      },
      "execution_count": null,
      "outputs": [
        {
          "output_type": "execute_result",
          "data": {
            "text/plain": [
              "'0.10.2'"
            ],
            "application/vnd.google.colaboratory.intrinsic+json": {
              "type": "string"
            }
          },
          "metadata": {},
          "execution_count": 30
        }
      ]
    },
    {
      "cell_type": "code",
      "source": [
        "df_merged_US.dtypes"
      ],
      "metadata": {
        "id": "2iedmzwfxqss",
        "outputId": "3801c1bf-5703-4f56-e9dd-118514f0e3b5",
        "colab": {
          "base_uri": "https://localhost:8080/"
        }
      },
      "execution_count": null,
      "outputs": [
        {
          "output_type": "execute_result",
          "data": {
            "text/plain": [
              "country                                                       object\n",
              "date                                                  datetime64[ns]\n",
              "total_cases                                                  float64\n",
              "total_deaths                                                 float64\n",
              "population                                                   float64\n",
              "new_vaccinations_smoothed                                    float64\n",
              "new_people_vaccinated_smoothed                               float64\n",
              "retail_and_recreation_percent_change_from_baseline           float64\n",
              "grocery_and_pharmacy_percent_change_from_baseline            float64\n",
              "parks_percent_change_from_baseline                           float64\n",
              "transit_stations_percent_change_from_baseline                float64\n",
              "workplaces_percent_change_from_baseline                      float64\n",
              "residential_percent_change_from_baseline                     float64\n",
              "lockdown_index                                               float64\n",
              "weekday                                                        int64\n",
              "new_cases_raw                                                float64\n",
              "cases_ppm                                                    float64\n",
              "new_deaths_raw                                               float64\n",
              "deaths_ppm                                                   float64\n",
              "total_vaccinations                                           float64\n",
              "dtype: object"
            ]
          },
          "metadata": {},
          "execution_count": 31
        }
      ]
    },
    {
      "cell_type": "code",
      "source": [
        "gc_res = sm.tsa.stattools.grangercausalitytests(df_merged_US[['total_cases', 'workplaces_percent_change_from_baseline']],maxlag=10)"
      ],
      "metadata": {
        "id": "cCZ34CY9thoL",
        "outputId": "febd880f-8b2d-46c2-8370-12e37654e90d",
        "colab": {
          "base_uri": "https://localhost:8080/"
        }
      },
      "execution_count": null,
      "outputs": [
        {
          "output_type": "stream",
          "name": "stdout",
          "text": [
            "\n",
            "Granger Causality\n",
            "number of lags (no zero) 1\n",
            "ssr based F test:         F=16.0506 , p=0.0001  , df_denom=757, df_num=1\n",
            "ssr based chi2 test:   chi2=16.1142 , p=0.0001  , df=1\n",
            "likelihood ratio test: chi2=15.9458 , p=0.0001  , df=1\n",
            "parameter F test:         F=16.0506 , p=0.0001  , df_denom=757, df_num=1\n",
            "\n",
            "Granger Causality\n",
            "number of lags (no zero) 2\n",
            "ssr based F test:         F=0.1037  , p=0.9016  , df_denom=754, df_num=2\n",
            "ssr based chi2 test:   chi2=0.2087  , p=0.9009  , df=2\n",
            "likelihood ratio test: chi2=0.2086  , p=0.9009  , df=2\n",
            "parameter F test:         F=0.1037  , p=0.9016  , df_denom=754, df_num=2\n",
            "\n",
            "Granger Causality\n",
            "number of lags (no zero) 3\n",
            "ssr based F test:         F=4.1741  , p=0.0061  , df_denom=751, df_num=3\n",
            "ssr based chi2 test:   chi2=12.6390 , p=0.0055  , df=3\n",
            "likelihood ratio test: chi2=12.5348 , p=0.0058  , df=3\n",
            "parameter F test:         F=4.1741  , p=0.0061  , df_denom=751, df_num=3\n",
            "\n",
            "Granger Causality\n",
            "number of lags (no zero) 4\n",
            "ssr based F test:         F=1.3341  , p=0.2556  , df_denom=748, df_num=4\n",
            "ssr based chi2 test:   chi2=5.4007  , p=0.2486  , df=4\n",
            "likelihood ratio test: chi2=5.3815  , p=0.2503  , df=4\n",
            "parameter F test:         F=1.3341  , p=0.2556  , df_denom=748, df_num=4\n",
            "\n",
            "Granger Causality\n",
            "number of lags (no zero) 5\n",
            "ssr based F test:         F=1.0652  , p=0.3784  , df_denom=745, df_num=5\n",
            "ssr based chi2 test:   chi2=5.4045  , p=0.3685  , df=5\n",
            "likelihood ratio test: chi2=5.3853  , p=0.3707  , df=5\n",
            "parameter F test:         F=1.0652  , p=0.3784  , df_denom=745, df_num=5\n",
            "\n",
            "Granger Causality\n",
            "number of lags (no zero) 6\n",
            "ssr based F test:         F=4.2263  , p=0.0003  , df_denom=742, df_num=6\n",
            "ssr based chi2 test:   chi2=25.8018 , p=0.0002  , df=6\n",
            "likelihood ratio test: chi2=25.3707 , p=0.0003  , df=6\n",
            "parameter F test:         F=4.2263  , p=0.0003  , df_denom=742, df_num=6\n",
            "\n",
            "Granger Causality\n",
            "number of lags (no zero) 7\n",
            "ssr based F test:         F=6.3841  , p=0.0000  , df_denom=739, df_num=7\n",
            "ssr based chi2 test:   chi2=45.5954 , p=0.0000  , df=7\n",
            "likelihood ratio test: chi2=44.2700 , p=0.0000  , df=7\n",
            "parameter F test:         F=6.3841  , p=0.0000  , df_denom=739, df_num=7\n",
            "\n",
            "Granger Causality\n",
            "number of lags (no zero) 8\n",
            "ssr based F test:         F=6.7438  , p=0.0000  , df_denom=736, df_num=8\n",
            "ssr based chi2 test:   chi2=55.1962 , p=0.0000  , df=8\n",
            "likelihood ratio test: chi2=53.2670 , p=0.0000  , df=8\n",
            "parameter F test:         F=6.7438  , p=0.0000  , df_denom=736, df_num=8\n",
            "\n",
            "Granger Causality\n",
            "number of lags (no zero) 9\n",
            "ssr based F test:         F=6.6890  , p=0.0000  , df_denom=733, df_num=9\n",
            "ssr based chi2 test:   chi2=61.7616 , p=0.0000  , df=9\n",
            "likelihood ratio test: chi2=59.3562 , p=0.0000  , df=9\n",
            "parameter F test:         F=6.6890  , p=0.0000  , df_denom=733, df_num=9\n",
            "\n",
            "Granger Causality\n",
            "number of lags (no zero) 10\n",
            "ssr based F test:         F=5.6697  , p=0.0000  , df_denom=730, df_num=10\n",
            "ssr based chi2 test:   chi2=58.3284 , p=0.0000  , df=10\n",
            "likelihood ratio test: chi2=56.1741 , p=0.0000  , df=10\n",
            "parameter F test:         F=5.6697  , p=0.0000  , df_denom=730, df_num=10\n"
          ]
        }
      ]
    },
    {
      "cell_type": "code",
      "source": [
        "df_merged_US.dtypes"
      ],
      "metadata": {
        "id": "WJfl47r6P17m",
        "outputId": "7c92331c-bee9-498b-f6b0-63e76b0d8d4d",
        "colab": {
          "base_uri": "https://localhost:8080/"
        }
      },
      "execution_count": 34,
      "outputs": [
        {
          "output_type": "execute_result",
          "data": {
            "text/plain": [
              "country                                                       object\n",
              "date                                                  datetime64[ns]\n",
              "total_cases                                                  float64\n",
              "total_deaths                                                 float64\n",
              "population                                                   float64\n",
              "new_vaccinations_smoothed                                    float64\n",
              "new_people_vaccinated_smoothed                               float64\n",
              "retail_and_recreation_percent_change_from_baseline           float64\n",
              "grocery_and_pharmacy_percent_change_from_baseline            float64\n",
              "parks_percent_change_from_baseline                           float64\n",
              "transit_stations_percent_change_from_baseline                float64\n",
              "workplaces_percent_change_from_baseline                      float64\n",
              "residential_percent_change_from_baseline                     float64\n",
              "lockdown_index                                               float64\n",
              "weekday                                                        int64\n",
              "new_cases_raw                                                float64\n",
              "cases_ppm                                                    float64\n",
              "new_deaths_raw                                               float64\n",
              "deaths_ppm                                                   float64\n",
              "total_vaccinations                                           float64\n",
              "percentage_vaccinated                                        float64\n",
              "dtype: object"
            ]
          },
          "metadata": {},
          "execution_count": 34
        }
      ]
    },
    {
      "cell_type": "code",
      "source": [
        "df_sub = df_merged_US[['deaths_ppm', 'cases_ppm', 'percentage_vaccinated', 'workplaces_percent_change_from_baseline', \\\n",
        "                       'residential_percent_change_from_baseline', 'lockdown_index', 'date',\\\n",
        "                       'retail_and_recreation_percent_change_from_baseline','grocery_and_pharmacy_percent_change_from_baseline',\\\n",
        "                       'parks_percent_change_from_baseline','residential_percent_change_from_baseline']]"
      ],
      "metadata": {
        "id": "-qYM7fCSNUJ4"
      },
      "execution_count": 62,
      "outputs": []
    },
    {
      "cell_type": "code",
      "source": [
        "series = df_sub[[5, 4]]\n",
        "series.plot()\n"
      ],
      "metadata": {
        "id": "c8vtA7alQK50"
      },
      "execution_count": null,
      "outputs": []
    },
    {
      "cell_type": "code",
      "source": [
        "series = df_sub[[3, 4]]\n",
        "series.plot()"
      ],
      "metadata": {
        "id": "S35ZZlw1QV0k"
      },
      "execution_count": null,
      "outputs": []
    },
    {
      "cell_type": "code",
      "source": [
        "df_sub.dtypes"
      ],
      "metadata": {
        "id": "itUHWncIXies",
        "outputId": "bc043d41-49df-4dfc-f994-9d4d486b00cb",
        "colab": {
          "base_uri": "https://localhost:8080/"
        }
      },
      "execution_count": 63,
      "outputs": [
        {
          "output_type": "execute_result",
          "data": {
            "text/plain": [
              "deaths_ppm                                                   float64\n",
              "cases_ppm                                                    float64\n",
              "percentage_vaccinated                                        float64\n",
              "workplaces_percent_change_from_baseline                      float64\n",
              "residential_percent_change_from_baseline                     float64\n",
              "lockdown_index                                               float64\n",
              "date                                                  datetime64[ns]\n",
              "retail_and_recreation_percent_change_from_baseline           float64\n",
              "grocery_and_pharmacy_percent_change_from_baseline            float64\n",
              "parks_percent_change_from_baseline                           float64\n",
              "residential_percent_change_from_baseline                     float64\n",
              "dtype: object"
            ]
          },
          "metadata": {},
          "execution_count": 63
        }
      ]
    },
    {
      "cell_type": "code",
      "source": [
        "series = df_sub[['cases_ppm', 'workplaces_percent_change_from_baseline', 'date']]\n",
        "# create figure and axis objects with subplots()\n",
        "fig,ax = plt.subplots()\n",
        "# make a plot\n",
        "ax.plot(df_sub.date, df_sub.cases_ppm, color=\"red\")\n",
        "# set x-axis label\n",
        "ax.set_xlabel(\"date\",fontsize=14)\n",
        "# set y-axis label\n",
        "ax.set_ylabel(\"cases_ppm\",color=\"red\",fontsize=14)"
      ],
      "metadata": {
        "colab": {
          "base_uri": "https://localhost:8080/",
          "height": 304
        },
        "id": "97jVKWm4Rv6r",
        "outputId": "fdfb2016-f4b7-45a2-8e53-5162b3c40a48"
      },
      "execution_count": 86,
      "outputs": [
        {
          "output_type": "execute_result",
          "data": {
            "text/plain": [
              "Text(0, 0.5, 'cases_ppm')"
            ]
          },
          "metadata": {},
          "execution_count": 86
        },
        {
          "output_type": "display_data",
          "data": {
            "text/plain": [
              "<Figure size 432x288 with 1 Axes>"
            ],
            "image/png": "[encoded data removed]"
          },
          "metadata": {}
        }
      ]
    },
    {
      "cell_type": "code",
      "source": [
        "ax2=ax.twinx()\n",
        "# make a plot with different y-axis using second axis object\n",
        "ax2.plot(df_sub.date, df_sub.workplaces_percent_change_from_baseline,color=\"blue\")\n",
        "ax2.set_ylabel(\"workplace mobility\",color=\"blue\",fontsize=14)\n",
        "plt.show()\n",
        "fig.savefig('cases_vs_mob.jpg',\n",
        "            format='jpeg',\n",
        "            dpi=100,\n",
        "            bbox_inches='tight')"
      ],
      "metadata": {
        "id": "3z53O-L8TRqj"
      },
      "execution_count": 87,
      "outputs": []
    },
    {
      "cell_type": "code",
      "source": [
        "ax2=ax.twinx()\n",
        "# make a plot with different y-axis using second axis object\n",
        "ax2.plot(df_sub.date, df_sub.lockdown_index,color=\"blue\")\n",
        "ax2.set_ylabel(\"lockdown_index\",color=\"blue\",fontsize=14)\n",
        "plt.show()\n",
        "fig.savefig('two_different_y_axis_for_single_python_plot_with_twinx.jpg',\n",
        "            format='jpeg',\n",
        "            dpi=100,\n",
        "            bbox_inches='tight')\n",
        "ax2=ax.twinx()\n",
        "# make a plot with different y-axis using second axis object\n",
        "ax2.plot(df_sub.date, df_sub.mov_avg,color=\"blue\")\n",
        "ax2.set_ylabel(\"lockdown_index\",color=\"blue\",fontsize=14)\n",
        "plt.show()\n",
        "fig.savefig('cases_vs_workplace_mob.jpg',\n",
        "            format='jpeg',\n",
        "            dpi=100,\n",
        "            bbox_inches='tight')"
      ],
      "metadata": {
        "id": "GYRO60iFUjxd"
      },
      "execution_count": null,
      "outputs": []
    },
    {
      "cell_type": "code",
      "source": [
        "series = df_sub[['lockdown_index']]\n",
        "series.plot()"
      ],
      "metadata": {
        "colab": {
          "base_uri": "https://localhost:8080/",
          "height": 283
        },
        "id": "tvuGHZH4ScVH",
        "outputId": "bb3419f4-21f1-4de0-de6f-3d83597b1927"
      },
      "execution_count": null,
      "outputs": [
        {
          "output_type": "execute_result",
          "data": {
            "text/plain": [
              "<matplotlib.axes._subplots.AxesSubplot at 0x7fa102147150>"
            ]
          },
          "metadata": {},
          "execution_count": 45
        },
        {
          "output_type": "display_data",
          "data": {
            "text/plain": [
              "<Figure size 432x288 with 1 Axes>"
            ],
            "image/png": "[encoded data removed]"
          },
          "metadata": {
            "needs_background": "light"
          }
        }
      ]
    },
    {
      "cell_type": "code",
      "source": [
        "series = df_sub[['cases_ppm']]\n",
        "series.plot()"
      ],
      "metadata": {
        "colab": {
          "base_uri": "https://localhost:8080/",
          "height": 283
        },
        "id": "-lmglC7gRVsh",
        "outputId": "cd0c5ad4-139d-48e0-9519-3ec46a90ec00"
      },
      "execution_count": null,
      "outputs": [
        {
          "output_type": "execute_result",
          "data": {
            "text/plain": [
              "<matplotlib.axes._subplots.AxesSubplot at 0x7fa10209ba10>"
            ]
          },
          "metadata": {},
          "execution_count": 46
        },
        {
          "output_type": "display_data",
          "data": {
            "text/plain": [
              "<Figure size 432x288 with 1 Axes>"
            ],
            "image/png": "[encoded data removed]"
          },
          "metadata": {
            "needs_background": "light"
          }
        }
      ]
    },
    {
      "cell_type": "code",
      "source": [
        "df_sub"
      ],
      "metadata": {
        "colab": {
          "base_uri": "https://localhost:8080/",
          "height": 661
        },
        "id": "fkZNsZn-RDuD",
        "outputId": "3d99b2b4-e6ee-45a3-d159-f9cc45d33170"
      },
      "execution_count": null,
      "outputs": [
        {
          "output_type": "execute_result",
          "data": {
            "text/plain": [
              "       deaths_ppm   cases_ppm  total_vaccinations  \\\n",
              "87540    0.000000    0.000000                 0.0   \n",
              "87541    0.000000    0.000000                 0.0   \n",
              "87542    0.000000    0.000000                 0.0   \n",
              "87543    0.000000    0.000000                 0.0   \n",
              "87544    0.000000    0.000000                 0.0   \n",
              "...           ...         ...                 ...   \n",
              "88296    1.279606   31.428436         254619167.0   \n",
              "88297    0.504633   32.518804         254667021.0   \n",
              "88298   -7.854856  104.362952         254713948.0   \n",
              "88299    3.847828   76.746300         254760201.0   \n",
              "88300    5.836323  135.214664         254805930.0   \n",
              "\n",
              "       workplaces_percent_change_from_baseline  \\\n",
              "87540                                      2.0   \n",
              "87541                                      0.0   \n",
              "87542                                    -24.0   \n",
              "87543                                      0.0   \n",
              "87544                                      1.0   \n",
              "...                                        ...   \n",
              "88296                                    -10.0   \n",
              "88297                                     -9.0   \n",
              "88298                                    -24.0   \n",
              "88299                                    -23.0   \n",
              "88300                                    -22.0   \n",
              "\n",
              "       residential_percent_change_from_baseline  lockdown_index       date  \\\n",
              "87540                                      -1.0            5.56 2020-02-15   \n",
              "87541                                      -1.0            5.56 2020-02-16   \n",
              "87542                                       5.0            5.56 2020-02-17   \n",
              "87543                                       1.0            5.56 2020-02-18   \n",
              "87544                                       0.0            5.56 2020-02-19   \n",
              "...                                         ...             ...        ...   \n",
              "88296                                       4.0           53.24 2022-03-12   \n",
              "88297                                       2.0           53.24 2022-03-13   \n",
              "88298                                       6.0           53.24 2022-03-14   \n",
              "88299                                       5.0           53.24 2022-03-15   \n",
              "88300                                       5.0           58.80 2022-03-16   \n",
              "\n",
              "          mov_avg  mov_avg_work_mob  mov_avg_res_mob  \n",
              "87540         NaN               NaN              NaN  \n",
              "87541         NaN               NaN              NaN  \n",
              "87542         NaN               NaN              NaN  \n",
              "87543         NaN               NaN              NaN  \n",
              "87544         NaN               NaN              NaN  \n",
              "...           ...               ...              ...  \n",
              "88296  745.682666            -121.0             34.0  \n",
              "88297  745.030848            -121.0             34.0  \n",
              "88298  658.897770            -124.0             34.0  \n",
              "88299  646.245895            -127.0             34.0  \n",
              "88300  669.209710            -129.0             33.0  \n",
              "\n",
              "[761 rows x 10 columns]"
            ],
            "text/html": [
              "\n",
              "  <div id=\"df-99d8e270-7534-47d5-ac8f-65a1b4754241\">\n",
              "    <div class=\"colab-df-container\">\n",
              "      <div>\n",
              "<style scoped>\n",
              "    .dataframe tbody tr th:only-of-type {\n",
              "        vertical-align: middle;\n",
              "    }\n",
              "\n",
              "    .dataframe tbody tr th {\n",
              "        vertical-align: top;\n",
              "    }\n",
              "\n",
              "    .dataframe thead th {\n",
              "        text-align: right;\n",
              "    }\n",
              "</style>\n",
              "<table border=\"1\" class=\"dataframe\">\n",
              "  <thead>\n",
              "    <tr style=\"text-align: right;\">\n",
              "      <th></th>\n",
              "      <th>deaths_ppm</th>\n",
              "      <th>cases_ppm</th>\n",
              "      <th>total_vaccinations</th>\n",
              "      <th>workplaces_percent_change_from_baseline</th>\n",
              "      <th>residential_percent_change_from_baseline</th>\n",
              "      <th>lockdown_index</th>\n",
              "      <th>date</th>\n",
              "      <th>mov_avg</th>\n",
              "      <th>mov_avg_work_mob</th>\n",
              "      <th>mov_avg_res_mob</th>\n",
              "    </tr>\n",
              "  </thead>\n",
              "  <tbody>\n",
              "    <tr>\n",
              "      <th>87540</th>\n",
              "      <td>0.000000</td>\n",
              "      <td>0.000000</td>\n",
              "      <td>0.0</td>\n",
              "      <td>2.0</td>\n",
              "      <td>-1.0</td>\n",
              "      <td>5.56</td>\n",
              "      <td>2020-02-15</td>\n",
              "      <td>NaN</td>\n",
              "      <td>NaN</td>\n",
              "      <td>NaN</td>\n",
              "    </tr>\n",
              "    <tr>\n",
              "      <th>87541</th>\n",
              "      <td>0.000000</td>\n",
              "      <td>0.000000</td>\n",
              "      <td>0.0</td>\n",
              "      <td>0.0</td>\n",
              "      <td>-1.0</td>\n",
              "      <td>5.56</td>\n",
              "      <td>2020-02-16</td>\n",
              "      <td>NaN</td>\n",
              "      <td>NaN</td>\n",
              "      <td>NaN</td>\n",
              "    </tr>\n",
              "    <tr>\n",
              "      <th>87542</th>\n",
              "      <td>0.000000</td>\n",
              "      <td>0.000000</td>\n",
              "      <td>0.0</td>\n",
              "      <td>-24.0</td>\n",
              "      <td>5.0</td>\n",
              "      <td>5.56</td>\n",
              "      <td>2020-02-17</td>\n",
              "      <td>NaN</td>\n",
              "      <td>NaN</td>\n",
              "      <td>NaN</td>\n",
              "    </tr>\n",
              "    <tr>\n",
              "      <th>87543</th>\n",
              "      <td>0.000000</td>\n",
              "      <td>0.000000</td>\n",
              "      <td>0.0</td>\n",
              "      <td>0.0</td>\n",
              "      <td>1.0</td>\n",
              "      <td>5.56</td>\n",
              "      <td>2020-02-18</td>\n",
              "      <td>NaN</td>\n",
              "      <td>NaN</td>\n",
              "      <td>NaN</td>\n",
              "    </tr>\n",
              "    <tr>\n",
              "      <th>87544</th>\n",
              "      <td>0.000000</td>\n",
              "      <td>0.000000</td>\n",
              "      <td>0.0</td>\n",
              "      <td>1.0</td>\n",
              "      <td>0.0</td>\n",
              "      <td>5.56</td>\n",
              "      <td>2020-02-19</td>\n",
              "      <td>NaN</td>\n",
              "      <td>NaN</td>\n",
              "      <td>NaN</td>\n",
              "    </tr>\n",
              "    <tr>\n",
              "      <th>...</th>\n",
              "      <td>...</td>\n",
              "      <td>...</td>\n",
              "      <td>...</td>\n",
              "      <td>...</td>\n",
              "      <td>...</td>\n",
              "      <td>...</td>\n",
              "      <td>...</td>\n",
              "      <td>...</td>\n",
              "      <td>...</td>\n",
              "      <td>...</td>\n",
              "    </tr>\n",
              "    <tr>\n",
              "      <th>88296</th>\n",
              "      <td>1.279606</td>\n",
              "      <td>31.428436</td>\n",
              "      <td>254619167.0</td>\n",
              "      <td>-10.0</td>\n",
              "      <td>4.0</td>\n",
              "      <td>53.24</td>\n",
              "      <td>2022-03-12</td>\n",
              "      <td>745.682666</td>\n",
              "      <td>-121.0</td>\n",
              "      <td>34.0</td>\n",
              "    </tr>\n",
              "    <tr>\n",
              "      <th>88297</th>\n",
              "      <td>0.504633</td>\n",
              "      <td>32.518804</td>\n",
              "      <td>254667021.0</td>\n",
              "      <td>-9.0</td>\n",
              "      <td>2.0</td>\n",
              "      <td>53.24</td>\n",
              "      <td>2022-03-13</td>\n",
              "      <td>745.030848</td>\n",
              "      <td>-121.0</td>\n",
              "      <td>34.0</td>\n",
              "    </tr>\n",
              "    <tr>\n",
              "      <th>88298</th>\n",
              "      <td>-7.854856</td>\n",
              "      <td>104.362952</td>\n",
              "      <td>254713948.0</td>\n",
              "      <td>-24.0</td>\n",
              "      <td>6.0</td>\n",
              "      <td>53.24</td>\n",
              "      <td>2022-03-14</td>\n",
              "      <td>658.897770</td>\n",
              "      <td>-124.0</td>\n",
              "      <td>34.0</td>\n",
              "    </tr>\n",
              "    <tr>\n",
              "      <th>88299</th>\n",
              "      <td>3.847828</td>\n",
              "      <td>76.746300</td>\n",
              "      <td>254760201.0</td>\n",
              "      <td>-23.0</td>\n",
              "      <td>5.0</td>\n",
              "      <td>53.24</td>\n",
              "      <td>2022-03-15</td>\n",
              "      <td>646.245895</td>\n",
              "      <td>-127.0</td>\n",
              "      <td>34.0</td>\n",
              "    </tr>\n",
              "    <tr>\n",
              "      <th>88300</th>\n",
              "      <td>5.836323</td>\n",
              "      <td>135.214664</td>\n",
              "      <td>254805930.0</td>\n",
              "      <td>-22.0</td>\n",
              "      <td>5.0</td>\n",
              "      <td>58.80</td>\n",
              "      <td>2022-03-16</td>\n",
              "      <td>669.209710</td>\n",
              "      <td>-129.0</td>\n",
              "      <td>33.0</td>\n",
              "    </tr>\n",
              "  </tbody>\n",
              "</table>\n",
              "<p>761 rows × 10 columns</p>\n",
              "</div>\n",
              "      <button class=\"colab-df-convert\" onclick=\"convertToInteractive('df-99d8e270-7534-47d5-ac8f-65a1b4754241')\"\n",
              "              title=\"Convert this dataframe to an interactive table.\"\n",
              "              style=\"display:none;\">\n",
              "        \n",
              "  <svg xmlns=\"http://www.w3.org/2000/svg\" height=\"24px\"viewBox=\"0 0 24 24\"\n",
              "       width=\"24px\">\n",
              "    <path d=\"M0 0h24v24H0V0z\" fill=\"none\"/>\n",
              "    <path d=\"M18.56 5.44l.94 2.06.94-2.06 2.06-.94-2.06-.94-.94-2.06-.94 2.06-2.06.94zm-11 1L8.5 8.5l.94-2.06 2.06-.94-2.06-.94L8.5 2.5l-.94 2.06-2.06.94zm10 10l.94 2.06.94-2.06 2.06-.94-2.06-.94-.94-2.06-.94 2.06-2.06.94z\"/><path d=\"M17.41 7.96l-1.37-1.37c-.4-.4-.92-.59-1.43-.59-.52 0-1.04.2-1.43.59L10.3 9.45l-7.72 7.72c-.78.78-.78 2.05 0 2.83L4 21.41c.39.39.9.59 1.41.59.51 0 1.02-.2 1.41-.59l7.78-7.78 2.81-2.81c.8-.78.8-2.07 0-2.86zM5.41 20L4 18.59l7.72-7.72 1.47 1.35L5.41 20z\"/>\n",
              "  </svg>\n",
              "      </button>\n",
              "      \n",
              "  <style>\n",
              "    .colab-df-container {\n",
              "      display:flex;\n",
              "      flex-wrap:wrap;\n",
              "      gap: 12px;\n",
              "    }\n",
              "\n",
              "    .colab-df-convert {\n",
              "      background-color: #E8F0FE;\n",
              "      border: none;\n",
              "      border-radius: 50%;\n",
              "      cursor: pointer;\n",
              "      display: none;\n",
              "      fill: #1967D2;\n",
              "      height: 32px;\n",
              "      padding: 0 0 0 0;\n",
              "      width: 32px;\n",
              "    }\n",
              "\n",
              "    .colab-df-convert:hover {\n",
              "      background-color: #E2EBFA;\n",
              "      box-shadow: 0px 1px 2px rgba(60, 64, 67, 0.3), 0px 1px 3px 1px rgba(60, 64, 67, 0.15);\n",
              "      fill: #174EA6;\n",
              "    }\n",
              "\n",
              "    [theme=dark] .colab-df-convert {\n",
              "      background-color: #3B4455;\n",
              "      fill: #D2E3FC;\n",
              "    }\n",
              "\n",
              "    [theme=dark] .colab-df-convert:hover {\n",
              "      background-color: #434B5C;\n",
              "      box-shadow: 0px 1px 3px 1px rgba(0, 0, 0, 0.15);\n",
              "      filter: drop-shadow(0px 1px 2px rgba(0, 0, 0, 0.3));\n",
              "      fill: #FFFFFF;\n",
              "    }\n",
              "  </style>\n",
              "\n",
              "      <script>\n",
              "        const buttonEl =\n",
              "          document.querySelector('#df-99d8e270-7534-47d5-ac8f-65a1b4754241 button.colab-df-convert');\n",
              "        buttonEl.style.display =\n",
              "          google.colab.kernel.accessAllowed ? 'block' : 'none';\n",
              "\n",
              "        async function convertToInteractive(key) {\n",
              "          const element = document.querySelector('#df-99d8e270-7534-47d5-ac8f-65a1b4754241');\n",
              "          const dataTable =\n",
              "            await google.colab.kernel.invokeFunction('convertToInteractive',\n",
              "                                                     [key], {});\n",
              "          if (!dataTable) return;\n",
              "\n",
              "          const docLinkHtml = 'Like what you see? Visit the ' +\n",
              "            '<a target=\"_blank\" href=https://colab.research.google.com/notebooks/data_table.ipynb>data table notebook</a>'\n",
              "            + ' to learn more about interactive tables.';\n",
              "          element.innerHTML = '';\n",
              "          dataTable['output_type'] = 'display_data';\n",
              "          await google.colab.output.renderOutput(dataTable, element);\n",
              "          const docLink = document.createElement('div');\n",
              "          docLink.innerHTML = docLinkHtml;\n",
              "          element.appendChild(docLink);\n",
              "        }\n",
              "      </script>\n",
              "    </div>\n",
              "  </div>\n",
              "  "
            ]
          },
          "metadata": {},
          "execution_count": 47
        }
      ]
    },
    {
      "cell_type": "code",
      "source": [
        "series = df_merged_US['lockdown_index']\n",
        "series.plot()\n"
      ],
      "metadata": {
        "colab": {
          "base_uri": "https://localhost:8080/",
          "height": 283
        },
        "id": "Smrmp8SwNSIY",
        "outputId": "d554a783-95d2-4b13-a9aa-d0e331617644"
      },
      "execution_count": null,
      "outputs": [
        {
          "output_type": "execute_result",
          "data": {
            "text/plain": [
              "<matplotlib.axes._subplots.AxesSubplot at 0x7fa10201ee10>"
            ]
          },
          "metadata": {},
          "execution_count": 49
        },
        {
          "output_type": "display_data",
          "data": {
            "text/plain": [
              "<Figure size 432x288 with 1 Axes>"
            ],
            "image/png": "[encoded data removed]"
          },
          "metadata": {
            "needs_background": "light"
          }
        }
      ]
    },
    {
      "cell_type": "code",
      "source": [
        "series = df_merged_US['workplaces_percent_change_from_baseline']\n",
        "series.plot()"
      ],
      "metadata": {
        "colab": {
          "base_uri": "https://localhost:8080/",
          "height": 283
        },
        "id": "sLADFfYWNgna",
        "outputId": "c672bdd8-c1cb-49d4-cc61-4bb45811f985"
      },
      "execution_count": null,
      "outputs": [
        {
          "output_type": "execute_result",
          "data": {
            "text/plain": [
              "<matplotlib.axes._subplots.AxesSubplot at 0x7fa102117b50>"
            ]
          },
          "metadata": {},
          "execution_count": 50
        },
        {
          "output_type": "display_data",
          "data": {
            "text/plain": [
              "<Figure size 432x288 with 1 Axes>"
            ],
            "image/png": "[encoded data removed]"
          },
          "metadata": {
            "needs_background": "light"
          }
        }
      ]
    },
    {
      "cell_type": "code",
      "source": [
        "series = df_merged_US['residential_percent_change_from_baseline']\n",
        "series.plot()"
      ],
      "metadata": {
        "colab": {
          "base_uri": "https://localhost:8080/",
          "height": 283
        },
        "id": "NA5DUZHCNoVT",
        "outputId": "fd2e2ed1-a206-4222-88b9-b85426afa8bd"
      },
      "execution_count": null,
      "outputs": [
        {
          "output_type": "execute_result",
          "data": {
            "text/plain": [
              "<matplotlib.axes._subplots.AxesSubplot at 0x7fa101fc5150>"
            ]
          },
          "metadata": {},
          "execution_count": 51
        },
        {
          "output_type": "display_data",
          "data": {
            "text/plain": [
              "<Figure size 432x288 with 1 Axes>"
            ],
            "image/png": "[encoded data removed]"
          },
          "metadata": {
            "needs_background": "light"
          }
        }
      ]
    },
    {
      "cell_type": "code",
      "source": [
        "gc_res = sm.tsa.stattools.grangercausalitytests(df_merged_US[['residential_percent_change_from_baseline', 'workplaces_percent_change_from_baseline']],maxlag=10)"
      ],
      "metadata": {
        "colab": {
          "base_uri": "https://localhost:8080/"
        },
        "id": "xG2EzRaa0LCV",
        "outputId": "2d2b02dd-311a-41cb-cfac-16a963aa5157"
      },
      "execution_count": null,
      "outputs": [
        {
          "output_type": "stream",
          "name": "stdout",
          "text": [
            "\n",
            "Granger Causality\n",
            "number of lags (no zero) 1\n",
            "ssr based F test:         F=8.7872  , p=0.0031  , df_denom=757, df_num=1\n",
            "ssr based chi2 test:   chi2=8.8220  , p=0.0030  , df=1\n",
            "likelihood ratio test: chi2=8.7712  , p=0.0031  , df=1\n",
            "parameter F test:         F=8.7872  , p=0.0031  , df_denom=757, df_num=1\n",
            "\n",
            "Granger Causality\n",
            "number of lags (no zero) 2\n",
            "ssr based F test:         F=34.5154 , p=0.0000  , df_denom=754, df_num=2\n",
            "ssr based chi2 test:   chi2=69.4886 , p=0.0000  , df=2\n",
            "likelihood ratio test: chi2=66.4894 , p=0.0000  , df=2\n",
            "parameter F test:         F=34.5154 , p=0.0000  , df_denom=754, df_num=2\n",
            "\n",
            "Granger Causality\n",
            "number of lags (no zero) 3\n",
            "ssr based F test:         F=8.7235  , p=0.0000  , df_denom=751, df_num=3\n",
            "ssr based chi2 test:   chi2=26.4144 , p=0.0000  , df=3\n",
            "likelihood ratio test: chi2=25.9646 , p=0.0000  , df=3\n",
            "parameter F test:         F=8.7235  , p=0.0000  , df_denom=751, df_num=3\n",
            "\n",
            "Granger Causality\n",
            "number of lags (no zero) 4\n",
            "ssr based F test:         F=15.7458 , p=0.0000  , df_denom=748, df_num=4\n",
            "ssr based chi2 test:   chi2=63.7409 , p=0.0000  , df=4\n",
            "likelihood ratio test: chi2=61.1991 , p=0.0000  , df=4\n",
            "parameter F test:         F=15.7458 , p=0.0000  , df_denom=748, df_num=4\n",
            "\n",
            "Granger Causality\n",
            "number of lags (no zero) 5\n",
            "ssr based F test:         F=15.2473 , p=0.0000  , df_denom=745, df_num=5\n",
            "ssr based chi2 test:   chi2=77.3620 , p=0.0000  , df=5\n",
            "likelihood ratio test: chi2=73.6547 , p=0.0000  , df=5\n",
            "parameter F test:         F=15.2473 , p=0.0000  , df_denom=745, df_num=5\n",
            "\n",
            "Granger Causality\n",
            "number of lags (no zero) 6\n",
            "ssr based F test:         F=12.4746 , p=0.0000  , df_denom=742, df_num=6\n",
            "ssr based chi2 test:   chi2=76.1591 , p=0.0000  , df=6\n",
            "likelihood ratio test: chi2=72.5582 , p=0.0000  , df=6\n",
            "parameter F test:         F=12.4746 , p=0.0000  , df_denom=742, df_num=6\n",
            "\n",
            "Granger Causality\n",
            "number of lags (no zero) 7\n",
            "ssr based F test:         F=4.5154  , p=0.0001  , df_denom=739, df_num=7\n",
            "ssr based chi2 test:   chi2=32.2494 , p=0.0000  , df=7\n",
            "likelihood ratio test: chi2=31.5788 , p=0.0000  , df=7\n",
            "parameter F test:         F=4.5154  , p=0.0001  , df_denom=739, df_num=7\n",
            "\n",
            "Granger Causality\n",
            "number of lags (no zero) 8\n",
            "ssr based F test:         F=4.7933  , p=0.0000  , df_denom=736, df_num=8\n",
            "ssr based chi2 test:   chi2=39.2322 , p=0.0000  , df=8\n",
            "likelihood ratio test: chi2=38.2444 , p=0.0000  , df=8\n",
            "parameter F test:         F=4.7933  , p=0.0000  , df_denom=736, df_num=8\n",
            "\n",
            "Granger Causality\n",
            "number of lags (no zero) 9\n",
            "ssr based F test:         F=5.1453  , p=0.0000  , df_denom=733, df_num=9\n",
            "ssr based chi2 test:   chi2=47.5076 , p=0.0000  , df=9\n",
            "likelihood ratio test: chi2=46.0673 , p=0.0000  , df=9\n",
            "parameter F test:         F=5.1453  , p=0.0000  , df_denom=733, df_num=9\n",
            "\n",
            "Granger Causality\n",
            "number of lags (no zero) 10\n",
            "ssr based F test:         F=6.2625  , p=0.0000  , df_denom=730, df_num=10\n",
            "ssr based chi2 test:   chi2=64.4267 , p=0.0000  , df=10\n",
            "likelihood ratio test: chi2=61.8117 , p=0.0000  , df=10\n",
            "parameter F test:         F=6.2625  , p=0.0000  , df_denom=730, df_num=10\n"
          ]
        }
      ]
    },
    {
      "cell_type": "code",
      "source": [
        "gc_res = sm.tsa.stattools.grangercausalitytests(df_merged_US[['residential_percent_change_from_baseline', 'total_vaccinations']],maxlag=10)"
      ],
      "metadata": {
        "id": "mDRLKdYq0Nj7",
        "outputId": "ee7457f5-e5cb-4f02-f933-5cbbbaa730d8",
        "colab": {
          "base_uri": "https://localhost:8080/"
        }
      },
      "execution_count": null,
      "outputs": [
        {
          "output_type": "stream",
          "name": "stdout",
          "text": [
            "\n",
            "Granger Causality\n",
            "number of lags (no zero) 1\n",
            "ssr based F test:         F=25.7722 , p=0.0000  , df_denom=757, df_num=1\n",
            "ssr based chi2 test:   chi2=25.8743 , p=0.0000  , df=1\n",
            "likelihood ratio test: chi2=25.4436 , p=0.0000  , df=1\n",
            "parameter F test:         F=25.7722 , p=0.0000  , df_denom=757, df_num=1\n",
            "\n",
            "Granger Causality\n",
            "number of lags (no zero) 2\n",
            "ssr based F test:         F=15.0299 , p=0.0000  , df_denom=754, df_num=2\n",
            "ssr based chi2 test:   chi2=30.2592 , p=0.0000  , df=2\n",
            "likelihood ratio test: chi2=29.6716 , p=0.0000  , df=2\n",
            "parameter F test:         F=15.0299 , p=0.0000  , df_denom=754, df_num=2\n",
            "\n",
            "Granger Causality\n",
            "number of lags (no zero) 3\n",
            "ssr based F test:         F=5.4891  , p=0.0010  , df_denom=751, df_num=3\n",
            "ssr based chi2 test:   chi2=16.6209 , p=0.0008  , df=3\n",
            "likelihood ratio test: chi2=16.4413 , p=0.0009  , df=3\n",
            "parameter F test:         F=5.4891  , p=0.0010  , df_denom=751, df_num=3\n",
            "\n",
            "Granger Causality\n",
            "number of lags (no zero) 4\n",
            "ssr based F test:         F=4.6416  , p=0.0010  , df_denom=748, df_num=4\n",
            "ssr based chi2 test:   chi2=18.7897 , p=0.0009  , df=4\n",
            "likelihood ratio test: chi2=18.5603 , p=0.0010  , df=4\n",
            "parameter F test:         F=4.6416  , p=0.0010  , df_denom=748, df_num=4\n",
            "\n",
            "Granger Causality\n",
            "number of lags (no zero) 5\n",
            "ssr based F test:         F=3.5053  , p=0.0039  , df_denom=745, df_num=5\n",
            "ssr based chi2 test:   chi2=17.7851 , p=0.0032  , df=5\n",
            "likelihood ratio test: chi2=17.5791 , p=0.0035  , df=5\n",
            "parameter F test:         F=3.5053  , p=0.0039  , df_denom=745, df_num=5\n",
            "\n",
            "Granger Causality\n",
            "number of lags (no zero) 6\n",
            "ssr based F test:         F=1.4026  , p=0.2109  , df_denom=742, df_num=6\n",
            "ssr based chi2 test:   chi2=8.5628  , p=0.1997  , df=6\n",
            "likelihood ratio test: chi2=8.5146  , p=0.2028  , df=6\n",
            "parameter F test:         F=1.4026  , p=0.2109  , df_denom=742, df_num=6\n",
            "\n",
            "Granger Causality\n",
            "number of lags (no zero) 7\n",
            "ssr based F test:         F=1.8248  , p=0.0796  , df_denom=739, df_num=7\n",
            "ssr based chi2 test:   chi2=13.0329 , p=0.0713  , df=7\n",
            "likelihood ratio test: chi2=12.9216 , p=0.0740  , df=7\n",
            "parameter F test:         F=1.8248  , p=0.0796  , df_denom=739, df_num=7\n",
            "\n",
            "Granger Causality\n",
            "number of lags (no zero) 8\n",
            "ssr based F test:         F=1.6215  , p=0.1149  , df_denom=736, df_num=8\n",
            "ssr based chi2 test:   chi2=13.2719 , p=0.1028  , df=8\n",
            "likelihood ratio test: chi2=13.1563 , p=0.1066  , df=8\n",
            "parameter F test:         F=1.6215  , p=0.1149  , df_denom=736, df_num=8\n",
            "\n",
            "Granger Causality\n",
            "number of lags (no zero) 9\n",
            "ssr based F test:         F=3.0995  , p=0.0012  , df_denom=733, df_num=9\n",
            "ssr based chi2 test:   chi2=28.6183 , p=0.0008  , df=9\n",
            "likelihood ratio test: chi2=28.0871 , p=0.0009  , df=9\n",
            "parameter F test:         F=3.0995  , p=0.0012  , df_denom=733, df_num=9\n",
            "\n",
            "Granger Causality\n",
            "number of lags (no zero) 10\n",
            "ssr based F test:         F=3.8881  , p=0.0000  , df_denom=730, df_num=10\n",
            "ssr based chi2 test:   chi2=39.9992 , p=0.0000  , df=10\n",
            "likelihood ratio test: chi2=38.9703 , p=0.0000  , df=10\n",
            "parameter F test:         F=3.8881  , p=0.0000  , df_denom=730, df_num=10\n"
          ]
        }
      ]
    },
    {
      "cell_type": "code",
      "source": [
        "gc_res = sm.tsa.stattools.grangercausalitytests(df_merged_US[['residential_percent_change_from_baseline', 'lockdown_index']],maxlag=10)"
      ],
      "metadata": {
        "id": "itN5V38a008d",
        "outputId": "7f1c15c1-ea92-40d3-e515-00be335550f6",
        "colab": {
          "base_uri": "https://localhost:8080/"
        }
      },
      "execution_count": null,
      "outputs": [
        {
          "output_type": "stream",
          "name": "stdout",
          "text": [
            "\n",
            "Granger Causality\n",
            "number of lags (no zero) 1\n",
            "ssr based F test:         F=63.6646 , p=0.0000  , df_denom=757, df_num=1\n",
            "ssr based chi2 test:   chi2=63.9169 , p=0.0000  , df=1\n",
            "likelihood ratio test: chi2=61.3709 , p=0.0000  , df=1\n",
            "parameter F test:         F=63.6646 , p=0.0000  , df_denom=757, df_num=1\n",
            "\n",
            "Granger Causality\n",
            "number of lags (no zero) 2\n",
            "ssr based F test:         F=39.1457 , p=0.0000  , df_denom=754, df_num=2\n",
            "ssr based chi2 test:   chi2=78.8106 , p=0.0000  , df=2\n",
            "likelihood ratio test: chi2=74.9818 , p=0.0000  , df=2\n",
            "parameter F test:         F=39.1457 , p=0.0000  , df_denom=754, df_num=2\n",
            "\n",
            "Granger Causality\n",
            "number of lags (no zero) 3\n",
            "ssr based F test:         F=14.9868 , p=0.0000  , df_denom=751, df_num=3\n",
            "ssr based chi2 test:   chi2=45.3794 , p=0.0000  , df=3\n",
            "likelihood ratio test: chi2=44.0729 , p=0.0000  , df=3\n",
            "parameter F test:         F=14.9868 , p=0.0000  , df_denom=751, df_num=3\n",
            "\n",
            "Granger Causality\n",
            "number of lags (no zero) 4\n",
            "ssr based F test:         F=11.5713 , p=0.0000  , df_denom=748, df_num=4\n",
            "ssr based chi2 test:   chi2=46.8419 , p=0.0000  , df=4\n",
            "likelihood ratio test: chi2=45.4498 , p=0.0000  , df=4\n",
            "parameter F test:         F=11.5713 , p=0.0000  , df_denom=748, df_num=4\n",
            "\n",
            "Granger Causality\n",
            "number of lags (no zero) 5\n",
            "ssr based F test:         F=8.1360  , p=0.0000  , df_denom=745, df_num=5\n",
            "ssr based chi2 test:   chi2=41.2805 , p=0.0000  , df=5\n",
            "likelihood ratio test: chi2=40.1929 , p=0.0000  , df=5\n",
            "parameter F test:         F=8.1360  , p=0.0000  , df_denom=745, df_num=5\n",
            "\n",
            "Granger Causality\n",
            "number of lags (no zero) 6\n",
            "ssr based F test:         F=5.6918  , p=0.0000  , df_denom=742, df_num=6\n",
            "ssr based chi2 test:   chi2=34.7493 , p=0.0000  , df=6\n",
            "likelihood ratio test: chi2=33.9733 , p=0.0000  , df=6\n",
            "parameter F test:         F=5.6918  , p=0.0000  , df_denom=742, df_num=6\n",
            "\n",
            "Granger Causality\n",
            "number of lags (no zero) 7\n",
            "ssr based F test:         F=14.8784 , p=0.0000  , df_denom=739, df_num=7\n",
            "ssr based chi2 test:   chi2=106.2628, p=0.0000  , df=7\n",
            "likelihood ratio test: chi2=99.4116 , p=0.0000  , df=7\n",
            "parameter F test:         F=14.8784 , p=0.0000  , df_denom=739, df_num=7\n",
            "\n",
            "Granger Causality\n",
            "number of lags (no zero) 8\n",
            "ssr based F test:         F=8.4848  , p=0.0000  , df_denom=736, df_num=8\n",
            "ssr based chi2 test:   chi2=69.4462 , p=0.0000  , df=8\n",
            "likelihood ratio test: chi2=66.4280 , p=0.0000  , df=8\n",
            "parameter F test:         F=8.4848  , p=0.0000  , df_denom=736, df_num=8\n",
            "\n",
            "Granger Causality\n",
            "number of lags (no zero) 9\n",
            "ssr based F test:         F=6.0727  , p=0.0000  , df_denom=733, df_num=9\n",
            "ssr based chi2 test:   chi2=56.0710 , p=0.0000  , df=9\n",
            "likelihood ratio test: chi2=54.0791 , p=0.0000  , df=9\n",
            "parameter F test:         F=6.0727  , p=0.0000  , df_denom=733, df_num=9\n",
            "\n",
            "Granger Causality\n",
            "number of lags (no zero) 10\n",
            "ssr based F test:         F=4.9504  , p=0.0000  , df_denom=730, df_num=10\n",
            "ssr based chi2 test:   chi2=50.9283 , p=0.0000  , df=10\n",
            "likelihood ratio test: chi2=49.2758 , p=0.0000  , df=10\n",
            "parameter F test:         F=4.9504  , p=0.0000  , df_denom=730, df_num=10\n"
          ]
        }
      ]
    },
    {
      "cell_type": "code",
      "source": [
        "gc_res = sm.tsa.stattools.grangercausalitytests(df_merged_US[['residential_percent_change_from_baseline', 'deaths_ppm']],maxlag=10)"
      ],
      "metadata": {
        "colab": {
          "base_uri": "https://localhost:8080/"
        },
        "id": "l98YlGVEmcLz",
        "outputId": "1c98ef32-fe8c-4b03-e0ef-c3abc3f3fd15"
      },
      "execution_count": null,
      "outputs": [
        {
          "output_type": "stream",
          "name": "stdout",
          "text": [
            "\n",
            "Granger Causality\n",
            "number of lags (no zero) 1\n",
            "ssr based F test:         F=0.0689  , p=0.7930  , df_denom=757, df_num=1\n",
            "ssr based chi2 test:   chi2=0.0692  , p=0.7925  , df=1\n",
            "likelihood ratio test: chi2=0.0692  , p=0.7925  , df=1\n",
            "parameter F test:         F=0.0689  , p=0.7930  , df_denom=757, df_num=1\n",
            "\n",
            "Granger Causality\n",
            "number of lags (no zero) 2\n",
            "ssr based F test:         F=0.3161  , p=0.7291  , df_denom=754, df_num=2\n",
            "ssr based chi2 test:   chi2=0.6364  , p=0.7275  , df=2\n",
            "likelihood ratio test: chi2=0.6361  , p=0.7276  , df=2\n",
            "parameter F test:         F=0.3161  , p=0.7291  , df_denom=754, df_num=2\n",
            "\n",
            "Granger Causality\n",
            "number of lags (no zero) 3\n",
            "ssr based F test:         F=3.5544  , p=0.0141  , df_denom=751, df_num=3\n",
            "ssr based chi2 test:   chi2=10.7626 , p=0.0131  , df=3\n",
            "likelihood ratio test: chi2=10.6869 , p=0.0135  , df=3\n",
            "parameter F test:         F=3.5544  , p=0.0141  , df_denom=751, df_num=3\n",
            "\n",
            "Granger Causality\n",
            "number of lags (no zero) 4\n",
            "ssr based F test:         F=3.0480  , p=0.0166  , df_denom=748, df_num=4\n",
            "ssr based chi2 test:   chi2=12.3389 , p=0.0150  , df=4\n",
            "likelihood ratio test: chi2=12.2394 , p=0.0157  , df=4\n",
            "parameter F test:         F=3.0480  , p=0.0166  , df_denom=748, df_num=4\n",
            "\n",
            "Granger Causality\n",
            "number of lags (no zero) 5\n",
            "ssr based F test:         F=16.6593 , p=0.0000  , df_denom=745, df_num=5\n",
            "ssr based chi2 test:   chi2=84.5262 , p=0.0000  , df=5\n",
            "likelihood ratio test: chi2=80.1260 , p=0.0000  , df=5\n",
            "parameter F test:         F=16.6593 , p=0.0000  , df_denom=745, df_num=5\n",
            "\n",
            "Granger Causality\n",
            "number of lags (no zero) 6\n",
            "ssr based F test:         F=10.0254 , p=0.0000  , df_denom=742, df_num=6\n",
            "ssr based chi2 test:   chi2=61.2062 , p=0.0000  , df=6\n",
            "likelihood ratio test: chi2=58.8517 , p=0.0000  , df=6\n",
            "parameter F test:         F=10.0254 , p=0.0000  , df_denom=742, df_num=6\n",
            "\n",
            "Granger Causality\n",
            "number of lags (no zero) 7\n",
            "ssr based F test:         F=7.2265  , p=0.0000  , df_denom=739, df_num=7\n",
            "ssr based chi2 test:   chi2=51.6125 , p=0.0000  , df=7\n",
            "likelihood ratio test: chi2=49.9227 , p=0.0000  , df=7\n",
            "parameter F test:         F=7.2265  , p=0.0000  , df_denom=739, df_num=7\n",
            "\n",
            "Granger Causality\n",
            "number of lags (no zero) 8\n",
            "ssr based F test:         F=4.7165  , p=0.0000  , df_denom=736, df_num=8\n",
            "ssr based chi2 test:   chi2=38.6035 , p=0.0000  , df=8\n",
            "likelihood ratio test: chi2=37.6466 , p=0.0000  , df=8\n",
            "parameter F test:         F=4.7165  , p=0.0000  , df_denom=736, df_num=8\n",
            "\n",
            "Granger Causality\n",
            "number of lags (no zero) 9\n",
            "ssr based F test:         F=4.3842  , p=0.0000  , df_denom=733, df_num=9\n",
            "ssr based chi2 test:   chi2=40.4810 , p=0.0000  , df=9\n",
            "likelihood ratio test: chi2=39.4290 , p=0.0000  , df=9\n",
            "parameter F test:         F=4.3842  , p=0.0000  , df_denom=733, df_num=9\n",
            "\n",
            "Granger Causality\n",
            "number of lags (no zero) 10\n",
            "ssr based F test:         F=4.0527  , p=0.0000  , df_denom=730, df_num=10\n",
            "ssr based chi2 test:   chi2=41.6925 , p=0.0000  , df=10\n",
            "likelihood ratio test: chi2=40.5764 , p=0.0000  , df=10\n",
            "parameter F test:         F=4.0527  , p=0.0000  , df_denom=730, df_num=10\n"
          ]
        }
      ]
    },
    {
      "cell_type": "code",
      "source": [
        ""
      ],
      "metadata": {
        "id": "0MB4F5Cymkf0"
      },
      "execution_count": null,
      "outputs": []
    },
    {
      "cell_type": "code",
      "source": [
        "df_merged_US.dtypes"
      ],
      "metadata": {
        "id": "OBbc4lwFmir5"
      },
      "execution_count": null,
      "outputs": []
    },
    {
      "cell_type": "markdown",
      "source": [
        "### test-train-validation split\n"
      ],
      "metadata": {
        "id": "m84JFL9FX9pP"
      }
    },
    {
      "cell_type": "code",
      "source": [
        "from sklearn.model_selection import train_test_split\n",
        "def train_test_split_udf (df, frac):\n",
        "    X_train, X_test = train_test_split(df, test_size=(frac), random_state=22)\n",
        "    return X_train, X_test"
      ],
      "metadata": {
        "id": "8FSx8kxnYF-a"
      },
      "execution_count": null,
      "outputs": []
    },
    {
      "cell_type": "code",
      "source": [
        "df_train_1, df_test_1 = train_test_split_udf (df_merged, 0.2)\n",
        "df_train_2, df_val_1 = train_test_split_udf (df_train_1, 0.125)"
      ],
      "metadata": {
        "id": "Q67JdJsqYJ4f"
      },
      "execution_count": null,
      "outputs": []
    },
    {
      "cell_type": "code",
      "source": [
        ""
      ],
      "metadata": {
        "id": "tp-voihSmazL"
      },
      "execution_count": null,
      "outputs": []
    },
    {
      "cell_type": "markdown",
      "source": [
        "## Stationarity"
      ],
      "metadata": {
        "id": "7ZuAEEqCZlA7"
      }
    },
    {
      "cell_type": "code",
      "source": [
        "df_sub.tail(5)"
      ],
      "metadata": {
        "colab": {
          "base_uri": "https://localhost:8080/",
          "height": 357
        },
        "id": "4r96blyuZjkV",
        "outputId": "73977f57-7f67-4cde-e018-512447497400"
      },
      "execution_count": null,
      "outputs": [
        {
          "output_type": "execute_result",
          "data": {
            "text/plain": [
              "       deaths_ppm   cases_ppm  total_vaccinations  \\\n",
              "88296    1.279606   31.428436         254619167.0   \n",
              "88297    0.504633   32.518804         254667021.0   \n",
              "88298   -7.854856  104.362952         254713948.0   \n",
              "88299    3.847828   76.746300         254760201.0   \n",
              "88300    5.836323  135.214664         254805930.0   \n",
              "\n",
              "       workplaces_percent_change_from_baseline  \\\n",
              "88296                                    -10.0   \n",
              "88297                                     -9.0   \n",
              "88298                                    -24.0   \n",
              "88299                                    -23.0   \n",
              "88300                                    -22.0   \n",
              "\n",
              "       residential_percent_change_from_baseline  lockdown_index       date  \\\n",
              "88296                                       4.0           53.24 2022-03-12   \n",
              "88297                                       2.0           53.24 2022-03-13   \n",
              "88298                                       6.0           53.24 2022-03-14   \n",
              "88299                                       5.0           53.24 2022-03-15   \n",
              "88300                                       5.0           58.80 2022-03-16   \n",
              "\n",
              "          mov_avg  mov_avg_work_mob  mov_avg_res_mob  \n",
              "88296  745.682666            -121.0             34.0  \n",
              "88297  745.030848            -121.0             34.0  \n",
              "88298  658.897770            -124.0             34.0  \n",
              "88299  646.245895            -127.0             34.0  \n",
              "88300  669.209710            -129.0             33.0  "
            ],
            "text/html": [
              "\n",
              "  <div id=\"df-1775dd6f-ca15-4716-b4f4-6a82587fc27b\">\n",
              "    <div class=\"colab-df-container\">\n",
              "      <div>\n",
              "<style scoped>\n",
              "    .dataframe tbody tr th:only-of-type {\n",
              "        vertical-align: middle;\n",
              "    }\n",
              "\n",
              "    .dataframe tbody tr th {\n",
              "        vertical-align: top;\n",
              "    }\n",
              "\n",
              "    .dataframe thead th {\n",
              "        text-align: right;\n",
              "    }\n",
              "</style>\n",
              "<table border=\"1\" class=\"dataframe\">\n",
              "  <thead>\n",
              "    <tr style=\"text-align: right;\">\n",
              "      <th></th>\n",
              "      <th>deaths_ppm</th>\n",
              "      <th>cases_ppm</th>\n",
              "      <th>total_vaccinations</th>\n",
              "      <th>workplaces_percent_change_from_baseline</th>\n",
              "      <th>residential_percent_change_from_baseline</th>\n",
              "      <th>lockdown_index</th>\n",
              "      <th>date</th>\n",
              "      <th>mov_avg</th>\n",
              "      <th>mov_avg_work_mob</th>\n",
              "      <th>mov_avg_res_mob</th>\n",
              "    </tr>\n",
              "  </thead>\n",
              "  <tbody>\n",
              "    <tr>\n",
              "      <th>88296</th>\n",
              "      <td>1.279606</td>\n",
              "      <td>31.428436</td>\n",
              "      <td>254619167.0</td>\n",
              "      <td>-10.0</td>\n",
              "      <td>4.0</td>\n",
              "      <td>53.24</td>\n",
              "      <td>2022-03-12</td>\n",
              "      <td>745.682666</td>\n",
              "      <td>-121.0</td>\n",
              "      <td>34.0</td>\n",
              "    </tr>\n",
              "    <tr>\n",
              "      <th>88297</th>\n",
              "      <td>0.504633</td>\n",
              "      <td>32.518804</td>\n",
              "      <td>254667021.0</td>\n",
              "      <td>-9.0</td>\n",
              "      <td>2.0</td>\n",
              "      <td>53.24</td>\n",
              "      <td>2022-03-13</td>\n",
              "      <td>745.030848</td>\n",
              "      <td>-121.0</td>\n",
              "      <td>34.0</td>\n",
              "    </tr>\n",
              "    <tr>\n",
              "      <th>88298</th>\n",
              "      <td>-7.854856</td>\n",
              "      <td>104.362952</td>\n",
              "      <td>254713948.0</td>\n",
              "      <td>-24.0</td>\n",
              "      <td>6.0</td>\n",
              "      <td>53.24</td>\n",
              "      <td>2022-03-14</td>\n",
              "      <td>658.897770</td>\n",
              "      <td>-124.0</td>\n",
              "      <td>34.0</td>\n",
              "    </tr>\n",
              "    <tr>\n",
              "      <th>88299</th>\n",
              "      <td>3.847828</td>\n",
              "      <td>76.746300</td>\n",
              "      <td>254760201.0</td>\n",
              "      <td>-23.0</td>\n",
              "      <td>5.0</td>\n",
              "      <td>53.24</td>\n",
              "      <td>2022-03-15</td>\n",
              "      <td>646.245895</td>\n",
              "      <td>-127.0</td>\n",
              "      <td>34.0</td>\n",
              "    </tr>\n",
              "    <tr>\n",
              "      <th>88300</th>\n",
              "      <td>5.836323</td>\n",
              "      <td>135.214664</td>\n",
              "      <td>254805930.0</td>\n",
              "      <td>-22.0</td>\n",
              "      <td>5.0</td>\n",
              "      <td>58.80</td>\n",
              "      <td>2022-03-16</td>\n",
              "      <td>669.209710</td>\n",
              "      <td>-129.0</td>\n",
              "      <td>33.0</td>\n",
              "    </tr>\n",
              "  </tbody>\n",
              "</table>\n",
              "</div>\n",
              "      <button class=\"colab-df-convert\" onclick=\"convertToInteractive('df-1775dd6f-ca15-4716-b4f4-6a82587fc27b')\"\n",
              "              title=\"Convert this dataframe to an interactive table.\"\n",
              "              style=\"display:none;\">\n",
              "        \n",
              "  <svg xmlns=\"http://www.w3.org/2000/svg\" height=\"24px\"viewBox=\"0 0 24 24\"\n",
              "       width=\"24px\">\n",
              "    <path d=\"M0 0h24v24H0V0z\" fill=\"none\"/>\n",
              "    <path d=\"M18.56 5.44l.94 2.06.94-2.06 2.06-.94-2.06-.94-.94-2.06-.94 2.06-2.06.94zm-11 1L8.5 8.5l.94-2.06 2.06-.94-2.06-.94L8.5 2.5l-.94 2.06-2.06.94zm10 10l.94 2.06.94-2.06 2.06-.94-2.06-.94-.94-2.06-.94 2.06-2.06.94z\"/><path d=\"M17.41 7.96l-1.37-1.37c-.4-.4-.92-.59-1.43-.59-.52 0-1.04.2-1.43.59L10.3 9.45l-7.72 7.72c-.78.78-.78 2.05 0 2.83L4 21.41c.39.39.9.59 1.41.59.51 0 1.02-.2 1.41-.59l7.78-7.78 2.81-2.81c.8-.78.8-2.07 0-2.86zM5.41 20L4 18.59l7.72-7.72 1.47 1.35L5.41 20z\"/>\n",
              "  </svg>\n",
              "      </button>\n",
              "      \n",
              "  <style>\n",
              "    .colab-df-container {\n",
              "      display:flex;\n",
              "      flex-wrap:wrap;\n",
              "      gap: 12px;\n",
              "    }\n",
              "\n",
              "    .colab-df-convert {\n",
              "      background-color: #E8F0FE;\n",
              "      border: none;\n",
              "      border-radius: 50%;\n",
              "      cursor: pointer;\n",
              "      display: none;\n",
              "      fill: #1967D2;\n",
              "      height: 32px;\n",
              "      padding: 0 0 0 0;\n",
              "      width: 32px;\n",
              "    }\n",
              "\n",
              "    .colab-df-convert:hover {\n",
              "      background-color: #E2EBFA;\n",
              "      box-shadow: 0px 1px 2px rgba(60, 64, 67, 0.3), 0px 1px 3px 1px rgba(60, 64, 67, 0.15);\n",
              "      fill: #174EA6;\n",
              "    }\n",
              "\n",
              "    [theme=dark] .colab-df-convert {\n",
              "      background-color: #3B4455;\n",
              "      fill: #D2E3FC;\n",
              "    }\n",
              "\n",
              "    [theme=dark] .colab-df-convert:hover {\n",
              "      background-color: #434B5C;\n",
              "      box-shadow: 0px 1px 3px 1px rgba(0, 0, 0, 0.15);\n",
              "      filter: drop-shadow(0px 1px 2px rgba(0, 0, 0, 0.3));\n",
              "      fill: #FFFFFF;\n",
              "    }\n",
              "  </style>\n",
              "\n",
              "      <script>\n",
              "        const buttonEl =\n",
              "          document.querySelector('#df-1775dd6f-ca15-4716-b4f4-6a82587fc27b button.colab-df-convert');\n",
              "        buttonEl.style.display =\n",
              "          google.colab.kernel.accessAllowed ? 'block' : 'none';\n",
              "\n",
              "        async function convertToInteractive(key) {\n",
              "          const element = document.querySelector('#df-1775dd6f-ca15-4716-b4f4-6a82587fc27b');\n",
              "          const dataTable =\n",
              "            await google.colab.kernel.invokeFunction('convertToInteractive',\n",
              "                                                     [key], {});\n",
              "          if (!dataTable) return;\n",
              "\n",
              "          const docLinkHtml = 'Like what you see? Visit the ' +\n",
              "            '<a target=\"_blank\" href=https://colab.research.google.com/notebooks/data_table.ipynb>data table notebook</a>'\n",
              "            + ' to learn more about interactive tables.';\n",
              "          element.innerHTML = '';\n",
              "          dataTable['output_type'] = 'display_data';\n",
              "          await google.colab.output.renderOutput(dataTable, element);\n",
              "          const docLink = document.createElement('div');\n",
              "          docLink.innerHTML = docLinkHtml;\n",
              "          element.appendChild(docLink);\n",
              "        }\n",
              "      </script>\n",
              "    </div>\n",
              "  </div>\n",
              "  "
            ]
          },
          "metadata": {},
          "execution_count": 58
        }
      ]
    },
    {
      "cell_type": "code",
      "source": [
        "train = df_sub[df_sub['date'] < pd.to_datetime(\"2021-12\", format='%Y-%m')]\n",
        "train['train'] = train['mov_avg_work_mob']\n",
        "del train['date']\n",
        "del train['mov_avg_work_mob']\n",
        "test = df_sub[df_sub['date'] >= pd.to_datetime(\"2021-12\", format='%Y-%m')]\n",
        "del test['date']\n",
        "test['test'] = test['mov_avg_work_mob']\n",
        "del test['mov_avg_work_mob']"
      ],
      "metadata": {
        "colab": {
          "base_uri": "https://localhost:8080/"
        },
        "id": "hOECjWXSZ5_b",
        "outputId": "eebd44e4-8447-45bd-d69a-4225778a645a"
      },
      "execution_count": null,
      "outputs": [
        {
          "output_type": "stream",
          "name": "stderr",
          "text": [
            "/usr/local/lib/python3.7/dist-packages/ipykernel_launcher.py:2: SettingWithCopyWarning: \n",
            "A value is trying to be set on a copy of a slice from a DataFrame.\n",
            "Try using .loc[row_indexer,col_indexer] = value instead\n",
            "\n",
            "See the caveats in the documentation: https://pandas.pydata.org/pandas-docs/stable/user_guide/indexing.html#returning-a-view-versus-a-copy\n",
            "  \n",
            "/usr/local/lib/python3.7/dist-packages/ipykernel_launcher.py:7: SettingWithCopyWarning: \n",
            "A value is trying to be set on a copy of a slice from a DataFrame.\n",
            "Try using .loc[row_indexer,col_indexer] = value instead\n",
            "\n",
            "See the caveats in the documentation: https://pandas.pydata.org/pandas-docs/stable/user_guide/indexing.html#returning-a-view-versus-a-copy\n",
            "  import sys\n"
          ]
        }
      ]
    },
    {
      "cell_type": "code",
      "source": [
        "test.shape"
      ],
      "metadata": {
        "colab": {
          "base_uri": "https://localhost:8080/"
        },
        "id": "8tD6uIYyaP57",
        "outputId": "975528ea-4caf-4934-8364-871cf2ab00fd"
      },
      "execution_count": null,
      "outputs": [
        {
          "output_type": "execute_result",
          "data": {
            "text/plain": [
              "(106, 9)"
            ]
          },
          "metadata": {},
          "execution_count": 60
        }
      ]
    },
    {
      "cell_type": "code",
      "source": [
        "train.shape"
      ],
      "metadata": {
        "colab": {
          "base_uri": "https://localhost:8080/"
        },
        "id": "MMrHk0Q1dBO1",
        "outputId": "44d5c358-b8bc-477e-ef2a-f66062ce0d76"
      },
      "execution_count": null,
      "outputs": [
        {
          "output_type": "execute_result",
          "data": {
            "text/plain": [
              "(655, 9)"
            ]
          },
          "metadata": {},
          "execution_count": 61
        }
      ]
    },
    {
      "cell_type": "code",
      "source": [
        "df_sub.shape"
      ],
      "metadata": {
        "colab": {
          "base_uri": "https://localhost:8080/"
        },
        "id": "mfHAYPYydDn3",
        "outputId": "551abb78-0cb1-4a67-c5f9-81186bb63b47"
      },
      "execution_count": null,
      "outputs": [
        {
          "output_type": "execute_result",
          "data": {
            "text/plain": [
              "(761, 10)"
            ]
          },
          "metadata": {},
          "execution_count": 62
        }
      ]
    },
    {
      "cell_type": "code",
      "source": [
        "df_sub.head(1)"
      ],
      "metadata": {
        "id": "roOoGTF2Q02K",
        "outputId": "5ce0c88d-07c1-43fe-a3bf-dac0ad8d28ee",
        "colab": {
          "base_uri": "https://localhost:8080/",
          "height": 162
        }
      },
      "execution_count": 42,
      "outputs": [
        {
          "output_type": "execute_result",
          "data": {
            "text/plain": [
              "       deaths_ppm  cases_ppm  percentage_vaccinated  \\\n",
              "87540         0.0        0.0                    0.0   \n",
              "\n",
              "       workplaces_percent_change_from_baseline  \\\n",
              "87540                                      2.0   \n",
              "\n",
              "       residential_percent_change_from_baseline  lockdown_index       date  \\\n",
              "87540                                      -1.0            5.56 2020-02-15   \n",
              "\n",
              "       retail_and_recreation_percent_change_from_baseline  \\\n",
              "87540                                                6.0    \n",
              "\n",
              "       grocery_and_pharmacy_percent_change_from_baseline  \\\n",
              "87540                                                2.0   \n",
              "\n",
              "       parks_percent_change_from_baseline  \\\n",
              "87540                                15.0   \n",
              "\n",
              "       residential_percent_change_from_baseline  \n",
              "87540                                      -1.0  "
            ],
            "text/html": [
              "\n",
              "  <div id=\"df-43028ec0-0eb5-402e-8d33-9619662a197e\">\n",
              "    <div class=\"colab-df-container\">\n",
              "      <div>\n",
              "<style scoped>\n",
              "    .dataframe tbody tr th:only-of-type {\n",
              "        vertical-align: middle;\n",
              "    }\n",
              "\n",
              "    .dataframe tbody tr th {\n",
              "        vertical-align: top;\n",
              "    }\n",
              "\n",
              "    .dataframe thead th {\n",
              "        text-align: right;\n",
              "    }\n",
              "</style>\n",
              "<table border=\"1\" class=\"dataframe\">\n",
              "  <thead>\n",
              "    <tr style=\"text-align: right;\">\n",
              "      <th></th>\n",
              "      <th>deaths_ppm</th>\n",
              "      <th>cases_ppm</th>\n",
              "      <th>percentage_vaccinated</th>\n",
              "      <th>workplaces_percent_change_from_baseline</th>\n",
              "      <th>residential_percent_change_from_baseline</th>\n",
              "      <th>lockdown_index</th>\n",
              "      <th>date</th>\n",
              "      <th>retail_and_recreation_percent_change_from_baseline</th>\n",
              "      <th>grocery_and_pharmacy_percent_change_from_baseline</th>\n",
              "      <th>parks_percent_change_from_baseline</th>\n",
              "      <th>residential_percent_change_from_baseline</th>\n",
              "    </tr>\n",
              "  </thead>\n",
              "  <tbody>\n",
              "    <tr>\n",
              "      <th>87540</th>\n",
              "      <td>0.0</td>\n",
              "      <td>0.0</td>\n",
              "      <td>0.0</td>\n",
              "      <td>2.0</td>\n",
              "      <td>-1.0</td>\n",
              "      <td>5.56</td>\n",
              "      <td>2020-02-15</td>\n",
              "      <td>6.0</td>\n",
              "      <td>2.0</td>\n",
              "      <td>15.0</td>\n",
              "      <td>-1.0</td>\n",
              "    </tr>\n",
              "  </tbody>\n",
              "</table>\n",
              "</div>\n",
              "      <button class=\"colab-df-convert\" onclick=\"convertToInteractive('df-43028ec0-0eb5-402e-8d33-9619662a197e')\"\n",
              "              title=\"Convert this dataframe to an interactive table.\"\n",
              "              style=\"display:none;\">\n",
              "        \n",
              "  <svg xmlns=\"http://www.w3.org/2000/svg\" height=\"24px\"viewBox=\"0 0 24 24\"\n",
              "       width=\"24px\">\n",
              "    <path d=\"M0 0h24v24H0V0z\" fill=\"none\"/>\n",
              "    <path d=\"M18.56 5.44l.94 2.06.94-2.06 2.06-.94-2.06-.94-.94-2.06-.94 2.06-2.06.94zm-11 1L8.5 8.5l.94-2.06 2.06-.94-2.06-.94L8.5 2.5l-.94 2.06-2.06.94zm10 10l.94 2.06.94-2.06 2.06-.94-2.06-.94-.94-2.06-.94 2.06-2.06.94z\"/><path d=\"M17.41 7.96l-1.37-1.37c-.4-.4-.92-.59-1.43-.59-.52 0-1.04.2-1.43.59L10.3 9.45l-7.72 7.72c-.78.78-.78 2.05 0 2.83L4 21.41c.39.39.9.59 1.41.59.51 0 1.02-.2 1.41-.59l7.78-7.78 2.81-2.81c.8-.78.8-2.07 0-2.86zM5.41 20L4 18.59l7.72-7.72 1.47 1.35L5.41 20z\"/>\n",
              "  </svg>\n",
              "      </button>\n",
              "      \n",
              "  <style>\n",
              "    .colab-df-container {\n",
              "      display:flex;\n",
              "      flex-wrap:wrap;\n",
              "      gap: 12px;\n",
              "    }\n",
              "\n",
              "    .colab-df-convert {\n",
              "      background-color: #E8F0FE;\n",
              "      border: none;\n",
              "      border-radius: 50%;\n",
              "      cursor: pointer;\n",
              "      display: none;\n",
              "      fill: #1967D2;\n",
              "      height: 32px;\n",
              "      padding: 0 0 0 0;\n",
              "      width: 32px;\n",
              "    }\n",
              "\n",
              "    .colab-df-convert:hover {\n",
              "      background-color: #E2EBFA;\n",
              "      box-shadow: 0px 1px 2px rgba(60, 64, 67, 0.3), 0px 1px 3px 1px rgba(60, 64, 67, 0.15);\n",
              "      fill: #174EA6;\n",
              "    }\n",
              "\n",
              "    [theme=dark] .colab-df-convert {\n",
              "      background-color: #3B4455;\n",
              "      fill: #D2E3FC;\n",
              "    }\n",
              "\n",
              "    [theme=dark] .colab-df-convert:hover {\n",
              "      background-color: #434B5C;\n",
              "      box-shadow: 0px 1px 3px 1px rgba(0, 0, 0, 0.15);\n",
              "      filter: drop-shadow(0px 1px 2px rgba(0, 0, 0, 0.3));\n",
              "      fill: #FFFFFF;\n",
              "    }\n",
              "  </style>\n",
              "\n",
              "      <script>\n",
              "        const buttonEl =\n",
              "          document.querySelector('#df-43028ec0-0eb5-402e-8d33-9619662a197e button.colab-df-convert');\n",
              "        buttonEl.style.display =\n",
              "          google.colab.kernel.accessAllowed ? 'block' : 'none';\n",
              "\n",
              "        async function convertToInteractive(key) {\n",
              "          const element = document.querySelector('#df-43028ec0-0eb5-402e-8d33-9619662a197e');\n",
              "          const dataTable =\n",
              "            await google.colab.kernel.invokeFunction('convertToInteractive',\n",
              "                                                     [key], {});\n",
              "          if (!dataTable) return;\n",
              "\n",
              "          const docLinkHtml = 'Like what you see? Visit the ' +\n",
              "            '<a target=\"_blank\" href=https://colab.research.google.com/notebooks/data_table.ipynb>data table notebook</a>'\n",
              "            + ' to learn more about interactive tables.';\n",
              "          element.innerHTML = '';\n",
              "          dataTable['output_type'] = 'display_data';\n",
              "          await google.colab.output.renderOutput(dataTable, element);\n",
              "          const docLink = document.createElement('div');\n",
              "          docLink.innerHTML = docLinkHtml;\n",
              "          element.appendChild(docLink);\n",
              "        }\n",
              "      </script>\n",
              "    </div>\n",
              "  </div>\n",
              "  "
            ]
          },
          "metadata": {},
          "execution_count": 42
        }
      ]
    },
    {
      "cell_type": "code",
      "source": [
        "df_sub"
      ],
      "metadata": {
        "id": "ZkHquk_AMakr",
        "outputId": "1edbad03-7045-4f36-dd35-b306d4e9cd00",
        "colab": {
          "base_uri": "https://localhost:8080/",
          "height": 661
        }
      },
      "execution_count": 349,
      "outputs": [
        {
          "output_type": "execute_result",
          "data": {
            "text/plain": [
              "       deaths_ppm  cases_ppm  percentage_vaccinated  \\\n",
              "74799        0.00       0.00                   0.00   \n",
              "74800        0.00       0.00                   0.00   \n",
              "74801        0.00       0.00                   0.00   \n",
              "74802        0.00       0.00                   0.00   \n",
              "74803        0.00       0.00                   0.00   \n",
              "...           ...        ...                    ...   \n",
              "75554        0.47      27.83                   0.34   \n",
              "75555        0.05      26.15                   0.34   \n",
              "75556        0.22      16.19                   0.34   \n",
              "75557        0.00      11.18                   0.34   \n",
              "75558        0.03      27.45                   0.34   \n",
              "\n",
              "       workplaces_percent_change_from_baseline  \\\n",
              "74799                                     1.00   \n",
              "74800                                    -1.00   \n",
              "74801                                     4.00   \n",
              "74802                                     4.00   \n",
              "74803                                     3.00   \n",
              "...                                        ...   \n",
              "75554                                    14.00   \n",
              "75555                                    34.00   \n",
              "75556                                    35.00   \n",
              "75557                                    13.00   \n",
              "75558                                    14.00   \n",
              "\n",
              "       residential_percent_change_from_baseline  lockdown_index       date  \\\n",
              "74799                                     -2.00            2.78 2020-02-15   \n",
              "74800                                      0.00            2.78 2020-02-16   \n",
              "74801                                      1.00            2.78 2020-02-17   \n",
              "74802                                      1.00            2.78 2020-02-18   \n",
              "74803                                      1.00            2.78 2020-02-19   \n",
              "...                                         ...             ...        ...   \n",
              "75554                                     11.00           37.96 2022-03-11   \n",
              "75555                                      9.00           37.96 2022-03-12   \n",
              "75556                                     11.00           37.96 2022-03-13   \n",
              "75557                                     15.00           37.96 2022-03-14   \n",
              "75558                                     14.00           37.96 2022-03-15   \n",
              "\n",
              "       retail_and_recreation_percent_change_from_baseline  \\\n",
              "74799                                               4.00    \n",
              "74800                                              -3.00    \n",
              "74801                                             -10.00    \n",
              "74802                                             -12.00    \n",
              "74803                                             -12.00    \n",
              "...                                                  ...    \n",
              "75554                                              16.00    \n",
              "75555                                              18.00    \n",
              "75556                                              11.00    \n",
              "75557                                               2.00    \n",
              "75558                                              10.00    \n",
              "\n",
              "       grocery_and_pharmacy_percent_change_from_baseline  \\\n",
              "74799                                               0.00   \n",
              "74800                                              -1.00   \n",
              "74801                                             -10.00   \n",
              "74802                                             -12.00   \n",
              "74803                                             -12.00   \n",
              "...                                                  ...   \n",
              "75554                                              35.00   \n",
              "75555                                              32.00   \n",
              "75556                                              30.00   \n",
              "75557                                              14.00   \n",
              "75558                                              29.00   \n",
              "\n",
              "       parks_percent_change_from_baseline  \\\n",
              "74799                               -2.00   \n",
              "74800                              -10.00   \n",
              "74801                              -10.00   \n",
              "74802                               -8.00   \n",
              "74803                               -7.00   \n",
              "...                                   ...   \n",
              "75554                               68.00   \n",
              "75555                               48.00   \n",
              "75556                               50.00   \n",
              "75557                               60.00   \n",
              "75558                               65.00   \n",
              "\n",
              "       residential_percent_change_from_baseline  \n",
              "74799                                     -2.00  \n",
              "74800                                      0.00  \n",
              "74801                                      1.00  \n",
              "74802                                      1.00  \n",
              "74803                                      1.00  \n",
              "...                                         ...  \n",
              "75554                                     11.00  \n",
              "75555                                      9.00  \n",
              "75556                                     11.00  \n",
              "75557                                     15.00  \n",
              "75558                                     14.00  \n",
              "\n",
              "[760 rows x 11 columns]"
            ],
            "text/html": [
              "\n",
              "  <div id=\"df-3af1795e-64ef-43bb-a4fd-89546cbfc1f3\">\n",
              "    <div class=\"colab-df-container\">\n",
              "      <div>\n",
              "<style scoped>\n",
              "    .dataframe tbody tr th:only-of-type {\n",
              "        vertical-align: middle;\n",
              "    }\n",
              "\n",
              "    .dataframe tbody tr th {\n",
              "        vertical-align: top;\n",
              "    }\n",
              "\n",
              "    .dataframe thead th {\n",
              "        text-align: right;\n",
              "    }\n",
              "</style>\n",
              "<table border=\"1\" class=\"dataframe\">\n",
              "  <thead>\n",
              "    <tr style=\"text-align: right;\">\n",
              "      <th></th>\n",
              "      <th>deaths_ppm</th>\n",
              "      <th>cases_ppm</th>\n",
              "      <th>percentage_vaccinated</th>\n",
              "      <th>workplaces_percent_change_from_baseline</th>\n",
              "      <th>residential_percent_change_from_baseline</th>\n",
              "      <th>lockdown_index</th>\n",
              "      <th>date</th>\n",
              "      <th>retail_and_recreation_percent_change_from_baseline</th>\n",
              "      <th>grocery_and_pharmacy_percent_change_from_baseline</th>\n",
              "      <th>parks_percent_change_from_baseline</th>\n",
              "      <th>residential_percent_change_from_baseline</th>\n",
              "    </tr>\n",
              "  </thead>\n",
              "  <tbody>\n",
              "    <tr>\n",
              "      <th>74799</th>\n",
              "      <td>0.00</td>\n",
              "      <td>0.00</td>\n",
              "      <td>0.00</td>\n",
              "      <td>1.00</td>\n",
              "      <td>-2.00</td>\n",
              "      <td>2.78</td>\n",
              "      <td>2020-02-15</td>\n",
              "      <td>4.00</td>\n",
              "      <td>0.00</td>\n",
              "      <td>-2.00</td>\n",
              "      <td>-2.00</td>\n",
              "    </tr>\n",
              "    <tr>\n",
              "      <th>74800</th>\n",
              "      <td>0.00</td>\n",
              "      <td>0.00</td>\n",
              "      <td>0.00</td>\n",
              "      <td>-1.00</td>\n",
              "      <td>0.00</td>\n",
              "      <td>2.78</td>\n",
              "      <td>2020-02-16</td>\n",
              "      <td>-3.00</td>\n",
              "      <td>-1.00</td>\n",
              "      <td>-10.00</td>\n",
              "      <td>0.00</td>\n",
              "    </tr>\n",
              "    <tr>\n",
              "      <th>74801</th>\n",
              "      <td>0.00</td>\n",
              "      <td>0.00</td>\n",
              "      <td>0.00</td>\n",
              "      <td>4.00</td>\n",
              "      <td>1.00</td>\n",
              "      <td>2.78</td>\n",
              "      <td>2020-02-17</td>\n",
              "      <td>-10.00</td>\n",
              "      <td>-10.00</td>\n",
              "      <td>-10.00</td>\n",
              "      <td>1.00</td>\n",
              "    </tr>\n",
              "    <tr>\n",
              "      <th>74802</th>\n",
              "      <td>0.00</td>\n",
              "      <td>0.00</td>\n",
              "      <td>0.00</td>\n",
              "      <td>4.00</td>\n",
              "      <td>1.00</td>\n",
              "      <td>2.78</td>\n",
              "      <td>2020-02-18</td>\n",
              "      <td>-12.00</td>\n",
              "      <td>-12.00</td>\n",
              "      <td>-8.00</td>\n",
              "      <td>1.00</td>\n",
              "    </tr>\n",
              "    <tr>\n",
              "      <th>74803</th>\n",
              "      <td>0.00</td>\n",
              "      <td>0.00</td>\n",
              "      <td>0.00</td>\n",
              "      <td>3.00</td>\n",
              "      <td>1.00</td>\n",
              "      <td>2.78</td>\n",
              "      <td>2020-02-19</td>\n",
              "      <td>-12.00</td>\n",
              "      <td>-12.00</td>\n",
              "      <td>-7.00</td>\n",
              "      <td>1.00</td>\n",
              "    </tr>\n",
              "    <tr>\n",
              "      <th>...</th>\n",
              "      <td>...</td>\n",
              "      <td>...</td>\n",
              "      <td>...</td>\n",
              "      <td>...</td>\n",
              "      <td>...</td>\n",
              "      <td>...</td>\n",
              "      <td>...</td>\n",
              "      <td>...</td>\n",
              "      <td>...</td>\n",
              "      <td>...</td>\n",
              "      <td>...</td>\n",
              "    </tr>\n",
              "    <tr>\n",
              "      <th>75554</th>\n",
              "      <td>0.47</td>\n",
              "      <td>27.83</td>\n",
              "      <td>0.34</td>\n",
              "      <td>14.00</td>\n",
              "      <td>11.00</td>\n",
              "      <td>37.96</td>\n",
              "      <td>2022-03-11</td>\n",
              "      <td>16.00</td>\n",
              "      <td>35.00</td>\n",
              "      <td>68.00</td>\n",
              "      <td>11.00</td>\n",
              "    </tr>\n",
              "    <tr>\n",
              "      <th>75555</th>\n",
              "      <td>0.05</td>\n",
              "      <td>26.15</td>\n",
              "      <td>0.34</td>\n",
              "      <td>34.00</td>\n",
              "      <td>9.00</td>\n",
              "      <td>37.96</td>\n",
              "      <td>2022-03-12</td>\n",
              "      <td>18.00</td>\n",
              "      <td>32.00</td>\n",
              "      <td>48.00</td>\n",
              "      <td>9.00</td>\n",
              "    </tr>\n",
              "    <tr>\n",
              "      <th>75556</th>\n",
              "      <td>0.22</td>\n",
              "      <td>16.19</td>\n",
              "      <td>0.34</td>\n",
              "      <td>35.00</td>\n",
              "      <td>11.00</td>\n",
              "      <td>37.96</td>\n",
              "      <td>2022-03-13</td>\n",
              "      <td>11.00</td>\n",
              "      <td>30.00</td>\n",
              "      <td>50.00</td>\n",
              "      <td>11.00</td>\n",
              "    </tr>\n",
              "    <tr>\n",
              "      <th>75557</th>\n",
              "      <td>0.00</td>\n",
              "      <td>11.18</td>\n",
              "      <td>0.34</td>\n",
              "      <td>13.00</td>\n",
              "      <td>15.00</td>\n",
              "      <td>37.96</td>\n",
              "      <td>2022-03-14</td>\n",
              "      <td>2.00</td>\n",
              "      <td>14.00</td>\n",
              "      <td>60.00</td>\n",
              "      <td>15.00</td>\n",
              "    </tr>\n",
              "    <tr>\n",
              "      <th>75558</th>\n",
              "      <td>0.03</td>\n",
              "      <td>27.45</td>\n",
              "      <td>0.34</td>\n",
              "      <td>14.00</td>\n",
              "      <td>14.00</td>\n",
              "      <td>37.96</td>\n",
              "      <td>2022-03-15</td>\n",
              "      <td>10.00</td>\n",
              "      <td>29.00</td>\n",
              "      <td>65.00</td>\n",
              "      <td>14.00</td>\n",
              "    </tr>\n",
              "  </tbody>\n",
              "</table>\n",
              "<p>760 rows × 11 columns</p>\n",
              "</div>\n",
              "      <button class=\"colab-df-convert\" onclick=\"convertToInteractive('df-3af1795e-64ef-43bb-a4fd-89546cbfc1f3')\"\n",
              "              title=\"Convert this dataframe to an interactive table.\"\n",
              "              style=\"display:none;\">\n",
              "        \n",
              "  <svg xmlns=\"http://www.w3.org/2000/svg\" height=\"24px\"viewBox=\"0 0 24 24\"\n",
              "       width=\"24px\">\n",
              "    <path d=\"M0 0h24v24H0V0z\" fill=\"none\"/>\n",
              "    <path d=\"M18.56 5.44l.94 2.06.94-2.06 2.06-.94-2.06-.94-.94-2.06-.94 2.06-2.06.94zm-11 1L8.5 8.5l.94-2.06 2.06-.94-2.06-.94L8.5 2.5l-.94 2.06-2.06.94zm10 10l.94 2.06.94-2.06 2.06-.94-2.06-.94-.94-2.06-.94 2.06-2.06.94z\"/><path d=\"M17.41 7.96l-1.37-1.37c-.4-.4-.92-.59-1.43-.59-.52 0-1.04.2-1.43.59L10.3 9.45l-7.72 7.72c-.78.78-.78 2.05 0 2.83L4 21.41c.39.39.9.59 1.41.59.51 0 1.02-.2 1.41-.59l7.78-7.78 2.81-2.81c.8-.78.8-2.07 0-2.86zM5.41 20L4 18.59l7.72-7.72 1.47 1.35L5.41 20z\"/>\n",
              "  </svg>\n",
              "      </button>\n",
              "      \n",
              "  <style>\n",
              "    .colab-df-container {\n",
              "      display:flex;\n",
              "      flex-wrap:wrap;\n",
              "      gap: 12px;\n",
              "    }\n",
              "\n",
              "    .colab-df-convert {\n",
              "      background-color: #E8F0FE;\n",
              "      border: none;\n",
              "      border-radius: 50%;\n",
              "      cursor: pointer;\n",
              "      display: none;\n",
              "      fill: #1967D2;\n",
              "      height: 32px;\n",
              "      padding: 0 0 0 0;\n",
              "      width: 32px;\n",
              "    }\n",
              "\n",
              "    .colab-df-convert:hover {\n",
              "      background-color: #E2EBFA;\n",
              "      box-shadow: 0px 1px 2px rgba(60, 64, 67, 0.3), 0px 1px 3px 1px rgba(60, 64, 67, 0.15);\n",
              "      fill: #174EA6;\n",
              "    }\n",
              "\n",
              "    [theme=dark] .colab-df-convert {\n",
              "      background-color: #3B4455;\n",
              "      fill: #D2E3FC;\n",
              "    }\n",
              "\n",
              "    [theme=dark] .colab-df-convert:hover {\n",
              "      background-color: #434B5C;\n",
              "      box-shadow: 0px 1px 3px 1px rgba(0, 0, 0, 0.15);\n",
              "      filter: drop-shadow(0px 1px 2px rgba(0, 0, 0, 0.3));\n",
              "      fill: #FFFFFF;\n",
              "    }\n",
              "  </style>\n",
              "\n",
              "      <script>\n",
              "        const buttonEl =\n",
              "          document.querySelector('#df-3af1795e-64ef-43bb-a4fd-89546cbfc1f3 button.colab-df-convert');\n",
              "        buttonEl.style.display =\n",
              "          google.colab.kernel.accessAllowed ? 'block' : 'none';\n",
              "\n",
              "        async function convertToInteractive(key) {\n",
              "          const element = document.querySelector('#df-3af1795e-64ef-43bb-a4fd-89546cbfc1f3');\n",
              "          const dataTable =\n",
              "            await google.colab.kernel.invokeFunction('convertToInteractive',\n",
              "                                                     [key], {});\n",
              "          if (!dataTable) return;\n",
              "\n",
              "          const docLinkHtml = 'Like what you see? Visit the ' +\n",
              "            '<a target=\"_blank\" href=https://colab.research.google.com/notebooks/data_table.ipynb>data table notebook</a>'\n",
              "            + ' to learn more about interactive tables.';\n",
              "          element.innerHTML = '';\n",
              "          dataTable['output_type'] = 'display_data';\n",
              "          await google.colab.output.renderOutput(dataTable, element);\n",
              "          const docLink = document.createElement('div');\n",
              "          docLink.innerHTML = docLinkHtml;\n",
              "          element.appendChild(docLink);\n",
              "        }\n",
              "      </script>\n",
              "    </div>\n",
              "  </div>\n",
              "  "
            ]
          },
          "metadata": {},
          "execution_count": 349
        }
      ]
    },
    {
      "cell_type": "code",
      "source": [
        "train = df_merged_SK[df_merged_SK['date'] < pd.to_datetime(\"2022-01\", format='%Y-%m')]\n",
        "train['train'] = train['workplaces_percent_change_from_baseline']\n",
        "#del train['date']\n",
        "del train['workplaces_percent_change_from_baseline']\n",
        "test = df_merged_SK[df_merged_SK['date'] >= pd.to_datetime(\"2022-01\", format='%Y-%m')]\n",
        "#del test['date']\n",
        "test['test'] = test['workplaces_percent_change_from_baseline']\n",
        "del test['workplaces_percent_change_from_baseline']"
      ],
      "metadata": {
        "id": "d-BIK6GNQ6rR"
      },
      "execution_count": 354,
      "outputs": []
    },
    {
      "cell_type": "code",
      "source": [
        "train.shape"
      ],
      "metadata": {
        "id": "1Ea44Ia_l8QO",
        "outputId": "46dd2228-bb61-401b-83b9-6f04eeda0de9",
        "colab": {
          "base_uri": "https://localhost:8080/"
        }
      },
      "execution_count": 355,
      "outputs": [
        {
          "output_type": "execute_result",
          "data": {
            "text/plain": [
              "(686, 22)"
            ]
          },
          "metadata": {},
          "execution_count": 355
        }
      ]
    },
    {
      "cell_type": "code",
      "source": [
        "import seaborn as sns\n",
        "plt.plot(train['date'],train['train'], color = \"black\")\n",
        "plt.plot(test['date'], test['test'],color = \"red\")\n",
        "plt.title(\"Train/Test split for Workplace mobility data\")\n",
        "plt.ylabel(\"Workplace mobility\")\n",
        "plt.xlabel('Year-Month')\n",
        "plt.xticks(rotation = 40)\n",
        "sns.set()\n",
        "plt.show()"
      ],
      "metadata": {
        "colab": {
          "base_uri": "https://localhost:8080/",
          "height": 328
        },
        "id": "wDmWeMOeaqxA",
        "outputId": "a08dede6-1d86-4f13-d978-9a34f5682f69"
      },
      "execution_count": 356,
      "outputs": [
        {
          "output_type": "display_data",
          "data": {
            "text/plain": [
              "<Figure size 432x288 with 1 Axes>"
            ],
            "image/png": "[encoded data removed]"
          },
          "metadata": {}
        }
      ]
    },
    {
      "cell_type": "code",
      "source": [
        "train.shape"
      ],
      "metadata": {
        "id": "BYDwdiGmUbrr",
        "outputId": "4e30c7d9-05f4-463b-db9a-f0e4f99ce44d",
        "colab": {
          "base_uri": "https://localhost:8080/"
        }
      },
      "execution_count": 67,
      "outputs": [
        {
          "output_type": "execute_result",
          "data": {
            "text/plain": [
              "(686, 11)"
            ]
          },
          "metadata": {},
          "execution_count": 67
        }
      ]
    },
    {
      "cell_type": "code",
      "source": [
        ""
      ],
      "metadata": {
        "id": "Id-DkeibUMzc"
      },
      "execution_count": null,
      "outputs": []
    },
    {
      "cell_type": "code",
      "source": [
        "series = df_sub[['mov_avg_work_mob', 'lockdown_index', 'date']]\n",
        "# create figure and axis objects with subplots()\n",
        "fig,ax = plt.subplots()\n",
        "# make a plot\n",
        "ax.plot(df_sub.date, df_sub.mov_avg_work_mob, color=\"red\")\n",
        "# set x-axis label\n",
        "ax.set_xlabel(\"date\",fontsize=14)\n",
        "# set y-axis label\n",
        "ax.set_ylabel(\"mov_avg_work_mob\",color=\"red\",fontsize=14)"
      ],
      "metadata": {
        "colab": {
          "base_uri": "https://localhost:8080/",
          "height": 304
        },
        "id": "RIzEWVGTcqyK",
        "outputId": "1e93c549-9f06-458c-9923-0746f603ea65"
      },
      "execution_count": null,
      "outputs": [
        {
          "output_type": "execute_result",
          "data": {
            "text/plain": [
              "Text(0, 0.5, 'mov_avg_work_mob')"
            ]
          },
          "metadata": {},
          "execution_count": 64
        },
        {
          "output_type": "display_data",
          "data": {
            "text/plain": [
              "<Figure size 432x288 with 1 Axes>"
            ],
            "image/png": "[encoded data removed]"
          },
          "metadata": {}
        }
      ]
    },
    {
      "cell_type": "code",
      "source": [
        "import seaborn as sns\n",
        "plt.plot(train['mov_'], color = \"black\")\n",
        "# plt.plot(test['test'], color = \"red\")\n",
        "# plt.title(\"Train/Test split for Passenger Data\")\n",
        "# plt.ylabel(\"Passenger Number\")\n",
        "# plt.xlabel('Year-Month')\n",
        "# sns.set()\n",
        "# plt.show()"
      ],
      "metadata": {
        "id": "SaBwHcJBclop",
        "outputId": "be9d88f8-d4f2-45b9-83f2-77bd0d302979",
        "colab": {
          "base_uri": "https://localhost:8080/",
          "height": 514
        }
      },
      "execution_count": null,
      "outputs": [
        {
          "output_type": "error",
          "ename": "KeyError",
          "evalue": "ignored",
          "traceback": [
            "\u001b[0;31m---------------------------------------------------------------------------\u001b[0m",
            "\u001b[0;31mKeyError\u001b[0m                                  Traceback (most recent call last)",
            "\u001b[0;32m/usr/local/lib/python3.7/dist-packages/pandas/core/indexes/base.py\u001b[0m in \u001b[0;36mget_loc\u001b[0;34m(self, key, method, tolerance)\u001b[0m\n\u001b[1;32m   3360\u001b[0m             \u001b[0;32mtry\u001b[0m\u001b[0;34m:\u001b[0m\u001b[0;34m\u001b[0m\u001b[0;34m\u001b[0m\u001b[0m\n\u001b[0;32m-> 3361\u001b[0;31m                 \u001b[0;32mreturn\u001b[0m \u001b[0mself\u001b[0m\u001b[0;34m.\u001b[0m\u001b[0m_engine\u001b[0m\u001b[0;34m.\u001b[0m\u001b[0mget_loc\u001b[0m\u001b[0;34m(\u001b[0m\u001b[0mcasted_key\u001b[0m\u001b[0;34m)\u001b[0m\u001b[0;34m\u001b[0m\u001b[0;34m\u001b[0m\u001b[0m\n\u001b[0m\u001b[1;32m   3362\u001b[0m             \u001b[0;32mexcept\u001b[0m \u001b[0mKeyError\u001b[0m \u001b[0;32mas\u001b[0m \u001b[0merr\u001b[0m\u001b[0;34m:\u001b[0m\u001b[0;34m\u001b[0m\u001b[0;34m\u001b[0m\u001b[0m\n",
            "\u001b[0;32m/usr/local/lib/python3.7/dist-packages/pandas/_libs/index.pyx\u001b[0m in \u001b[0;36mpandas._libs.index.IndexEngine.get_loc\u001b[0;34m()\u001b[0m\n",
            "\u001b[0;32m/usr/local/lib/python3.7/dist-packages/pandas/_libs/index.pyx\u001b[0m in \u001b[0;36mpandas._libs.index.IndexEngine.get_loc\u001b[0;34m()\u001b[0m\n",
            "\u001b[0;32mpandas/_libs/hashtable_class_helper.pxi\u001b[0m in \u001b[0;36mpandas._libs.hashtable.PyObjectHashTable.get_item\u001b[0;34m()\u001b[0m\n",
            "\u001b[0;32mpandas/_libs/hashtable_class_helper.pxi\u001b[0m in \u001b[0;36mpandas._libs.hashtable.PyObjectHashTable.get_item\u001b[0;34m()\u001b[0m\n",
            "\u001b[0;31mKeyError\u001b[0m: 'mov_'",
            "\nThe above exception was the direct cause of the following exception:\n",
            "\u001b[0;31mKeyError\u001b[0m                                  Traceback (most recent call last)",
            "\u001b[0;32m<ipython-input-66-237728464117>\u001b[0m in \u001b[0;36m<module>\u001b[0;34m()\u001b[0m\n\u001b[1;32m      1\u001b[0m \u001b[0;32mimport\u001b[0m \u001b[0mseaborn\u001b[0m \u001b[0;32mas\u001b[0m \u001b[0msns\u001b[0m\u001b[0;34m\u001b[0m\u001b[0;34m\u001b[0m\u001b[0m\n\u001b[0;32m----> 2\u001b[0;31m \u001b[0mplt\u001b[0m\u001b[0;34m.\u001b[0m\u001b[0mplot\u001b[0m\u001b[0;34m(\u001b[0m\u001b[0mtrain\u001b[0m\u001b[0;34m[\u001b[0m\u001b[0;34m'mov_'\u001b[0m\u001b[0;34m]\u001b[0m\u001b[0;34m,\u001b[0m \u001b[0mcolor\u001b[0m \u001b[0;34m=\u001b[0m \u001b[0;34m\"black\"\u001b[0m\u001b[0;34m)\u001b[0m\u001b[0;34m\u001b[0m\u001b[0;34m\u001b[0m\u001b[0m\n\u001b[0m\u001b[1;32m      3\u001b[0m \u001b[0;31m# plt.plot(test['test'], color = \"red\")\u001b[0m\u001b[0;34m\u001b[0m\u001b[0;34m\u001b[0m\u001b[0;34m\u001b[0m\u001b[0m\n\u001b[1;32m      4\u001b[0m \u001b[0;31m# plt.title(\"Train/Test split for Passenger Data\")\u001b[0m\u001b[0;34m\u001b[0m\u001b[0;34m\u001b[0m\u001b[0;34m\u001b[0m\u001b[0m\n\u001b[1;32m      5\u001b[0m \u001b[0;31m# plt.ylabel(\"Passenger Number\")\u001b[0m\u001b[0;34m\u001b[0m\u001b[0;34m\u001b[0m\u001b[0;34m\u001b[0m\u001b[0m\n",
            "\u001b[0;32m/usr/local/lib/python3.7/dist-packages/pandas/core/frame.py\u001b[0m in \u001b[0;36m__getitem__\u001b[0;34m(self, key)\u001b[0m\n\u001b[1;32m   3456\u001b[0m             \u001b[0;32mif\u001b[0m \u001b[0mself\u001b[0m\u001b[0;34m.\u001b[0m\u001b[0mcolumns\u001b[0m\u001b[0;34m.\u001b[0m\u001b[0mnlevels\u001b[0m \u001b[0;34m>\u001b[0m \u001b[0;36m1\u001b[0m\u001b[0;34m:\u001b[0m\u001b[0;34m\u001b[0m\u001b[0;34m\u001b[0m\u001b[0m\n\u001b[1;32m   3457\u001b[0m                 \u001b[0;32mreturn\u001b[0m \u001b[0mself\u001b[0m\u001b[0;34m.\u001b[0m\u001b[0m_getitem_multilevel\u001b[0m\u001b[0;34m(\u001b[0m\u001b[0mkey\u001b[0m\u001b[0;34m)\u001b[0m\u001b[0;34m\u001b[0m\u001b[0;34m\u001b[0m\u001b[0m\n\u001b[0;32m-> 3458\u001b[0;31m             \u001b[0mindexer\u001b[0m \u001b[0;34m=\u001b[0m \u001b[0mself\u001b[0m\u001b[0;34m.\u001b[0m\u001b[0mcolumns\u001b[0m\u001b[0;34m.\u001b[0m\u001b[0mget_loc\u001b[0m\u001b[0;34m(\u001b[0m\u001b[0mkey\u001b[0m\u001b[0;34m)\u001b[0m\u001b[0;34m\u001b[0m\u001b[0;34m\u001b[0m\u001b[0m\n\u001b[0m\u001b[1;32m   3459\u001b[0m             \u001b[0;32mif\u001b[0m \u001b[0mis_integer\u001b[0m\u001b[0;34m(\u001b[0m\u001b[0mindexer\u001b[0m\u001b[0;34m)\u001b[0m\u001b[0;34m:\u001b[0m\u001b[0;34m\u001b[0m\u001b[0;34m\u001b[0m\u001b[0m\n\u001b[1;32m   3460\u001b[0m                 \u001b[0mindexer\u001b[0m \u001b[0;34m=\u001b[0m \u001b[0;34m[\u001b[0m\u001b[0mindexer\u001b[0m\u001b[0;34m]\u001b[0m\u001b[0;34m\u001b[0m\u001b[0;34m\u001b[0m\u001b[0m\n",
            "\u001b[0;32m/usr/local/lib/python3.7/dist-packages/pandas/core/indexes/base.py\u001b[0m in \u001b[0;36mget_loc\u001b[0;34m(self, key, method, tolerance)\u001b[0m\n\u001b[1;32m   3361\u001b[0m                 \u001b[0;32mreturn\u001b[0m \u001b[0mself\u001b[0m\u001b[0;34m.\u001b[0m\u001b[0m_engine\u001b[0m\u001b[0;34m.\u001b[0m\u001b[0mget_loc\u001b[0m\u001b[0;34m(\u001b[0m\u001b[0mcasted_key\u001b[0m\u001b[0;34m)\u001b[0m\u001b[0;34m\u001b[0m\u001b[0;34m\u001b[0m\u001b[0m\n\u001b[1;32m   3362\u001b[0m             \u001b[0;32mexcept\u001b[0m \u001b[0mKeyError\u001b[0m \u001b[0;32mas\u001b[0m \u001b[0merr\u001b[0m\u001b[0;34m:\u001b[0m\u001b[0;34m\u001b[0m\u001b[0;34m\u001b[0m\u001b[0m\n\u001b[0;32m-> 3363\u001b[0;31m                 \u001b[0;32mraise\u001b[0m \u001b[0mKeyError\u001b[0m\u001b[0;34m(\u001b[0m\u001b[0mkey\u001b[0m\u001b[0;34m)\u001b[0m \u001b[0;32mfrom\u001b[0m \u001b[0merr\u001b[0m\u001b[0;34m\u001b[0m\u001b[0;34m\u001b[0m\u001b[0m\n\u001b[0m\u001b[1;32m   3364\u001b[0m \u001b[0;34m\u001b[0m\u001b[0m\n\u001b[1;32m   3365\u001b[0m         \u001b[0;32mif\u001b[0m \u001b[0mis_scalar\u001b[0m\u001b[0;34m(\u001b[0m\u001b[0mkey\u001b[0m\u001b[0;34m)\u001b[0m \u001b[0;32mand\u001b[0m \u001b[0misna\u001b[0m\u001b[0;34m(\u001b[0m\u001b[0mkey\u001b[0m\u001b[0;34m)\u001b[0m \u001b[0;32mand\u001b[0m \u001b[0;32mnot\u001b[0m \u001b[0mself\u001b[0m\u001b[0;34m.\u001b[0m\u001b[0mhasnans\u001b[0m\u001b[0;34m:\u001b[0m\u001b[0;34m\u001b[0m\u001b[0;34m\u001b[0m\u001b[0m\n",
            "\u001b[0;31mKeyError\u001b[0m: 'mov_'"
          ]
        }
      ]
    },
    {
      "cell_type": "code",
      "source": [
        "train = train.dropna()"
      ],
      "metadata": {
        "id": "CyvsXfrfd1kB"
      },
      "execution_count": null,
      "outputs": []
    },
    {
      "cell_type": "code",
      "source": [
        "from pmdarima.arima import auto_arima\n",
        "model = auto_arima(train['train'], trace=True, error_action='ignore', suppress_warnings=True)\n",
        "model.fit(train['train'])\n",
        "forecast = model.predict(n_periods=len(test['test']))\n",
        "forecast = pd.DataFrame(forecast,index = test.index,columns=['Prediction'])"
      ],
      "metadata": {
        "colab": {
          "base_uri": "https://localhost:8080/",
          "height": 383
        },
        "id": "5Va3Y0UhdOnB",
        "outputId": "76666a66-fd04-4ecd-fe87-3b04b27300ad"
      },
      "execution_count": null,
      "outputs": [
        {
          "output_type": "error",
          "ename": "ModuleNotFoundError",
          "evalue": "ignored",
          "traceback": [
            "\u001b[0;31m---------------------------------------------------------------------------\u001b[0m",
            "\u001b[0;31mModuleNotFoundError\u001b[0m                       Traceback (most recent call last)",
            "\u001b[0;32m<ipython-input-68-f2dbc69f4068>\u001b[0m in \u001b[0;36m<module>\u001b[0;34m()\u001b[0m\n\u001b[0;32m----> 1\u001b[0;31m \u001b[0;32mfrom\u001b[0m \u001b[0mpmdarima\u001b[0m\u001b[0;34m.\u001b[0m\u001b[0marima\u001b[0m \u001b[0;32mimport\u001b[0m \u001b[0mauto_arima\u001b[0m\u001b[0;34m\u001b[0m\u001b[0;34m\u001b[0m\u001b[0m\n\u001b[0m\u001b[1;32m      2\u001b[0m \u001b[0mmodel\u001b[0m \u001b[0;34m=\u001b[0m \u001b[0mauto_arima\u001b[0m\u001b[0;34m(\u001b[0m\u001b[0mtrain\u001b[0m\u001b[0;34m[\u001b[0m\u001b[0;34m'train'\u001b[0m\u001b[0;34m]\u001b[0m\u001b[0;34m,\u001b[0m \u001b[0mtrace\u001b[0m\u001b[0;34m=\u001b[0m\u001b[0;32mTrue\u001b[0m\u001b[0;34m,\u001b[0m \u001b[0merror_action\u001b[0m\u001b[0;34m=\u001b[0m\u001b[0;34m'ignore'\u001b[0m\u001b[0;34m,\u001b[0m \u001b[0msuppress_warnings\u001b[0m\u001b[0;34m=\u001b[0m\u001b[0;32mTrue\u001b[0m\u001b[0;34m)\u001b[0m\u001b[0;34m\u001b[0m\u001b[0;34m\u001b[0m\u001b[0m\n\u001b[1;32m      3\u001b[0m \u001b[0mmodel\u001b[0m\u001b[0;34m.\u001b[0m\u001b[0mfit\u001b[0m\u001b[0;34m(\u001b[0m\u001b[0mtrain\u001b[0m\u001b[0;34m[\u001b[0m\u001b[0;34m'train'\u001b[0m\u001b[0;34m]\u001b[0m\u001b[0;34m)\u001b[0m\u001b[0;34m\u001b[0m\u001b[0;34m\u001b[0m\u001b[0m\n\u001b[1;32m      4\u001b[0m \u001b[0mforecast\u001b[0m \u001b[0;34m=\u001b[0m \u001b[0mmodel\u001b[0m\u001b[0;34m.\u001b[0m\u001b[0mpredict\u001b[0m\u001b[0;34m(\u001b[0m\u001b[0mn_periods\u001b[0m\u001b[0;34m=\u001b[0m\u001b[0mlen\u001b[0m\u001b[0;34m(\u001b[0m\u001b[0mtest\u001b[0m\u001b[0;34m[\u001b[0m\u001b[0;34m'test'\u001b[0m\u001b[0;34m]\u001b[0m\u001b[0;34m)\u001b[0m\u001b[0;34m)\u001b[0m\u001b[0;34m\u001b[0m\u001b[0;34m\u001b[0m\u001b[0m\n\u001b[1;32m      5\u001b[0m \u001b[0mforecast\u001b[0m \u001b[0;34m=\u001b[0m \u001b[0mpd\u001b[0m\u001b[0;34m.\u001b[0m\u001b[0mDataFrame\u001b[0m\u001b[0;34m(\u001b[0m\u001b[0mforecast\u001b[0m\u001b[0;34m,\u001b[0m\u001b[0mindex\u001b[0m \u001b[0;34m=\u001b[0m \u001b[0mtest\u001b[0m\u001b[0;34m.\u001b[0m\u001b[0mindex\u001b[0m\u001b[0;34m,\u001b[0m\u001b[0mcolumns\u001b[0m\u001b[0;34m=\u001b[0m\u001b[0;34m[\u001b[0m\u001b[0;34m'Prediction'\u001b[0m\u001b[0;34m]\u001b[0m\u001b[0;34m)\u001b[0m\u001b[0;34m\u001b[0m\u001b[0;34m\u001b[0m\u001b[0m\n",
            "\u001b[0;31mModuleNotFoundError\u001b[0m: No module named 'pmdarima'",
            "",
            "\u001b[0;31m---------------------------------------------------------------------------\u001b[0;32m\nNOTE: If your import is failing due to a missing package, you can\nmanually install dependencies using either !pip or !apt.\n\nTo view examples of installing some common dependencies, click the\n\"Open Examples\" button below.\n\u001b[0;31m---------------------------------------------------------------------------\u001b[0m\n"
          ],
          "errorDetails": {
            "actions": [
              {
                "action": "open_url",
                "actionText": "Open Examples",
                "url": "/notebooks/snippets/importing_libraries.ipynb"
              }
            ]
          }
        }
      ]
    },
    {
      "cell_type": "code",
      "source": [
        "from math import sqrt\n",
        "from sklearn.metrics import mean_squared_error\n",
        "rms = sqrt(mean_squared_error(test['test'],forecast))\n",
        "print(\"RMSE: \", rms)"
      ],
      "metadata": {
        "id": "B-oKDxI1drrs"
      },
      "execution_count": null,
      "outputs": []
    },
    {
      "cell_type": "code",
      "source": [
        "forecast.head()"
      ],
      "metadata": {
        "id": "awGuhvaWeZKd"
      },
      "execution_count": null,
      "outputs": []
    },
    {
      "cell_type": "code",
      "source": [
        "test[['test']].head()"
      ],
      "metadata": {
        "id": "SfanFtv4ecSY"
      },
      "execution_count": null,
      "outputs": []
    },
    {
      "cell_type": "code",
      "source": [
        "import seaborn as sns\n",
        "plt.plot(train['train'], color = \"black\")\n",
        "plt.plot(forecast, color = \"red\")\n",
        "plt.title(\"Train/Test split for Passenger Data\")\n",
        "plt.ylabel(\"Passenger Number\")\n",
        "plt.xlabel('Year-Month')\n",
        "sns.set()\n",
        "plt.show()"
      ],
      "metadata": {
        "id": "_NeroytReiOy"
      },
      "execution_count": null,
      "outputs": []
    },
    {
      "cell_type": "code",
      "source": [
        "forecast.plot()"
      ],
      "metadata": {
        "id": "N2VsscJTe8au"
      },
      "execution_count": null,
      "outputs": []
    },
    {
      "cell_type": "code",
      "source": [
        "test['test'].plot()"
      ],
      "metadata": {
        "id": "SEKhQjsefAij"
      },
      "execution_count": null,
      "outputs": []
    },
    {
      "cell_type": "code",
      "source": [
        "test = test.join(forecast)"
      ],
      "metadata": {
        "id": "36S1qU06fZct"
      },
      "execution_count": null,
      "outputs": []
    },
    {
      "cell_type": "code",
      "source": [
        "test.head()"
      ],
      "metadata": {
        "id": "2XadtBT4feSX"
      },
      "execution_count": null,
      "outputs": []
    },
    {
      "cell_type": "code",
      "source": [
        "s = test[['test', 'Prediction']]\n",
        "s.plot()"
      ],
      "metadata": {
        "id": "BRd0E95efh02"
      },
      "execution_count": null,
      "outputs": []
    },
    {
      "cell_type": "code",
      "source": [
        "ax2=ax.twinx()\n",
        "# make a plot with different y-axis using second axis object\n",
        "ax2.plot(df_sub.date, df_sub.lockdown_index,color=\"blue\")\n",
        "ax2.set_ylabel(\"lockdown_index\",color=\"blue\",fontsize=14)\n",
        "plt.show()\n",
        "fig.savefig('two_different_y_axis_for_single_python_plot_with_twinx.jpg',\n",
        "            format='jpeg',\n",
        "            dpi=100,\n",
        "            bbox_inches='tight')\n",
        "ax2=ax.twinx()\n",
        "# make a plot with different y-axis using second axis object\n",
        "ax2.plot(df_sub.date, df_sub.mov_avg,color=\"blue\")\n",
        "ax2.set_ylabel(\"lockdown_index\",color=\"blue\",fontsize=14)\n",
        "plt.show()\n",
        "fig.savefig('cases_vs_workplace_mob.jpg',\n",
        "            format='jpeg',\n",
        "            dpi=100,\n",
        "            bbox_inches='tight')"
      ],
      "metadata": {
        "id": "hqOGk7GUfWV-"
      },
      "execution_count": null,
      "outputs": []
    },
    {
      "cell_type": "code",
      "source": [
        "df_sub.shape"
      ],
      "metadata": {
        "id": "jL7zA39yT6hN",
        "outputId": "32ee3481-e950-4064-abcc-662609f05b00",
        "colab": {
          "base_uri": "https://localhost:8080/"
        }
      },
      "execution_count": 61,
      "outputs": [
        {
          "output_type": "execute_result",
          "data": {
            "text/plain": [
              "(761, 11)"
            ]
          },
          "metadata": {},
          "execution_count": 61
        }
      ]
    },
    {
      "cell_type": "markdown",
      "source": [
        "Heatmaps with month and weekday"
      ],
      "metadata": {
        "id": "tQbY3HhuNP2T"
      }
    },
    {
      "cell_type": "code",
      "source": [
        "# correlation matrix, limited to highly correlated features\n",
        "df3 = df2[df_corrH.index]\n",
        "\n",
        "idx = df3.corr().sort_values(\"price\", ascending=False).index\n",
        "df3_sorted = df3.loc[:, idx]  # sort dataframe columns by their correlation with Appliances\n",
        "\n",
        "plt.figure(figsize = (15,15))\n",
        "sns.set(font_scale=0.75)\n",
        "ax = sns.heatmap(df3_sorted.corr().round(3), \n",
        "            annot=True, \n",
        "            square=True, \n",
        "            linewidths=.75, cmap=\"coolwarm\", \n",
        "            fmt = \".2f\", \n",
        "            annot_kws = {\"size\": 11})\n",
        "ax.xaxis.tick_bottom()\n",
        "plt.title(\"correlation matrix\")\n",
        "plt.show()"
      ],
      "metadata": {
        "id": "lvFJ6XD7NOY8",
        "outputId": "0509a98f-f9c1-42a3-f7d4-a702f2d7c9c3",
        "colab": {
          "base_uri": "https://localhost:8080/",
          "height": 222
        }
      },
      "execution_count": 58,
      "outputs": [
        {
          "output_type": "error",
          "ename": "AttributeError",
          "evalue": "ignored",
          "traceback": [
            "\u001b[0;31m---------------------------------------------------------------------------\u001b[0m",
            "\u001b[0;31mAttributeError\u001b[0m                            Traceback (most recent call last)",
            "\u001b[0;32m<ipython-input-58-5eb773d188aa>\u001b[0m in \u001b[0;36m<module>\u001b[0;34m()\u001b[0m\n\u001b[1;32m      1\u001b[0m \u001b[0mdf3\u001b[0m \u001b[0;34m=\u001b[0m \u001b[0mdf_sub\u001b[0m\u001b[0;34m.\u001b[0m\u001b[0mcopy\u001b[0m\u001b[0;34m(\u001b[0m\u001b[0;34m)\u001b[0m\u001b[0;34m\u001b[0m\u001b[0;34m\u001b[0m\u001b[0m\n\u001b[0;32m----> 2\u001b[0;31m \u001b[0mdf3\u001b[0m\u001b[0;34m[\u001b[0m\u001b[0;34m\"wday\"\u001b[0m\u001b[0;34m]\u001b[0m \u001b[0;34m=\u001b[0m \u001b[0mdf3\u001b[0m\u001b[0;34m.\u001b[0m\u001b[0mindex\u001b[0m\u001b[0;34m.\u001b[0m\u001b[0mdayofweek\u001b[0m\u001b[0;34m\u001b[0m\u001b[0;34m\u001b[0m\u001b[0m\n\u001b[0m\u001b[1;32m      3\u001b[0m \u001b[0mdict_days\u001b[0m \u001b[0;34m=\u001b[0m \u001b[0;34m{\u001b[0m\u001b[0;36m0\u001b[0m\u001b[0;34m:\u001b[0m\u001b[0;34m\"1_Mon\"\u001b[0m\u001b[0;34m,\u001b[0m \u001b[0;36m1\u001b[0m\u001b[0;34m:\u001b[0m\u001b[0;34m\"2_Tue\"\u001b[0m\u001b[0;34m,\u001b[0m \u001b[0;36m2\u001b[0m\u001b[0;34m:\u001b[0m\u001b[0;34m\"3_Wed\"\u001b[0m\u001b[0;34m,\u001b[0m \u001b[0;36m3\u001b[0m\u001b[0;34m:\u001b[0m\u001b[0;34m\"4_Thu\"\u001b[0m\u001b[0;34m,\u001b[0m \u001b[0;36m4\u001b[0m\u001b[0;34m:\u001b[0m\u001b[0;34m\"5_Fri\"\u001b[0m\u001b[0;34m,\u001b[0m \u001b[0;36m5\u001b[0m\u001b[0;34m:\u001b[0m\u001b[0;34m\"6_Sat\"\u001b[0m\u001b[0;34m,\u001b[0m \u001b[0;36m6\u001b[0m\u001b[0;34m:\u001b[0m\u001b[0;34m\"7_Sun\"\u001b[0m\u001b[0;34m}\u001b[0m\u001b[0;34m\u001b[0m\u001b[0;34m\u001b[0m\u001b[0m\n\u001b[1;32m      4\u001b[0m \u001b[0mdf3\u001b[0m\u001b[0;34m[\u001b[0m\u001b[0;34m\"weekday\"\u001b[0m\u001b[0;34m]\u001b[0m \u001b[0;34m=\u001b[0m \u001b[0mdf3\u001b[0m\u001b[0;34m[\u001b[0m\u001b[0;34m\"wday\"\u001b[0m\u001b[0;34m]\u001b[0m\u001b[0;34m.\u001b[0m\u001b[0mapply\u001b[0m\u001b[0;34m(\u001b[0m\u001b[0;32mlambda\u001b[0m \u001b[0mx\u001b[0m\u001b[0;34m:\u001b[0m \u001b[0mdict_days\u001b[0m\u001b[0;34m[\u001b[0m\u001b[0mx\u001b[0m\u001b[0;34m]\u001b[0m\u001b[0;34m)\u001b[0m\u001b[0;34m\u001b[0m\u001b[0;34m\u001b[0m\u001b[0m\n",
            "\u001b[0;31mAttributeError\u001b[0m: 'Int64Index' object has no attribute 'dayofweek'"
          ]
        }
      ]
    },
    {
      "cell_type": "code",
      "source": [
        "df_merged_US.dtypes"
      ],
      "metadata": {
        "id": "GQZfJx4hNZ7T",
        "outputId": "ba102003-e8b6-41d8-8d7d-6db3a0cc69bb",
        "colab": {
          "base_uri": "https://localhost:8080/"
        }
      },
      "execution_count": null,
      "outputs": [
        {
          "output_type": "execute_result",
          "data": {
            "text/plain": [
              "country                                                       object\n",
              "date                                                  datetime64[ns]\n",
              "total_cases                                                  float64\n",
              "total_deaths                                                 float64\n",
              "population                                                   float64\n",
              "new_vaccinations_smoothed                                    float64\n",
              "new_people_vaccinated_smoothed                               float64\n",
              "retail_and_recreation_percent_change_from_baseline           float64\n",
              "grocery_and_pharmacy_percent_change_from_baseline            float64\n",
              "parks_percent_change_from_baseline                           float64\n",
              "transit_stations_percent_change_from_baseline                float64\n",
              "workplaces_percent_change_from_baseline                      float64\n",
              "residential_percent_change_from_baseline                     float64\n",
              "lockdown_index                                               float64\n",
              "weekday                                                        int64\n",
              "new_cases_raw                                                float64\n",
              "cases_ppm                                                    float64\n",
              "new_deaths_raw                                               float64\n",
              "deaths_ppm                                                   float64\n",
              "total_vaccinations                                           float64\n",
              "dtype: object"
            ]
          },
          "metadata": {},
          "execution_count": 69
        }
      ]
    },
    {
      "cell_type": "code",
      "source": [
        "df_merged_US_features = df_merged_US[['date', 'workplaces_percent_change_from_baseline',\\\n",
        "                                      'lockdown_index','cases_ppm','deaths_ppm','total_vaccinations']]"
      ],
      "metadata": {
        "id": "12O4pIX6PeN_"
      },
      "execution_count": null,
      "outputs": []
    },
    {
      "cell_type": "code",
      "source": [
        "df4 = df_sub.copy()\n",
        "df4.set_index(\"date\", inplace=True)"
      ],
      "metadata": {
        "id": "RqpYTgxFXAGd"
      },
      "execution_count": 46,
      "outputs": []
    },
    {
      "cell_type": "markdown",
      "source": [
        "## Model fitting USA"
      ],
      "metadata": {
        "id": "-4kaJSOUnynf"
      }
    },
    {
      "cell_type": "code",
      "source": [
        "ts_P = TimeSeries.from_series(df4[\"workplaces_percent_change_from_baseline\"]) "
      ],
      "metadata": {
        "id": "rc1NmBjqQHKZ"
      },
      "execution_count": 47,
      "outputs": []
    },
    {
      "cell_type": "code",
      "source": [
        "# create time series object for the feature columns\n",
        "df_covF = df4.loc[:, df4.columns != \"workplaces_percent_change_from_baseline\"]\n",
        "ts_covF = TimeSeries.from_dataframe(df_covF)\n",
        "\n",
        "# check attributes of the time series\n",
        "print(\"components (columns) of feature time series:\", ts_covF.components)\n",
        "print(\"duration:\",ts_covF.duration)\n",
        "print(\"frequency:\",ts_covF.freq)\n",
        "print(\"frequency:\",ts_covF.freq_str)\n",
        "print(\"has date time index? (or else, it must have an integer index):\",ts_covF.has_datetime_index)\n",
        "print(\"deterministic:\",ts_covF.is_deterministic)\n",
        "print(\"univariate:\",ts_covF.is_univariate)"
      ],
      "metadata": {
        "id": "aibAigvqXEFO",
        "outputId": "2f2c98cc-35b2-47fe-8d84-56f2954fed6a",
        "colab": {
          "base_uri": "https://localhost:8080/"
        }
      },
      "execution_count": 48,
      "outputs": [
        {
          "output_type": "stream",
          "name": "stdout",
          "text": [
            "components (columns) of feature time series: Index(['deaths_ppm', 'cases_ppm', 'percentage_vaccinated',\n",
            "       'residential_percent_change_from_baseline', 'lockdown_index',\n",
            "       'retail_and_recreation_percent_change_from_baseline',\n",
            "       'grocery_and_pharmacy_percent_change_from_baseline',\n",
            "       'parks_percent_change_from_baseline',\n",
            "       'residential_percent_change_from_baseline_1', 'variant'],\n",
            "      dtype='object', name='component')\n",
            "duration: 760 days 00:00:00\n",
            "frequency: <Day>\n",
            "frequency: D\n",
            "has date time index? (or else, it must have an integer index): True\n",
            "deterministic: True\n",
            "univariate: False\n"
          ]
        }
      ]
    },
    {
      "cell_type": "code",
      "source": [
        "ar_covF = ts_covF.all_values()\n",
        "print(type(ar_covF))\n",
        "ar_covF.shape"
      ],
      "metadata": {
        "id": "MbPC_1gCX7kp",
        "outputId": "bc6d2ff4-b6fc-44dc-f7e4-27b7cc272b6c",
        "colab": {
          "base_uri": "https://localhost:8080/"
        }
      },
      "execution_count": 49,
      "outputs": [
        {
          "output_type": "stream",
          "name": "stdout",
          "text": [
            "<class 'numpy.ndarray'>\n"
          ]
        },
        {
          "output_type": "execute_result",
          "data": {
            "text/plain": [
              "(761, 10, 1)"
            ]
          },
          "metadata": {},
          "execution_count": 49
        }
      ]
    },
    {
      "cell_type": "code",
      "source": [
        "df_covF = ts_covF.pd_dataframe()\n",
        "type(df_covF)"
      ],
      "metadata": {
        "id": "jP93JN2vX_2a",
        "outputId": "016f16e0-9bf1-4616-f006-ee5f5d342b50",
        "colab": {
          "base_uri": "https://localhost:8080/"
        }
      },
      "execution_count": 50,
      "outputs": [
        {
          "output_type": "execute_result",
          "data": {
            "text/plain": [
              "pandas.core.frame.DataFrame"
            ]
          },
          "metadata": {},
          "execution_count": 50
        }
      ]
    },
    {
      "cell_type": "code",
      "source": [
        "SPLIT = 716"
      ],
      "metadata": {
        "id": "Ur5xxufPY8it"
      },
      "execution_count": 51,
      "outputs": []
    },
    {
      "cell_type": "code",
      "source": [
        "# train/test split and scaling of target variable\n",
        "ts_train, ts_test = ts_P.split_after(SPLIT)\n",
        "print(\"training start:\", ts_train.start_time())\n",
        "print(\"training end:\", ts_train.end_time())\n",
        "print(\"training duration:\",ts_train.duration)\n",
        "print(\"test start:\", ts_test.start_time())\n",
        "print(\"test end:\", ts_test.end_time())\n",
        "print(\"test duration:\", ts_test.duration)\n",
        "\n",
        "\n",
        "scalerP = Scaler()\n",
        "scalerP.fit_transform(ts_train)\n",
        "ts_ttrain = scalerP.transform(ts_train)\n",
        "ts_ttest = scalerP.transform(ts_test)    \n",
        "ts_t = scalerP.transform(ts_P)\n",
        "\n",
        "# make sure data are of type float\n",
        "ts_t = ts_t.astype(np.float32)\n",
        "ts_ttrain = ts_ttrain.astype(np.float32)\n",
        "ts_ttest = ts_ttest.astype(np.float32)\n",
        "\n",
        "print(\"first and last row of scaled price time series:\")\n",
        "pd.options.display.float_format = '{:,.2f}'.format\n",
        "ts_t.pd_dataframe().iloc[[0,-1]]\n",
        "\n",
        "\n",
        "# train/test split and scaling of feature covariates\n",
        "covF_train, covF_test = ts_covF.split_after(SPLIT)\n",
        "\n",
        "scalerF = Scaler()\n",
        "scalerF.fit_transform(covF_train)\n",
        "covF_ttrain = scalerF.transform(covF_train) \n",
        "covF_ttest = scalerF.transform(covF_test)   \n",
        "covF_t = scalerF.transform(ts_covF)  \n",
        "\n",
        "# make sure data are of type float\n",
        "covF_ttrain = ts_ttrain.astype(np.float32)\n",
        "covF_ttest = ts_ttest.astype(np.float32)\n",
        "\n",
        "pd.options.display.float_format = '{:.2f}'.format\n",
        "print(\"first and last row of scaled feature covariates:\")\n",
        "covF_t.pd_dataframe().iloc[[0,-1]]\n"
      ],
      "metadata": {
        "id": "iNIkHxk7Yt-g",
        "outputId": "cc9af482-6a32-4c7a-83f5-99391dd731cb",
        "colab": {
          "base_uri": "https://localhost:8080/",
          "height": 350
        }
      },
      "execution_count": 52,
      "outputs": [
        {
          "output_type": "stream",
          "name": "stdout",
          "text": [
            "training start: 2020-02-15 00:00:00\n",
            "training end: 2021-12-31 00:00:00\n",
            "training duration: 685 days 00:00:00\n",
            "test start: 2022-01-01 00:00:00\n",
            "test end: 2022-03-16 00:00:00\n",
            "test duration: 74 days 00:00:00\n",
            "first and last row of scaled price time series:\n",
            "first and last row of scaled feature covariates:\n"
          ]
        },
        {
          "output_type": "execute_result",
          "data": {
            "text/plain": [
              "component   deaths_ppm  cases_ppm  percentage_vaccinated  \\\n",
              "date                                                       \n",
              "2020-02-15        0.00       0.00                   0.00   \n",
              "2022-03-16        0.44       0.08                   1.05   \n",
              "\n",
              "component   residential_percent_change_from_baseline  lockdown_index  \\\n",
              "date                                                                   \n",
              "2020-02-15                                      0.03            0.00   \n",
              "2022-03-16                                      0.24            0.76   \n",
              "\n",
              "component   retail_and_recreation_percent_change_from_baseline  \\\n",
              "date                                                             \n",
              "2020-02-15                                               0.92    \n",
              "2022-03-16                                               0.78    \n",
              "\n",
              "component   grocery_and_pharmacy_percent_change_from_baseline  \\\n",
              "date                                                            \n",
              "2020-02-15                                               0.65   \n",
              "2022-03-16                                               0.59   \n",
              "\n",
              "component   parks_percent_change_from_baseline  \\\n",
              "date                                             \n",
              "2020-02-15                                0.35   \n",
              "2022-03-16                                0.42   \n",
              "\n",
              "component   residential_percent_change_from_baseline_1  variant  \n",
              "date                                                             \n",
              "2020-02-15                                        0.03     0.00  \n",
              "2022-03-16                                        0.24     1.00  "
            ],
            "text/html": [
              "\n",
              "  <div id=\"df-c1690d15-11af-4bb7-ba27-fe21e023a651\">\n",
              "    <div class=\"colab-df-container\">\n",
              "      <div>\n",
              "<style scoped>\n",
              "    .dataframe tbody tr th:only-of-type {\n",
              "        vertical-align: middle;\n",
              "    }\n",
              "\n",
              "    .dataframe tbody tr th {\n",
              "        vertical-align: top;\n",
              "    }\n",
              "\n",
              "    .dataframe thead th {\n",
              "        text-align: right;\n",
              "    }\n",
              "</style>\n",
              "<table border=\"1\" class=\"dataframe\">\n",
              "  <thead>\n",
              "    <tr style=\"text-align: right;\">\n",
              "      <th>component</th>\n",
              "      <th>deaths_ppm</th>\n",
              "      <th>cases_ppm</th>\n",
              "      <th>percentage_vaccinated</th>\n",
              "      <th>residential_percent_change_from_baseline</th>\n",
              "      <th>lockdown_index</th>\n",
              "      <th>retail_and_recreation_percent_change_from_baseline</th>\n",
              "      <th>grocery_and_pharmacy_percent_change_from_baseline</th>\n",
              "      <th>parks_percent_change_from_baseline</th>\n",
              "      <th>residential_percent_change_from_baseline_1</th>\n",
              "      <th>variant</th>\n",
              "    </tr>\n",
              "    <tr>\n",
              "      <th>date</th>\n",
              "      <th></th>\n",
              "      <th></th>\n",
              "      <th></th>\n",
              "      <th></th>\n",
              "      <th></th>\n",
              "      <th></th>\n",
              "      <th></th>\n",
              "      <th></th>\n",
              "      <th></th>\n",
              "      <th></th>\n",
              "    </tr>\n",
              "  </thead>\n",
              "  <tbody>\n",
              "    <tr>\n",
              "      <th>2020-02-15</th>\n",
              "      <td>0.00</td>\n",
              "      <td>0.00</td>\n",
              "      <td>0.00</td>\n",
              "      <td>0.03</td>\n",
              "      <td>0.00</td>\n",
              "      <td>0.92</td>\n",
              "      <td>0.65</td>\n",
              "      <td>0.35</td>\n",
              "      <td>0.03</td>\n",
              "      <td>0.00</td>\n",
              "    </tr>\n",
              "    <tr>\n",
              "      <th>2022-03-16</th>\n",
              "      <td>0.44</td>\n",
              "      <td>0.08</td>\n",
              "      <td>1.05</td>\n",
              "      <td>0.24</td>\n",
              "      <td>0.76</td>\n",
              "      <td>0.78</td>\n",
              "      <td>0.59</td>\n",
              "      <td>0.42</td>\n",
              "      <td>0.24</td>\n",
              "      <td>1.00</td>\n",
              "    </tr>\n",
              "  </tbody>\n",
              "</table>\n",
              "</div>\n",
              "      <button class=\"colab-df-convert\" onclick=\"convertToInteractive('df-c1690d15-11af-4bb7-ba27-fe21e023a651')\"\n",
              "              title=\"Convert this dataframe to an interactive table.\"\n",
              "              style=\"display:none;\">\n",
              "        \n",
              "  <svg xmlns=\"http://www.w3.org/2000/svg\" height=\"24px\"viewBox=\"0 0 24 24\"\n",
              "       width=\"24px\">\n",
              "    <path d=\"M0 0h24v24H0V0z\" fill=\"none\"/>\n",
              "    <path d=\"M18.56 5.44l.94 2.06.94-2.06 2.06-.94-2.06-.94-.94-2.06-.94 2.06-2.06.94zm-11 1L8.5 8.5l.94-2.06 2.06-.94-2.06-.94L8.5 2.5l-.94 2.06-2.06.94zm10 10l.94 2.06.94-2.06 2.06-.94-2.06-.94-.94-2.06-.94 2.06-2.06.94z\"/><path d=\"M17.41 7.96l-1.37-1.37c-.4-.4-.92-.59-1.43-.59-.52 0-1.04.2-1.43.59L10.3 9.45l-7.72 7.72c-.78.78-.78 2.05 0 2.83L4 21.41c.39.39.9.59 1.41.59.51 0 1.02-.2 1.41-.59l7.78-7.78 2.81-2.81c.8-.78.8-2.07 0-2.86zM5.41 20L4 18.59l7.72-7.72 1.47 1.35L5.41 20z\"/>\n",
              "  </svg>\n",
              "      </button>\n",
              "      \n",
              "  <style>\n",
              "    .colab-df-container {\n",
              "      display:flex;\n",
              "      flex-wrap:wrap;\n",
              "      gap: 12px;\n",
              "    }\n",
              "\n",
              "    .colab-df-convert {\n",
              "      background-color: #E8F0FE;\n",
              "      border: none;\n",
              "      border-radius: 50%;\n",
              "      cursor: pointer;\n",
              "      display: none;\n",
              "      fill: #1967D2;\n",
              "      height: 32px;\n",
              "      padding: 0 0 0 0;\n",
              "      width: 32px;\n",
              "    }\n",
              "\n",
              "    .colab-df-convert:hover {\n",
              "      background-color: #E2EBFA;\n",
              "      box-shadow: 0px 1px 2px rgba(60, 64, 67, 0.3), 0px 1px 3px 1px rgba(60, 64, 67, 0.15);\n",
              "      fill: #174EA6;\n",
              "    }\n",
              "\n",
              "    [theme=dark] .colab-df-convert {\n",
              "      background-color: #3B4455;\n",
              "      fill: #D2E3FC;\n",
              "    }\n",
              "\n",
              "    [theme=dark] .colab-df-convert:hover {\n",
              "      background-color: #434B5C;\n",
              "      box-shadow: 0px 1px 3px 1px rgba(0, 0, 0, 0.15);\n",
              "      filter: drop-shadow(0px 1px 2px rgba(0, 0, 0, 0.3));\n",
              "      fill: #FFFFFF;\n",
              "    }\n",
              "  </style>\n",
              "\n",
              "      <script>\n",
              "        const buttonEl =\n",
              "          document.querySelector('#df-c1690d15-11af-4bb7-ba27-fe21e023a651 button.colab-df-convert');\n",
              "        buttonEl.style.display =\n",
              "          google.colab.kernel.accessAllowed ? 'block' : 'none';\n",
              "\n",
              "        async function convertToInteractive(key) {\n",
              "          const element = document.querySelector('#df-c1690d15-11af-4bb7-ba27-fe21e023a651');\n",
              "          const dataTable =\n",
              "            await google.colab.kernel.invokeFunction('convertToInteractive',\n",
              "                                                     [key], {});\n",
              "          if (!dataTable) return;\n",
              "\n",
              "          const docLinkHtml = 'Like what you see? Visit the ' +\n",
              "            '<a target=\"_blank\" href=https://colab.research.google.com/notebooks/data_table.ipynb>data table notebook</a>'\n",
              "            + ' to learn more about interactive tables.';\n",
              "          element.innerHTML = '';\n",
              "          dataTable['output_type'] = 'display_data';\n",
              "          await google.colab.output.renderOutput(dataTable, element);\n",
              "          const docLink = document.createElement('div');\n",
              "          docLink.innerHTML = docLinkHtml;\n",
              "          element.appendChild(docLink);\n",
              "        }\n",
              "      </script>\n",
              "    </div>\n",
              "  </div>\n",
              "  "
            ]
          },
          "metadata": {},
          "execution_count": 52
        }
      ]
    },
    {
      "cell_type": "code",
      "source": [
        "ts_P.time_index"
      ],
      "metadata": {
        "id": "res1au0fak30",
        "outputId": "9ee3639f-a220-408a-c331-d70c0af1d35d",
        "colab": {
          "base_uri": "https://localhost:8080/"
        }
      },
      "execution_count": 53,
      "outputs": [
        {
          "output_type": "execute_result",
          "data": {
            "text/plain": [
              "DatetimeIndex(['2020-02-15', '2020-02-16', '2020-02-17', '2020-02-18',\n",
              "               '2020-02-19', '2020-02-20', '2020-02-21', '2020-02-22',\n",
              "               '2020-02-23', '2020-02-24',\n",
              "               ...\n",
              "               '2022-03-07', '2022-03-08', '2022-03-09', '2022-03-10',\n",
              "               '2022-03-11', '2022-03-12', '2022-03-13', '2022-03-14',\n",
              "               '2022-03-15', '2022-03-16'],\n",
              "              dtype='datetime64[ns]', name='date', length=761, freq='D')"
            ]
          },
          "metadata": {},
          "execution_count": 53
        }
      ]
    },
    {
      "cell_type": "code",
      "source": [
        "# feature engineering - create time covariates: hour, weekday, month, year, country-specific holidays\n",
        "covT = datetime_attribute_timeseries(  ts_P.time_index, \n",
        "                                        attribute=\"day\", \n",
        "                                        until=pd.Timestamp(\"2022-04-01\"), one_hot=False)\n",
        "covT = covT.stack(datetime_attribute_timeseries(covT.time_index, attribute=\"day_of_week\", one_hot=False))\n",
        "covT = covT.stack(datetime_attribute_timeseries(covT.time_index, attribute=\"month\", one_hot=False))\n",
        "covT = covT.stack(datetime_attribute_timeseries(covT.time_index, attribute=\"year\", one_hot=False))\n",
        "\n",
        "covT = covT.add_holidays(country_code=\"US\")\n",
        "covT = covT.astype(np.float32)\n",
        "\n",
        "\n",
        "# train/test split\n",
        "covT_train, covT_test = covT.split_after(SPLIT)\n",
        "\n",
        "\n",
        "# rescale the covariates: fitting on the training set\n",
        "scalerT = Scaler()\n",
        "scalerT.fit(covT_train)\n",
        "covT_ttrain = scalerT.transform(covT_train)\n",
        "covT_ttest = scalerT.transform(covT_test)\n",
        "covT_t = scalerT.transform(covT)\n",
        "\n",
        "covT_t = covT_t.astype(np.float32)\n",
        "\n",
        "\n",
        "pd.options.display.float_format = '{:.0f}'.format\n",
        "print(\"first and last row of unscaled time covariates:\")\n",
        "covT.pd_dataframe().iloc[[0,-1]]"
      ],
      "metadata": {
        "id": "dm5HDNdIZE9Q",
        "outputId": "9b01dcbe-9cce-4d2f-c684-475f655825ec",
        "colab": {
          "base_uri": "https://localhost:8080/",
          "height": 161
        }
      },
      "execution_count": 54,
      "outputs": [
        {
          "output_type": "stream",
          "name": "stdout",
          "text": [
            "first and last row of unscaled time covariates:\n"
          ]
        },
        {
          "output_type": "execute_result",
          "data": {
            "text/plain": [
              "component   day  day_of_week  month  year  holidays\n",
              "time                                               \n",
              "2020-02-15   15            5      2  2020         0\n",
              "2022-04-01    1            4      4  2022         0"
            ],
            "text/html": [
              "\n",
              "  <div id=\"df-c31d9504-1d95-411f-aefc-3baac5abb524\">\n",
              "    <div class=\"colab-df-container\">\n",
              "      <div>\n",
              "<style scoped>\n",
              "    .dataframe tbody tr th:only-of-type {\n",
              "        vertical-align: middle;\n",
              "    }\n",
              "\n",
              "    .dataframe tbody tr th {\n",
              "        vertical-align: top;\n",
              "    }\n",
              "\n",
              "    .dataframe thead th {\n",
              "        text-align: right;\n",
              "    }\n",
              "</style>\n",
              "<table border=\"1\" class=\"dataframe\">\n",
              "  <thead>\n",
              "    <tr style=\"text-align: right;\">\n",
              "      <th>component</th>\n",
              "      <th>day</th>\n",
              "      <th>day_of_week</th>\n",
              "      <th>month</th>\n",
              "      <th>year</th>\n",
              "      <th>holidays</th>\n",
              "    </tr>\n",
              "    <tr>\n",
              "      <th>time</th>\n",
              "      <th></th>\n",
              "      <th></th>\n",
              "      <th></th>\n",
              "      <th></th>\n",
              "      <th></th>\n",
              "    </tr>\n",
              "  </thead>\n",
              "  <tbody>\n",
              "    <tr>\n",
              "      <th>2020-02-15</th>\n",
              "      <td>15</td>\n",
              "      <td>5</td>\n",
              "      <td>2</td>\n",
              "      <td>2020</td>\n",
              "      <td>0</td>\n",
              "    </tr>\n",
              "    <tr>\n",
              "      <th>2022-04-01</th>\n",
              "      <td>1</td>\n",
              "      <td>4</td>\n",
              "      <td>4</td>\n",
              "      <td>2022</td>\n",
              "      <td>0</td>\n",
              "    </tr>\n",
              "  </tbody>\n",
              "</table>\n",
              "</div>\n",
              "      <button class=\"colab-df-convert\" onclick=\"convertToInteractive('df-c31d9504-1d95-411f-aefc-3baac5abb524')\"\n",
              "              title=\"Convert this dataframe to an interactive table.\"\n",
              "              style=\"display:none;\">\n",
              "        \n",
              "  <svg xmlns=\"http://www.w3.org/2000/svg\" height=\"24px\"viewBox=\"0 0 24 24\"\n",
              "       width=\"24px\">\n",
              "    <path d=\"M0 0h24v24H0V0z\" fill=\"none\"/>\n",
              "    <path d=\"M18.56 5.44l.94 2.06.94-2.06 2.06-.94-2.06-.94-.94-2.06-.94 2.06-2.06.94zm-11 1L8.5 8.5l.94-2.06 2.06-.94-2.06-.94L8.5 2.5l-.94 2.06-2.06.94zm10 10l.94 2.06.94-2.06 2.06-.94-2.06-.94-.94-2.06-.94 2.06-2.06.94z\"/><path d=\"M17.41 7.96l-1.37-1.37c-.4-.4-.92-.59-1.43-.59-.52 0-1.04.2-1.43.59L10.3 9.45l-7.72 7.72c-.78.78-.78 2.05 0 2.83L4 21.41c.39.39.9.59 1.41.59.51 0 1.02-.2 1.41-.59l7.78-7.78 2.81-2.81c.8-.78.8-2.07 0-2.86zM5.41 20L4 18.59l7.72-7.72 1.47 1.35L5.41 20z\"/>\n",
              "  </svg>\n",
              "      </button>\n",
              "      \n",
              "  <style>\n",
              "    .colab-df-container {\n",
              "      display:flex;\n",
              "      flex-wrap:wrap;\n",
              "      gap: 12px;\n",
              "    }\n",
              "\n",
              "    .colab-df-convert {\n",
              "      background-color: #E8F0FE;\n",
              "      border: none;\n",
              "      border-radius: 50%;\n",
              "      cursor: pointer;\n",
              "      display: none;\n",
              "      fill: #1967D2;\n",
              "      height: 32px;\n",
              "      padding: 0 0 0 0;\n",
              "      width: 32px;\n",
              "    }\n",
              "\n",
              "    .colab-df-convert:hover {\n",
              "      background-color: #E2EBFA;\n",
              "      box-shadow: 0px 1px 2px rgba(60, 64, 67, 0.3), 0px 1px 3px 1px rgba(60, 64, 67, 0.15);\n",
              "      fill: #174EA6;\n",
              "    }\n",
              "\n",
              "    [theme=dark] .colab-df-convert {\n",
              "      background-color: #3B4455;\n",
              "      fill: #D2E3FC;\n",
              "    }\n",
              "\n",
              "    [theme=dark] .colab-df-convert:hover {\n",
              "      background-color: #434B5C;\n",
              "      box-shadow: 0px 1px 3px 1px rgba(0, 0, 0, 0.15);\n",
              "      filter: drop-shadow(0px 1px 2px rgba(0, 0, 0, 0.3));\n",
              "      fill: #FFFFFF;\n",
              "    }\n",
              "  </style>\n",
              "\n",
              "      <script>\n",
              "        const buttonEl =\n",
              "          document.querySelector('#df-c31d9504-1d95-411f-aefc-3baac5abb524 button.colab-df-convert');\n",
              "        buttonEl.style.display =\n",
              "          google.colab.kernel.accessAllowed ? 'block' : 'none';\n",
              "\n",
              "        async function convertToInteractive(key) {\n",
              "          const element = document.querySelector('#df-c31d9504-1d95-411f-aefc-3baac5abb524');\n",
              "          const dataTable =\n",
              "            await google.colab.kernel.invokeFunction('convertToInteractive',\n",
              "                                                     [key], {});\n",
              "          if (!dataTable) return;\n",
              "\n",
              "          const docLinkHtml = 'Like what you see? Visit the ' +\n",
              "            '<a target=\"_blank\" href=https://colab.research.google.com/notebooks/data_table.ipynb>data table notebook</a>'\n",
              "            + ' to learn more about interactive tables.';\n",
              "          element.innerHTML = '';\n",
              "          dataTable['output_type'] = 'display_data';\n",
              "          await google.colab.output.renderOutput(dataTable, element);\n",
              "          const docLink = document.createElement('div');\n",
              "          docLink.innerHTML = docLinkHtml;\n",
              "          element.appendChild(docLink);\n",
              "        }\n",
              "      </script>\n",
              "    </div>\n",
              "  </div>\n",
              "  "
            ]
          },
          "metadata": {},
          "execution_count": 54
        }
      ]
    },
    {
      "cell_type": "code",
      "source": [
        "LOAD = False         # True = load previously saved model from disk?  False = (re)train the model\n",
        "SAVE = \"\\_TForm_model10e.pth.tar\"   # file name to save the model under\n",
        "\n",
        "EPOCHS = 200\n",
        "INLEN = 11          # input size\n",
        "FEAT = 32           # d_model = number of expected features in the inputs, up to 512    \n",
        "HEADS = 4           # default 8\n",
        "ENCODE = 4          # encoder layers\n",
        "DECODE = 4          # decoder layers\n",
        "DIM_FF = 128        # dimensions of the feedforward network, default 2048\n",
        "BATCH = 32          # batch size\n",
        "ACTF = \"relu\"       # activation function, relu (default) or gelu\n",
        "SCHLEARN = None     # a PyTorch learning rate scheduler; None = constant rate\n",
        "LEARN = 1e-3        # learning rate\n",
        "VALWAIT = 1         # epochs to wait before evaluating the loss on the test/validation set\n",
        "DROPOUT = 0.1       # dropout rate\n",
        "N_FC = 1            # output size\n",
        "\n",
        "RAND = 42           # random seed\n",
        "N_SAMPLES = 100     # number of times a prediction is sampled from a probabilistic model\n",
        "N_JOBS = 3          # parallel processors to use;  -1 = all processors\n",
        "\n",
        "# default quantiles for QuantileRegression\n",
        "QUANTILES = [0.01, 0.1, 0.2, 0.5, 0.8, 0.9, 0.99]\n",
        "\n",
        "\n",
        "FIGSIZE = (9, 6)\n",
        "\n",
        "\n",
        "qL1, qL2 = 0.01, 0.10        # percentiles of predictions: lower bounds\n",
        "qU1, qU2 = 1-qL1, 1-qL2,     # upper bounds derived from lower bounds\n",
        "label_q1 = f'{int(qU1 * 100)} / {int(qL1 * 100)} percentile band'\n",
        "label_q2 = f'{int(qU2 * 100)} / {int(qL2 * 100)} percentile band'\n",
        "\n",
        "mpath = os.path.abspath(os.getcwd()) + SAVE     # path and file name to save the model"
      ],
      "metadata": {
        "id": "_5ND8Jq5dKmB"
      },
      "execution_count": 106,
      "outputs": []
    },
    {
      "cell_type": "code",
      "source": [
        "model = TransformerModel(\n",
        "                    input_chunk_length = INLEN,\n",
        "                    output_chunk_length = N_FC,\n",
        "                    batch_size = BATCH,\n",
        "                    n_epochs = EPOCHS,\n",
        "                    model_name = \"Transformer_price\",\n",
        "                    nr_epochs_val_period = VALWAIT,\n",
        "                    d_model = FEAT,\n",
        "                    nhead = HEADS,\n",
        "                    num_encoder_layers = ENCODE,\n",
        "                    num_decoder_layers = DECODE,\n",
        "                    dim_feedforward = DIM_FF,\n",
        "                    dropout = DROPOUT,\n",
        "                    activation = ACTF,\n",
        "                    random_state=RAND,\n",
        "                    likelihood=QuantileRegression(quantiles=QUANTILES), \n",
        "                    optimizer_kwargs={'lr': LEARN},\n",
        "                    add_encoders={\"cyclic\": {\"future\": [\"day\", \"dayofweek\", \"month\",\"variant\"]}},\n",
        "                    save_checkpoints=True,\n",
        "                    force_reset=True\n",
        "                    )"
      ],
      "metadata": {
        "id": "n3dSYhWKa-ew"
      },
      "execution_count": 56,
      "outputs": []
    },
    {
      "cell_type": "code",
      "source": [
        "if LOAD:\n",
        "    print(\"have loaded a previously saved model from disk:\" + mpath)\n",
        "    model = TransformerModel.load_model(mpath)                            # load previously model from disk \n",
        "else:\n",
        "    model.fit(  ts_ttrain, \n",
        "                past_covariates=covT_t, \n",
        "                verbose=True)\n",
        "    print(\"have saved the model after training:\", mpath)\n",
        "    model.save_model(mpath)"
      ],
      "metadata": {
        "id": "wdxhHsgGcb8r",
        "outputId": "e7e284b6-5c62-4797-b1e7-e04fa8be057a",
        "colab": {
          "base_uri": "https://localhost:8080/",
          "height": 67,
          "referenced_widgets": [
            "1bdf1ce4d5e94b4c9b303c4d1e7ebdf3",
            "55b77f5e88d24c638c30f59af11a7f2a",
            "e3666dd9948b41c2ae98210e66e1b844",
            "6f48a1bfffbe4197be07e0ae58c1dcc3",
            "d199945107f34cd38aeb77b4a5c74838",
            "0a7d3fc8c41d4c52b61cfc0a48668841",
            "8e9dbdfdf21340ab987d9a8615e6a465",
            "7ce83efde6b249c3ac064f64083a952b",
            "3a1c1b302fee4377a0894e6c8c62eaf1",
            "d824edd25aab4893b0f56bb68cb141ac",
            "5e6a27dac23d426d8860e2bf1f38de5a"
          ]
        }
      },
      "execution_count": 57,
      "outputs": [
        {
          "output_type": "display_data",
          "data": {
            "text/plain": [
              "Training: 0it [00:00, ?it/s]"
            ],
            "application/vnd.jupyter.widget-view+json": {
              "version_major": 2,
              "version_minor": 0,
              "model_id": "1bdf1ce4d5e94b4c9b303c4d1e7ebdf3"
            }
          },
          "metadata": {}
        },
        {
          "output_type": "stream",
          "name": "stdout",
          "text": [
            "have saved the model after training: /content\\_TForm_model10e.pth.tar\n"
          ]
        }
      ]
    },
    {
      "cell_type": "code",
      "source": [
        "covT_t"
      ],
      "metadata": {
        "colab": {
          "base_uri": "https://localhost:8080/",
          "height": 794
        },
        "id": "c4_ttpG_v-ex",
        "outputId": "1cfbc893-2c3e-49bb-f192-189179f23481"
      },
      "execution_count": 110,
      "outputs": [
        {
          "output_type": "execute_result",
          "data": {
            "text/plain": [
              "<TimeSeries (DataArray) (time: 777, component: 5, sample: 1)>\n",
              "array([[[0.47],\n",
              "        [0.83],\n",
              "        [0.09],\n",
              "        [0.  ],\n",
              "        [0.  ]],\n",
              "\n",
              "       [[0.5 ],\n",
              "        [1.  ],\n",
              "        [0.09],\n",
              "        [0.  ],\n",
              "        [0.  ]],\n",
              "\n",
              "       [[0.53],\n",
              "        [0.  ],\n",
              "        [0.09],\n",
              "        [0.  ],\n",
              "        [1.  ]],\n",
              "\n",
              "       ...,\n",
              "\n",
              "       [[0.97],\n",
              "        [0.33],\n",
              "        [0.18],\n",
              "        [2.  ],\n",
              "        [0.  ]],\n",
              "\n",
              "       [[1.  ],\n",
              "        [0.5 ],\n",
              "        [0.18],\n",
              "        [2.  ],\n",
              "        [0.  ]],\n",
              "\n",
              "       [[0.  ],\n",
              "        [0.67],\n",
              "        [0.27],\n",
              "        [2.  ],\n",
              "        [0.  ]]], dtype=float32)\n",
              "Coordinates:\n",
              "  * time       (time) datetime64[ns] 2020-02-15 2020-02-16 ... 2022-04-01\n",
              "  * component  (component) object 'day' 'day_of_week' 'month' 'year' 'holidays'\n",
              "Dimensions without coordinates: sample"
            ],
            "text/html": [
              "<div><svg style=\"position: absolute; width: 0; height: 0; overflow: hidden\">\n",
              "<defs>\n",
              "<symbol id=\"icon-database\" viewBox=\"0 0 32 32\">\n",
              "<path d=\"M16 0c-8.837 0-16 2.239-16 5v4c0 2.761 7.163 5 16 5s16-2.239 16-5v-4c0-2.761-7.163-5-16-5z\"></path>\n",
              "<path d=\"M16 17c-8.837 0-16-2.239-16-5v6c0 2.761 7.163 5 16 5s16-2.239 16-5v-6c0 2.761-7.163 5-16 5z\"></path>\n",
              "<path d=\"M16 26c-8.837 0-16-2.239-16-5v6c0 2.761 7.163 5 16 5s16-2.239 16-5v-6c0 2.761-7.163 5-16 5z\"></path>\n",
              "</symbol>\n",
              "<symbol id=\"icon-file-text2\" viewBox=\"0 0 32 32\">\n",
              "<path d=\"M28.681 7.159c-0.694-0.947-1.662-2.053-2.724-3.116s-2.169-2.030-3.116-2.724c-1.612-1.182-2.393-1.319-2.841-1.319h-15.5c-1.378 0-2.5 1.121-2.5 2.5v27c0 1.378 1.122 2.5 2.5 2.5h23c1.378 0 2.5-1.122 2.5-2.5v-19.5c0-0.448-0.137-1.23-1.319-2.841zM24.543 5.457c0.959 0.959 1.712 1.825 2.268 2.543h-4.811v-4.811c0.718 0.556 1.584 1.309 2.543 2.268zM28 29.5c0 0.271-0.229 0.5-0.5 0.5h-23c-0.271 0-0.5-0.229-0.5-0.5v-27c0-0.271 0.229-0.5 0.5-0.5 0 0 15.499-0 15.5 0v7c0 0.552 0.448 1 1 1h7v19.5z\"></path>\n",
              "<path d=\"M23 26h-14c-0.552 0-1-0.448-1-1s0.448-1 1-1h14c0.552 0 1 0.448 1 1s-0.448 1-1 1z\"></path>\n",
              "<path d=\"M23 22h-14c-0.552 0-1-0.448-1-1s0.448-1 1-1h14c0.552 0 1 0.448 1 1s-0.448 1-1 1z\"></path>\n",
              "<path d=\"M23 18h-14c-0.552 0-1-0.448-1-1s0.448-1 1-1h14c0.552 0 1 0.448 1 1s-0.448 1-1 1z\"></path>\n",
              "</symbol>\n",
              "</defs>\n",
              "</svg>\n",
              "<style>/* CSS stylesheet for displaying xarray objects in jupyterlab.\n",
              " *\n",
              " */\n",
              "\n",
              ":root {\n",
              "  --xr-font-color0: var(--jp-content-font-color0, rgba(0, 0, 0, 1));\n",
              "  --xr-font-color2: var(--jp-content-font-color2, rgba(0, 0, 0, 0.54));\n",
              "  --xr-font-color3: var(--jp-content-font-color3, rgba(0, 0, 0, 0.38));\n",
              "  --xr-border-color: var(--jp-border-color2, #e0e0e0);\n",
              "  --xr-disabled-color: var(--jp-layout-color3, #bdbdbd);\n",
              "  --xr-background-color: var(--jp-layout-color0, white);\n",
              "  --xr-background-color-row-even: var(--jp-layout-color1, white);\n",
              "  --xr-background-color-row-odd: var(--jp-layout-color2, #eeeeee);\n",
              "}\n",
              "\n",
              "html[theme=dark],\n",
              "body.vscode-dark {\n",
              "  --xr-font-color0: rgba(255, 255, 255, 1);\n",
              "  --xr-font-color2: rgba(255, 255, 255, 0.54);\n",
              "  --xr-font-color3: rgba(255, 255, 255, 0.38);\n",
              "  --xr-border-color: #1F1F1F;\n",
              "  --xr-disabled-color: #515151;\n",
              "  --xr-background-color: #111111;\n",
              "  --xr-background-color-row-even: #111111;\n",
              "  --xr-background-color-row-odd: #313131;\n",
              "}\n",
              "\n",
              ".xr-wrap {\n",
              "  display: block;\n",
              "  min-width: 300px;\n",
              "  max-width: 700px;\n",
              "}\n",
              "\n",
              ".xr-text-repr-fallback {\n",
              "  /* fallback to plain text repr when CSS is not injected (untrusted notebook) */\n",
              "  display: none;\n",
              "}\n",
              "\n",
              ".xr-header {\n",
              "  padding-top: 6px;\n",
              "  padding-bottom: 6px;\n",
              "  margin-bottom: 4px;\n",
              "  border-bottom: solid 1px var(--xr-border-color);\n",
              "}\n",
              "\n",
              ".xr-header > div,\n",
              ".xr-header > ul {\n",
              "  display: inline;\n",
              "  margin-top: 0;\n",
              "  margin-bottom: 0;\n",
              "}\n",
              "\n",
              ".xr-obj-type,\n",
              ".xr-array-name {\n",
              "  margin-left: 2px;\n",
              "  margin-right: 10px;\n",
              "}\n",
              "\n",
              ".xr-obj-type {\n",
              "  color: var(--xr-font-color2);\n",
              "}\n",
              "\n",
              ".xr-sections {\n",
              "  padding-left: 0 !important;\n",
              "  display: grid;\n",
              "  grid-template-columns: 150px auto auto 1fr 20px 20px;\n",
              "}\n",
              "\n",
              ".xr-section-item {\n",
              "  display: contents;\n",
              "}\n",
              "\n",
              ".xr-section-item input {\n",
              "  display: none;\n",
              "}\n",
              "\n",
              ".xr-section-item input + label {\n",
              "  color: var(--xr-disabled-color);\n",
              "}\n",
              "\n",
              ".xr-section-item input:enabled + label {\n",
              "  cursor: pointer;\n",
              "  color: var(--xr-font-color2);\n",
              "}\n",
              "\n",
              ".xr-section-item input:enabled + label:hover {\n",
              "  color: var(--xr-font-color0);\n",
              "}\n",
              "\n",
              ".xr-section-summary {\n",
              "  grid-column: 1;\n",
              "  color: var(--xr-font-color2);\n",
              "  font-weight: 500;\n",
              "}\n",
              "\n",
              ".xr-section-summary > span {\n",
              "  display: inline-block;\n",
              "  padding-left: 0.5em;\n",
              "}\n",
              "\n",
              ".xr-section-summary-in:disabled + label {\n",
              "  color: var(--xr-font-color2);\n",
              "}\n",
              "\n",
              ".xr-section-summary-in + label:before {\n",
              "  display: inline-block;\n",
              "  content: '►';\n",
              "  font-size: 11px;\n",
              "  width: 15px;\n",
              "  text-align: center;\n",
              "}\n",
              "\n",
              ".xr-section-summary-in:disabled + label:before {\n",
              "  color: var(--xr-disabled-color);\n",
              "}\n",
              "\n",
              ".xr-section-summary-in:checked + label:before {\n",
              "  content: '▼';\n",
              "}\n",
              "\n",
              ".xr-section-summary-in:checked + label > span {\n",
              "  display: none;\n",
              "}\n",
              "\n",
              ".xr-section-summary,\n",
              ".xr-section-inline-details {\n",
              "  padding-top: 4px;\n",
              "  padding-bottom: 4px;\n",
              "}\n",
              "\n",
              ".xr-section-inline-details {\n",
              "  grid-column: 2 / -1;\n",
              "}\n",
              "\n",
              ".xr-section-details {\n",
              "  display: none;\n",
              "  grid-column: 1 / -1;\n",
              "  margin-bottom: 5px;\n",
              "}\n",
              "\n",
              ".xr-section-summary-in:checked ~ .xr-section-details {\n",
              "  display: contents;\n",
              "}\n",
              "\n",
              ".xr-array-wrap {\n",
              "  grid-column: 1 / -1;\n",
              "  display: grid;\n",
              "  grid-template-columns: 20px auto;\n",
              "}\n",
              "\n",
              ".xr-array-wrap > label {\n",
              "  grid-column: 1;\n",
              "  vertical-align: top;\n",
              "}\n",
              "\n",
              ".xr-preview {\n",
              "  color: var(--xr-font-color3);\n",
              "}\n",
              "\n",
              ".xr-array-preview,\n",
              ".xr-array-data {\n",
              "  padding: 0 5px !important;\n",
              "  grid-column: 2;\n",
              "}\n",
              "\n",
              ".xr-array-data,\n",
              ".xr-array-in:checked ~ .xr-array-preview {\n",
              "  display: none;\n",
              "}\n",
              "\n",
              ".xr-array-in:checked ~ .xr-array-data,\n",
              ".xr-array-preview {\n",
              "  display: inline-block;\n",
              "}\n",
              "\n",
              ".xr-dim-list {\n",
              "  display: inline-block !important;\n",
              "  list-style: none;\n",
              "  padding: 0 !important;\n",
              "  margin: 0;\n",
              "}\n",
              "\n",
              ".xr-dim-list li {\n",
              "  display: inline-block;\n",
              "  padding: 0;\n",
              "  margin: 0;\n",
              "}\n",
              "\n",
              ".xr-dim-list:before {\n",
              "  content: '(';\n",
              "}\n",
              "\n",
              ".xr-dim-list:after {\n",
              "  content: ')';\n",
              "}\n",
              "\n",
              ".xr-dim-list li:not(:last-child):after {\n",
              "  content: ',';\n",
              "  padding-right: 5px;\n",
              "}\n",
              "\n",
              ".xr-has-index {\n",
              "  font-weight: bold;\n",
              "}\n",
              "\n",
              ".xr-var-list,\n",
              ".xr-var-item {\n",
              "  display: contents;\n",
              "}\n",
              "\n",
              ".xr-var-item > div,\n",
              ".xr-var-item label,\n",
              ".xr-var-item > .xr-var-name span {\n",
              "  background-color: var(--xr-background-color-row-even);\n",
              "  margin-bottom: 0;\n",
              "}\n",
              "\n",
              ".xr-var-item > .xr-var-name:hover span {\n",
              "  padding-right: 5px;\n",
              "}\n",
              "\n",
              ".xr-var-list > li:nth-child(odd) > div,\n",
              ".xr-var-list > li:nth-child(odd) > label,\n",
              ".xr-var-list > li:nth-child(odd) > .xr-var-name span {\n",
              "  background-color: var(--xr-background-color-row-odd);\n",
              "}\n",
              "\n",
              ".xr-var-name {\n",
              "  grid-column: 1;\n",
              "}\n",
              "\n",
              ".xr-var-dims {\n",
              "  grid-column: 2;\n",
              "}\n",
              "\n",
              ".xr-var-dtype {\n",
              "  grid-column: 3;\n",
              "  text-align: right;\n",
              "  color: var(--xr-font-color2);\n",
              "}\n",
              "\n",
              ".xr-var-preview {\n",
              "  grid-column: 4;\n",
              "}\n",
              "\n",
              ".xr-var-name,\n",
              ".xr-var-dims,\n",
              ".xr-var-dtype,\n",
              ".xr-preview,\n",
              ".xr-attrs dt {\n",
              "  white-space: nowrap;\n",
              "  overflow: hidden;\n",
              "  text-overflow: ellipsis;\n",
              "  padding-right: 10px;\n",
              "}\n",
              "\n",
              ".xr-var-name:hover,\n",
              ".xr-var-dims:hover,\n",
              ".xr-var-dtype:hover,\n",
              ".xr-attrs dt:hover {\n",
              "  overflow: visible;\n",
              "  width: auto;\n",
              "  z-index: 1;\n",
              "}\n",
              "\n",
              ".xr-var-attrs,\n",
              ".xr-var-data {\n",
              "  display: none;\n",
              "  background-color: var(--xr-background-color) !important;\n",
              "  padding-bottom: 5px !important;\n",
              "}\n",
              "\n",
              ".xr-var-attrs-in:checked ~ .xr-var-attrs,\n",
              ".xr-var-data-in:checked ~ .xr-var-data {\n",
              "  display: block;\n",
              "}\n",
              "\n",
              ".xr-var-data > table {\n",
              "  float: right;\n",
              "}\n",
              "\n",
              ".xr-var-name span,\n",
              ".xr-var-data,\n",
              ".xr-attrs {\n",
              "  padding-left: 25px !important;\n",
              "}\n",
              "\n",
              ".xr-attrs,\n",
              ".xr-var-attrs,\n",
              ".xr-var-data {\n",
              "  grid-column: 1 / -1;\n",
              "}\n",
              "\n",
              "dl.xr-attrs {\n",
              "  padding: 0;\n",
              "  margin: 0;\n",
              "  display: grid;\n",
              "  grid-template-columns: 125px auto;\n",
              "}\n",
              "\n",
              ".xr-attrs dt,\n",
              ".xr-attrs dd {\n",
              "  padding: 0;\n",
              "  margin: 0;\n",
              "  float: left;\n",
              "  padding-right: 10px;\n",
              "  width: auto;\n",
              "}\n",
              "\n",
              ".xr-attrs dt {\n",
              "  font-weight: normal;\n",
              "  grid-column: 1;\n",
              "}\n",
              "\n",
              ".xr-attrs dt:hover span {\n",
              "  display: inline-block;\n",
              "  background: var(--xr-background-color);\n",
              "  padding-right: 10px;\n",
              "}\n",
              "\n",
              ".xr-attrs dd {\n",
              "  grid-column: 2;\n",
              "  white-space: pre-wrap;\n",
              "  word-break: break-all;\n",
              "}\n",
              "\n",
              ".xr-icon-database,\n",
              ".xr-icon-file-text2 {\n",
              "  display: inline-block;\n",
              "  vertical-align: middle;\n",
              "  width: 1em;\n",
              "  height: 1.5em !important;\n",
              "  stroke-width: 0;\n",
              "  stroke: currentColor;\n",
              "  fill: currentColor;\n",
              "}\n",
              "</style><pre class='xr-text-repr-fallback'>&lt;TimeSeries (DataArray) (time: 777, component: 5, sample: 1)&gt;\n",
              "array([[[0.47],\n",
              "        [0.83],\n",
              "        [0.09],\n",
              "        [0.  ],\n",
              "        [0.  ]],\n",
              "\n",
              "       [[0.5 ],\n",
              "        [1.  ],\n",
              "        [0.09],\n",
              "        [0.  ],\n",
              "        [0.  ]],\n",
              "\n",
              "       [[0.53],\n",
              "        [0.  ],\n",
              "        [0.09],\n",
              "        [0.  ],\n",
              "        [1.  ]],\n",
              "\n",
              "       ...,\n",
              "\n",
              "       [[0.97],\n",
              "        [0.33],\n",
              "        [0.18],\n",
              "        [2.  ],\n",
              "        [0.  ]],\n",
              "\n",
              "       [[1.  ],\n",
              "        [0.5 ],\n",
              "        [0.18],\n",
              "        [2.  ],\n",
              "        [0.  ]],\n",
              "\n",
              "       [[0.  ],\n",
              "        [0.67],\n",
              "        [0.27],\n",
              "        [2.  ],\n",
              "        [0.  ]]], dtype=float32)\n",
              "Coordinates:\n",
              "  * time       (time) datetime64[ns] 2020-02-15 2020-02-16 ... 2022-04-01\n",
              "  * component  (component) object &#x27;day&#x27; &#x27;day_of_week&#x27; &#x27;month&#x27; &#x27;year&#x27; &#x27;holidays&#x27;\n",
              "Dimensions without coordinates: sample</pre><div class='xr-wrap' hidden><div class='xr-header'><div class='xr-obj-type'>TimeSeries (DataArray)</div><div class='xr-array-name'></div><ul class='xr-dim-list'><li><span class='xr-has-index'>time</span>: 777</li><li><span class='xr-has-index'>component</span>: 5</li><li><span>sample</span>: 1</li></ul></div><ul class='xr-sections'><li class='xr-section-item'><div class='xr-array-wrap'><input id='section-3be24182-fd54-4c42-a380-70d9550c0f5d' class='xr-array-in' type='checkbox' checked><label for='section-3be24182-fd54-4c42-a380-70d9550c0f5d' title='Show/hide data repr'><svg class='icon xr-icon-database'><use xlink:href='#icon-database'></use></svg></label><div class='xr-array-preview xr-preview'><span>0.4667 0.8333 0.09091 0.0 0.0 0.5 ... 0.0 0.0 0.6667 0.2727 2.0 0.0</span></div><div class='xr-array-data'><pre>array([[[0.47],\n",
              "        [0.83],\n",
              "        [0.09],\n",
              "        [0.  ],\n",
              "        [0.  ]],\n",
              "\n",
              "       [[0.5 ],\n",
              "        [1.  ],\n",
              "        [0.09],\n",
              "        [0.  ],\n",
              "        [0.  ]],\n",
              "\n",
              "       [[0.53],\n",
              "        [0.  ],\n",
              "        [0.09],\n",
              "        [0.  ],\n",
              "        [1.  ]],\n",
              "\n",
              "       ...,\n",
              "\n",
              "       [[0.97],\n",
              "        [0.33],\n",
              "        [0.18],\n",
              "        [2.  ],\n",
              "        [0.  ]],\n",
              "\n",
              "       [[1.  ],\n",
              "        [0.5 ],\n",
              "        [0.18],\n",
              "        [2.  ],\n",
              "        [0.  ]],\n",
              "\n",
              "       [[0.  ],\n",
              "        [0.67],\n",
              "        [0.27],\n",
              "        [2.  ],\n",
              "        [0.  ]]], dtype=float32)</pre></div></div></li><li class='xr-section-item'><input id='section-84201a2e-8a5f-4463-81d7-d196450c09e0' class='xr-section-summary-in' type='checkbox'  checked><label for='section-84201a2e-8a5f-4463-81d7-d196450c09e0' class='xr-section-summary' >Coordinates: <span>(2)</span></label><div class='xr-section-inline-details'></div><div class='xr-section-details'><ul class='xr-var-list'><li class='xr-var-item'><div class='xr-var-name'><span class='xr-has-index'>time</span></div><div class='xr-var-dims'>(time)</div><div class='xr-var-dtype'>datetime64[ns]</div><div class='xr-var-preview xr-preview'>2020-02-15 ... 2022-04-01</div><input id='attrs-f25a65b4-ec34-482c-b1de-221c428d73eb' class='xr-var-attrs-in' type='checkbox' disabled><label for='attrs-f25a65b4-ec34-482c-b1de-221c428d73eb' title='Show/Hide attributes'><svg class='icon xr-icon-file-text2'><use xlink:href='#icon-file-text2'></use></svg></label><input id='data-9b991c85-d960-4a67-acd3-ec3daf867b32' class='xr-var-data-in' type='checkbox'><label for='data-9b991c85-d960-4a67-acd3-ec3daf867b32' title='Show/Hide data repr'><svg class='icon xr-icon-database'><use xlink:href='#icon-database'></use></svg></label><div class='xr-var-attrs'><dl class='xr-attrs'></dl></div><div class='xr-var-data'><pre>array([&#x27;2020-02-15T00:00:00.000000000&#x27;, &#x27;2020-02-16T00:00:00.000000000&#x27;,\n",
              "       &#x27;2020-02-17T00:00:00.000000000&#x27;, ..., &#x27;2022-03-30T00:00:00.000000000&#x27;,\n",
              "       &#x27;2022-03-31T00:00:00.000000000&#x27;, &#x27;2022-04-01T00:00:00.000000000&#x27;],\n",
              "      dtype=&#x27;datetime64[ns]&#x27;)</pre></div></li><li class='xr-var-item'><div class='xr-var-name'><span class='xr-has-index'>component</span></div><div class='xr-var-dims'>(component)</div><div class='xr-var-dtype'>object</div><div class='xr-var-preview xr-preview'>&#x27;day&#x27; &#x27;day_of_week&#x27; ... &#x27;holidays&#x27;</div><input id='attrs-c4c97a31-2de8-400a-af1d-b7a28b00a9b1' class='xr-var-attrs-in' type='checkbox' disabled><label for='attrs-c4c97a31-2de8-400a-af1d-b7a28b00a9b1' title='Show/Hide attributes'><svg class='icon xr-icon-file-text2'><use xlink:href='#icon-file-text2'></use></svg></label><input id='data-4776c20e-a5d1-4c79-a704-b1fcdb8eff77' class='xr-var-data-in' type='checkbox'><label for='data-4776c20e-a5d1-4c79-a704-b1fcdb8eff77' title='Show/Hide data repr'><svg class='icon xr-icon-database'><use xlink:href='#icon-database'></use></svg></label><div class='xr-var-attrs'><dl class='xr-attrs'></dl></div><div class='xr-var-data'><pre>array([&#x27;day&#x27;, &#x27;day_of_week&#x27;, &#x27;month&#x27;, &#x27;year&#x27;, &#x27;holidays&#x27;], dtype=object)</pre></div></li></ul></div></li><li class='xr-section-item'><input id='section-b7893725-f1bd-47ca-b24b-8ccbdcb97ea5' class='xr-section-summary-in' type='checkbox' disabled ><label for='section-b7893725-f1bd-47ca-b24b-8ccbdcb97ea5' class='xr-section-summary'  title='Expand/collapse section'>Attributes: <span>(0)</span></label><div class='xr-section-inline-details'></div><div class='xr-section-details'><dl class='xr-attrs'></dl></div></li></ul></div></div>"
            ]
          },
          "metadata": {},
          "execution_count": 110
        }
      ]
    },
    {
      "cell_type": "code",
      "source": [
        "# testing: generate predictions\n",
        "ts_tpred = model.predict(   n=len(ts_ttest), \n",
        "                            num_samples=N_SAMPLES,   \n",
        "                            n_jobs=N_JOBS, \n",
        "                            verbose=True)"
      ],
      "metadata": {
        "id": "u246Y8N-jtWf",
        "outputId": "53415f3f-1ad8-4d5a-8daf-fdd72df35054",
        "colab": {
          "base_uri": "https://localhost:8080/",
          "height": 49,
          "referenced_widgets": [
            "84ef51b3d366412383a42752821d8ca5",
            "652bee50f0b04241affeabb54551cd9e",
            "a1cf4ce657f04955992dbd5c2337b059",
            "c45542b3f0a241809c2ddc2e72cc4e87",
            "739c77c533a74947bfe336e3ccb496b2",
            "96dde96f05934dfdaf7697f0356c7e78",
            "6a7ff5b3aab24dbdba006393ca782470",
            "747149fd2d624c31998da1247aebc8b8",
            "34ca4c3143044d3b89688457bb58ebee",
            "60eb18db6ca34b90b6c853d49f503e29",
            "134c4a4f21ad4853999f2e09de4a26c0"
          ]
        }
      },
      "execution_count": 58,
      "outputs": [
        {
          "output_type": "display_data",
          "data": {
            "text/plain": [
              "Predicting: 22it [00:00, ?it/s]"
            ],
            "application/vnd.jupyter.widget-view+json": {
              "version_major": 2,
              "version_minor": 0,
              "model_id": "84ef51b3d366412383a42752821d8ca5"
            }
          },
          "metadata": {}
        }
      ]
    },
    {
      "cell_type": "code",
      "source": [
        "\n",
        "# retrieve forecast series for chosen quantiles, \n",
        "# inverse-transform each series,\n",
        "# insert them as columns in a new dataframe dfY\n",
        "q50_RMSE = np.inf\n",
        "q50_MAPE = np.inf\n",
        "ts_q50 = None\n",
        "pd.options.display.float_format = '{:,.2f}'.format\n",
        "dfY = pd.DataFrame()\n",
        "dfY[\"Actual\"] = TimeSeries.pd_series(ts_test)\n",
        "\n",
        "\n",
        "# helper function: get forecast values for selected quantile q and insert them in dataframe dfY\n",
        "def predQ(ts_t, q):\n",
        "    ts_tq = ts_t.quantile_timeseries(q)\n",
        "    ts_q = scalerP.inverse_transform(ts_tq)\n",
        "    s = TimeSeries.pd_series(ts_q)\n",
        "    header = \"Q\" + format(int(q*100), \"02d\")\n",
        "    dfY[header] = s\n",
        "    if q==0.5:\n",
        "        ts_q50 = ts_q\n",
        "        q50_RMSE = rmse(ts_q50, ts_test)\n",
        "        q50_MAPE = mape(ts_q50, ts_test) \n",
        "        print(\"RMSE:\", f'{q50_RMSE:.2f}')\n",
        "        print(\"MAPE:\", f'{q50_MAPE:.2f}')\n",
        "  \n",
        "    \n",
        "# call helper function predQ, once for every quantile\n",
        "_ = [predQ(ts_tpred, q) for q in QUANTILES]\n",
        "\n",
        "# move Q50 column to the left of the Actual column\n",
        "col = dfY.pop(\"Q50\")\n",
        "dfY.insert(1, col.name, col)\n",
        "dfY.iloc[np.r_[0:2, -2:0]]"
      ],
      "metadata": {
        "id": "yDvuMJzCd7XS",
        "outputId": "f2e6fec2-31c1-4756-9045-15b5efc9208b",
        "colab": {
          "base_uri": "https://localhost:8080/",
          "height": 242
        }
      },
      "execution_count": 59,
      "outputs": [
        {
          "output_type": "stream",
          "name": "stdout",
          "text": [
            "RMSE: 5.25\n",
            "MAPE: 18.41\n"
          ]
        },
        {
          "output_type": "execute_result",
          "data": {
            "text/plain": [
              "            Actual    Q50    Q01    Q10    Q20    Q80    Q90    Q99\n",
              "date                                                               \n",
              "2022-01-01  -44.00 -30.27 -81.49 -54.75 -43.03 -20.09 -10.84   2.76\n",
              "2022-01-02  -17.00 -14.40 -32.03 -20.09 -17.46 -12.44 -11.21  -7.33\n",
              "2022-03-15  -23.00 -26.98 -40.89 -31.87 -29.49 -25.38 -22.95 -18.68\n",
              "2022-03-16  -22.00 -26.44 -40.65 -34.60 -29.11 -24.47 -21.42 -18.68"
            ],
            "text/html": [
              "\n",
              "  <div id=\"df-a0da4575-f97f-47ac-94ee-c17840d6c4f4\">\n",
              "    <div class=\"colab-df-container\">\n",
              "      <div>\n",
              "<style scoped>\n",
              "    .dataframe tbody tr th:only-of-type {\n",
              "        vertical-align: middle;\n",
              "    }\n",
              "\n",
              "    .dataframe tbody tr th {\n",
              "        vertical-align: top;\n",
              "    }\n",
              "\n",
              "    .dataframe thead th {\n",
              "        text-align: right;\n",
              "    }\n",
              "</style>\n",
              "<table border=\"1\" class=\"dataframe\">\n",
              "  <thead>\n",
              "    <tr style=\"text-align: right;\">\n",
              "      <th></th>\n",
              "      <th>Actual</th>\n",
              "      <th>Q50</th>\n",
              "      <th>Q01</th>\n",
              "      <th>Q10</th>\n",
              "      <th>Q20</th>\n",
              "      <th>Q80</th>\n",
              "      <th>Q90</th>\n",
              "      <th>Q99</th>\n",
              "    </tr>\n",
              "    <tr>\n",
              "      <th>date</th>\n",
              "      <th></th>\n",
              "      <th></th>\n",
              "      <th></th>\n",
              "      <th></th>\n",
              "      <th></th>\n",
              "      <th></th>\n",
              "      <th></th>\n",
              "      <th></th>\n",
              "    </tr>\n",
              "  </thead>\n",
              "  <tbody>\n",
              "    <tr>\n",
              "      <th>2022-01-01</th>\n",
              "      <td>-44.00</td>\n",
              "      <td>-30.27</td>\n",
              "      <td>-81.49</td>\n",
              "      <td>-54.75</td>\n",
              "      <td>-43.03</td>\n",
              "      <td>-20.09</td>\n",
              "      <td>-10.84</td>\n",
              "      <td>2.76</td>\n",
              "    </tr>\n",
              "    <tr>\n",
              "      <th>2022-01-02</th>\n",
              "      <td>-17.00</td>\n",
              "      <td>-14.40</td>\n",
              "      <td>-32.03</td>\n",
              "      <td>-20.09</td>\n",
              "      <td>-17.46</td>\n",
              "      <td>-12.44</td>\n",
              "      <td>-11.21</td>\n",
              "      <td>-7.33</td>\n",
              "    </tr>\n",
              "    <tr>\n",
              "      <th>2022-03-15</th>\n",
              "      <td>-23.00</td>\n",
              "      <td>-26.98</td>\n",
              "      <td>-40.89</td>\n",
              "      <td>-31.87</td>\n",
              "      <td>-29.49</td>\n",
              "      <td>-25.38</td>\n",
              "      <td>-22.95</td>\n",
              "      <td>-18.68</td>\n",
              "    </tr>\n",
              "    <tr>\n",
              "      <th>2022-03-16</th>\n",
              "      <td>-22.00</td>\n",
              "      <td>-26.44</td>\n",
              "      <td>-40.65</td>\n",
              "      <td>-34.60</td>\n",
              "      <td>-29.11</td>\n",
              "      <td>-24.47</td>\n",
              "      <td>-21.42</td>\n",
              "      <td>-18.68</td>\n",
              "    </tr>\n",
              "  </tbody>\n",
              "</table>\n",
              "</div>\n",
              "      <button class=\"colab-df-convert\" onclick=\"convertToInteractive('df-a0da4575-f97f-47ac-94ee-c17840d6c4f4')\"\n",
              "              title=\"Convert this dataframe to an interactive table.\"\n",
              "              style=\"display:none;\">\n",
              "        \n",
              "  <svg xmlns=\"http://www.w3.org/2000/svg\" height=\"24px\"viewBox=\"0 0 24 24\"\n",
              "       width=\"24px\">\n",
              "    <path d=\"M0 0h24v24H0V0z\" fill=\"none\"/>\n",
              "    <path d=\"M18.56 5.44l.94 2.06.94-2.06 2.06-.94-2.06-.94-.94-2.06-.94 2.06-2.06.94zm-11 1L8.5 8.5l.94-2.06 2.06-.94-2.06-.94L8.5 2.5l-.94 2.06-2.06.94zm10 10l.94 2.06.94-2.06 2.06-.94-2.06-.94-.94-2.06-.94 2.06-2.06.94z\"/><path d=\"M17.41 7.96l-1.37-1.37c-.4-.4-.92-.59-1.43-.59-.52 0-1.04.2-1.43.59L10.3 9.45l-7.72 7.72c-.78.78-.78 2.05 0 2.83L4 21.41c.39.39.9.59 1.41.59.51 0 1.02-.2 1.41-.59l7.78-7.78 2.81-2.81c.8-.78.8-2.07 0-2.86zM5.41 20L4 18.59l7.72-7.72 1.47 1.35L5.41 20z\"/>\n",
              "  </svg>\n",
              "      </button>\n",
              "      \n",
              "  <style>\n",
              "    .colab-df-container {\n",
              "      display:flex;\n",
              "      flex-wrap:wrap;\n",
              "      gap: 12px;\n",
              "    }\n",
              "\n",
              "    .colab-df-convert {\n",
              "      background-color: #E8F0FE;\n",
              "      border: none;\n",
              "      border-radius: 50%;\n",
              "      cursor: pointer;\n",
              "      display: none;\n",
              "      fill: #1967D2;\n",
              "      height: 32px;\n",
              "      padding: 0 0 0 0;\n",
              "      width: 32px;\n",
              "    }\n",
              "\n",
              "    .colab-df-convert:hover {\n",
              "      background-color: #E2EBFA;\n",
              "      box-shadow: 0px 1px 2px rgba(60, 64, 67, 0.3), 0px 1px 3px 1px rgba(60, 64, 67, 0.15);\n",
              "      fill: #174EA6;\n",
              "    }\n",
              "\n",
              "    [theme=dark] .colab-df-convert {\n",
              "      background-color: #3B4455;\n",
              "      fill: #D2E3FC;\n",
              "    }\n",
              "\n",
              "    [theme=dark] .colab-df-convert:hover {\n",
              "      background-color: #434B5C;\n",
              "      box-shadow: 0px 1px 3px 1px rgba(0, 0, 0, 0.15);\n",
              "      filter: drop-shadow(0px 1px 2px rgba(0, 0, 0, 0.3));\n",
              "      fill: #FFFFFF;\n",
              "    }\n",
              "  </style>\n",
              "\n",
              "      <script>\n",
              "        const buttonEl =\n",
              "          document.querySelector('#df-a0da4575-f97f-47ac-94ee-c17840d6c4f4 button.colab-df-convert');\n",
              "        buttonEl.style.display =\n",
              "          google.colab.kernel.accessAllowed ? 'block' : 'none';\n",
              "\n",
              "        async function convertToInteractive(key) {\n",
              "          const element = document.querySelector('#df-a0da4575-f97f-47ac-94ee-c17840d6c4f4');\n",
              "          const dataTable =\n",
              "            await google.colab.kernel.invokeFunction('convertToInteractive',\n",
              "                                                     [key], {});\n",
              "          if (!dataTable) return;\n",
              "\n",
              "          const docLinkHtml = 'Like what you see? Visit the ' +\n",
              "            '<a target=\"_blank\" href=https://colab.research.google.com/notebooks/data_table.ipynb>data table notebook</a>'\n",
              "            + ' to learn more about interactive tables.';\n",
              "          element.innerHTML = '';\n",
              "          dataTable['output_type'] = 'display_data';\n",
              "          await google.colab.output.renderOutput(dataTable, element);\n",
              "          const docLink = document.createElement('div');\n",
              "          docLink.innerHTML = docLinkHtml;\n",
              "          element.appendChild(docLink);\n",
              "        }\n",
              "      </script>\n",
              "    </div>\n",
              "  </div>\n",
              "  "
            ]
          },
          "metadata": {},
          "execution_count": 59
        }
      ]
    },
    {
      "cell_type": "code",
      "source": [
        "# retrieve forecast series for chosen quantiles, \n",
        "# inverse-transform each series,\n",
        "# insert them as columns in a new dataframe dfY\n",
        "q50_RMSE = np.inf\n",
        "q50_MAPE = np.inf\n",
        "ts_q50 = None\n",
        "pd.options.display.float_format = '{:,.2f}'.format\n",
        "dfY = pd.DataFrame()\n",
        "dfY[\"Actual\"] = TimeSeries.pd_series(ts_test)\n",
        "\n",
        "\n",
        "# helper function: get forecast values for selected quantile q and insert them in dataframe dfY\n",
        "def predQ(ts_t, q):\n",
        "    ts_tq = ts_t.quantile_timeseries(q)\n",
        "    ts_q = scalerP.inverse_transform(ts_tq)\n",
        "    s = TimeSeries.pd_series(ts_q)\n",
        "    header = \"Q\" + format(int(q*100), \"02d\")\n",
        "    dfY[header] = s\n",
        "    if q==0.5:\n",
        "        ts_q50 = ts_q\n",
        "        q50_RMSE = rmse(ts_q50, ts_test)\n",
        "        q50_MAPE = mape(ts_q50, ts_test) \n",
        "        print(\"RMSE:\", f'{q50_RMSE:.2f}')\n",
        "        print(\"MAPE:\", f'{q50_MAPE:.2f}')\n",
        "  \n",
        "    \n",
        "# call helper function predQ, once for every quantile\n",
        "_ = [predQ(ts_tpred, q) for q in QUANTILES]\n",
        "\n",
        "# move Q50 column to the left of the Actual column\n",
        "col = dfY.pop(\"Q50\")\n",
        "dfY.insert(1, col.name, col)\n",
        "dfY.iloc[np.r_[0:2, -2:0]]"
      ],
      "metadata": {
        "id": "1qLa9EP-lBY3",
        "outputId": "157b55ab-9698-4666-848f-a1d5ef5eddd5",
        "colab": {
          "base_uri": "https://localhost:8080/",
          "height": 242
        }
      },
      "execution_count": 60,
      "outputs": [
        {
          "output_type": "stream",
          "name": "stdout",
          "text": [
            "RMSE: 5.25\n",
            "MAPE: 18.41\n"
          ]
        },
        {
          "output_type": "execute_result",
          "data": {
            "text/plain": [
              "            Actual    Q50    Q01    Q10    Q20    Q80    Q90    Q99\n",
              "date                                                               \n",
              "2022-01-01  -44.00 -30.27 -81.49 -54.75 -43.03 -20.09 -10.84   2.76\n",
              "2022-01-02  -17.00 -14.40 -32.03 -20.09 -17.46 -12.44 -11.21  -7.33\n",
              "2022-03-15  -23.00 -26.98 -40.89 -31.87 -29.49 -25.38 -22.95 -18.68\n",
              "2022-03-16  -22.00 -26.44 -40.65 -34.60 -29.11 -24.47 -21.42 -18.68"
            ],
            "text/html": [
              "\n",
              "  <div id=\"df-cc52781a-2f34-449d-bd8a-22b1e900038e\">\n",
              "    <div class=\"colab-df-container\">\n",
              "      <div>\n",
              "<style scoped>\n",
              "    .dataframe tbody tr th:only-of-type {\n",
              "        vertical-align: middle;\n",
              "    }\n",
              "\n",
              "    .dataframe tbody tr th {\n",
              "        vertical-align: top;\n",
              "    }\n",
              "\n",
              "    .dataframe thead th {\n",
              "        text-align: right;\n",
              "    }\n",
              "</style>\n",
              "<table border=\"1\" class=\"dataframe\">\n",
              "  <thead>\n",
              "    <tr style=\"text-align: right;\">\n",
              "      <th></th>\n",
              "      <th>Actual</th>\n",
              "      <th>Q50</th>\n",
              "      <th>Q01</th>\n",
              "      <th>Q10</th>\n",
              "      <th>Q20</th>\n",
              "      <th>Q80</th>\n",
              "      <th>Q90</th>\n",
              "      <th>Q99</th>\n",
              "    </tr>\n",
              "    <tr>\n",
              "      <th>date</th>\n",
              "      <th></th>\n",
              "      <th></th>\n",
              "      <th></th>\n",
              "      <th></th>\n",
              "      <th></th>\n",
              "      <th></th>\n",
              "      <th></th>\n",
              "      <th></th>\n",
              "    </tr>\n",
              "  </thead>\n",
              "  <tbody>\n",
              "    <tr>\n",
              "      <th>2022-01-01</th>\n",
              "      <td>-44.00</td>\n",
              "      <td>-30.27</td>\n",
              "      <td>-81.49</td>\n",
              "      <td>-54.75</td>\n",
              "      <td>-43.03</td>\n",
              "      <td>-20.09</td>\n",
              "      <td>-10.84</td>\n",
              "      <td>2.76</td>\n",
              "    </tr>\n",
              "    <tr>\n",
              "      <th>2022-01-02</th>\n",
              "      <td>-17.00</td>\n",
              "      <td>-14.40</td>\n",
              "      <td>-32.03</td>\n",
              "      <td>-20.09</td>\n",
              "      <td>-17.46</td>\n",
              "      <td>-12.44</td>\n",
              "      <td>-11.21</td>\n",
              "      <td>-7.33</td>\n",
              "    </tr>\n",
              "    <tr>\n",
              "      <th>2022-03-15</th>\n",
              "      <td>-23.00</td>\n",
              "      <td>-26.98</td>\n",
              "      <td>-40.89</td>\n",
              "      <td>-31.87</td>\n",
              "      <td>-29.49</td>\n",
              "      <td>-25.38</td>\n",
              "      <td>-22.95</td>\n",
              "      <td>-18.68</td>\n",
              "    </tr>\n",
              "    <tr>\n",
              "      <th>2022-03-16</th>\n",
              "      <td>-22.00</td>\n",
              "      <td>-26.44</td>\n",
              "      <td>-40.65</td>\n",
              "      <td>-34.60</td>\n",
              "      <td>-29.11</td>\n",
              "      <td>-24.47</td>\n",
              "      <td>-21.42</td>\n",
              "      <td>-18.68</td>\n",
              "    </tr>\n",
              "  </tbody>\n",
              "</table>\n",
              "</div>\n",
              "      <button class=\"colab-df-convert\" onclick=\"convertToInteractive('df-cc52781a-2f34-449d-bd8a-22b1e900038e')\"\n",
              "              title=\"Convert this dataframe to an interactive table.\"\n",
              "              style=\"display:none;\">\n",
              "        \n",
              "  <svg xmlns=\"http://www.w3.org/2000/svg\" height=\"24px\"viewBox=\"0 0 24 24\"\n",
              "       width=\"24px\">\n",
              "    <path d=\"M0 0h24v24H0V0z\" fill=\"none\"/>\n",
              "    <path d=\"M18.56 5.44l.94 2.06.94-2.06 2.06-.94-2.06-.94-.94-2.06-.94 2.06-2.06.94zm-11 1L8.5 8.5l.94-2.06 2.06-.94-2.06-.94L8.5 2.5l-.94 2.06-2.06.94zm10 10l.94 2.06.94-2.06 2.06-.94-2.06-.94-.94-2.06-.94 2.06-2.06.94z\"/><path d=\"M17.41 7.96l-1.37-1.37c-.4-.4-.92-.59-1.43-.59-.52 0-1.04.2-1.43.59L10.3 9.45l-7.72 7.72c-.78.78-.78 2.05 0 2.83L4 21.41c.39.39.9.59 1.41.59.51 0 1.02-.2 1.41-.59l7.78-7.78 2.81-2.81c.8-.78.8-2.07 0-2.86zM5.41 20L4 18.59l7.72-7.72 1.47 1.35L5.41 20z\"/>\n",
              "  </svg>\n",
              "      </button>\n",
              "      \n",
              "  <style>\n",
              "    .colab-df-container {\n",
              "      display:flex;\n",
              "      flex-wrap:wrap;\n",
              "      gap: 12px;\n",
              "    }\n",
              "\n",
              "    .colab-df-convert {\n",
              "      background-color: #E8F0FE;\n",
              "      border: none;\n",
              "      border-radius: 50%;\n",
              "      cursor: pointer;\n",
              "      display: none;\n",
              "      fill: #1967D2;\n",
              "      height: 32px;\n",
              "      padding: 0 0 0 0;\n",
              "      width: 32px;\n",
              "    }\n",
              "\n",
              "    .colab-df-convert:hover {\n",
              "      background-color: #E2EBFA;\n",
              "      box-shadow: 0px 1px 2px rgba(60, 64, 67, 0.3), 0px 1px 3px 1px rgba(60, 64, 67, 0.15);\n",
              "      fill: #174EA6;\n",
              "    }\n",
              "\n",
              "    [theme=dark] .colab-df-convert {\n",
              "      background-color: #3B4455;\n",
              "      fill: #D2E3FC;\n",
              "    }\n",
              "\n",
              "    [theme=dark] .colab-df-convert:hover {\n",
              "      background-color: #434B5C;\n",
              "      box-shadow: 0px 1px 3px 1px rgba(0, 0, 0, 0.15);\n",
              "      filter: drop-shadow(0px 1px 2px rgba(0, 0, 0, 0.3));\n",
              "      fill: #FFFFFF;\n",
              "    }\n",
              "  </style>\n",
              "\n",
              "      <script>\n",
              "        const buttonEl =\n",
              "          document.querySelector('#df-cc52781a-2f34-449d-bd8a-22b1e900038e button.colab-df-convert');\n",
              "        buttonEl.style.display =\n",
              "          google.colab.kernel.accessAllowed ? 'block' : 'none';\n",
              "\n",
              "        async function convertToInteractive(key) {\n",
              "          const element = document.querySelector('#df-cc52781a-2f34-449d-bd8a-22b1e900038e');\n",
              "          const dataTable =\n",
              "            await google.colab.kernel.invokeFunction('convertToInteractive',\n",
              "                                                     [key], {});\n",
              "          if (!dataTable) return;\n",
              "\n",
              "          const docLinkHtml = 'Like what you see? Visit the ' +\n",
              "            '<a target=\"_blank\" href=https://colab.research.google.com/notebooks/data_table.ipynb>data table notebook</a>'\n",
              "            + ' to learn more about interactive tables.';\n",
              "          element.innerHTML = '';\n",
              "          dataTable['output_type'] = 'display_data';\n",
              "          await google.colab.output.renderOutput(dataTable, element);\n",
              "          const docLink = document.createElement('div');\n",
              "          docLink.innerHTML = docLinkHtml;\n",
              "          element.appendChild(docLink);\n",
              "        }\n",
              "      </script>\n",
              "    </div>\n",
              "  </div>\n",
              "  "
            ]
          },
          "metadata": {},
          "execution_count": 60
        }
      ]
    },
    {
      "cell_type": "code",
      "source": [
        "# plot the forecast\n",
        "plt.figure(100, figsize=(20, 7))\n",
        "sns.set(font_scale=1.3)\n",
        "p = sns.lineplot(x = \"date\", y = \"Q20\", data = dfY, palette=\"coolwarm\")\n",
        "sns.lineplot(x = \"date\", y = \"Actual\", data = dfY, palette=\"coolwarm\")\n",
        "plt.legend(labels=[\"forecast Q99\", \"actual\"])\n",
        "p.set_ylabel(\"predict\")\n",
        "p.set_xlabel(\"actual\")\n",
        "p.set_title(\"test set\");"
      ],
      "metadata": {
        "id": "TLa6s4V5jxLy",
        "outputId": "bd7a6a59-aac9-492e-a94f-28ecf906d54d",
        "colab": {
          "base_uri": "https://localhost:8080/",
          "height": 345
        }
      },
      "execution_count": 61,
      "outputs": [
        {
          "output_type": "display_data",
          "data": {
            "text/plain": [
              "<Figure size 1440x504 with 1 Axes>"
            ],
            "image/png": "[encoded data removed]"
          },
          "metadata": {}
        }
      ]
    },
    {
      "cell_type": "markdown",
      "source": [
        "## Out of sample forecasts"
      ],
      "metadata": {
        "id": "z9UTh3y-rVQJ"
      }
    },
    {
      "cell_type": "code",
      "source": [
        "covF_t"
      ],
      "metadata": {
        "id": "C2K4RIlbwFX0",
        "outputId": "207c0905-bcaa-4652-be1b-0b8e28fba95e",
        "colab": {
          "base_uri": "https://localhost:8080/",
          "height": 864
        }
      },
      "execution_count": 111,
      "outputs": [
        {
          "output_type": "execute_result",
          "data": {
            "text/plain": [
              "<TimeSeries (DataArray) (date: 761, component: 10, sample: 1)>\n",
              "array([[[ 0.  ],\n",
              "        [ 0.  ],\n",
              "        [ 0.  ],\n",
              "        ...,\n",
              "        [ 0.35],\n",
              "        [ 0.03],\n",
              "        [ 0.  ]],\n",
              "\n",
              "       [[ 0.  ],\n",
              "        [ 0.  ],\n",
              "        [ 0.  ],\n",
              "        ...,\n",
              "        [ 0.36],\n",
              "        [ 0.03],\n",
              "        [ 0.  ]],\n",
              "\n",
              "       [[ 0.  ],\n",
              "        [ 0.  ],\n",
              "        [ 0.  ],\n",
              "        ...,\n",
              "...\n",
              "        ...,\n",
              "        [ 0.33],\n",
              "        [ 0.28],\n",
              "        [ 1.  ]],\n",
              "\n",
              "       [[ 0.29],\n",
              "        [ 0.04],\n",
              "        [ 1.05],\n",
              "        ...,\n",
              "        [ 0.38],\n",
              "        [ 0.24],\n",
              "        [ 1.  ]],\n",
              "\n",
              "       [[ 0.44],\n",
              "        [ 0.08],\n",
              "        [ 1.05],\n",
              "        ...,\n",
              "        [ 0.42],\n",
              "        [ 0.24],\n",
              "        [ 1.  ]]])\n",
              "Coordinates:\n",
              "  * date       (date) datetime64[ns] 2020-02-15 2020-02-16 ... 2022-03-16\n",
              "  * component  (component) object 'deaths_ppm' 'cases_ppm' ... 'variant'\n",
              "Dimensions without coordinates: sample"
            ],
            "text/html": [
              "<div><svg style=\"position: absolute; width: 0; height: 0; overflow: hidden\">\n",
              "<defs>\n",
              "<symbol id=\"icon-database\" viewBox=\"0 0 32 32\">\n",
              "<path d=\"M16 0c-8.837 0-16 2.239-16 5v4c0 2.761 7.163 5 16 5s16-2.239 16-5v-4c0-2.761-7.163-5-16-5z\"></path>\n",
              "<path d=\"M16 17c-8.837 0-16-2.239-16-5v6c0 2.761 7.163 5 16 5s16-2.239 16-5v-6c0 2.761-7.163 5-16 5z\"></path>\n",
              "<path d=\"M16 26c-8.837 0-16-2.239-16-5v6c0 2.761 7.163 5 16 5s16-2.239 16-5v-6c0 2.761-7.163 5-16 5z\"></path>\n",
              "</symbol>\n",
              "<symbol id=\"icon-file-text2\" viewBox=\"0 0 32 32\">\n",
              "<path d=\"M28.681 7.159c-0.694-0.947-1.662-2.053-2.724-3.116s-2.169-2.030-3.116-2.724c-1.612-1.182-2.393-1.319-2.841-1.319h-15.5c-1.378 0-2.5 1.121-2.5 2.5v27c0 1.378 1.122 2.5 2.5 2.5h23c1.378 0 2.5-1.122 2.5-2.5v-19.5c0-0.448-0.137-1.23-1.319-2.841zM24.543 5.457c0.959 0.959 1.712 1.825 2.268 2.543h-4.811v-4.811c0.718 0.556 1.584 1.309 2.543 2.268zM28 29.5c0 0.271-0.229 0.5-0.5 0.5h-23c-0.271 0-0.5-0.229-0.5-0.5v-27c0-0.271 0.229-0.5 0.5-0.5 0 0 15.499-0 15.5 0v7c0 0.552 0.448 1 1 1h7v19.5z\"></path>\n",
              "<path d=\"M23 26h-14c-0.552 0-1-0.448-1-1s0.448-1 1-1h14c0.552 0 1 0.448 1 1s-0.448 1-1 1z\"></path>\n",
              "<path d=\"M23 22h-14c-0.552 0-1-0.448-1-1s0.448-1 1-1h14c0.552 0 1 0.448 1 1s-0.448 1-1 1z\"></path>\n",
              "<path d=\"M23 18h-14c-0.552 0-1-0.448-1-1s0.448-1 1-1h14c0.552 0 1 0.448 1 1s-0.448 1-1 1z\"></path>\n",
              "</symbol>\n",
              "</defs>\n",
              "</svg>\n",
              "<style>/* CSS stylesheet for displaying xarray objects in jupyterlab.\n",
              " *\n",
              " */\n",
              "\n",
              ":root {\n",
              "  --xr-font-color0: var(--jp-content-font-color0, rgba(0, 0, 0, 1));\n",
              "  --xr-font-color2: var(--jp-content-font-color2, rgba(0, 0, 0, 0.54));\n",
              "  --xr-font-color3: var(--jp-content-font-color3, rgba(0, 0, 0, 0.38));\n",
              "  --xr-border-color: var(--jp-border-color2, #e0e0e0);\n",
              "  --xr-disabled-color: var(--jp-layout-color3, #bdbdbd);\n",
              "  --xr-background-color: var(--jp-layout-color0, white);\n",
              "  --xr-background-color-row-even: var(--jp-layout-color1, white);\n",
              "  --xr-background-color-row-odd: var(--jp-layout-color2, #eeeeee);\n",
              "}\n",
              "\n",
              "html[theme=dark],\n",
              "body.vscode-dark {\n",
              "  --xr-font-color0: rgba(255, 255, 255, 1);\n",
              "  --xr-font-color2: rgba(255, 255, 255, 0.54);\n",
              "  --xr-font-color3: rgba(255, 255, 255, 0.38);\n",
              "  --xr-border-color: #1F1F1F;\n",
              "  --xr-disabled-color: #515151;\n",
              "  --xr-background-color: #111111;\n",
              "  --xr-background-color-row-even: #111111;\n",
              "  --xr-background-color-row-odd: #313131;\n",
              "}\n",
              "\n",
              ".xr-wrap {\n",
              "  display: block;\n",
              "  min-width: 300px;\n",
              "  max-width: 700px;\n",
              "}\n",
              "\n",
              ".xr-text-repr-fallback {\n",
              "  /* fallback to plain text repr when CSS is not injected (untrusted notebook) */\n",
              "  display: none;\n",
              "}\n",
              "\n",
              ".xr-header {\n",
              "  padding-top: 6px;\n",
              "  padding-bottom: 6px;\n",
              "  margin-bottom: 4px;\n",
              "  border-bottom: solid 1px var(--xr-border-color);\n",
              "}\n",
              "\n",
              ".xr-header > div,\n",
              ".xr-header > ul {\n",
              "  display: inline;\n",
              "  margin-top: 0;\n",
              "  margin-bottom: 0;\n",
              "}\n",
              "\n",
              ".xr-obj-type,\n",
              ".xr-array-name {\n",
              "  margin-left: 2px;\n",
              "  margin-right: 10px;\n",
              "}\n",
              "\n",
              ".xr-obj-type {\n",
              "  color: var(--xr-font-color2);\n",
              "}\n",
              "\n",
              ".xr-sections {\n",
              "  padding-left: 0 !important;\n",
              "  display: grid;\n",
              "  grid-template-columns: 150px auto auto 1fr 20px 20px;\n",
              "}\n",
              "\n",
              ".xr-section-item {\n",
              "  display: contents;\n",
              "}\n",
              "\n",
              ".xr-section-item input {\n",
              "  display: none;\n",
              "}\n",
              "\n",
              ".xr-section-item input + label {\n",
              "  color: var(--xr-disabled-color);\n",
              "}\n",
              "\n",
              ".xr-section-item input:enabled + label {\n",
              "  cursor: pointer;\n",
              "  color: var(--xr-font-color2);\n",
              "}\n",
              "\n",
              ".xr-section-item input:enabled + label:hover {\n",
              "  color: var(--xr-font-color0);\n",
              "}\n",
              "\n",
              ".xr-section-summary {\n",
              "  grid-column: 1;\n",
              "  color: var(--xr-font-color2);\n",
              "  font-weight: 500;\n",
              "}\n",
              "\n",
              ".xr-section-summary > span {\n",
              "  display: inline-block;\n",
              "  padding-left: 0.5em;\n",
              "}\n",
              "\n",
              ".xr-section-summary-in:disabled + label {\n",
              "  color: var(--xr-font-color2);\n",
              "}\n",
              "\n",
              ".xr-section-summary-in + label:before {\n",
              "  display: inline-block;\n",
              "  content: '►';\n",
              "  font-size: 11px;\n",
              "  width: 15px;\n",
              "  text-align: center;\n",
              "}\n",
              "\n",
              ".xr-section-summary-in:disabled + label:before {\n",
              "  color: var(--xr-disabled-color);\n",
              "}\n",
              "\n",
              ".xr-section-summary-in:checked + label:before {\n",
              "  content: '▼';\n",
              "}\n",
              "\n",
              ".xr-section-summary-in:checked + label > span {\n",
              "  display: none;\n",
              "}\n",
              "\n",
              ".xr-section-summary,\n",
              ".xr-section-inline-details {\n",
              "  padding-top: 4px;\n",
              "  padding-bottom: 4px;\n",
              "}\n",
              "\n",
              ".xr-section-inline-details {\n",
              "  grid-column: 2 / -1;\n",
              "}\n",
              "\n",
              ".xr-section-details {\n",
              "  display: none;\n",
              "  grid-column: 1 / -1;\n",
              "  margin-bottom: 5px;\n",
              "}\n",
              "\n",
              ".xr-section-summary-in:checked ~ .xr-section-details {\n",
              "  display: contents;\n",
              "}\n",
              "\n",
              ".xr-array-wrap {\n",
              "  grid-column: 1 / -1;\n",
              "  display: grid;\n",
              "  grid-template-columns: 20px auto;\n",
              "}\n",
              "\n",
              ".xr-array-wrap > label {\n",
              "  grid-column: 1;\n",
              "  vertical-align: top;\n",
              "}\n",
              "\n",
              ".xr-preview {\n",
              "  color: var(--xr-font-color3);\n",
              "}\n",
              "\n",
              ".xr-array-preview,\n",
              ".xr-array-data {\n",
              "  padding: 0 5px !important;\n",
              "  grid-column: 2;\n",
              "}\n",
              "\n",
              ".xr-array-data,\n",
              ".xr-array-in:checked ~ .xr-array-preview {\n",
              "  display: none;\n",
              "}\n",
              "\n",
              ".xr-array-in:checked ~ .xr-array-data,\n",
              ".xr-array-preview {\n",
              "  display: inline-block;\n",
              "}\n",
              "\n",
              ".xr-dim-list {\n",
              "  display: inline-block !important;\n",
              "  list-style: none;\n",
              "  padding: 0 !important;\n",
              "  margin: 0;\n",
              "}\n",
              "\n",
              ".xr-dim-list li {\n",
              "  display: inline-block;\n",
              "  padding: 0;\n",
              "  margin: 0;\n",
              "}\n",
              "\n",
              ".xr-dim-list:before {\n",
              "  content: '(';\n",
              "}\n",
              "\n",
              ".xr-dim-list:after {\n",
              "  content: ')';\n",
              "}\n",
              "\n",
              ".xr-dim-list li:not(:last-child):after {\n",
              "  content: ',';\n",
              "  padding-right: 5px;\n",
              "}\n",
              "\n",
              ".xr-has-index {\n",
              "  font-weight: bold;\n",
              "}\n",
              "\n",
              ".xr-var-list,\n",
              ".xr-var-item {\n",
              "  display: contents;\n",
              "}\n",
              "\n",
              ".xr-var-item > div,\n",
              ".xr-var-item label,\n",
              ".xr-var-item > .xr-var-name span {\n",
              "  background-color: var(--xr-background-color-row-even);\n",
              "  margin-bottom: 0;\n",
              "}\n",
              "\n",
              ".xr-var-item > .xr-var-name:hover span {\n",
              "  padding-right: 5px;\n",
              "}\n",
              "\n",
              ".xr-var-list > li:nth-child(odd) > div,\n",
              ".xr-var-list > li:nth-child(odd) > label,\n",
              ".xr-var-list > li:nth-child(odd) > .xr-var-name span {\n",
              "  background-color: var(--xr-background-color-row-odd);\n",
              "}\n",
              "\n",
              ".xr-var-name {\n",
              "  grid-column: 1;\n",
              "}\n",
              "\n",
              ".xr-var-dims {\n",
              "  grid-column: 2;\n",
              "}\n",
              "\n",
              ".xr-var-dtype {\n",
              "  grid-column: 3;\n",
              "  text-align: right;\n",
              "  color: var(--xr-font-color2);\n",
              "}\n",
              "\n",
              ".xr-var-preview {\n",
              "  grid-column: 4;\n",
              "}\n",
              "\n",
              ".xr-var-name,\n",
              ".xr-var-dims,\n",
              ".xr-var-dtype,\n",
              ".xr-preview,\n",
              ".xr-attrs dt {\n",
              "  white-space: nowrap;\n",
              "  overflow: hidden;\n",
              "  text-overflow: ellipsis;\n",
              "  padding-right: 10px;\n",
              "}\n",
              "\n",
              ".xr-var-name:hover,\n",
              ".xr-var-dims:hover,\n",
              ".xr-var-dtype:hover,\n",
              ".xr-attrs dt:hover {\n",
              "  overflow: visible;\n",
              "  width: auto;\n",
              "  z-index: 1;\n",
              "}\n",
              "\n",
              ".xr-var-attrs,\n",
              ".xr-var-data {\n",
              "  display: none;\n",
              "  background-color: var(--xr-background-color) !important;\n",
              "  padding-bottom: 5px !important;\n",
              "}\n",
              "\n",
              ".xr-var-attrs-in:checked ~ .xr-var-attrs,\n",
              ".xr-var-data-in:checked ~ .xr-var-data {\n",
              "  display: block;\n",
              "}\n",
              "\n",
              ".xr-var-data > table {\n",
              "  float: right;\n",
              "}\n",
              "\n",
              ".xr-var-name span,\n",
              ".xr-var-data,\n",
              ".xr-attrs {\n",
              "  padding-left: 25px !important;\n",
              "}\n",
              "\n",
              ".xr-attrs,\n",
              ".xr-var-attrs,\n",
              ".xr-var-data {\n",
              "  grid-column: 1 / -1;\n",
              "}\n",
              "\n",
              "dl.xr-attrs {\n",
              "  padding: 0;\n",
              "  margin: 0;\n",
              "  display: grid;\n",
              "  grid-template-columns: 125px auto;\n",
              "}\n",
              "\n",
              ".xr-attrs dt,\n",
              ".xr-attrs dd {\n",
              "  padding: 0;\n",
              "  margin: 0;\n",
              "  float: left;\n",
              "  padding-right: 10px;\n",
              "  width: auto;\n",
              "}\n",
              "\n",
              ".xr-attrs dt {\n",
              "  font-weight: normal;\n",
              "  grid-column: 1;\n",
              "}\n",
              "\n",
              ".xr-attrs dt:hover span {\n",
              "  display: inline-block;\n",
              "  background: var(--xr-background-color);\n",
              "  padding-right: 10px;\n",
              "}\n",
              "\n",
              ".xr-attrs dd {\n",
              "  grid-column: 2;\n",
              "  white-space: pre-wrap;\n",
              "  word-break: break-all;\n",
              "}\n",
              "\n",
              ".xr-icon-database,\n",
              ".xr-icon-file-text2 {\n",
              "  display: inline-block;\n",
              "  vertical-align: middle;\n",
              "  width: 1em;\n",
              "  height: 1.5em !important;\n",
              "  stroke-width: 0;\n",
              "  stroke: currentColor;\n",
              "  fill: currentColor;\n",
              "}\n",
              "</style><pre class='xr-text-repr-fallback'>&lt;TimeSeries (DataArray) (date: 761, component: 10, sample: 1)&gt;\n",
              "array([[[ 0.  ],\n",
              "        [ 0.  ],\n",
              "        [ 0.  ],\n",
              "        ...,\n",
              "        [ 0.35],\n",
              "        [ 0.03],\n",
              "        [ 0.  ]],\n",
              "\n",
              "       [[ 0.  ],\n",
              "        [ 0.  ],\n",
              "        [ 0.  ],\n",
              "        ...,\n",
              "        [ 0.36],\n",
              "        [ 0.03],\n",
              "        [ 0.  ]],\n",
              "\n",
              "       [[ 0.  ],\n",
              "        [ 0.  ],\n",
              "        [ 0.  ],\n",
              "        ...,\n",
              "...\n",
              "        ...,\n",
              "        [ 0.33],\n",
              "        [ 0.28],\n",
              "        [ 1.  ]],\n",
              "\n",
              "       [[ 0.29],\n",
              "        [ 0.04],\n",
              "        [ 1.05],\n",
              "        ...,\n",
              "        [ 0.38],\n",
              "        [ 0.24],\n",
              "        [ 1.  ]],\n",
              "\n",
              "       [[ 0.44],\n",
              "        [ 0.08],\n",
              "        [ 1.05],\n",
              "        ...,\n",
              "        [ 0.42],\n",
              "        [ 0.24],\n",
              "        [ 1.  ]]])\n",
              "Coordinates:\n",
              "  * date       (date) datetime64[ns] 2020-02-15 2020-02-16 ... 2022-03-16\n",
              "  * component  (component) object &#x27;deaths_ppm&#x27; &#x27;cases_ppm&#x27; ... &#x27;variant&#x27;\n",
              "Dimensions without coordinates: sample</pre><div class='xr-wrap' hidden><div class='xr-header'><div class='xr-obj-type'>TimeSeries (DataArray)</div><div class='xr-array-name'></div><ul class='xr-dim-list'><li><span class='xr-has-index'>date</span>: 761</li><li><span class='xr-has-index'>component</span>: 10</li><li><span>sample</span>: 1</li></ul></div><ul class='xr-sections'><li class='xr-section-item'><div class='xr-array-wrap'><input id='section-8b0bab4f-484e-4756-ab0c-f2f03d1b6af9' class='xr-array-in' type='checkbox' checked><label for='section-8b0bab4f-484e-4756-ab0c-f2f03d1b6af9' title='Show/hide data repr'><svg class='icon xr-icon-database'><use xlink:href='#icon-database'></use></svg></label><div class='xr-array-preview xr-preview'><span>0.0 0.0 0.0 0.03448 0.0 0.9167 ... 0.7812 0.5876 0.42 0.2414 1.0</span></div><div class='xr-array-data'><pre>array([[[ 0.  ],\n",
              "        [ 0.  ],\n",
              "        [ 0.  ],\n",
              "        ...,\n",
              "        [ 0.35],\n",
              "        [ 0.03],\n",
              "        [ 0.  ]],\n",
              "\n",
              "       [[ 0.  ],\n",
              "        [ 0.  ],\n",
              "        [ 0.  ],\n",
              "        ...,\n",
              "        [ 0.36],\n",
              "        [ 0.03],\n",
              "        [ 0.  ]],\n",
              "\n",
              "       [[ 0.  ],\n",
              "        [ 0.  ],\n",
              "        [ 0.  ],\n",
              "        ...,\n",
              "...\n",
              "        ...,\n",
              "        [ 0.33],\n",
              "        [ 0.28],\n",
              "        [ 1.  ]],\n",
              "\n",
              "       [[ 0.29],\n",
              "        [ 0.04],\n",
              "        [ 1.05],\n",
              "        ...,\n",
              "        [ 0.38],\n",
              "        [ 0.24],\n",
              "        [ 1.  ]],\n",
              "\n",
              "       [[ 0.44],\n",
              "        [ 0.08],\n",
              "        [ 1.05],\n",
              "        ...,\n",
              "        [ 0.42],\n",
              "        [ 0.24],\n",
              "        [ 1.  ]]])</pre></div></div></li><li class='xr-section-item'><input id='section-66045142-0d46-4059-bfc7-c88c4492f059' class='xr-section-summary-in' type='checkbox'  checked><label for='section-66045142-0d46-4059-bfc7-c88c4492f059' class='xr-section-summary' >Coordinates: <span>(2)</span></label><div class='xr-section-inline-details'></div><div class='xr-section-details'><ul class='xr-var-list'><li class='xr-var-item'><div class='xr-var-name'><span class='xr-has-index'>date</span></div><div class='xr-var-dims'>(date)</div><div class='xr-var-dtype'>datetime64[ns]</div><div class='xr-var-preview xr-preview'>2020-02-15 ... 2022-03-16</div><input id='attrs-ea5dd129-3100-4cbb-b932-eb29ed9a1fc5' class='xr-var-attrs-in' type='checkbox' disabled><label for='attrs-ea5dd129-3100-4cbb-b932-eb29ed9a1fc5' title='Show/Hide attributes'><svg class='icon xr-icon-file-text2'><use xlink:href='#icon-file-text2'></use></svg></label><input id='data-efc4d5a1-b70b-4ce7-a720-97499af2b76a' class='xr-var-data-in' type='checkbox'><label for='data-efc4d5a1-b70b-4ce7-a720-97499af2b76a' title='Show/Hide data repr'><svg class='icon xr-icon-database'><use xlink:href='#icon-database'></use></svg></label><div class='xr-var-attrs'><dl class='xr-attrs'></dl></div><div class='xr-var-data'><pre>array([&#x27;2020-02-15T00:00:00.000000000&#x27;, &#x27;2020-02-16T00:00:00.000000000&#x27;,\n",
              "       &#x27;2020-02-17T00:00:00.000000000&#x27;, ..., &#x27;2022-03-14T00:00:00.000000000&#x27;,\n",
              "       &#x27;2022-03-15T00:00:00.000000000&#x27;, &#x27;2022-03-16T00:00:00.000000000&#x27;],\n",
              "      dtype=&#x27;datetime64[ns]&#x27;)</pre></div></li><li class='xr-var-item'><div class='xr-var-name'><span class='xr-has-index'>component</span></div><div class='xr-var-dims'>(component)</div><div class='xr-var-dtype'>object</div><div class='xr-var-preview xr-preview'>&#x27;deaths_ppm&#x27; ... &#x27;variant&#x27;</div><input id='attrs-c32d4d83-eee3-43c7-a084-aa8caa6e5772' class='xr-var-attrs-in' type='checkbox' disabled><label for='attrs-c32d4d83-eee3-43c7-a084-aa8caa6e5772' title='Show/Hide attributes'><svg class='icon xr-icon-file-text2'><use xlink:href='#icon-file-text2'></use></svg></label><input id='data-e56335a3-1404-4642-9a6d-0e09352e9269' class='xr-var-data-in' type='checkbox'><label for='data-e56335a3-1404-4642-9a6d-0e09352e9269' title='Show/Hide data repr'><svg class='icon xr-icon-database'><use xlink:href='#icon-database'></use></svg></label><div class='xr-var-attrs'><dl class='xr-attrs'></dl></div><div class='xr-var-data'><pre>array([&#x27;deaths_ppm&#x27;, &#x27;cases_ppm&#x27;, &#x27;percentage_vaccinated&#x27;,\n",
              "       &#x27;residential_percent_change_from_baseline&#x27;, &#x27;lockdown_index&#x27;,\n",
              "       &#x27;retail_and_recreation_percent_change_from_baseline&#x27;,\n",
              "       &#x27;grocery_and_pharmacy_percent_change_from_baseline&#x27;,\n",
              "       &#x27;parks_percent_change_from_baseline&#x27;,\n",
              "       &#x27;residential_percent_change_from_baseline_1&#x27;, &#x27;variant&#x27;], dtype=object)</pre></div></li></ul></div></li><li class='xr-section-item'><input id='section-3d82b015-d1c8-4fc1-94a2-2414c007d2ae' class='xr-section-summary-in' type='checkbox' disabled ><label for='section-3d82b015-d1c8-4fc1-94a2-2414c007d2ae' class='xr-section-summary'  title='Expand/collapse section'>Attributes: <span>(0)</span></label><div class='xr-section-inline-details'></div><div class='xr-section-details'><dl class='xr-attrs'></dl></div></li></ul></div></div>"
            ]
          },
          "metadata": {},
          "execution_count": 111
        }
      ]
    },
    {
      "cell_type": "code",
      "source": [
        "# choose forecast horizon: k hours beyond end of test set\n",
        "k = 16  \n",
        "\n",
        "n_FC = k + len(ts_ttest)   # length of test set + k hours\n",
        "print(\"forecast beyond end of training set:\", n_FC, \n",
        "      \"days beyond\", ts_ttrain.end_time())\n",
        "\n",
        "# last 24 hours of feature covariates available => copy them to future 24 hours:\n",
        "covF_t_fut = covF_t.concatenate(    other=covF_t.tail(size=16), \n",
        "                                    ignore_time_axes=True)\n",
        "# combine feature and time covariates:\n",
        "cov_t_fut = covF_t_fut.concatenate(covT_t.slice_intersect(covF_t_fut), axis=1) \n",
        "cov_t_fut.pd_dataframe().iloc[[0,-1]]"
      ],
      "metadata": {
        "id": "kau4F27nj90L",
        "outputId": "f8197af7-1127-4f79-910e-b96a9b426147",
        "colab": {
          "base_uri": "https://localhost:8080/",
          "height": 225
        }
      },
      "execution_count": 109,
      "outputs": [
        {
          "output_type": "stream",
          "name": "stdout",
          "text": [
            "forecast beyond end of training set: 91 days beyond 2021-12-31 00:00:00\n"
          ]
        },
        {
          "output_type": "execute_result",
          "data": {
            "text/plain": [
              "component   deaths_ppm  cases_ppm  percentage_vaccinated  \\\n",
              "date                                                       \n",
              "2020-02-15        0.00       0.00                   0.00   \n",
              "2022-04-01        0.44       0.08                   1.05   \n",
              "\n",
              "component   residential_percent_change_from_baseline  lockdown_index  \\\n",
              "date                                                                   \n",
              "2020-02-15                                      0.03            0.00   \n",
              "2022-04-01                                      0.24            0.76   \n",
              "\n",
              "component   retail_and_recreation_percent_change_from_baseline  \\\n",
              "date                                                             \n",
              "2020-02-15                                               0.92    \n",
              "2022-04-01                                               0.78    \n",
              "\n",
              "component   grocery_and_pharmacy_percent_change_from_baseline  \\\n",
              "date                                                            \n",
              "2020-02-15                                               0.65   \n",
              "2022-04-01                                               0.59   \n",
              "\n",
              "component   parks_percent_change_from_baseline  \\\n",
              "date                                             \n",
              "2020-02-15                                0.35   \n",
              "2022-04-01                                0.42   \n",
              "\n",
              "component   residential_percent_change_from_baseline_1  variant  day  \\\n",
              "date                                                                   \n",
              "2020-02-15                                        0.03     0.00 0.47   \n",
              "2022-04-01                                        0.24     1.00 0.00   \n",
              "\n",
              "component   day_of_week  month  year  holidays  \n",
              "date                                            \n",
              "2020-02-15         0.83   0.09  0.00      0.00  \n",
              "2022-04-01         0.67   0.27  2.00      0.00  "
            ],
            "text/html": [
              "\n",
              "  <div id=\"df-86ab823b-888d-433f-a465-05c656f057fc\">\n",
              "    <div class=\"colab-df-container\">\n",
              "      <div>\n",
              "<style scoped>\n",
              "    .dataframe tbody tr th:only-of-type {\n",
              "        vertical-align: middle;\n",
              "    }\n",
              "\n",
              "    .dataframe tbody tr th {\n",
              "        vertical-align: top;\n",
              "    }\n",
              "\n",
              "    .dataframe thead th {\n",
              "        text-align: right;\n",
              "    }\n",
              "</style>\n",
              "<table border=\"1\" class=\"dataframe\">\n",
              "  <thead>\n",
              "    <tr style=\"text-align: right;\">\n",
              "      <th>component</th>\n",
              "      <th>deaths_ppm</th>\n",
              "      <th>cases_ppm</th>\n",
              "      <th>percentage_vaccinated</th>\n",
              "      <th>residential_percent_change_from_baseline</th>\n",
              "      <th>lockdown_index</th>\n",
              "      <th>retail_and_recreation_percent_change_from_baseline</th>\n",
              "      <th>grocery_and_pharmacy_percent_change_from_baseline</th>\n",
              "      <th>parks_percent_change_from_baseline</th>\n",
              "      <th>residential_percent_change_from_baseline_1</th>\n",
              "      <th>variant</th>\n",
              "      <th>day</th>\n",
              "      <th>day_of_week</th>\n",
              "      <th>month</th>\n",
              "      <th>year</th>\n",
              "      <th>holidays</th>\n",
              "    </tr>\n",
              "    <tr>\n",
              "      <th>date</th>\n",
              "      <th></th>\n",
              "      <th></th>\n",
              "      <th></th>\n",
              "      <th></th>\n",
              "      <th></th>\n",
              "      <th></th>\n",
              "      <th></th>\n",
              "      <th></th>\n",
              "      <th></th>\n",
              "      <th></th>\n",
              "      <th></th>\n",
              "      <th></th>\n",
              "      <th></th>\n",
              "      <th></th>\n",
              "      <th></th>\n",
              "    </tr>\n",
              "  </thead>\n",
              "  <tbody>\n",
              "    <tr>\n",
              "      <th>2020-02-15</th>\n",
              "      <td>0.00</td>\n",
              "      <td>0.00</td>\n",
              "      <td>0.00</td>\n",
              "      <td>0.03</td>\n",
              "      <td>0.00</td>\n",
              "      <td>0.92</td>\n",
              "      <td>0.65</td>\n",
              "      <td>0.35</td>\n",
              "      <td>0.03</td>\n",
              "      <td>0.00</td>\n",
              "      <td>0.47</td>\n",
              "      <td>0.83</td>\n",
              "      <td>0.09</td>\n",
              "      <td>0.00</td>\n",
              "      <td>0.00</td>\n",
              "    </tr>\n",
              "    <tr>\n",
              "      <th>2022-04-01</th>\n",
              "      <td>0.44</td>\n",
              "      <td>0.08</td>\n",
              "      <td>1.05</td>\n",
              "      <td>0.24</td>\n",
              "      <td>0.76</td>\n",
              "      <td>0.78</td>\n",
              "      <td>0.59</td>\n",
              "      <td>0.42</td>\n",
              "      <td>0.24</td>\n",
              "      <td>1.00</td>\n",
              "      <td>0.00</td>\n",
              "      <td>0.67</td>\n",
              "      <td>0.27</td>\n",
              "      <td>2.00</td>\n",
              "      <td>0.00</td>\n",
              "    </tr>\n",
              "  </tbody>\n",
              "</table>\n",
              "</div>\n",
              "      <button class=\"colab-df-convert\" onclick=\"convertToInteractive('df-86ab823b-888d-433f-a465-05c656f057fc')\"\n",
              "              title=\"Convert this dataframe to an interactive table.\"\n",
              "              style=\"display:none;\">\n",
              "        \n",
              "  <svg xmlns=\"http://www.w3.org/2000/svg\" height=\"24px\"viewBox=\"0 0 24 24\"\n",
              "       width=\"24px\">\n",
              "    <path d=\"M0 0h24v24H0V0z\" fill=\"none\"/>\n",
              "    <path d=\"M18.56 5.44l.94 2.06.94-2.06 2.06-.94-2.06-.94-.94-2.06-.94 2.06-2.06.94zm-11 1L8.5 8.5l.94-2.06 2.06-.94-2.06-.94L8.5 2.5l-.94 2.06-2.06.94zm10 10l.94 2.06.94-2.06 2.06-.94-2.06-.94-.94-2.06-.94 2.06-2.06.94z\"/><path d=\"M17.41 7.96l-1.37-1.37c-.4-.4-.92-.59-1.43-.59-.52 0-1.04.2-1.43.59L10.3 9.45l-7.72 7.72c-.78.78-.78 2.05 0 2.83L4 21.41c.39.39.9.59 1.41.59.51 0 1.02-.2 1.41-.59l7.78-7.78 2.81-2.81c.8-.78.8-2.07 0-2.86zM5.41 20L4 18.59l7.72-7.72 1.47 1.35L5.41 20z\"/>\n",
              "  </svg>\n",
              "      </button>\n",
              "      \n",
              "  <style>\n",
              "    .colab-df-container {\n",
              "      display:flex;\n",
              "      flex-wrap:wrap;\n",
              "      gap: 12px;\n",
              "    }\n",
              "\n",
              "    .colab-df-convert {\n",
              "      background-color: #E8F0FE;\n",
              "      border: none;\n",
              "      border-radius: 50%;\n",
              "      cursor: pointer;\n",
              "      display: none;\n",
              "      fill: #1967D2;\n",
              "      height: 32px;\n",
              "      padding: 0 0 0 0;\n",
              "      width: 32px;\n",
              "    }\n",
              "\n",
              "    .colab-df-convert:hover {\n",
              "      background-color: #E2EBFA;\n",
              "      box-shadow: 0px 1px 2px rgba(60, 64, 67, 0.3), 0px 1px 3px 1px rgba(60, 64, 67, 0.15);\n",
              "      fill: #174EA6;\n",
              "    }\n",
              "\n",
              "    [theme=dark] .colab-df-convert {\n",
              "      background-color: #3B4455;\n",
              "      fill: #D2E3FC;\n",
              "    }\n",
              "\n",
              "    [theme=dark] .colab-df-convert:hover {\n",
              "      background-color: #434B5C;\n",
              "      box-shadow: 0px 1px 3px 1px rgba(0, 0, 0, 0.15);\n",
              "      filter: drop-shadow(0px 1px 2px rgba(0, 0, 0, 0.3));\n",
              "      fill: #FFFFFF;\n",
              "    }\n",
              "  </style>\n",
              "\n",
              "      <script>\n",
              "        const buttonEl =\n",
              "          document.querySelector('#df-86ab823b-888d-433f-a465-05c656f057fc button.colab-df-convert');\n",
              "        buttonEl.style.display =\n",
              "          google.colab.kernel.accessAllowed ? 'block' : 'none';\n",
              "\n",
              "        async function convertToInteractive(key) {\n",
              "          const element = document.querySelector('#df-86ab823b-888d-433f-a465-05c656f057fc');\n",
              "          const dataTable =\n",
              "            await google.colab.kernel.invokeFunction('convertToInteractive',\n",
              "                                                     [key], {});\n",
              "          if (!dataTable) return;\n",
              "\n",
              "          const docLinkHtml = 'Like what you see? Visit the ' +\n",
              "            '<a target=\"_blank\" href=https://colab.research.google.com/notebooks/data_table.ipynb>data table notebook</a>'\n",
              "            + ' to learn more about interactive tables.';\n",
              "          element.innerHTML = '';\n",
              "          dataTable['output_type'] = 'display_data';\n",
              "          await google.colab.output.renderOutput(dataTable, element);\n",
              "          const docLink = document.createElement('div');\n",
              "          docLink.innerHTML = docLinkHtml;\n",
              "          element.appendChild(docLink);\n",
              "        }\n",
              "      </script>\n",
              "    </div>\n",
              "  </div>\n",
              "  "
            ]
          },
          "metadata": {},
          "execution_count": 109
        }
      ]
    },
    {
      "cell_type": "code",
      "source": [
        "# forecast from end of training set until k hours beyond end of test set\n",
        "ts_tpred = model.predict(n=n_FC, \n",
        "                            past_covariates=cov_t_fut, \n",
        "                            num_samples=N_SAMPLES, \n",
        "                            verbose=True, \n",
        "                            n_jobs=N_JOBS)\n",
        "print(\"start:\", ts_tpred.start_time(), \"; end:\",ts_tpred.end_time())"
      ],
      "metadata": {
        "id": "JgeJC8jSsT4q",
        "outputId": "0b89ebe2-5082-4533-ce4b-ddadd7c574bd",
        "colab": {
          "base_uri": "https://localhost:8080/",
          "height": 389
        }
      },
      "execution_count": 112,
      "outputs": [
        {
          "output_type": "error",
          "ename": "ValueError",
          "evalue": "ignored",
          "traceback": [
            "\u001b[0;31m---------------------------------------------------------------------------\u001b[0m",
            "\u001b[0;31mValueError\u001b[0m                                Traceback (most recent call last)",
            "\u001b[0;32m<ipython-input-112-9a13ac95dcce>\u001b[0m in \u001b[0;36m<module>\u001b[0;34m\u001b[0m\n\u001b[1;32m      4\u001b[0m                             \u001b[0mnum_samples\u001b[0m\u001b[0;34m=\u001b[0m\u001b[0mN_SAMPLES\u001b[0m\u001b[0;34m,\u001b[0m\u001b[0;34m\u001b[0m\u001b[0;34m\u001b[0m\u001b[0m\n\u001b[1;32m      5\u001b[0m                             \u001b[0mverbose\u001b[0m\u001b[0;34m=\u001b[0m\u001b[0;32mTrue\u001b[0m\u001b[0;34m,\u001b[0m\u001b[0;34m\u001b[0m\u001b[0;34m\u001b[0m\u001b[0m\n\u001b[0;32m----> 6\u001b[0;31m                             n_jobs=N_JOBS)\n\u001b[0m\u001b[1;32m      7\u001b[0m \u001b[0mprint\u001b[0m\u001b[0;34m(\u001b[0m\u001b[0;34m\"start:\"\u001b[0m\u001b[0;34m,\u001b[0m \u001b[0mts_tpred\u001b[0m\u001b[0;34m.\u001b[0m\u001b[0mstart_time\u001b[0m\u001b[0;34m(\u001b[0m\u001b[0;34m)\u001b[0m\u001b[0;34m,\u001b[0m \u001b[0;34m\"; end:\"\u001b[0m\u001b[0;34m,\u001b[0m\u001b[0mts_tpred\u001b[0m\u001b[0;34m.\u001b[0m\u001b[0mend_time\u001b[0m\u001b[0;34m(\u001b[0m\u001b[0;34m)\u001b[0m\u001b[0;34m)\u001b[0m\u001b[0;34m\u001b[0m\u001b[0;34m\u001b[0m\u001b[0m\n",
            "\u001b[0;32m/usr/local/lib/python3.7/dist-packages/darts/utils/torch.py\u001b[0m in \u001b[0;36mdecorator\u001b[0;34m(self, *args, **kwargs)\u001b[0m\n\u001b[1;32m     68\u001b[0m         \u001b[0;32mwith\u001b[0m \u001b[0mfork_rng\u001b[0m\u001b[0;34m(\u001b[0m\u001b[0;34m)\u001b[0m\u001b[0;34m:\u001b[0m\u001b[0;34m\u001b[0m\u001b[0;34m\u001b[0m\u001b[0m\n\u001b[1;32m     69\u001b[0m             \u001b[0mmanual_seed\u001b[0m\u001b[0;34m(\u001b[0m\u001b[0mself\u001b[0m\u001b[0;34m.\u001b[0m\u001b[0m_random_instance\u001b[0m\u001b[0;34m.\u001b[0m\u001b[0mrandint\u001b[0m\u001b[0;34m(\u001b[0m\u001b[0;36m0\u001b[0m\u001b[0;34m,\u001b[0m \u001b[0mhigh\u001b[0m\u001b[0;34m=\u001b[0m\u001b[0mMAX_TORCH_SEED_VALUE\u001b[0m\u001b[0;34m)\u001b[0m\u001b[0;34m)\u001b[0m\u001b[0;34m\u001b[0m\u001b[0;34m\u001b[0m\u001b[0m\n\u001b[0;32m---> 70\u001b[0;31m             \u001b[0;32mreturn\u001b[0m \u001b[0mdecorated\u001b[0m\u001b[0;34m(\u001b[0m\u001b[0mself\u001b[0m\u001b[0;34m,\u001b[0m \u001b[0;34m*\u001b[0m\u001b[0margs\u001b[0m\u001b[0;34m,\u001b[0m \u001b[0;34m**\u001b[0m\u001b[0mkwargs\u001b[0m\u001b[0;34m)\u001b[0m\u001b[0;34m\u001b[0m\u001b[0;34m\u001b[0m\u001b[0m\n\u001b[0m\u001b[1;32m     71\u001b[0m \u001b[0;34m\u001b[0m\u001b[0m\n\u001b[1;32m     72\u001b[0m     \u001b[0;32mreturn\u001b[0m \u001b[0mdecorator\u001b[0m\u001b[0;34m\u001b[0m\u001b[0;34m\u001b[0m\u001b[0m\n",
            "\u001b[0;32m/usr/local/lib/python3.7/dist-packages/darts/models/forecasting/torch_forecasting_model.py\u001b[0m in \u001b[0;36mpredict\u001b[0;34m(self, n, series, past_covariates, future_covariates, trainer, batch_size, verbose, n_jobs, roll_size, num_samples, num_loader_workers)\u001b[0m\n\u001b[1;32m   1101\u001b[0m             \u001b[0mn_jobs\u001b[0m\u001b[0;34m=\u001b[0m\u001b[0mn_jobs\u001b[0m\u001b[0;34m,\u001b[0m\u001b[0;34m\u001b[0m\u001b[0;34m\u001b[0m\u001b[0m\n\u001b[1;32m   1102\u001b[0m             \u001b[0mroll_size\u001b[0m\u001b[0;34m=\u001b[0m\u001b[0mroll_size\u001b[0m\u001b[0;34m,\u001b[0m\u001b[0;34m\u001b[0m\u001b[0;34m\u001b[0m\u001b[0m\n\u001b[0;32m-> 1103\u001b[0;31m             \u001b[0mnum_samples\u001b[0m\u001b[0;34m=\u001b[0m\u001b[0mnum_samples\u001b[0m\u001b[0;34m,\u001b[0m\u001b[0;34m\u001b[0m\u001b[0;34m\u001b[0m\u001b[0m\n\u001b[0m\u001b[1;32m   1104\u001b[0m         )\n\u001b[1;32m   1105\u001b[0m \u001b[0;34m\u001b[0m\u001b[0m\n",
            "\u001b[0;32m/usr/local/lib/python3.7/dist-packages/darts/utils/torch.py\u001b[0m in \u001b[0;36mdecorator\u001b[0;34m(self, *args, **kwargs)\u001b[0m\n\u001b[1;32m     68\u001b[0m         \u001b[0;32mwith\u001b[0m \u001b[0mfork_rng\u001b[0m\u001b[0;34m(\u001b[0m\u001b[0;34m)\u001b[0m\u001b[0;34m:\u001b[0m\u001b[0;34m\u001b[0m\u001b[0;34m\u001b[0m\u001b[0m\n\u001b[1;32m     69\u001b[0m             \u001b[0mmanual_seed\u001b[0m\u001b[0;34m(\u001b[0m\u001b[0mself\u001b[0m\u001b[0;34m.\u001b[0m\u001b[0m_random_instance\u001b[0m\u001b[0;34m.\u001b[0m\u001b[0mrandint\u001b[0m\u001b[0;34m(\u001b[0m\u001b[0;36m0\u001b[0m\u001b[0;34m,\u001b[0m \u001b[0mhigh\u001b[0m\u001b[0;34m=\u001b[0m\u001b[0mMAX_TORCH_SEED_VALUE\u001b[0m\u001b[0;34m)\u001b[0m\u001b[0;34m)\u001b[0m\u001b[0;34m\u001b[0m\u001b[0;34m\u001b[0m\u001b[0m\n\u001b[0;32m---> 70\u001b[0;31m             \u001b[0;32mreturn\u001b[0m \u001b[0mdecorated\u001b[0m\u001b[0;34m(\u001b[0m\u001b[0mself\u001b[0m\u001b[0;34m,\u001b[0m \u001b[0;34m*\u001b[0m\u001b[0margs\u001b[0m\u001b[0;34m,\u001b[0m \u001b[0;34m**\u001b[0m\u001b[0mkwargs\u001b[0m\u001b[0;34m)\u001b[0m\u001b[0;34m\u001b[0m\u001b[0;34m\u001b[0m\u001b[0m\n\u001b[0m\u001b[1;32m     71\u001b[0m \u001b[0;34m\u001b[0m\u001b[0m\n\u001b[1;32m     72\u001b[0m     \u001b[0;32mreturn\u001b[0m \u001b[0mdecorator\u001b[0m\u001b[0;34m\u001b[0m\u001b[0;34m\u001b[0m\u001b[0m\n",
            "\u001b[0;32m/usr/local/lib/python3.7/dist-packages/darts/models/forecasting/torch_forecasting_model.py\u001b[0m in \u001b[0;36mpredict_from_dataset\u001b[0;34m(self, n, input_series_dataset, trainer, batch_size, verbose, n_jobs, roll_size, num_samples, num_loader_workers)\u001b[0m\n\u001b[1;32m   1177\u001b[0m \u001b[0;34m\u001b[0m\u001b[0m\n\u001b[1;32m   1178\u001b[0m         \u001b[0;31m# check that covariates and dimensions are matching what we had during training\u001b[0m\u001b[0;34m\u001b[0m\u001b[0;34m\u001b[0m\u001b[0;34m\u001b[0m\u001b[0m\n\u001b[0;32m-> 1179\u001b[0;31m         \u001b[0mself\u001b[0m\u001b[0;34m.\u001b[0m\u001b[0m_verify_predict_sample\u001b[0m\u001b[0;34m(\u001b[0m\u001b[0minput_series_dataset\u001b[0m\u001b[0;34m[\u001b[0m\u001b[0;36m0\u001b[0m\u001b[0;34m]\u001b[0m\u001b[0;34m)\u001b[0m\u001b[0;34m\u001b[0m\u001b[0;34m\u001b[0m\u001b[0m\n\u001b[0m\u001b[1;32m   1180\u001b[0m \u001b[0;34m\u001b[0m\u001b[0m\n\u001b[1;32m   1181\u001b[0m         \u001b[0;32mif\u001b[0m \u001b[0mroll_size\u001b[0m \u001b[0;32mis\u001b[0m \u001b[0;32mNone\u001b[0m\u001b[0;34m:\u001b[0m\u001b[0;34m\u001b[0m\u001b[0;34m\u001b[0m\u001b[0m\n",
            "\u001b[0;32m/usr/local/lib/python3.7/dist-packages/darts/models/forecasting/torch_forecasting_model.py\u001b[0m in \u001b[0;36m_verify_predict_sample\u001b[0;34m(self, predict_sample)\u001b[0m\n\u001b[1;32m   1620\u001b[0m \u001b[0;34m\u001b[0m\u001b[0m\n\u001b[1;32m   1621\u001b[0m     \u001b[0;32mdef\u001b[0m \u001b[0m_verify_predict_sample\u001b[0m\u001b[0;34m(\u001b[0m\u001b[0mself\u001b[0m\u001b[0;34m,\u001b[0m \u001b[0mpredict_sample\u001b[0m\u001b[0;34m:\u001b[0m \u001b[0mTuple\u001b[0m\u001b[0;34m)\u001b[0m\u001b[0;34m:\u001b[0m\u001b[0;34m\u001b[0m\u001b[0;34m\u001b[0m\u001b[0m\n\u001b[0;32m-> 1622\u001b[0;31m         \u001b[0m_basic_compare_sample\u001b[0m\u001b[0;34m(\u001b[0m\u001b[0mself\u001b[0m\u001b[0;34m.\u001b[0m\u001b[0mtrain_sample\u001b[0m\u001b[0;34m,\u001b[0m \u001b[0mpredict_sample\u001b[0m\u001b[0;34m)\u001b[0m\u001b[0;34m\u001b[0m\u001b[0;34m\u001b[0m\u001b[0m\n\u001b[0m\u001b[1;32m   1623\u001b[0m \u001b[0;34m\u001b[0m\u001b[0m\n\u001b[1;32m   1624\u001b[0m     \u001b[0;32mdef\u001b[0m \u001b[0m_verify_past_future_covariates\u001b[0m\u001b[0;34m(\u001b[0m\u001b[0mself\u001b[0m\u001b[0;34m,\u001b[0m \u001b[0mpast_covariates\u001b[0m\u001b[0;34m,\u001b[0m \u001b[0mfuture_covariates\u001b[0m\u001b[0;34m)\u001b[0m\u001b[0;34m:\u001b[0m\u001b[0;34m\u001b[0m\u001b[0;34m\u001b[0m\u001b[0m\n",
            "\u001b[0;32m/usr/local/lib/python3.7/dist-packages/darts/models/forecasting/torch_forecasting_model.py\u001b[0m in \u001b[0;36m_basic_compare_sample\u001b[0;34m(train_sample, predict_sample)\u001b[0m\n\u001b[1;32m   1510\u001b[0m         \u001b[0;32mand\u001b[0m \u001b[0mcov_pred\u001b[0m \u001b[0;32mis\u001b[0m \u001b[0;32mnot\u001b[0m \u001b[0;32mNone\u001b[0m\u001b[0;34m\u001b[0m\u001b[0;34m\u001b[0m\u001b[0m\n\u001b[1;32m   1511\u001b[0m         \u001b[0;32mand\u001b[0m \u001b[0mcov_train\u001b[0m\u001b[0;34m.\u001b[0m\u001b[0mshape\u001b[0m\u001b[0;34m[\u001b[0m\u001b[0;34m-\u001b[0m\u001b[0;36m1\u001b[0m\u001b[0;34m]\u001b[0m \u001b[0;34m!=\u001b[0m \u001b[0mcov_pred\u001b[0m\u001b[0;34m.\u001b[0m\u001b[0mshape\u001b[0m\u001b[0;34m[\u001b[0m\u001b[0;34m-\u001b[0m\u001b[0;36m1\u001b[0m\u001b[0;34m]\u001b[0m\u001b[0;34m,\u001b[0m\u001b[0;34m\u001b[0m\u001b[0;34m\u001b[0m\u001b[0m\n\u001b[0;32m-> 1512\u001b[0;31m         \u001b[0;34m\"The provided covariates must have dimensionality matching that of the covariates used for training \"\u001b[0m\u001b[0;34m\u001b[0m\u001b[0;34m\u001b[0m\u001b[0m\n\u001b[0m\u001b[1;32m   1513\u001b[0m         \u001b[0;34m\"the model.\"\u001b[0m\u001b[0;34m,\u001b[0m\u001b[0;34m\u001b[0m\u001b[0;34m\u001b[0m\u001b[0m\n\u001b[1;32m   1514\u001b[0m     )\n",
            "\u001b[0;32m/usr/local/lib/python3.7/dist-packages/darts/logging.py\u001b[0m in \u001b[0;36mraise_if\u001b[0;34m(condition, message, logger)\u001b[0m\n\u001b[1;32m    108\u001b[0m         \u001b[0;32mif\u001b[0m\u001b[0;31m \u001b[0m\u001b[0;31m`\u001b[0m\u001b[0mcondition\u001b[0m\u001b[0;31m`\u001b[0m \u001b[0;32mis\u001b[0m \u001b[0msatisfied\u001b[0m\u001b[0;34m\u001b[0m\u001b[0;34m\u001b[0m\u001b[0m\n\u001b[1;32m    109\u001b[0m     \"\"\"\n\u001b[0;32m--> 110\u001b[0;31m     \u001b[0mraise_if_not\u001b[0m\u001b[0;34m(\u001b[0m\u001b[0;32mnot\u001b[0m \u001b[0mcondition\u001b[0m\u001b[0;34m,\u001b[0m \u001b[0mmessage\u001b[0m\u001b[0;34m,\u001b[0m \u001b[0mlogger\u001b[0m\u001b[0;34m)\u001b[0m\u001b[0;34m\u001b[0m\u001b[0;34m\u001b[0m\u001b[0m\n\u001b[0m\u001b[1;32m    111\u001b[0m \u001b[0;34m\u001b[0m\u001b[0m\n\u001b[1;32m    112\u001b[0m \u001b[0;34m\u001b[0m\u001b[0m\n",
            "\u001b[0;32m/usr/local/lib/python3.7/dist-packages/darts/logging.py\u001b[0m in \u001b[0;36mraise_if_not\u001b[0;34m(condition, message, logger)\u001b[0m\n\u001b[1;32m     82\u001b[0m     \u001b[0;32mif\u001b[0m \u001b[0;32mnot\u001b[0m \u001b[0mcondition\u001b[0m\u001b[0;34m:\u001b[0m\u001b[0;34m\u001b[0m\u001b[0;34m\u001b[0m\u001b[0m\n\u001b[1;32m     83\u001b[0m         \u001b[0mlogger\u001b[0m\u001b[0;34m.\u001b[0m\u001b[0merror\u001b[0m\u001b[0;34m(\u001b[0m\u001b[0;34m\"ValueError: \"\u001b[0m \u001b[0;34m+\u001b[0m \u001b[0mmessage\u001b[0m\u001b[0;34m)\u001b[0m\u001b[0;34m\u001b[0m\u001b[0;34m\u001b[0m\u001b[0m\n\u001b[0;32m---> 84\u001b[0;31m         \u001b[0;32mraise\u001b[0m \u001b[0mValueError\u001b[0m\u001b[0;34m(\u001b[0m\u001b[0mmessage\u001b[0m\u001b[0;34m)\u001b[0m\u001b[0;34m\u001b[0m\u001b[0;34m\u001b[0m\u001b[0m\n\u001b[0m\u001b[1;32m     85\u001b[0m \u001b[0;34m\u001b[0m\u001b[0m\n\u001b[1;32m     86\u001b[0m \u001b[0;34m\u001b[0m\u001b[0m\n",
            "\u001b[0;31mValueError\u001b[0m: The provided covariates must have dimensionality matching that of the covariates used for training the model."
          ]
        }
      ]
    },
    {
      "cell_type": "markdown",
      "source": [
        "## Time features correlation matrix"
      ],
      "metadata": {
        "id": "Dvfat5wkU5xD"
      }
    },
    {
      "cell_type": "markdown",
      "source": [
        "## Variant data"
      ],
      "metadata": {
        "id": "2ZxIVN5Vb9vb"
      }
    },
    {
      "cell_type": "code",
      "source": [
        "df_sub = df_merged_US[['deaths_ppm', 'cases_ppm', 'percentage_vaccinated', 'workplaces_percent_change_from_baseline', \\\n",
        "                       'residential_percent_change_from_baseline', 'lockdown_index', 'date',\\\n",
        "                       'retail_and_recreation_percent_change_from_baseline','grocery_and_pharmacy_percent_change_from_baseline',\\\n",
        "                       'parks_percent_change_from_baseline','residential_percent_change_from_baseline']]"
      ],
      "metadata": {
        "id": "GFTTMq8kcDpG"
      },
      "execution_count": 33,
      "outputs": []
    },
    {
      "cell_type": "code",
      "source": [
        "def f(row):\n",
        "    if row['date'] >= pd.to_datetime(\"2020-12-18\", format='%Y-%m-%d') and row['date']<pd.to_datetime(\"2021-01-11\", format='%Y-%m-%d'):\n",
        "        val = 1.0\n",
        "    elif row['date'] >= pd.to_datetime(\"2021-01-11\", format='%Y-%m-%d') and row['date']<pd.to_datetime(\"2021-05-11\", format='%Y-%m-%d'):\n",
        "        val = 2.0\n",
        "    elif row['date'] >= pd.to_datetime(\"2021-05-11\", format='%Y-%m-%d') and row['date']<pd.to_datetime(\"2021-11-26\", format='%Y-%m-%d'):\n",
        "      val = 3.0\n",
        "    elif row['date'] >= pd.to_datetime(\"2021-11-26\", format='%Y-%m-%d'):\n",
        "      val = 4.0\n",
        "    else:\n",
        "        val = 0\n",
        "    return val\n",
        "df_sub['variant'] = df_sub.apply(f, axis=1)\n"
      ],
      "metadata": {
        "id": "WqXoh17MdnJc"
      },
      "execution_count": 40,
      "outputs": []
    },
    {
      "cell_type": "code",
      "source": [
        ""
      ],
      "metadata": {
        "id": "7-hX7NI_ej7Z"
      },
      "execution_count": 42,
      "outputs": []
    },
    {
      "cell_type": "code",
      "source": [
        "df_sub.shape"
      ],
      "metadata": {
        "id": "s4n4f14lrW-3",
        "outputId": "62122d75-918d-4cb5-809f-a63373118da3",
        "colab": {
          "base_uri": "https://localhost:8080/"
        }
      },
      "execution_count": 43,
      "outputs": [
        {
          "output_type": "execute_result",
          "data": {
            "text/plain": [
              "(761, 12)"
            ]
          },
          "metadata": {},
          "execution_count": 43
        }
      ]
    },
    {
      "cell_type": "code",
      "source": [
        "df3 = df_sub.copy()\n",
        "df3.set_index(\"date\", inplace=True)\n",
        "df3[\"month\"] = df3.index.month\n",
        "df3[\"wday\"] = df3.index.dayofweek\n",
        "dict_days = {0:\"1_Mon\", 1:\"2_Tue\", 2:\"3_Wed\", 3:\"4_Thu\", 4:\"5_Fri\", 5:\"6_Sat\", 6:\"7_Sun\"}\n",
        "df3[\"weekday\"] = df3[\"wday\"].apply(lambda x: dict_days[x])\n",
        "\n",
        "df3 = df3.astype({\"wday\":float})\n",
        "\n",
        "df3.iloc[[0, -1]]"
      ],
      "metadata": {
        "id": "K4MdMkVlU5V8",
        "outputId": "667d2170-32cd-47d1-cfdf-12c8367ad0b9",
        "colab": {
          "base_uri": "https://localhost:8080/",
          "height": 242
        }
      },
      "execution_count": 44,
      "outputs": [
        {
          "output_type": "execute_result",
          "data": {
            "text/plain": [
              "            deaths_ppm  cases_ppm  percentage_vaccinated  \\\n",
              "date                                                       \n",
              "2020-02-15        0.00       0.00                   0.00   \n",
              "2022-03-16        5.84     135.21                   0.77   \n",
              "\n",
              "            workplaces_percent_change_from_baseline  \\\n",
              "date                                                  \n",
              "2020-02-15                                     2.00   \n",
              "2022-03-16                                   -22.00   \n",
              "\n",
              "            residential_percent_change_from_baseline  lockdown_index  \\\n",
              "date                                                                   \n",
              "2020-02-15                                     -1.00            5.56   \n",
              "2022-03-16                                      5.00           58.80   \n",
              "\n",
              "            retail_and_recreation_percent_change_from_baseline  \\\n",
              "date                                                             \n",
              "2020-02-15                                               6.00    \n",
              "2022-03-16                                              -7.00    \n",
              "\n",
              "            grocery_and_pharmacy_percent_change_from_baseline  \\\n",
              "date                                                            \n",
              "2020-02-15                                               2.00   \n",
              "2022-03-16                                              -4.00   \n",
              "\n",
              "            parks_percent_change_from_baseline  \\\n",
              "date                                             \n",
              "2020-02-15                               15.00   \n",
              "2022-03-16                               25.00   \n",
              "\n",
              "            residential_percent_change_from_baseline  variant  month  wday  \\\n",
              "date                                                                         \n",
              "2020-02-15                                     -1.00     0.00      2  5.00   \n",
              "2022-03-16                                      5.00     4.00      3  2.00   \n",
              "\n",
              "           weekday  \n",
              "date                \n",
              "2020-02-15   6_Sat  \n",
              "2022-03-16   3_Wed  "
            ],
            "text/html": [
              "\n",
              "  <div id=\"df-713b5d04-90f7-4258-9a1f-aefe0d44861f\">\n",
              "    <div class=\"colab-df-container\">\n",
              "      <div>\n",
              "<style scoped>\n",
              "    .dataframe tbody tr th:only-of-type {\n",
              "        vertical-align: middle;\n",
              "    }\n",
              "\n",
              "    .dataframe tbody tr th {\n",
              "        vertical-align: top;\n",
              "    }\n",
              "\n",
              "    .dataframe thead th {\n",
              "        text-align: right;\n",
              "    }\n",
              "</style>\n",
              "<table border=\"1\" class=\"dataframe\">\n",
              "  <thead>\n",
              "    <tr style=\"text-align: right;\">\n",
              "      <th></th>\n",
              "      <th>deaths_ppm</th>\n",
              "      <th>cases_ppm</th>\n",
              "      <th>percentage_vaccinated</th>\n",
              "      <th>workplaces_percent_change_from_baseline</th>\n",
              "      <th>residential_percent_change_from_baseline</th>\n",
              "      <th>lockdown_index</th>\n",
              "      <th>retail_and_recreation_percent_change_from_baseline</th>\n",
              "      <th>grocery_and_pharmacy_percent_change_from_baseline</th>\n",
              "      <th>parks_percent_change_from_baseline</th>\n",
              "      <th>residential_percent_change_from_baseline</th>\n",
              "      <th>variant</th>\n",
              "      <th>month</th>\n",
              "      <th>wday</th>\n",
              "      <th>weekday</th>\n",
              "    </tr>\n",
              "    <tr>\n",
              "      <th>date</th>\n",
              "      <th></th>\n",
              "      <th></th>\n",
              "      <th></th>\n",
              "      <th></th>\n",
              "      <th></th>\n",
              "      <th></th>\n",
              "      <th></th>\n",
              "      <th></th>\n",
              "      <th></th>\n",
              "      <th></th>\n",
              "      <th></th>\n",
              "      <th></th>\n",
              "      <th></th>\n",
              "      <th></th>\n",
              "    </tr>\n",
              "  </thead>\n",
              "  <tbody>\n",
              "    <tr>\n",
              "      <th>2020-02-15</th>\n",
              "      <td>0.00</td>\n",
              "      <td>0.00</td>\n",
              "      <td>0.00</td>\n",
              "      <td>2.00</td>\n",
              "      <td>-1.00</td>\n",
              "      <td>5.56</td>\n",
              "      <td>6.00</td>\n",
              "      <td>2.00</td>\n",
              "      <td>15.00</td>\n",
              "      <td>-1.00</td>\n",
              "      <td>0.00</td>\n",
              "      <td>2</td>\n",
              "      <td>5.00</td>\n",
              "      <td>6_Sat</td>\n",
              "    </tr>\n",
              "    <tr>\n",
              "      <th>2022-03-16</th>\n",
              "      <td>5.84</td>\n",
              "      <td>135.21</td>\n",
              "      <td>0.77</td>\n",
              "      <td>-22.00</td>\n",
              "      <td>5.00</td>\n",
              "      <td>58.80</td>\n",
              "      <td>-7.00</td>\n",
              "      <td>-4.00</td>\n",
              "      <td>25.00</td>\n",
              "      <td>5.00</td>\n",
              "      <td>4.00</td>\n",
              "      <td>3</td>\n",
              "      <td>2.00</td>\n",
              "      <td>3_Wed</td>\n",
              "    </tr>\n",
              "  </tbody>\n",
              "</table>\n",
              "</div>\n",
              "      <button class=\"colab-df-convert\" onclick=\"convertToInteractive('df-713b5d04-90f7-4258-9a1f-aefe0d44861f')\"\n",
              "              title=\"Convert this dataframe to an interactive table.\"\n",
              "              style=\"display:none;\">\n",
              "        \n",
              "  <svg xmlns=\"http://www.w3.org/2000/svg\" height=\"24px\"viewBox=\"0 0 24 24\"\n",
              "       width=\"24px\">\n",
              "    <path d=\"M0 0h24v24H0V0z\" fill=\"none\"/>\n",
              "    <path d=\"M18.56 5.44l.94 2.06.94-2.06 2.06-.94-2.06-.94-.94-2.06-.94 2.06-2.06.94zm-11 1L8.5 8.5l.94-2.06 2.06-.94-2.06-.94L8.5 2.5l-.94 2.06-2.06.94zm10 10l.94 2.06.94-2.06 2.06-.94-2.06-.94-.94-2.06-.94 2.06-2.06.94z\"/><path d=\"M17.41 7.96l-1.37-1.37c-.4-.4-.92-.59-1.43-.59-.52 0-1.04.2-1.43.59L10.3 9.45l-7.72 7.72c-.78.78-.78 2.05 0 2.83L4 21.41c.39.39.9.59 1.41.59.51 0 1.02-.2 1.41-.59l7.78-7.78 2.81-2.81c.8-.78.8-2.07 0-2.86zM5.41 20L4 18.59l7.72-7.72 1.47 1.35L5.41 20z\"/>\n",
              "  </svg>\n",
              "      </button>\n",
              "      \n",
              "  <style>\n",
              "    .colab-df-container {\n",
              "      display:flex;\n",
              "      flex-wrap:wrap;\n",
              "      gap: 12px;\n",
              "    }\n",
              "\n",
              "    .colab-df-convert {\n",
              "      background-color: #E8F0FE;\n",
              "      border: none;\n",
              "      border-radius: 50%;\n",
              "      cursor: pointer;\n",
              "      display: none;\n",
              "      fill: #1967D2;\n",
              "      height: 32px;\n",
              "      padding: 0 0 0 0;\n",
              "      width: 32px;\n",
              "    }\n",
              "\n",
              "    .colab-df-convert:hover {\n",
              "      background-color: #E2EBFA;\n",
              "      box-shadow: 0px 1px 2px rgba(60, 64, 67, 0.3), 0px 1px 3px 1px rgba(60, 64, 67, 0.15);\n",
              "      fill: #174EA6;\n",
              "    }\n",
              "\n",
              "    [theme=dark] .colab-df-convert {\n",
              "      background-color: #3B4455;\n",
              "      fill: #D2E3FC;\n",
              "    }\n",
              "\n",
              "    [theme=dark] .colab-df-convert:hover {\n",
              "      background-color: #434B5C;\n",
              "      box-shadow: 0px 1px 3px 1px rgba(0, 0, 0, 0.15);\n",
              "      filter: drop-shadow(0px 1px 2px rgba(0, 0, 0, 0.3));\n",
              "      fill: #FFFFFF;\n",
              "    }\n",
              "  </style>\n",
              "\n",
              "      <script>\n",
              "        const buttonEl =\n",
              "          document.querySelector('#df-713b5d04-90f7-4258-9a1f-aefe0d44861f button.colab-df-convert');\n",
              "        buttonEl.style.display =\n",
              "          google.colab.kernel.accessAllowed ? 'block' : 'none';\n",
              "\n",
              "        async function convertToInteractive(key) {\n",
              "          const element = document.querySelector('#df-713b5d04-90f7-4258-9a1f-aefe0d44861f');\n",
              "          const dataTable =\n",
              "            await google.colab.kernel.invokeFunction('convertToInteractive',\n",
              "                                                     [key], {});\n",
              "          if (!dataTable) return;\n",
              "\n",
              "          const docLinkHtml = 'Like what you see? Visit the ' +\n",
              "            '<a target=\"_blank\" href=https://colab.research.google.com/notebooks/data_table.ipynb>data table notebook</a>'\n",
              "            + ' to learn more about interactive tables.';\n",
              "          element.innerHTML = '';\n",
              "          dataTable['output_type'] = 'display_data';\n",
              "          await google.colab.output.renderOutput(dataTable, element);\n",
              "          const docLink = document.createElement('div');\n",
              "          docLink.innerHTML = docLinkHtml;\n",
              "          element.appendChild(docLink);\n",
              "        }\n",
              "      </script>\n",
              "    </div>\n",
              "  </div>\n",
              "  "
            ]
          },
          "metadata": {},
          "execution_count": 44
        }
      ]
    },
    {
      "cell_type": "code",
      "source": [
        ""
      ],
      "metadata": {
        "id": "nPAdyLVqqm7R"
      },
      "execution_count": null,
      "outputs": []
    },
    {
      "cell_type": "code",
      "source": [
        "# pivot table: weekdays in months\n",
        "piv = pd.pivot_table(   df3, \n",
        "                        values=\"workplaces_percent_change_from_baseline\", \n",
        "                        index=\"variant\", \n",
        "                        columns=\"weekday\", \n",
        "                        aggfunc=\"mean\", \n",
        "                        margins=True, margins_name=\"Avg\", \n",
        "                        fill_value=0)\n",
        "pd.options.display.float_format = '{:,.0f}'.format\n",
        "\n",
        "plt.figure(figsize = (10,15))\n",
        "sns.set(font_scale=1)\n",
        "sns.heatmap(piv.round(0), annot=True, square = True, \\\n",
        "            linewidths=.75, cmap=\"coolwarm\", fmt = \".0f\", annot_kws = {\"size\": 11})\n",
        "plt.title(\"mobility by weekday by variant\")\n",
        "plt.show()"
      ],
      "metadata": {
        "id": "FpT6yRX8Wt4u",
        "outputId": "0fc1d513-f6e8-4228-daca-3b382aa6f3da",
        "colab": {
          "base_uri": "https://localhost:8080/",
          "height": 846
        }
      },
      "execution_count": 45,
      "outputs": [
        {
          "output_type": "display_data",
          "data": {
            "text/plain": [
              "<Figure size 720x1080 with 2 Axes>"
            ],
            "image/png": "[encoded data removed]"
          },
          "metadata": {
            "needs_background": "light"
          }
        }
      ]
    },
    {
      "cell_type": "code",
      "source": [
        "df3.head()"
      ],
      "metadata": {
        "id": "LNXKiZ-XVDSV",
        "outputId": "b2f824e0-d50f-4a5e-eed1-c71e3204061a",
        "colab": {
          "base_uri": "https://localhost:8080/",
          "height": 168
        }
      },
      "execution_count": 73,
      "outputs": [
        {
          "output_type": "error",
          "ename": "AttributeError",
          "evalue": "ignored",
          "traceback": [
            "\u001b[0;31m---------------------------------------------------------------------------\u001b[0m",
            "\u001b[0;31mAttributeError\u001b[0m                            Traceback (most recent call last)",
            "\u001b[0;32m<ipython-input-73-88ce1073d687>\u001b[0m in \u001b[0;36m<module>\u001b[0;34m()\u001b[0m\n\u001b[0;32m----> 1\u001b[0;31m \u001b[0mdf3\u001b[0m\u001b[0;34m.\u001b[0m\u001b[0mhead\u001b[0m\u001b[0;34m(\u001b[0m\u001b[0;34m)\u001b[0m\u001b[0;34m\u001b[0m\u001b[0;34m\u001b[0m\u001b[0m\n\u001b[0m",
            "\u001b[0;31mAttributeError\u001b[0m: 'function' object has no attribute 'head'"
          ]
        }
      ]
    },
    {
      "cell_type": "code",
      "source": [
        "df_merged.head()"
      ],
      "metadata": {
        "id": "ox9qznpMWQQv",
        "outputId": "2bf27eb8-1b01-4304-8b3f-3f0382b247d2",
        "colab": {
          "base_uri": "https://localhost:8080/",
          "height": 386
        }
      },
      "execution_count": 62,
      "outputs": [
        {
          "output_type": "execute_result",
          "data": {
            "text/plain": [
              "       country       date  total_cases  total_deaths    population  \\\n",
              "0  Afghanistan 2020-02-24         5.00          0.00 39,835,428.00   \n",
              "1  Afghanistan 2020-02-25         5.00          0.00 39,835,428.00   \n",
              "2  Afghanistan 2020-02-26         5.00          0.00 39,835,428.00   \n",
              "3  Afghanistan 2020-02-27         5.00          0.00 39,835,428.00   \n",
              "4  Afghanistan 2020-02-28         5.00          0.00 39,835,428.00   \n",
              "\n",
              "   new_vaccinations_smoothed  new_people_vaccinated_smoothed  \\\n",
              "0                       0.00                            0.00   \n",
              "1                       0.00                            0.00   \n",
              "2                       0.00                            0.00   \n",
              "3                       0.00                            0.00   \n",
              "4                       0.00                            0.00   \n",
              "\n",
              "   retail_and_recreation_percent_change_from_baseline  \\\n",
              "0                                               3.00    \n",
              "1                                               2.00    \n",
              "2                                              -1.00    \n",
              "3                                              -1.00    \n",
              "4                                              -2.00    \n",
              "\n",
              "   grocery_and_pharmacy_percent_change_from_baseline  \\\n",
              "0                                              13.00   \n",
              "1                                               5.00   \n",
              "2                                               5.00   \n",
              "3                                               0.00   \n",
              "4                                               5.00   \n",
              "\n",
              "   parks_percent_change_from_baseline  ...  \\\n",
              "0                                4.00  ...   \n",
              "1                                1.00  ...   \n",
              "2                                2.00  ...   \n",
              "3                                1.00  ...   \n",
              "4                                1.00  ...   \n",
              "\n",
              "   workplaces_percent_change_from_baseline  \\\n",
              "0                                     7.00   \n",
              "1                                     7.00   \n",
              "2                                     5.00   \n",
              "3                                     7.00   \n",
              "4                                     5.00   \n",
              "\n",
              "   residential_percent_change_from_baseline  lockdown_index  weekday  \\\n",
              "0                                      0.00            8.33        0   \n",
              "1                                      0.00            8.33        1   \n",
              "2                                      1.00            8.33        2   \n",
              "3                                      2.00            8.33        3   \n",
              "4                                      2.00            8.33        4   \n",
              "\n",
              "   new_cases_raw  cases_ppm  new_deaths_raw  deaths_ppm  total_vaccinations  \\\n",
              "0           0.00       0.00            0.00        0.00                0.00   \n",
              "1           0.00       0.00            0.00        0.00                0.00   \n",
              "2           0.00       0.00            0.00        0.00                0.00   \n",
              "3           0.00       0.00            0.00        0.00                0.00   \n",
              "4           0.00       0.00            0.00        0.00                0.00   \n",
              "\n",
              "   percentage_vaccinated  \n",
              "0                   0.00  \n",
              "1                   0.00  \n",
              "2                   0.00  \n",
              "3                   0.00  \n",
              "4                   0.00  \n",
              "\n",
              "[5 rows x 21 columns]"
            ],
            "text/html": [
              "\n",
              "  <div id=\"df-54d2f83c-0a4f-4044-b0a4-a7226dad01b1\">\n",
              "    <div class=\"colab-df-container\">\n",
              "      <div>\n",
              "<style scoped>\n",
              "    .dataframe tbody tr th:only-of-type {\n",
              "        vertical-align: middle;\n",
              "    }\n",
              "\n",
              "    .dataframe tbody tr th {\n",
              "        vertical-align: top;\n",
              "    }\n",
              "\n",
              "    .dataframe thead th {\n",
              "        text-align: right;\n",
              "    }\n",
              "</style>\n",
              "<table border=\"1\" class=\"dataframe\">\n",
              "  <thead>\n",
              "    <tr style=\"text-align: right;\">\n",
              "      <th></th>\n",
              "      <th>country</th>\n",
              "      <th>date</th>\n",
              "      <th>total_cases</th>\n",
              "      <th>total_deaths</th>\n",
              "      <th>population</th>\n",
              "      <th>new_vaccinations_smoothed</th>\n",
              "      <th>new_people_vaccinated_smoothed</th>\n",
              "      <th>retail_and_recreation_percent_change_from_baseline</th>\n",
              "      <th>grocery_and_pharmacy_percent_change_from_baseline</th>\n",
              "      <th>parks_percent_change_from_baseline</th>\n",
              "      <th>...</th>\n",
              "      <th>workplaces_percent_change_from_baseline</th>\n",
              "      <th>residential_percent_change_from_baseline</th>\n",
              "      <th>lockdown_index</th>\n",
              "      <th>weekday</th>\n",
              "      <th>new_cases_raw</th>\n",
              "      <th>cases_ppm</th>\n",
              "      <th>new_deaths_raw</th>\n",
              "      <th>deaths_ppm</th>\n",
              "      <th>total_vaccinations</th>\n",
              "      <th>percentage_vaccinated</th>\n",
              "    </tr>\n",
              "  </thead>\n",
              "  <tbody>\n",
              "    <tr>\n",
              "      <th>0</th>\n",
              "      <td>Afghanistan</td>\n",
              "      <td>2020-02-24</td>\n",
              "      <td>5.00</td>\n",
              "      <td>0.00</td>\n",
              "      <td>39,835,428.00</td>\n",
              "      <td>0.00</td>\n",
              "      <td>0.00</td>\n",
              "      <td>3.00</td>\n",
              "      <td>13.00</td>\n",
              "      <td>4.00</td>\n",
              "      <td>...</td>\n",
              "      <td>7.00</td>\n",
              "      <td>0.00</td>\n",
              "      <td>8.33</td>\n",
              "      <td>0</td>\n",
              "      <td>0.00</td>\n",
              "      <td>0.00</td>\n",
              "      <td>0.00</td>\n",
              "      <td>0.00</td>\n",
              "      <td>0.00</td>\n",
              "      <td>0.00</td>\n",
              "    </tr>\n",
              "    <tr>\n",
              "      <th>1</th>\n",
              "      <td>Afghanistan</td>\n",
              "      <td>2020-02-25</td>\n",
              "      <td>5.00</td>\n",
              "      <td>0.00</td>\n",
              "      <td>39,835,428.00</td>\n",
              "      <td>0.00</td>\n",
              "      <td>0.00</td>\n",
              "      <td>2.00</td>\n",
              "      <td>5.00</td>\n",
              "      <td>1.00</td>\n",
              "      <td>...</td>\n",
              "      <td>7.00</td>\n",
              "      <td>0.00</td>\n",
              "      <td>8.33</td>\n",
              "      <td>1</td>\n",
              "      <td>0.00</td>\n",
              "      <td>0.00</td>\n",
              "      <td>0.00</td>\n",
              "      <td>0.00</td>\n",
              "      <td>0.00</td>\n",
              "      <td>0.00</td>\n",
              "    </tr>\n",
              "    <tr>\n",
              "      <th>2</th>\n",
              "      <td>Afghanistan</td>\n",
              "      <td>2020-02-26</td>\n",
              "      <td>5.00</td>\n",
              "      <td>0.00</td>\n",
              "      <td>39,835,428.00</td>\n",
              "      <td>0.00</td>\n",
              "      <td>0.00</td>\n",
              "      <td>-1.00</td>\n",
              "      <td>5.00</td>\n",
              "      <td>2.00</td>\n",
              "      <td>...</td>\n",
              "      <td>5.00</td>\n",
              "      <td>1.00</td>\n",
              "      <td>8.33</td>\n",
              "      <td>2</td>\n",
              "      <td>0.00</td>\n",
              "      <td>0.00</td>\n",
              "      <td>0.00</td>\n",
              "      <td>0.00</td>\n",
              "      <td>0.00</td>\n",
              "      <td>0.00</td>\n",
              "    </tr>\n",
              "    <tr>\n",
              "      <th>3</th>\n",
              "      <td>Afghanistan</td>\n",
              "      <td>2020-02-27</td>\n",
              "      <td>5.00</td>\n",
              "      <td>0.00</td>\n",
              "      <td>39,835,428.00</td>\n",
              "      <td>0.00</td>\n",
              "      <td>0.00</td>\n",
              "      <td>-1.00</td>\n",
              "      <td>0.00</td>\n",
              "      <td>1.00</td>\n",
              "      <td>...</td>\n",
              "      <td>7.00</td>\n",
              "      <td>2.00</td>\n",
              "      <td>8.33</td>\n",
              "      <td>3</td>\n",
              "      <td>0.00</td>\n",
              "      <td>0.00</td>\n",
              "      <td>0.00</td>\n",
              "      <td>0.00</td>\n",
              "      <td>0.00</td>\n",
              "      <td>0.00</td>\n",
              "    </tr>\n",
              "    <tr>\n",
              "      <th>4</th>\n",
              "      <td>Afghanistan</td>\n",
              "      <td>2020-02-28</td>\n",
              "      <td>5.00</td>\n",
              "      <td>0.00</td>\n",
              "      <td>39,835,428.00</td>\n",
              "      <td>0.00</td>\n",
              "      <td>0.00</td>\n",
              "      <td>-2.00</td>\n",
              "      <td>5.00</td>\n",
              "      <td>1.00</td>\n",
              "      <td>...</td>\n",
              "      <td>5.00</td>\n",
              "      <td>2.00</td>\n",
              "      <td>8.33</td>\n",
              "      <td>4</td>\n",
              "      <td>0.00</td>\n",
              "      <td>0.00</td>\n",
              "      <td>0.00</td>\n",
              "      <td>0.00</td>\n",
              "      <td>0.00</td>\n",
              "      <td>0.00</td>\n",
              "    </tr>\n",
              "  </tbody>\n",
              "</table>\n",
              "<p>5 rows × 21 columns</p>\n",
              "</div>\n",
              "      <button class=\"colab-df-convert\" onclick=\"convertToInteractive('df-54d2f83c-0a4f-4044-b0a4-a7226dad01b1')\"\n",
              "              title=\"Convert this dataframe to an interactive table.\"\n",
              "              style=\"display:none;\">\n",
              "        \n",
              "  <svg xmlns=\"http://www.w3.org/2000/svg\" height=\"24px\"viewBox=\"0 0 24 24\"\n",
              "       width=\"24px\">\n",
              "    <path d=\"M0 0h24v24H0V0z\" fill=\"none\"/>\n",
              "    <path d=\"M18.56 5.44l.94 2.06.94-2.06 2.06-.94-2.06-.94-.94-2.06-.94 2.06-2.06.94zm-11 1L8.5 8.5l.94-2.06 2.06-.94-2.06-.94L8.5 2.5l-.94 2.06-2.06.94zm10 10l.94 2.06.94-2.06 2.06-.94-2.06-.94-.94-2.06-.94 2.06-2.06.94z\"/><path d=\"M17.41 7.96l-1.37-1.37c-.4-.4-.92-.59-1.43-.59-.52 0-1.04.2-1.43.59L10.3 9.45l-7.72 7.72c-.78.78-.78 2.05 0 2.83L4 21.41c.39.39.9.59 1.41.59.51 0 1.02-.2 1.41-.59l7.78-7.78 2.81-2.81c.8-.78.8-2.07 0-2.86zM5.41 20L4 18.59l7.72-7.72 1.47 1.35L5.41 20z\"/>\n",
              "  </svg>\n",
              "      </button>\n",
              "      \n",
              "  <style>\n",
              "    .colab-df-container {\n",
              "      display:flex;\n",
              "      flex-wrap:wrap;\n",
              "      gap: 12px;\n",
              "    }\n",
              "\n",
              "    .colab-df-convert {\n",
              "      background-color: #E8F0FE;\n",
              "      border: none;\n",
              "      border-radius: 50%;\n",
              "      cursor: pointer;\n",
              "      display: none;\n",
              "      fill: #1967D2;\n",
              "      height: 32px;\n",
              "      padding: 0 0 0 0;\n",
              "      width: 32px;\n",
              "    }\n",
              "\n",
              "    .colab-df-convert:hover {\n",
              "      background-color: #E2EBFA;\n",
              "      box-shadow: 0px 1px 2px rgba(60, 64, 67, 0.3), 0px 1px 3px 1px rgba(60, 64, 67, 0.15);\n",
              "      fill: #174EA6;\n",
              "    }\n",
              "\n",
              "    [theme=dark] .colab-df-convert {\n",
              "      background-color: #3B4455;\n",
              "      fill: #D2E3FC;\n",
              "    }\n",
              "\n",
              "    [theme=dark] .colab-df-convert:hover {\n",
              "      background-color: #434B5C;\n",
              "      box-shadow: 0px 1px 3px 1px rgba(0, 0, 0, 0.15);\n",
              "      filter: drop-shadow(0px 1px 2px rgba(0, 0, 0, 0.3));\n",
              "      fill: #FFFFFF;\n",
              "    }\n",
              "  </style>\n",
              "\n",
              "      <script>\n",
              "        const buttonEl =\n",
              "          document.querySelector('#df-54d2f83c-0a4f-4044-b0a4-a7226dad01b1 button.colab-df-convert');\n",
              "        buttonEl.style.display =\n",
              "          google.colab.kernel.accessAllowed ? 'block' : 'none';\n",
              "\n",
              "        async function convertToInteractive(key) {\n",
              "          const element = document.querySelector('#df-54d2f83c-0a4f-4044-b0a4-a7226dad01b1');\n",
              "          const dataTable =\n",
              "            await google.colab.kernel.invokeFunction('convertToInteractive',\n",
              "                                                     [key], {});\n",
              "          if (!dataTable) return;\n",
              "\n",
              "          const docLinkHtml = 'Like what you see? Visit the ' +\n",
              "            '<a target=\"_blank\" href=https://colab.research.google.com/notebooks/data_table.ipynb>data table notebook</a>'\n",
              "            + ' to learn more about interactive tables.';\n",
              "          element.innerHTML = '';\n",
              "          dataTable['output_type'] = 'display_data';\n",
              "          await google.colab.output.renderOutput(dataTable, element);\n",
              "          const docLink = document.createElement('div');\n",
              "          docLink.innerHTML = docLinkHtml;\n",
              "          element.appendChild(docLink);\n",
              "        }\n",
              "      </script>\n",
              "    </div>\n",
              "  </div>\n",
              "  "
            ]
          },
          "metadata": {},
          "execution_count": 62
        }
      ]
    },
    {
      "cell_type": "markdown",
      "source": [
        "## Forecasts for other countries"
      ],
      "metadata": {
        "id": "kfHcE0CynNqV"
      }
    },
    {
      "cell_type": "code",
      "source": [
        "df_merged.dtypes"
      ],
      "metadata": {
        "id": "mBIOOExFpbBk",
        "outputId": "8110016a-e485-4c8f-f23a-0f19e3c850c1",
        "colab": {
          "base_uri": "https://localhost:8080/"
        }
      },
      "execution_count": 83,
      "outputs": [
        {
          "output_type": "execute_result",
          "data": {
            "text/plain": [
              "country                                                       object\n",
              "date                                                  datetime64[ns]\n",
              "total_cases                                                  float64\n",
              "total_deaths                                                 float64\n",
              "population                                                   float64\n",
              "new_vaccinations_smoothed                                    float64\n",
              "new_people_vaccinated_smoothed                               float64\n",
              "retail_and_recreation_percent_change_from_baseline           float64\n",
              "grocery_and_pharmacy_percent_change_from_baseline            float64\n",
              "parks_percent_change_from_baseline                           float64\n",
              "transit_stations_percent_change_from_baseline                float64\n",
              "workplaces_percent_change_from_baseline                      float64\n",
              "residential_percent_change_from_baseline                     float64\n",
              "lockdown_index                                               float64\n",
              "weekday                                                        int64\n",
              "new_cases_raw                                                float64\n",
              "cases_ppm                                                    float64\n",
              "new_deaths_raw                                               float64\n",
              "deaths_ppm                                                   float64\n",
              "total_vaccinations                                           float64\n",
              "percentage_vaccinated                                        float64\n",
              "dtype: object"
            ]
          },
          "metadata": {},
          "execution_count": 83
        }
      ]
    },
    {
      "cell_type": "code",
      "source": [
        "df_merged_UK = df_merged.query(\"country == 'United Kingdom'\")\n",
        "df_merged_SA = df_merged.query(\"country == 'South Africa'\")\n",
        "df_merged_SK = df_merged.query(\"country == 'South Korea'\")\n",
        "df_merged_IN = df_merged.query(\"country == 'India'\")"
      ],
      "metadata": {
        "id": "7nUoYMZKnM4_"
      },
      "execution_count": 308,
      "outputs": []
    },
    {
      "cell_type": "markdown",
      "source": [
        "## United Kingdom"
      ],
      "metadata": {
        "id": "E-bGeFV7nq1n"
      }
    },
    {
      "cell_type": "code",
      "source": [
        "df_sub = df_merged_SA[['deaths_ppm', 'cases_ppm', 'percentage_vaccinated', 'workplaces_percent_change_from_baseline', \\\n",
        "                       'residential_percent_change_from_baseline', 'lockdown_index', 'date',\\\n",
        "                       'retail_and_recreation_percent_change_from_baseline','grocery_and_pharmacy_percent_change_from_baseline',\\\n",
        "                       'parks_percent_change_from_baseline','residential_percent_change_from_baseline']]"
      ],
      "metadata": {
        "id": "GgbOCcGGLIf1"
      },
      "execution_count": 357,
      "outputs": []
    },
    {
      "cell_type": "code",
      "source": [
        "df4 = df_sub.copy()\n",
        "df4.set_index(\"date\", inplace=True)"
      ],
      "metadata": {
        "id": "yFgxkwCW4UBu"
      },
      "execution_count": 358,
      "outputs": []
    },
    {
      "cell_type": "code",
      "source": [
        "ts_P = TimeSeries.from_series(df4[\"workplaces_percent_change_from_baseline\"]) "
      ],
      "metadata": {
        "id": "POKqkBUc4UBv"
      },
      "execution_count": 359,
      "outputs": []
    },
    {
      "cell_type": "code",
      "source": [
        "ar_covF = ts_covF.all_values()\n",
        "print(type(ar_covF))\n",
        "ar_covF.shape"
      ],
      "metadata": {
        "outputId": "fe6918ac-d95e-4f94-f9b4-e911775866ae",
        "colab": {
          "base_uri": "https://localhost:8080/"
        },
        "id": "Vc4Ft9vL1V1v"
      },
      "execution_count": 360,
      "outputs": [
        {
          "output_type": "stream",
          "name": "stdout",
          "text": [
            "<class 'numpy.ndarray'>\n"
          ]
        },
        {
          "output_type": "execute_result",
          "data": {
            "text/plain": [
              "(759, 10, 1)"
            ]
          },
          "metadata": {},
          "execution_count": 360
        }
      ]
    },
    {
      "cell_type": "code",
      "source": [
        "df_covF = ts_covF.pd_dataframe()\n",
        "type(df_covF)"
      ],
      "metadata": {
        "outputId": "8150b779-e4d6-4fb6-9a23-eff7ed97e6e9",
        "colab": {
          "base_uri": "https://localhost:8080/"
        },
        "id": "VG3zaVDm1V1w"
      },
      "execution_count": 361,
      "outputs": [
        {
          "output_type": "execute_result",
          "data": {
            "text/plain": [
              "pandas.core.frame.DataFrame"
            ]
          },
          "metadata": {},
          "execution_count": 361
        }
      ]
    },
    {
      "cell_type": "code",
      "source": [
        "SPLIT = 716"
      ],
      "metadata": {
        "id": "cdePD9Nn1V1w"
      },
      "execution_count": 362,
      "outputs": []
    },
    {
      "cell_type": "code",
      "source": [
        "# train/test split and scaling of target variable\n",
        "ts_train, ts_test = ts_P.split_after(SPLIT)\n",
        "print(\"training start:\", ts_train.start_time())\n",
        "print(\"training end:\", ts_train.end_time())\n",
        "print(\"training duration:\",ts_train.duration)\n",
        "print(\"test start:\", ts_test.start_time())\n",
        "print(\"test end:\", ts_test.end_time())\n",
        "print(\"test duration:\", ts_test.duration)\n",
        "\n",
        "\n",
        "scalerP = Scaler()\n",
        "scalerP.fit_transform(ts_train)\n",
        "ts_ttrain = scalerP.transform(ts_train)\n",
        "ts_ttest = scalerP.transform(ts_test)    \n",
        "ts_t = scalerP.transform(ts_P)\n",
        "\n",
        "# make sure data are of type float\n",
        "ts_t = ts_t.astype(np.float32)\n",
        "ts_ttrain = ts_ttrain.astype(np.float32)\n",
        "ts_ttest = ts_ttest.astype(np.float32)\n",
        "\n",
        "print(\"first and last row of scaled price time series:\")\n",
        "pd.options.display.float_format = '{:,.2f}'.format\n",
        "ts_t.pd_dataframe().iloc[[0,-1]]\n",
        "\n",
        "\n",
        "# train/test split and scaling of feature covariates\n",
        "covF_train, covF_test = ts_covF.split_after(SPLIT)\n",
        "\n",
        "scalerF = Scaler()\n",
        "scalerF.fit_transform(covF_train)\n",
        "covF_ttrain = scalerF.transform(covF_train) \n",
        "covF_ttest = scalerF.transform(covF_test)   \n",
        "covF_t = scalerF.transform(ts_covF)  \n",
        "\n",
        "# make sure data are of type float\n",
        "covF_ttrain = ts_ttrain.astype(np.float32)\n",
        "covF_ttest = ts_ttest.astype(np.float32)\n",
        "\n",
        "pd.options.display.float_format = '{:.2f}'.format\n",
        "print(\"first and last row of scaled feature covariates:\")\n",
        "covF_t.pd_dataframe().iloc[[0,-1]]\n"
      ],
      "metadata": {
        "outputId": "7e9989b8-c3ee-45bb-cb27-78c77a8b55ef",
        "colab": {
          "base_uri": "https://localhost:8080/",
          "height": 350
        },
        "id": "yk9vF9RR1V1w"
      },
      "execution_count": 363,
      "outputs": [
        {
          "output_type": "stream",
          "name": "stdout",
          "text": [
            "training start: 2020-02-15 00:00:00\n",
            "training end: 2022-01-31 00:00:00\n",
            "training duration: 716 days 00:00:00\n",
            "test start: 2022-02-01 00:00:00\n",
            "test end: 2022-03-15 00:00:00\n",
            "test duration: 42 days 00:00:00\n",
            "first and last row of scaled price time series:\n",
            "first and last row of scaled feature covariates:\n"
          ]
        },
        {
          "output_type": "execute_result",
          "data": {
            "text/plain": [
              "component   deaths_ppm  cases_ppm  percentage_vaccinated  \\\n",
              "date                                                       \n",
              "2020-02-15        0.00       0.01                   0.00   \n",
              "2022-03-14        0.07       0.21                   1.01   \n",
              "\n",
              "component   residential_percent_change_from_baseline  lockdown_index  \\\n",
              "date                                                                   \n",
              "2020-02-15                                      0.09            0.00   \n",
              "2022-03-14                                      0.24            0.24   \n",
              "\n",
              "component   retail_and_recreation_percent_change_from_baseline  \\\n",
              "date                                                             \n",
              "2020-02-15                                               0.78    \n",
              "2022-03-14                                               0.75    \n",
              "\n",
              "component   grocery_and_pharmacy_percent_change_from_baseline  \\\n",
              "date                                                            \n",
              "2020-02-15                                               0.63   \n",
              "2022-03-14                                               0.69   \n",
              "\n",
              "component   parks_percent_change_from_baseline  \\\n",
              "date                                             \n",
              "2020-02-15                                0.07   \n",
              "2022-03-14                                0.31   \n",
              "\n",
              "component   residential_percent_change_from_baseline_1  variant  \n",
              "date                                                             \n",
              "2020-02-15                                        0.09     0.00  \n",
              "2022-03-14                                        0.24     1.00  "
            ],
            "text/html": [
              "\n",
              "  <div id=\"df-d74d0b8d-60a8-46d9-8d4b-c5212fa86fd4\">\n",
              "    <div class=\"colab-df-container\">\n",
              "      <div>\n",
              "<style scoped>\n",
              "    .dataframe tbody tr th:only-of-type {\n",
              "        vertical-align: middle;\n",
              "    }\n",
              "\n",
              "    .dataframe tbody tr th {\n",
              "        vertical-align: top;\n",
              "    }\n",
              "\n",
              "    .dataframe thead th {\n",
              "        text-align: right;\n",
              "    }\n",
              "</style>\n",
              "<table border=\"1\" class=\"dataframe\">\n",
              "  <thead>\n",
              "    <tr style=\"text-align: right;\">\n",
              "      <th>component</th>\n",
              "      <th>deaths_ppm</th>\n",
              "      <th>cases_ppm</th>\n",
              "      <th>percentage_vaccinated</th>\n",
              "      <th>residential_percent_change_from_baseline</th>\n",
              "      <th>lockdown_index</th>\n",
              "      <th>retail_and_recreation_percent_change_from_baseline</th>\n",
              "      <th>grocery_and_pharmacy_percent_change_from_baseline</th>\n",
              "      <th>parks_percent_change_from_baseline</th>\n",
              "      <th>residential_percent_change_from_baseline_1</th>\n",
              "      <th>variant</th>\n",
              "    </tr>\n",
              "    <tr>\n",
              "      <th>date</th>\n",
              "      <th></th>\n",
              "      <th></th>\n",
              "      <th></th>\n",
              "      <th></th>\n",
              "      <th></th>\n",
              "      <th></th>\n",
              "      <th></th>\n",
              "      <th></th>\n",
              "      <th></th>\n",
              "      <th></th>\n",
              "    </tr>\n",
              "  </thead>\n",
              "  <tbody>\n",
              "    <tr>\n",
              "      <th>2020-02-15</th>\n",
              "      <td>0.00</td>\n",
              "      <td>0.01</td>\n",
              "      <td>0.00</td>\n",
              "      <td>0.09</td>\n",
              "      <td>0.00</td>\n",
              "      <td>0.78</td>\n",
              "      <td>0.63</td>\n",
              "      <td>0.07</td>\n",
              "      <td>0.09</td>\n",
              "      <td>0.00</td>\n",
              "    </tr>\n",
              "    <tr>\n",
              "      <th>2022-03-14</th>\n",
              "      <td>0.07</td>\n",
              "      <td>0.21</td>\n",
              "      <td>1.01</td>\n",
              "      <td>0.24</td>\n",
              "      <td>0.24</td>\n",
              "      <td>0.75</td>\n",
              "      <td>0.69</td>\n",
              "      <td>0.31</td>\n",
              "      <td>0.24</td>\n",
              "      <td>1.00</td>\n",
              "    </tr>\n",
              "  </tbody>\n",
              "</table>\n",
              "</div>\n",
              "      <button class=\"colab-df-convert\" onclick=\"convertToInteractive('df-d74d0b8d-60a8-46d9-8d4b-c5212fa86fd4')\"\n",
              "              title=\"Convert this dataframe to an interactive table.\"\n",
              "              style=\"display:none;\">\n",
              "        \n",
              "  <svg xmlns=\"http://www.w3.org/2000/svg\" height=\"24px\"viewBox=\"0 0 24 24\"\n",
              "       width=\"24px\">\n",
              "    <path d=\"M0 0h24v24H0V0z\" fill=\"none\"/>\n",
              "    <path d=\"M18.56 5.44l.94 2.06.94-2.06 2.06-.94-2.06-.94-.94-2.06-.94 2.06-2.06.94zm-11 1L8.5 8.5l.94-2.06 2.06-.94-2.06-.94L8.5 2.5l-.94 2.06-2.06.94zm10 10l.94 2.06.94-2.06 2.06-.94-2.06-.94-.94-2.06-.94 2.06-2.06.94z\"/><path d=\"M17.41 7.96l-1.37-1.37c-.4-.4-.92-.59-1.43-.59-.52 0-1.04.2-1.43.59L10.3 9.45l-7.72 7.72c-.78.78-.78 2.05 0 2.83L4 21.41c.39.39.9.59 1.41.59.51 0 1.02-.2 1.41-.59l7.78-7.78 2.81-2.81c.8-.78.8-2.07 0-2.86zM5.41 20L4 18.59l7.72-7.72 1.47 1.35L5.41 20z\"/>\n",
              "  </svg>\n",
              "      </button>\n",
              "      \n",
              "  <style>\n",
              "    .colab-df-container {\n",
              "      display:flex;\n",
              "      flex-wrap:wrap;\n",
              "      gap: 12px;\n",
              "    }\n",
              "\n",
              "    .colab-df-convert {\n",
              "      background-color: #E8F0FE;\n",
              "      border: none;\n",
              "      border-radius: 50%;\n",
              "      cursor: pointer;\n",
              "      display: none;\n",
              "      fill: #1967D2;\n",
              "      height: 32px;\n",
              "      padding: 0 0 0 0;\n",
              "      width: 32px;\n",
              "    }\n",
              "\n",
              "    .colab-df-convert:hover {\n",
              "      background-color: #E2EBFA;\n",
              "      box-shadow: 0px 1px 2px rgba(60, 64, 67, 0.3), 0px 1px 3px 1px rgba(60, 64, 67, 0.15);\n",
              "      fill: #174EA6;\n",
              "    }\n",
              "\n",
              "    [theme=dark] .colab-df-convert {\n",
              "      background-color: #3B4455;\n",
              "      fill: #D2E3FC;\n",
              "    }\n",
              "\n",
              "    [theme=dark] .colab-df-convert:hover {\n",
              "      background-color: #434B5C;\n",
              "      box-shadow: 0px 1px 3px 1px rgba(0, 0, 0, 0.15);\n",
              "      filter: drop-shadow(0px 1px 2px rgba(0, 0, 0, 0.3));\n",
              "      fill: #FFFFFF;\n",
              "    }\n",
              "  </style>\n",
              "\n",
              "      <script>\n",
              "        const buttonEl =\n",
              "          document.querySelector('#df-d74d0b8d-60a8-46d9-8d4b-c5212fa86fd4 button.colab-df-convert');\n",
              "        buttonEl.style.display =\n",
              "          google.colab.kernel.accessAllowed ? 'block' : 'none';\n",
              "\n",
              "        async function convertToInteractive(key) {\n",
              "          const element = document.querySelector('#df-d74d0b8d-60a8-46d9-8d4b-c5212fa86fd4');\n",
              "          const dataTable =\n",
              "            await google.colab.kernel.invokeFunction('convertToInteractive',\n",
              "                                                     [key], {});\n",
              "          if (!dataTable) return;\n",
              "\n",
              "          const docLinkHtml = 'Like what you see? Visit the ' +\n",
              "            '<a target=\"_blank\" href=https://colab.research.google.com/notebooks/data_table.ipynb>data table notebook</a>'\n",
              "            + ' to learn more about interactive tables.';\n",
              "          element.innerHTML = '';\n",
              "          dataTable['output_type'] = 'display_data';\n",
              "          await google.colab.output.renderOutput(dataTable, element);\n",
              "          const docLink = document.createElement('div');\n",
              "          docLink.innerHTML = docLinkHtml;\n",
              "          element.appendChild(docLink);\n",
              "        }\n",
              "      </script>\n",
              "    </div>\n",
              "  </div>\n",
              "  "
            ]
          },
          "metadata": {},
          "execution_count": 363
        }
      ]
    },
    {
      "cell_type": "code",
      "source": [
        "ts_P.time_index"
      ],
      "metadata": {
        "outputId": "e29cb5f3-6e24-43ed-8560-924f37302d42",
        "colab": {
          "base_uri": "https://localhost:8080/"
        },
        "id": "5q2c9WLF1V1x"
      },
      "execution_count": 364,
      "outputs": [
        {
          "output_type": "execute_result",
          "data": {
            "text/plain": [
              "DatetimeIndex(['2020-02-15', '2020-02-16', '2020-02-17', '2020-02-18',\n",
              "               '2020-02-19', '2020-02-20', '2020-02-21', '2020-02-22',\n",
              "               '2020-02-23', '2020-02-24',\n",
              "               ...\n",
              "               '2022-03-06', '2022-03-07', '2022-03-08', '2022-03-09',\n",
              "               '2022-03-10', '2022-03-11', '2022-03-12', '2022-03-13',\n",
              "               '2022-03-14', '2022-03-15'],\n",
              "              dtype='datetime64[ns]', name='date', length=760, freq='D')"
            ]
          },
          "metadata": {},
          "execution_count": 364
        }
      ]
    },
    {
      "cell_type": "code",
      "source": [
        "# feature engineering - create time covariates: hour, weekday, month, year, country-specific holidays\n",
        "covT = datetime_attribute_timeseries(  ts_P.time_index, \n",
        "                                        attribute=\"day\", \n",
        "                                        until=pd.Timestamp(\"2022-04-01\"), one_hot=False)\n",
        "covT = covT.stack(datetime_attribute_timeseries(covT.time_index, attribute=\"day_of_week\", one_hot=False))\n",
        "covT = covT.stack(datetime_attribute_timeseries(covT.time_index, attribute=\"month\", one_hot=False))\n",
        "covT = covT.stack(datetime_attribute_timeseries(covT.time_index, attribute=\"year\", one_hot=False))\n",
        "\n",
        "covT = covT.add_holidays(country_code=\"US\")\n",
        "covT = covT.astype(np.float32)\n",
        "\n",
        "\n",
        "# train/test split\n",
        "covT_train, covT_test = covT.split_after(SPLIT)\n",
        "\n",
        "\n",
        "# rescale the covariates: fitting on the training set\n",
        "scalerT = Scaler()\n",
        "scalerT.fit(covT_train)\n",
        "covT_ttrain = scalerT.transform(covT_train)\n",
        "covT_ttest = scalerT.transform(covT_test)\n",
        "covT_t = scalerT.transform(covT)\n",
        "\n",
        "covT_t = covT_t.astype(np.float32)\n",
        "\n",
        "\n",
        "pd.options.display.float_format = '{:.0f}'.format\n",
        "print(\"first and last row of unscaled time covariates:\")\n",
        "covT.pd_dataframe().iloc[[0,-1]]"
      ],
      "metadata": {
        "outputId": "8d2e2ca2-9309-455c-b21a-da1f0f34de70",
        "colab": {
          "base_uri": "https://localhost:8080/",
          "height": 161
        },
        "id": "nK_FP1D61V1x"
      },
      "execution_count": 365,
      "outputs": [
        {
          "output_type": "stream",
          "name": "stdout",
          "text": [
            "first and last row of unscaled time covariates:\n"
          ]
        },
        {
          "output_type": "execute_result",
          "data": {
            "text/plain": [
              "component   day  day_of_week  month  year  holidays\n",
              "time                                               \n",
              "2020-02-15   15            5      2  2020         0\n",
              "2022-04-01    1            4      4  2022         0"
            ],
            "text/html": [
              "\n",
              "  <div id=\"df-a691be3d-b320-4b66-98bd-7b44f3a27852\">\n",
              "    <div class=\"colab-df-container\">\n",
              "      <div>\n",
              "<style scoped>\n",
              "    .dataframe tbody tr th:only-of-type {\n",
              "        vertical-align: middle;\n",
              "    }\n",
              "\n",
              "    .dataframe tbody tr th {\n",
              "        vertical-align: top;\n",
              "    }\n",
              "\n",
              "    .dataframe thead th {\n",
              "        text-align: right;\n",
              "    }\n",
              "</style>\n",
              "<table border=\"1\" class=\"dataframe\">\n",
              "  <thead>\n",
              "    <tr style=\"text-align: right;\">\n",
              "      <th>component</th>\n",
              "      <th>day</th>\n",
              "      <th>day_of_week</th>\n",
              "      <th>month</th>\n",
              "      <th>year</th>\n",
              "      <th>holidays</th>\n",
              "    </tr>\n",
              "    <tr>\n",
              "      <th>time</th>\n",
              "      <th></th>\n",
              "      <th></th>\n",
              "      <th></th>\n",
              "      <th></th>\n",
              "      <th></th>\n",
              "    </tr>\n",
              "  </thead>\n",
              "  <tbody>\n",
              "    <tr>\n",
              "      <th>2020-02-15</th>\n",
              "      <td>15</td>\n",
              "      <td>5</td>\n",
              "      <td>2</td>\n",
              "      <td>2020</td>\n",
              "      <td>0</td>\n",
              "    </tr>\n",
              "    <tr>\n",
              "      <th>2022-04-01</th>\n",
              "      <td>1</td>\n",
              "      <td>4</td>\n",
              "      <td>4</td>\n",
              "      <td>2022</td>\n",
              "      <td>0</td>\n",
              "    </tr>\n",
              "  </tbody>\n",
              "</table>\n",
              "</div>\n",
              "      <button class=\"colab-df-convert\" onclick=\"convertToInteractive('df-a691be3d-b320-4b66-98bd-7b44f3a27852')\"\n",
              "              title=\"Convert this dataframe to an interactive table.\"\n",
              "              style=\"display:none;\">\n",
              "        \n",
              "  <svg xmlns=\"http://www.w3.org/2000/svg\" height=\"24px\"viewBox=\"0 0 24 24\"\n",
              "       width=\"24px\">\n",
              "    <path d=\"M0 0h24v24H0V0z\" fill=\"none\"/>\n",
              "    <path d=\"M18.56 5.44l.94 2.06.94-2.06 2.06-.94-2.06-.94-.94-2.06-.94 2.06-2.06.94zm-11 1L8.5 8.5l.94-2.06 2.06-.94-2.06-.94L8.5 2.5l-.94 2.06-2.06.94zm10 10l.94 2.06.94-2.06 2.06-.94-2.06-.94-.94-2.06-.94 2.06-2.06.94z\"/><path d=\"M17.41 7.96l-1.37-1.37c-.4-.4-.92-.59-1.43-.59-.52 0-1.04.2-1.43.59L10.3 9.45l-7.72 7.72c-.78.78-.78 2.05 0 2.83L4 21.41c.39.39.9.59 1.41.59.51 0 1.02-.2 1.41-.59l7.78-7.78 2.81-2.81c.8-.78.8-2.07 0-2.86zM5.41 20L4 18.59l7.72-7.72 1.47 1.35L5.41 20z\"/>\n",
              "  </svg>\n",
              "      </button>\n",
              "      \n",
              "  <style>\n",
              "    .colab-df-container {\n",
              "      display:flex;\n",
              "      flex-wrap:wrap;\n",
              "      gap: 12px;\n",
              "    }\n",
              "\n",
              "    .colab-df-convert {\n",
              "      background-color: #E8F0FE;\n",
              "      border: none;\n",
              "      border-radius: 50%;\n",
              "      cursor: pointer;\n",
              "      display: none;\n",
              "      fill: #1967D2;\n",
              "      height: 32px;\n",
              "      padding: 0 0 0 0;\n",
              "      width: 32px;\n",
              "    }\n",
              "\n",
              "    .colab-df-convert:hover {\n",
              "      background-color: #E2EBFA;\n",
              "      box-shadow: 0px 1px 2px rgba(60, 64, 67, 0.3), 0px 1px 3px 1px rgba(60, 64, 67, 0.15);\n",
              "      fill: #174EA6;\n",
              "    }\n",
              "\n",
              "    [theme=dark] .colab-df-convert {\n",
              "      background-color: #3B4455;\n",
              "      fill: #D2E3FC;\n",
              "    }\n",
              "\n",
              "    [theme=dark] .colab-df-convert:hover {\n",
              "      background-color: #434B5C;\n",
              "      box-shadow: 0px 1px 3px 1px rgba(0, 0, 0, 0.15);\n",
              "      filter: drop-shadow(0px 1px 2px rgba(0, 0, 0, 0.3));\n",
              "      fill: #FFFFFF;\n",
              "    }\n",
              "  </style>\n",
              "\n",
              "      <script>\n",
              "        const buttonEl =\n",
              "          document.querySelector('#df-a691be3d-b320-4b66-98bd-7b44f3a27852 button.colab-df-convert');\n",
              "        buttonEl.style.display =\n",
              "          google.colab.kernel.accessAllowed ? 'block' : 'none';\n",
              "\n",
              "        async function convertToInteractive(key) {\n",
              "          const element = document.querySelector('#df-a691be3d-b320-4b66-98bd-7b44f3a27852');\n",
              "          const dataTable =\n",
              "            await google.colab.kernel.invokeFunction('convertToInteractive',\n",
              "                                                     [key], {});\n",
              "          if (!dataTable) return;\n",
              "\n",
              "          const docLinkHtml = 'Like what you see? Visit the ' +\n",
              "            '<a target=\"_blank\" href=https://colab.research.google.com/notebooks/data_table.ipynb>data table notebook</a>'\n",
              "            + ' to learn more about interactive tables.';\n",
              "          element.innerHTML = '';\n",
              "          dataTable['output_type'] = 'display_data';\n",
              "          await google.colab.output.renderOutput(dataTable, element);\n",
              "          const docLink = document.createElement('div');\n",
              "          docLink.innerHTML = docLinkHtml;\n",
              "          element.appendChild(docLink);\n",
              "        }\n",
              "      </script>\n",
              "    </div>\n",
              "  </div>\n",
              "  "
            ]
          },
          "metadata": {},
          "execution_count": 365
        }
      ]
    },
    {
      "cell_type": "code",
      "source": [
        "LOAD = False         # True = load previously saved model from disk?  False = (re)train the model\n",
        "SAVE = \"\\_TForm_model10e.pth.tar\"   # file name to save the model under\n",
        "\n",
        "EPOCHS = 200\n",
        "INLEN = 11          # input size\n",
        "FEAT = 32           # d_model = number of expected features in the inputs, up to 512    \n",
        "HEADS = 4           # default 8\n",
        "ENCODE = 4          # encoder layers\n",
        "DECODE = 4          # decoder layers\n",
        "DIM_FF = 128        # dimensions of the feedforward network, default 2048\n",
        "BATCH = 32          # batch size\n",
        "ACTF = \"relu\"       # activation function, relu (default) or gelu\n",
        "SCHLEARN = None     # a PyTorch learning rate scheduler; None = constant rate\n",
        "LEARN = 1e-3        # learning rate\n",
        "VALWAIT = 1         # epochs to wait before evaluating the loss on the test/validation set\n",
        "DROPOUT = 0.1       # dropout rate\n",
        "N_FC = 1            # output size\n",
        "\n",
        "RAND = 42           # random seed\n",
        "N_SAMPLES = 100     # number of times a prediction is sampled from a probabilistic model\n",
        "N_JOBS = 3          # parallel processors to use;  -1 = all processors\n",
        "\n",
        "# default quantiles for QuantileRegression\n",
        "QUANTILES = [0.01, 0.1, 0.2, 0.5, 0.8, 0.9, 0.99]\n",
        "\n",
        "\n",
        "FIGSIZE = (9, 6)\n",
        "\n",
        "\n",
        "qL1, qL2 = 0.01, 0.10        # percentiles of predictions: lower bounds\n",
        "qU1, qU2 = 1-qL1, 1-qL2,     # upper bounds derived from lower bounds\n",
        "label_q1 = f'{int(qU1 * 100)} / {int(qL1 * 100)} percentile band'\n",
        "label_q2 = f'{int(qU2 * 100)} / {int(qL2 * 100)} percentile band'\n",
        "\n",
        "mpath = os.path.abspath(os.getcwd()) + SAVE     # path and file name to save the model"
      ],
      "metadata": {
        "id": "aJ9GxWkk1V1x"
      },
      "execution_count": 366,
      "outputs": []
    },
    {
      "cell_type": "code",
      "source": [
        "model = TransformerModel(\n",
        "                    input_chunk_length = INLEN,\n",
        "                    output_chunk_length = N_FC,\n",
        "                    batch_size = BATCH,\n",
        "                    n_epochs = EPOCHS,\n",
        "                    model_name = \"Transformer_price4\",\n",
        "                    nr_epochs_val_period = VALWAIT,\n",
        "                    d_model = FEAT,\n",
        "                    nhead = HEADS,\n",
        "                    num_encoder_layers = ENCODE,\n",
        "                    num_decoder_layers = DECODE,\n",
        "                    dim_feedforward = DIM_FF,\n",
        "                    dropout = DROPOUT,\n",
        "                    activation = ACTF,\n",
        "                    random_state=RAND,\n",
        "                    likelihood=QuantileRegression(quantiles=QUANTILES), \n",
        "                    optimizer_kwargs={'lr': LEARN},\n",
        "                    add_encoders={\"cyclic\": {\"future\": [\"day\", \"dayofweek\", \"month\"]}},\n",
        "                    save_checkpoints=True,\n",
        "                    force_reset=True\n",
        "                    )"
      ],
      "metadata": {
        "id": "lOquwvfl1V1y"
      },
      "execution_count": 367,
      "outputs": []
    },
    {
      "cell_type": "code",
      "source": [
        "if LOAD:\n",
        "    print(\"have loaded a previously saved model from disk:\" + mpath)\n",
        "    model = TransformerModel.load_model(mpath)                            # load previously model from disk \n",
        "else:\n",
        "    model.fit(  ts_ttrain, \n",
        "                past_covariates=covT_t, \n",
        "                verbose=True)\n",
        "    print(\"have saved the model after training:\", mpath)\n",
        "    model.save_model(mpath)"
      ],
      "metadata": {
        "outputId": "62976c9a-d2a3-4310-9cc6-8575694bfa49",
        "colab": {
          "base_uri": "https://localhost:8080/",
          "height": 67,
          "referenced_widgets": [
            "b0b6ed7f4f30499f9847513184f50a86",
            "45bdb0134eef4ad09523608d229ff76b",
            "9259bf18c1d04e95a15fae4e105f4cd2",
            "3cb610ae493e44189625435a680f91c2",
            "03d80dff57374811b17d2689799ad8e0",
            "32c1daaab328421da4b1f495ca397de9",
            "bb640918dc3143858bd3eaddf616a231",
            "23d97fbc3ba848e28bc3393978be3226",
            "5fb1de1a6bf344a8a509cbeb74782c45",
            "cd4e3da641234d72b86963a060eb81fc",
            "3851ff8820fc4b4eb14c182875951183"
          ]
        },
        "id": "haTcp32K1V1y"
      },
      "execution_count": 368,
      "outputs": [
        {
          "output_type": "display_data",
          "data": {
            "text/plain": [
              "Training: 0it [00:00, ?it/s]"
            ],
            "application/vnd.jupyter.widget-view+json": {
              "version_major": 2,
              "version_minor": 0,
              "model_id": "b0b6ed7f4f30499f9847513184f50a86"
            }
          },
          "metadata": {}
        },
        {
          "output_type": "stream",
          "name": "stdout",
          "text": [
            "have saved the model after training: /content\\_TForm_model10e.pth.tar\n"
          ]
        }
      ]
    },
    {
      "cell_type": "code",
      "source": [
        "# testing: generate predictions\n",
        "ts_tpred = model.predict(   n=len(ts_ttest), \n",
        "                            num_samples=N_SAMPLES,   \n",
        "                            n_jobs=N_JOBS, \n",
        "                            verbose=True)"
      ],
      "metadata": {
        "outputId": "56c96da7-c122-404b-d7b9-c0f113c891ea",
        "colab": {
          "base_uri": "https://localhost:8080/",
          "height": 49,
          "referenced_widgets": [
            "bb35a7a5fcd74696b72224f8beb55450",
            "35ae65b2af4348d9ace384109803d8ab",
            "70a70b501ba448e5ba5d6156fb81a231",
            "b58430e4da82480a898682a20abea037",
            "b0daaf081f27401dbd5f81b77df608d7",
            "7a4a47495af04d3ead01dff22c3c974e",
            "89252bc87cd44274b5c1d531191bbfdb",
            "b303e64ddfd14689a1d34c343fde4aa5",
            "ee7987b1baa145dab20076f0eb7f2d0b",
            "1b32831f68d6463bb94385be8e6cd805",
            "3d929c0e4b00408da875e94df44fc4f4"
          ]
        },
        "id": "QIeoA-DC1V1z"
      },
      "execution_count": 370,
      "outputs": [
        {
          "output_type": "display_data",
          "data": {
            "text/plain": [
              "Predicting: 23it [00:00, ?it/s]"
            ],
            "application/vnd.jupyter.widget-view+json": {
              "version_major": 2,
              "version_minor": 0,
              "model_id": "bb35a7a5fcd74696b72224f8beb55450"
            }
          },
          "metadata": {}
        }
      ]
    },
    {
      "cell_type": "code",
      "source": [
        "\n",
        "# retrieve forecast series for chosen quantiles, \n",
        "# inverse-transform each series,\n",
        "# insert them as columns in a new dataframe dfY\n",
        "q50_RMSE = np.inf\n",
        "q50_MAPE = np.inf\n",
        "ts_q50 = None\n",
        "pd.options.display.float_format = '{:,.2f}'.format\n",
        "dfY = pd.DataFrame()\n",
        "dfY[\"Actual\"] = TimeSeries.pd_series(ts_test)\n",
        "\n",
        "\n",
        "# helper function: get forecast values for selected quantile q and insert them in dataframe dfY\n",
        "def predQ(ts_t, q):\n",
        "    ts_tq = ts_t.quantile_timeseries(q)\n",
        "    ts_q = scalerP.inverse_transform(ts_tq)\n",
        "    s = TimeSeries.pd_series(ts_q)\n",
        "    header = \"Q\" + format(int(q*100), \"02d\")\n",
        "    dfY[header] = s\n",
        "    if q==0.5:\n",
        "        ts_q50 = ts_q\n",
        "        q50_RMSE = rmse(ts_q50, ts_test)\n",
        "        q50_MAPE = mape(ts_q50, ts_test) \n",
        "        print(\"RMSE:\", f'{q50_RMSE:.2f}')\n",
        "        print(\"MAPE:\", f'{q50_MAPE:.2f}')\n",
        "  \n",
        "    \n",
        "# call helper function predQ, once for every quantile\n",
        "_ = [predQ(ts_tpred, q) for q in QUANTILES]\n",
        "\n",
        "# move Q50 column to the left of the Actual column\n",
        "col = dfY.pop(\"Q50\")\n",
        "dfY.insert(1, col.name, col)\n",
        "dfY.iloc[np.r_[0:2, -2:0]]"
      ],
      "metadata": {
        "outputId": "16963f83-a91c-45a7-fdc1-2eeca1a517df",
        "colab": {
          "base_uri": "https://localhost:8080/",
          "height": 242
        },
        "id": "jScevBHz1V1z"
      },
      "execution_count": 371,
      "outputs": [
        {
          "output_type": "stream",
          "name": "stdout",
          "text": [
            "RMSE: 9.06\n",
            "MAPE: 712.70\n"
          ]
        },
        {
          "output_type": "execute_result",
          "data": {
            "text/plain": [
              "            Actual   Q50    Q01    Q10   Q20  Q80  Q90  Q99\n",
              "date                                                       \n",
              "2022-02-01    3.00  0.04 -36.83  -3.77 -1.98 2.61 4.52 7.62\n",
              "2022-02-02    2.00 -1.88 -46.11 -22.04 -4.94 0.73 2.11 5.57\n",
              "2022-03-14   13.00 -0.71 -50.50 -18.54 -5.44 2.79 5.90 9.22\n",
              "2022-03-15   14.00 -2.13 -39.66  -7.01 -5.27 0.47 2.10 5.40"
            ],
            "text/html": [
              "\n",
              "  <div id=\"df-1cf0de3f-7239-4a6c-82f8-0a632290f2d4\">\n",
              "    <div class=\"colab-df-container\">\n",
              "      <div>\n",
              "<style scoped>\n",
              "    .dataframe tbody tr th:only-of-type {\n",
              "        vertical-align: middle;\n",
              "    }\n",
              "\n",
              "    .dataframe tbody tr th {\n",
              "        vertical-align: top;\n",
              "    }\n",
              "\n",
              "    .dataframe thead th {\n",
              "        text-align: right;\n",
              "    }\n",
              "</style>\n",
              "<table border=\"1\" class=\"dataframe\">\n",
              "  <thead>\n",
              "    <tr style=\"text-align: right;\">\n",
              "      <th></th>\n",
              "      <th>Actual</th>\n",
              "      <th>Q50</th>\n",
              "      <th>Q01</th>\n",
              "      <th>Q10</th>\n",
              "      <th>Q20</th>\n",
              "      <th>Q80</th>\n",
              "      <th>Q90</th>\n",
              "      <th>Q99</th>\n",
              "    </tr>\n",
              "    <tr>\n",
              "      <th>date</th>\n",
              "      <th></th>\n",
              "      <th></th>\n",
              "      <th></th>\n",
              "      <th></th>\n",
              "      <th></th>\n",
              "      <th></th>\n",
              "      <th></th>\n",
              "      <th></th>\n",
              "    </tr>\n",
              "  </thead>\n",
              "  <tbody>\n",
              "    <tr>\n",
              "      <th>2022-02-01</th>\n",
              "      <td>3.00</td>\n",
              "      <td>0.04</td>\n",
              "      <td>-36.83</td>\n",
              "      <td>-3.77</td>\n",
              "      <td>-1.98</td>\n",
              "      <td>2.61</td>\n",
              "      <td>4.52</td>\n",
              "      <td>7.62</td>\n",
              "    </tr>\n",
              "    <tr>\n",
              "      <th>2022-02-02</th>\n",
              "      <td>2.00</td>\n",
              "      <td>-1.88</td>\n",
              "      <td>-46.11</td>\n",
              "      <td>-22.04</td>\n",
              "      <td>-4.94</td>\n",
              "      <td>0.73</td>\n",
              "      <td>2.11</td>\n",
              "      <td>5.57</td>\n",
              "    </tr>\n",
              "    <tr>\n",
              "      <th>2022-03-14</th>\n",
              "      <td>13.00</td>\n",
              "      <td>-0.71</td>\n",
              "      <td>-50.50</td>\n",
              "      <td>-18.54</td>\n",
              "      <td>-5.44</td>\n",
              "      <td>2.79</td>\n",
              "      <td>5.90</td>\n",
              "      <td>9.22</td>\n",
              "    </tr>\n",
              "    <tr>\n",
              "      <th>2022-03-15</th>\n",
              "      <td>14.00</td>\n",
              "      <td>-2.13</td>\n",
              "      <td>-39.66</td>\n",
              "      <td>-7.01</td>\n",
              "      <td>-5.27</td>\n",
              "      <td>0.47</td>\n",
              "      <td>2.10</td>\n",
              "      <td>5.40</td>\n",
              "    </tr>\n",
              "  </tbody>\n",
              "</table>\n",
              "</div>\n",
              "      <button class=\"colab-df-convert\" onclick=\"convertToInteractive('df-1cf0de3f-7239-4a6c-82f8-0a632290f2d4')\"\n",
              "              title=\"Convert this dataframe to an interactive table.\"\n",
              "              style=\"display:none;\">\n",
              "        \n",
              "  <svg xmlns=\"http://www.w3.org/2000/svg\" height=\"24px\"viewBox=\"0 0 24 24\"\n",
              "       width=\"24px\">\n",
              "    <path d=\"M0 0h24v24H0V0z\" fill=\"none\"/>\n",
              "    <path d=\"M18.56 5.44l.94 2.06.94-2.06 2.06-.94-2.06-.94-.94-2.06-.94 2.06-2.06.94zm-11 1L8.5 8.5l.94-2.06 2.06-.94-2.06-.94L8.5 2.5l-.94 2.06-2.06.94zm10 10l.94 2.06.94-2.06 2.06-.94-2.06-.94-.94-2.06-.94 2.06-2.06.94z\"/><path d=\"M17.41 7.96l-1.37-1.37c-.4-.4-.92-.59-1.43-.59-.52 0-1.04.2-1.43.59L10.3 9.45l-7.72 7.72c-.78.78-.78 2.05 0 2.83L4 21.41c.39.39.9.59 1.41.59.51 0 1.02-.2 1.41-.59l7.78-7.78 2.81-2.81c.8-.78.8-2.07 0-2.86zM5.41 20L4 18.59l7.72-7.72 1.47 1.35L5.41 20z\"/>\n",
              "  </svg>\n",
              "      </button>\n",
              "      \n",
              "  <style>\n",
              "    .colab-df-container {\n",
              "      display:flex;\n",
              "      flex-wrap:wrap;\n",
              "      gap: 12px;\n",
              "    }\n",
              "\n",
              "    .colab-df-convert {\n",
              "      background-color: #E8F0FE;\n",
              "      border: none;\n",
              "      border-radius: 50%;\n",
              "      cursor: pointer;\n",
              "      display: none;\n",
              "      fill: #1967D2;\n",
              "      height: 32px;\n",
              "      padding: 0 0 0 0;\n",
              "      width: 32px;\n",
              "    }\n",
              "\n",
              "    .colab-df-convert:hover {\n",
              "      background-color: #E2EBFA;\n",
              "      box-shadow: 0px 1px 2px rgba(60, 64, 67, 0.3), 0px 1px 3px 1px rgba(60, 64, 67, 0.15);\n",
              "      fill: #174EA6;\n",
              "    }\n",
              "\n",
              "    [theme=dark] .colab-df-convert {\n",
              "      background-color: #3B4455;\n",
              "      fill: #D2E3FC;\n",
              "    }\n",
              "\n",
              "    [theme=dark] .colab-df-convert:hover {\n",
              "      background-color: #434B5C;\n",
              "      box-shadow: 0px 1px 3px 1px rgba(0, 0, 0, 0.15);\n",
              "      filter: drop-shadow(0px 1px 2px rgba(0, 0, 0, 0.3));\n",
              "      fill: #FFFFFF;\n",
              "    }\n",
              "  </style>\n",
              "\n",
              "      <script>\n",
              "        const buttonEl =\n",
              "          document.querySelector('#df-1cf0de3f-7239-4a6c-82f8-0a632290f2d4 button.colab-df-convert');\n",
              "        buttonEl.style.display =\n",
              "          google.colab.kernel.accessAllowed ? 'block' : 'none';\n",
              "\n",
              "        async function convertToInteractive(key) {\n",
              "          const element = document.querySelector('#df-1cf0de3f-7239-4a6c-82f8-0a632290f2d4');\n",
              "          const dataTable =\n",
              "            await google.colab.kernel.invokeFunction('convertToInteractive',\n",
              "                                                     [key], {});\n",
              "          if (!dataTable) return;\n",
              "\n",
              "          const docLinkHtml = 'Like what you see? Visit the ' +\n",
              "            '<a target=\"_blank\" href=https://colab.research.google.com/notebooks/data_table.ipynb>data table notebook</a>'\n",
              "            + ' to learn more about interactive tables.';\n",
              "          element.innerHTML = '';\n",
              "          dataTable['output_type'] = 'display_data';\n",
              "          await google.colab.output.renderOutput(dataTable, element);\n",
              "          const docLink = document.createElement('div');\n",
              "          docLink.innerHTML = docLinkHtml;\n",
              "          element.appendChild(docLink);\n",
              "        }\n",
              "      </script>\n",
              "    </div>\n",
              "  </div>\n",
              "  "
            ]
          },
          "metadata": {},
          "execution_count": 371
        }
      ]
    },
    {
      "cell_type": "code",
      "source": [
        "# retrieve forecast series for chosen quantiles, \n",
        "# inverse-transform each series,\n",
        "# insert them as columns in a new dataframe dfY\n",
        "q50_RMSE = np.inf\n",
        "q50_MAPE = np.inf\n",
        "ts_q50 = None\n",
        "pd.options.display.float_format = '{:,.2f}'.format\n",
        "dfY = pd.DataFrame()\n",
        "dfY[\"Actual\"] = TimeSeries.pd_series(ts_test)\n",
        "\n",
        "\n",
        "# helper function: get forecast values for selected quantile q and insert them in dataframe dfY\n",
        "def predQ(ts_t, q):\n",
        "    ts_tq = ts_t.quantile_timeseries(q)\n",
        "    ts_q = scalerP.inverse_transform(ts_tq)\n",
        "    s = TimeSeries.pd_series(ts_q)\n",
        "    header = \"Q\" + format(int(q*100), \"02d\")\n",
        "    dfY[header] = s\n",
        "    if q==0.5:\n",
        "        ts_q50 = ts_q\n",
        "        q50_RMSE = rmse(ts_q50, ts_test)\n",
        "        q50_MAPE = mape(ts_q50, ts_test) \n",
        "        print(\"RMSE:\", f'{q50_RMSE:.2f}')\n",
        "        print(\"MAPE:\", f'{q50_MAPE:.2f}')\n",
        "  \n",
        "    \n",
        "# call helper function predQ, once for every quantile\n",
        "_ = [predQ(ts_tpred, q) for q in QUANTILES]\n",
        "\n",
        "# move Q50 column to the left of the Actual column\n",
        "col = dfY.pop(\"Q50\")\n",
        "dfY.insert(1, col.name, col)\n",
        "dfY.iloc[np.r_[0:2, -2:0]]"
      ],
      "metadata": {
        "outputId": "70026938-7cd8-4905-8529-12294753f598",
        "colab": {
          "base_uri": "https://localhost:8080/",
          "height": 242
        },
        "id": "p5Hh_u_-1V1z"
      },
      "execution_count": 372,
      "outputs": [
        {
          "output_type": "stream",
          "name": "stdout",
          "text": [
            "RMSE: 9.06\n",
            "MAPE: 712.70\n"
          ]
        },
        {
          "output_type": "execute_result",
          "data": {
            "text/plain": [
              "            Actual   Q50    Q01    Q10   Q20  Q80  Q90  Q99\n",
              "date                                                       \n",
              "2022-02-01    3.00  0.04 -36.83  -3.77 -1.98 2.61 4.52 7.62\n",
              "2022-02-02    2.00 -1.88 -46.11 -22.04 -4.94 0.73 2.11 5.57\n",
              "2022-03-14   13.00 -0.71 -50.50 -18.54 -5.44 2.79 5.90 9.22\n",
              "2022-03-15   14.00 -2.13 -39.66  -7.01 -5.27 0.47 2.10 5.40"
            ],
            "text/html": [
              "\n",
              "  <div id=\"df-2080cb92-7aad-4792-9c53-40bf5720f0e7\">\n",
              "    <div class=\"colab-df-container\">\n",
              "      <div>\n",
              "<style scoped>\n",
              "    .dataframe tbody tr th:only-of-type {\n",
              "        vertical-align: middle;\n",
              "    }\n",
              "\n",
              "    .dataframe tbody tr th {\n",
              "        vertical-align: top;\n",
              "    }\n",
              "\n",
              "    .dataframe thead th {\n",
              "        text-align: right;\n",
              "    }\n",
              "</style>\n",
              "<table border=\"1\" class=\"dataframe\">\n",
              "  <thead>\n",
              "    <tr style=\"text-align: right;\">\n",
              "      <th></th>\n",
              "      <th>Actual</th>\n",
              "      <th>Q50</th>\n",
              "      <th>Q01</th>\n",
              "      <th>Q10</th>\n",
              "      <th>Q20</th>\n",
              "      <th>Q80</th>\n",
              "      <th>Q90</th>\n",
              "      <th>Q99</th>\n",
              "    </tr>\n",
              "    <tr>\n",
              "      <th>date</th>\n",
              "      <th></th>\n",
              "      <th></th>\n",
              "      <th></th>\n",
              "      <th></th>\n",
              "      <th></th>\n",
              "      <th></th>\n",
              "      <th></th>\n",
              "      <th></th>\n",
              "    </tr>\n",
              "  </thead>\n",
              "  <tbody>\n",
              "    <tr>\n",
              "      <th>2022-02-01</th>\n",
              "      <td>3.00</td>\n",
              "      <td>0.04</td>\n",
              "      <td>-36.83</td>\n",
              "      <td>-3.77</td>\n",
              "      <td>-1.98</td>\n",
              "      <td>2.61</td>\n",
              "      <td>4.52</td>\n",
              "      <td>7.62</td>\n",
              "    </tr>\n",
              "    <tr>\n",
              "      <th>2022-02-02</th>\n",
              "      <td>2.00</td>\n",
              "      <td>-1.88</td>\n",
              "      <td>-46.11</td>\n",
              "      <td>-22.04</td>\n",
              "      <td>-4.94</td>\n",
              "      <td>0.73</td>\n",
              "      <td>2.11</td>\n",
              "      <td>5.57</td>\n",
              "    </tr>\n",
              "    <tr>\n",
              "      <th>2022-03-14</th>\n",
              "      <td>13.00</td>\n",
              "      <td>-0.71</td>\n",
              "      <td>-50.50</td>\n",
              "      <td>-18.54</td>\n",
              "      <td>-5.44</td>\n",
              "      <td>2.79</td>\n",
              "      <td>5.90</td>\n",
              "      <td>9.22</td>\n",
              "    </tr>\n",
              "    <tr>\n",
              "      <th>2022-03-15</th>\n",
              "      <td>14.00</td>\n",
              "      <td>-2.13</td>\n",
              "      <td>-39.66</td>\n",
              "      <td>-7.01</td>\n",
              "      <td>-5.27</td>\n",
              "      <td>0.47</td>\n",
              "      <td>2.10</td>\n",
              "      <td>5.40</td>\n",
              "    </tr>\n",
              "  </tbody>\n",
              "</table>\n",
              "</div>\n",
              "      <button class=\"colab-df-convert\" onclick=\"convertToInteractive('df-2080cb92-7aad-4792-9c53-40bf5720f0e7')\"\n",
              "              title=\"Convert this dataframe to an interactive table.\"\n",
              "              style=\"display:none;\">\n",
              "        \n",
              "  <svg xmlns=\"http://www.w3.org/2000/svg\" height=\"24px\"viewBox=\"0 0 24 24\"\n",
              "       width=\"24px\">\n",
              "    <path d=\"M0 0h24v24H0V0z\" fill=\"none\"/>\n",
              "    <path d=\"M18.56 5.44l.94 2.06.94-2.06 2.06-.94-2.06-.94-.94-2.06-.94 2.06-2.06.94zm-11 1L8.5 8.5l.94-2.06 2.06-.94-2.06-.94L8.5 2.5l-.94 2.06-2.06.94zm10 10l.94 2.06.94-2.06 2.06-.94-2.06-.94-.94-2.06-.94 2.06-2.06.94z\"/><path d=\"M17.41 7.96l-1.37-1.37c-.4-.4-.92-.59-1.43-.59-.52 0-1.04.2-1.43.59L10.3 9.45l-7.72 7.72c-.78.78-.78 2.05 0 2.83L4 21.41c.39.39.9.59 1.41.59.51 0 1.02-.2 1.41-.59l7.78-7.78 2.81-2.81c.8-.78.8-2.07 0-2.86zM5.41 20L4 18.59l7.72-7.72 1.47 1.35L5.41 20z\"/>\n",
              "  </svg>\n",
              "      </button>\n",
              "      \n",
              "  <style>\n",
              "    .colab-df-container {\n",
              "      display:flex;\n",
              "      flex-wrap:wrap;\n",
              "      gap: 12px;\n",
              "    }\n",
              "\n",
              "    .colab-df-convert {\n",
              "      background-color: #E8F0FE;\n",
              "      border: none;\n",
              "      border-radius: 50%;\n",
              "      cursor: pointer;\n",
              "      display: none;\n",
              "      fill: #1967D2;\n",
              "      height: 32px;\n",
              "      padding: 0 0 0 0;\n",
              "      width: 32px;\n",
              "    }\n",
              "\n",
              "    .colab-df-convert:hover {\n",
              "      background-color: #E2EBFA;\n",
              "      box-shadow: 0px 1px 2px rgba(60, 64, 67, 0.3), 0px 1px 3px 1px rgba(60, 64, 67, 0.15);\n",
              "      fill: #174EA6;\n",
              "    }\n",
              "\n",
              "    [theme=dark] .colab-df-convert {\n",
              "      background-color: #3B4455;\n",
              "      fill: #D2E3FC;\n",
              "    }\n",
              "\n",
              "    [theme=dark] .colab-df-convert:hover {\n",
              "      background-color: #434B5C;\n",
              "      box-shadow: 0px 1px 3px 1px rgba(0, 0, 0, 0.15);\n",
              "      filter: drop-shadow(0px 1px 2px rgba(0, 0, 0, 0.3));\n",
              "      fill: #FFFFFF;\n",
              "    }\n",
              "  </style>\n",
              "\n",
              "      <script>\n",
              "        const buttonEl =\n",
              "          document.querySelector('#df-2080cb92-7aad-4792-9c53-40bf5720f0e7 button.colab-df-convert');\n",
              "        buttonEl.style.display =\n",
              "          google.colab.kernel.accessAllowed ? 'block' : 'none';\n",
              "\n",
              "        async function convertToInteractive(key) {\n",
              "          const element = document.querySelector('#df-2080cb92-7aad-4792-9c53-40bf5720f0e7');\n",
              "          const dataTable =\n",
              "            await google.colab.kernel.invokeFunction('convertToInteractive',\n",
              "                                                     [key], {});\n",
              "          if (!dataTable) return;\n",
              "\n",
              "          const docLinkHtml = 'Like what you see? Visit the ' +\n",
              "            '<a target=\"_blank\" href=https://colab.research.google.com/notebooks/data_table.ipynb>data table notebook</a>'\n",
              "            + ' to learn more about interactive tables.';\n",
              "          element.innerHTML = '';\n",
              "          dataTable['output_type'] = 'display_data';\n",
              "          await google.colab.output.renderOutput(dataTable, element);\n",
              "          const docLink = document.createElement('div');\n",
              "          docLink.innerHTML = docLinkHtml;\n",
              "          element.appendChild(docLink);\n",
              "        }\n",
              "      </script>\n",
              "    </div>\n",
              "  </div>\n",
              "  "
            ]
          },
          "metadata": {},
          "execution_count": 372
        }
      ]
    },
    {
      "cell_type": "code",
      "source": [
        "# plot the forecast\n",
        "plt.figure(100, figsize=(20, 7))\n",
        "sns.set(font_scale=1.3)\n",
        "p = sns.lineplot(x = \"date\", y = \"Q80\", data = dfY, palette=\"coolwarm\")\n",
        "sns.lineplot(x = \"date\", y = \"Actual\", data = dfY, palette=\"coolwarm\")\n",
        "plt.legend(labels=[\"forecast Q50\", \"actual\"])\n",
        "p.set_ylabel(\"predict\")\n",
        "p.set_xlabel(\"actual\")\n",
        "p.set_title(\"test set\");"
      ],
      "metadata": {
        "outputId": "763ef630-39f0-4843-da7c-8c9444cfff59",
        "colab": {
          "base_uri": "https://localhost:8080/",
          "height": 348
        },
        "id": "XZcWHHFv1V1z"
      },
      "execution_count": 373,
      "outputs": [
        {
          "output_type": "display_data",
          "data": {
            "text/plain": [
              "<Figure size 1440x504 with 1 Axes>"
            ],
            "image/png": "[encoded data removed]"
          },
          "metadata": {}
        }
      ]
    },
    {
      "cell_type": "code",
      "source": [
        "plt.plot(df_merged_IN['cases_ppm'])"
      ],
      "metadata": {
        "id": "BRpsdbKd39p4",
        "outputId": "b7cdc6af-e0cd-4eda-bd37-23bc9edb9d72",
        "colab": {
          "base_uri": "https://localhost:8080/",
          "height": 290
        }
      },
      "execution_count": 392,
      "outputs": [
        {
          "output_type": "execute_result",
          "data": {
            "text/plain": [
              "[<matplotlib.lines.Line2D at 0x7fbec0f48210>]"
            ]
          },
          "metadata": {},
          "execution_count": 392
        },
        {
          "output_type": "display_data",
          "data": {
            "text/plain": [
              "<Figure size 432x288 with 1 Axes>"
            ],
            "image/png": "[encoded data removed]"
          },
          "metadata": {}
        }
      ]
    },
    {
      "cell_type": "code",
      "source": [
        "plt.plot(df_merged_IN['workplaces_percent_change_from_baseline'])"
      ],
      "metadata": {
        "id": "gcZaWABYOvv8",
        "outputId": "57e2372e-85ba-4dc6-e0b6-1b66f257bf2e",
        "colab": {
          "base_uri": "https://localhost:8080/",
          "height": 290
        }
      },
      "execution_count": 391,
      "outputs": [
        {
          "output_type": "execute_result",
          "data": {
            "text/plain": [
              "[<matplotlib.lines.Line2D at 0x7fbec653c110>]"
            ]
          },
          "metadata": {},
          "execution_count": 391
        },
        {
          "output_type": "display_data",
          "data": {
            "text/plain": [
              "<Figure size 432x288 with 1 Axes>"
            ],
            "image/png": "[encoded data removed]"
          },
          "metadata": {}
        }
      ]
    },
    {
      "cell_type": "code",
      "source": [
        "df_sub.dtypes"
      ],
      "metadata": {
        "id": "ct5cjKHzOz2T",
        "outputId": "8187dcc6-aaa1-422a-9092-6af3398903a1",
        "colab": {
          "base_uri": "https://localhost:8080/"
        }
      },
      "execution_count": 375,
      "outputs": [
        {
          "output_type": "execute_result",
          "data": {
            "text/plain": [
              "deaths_ppm                                                   float64\n",
              "cases_ppm                                                    float64\n",
              "percentage_vaccinated                                        float64\n",
              "workplaces_percent_change_from_baseline                      float64\n",
              "residential_percent_change_from_baseline                     float64\n",
              "lockdown_index                                               float64\n",
              "date                                                  datetime64[ns]\n",
              "retail_and_recreation_percent_change_from_baseline           float64\n",
              "grocery_and_pharmacy_percent_change_from_baseline            float64\n",
              "parks_percent_change_from_baseline                           float64\n",
              "residential_percent_change_from_baseline                     float64\n",
              "dtype: object"
            ]
          },
          "metadata": {},
          "execution_count": 375
        }
      ]
    },
    {
      "cell_type": "code",
      "source": [
        ""
      ],
      "metadata": {
        "id": "2y-YikhBO0-e"
      },
      "execution_count": null,
      "outputs": []
    }
  ]
}