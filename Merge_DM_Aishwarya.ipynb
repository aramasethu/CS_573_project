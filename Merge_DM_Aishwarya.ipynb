{
  "nbformat": 4,
  "nbformat_minor": 0,
  "metadata": {
    "colab": {
      "name": "Merge_DM_Aishwarya.ipynb",
      "provenance": [],
      "include_colab_link": true
    },
    "kernelspec": {
      "name": "python3",
      "display_name": "Python 3"
    },
    "language_info": {
      "name": "python"
    }
  },
  "cells": [
    {
      "cell_type": "markdown",
      "metadata": {
        "id": "view-in-github",
        "colab_type": "text"
      },
      "source": [
        "<a href=\"https://colab.research.google.com/github/aramasethu/CS_573_project/blob/main/Merge_DM_Aishwarya.ipynb\" target=\"_parent\"><img src=\"https://colab.research.google.com/assets/colab-badge.svg\" alt=\"Open In Colab\"/></a>"
      ]
    },
    {
      "cell_type": "markdown",
      "source": [
        "## Mounting google drive"
      ],
      "metadata": {
        "id": "Vii_9x1-r8_3"
      }
    },
    {
      "cell_type": "code",
      "source": [
        "import pandas as pd\n",
        "import numpy as np\n",
        "from matplotlib import pyplot as plt"
      ],
      "metadata": {
        "id": "oYKymfFysBYM"
      },
      "execution_count": null,
      "outputs": []
    },
    {
      "cell_type": "code",
      "source": [
        "from google.colab import drive\n",
        "drive.mount('/content/drive')"
      ],
      "metadata": {
        "colab": {
          "base_uri": "https://localhost:8080/"
        },
        "id": "z45HXL30sGFi",
        "outputId": "8f25e778-cfd2-4e49-b8d1-a3397285e429"
      },
      "execution_count": null,
      "outputs": [
        {
          "output_type": "stream",
          "name": "stdout",
          "text": [
            "Drive already mounted at /content/drive; to attempt to forcibly remount, call drive.mount(\"/content/drive\", force_remount=True).\n"
          ]
        }
      ]
    },
    {
      "cell_type": "markdown",
      "source": [
        "## Mobility data"
      ],
      "metadata": {
        "id": "NsyztHaEsZ3i"
      }
    },
    {
      "cell_type": "code",
      "source": [
        "mobility = pd.read_csv (r'/content/drive/MyDrive/CS_573_Group_project/Data/Global_Mobility_Report.csv')"
      ],
      "metadata": {
        "colab": {
          "base_uri": "https://localhost:8080/"
        },
        "id": "iA4uDmmAsIrx",
        "outputId": "30b623ea-b9e8-4342-91cf-daea4fc7df75"
      },
      "execution_count": null,
      "outputs": [
        {
          "output_type": "stream",
          "name": "stderr",
          "text": [
            "/usr/local/lib/python3.7/dist-packages/IPython/core/interactiveshell.py:2882: DtypeWarning: Columns (3,4,5) have mixed types.Specify dtype option on import or set low_memory=False.\n",
            "  exec(code_obj, self.user_global_ns, self.user_ns)\n"
          ]
        }
      ]
    },
    {
      "cell_type": "code",
      "source": [
        "mobility_country1 = mobility[mobility['sub_region_1'].isna()]\n",
        "mobility_country = mobility_country1[mobility_country1['metro_area'].isna()]"
      ],
      "metadata": {
        "id": "RUdKB5X4sLGC"
      },
      "execution_count": null,
      "outputs": []
    },
    {
      "cell_type": "code",
      "source": [
        "mobility_country = mobility_country.drop(columns=['country_region_code','sub_region_1', 'sub_region_2','metro_area', 'iso_3166_2_code','census_fips_code','place_id'])"
      ],
      "metadata": {
        "id": "FTVbyNetsNF6"
      },
      "execution_count": null,
      "outputs": []
    },
    {
      "cell_type": "code",
      "source": [
        "mobility_country['date'] = mobility_country['date'].astype('datetime64[ns]')"
      ],
      "metadata": {
        "id": "-zLNe_hXsPWX"
      },
      "execution_count": null,
      "outputs": []
    },
    {
      "cell_type": "code",
      "source": [
        "mobility_country = mobility_country.rename(columns={ 'country_region': 'country'})"
      ],
      "metadata": {
        "id": "-AkM2piisVNT"
      },
      "execution_count": null,
      "outputs": []
    },
    {
      "cell_type": "markdown",
      "source": [
        "## Vaccination data loading"
      ],
      "metadata": {
        "id": "L41IPJ_0sd3S"
      }
    },
    {
      "cell_type": "code",
      "source": [
        "vec_cases = pd.read_csv(r'/content/drive/MyDrive/CS_573_Group_project/Data/owid-covid-data.csv')"
      ],
      "metadata": {
        "id": "Q6AXhfT1sf94"
      },
      "execution_count": null,
      "outputs": []
    },
    {
      "cell_type": "code",
      "source": [
        "vec_cases_scraped = vec_cases[['location', 'date', 'total_cases', 'total_deaths', 'population',\n",
        "                              'new_vaccinations_smoothed', 'new_people_vaccinated_smoothed']]"
      ],
      "metadata": {
        "id": "Uw6yG2WSsjS6"
      },
      "execution_count": null,
      "outputs": []
    },
    {
      "cell_type": "code",
      "source": [
        "vec_cases_new = vec_cases_scraped.copy()"
      ],
      "metadata": {
        "id": "KiVesiOas0Zn"
      },
      "execution_count": null,
      "outputs": []
    },
    {
      "cell_type": "code",
      "source": [
        "vec_cases_new['total_cases'] = vec_cases_new['total_cases'].replace(np.nan, 0)\n",
        "vec_cases_new['total_deaths'] = vec_cases_new['total_deaths'].replace(np.nan, 0)\n",
        "vec_cases_new['new_vaccinations_smoothed'] = vec_cases_new['new_vaccinations_smoothed'].replace(np.nan, 0)\n",
        "vec_cases_new['new_people_vaccinated_smoothed'] = vec_cases_new['new_people_vaccinated_smoothed'].replace(np.nan, 0)"
      ],
      "metadata": {
        "id": "cpahdFjbsm9u"
      },
      "execution_count": null,
      "outputs": []
    },
    {
      "cell_type": "code",
      "source": [
        "vec_cases_new['date'] = pd.to_datetime(vec_cases_new['date']).dt.strftime('%Y/%m/%d')"
      ],
      "metadata": {
        "id": "6q2e6TD9tkyr"
      },
      "execution_count": null,
      "outputs": []
    },
    {
      "cell_type": "code",
      "source": [
        "vec_cases_new = vec_cases_new.rename(columns={'location': 'country'})"
      ],
      "metadata": {
        "id": "NsHXTYeowc1F"
      },
      "execution_count": null,
      "outputs": []
    },
    {
      "cell_type": "code",
      "source": [
        "vec_cases_new['date'] = vec_cases_new['date'].astype('datetime64[ns]')"
      ],
      "metadata": {
        "id": "iz3WoBUcwhF5"
      },
      "execution_count": null,
      "outputs": []
    },
    {
      "cell_type": "markdown",
      "source": [
        "## Lockdown data"
      ],
      "metadata": {
        "id": "OPFy3QLpwkRY"
      }
    },
    {
      "cell_type": "code",
      "source": [
        "lockdown = pd.read_excel (r'/content/drive/MyDrive/CS_573_Group_project/Data/OxCGRT_timeseries_all.xlsx')"
      ],
      "metadata": {
        "id": "X9cfkVjgwmH7"
      },
      "execution_count": null,
      "outputs": []
    },
    {
      "cell_type": "code",
      "source": [
        "lockdown_new = lockdown.drop(columns={\"country_name\",\"country_code\"})\n",
        "lockdown_new.columns = pd.to_datetime(lockdown_new.columns)"
      ],
      "metadata": {
        "id": "ZkGf02eow4S-"
      },
      "execution_count": null,
      "outputs": []
    },
    {
      "cell_type": "code",
      "source": [
        "lockdown_input = pd.DataFrame(columns=[\"country_name\",\"lockdown_index\",\"date\"])\n",
        "for i in range(lockdown_new.shape[1]):\n",
        "  country = lockdown[{\"country_name\"}]\n",
        "  index = lockdown_new.iloc[:,i]\n",
        "  index_con = pd.concat([country,index], axis=1, ignore_index=True)\n",
        "  index_con[\"date\"] = index.name\n",
        "  index_con = index_con.rename(columns={0: 'country_name',  1: 'lockdown_index'})\n",
        "  lockdown_input = pd.concat([lockdown_input,index_con],ignore_index=True)"
      ],
      "metadata": {
        "id": "ZA2YQSFPw6Dg"
      },
      "execution_count": 50,
      "outputs": []
    },
    {
      "cell_type": "code",
      "source": [
        "lockdown_input = lockdown_input.sort_values('country_name',ascending=True)"
      ],
      "metadata": {
        "id": "SKzdhKOGw71r"
      },
      "execution_count": 51,
      "outputs": []
    },
    {
      "cell_type": "code",
      "source": [
        "lockdown_input = lockdown_input.rename(columns={\"country_name\":\"country\"})"
      ],
      "metadata": {
        "id": "JkccBzVew9Rw"
      },
      "execution_count": 52,
      "outputs": []
    },
    {
      "cell_type": "markdown",
      "source": [
        "## Merge all datasets"
      ],
      "metadata": {
        "id": "fUId34P0xNAY"
      }
    },
    {
      "cell_type": "code",
      "source": [
        "df_merged1 = vec_cases_new.merge(mobility_country, on=['country', 'date'])"
      ],
      "metadata": {
        "id": "Deh1go8DxO1Z"
      },
      "execution_count": 53,
      "outputs": []
    },
    {
      "cell_type": "code",
      "source": [
        "df_merged1.shape"
      ],
      "metadata": {
        "colab": {
          "base_uri": "https://localhost:8080/"
        },
        "id": "HI1GUwaSxhbd",
        "outputId": "cebcebf9-63ef-4b93-87dc-67436f914a9c"
      },
      "execution_count": 54,
      "outputs": [
        {
          "output_type": "execute_result",
          "data": {
            "text/plain": [
              "(97134, 13)"
            ]
          },
          "metadata": {},
          "execution_count": 54
        }
      ]
    },
    {
      "cell_type": "code",
      "source": [
        "df_merged = df_merged1.merge(lockdown_input, on=['country', 'date'])"
      ],
      "metadata": {
        "id": "gmGaY3qIxYD8"
      },
      "execution_count": 55,
      "outputs": []
    },
    {
      "cell_type": "code",
      "source": [
        "df_merged.shape"
      ],
      "metadata": {
        "colab": {
          "base_uri": "https://localhost:8080/"
        },
        "id": "dDYOigp5xkq4",
        "outputId": "71cba791-a914-40ed-872b-f5caf6aa28a5"
      },
      "execution_count": 56,
      "outputs": [
        {
          "output_type": "execute_result",
          "data": {
            "text/plain": [
              "(92719, 14)"
            ]
          },
          "metadata": {},
          "execution_count": 56
        }
      ]
    },
    {
      "cell_type": "code",
      "source": [
        "df_merged.head()"
      ],
      "metadata": {
        "colab": {
          "base_uri": "https://localhost:8080/",
          "height": 357
        },
        "id": "F7UfkZfvxtIq",
        "outputId": "33b328fb-a66d-42d3-e11c-d54e7adc3fae"
      },
      "execution_count": 57,
      "outputs": [
        {
          "output_type": "execute_result",
          "data": {
            "text/plain": [
              "       country       date  total_cases  total_deaths  population  \\\n",
              "0  Afghanistan 2020-02-24          5.0           0.0  39835428.0   \n",
              "1  Afghanistan 2020-02-25          5.0           0.0  39835428.0   \n",
              "2  Afghanistan 2020-02-26          5.0           0.0  39835428.0   \n",
              "3  Afghanistan 2020-02-27          5.0           0.0  39835428.0   \n",
              "4  Afghanistan 2020-02-28          5.0           0.0  39835428.0   \n",
              "\n",
              "   new_vaccinations_smoothed  new_people_vaccinated_smoothed  \\\n",
              "0                        0.0                             0.0   \n",
              "1                        0.0                             0.0   \n",
              "2                        0.0                             0.0   \n",
              "3                        0.0                             0.0   \n",
              "4                        0.0                             0.0   \n",
              "\n",
              "   retail_and_recreation_percent_change_from_baseline  \\\n",
              "0                                                3.0    \n",
              "1                                                2.0    \n",
              "2                                               -1.0    \n",
              "3                                               -1.0    \n",
              "4                                               -2.0    \n",
              "\n",
              "   grocery_and_pharmacy_percent_change_from_baseline  \\\n",
              "0                                               13.0   \n",
              "1                                                5.0   \n",
              "2                                                5.0   \n",
              "3                                                0.0   \n",
              "4                                                5.0   \n",
              "\n",
              "   parks_percent_change_from_baseline  \\\n",
              "0                                 4.0   \n",
              "1                                 1.0   \n",
              "2                                 2.0   \n",
              "3                                 1.0   \n",
              "4                                 1.0   \n",
              "\n",
              "   transit_stations_percent_change_from_baseline  \\\n",
              "0                                            9.0   \n",
              "1                                            9.0   \n",
              "2                                            3.0   \n",
              "3                                            3.0   \n",
              "4                                            4.0   \n",
              "\n",
              "   workplaces_percent_change_from_baseline  \\\n",
              "0                                      7.0   \n",
              "1                                      7.0   \n",
              "2                                      5.0   \n",
              "3                                      7.0   \n",
              "4                                      5.0   \n",
              "\n",
              "   residential_percent_change_from_baseline  lockdown_index  \n",
              "0                                       0.0            8.33  \n",
              "1                                       0.0            8.33  \n",
              "2                                       1.0            8.33  \n",
              "3                                       2.0            8.33  \n",
              "4                                       2.0            8.33  "
            ],
            "text/html": [
              "\n",
              "  <div id=\"df-83224f2c-7fef-480f-a57e-ed8b714f9c7d\">\n",
              "    <div class=\"colab-df-container\">\n",
              "      <div>\n",
              "<style scoped>\n",
              "    .dataframe tbody tr th:only-of-type {\n",
              "        vertical-align: middle;\n",
              "    }\n",
              "\n",
              "    .dataframe tbody tr th {\n",
              "        vertical-align: top;\n",
              "    }\n",
              "\n",
              "    .dataframe thead th {\n",
              "        text-align: right;\n",
              "    }\n",
              "</style>\n",
              "<table border=\"1\" class=\"dataframe\">\n",
              "  <thead>\n",
              "    <tr style=\"text-align: right;\">\n",
              "      <th></th>\n",
              "      <th>country</th>\n",
              "      <th>date</th>\n",
              "      <th>total_cases</th>\n",
              "      <th>total_deaths</th>\n",
              "      <th>population</th>\n",
              "      <th>new_vaccinations_smoothed</th>\n",
              "      <th>new_people_vaccinated_smoothed</th>\n",
              "      <th>retail_and_recreation_percent_change_from_baseline</th>\n",
              "      <th>grocery_and_pharmacy_percent_change_from_baseline</th>\n",
              "      <th>parks_percent_change_from_baseline</th>\n",
              "      <th>transit_stations_percent_change_from_baseline</th>\n",
              "      <th>workplaces_percent_change_from_baseline</th>\n",
              "      <th>residential_percent_change_from_baseline</th>\n",
              "      <th>lockdown_index</th>\n",
              "    </tr>\n",
              "  </thead>\n",
              "  <tbody>\n",
              "    <tr>\n",
              "      <th>0</th>\n",
              "      <td>Afghanistan</td>\n",
              "      <td>2020-02-24</td>\n",
              "      <td>5.0</td>\n",
              "      <td>0.0</td>\n",
              "      <td>39835428.0</td>\n",
              "      <td>0.0</td>\n",
              "      <td>0.0</td>\n",
              "      <td>3.0</td>\n",
              "      <td>13.0</td>\n",
              "      <td>4.0</td>\n",
              "      <td>9.0</td>\n",
              "      <td>7.0</td>\n",
              "      <td>0.0</td>\n",
              "      <td>8.33</td>\n",
              "    </tr>\n",
              "    <tr>\n",
              "      <th>1</th>\n",
              "      <td>Afghanistan</td>\n",
              "      <td>2020-02-25</td>\n",
              "      <td>5.0</td>\n",
              "      <td>0.0</td>\n",
              "      <td>39835428.0</td>\n",
              "      <td>0.0</td>\n",
              "      <td>0.0</td>\n",
              "      <td>2.0</td>\n",
              "      <td>5.0</td>\n",
              "      <td>1.0</td>\n",
              "      <td>9.0</td>\n",
              "      <td>7.0</td>\n",
              "      <td>0.0</td>\n",
              "      <td>8.33</td>\n",
              "    </tr>\n",
              "    <tr>\n",
              "      <th>2</th>\n",
              "      <td>Afghanistan</td>\n",
              "      <td>2020-02-26</td>\n",
              "      <td>5.0</td>\n",
              "      <td>0.0</td>\n",
              "      <td>39835428.0</td>\n",
              "      <td>0.0</td>\n",
              "      <td>0.0</td>\n",
              "      <td>-1.0</td>\n",
              "      <td>5.0</td>\n",
              "      <td>2.0</td>\n",
              "      <td>3.0</td>\n",
              "      <td>5.0</td>\n",
              "      <td>1.0</td>\n",
              "      <td>8.33</td>\n",
              "    </tr>\n",
              "    <tr>\n",
              "      <th>3</th>\n",
              "      <td>Afghanistan</td>\n",
              "      <td>2020-02-27</td>\n",
              "      <td>5.0</td>\n",
              "      <td>0.0</td>\n",
              "      <td>39835428.0</td>\n",
              "      <td>0.0</td>\n",
              "      <td>0.0</td>\n",
              "      <td>-1.0</td>\n",
              "      <td>0.0</td>\n",
              "      <td>1.0</td>\n",
              "      <td>3.0</td>\n",
              "      <td>7.0</td>\n",
              "      <td>2.0</td>\n",
              "      <td>8.33</td>\n",
              "    </tr>\n",
              "    <tr>\n",
              "      <th>4</th>\n",
              "      <td>Afghanistan</td>\n",
              "      <td>2020-02-28</td>\n",
              "      <td>5.0</td>\n",
              "      <td>0.0</td>\n",
              "      <td>39835428.0</td>\n",
              "      <td>0.0</td>\n",
              "      <td>0.0</td>\n",
              "      <td>-2.0</td>\n",
              "      <td>5.0</td>\n",
              "      <td>1.0</td>\n",
              "      <td>4.0</td>\n",
              "      <td>5.0</td>\n",
              "      <td>2.0</td>\n",
              "      <td>8.33</td>\n",
              "    </tr>\n",
              "  </tbody>\n",
              "</table>\n",
              "</div>\n",
              "      <button class=\"colab-df-convert\" onclick=\"convertToInteractive('df-83224f2c-7fef-480f-a57e-ed8b714f9c7d')\"\n",
              "              title=\"Convert this dataframe to an interactive table.\"\n",
              "              style=\"display:none;\">\n",
              "        \n",
              "  <svg xmlns=\"http://www.w3.org/2000/svg\" height=\"24px\"viewBox=\"0 0 24 24\"\n",
              "       width=\"24px\">\n",
              "    <path d=\"M0 0h24v24H0V0z\" fill=\"none\"/>\n",
              "    <path d=\"M18.56 5.44l.94 2.06.94-2.06 2.06-.94-2.06-.94-.94-2.06-.94 2.06-2.06.94zm-11 1L8.5 8.5l.94-2.06 2.06-.94-2.06-.94L8.5 2.5l-.94 2.06-2.06.94zm10 10l.94 2.06.94-2.06 2.06-.94-2.06-.94-.94-2.06-.94 2.06-2.06.94z\"/><path d=\"M17.41 7.96l-1.37-1.37c-.4-.4-.92-.59-1.43-.59-.52 0-1.04.2-1.43.59L10.3 9.45l-7.72 7.72c-.78.78-.78 2.05 0 2.83L4 21.41c.39.39.9.59 1.41.59.51 0 1.02-.2 1.41-.59l7.78-7.78 2.81-2.81c.8-.78.8-2.07 0-2.86zM5.41 20L4 18.59l7.72-7.72 1.47 1.35L5.41 20z\"/>\n",
              "  </svg>\n",
              "      </button>\n",
              "      \n",
              "  <style>\n",
              "    .colab-df-container {\n",
              "      display:flex;\n",
              "      flex-wrap:wrap;\n",
              "      gap: 12px;\n",
              "    }\n",
              "\n",
              "    .colab-df-convert {\n",
              "      background-color: #E8F0FE;\n",
              "      border: none;\n",
              "      border-radius: 50%;\n",
              "      cursor: pointer;\n",
              "      display: none;\n",
              "      fill: #1967D2;\n",
              "      height: 32px;\n",
              "      padding: 0 0 0 0;\n",
              "      width: 32px;\n",
              "    }\n",
              "\n",
              "    .colab-df-convert:hover {\n",
              "      background-color: #E2EBFA;\n",
              "      box-shadow: 0px 1px 2px rgba(60, 64, 67, 0.3), 0px 1px 3px 1px rgba(60, 64, 67, 0.15);\n",
              "      fill: #174EA6;\n",
              "    }\n",
              "\n",
              "    [theme=dark] .colab-df-convert {\n",
              "      background-color: #3B4455;\n",
              "      fill: #D2E3FC;\n",
              "    }\n",
              "\n",
              "    [theme=dark] .colab-df-convert:hover {\n",
              "      background-color: #434B5C;\n",
              "      box-shadow: 0px 1px 3px 1px rgba(0, 0, 0, 0.15);\n",
              "      filter: drop-shadow(0px 1px 2px rgba(0, 0, 0, 0.3));\n",
              "      fill: #FFFFFF;\n",
              "    }\n",
              "  </style>\n",
              "\n",
              "      <script>\n",
              "        const buttonEl =\n",
              "          document.querySelector('#df-83224f2c-7fef-480f-a57e-ed8b714f9c7d button.colab-df-convert');\n",
              "        buttonEl.style.display =\n",
              "          google.colab.kernel.accessAllowed ? 'block' : 'none';\n",
              "\n",
              "        async function convertToInteractive(key) {\n",
              "          const element = document.querySelector('#df-83224f2c-7fef-480f-a57e-ed8b714f9c7d');\n",
              "          const dataTable =\n",
              "            await google.colab.kernel.invokeFunction('convertToInteractive',\n",
              "                                                     [key], {});\n",
              "          if (!dataTable) return;\n",
              "\n",
              "          const docLinkHtml = 'Like what you see? Visit the ' +\n",
              "            '<a target=\"_blank\" href=https://colab.research.google.com/notebooks/data_table.ipynb>data table notebook</a>'\n",
              "            + ' to learn more about interactive tables.';\n",
              "          element.innerHTML = '';\n",
              "          dataTable['output_type'] = 'display_data';\n",
              "          await google.colab.output.renderOutput(dataTable, element);\n",
              "          const docLink = document.createElement('div');\n",
              "          docLink.innerHTML = docLinkHtml;\n",
              "          element.appendChild(docLink);\n",
              "        }\n",
              "      </script>\n",
              "    </div>\n",
              "  </div>\n",
              "  "
            ]
          },
          "metadata": {},
          "execution_count": 57
        }
      ]
    },
    {
      "cell_type": "code",
      "source": [
        ""
      ],
      "metadata": {
        "id": "Vs2zpphWxuJ4"
      },
      "execution_count": null,
      "outputs": []
    }
  ]
}