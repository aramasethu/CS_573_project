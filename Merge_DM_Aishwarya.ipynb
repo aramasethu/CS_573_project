{
  "nbformat": 4,
  "nbformat_minor": 0,
  "metadata": {
    "colab": {
      "name": "Merge_DM_Aishwarya.ipynb",
      "provenance": [],
      "include_colab_link": true
    },
    "kernelspec": {
      "name": "python3",
      "display_name": "Python 3"
    },
    "language_info": {
      "name": "python"
    }
  },
  "cells": [
    {
      "cell_type": "markdown",
      "metadata": {
        "id": "view-in-github",
        "colab_type": "text"
      },
      "source": [
        "<a href=\"https://colab.research.google.com/github/aramasethu/CS_573_project/blob/main/Merge_DM_Aishwarya.ipynb\" target=\"_parent\"><img src=\"https://colab.research.google.com/assets/colab-badge.svg\" alt=\"Open In Colab\"/></a>"
      ]
    },
    {
      "cell_type": "markdown",
      "source": [
        "## Mounting google drive"
      ],
      "metadata": {
        "id": "Vii_9x1-r8_3"
      }
    },
    {
      "cell_type": "code",
      "source": [
        "import pandas as pd\n",
        "import numpy as np\n",
        "from matplotlib import pyplot as plt"
      ],
      "metadata": {
        "id": "oYKymfFysBYM"
      },
      "execution_count": 1,
      "outputs": []
    },
    {
      "cell_type": "code",
      "source": [
        "from google.colab import drive\n",
        "drive.mount('/content/drive')"
      ],
      "metadata": {
        "colab": {
          "base_uri": "https://localhost:8080/"
        },
        "id": "z45HXL30sGFi",
        "outputId": "5ceb0fda-0c8e-495c-b9c6-b04902068bb5"
      },
      "execution_count": 2,
      "outputs": [
        {
          "output_type": "stream",
          "name": "stdout",
          "text": [
            "Mounted at /content/drive\n"
          ]
        }
      ]
    },
    {
      "cell_type": "markdown",
      "source": [
        "## Mobility data"
      ],
      "metadata": {
        "id": "NsyztHaEsZ3i"
      }
    },
    {
      "cell_type": "code",
      "source": [
        "mobility = pd.read_csv (r'/content/drive/MyDrive/CS_573_Group_project/Data/Global_Mobility_Report.csv')"
      ],
      "metadata": {
        "colab": {
          "base_uri": "https://localhost:8080/"
        },
        "id": "iA4uDmmAsIrx",
        "outputId": "bb06332f-ca15-4534-ce62-4248275b3138"
      },
      "execution_count": 3,
      "outputs": [
        {
          "output_type": "stream",
          "name": "stderr",
          "text": [
            "/usr/local/lib/python3.7/dist-packages/IPython/core/interactiveshell.py:2882: DtypeWarning: Columns (3,4,5) have mixed types.Specify dtype option on import or set low_memory=False.\n",
            "  exec(code_obj, self.user_global_ns, self.user_ns)\n"
          ]
        }
      ]
    },
    {
      "cell_type": "code",
      "source": [
        "mobility_country1 = mobility[mobility['sub_region_1'].isna()]\n",
        "mobility_country = mobility_country1[mobility_country1['metro_area'].isna()]"
      ],
      "metadata": {
        "id": "RUdKB5X4sLGC"
      },
      "execution_count": 4,
      "outputs": []
    },
    {
      "cell_type": "code",
      "source": [
        "mobility_country = mobility_country.drop(columns=['country_region_code','sub_region_1', 'sub_region_2','metro_area', 'iso_3166_2_code','census_fips_code','place_id'])"
      ],
      "metadata": {
        "id": "FTVbyNetsNF6"
      },
      "execution_count": 5,
      "outputs": []
    },
    {
      "cell_type": "code",
      "source": [
        "mobility_country['date'] = mobility_country['date'].astype('datetime64[ns]')"
      ],
      "metadata": {
        "id": "-zLNe_hXsPWX"
      },
      "execution_count": 6,
      "outputs": []
    },
    {
      "cell_type": "code",
      "source": [
        "mobility_country = mobility_country.rename(columns={ 'country_region': 'country'})"
      ],
      "metadata": {
        "id": "-AkM2piisVNT"
      },
      "execution_count": 7,
      "outputs": []
    },
    {
      "cell_type": "markdown",
      "source": [
        "## Vaccination data loading"
      ],
      "metadata": {
        "id": "L41IPJ_0sd3S"
      }
    },
    {
      "cell_type": "code",
      "source": [
        "vec_cases = pd.read_csv(r'/content/drive/MyDrive/CS_573_Group_project/Data/owid-covid-data.csv')"
      ],
      "metadata": {
        "id": "Q6AXhfT1sf94"
      },
      "execution_count": 8,
      "outputs": []
    },
    {
      "cell_type": "code",
      "source": [
        "vec_cases_scraped = vec_cases[['location', 'date', 'total_cases', 'total_deaths', 'population',\n",
        "                              'new_vaccinations_smoothed', 'new_people_vaccinated_smoothed']]"
      ],
      "metadata": {
        "id": "Uw6yG2WSsjS6"
      },
      "execution_count": 9,
      "outputs": []
    },
    {
      "cell_type": "code",
      "source": [
        "vec_cases_new = vec_cases_scraped.copy()"
      ],
      "metadata": {
        "id": "KiVesiOas0Zn"
      },
      "execution_count": 10,
      "outputs": []
    },
    {
      "cell_type": "code",
      "source": [
        "vec_cases_new['total_cases'] = vec_cases_new['total_cases'].replace(np.nan, 0)\n",
        "vec_cases_new['total_deaths'] = vec_cases_new['total_deaths'].replace(np.nan, 0)\n",
        "vec_cases_new['new_vaccinations_smoothed'] = vec_cases_new['new_vaccinations_smoothed'].replace(np.nan, 0)\n",
        "vec_cases_new['new_people_vaccinated_smoothed'] = vec_cases_new['new_people_vaccinated_smoothed'].replace(np.nan, 0)"
      ],
      "metadata": {
        "id": "cpahdFjbsm9u"
      },
      "execution_count": 11,
      "outputs": []
    },
    {
      "cell_type": "code",
      "source": [
        "vec_cases_new['date'] = pd.to_datetime(vec_cases_new['date']).dt.strftime('%Y/%m/%d')"
      ],
      "metadata": {
        "id": "6q2e6TD9tkyr"
      },
      "execution_count": 12,
      "outputs": []
    },
    {
      "cell_type": "code",
      "source": [
        "vec_cases_new = vec_cases_new.rename(columns={'location': 'country'})"
      ],
      "metadata": {
        "id": "NsHXTYeowc1F"
      },
      "execution_count": 13,
      "outputs": []
    },
    {
      "cell_type": "code",
      "source": [
        "vec_cases_new['date'] = vec_cases_new['date'].astype('datetime64[ns]')"
      ],
      "metadata": {
        "id": "iz3WoBUcwhF5"
      },
      "execution_count": 14,
      "outputs": []
    },
    {
      "cell_type": "markdown",
      "source": [
        "## Lockdown data"
      ],
      "metadata": {
        "id": "OPFy3QLpwkRY"
      }
    },
    {
      "cell_type": "code",
      "source": [
        "lockdown = pd.read_excel (r'/content/drive/MyDrive/CS_573_Group_project/Data/OxCGRT_timeseries_all.xlsx')"
      ],
      "metadata": {
        "id": "X9cfkVjgwmH7"
      },
      "execution_count": 15,
      "outputs": []
    },
    {
      "cell_type": "code",
      "source": [
        "lockdown_new = lockdown.drop(columns={\"country_name\",\"country_code\"})\n",
        "lockdown_new.columns = pd.to_datetime(lockdown_new.columns)"
      ],
      "metadata": {
        "id": "ZkGf02eow4S-"
      },
      "execution_count": 16,
      "outputs": []
    },
    {
      "cell_type": "code",
      "source": [
        "lockdown_input = pd.DataFrame(columns=[\"country_name\",\"lockdown_index\",\"date\"])\n",
        "for i in range(lockdown_new.shape[1]):\n",
        "  country = lockdown[{\"country_name\"}]\n",
        "  index = lockdown_new.iloc[:,i]\n",
        "  index_con = pd.concat([country,index], axis=1, ignore_index=True)\n",
        "  index_con[\"date\"] = index.name\n",
        "  index_con = index_con.rename(columns={0: 'country_name',  1: 'lockdown_index'})\n",
        "  lockdown_input = pd.concat([lockdown_input,index_con],ignore_index=True)"
      ],
      "metadata": {
        "id": "ZA2YQSFPw6Dg"
      },
      "execution_count": 17,
      "outputs": []
    },
    {
      "cell_type": "code",
      "source": [
        "lockdown_input = lockdown_input.sort_values('country_name',ascending=True)"
      ],
      "metadata": {
        "id": "SKzdhKOGw71r"
      },
      "execution_count": 18,
      "outputs": []
    },
    {
      "cell_type": "code",
      "source": [
        "lockdown_input = lockdown_input.rename(columns={\"country_name\":\"country\"})"
      ],
      "metadata": {
        "id": "JkccBzVew9Rw"
      },
      "execution_count": 19,
      "outputs": []
    },
    {
      "cell_type": "markdown",
      "source": [
        "## Merge all datasets"
      ],
      "metadata": {
        "id": "fUId34P0xNAY"
      }
    },
    {
      "cell_type": "code",
      "source": [
        "df_merged1 = vec_cases_new.merge(mobility_country, on=['country', 'date'])"
      ],
      "metadata": {
        "id": "Deh1go8DxO1Z"
      },
      "execution_count": 20,
      "outputs": []
    },
    {
      "cell_type": "code",
      "source": [
        "df_merged1.shape"
      ],
      "metadata": {
        "colab": {
          "base_uri": "https://localhost:8080/"
        },
        "id": "HI1GUwaSxhbd",
        "outputId": "72664b8e-b544-4dae-81b8-e326e0c46c13"
      },
      "execution_count": 21,
      "outputs": [
        {
          "output_type": "execute_result",
          "data": {
            "text/plain": [
              "(97134, 13)"
            ]
          },
          "metadata": {},
          "execution_count": 21
        }
      ]
    },
    {
      "cell_type": "code",
      "source": [
        "df_merged = df_merged1.merge(lockdown_input, on=['country', 'date'])"
      ],
      "metadata": {
        "id": "gmGaY3qIxYD8"
      },
      "execution_count": 22,
      "outputs": []
    },
    {
      "cell_type": "code",
      "source": [
        "df_merged['weekday'] = df_merged['date'].dt.dayofweek"
      ],
      "metadata": {
        "id": "dDYOigp5xkq4"
      },
      "execution_count": 23,
      "outputs": []
    },
    {
      "cell_type": "code",
      "source": [
        "# cases\n",
        "df_merged = df_merged.sort_values(by=['country', 'date'])\n",
        "df_merged['new_cases_raw']=df_merged.groupby(['country'])['total_cases'].diff().fillna(0)\n",
        "df_merged['cases_ppm'] = (df_merged['new_cases_raw'] / df_merged['population'])*1000000\n",
        "\n",
        "# deaths\n",
        "df_merged['new_deaths_raw']=df_merged.groupby(['country'])['total_deaths'].diff().fillna(0)\n",
        "df_merged['deaths_ppm'] = (df_merged['new_deaths_raw'] / df_merged['population'])*1000000\n",
        "\n",
        "# vaccination cumulative\n",
        "df_merged['total_vaccinations'] = df_merged.groupby(['country'])['new_people_vaccinated_smoothed'].cumsum()\n"
      ],
      "metadata": {
        "id": "RoQTQKTRhuVg"
      },
      "execution_count": 26,
      "outputs": []
    },
    {
      "cell_type": "code",
      "source": [
        ""
      ],
      "metadata": {
        "id": "e44vsQxwZXsa"
      },
      "execution_count": null,
      "outputs": []
    },
    {
      "cell_type": "markdown",
      "source": [
        "### test-train-validation split\n"
      ],
      "metadata": {
        "id": "m84JFL9FX9pP"
      }
    },
    {
      "cell_type": "code",
      "source": [
        "from sklearn.model_selection import train_test_split\n",
        "def train_test_split_udf (df, frac):\n",
        "    X_train, X_test = train_test_split(df, test_size=(frac), random_state=22)\n",
        "    return X_train, X_test"
      ],
      "metadata": {
        "id": "8FSx8kxnYF-a"
      },
      "execution_count": 27,
      "outputs": []
    },
    {
      "cell_type": "code",
      "source": [
        "df_train_1, df_test_1 = train_test_split_udf (df_merged, 0.2)\n",
        "df_train_2, df_val_1 = train_test_split_udf (df_train_1, 0.125)"
      ],
      "metadata": {
        "id": "Q67JdJsqYJ4f"
      },
      "execution_count": 28,
      "outputs": []
    }
  ]
}